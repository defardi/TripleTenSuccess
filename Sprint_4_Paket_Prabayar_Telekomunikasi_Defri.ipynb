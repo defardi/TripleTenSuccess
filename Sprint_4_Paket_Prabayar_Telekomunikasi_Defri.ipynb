{
 "cells": [
  {
   "cell_type": "markdown",
   "metadata": {},
   "source": [
    "# Paket Prabayar Manakah yang Lebih Baik?\n",
    "\n",
    "Anda bekerja sebagai seorang analis di perusahaan operator telekomunikasi bernama Megaline. Perusahaan tersebut menawarkan kliennya dua jenis paket prabayar, yaitu paket Surf dan paket Ultimate. Departemen periklanan ingin mengetahui paket prabayar mana yang menghasilkan lebih banyak pendapatan, sehingga mereka bisa membuat anggaran iklan yang sesuai.\n",
    "\n",
    "Anda akan melakukan analisis awal untuk paket-paket prabayar tersebut berdasarkan sampel klien yang berukuran relatif kecil. Anda memiliki 500 data klien Megaline, yang berisi informasi seperti: siapa mereka, dari mana asalnya, jenis paket apa yang mereka gunakan, serta jumlah panggilan dan pesan yang mereka kirim di tahun 2018. Tugas Anda adalah untuk menganalisis perilaku para pengguna, lalu menentukan paket prabayar manakah yang lebih menguntungkan."
   ]
  },
  {
   "cell_type": "markdown",
   "metadata": {},
   "source": [
    "Tujuan :\n",
    "    Mencari dan mengetahui perilaku pengguna klien Megaline untuk menentukan paket prabayar (surf dan ultimate) manakah yang lebih menguntungkan? Serta mencari tahu pendapatan paling tinggi untuk di wilayah NY-NJ dengan wilayah lain."
   ]
  },
  {
   "cell_type": "markdown",
   "metadata": {},
   "source": [
    "Kerangka konsep : \n",
    "   1. Mempersiapkan Data\n",
    "   2. Memperbaiki dan Memperkaya kualitas data (Plan, User, Call, Internet, SMS)\n",
    "   3. Mengagregasikan data final\n",
    "   4. Menganalisis data, dengan mempelajari perilaku pengguna berdasarkan pendapatan dari setiap paket\n",
    "   5. Menguji Hipotesis Statistik\n",
    "   6. Kesimpulan umum"
   ]
  },
  {
   "cell_type": "markdown",
   "metadata": {},
   "source": [
    "## Deskripsi data"
   ]
  },
  {
   "cell_type": "markdown",
   "metadata": {},
   "source": [
    "Tabel **internet** (data sesi web):\n",
    "   - `id` — ID sesi web unik\n",
    "   - `mb_used` — volume data yang dihabiskan selama sesi (dalam megabyte)\n",
    "   - `session_date` — anggal sesi web\n",
    "   - `user_id` — ID pengguna"
   ]
  },
  {
   "cell_type": "markdown",
   "metadata": {},
   "source": [
    "Tabel **calls** (data panggilan):\n",
    "   - `id` — ID panggilan unik\n",
    "   - `call_date` — tanggal panggilan\n",
    "   - `duration` — durasi panggilan (dalam menit)\n",
    "   - `user_id` — ID pengguna yang melakukan panggilan"
   ]
  },
  {
   "cell_type": "markdown",
   "metadata": {},
   "source": [
    "Tabel **messages** (data SMS):\n",
    "   - `id` — ID SMS unik\n",
    "   - `messages_date` — tanggal SMS dikirim\n",
    "   - `user_id` — ID pengguna yang mengirim SMS"
   ]
  },
  {
   "cell_type": "markdown",
   "metadata": {},
   "source": [
    "Tabel **plans** (data paket telepon):\n",
    "   - `plan_name` — nama paket telepon\n",
    "   - `usd_monthly_fee` — biaya bulanan dalam dolar AS\n",
    "   - `minutes_included` — alokasi menit panggilan bulanan\n",
    "   - `messages_included` — alokasi SMS bulanan\n",
    "   - `mb_per_month_included` — alokasi volume data bulanan (dalam megabyte)\n",
    "   - `usd_per_minute` — harga per menit jika sudah melebihi batas alokasi paket (misalnya, jika paket memiliki alokasi 100 menit maka penggunaan mulai dari menit ke-101 akan dikenakan biaya\n",
    "   - `usd_per_message` — harga per SMS jika sudah melebihi batas alokasi paket\n",
    "   - `usd_per_gb` — harga per gigabyte data tambahan jika sudah melebihi batas alokasi paket (1 GB = 1024 megabyte)"
   ]
  },
  {
   "cell_type": "markdown",
   "metadata": {},
   "source": [
    "Tabel **users** (data pengguna):\n",
    "   - `user_id` — ID pengguna\n",
    "   - `first_name` — nama depan pengguna\n",
    "   - `last_name` — nama belakang pengguna\n",
    "   - `age` — usia pengguna (tahun)\n",
    "   - `reg_date` — tanggal mulai berlangganan (dd, mm, yy)\n",
    "   - `churn_date` — tanggal pengguna berhenti menggunakan layanan (jika nilainya tidak ada, berarti paket telepon sedang digunakan saat data ini dibuat)\n",
    "   - `city` — kota tempat tinggal pengguna\n",
    "   - `plan` — nama paket telepon"
   ]
  },
  {
   "cell_type": "markdown",
   "metadata": {},
   "source": [
    "## Inisialisasi"
   ]
  },
  {
   "cell_type": "markdown",
   "metadata": {},
   "source": [
    "Import dictionary"
   ]
  },
  {
   "cell_type": "code",
   "execution_count": 239,
   "metadata": {},
   "outputs": [],
   "source": [
    "import pandas as pd \n",
    "import matplotlib.pyplot as plt\n",
    "import numpy as np\n",
    "import seaborn as sns"
   ]
  },
  {
   "cell_type": "markdown",
   "metadata": {},
   "source": [
    "## Memuat Data"
   ]
  },
  {
   "cell_type": "markdown",
   "metadata": {},
   "source": [
    "Memuat semua data yang diperlukan"
   ]
  },
  {
   "cell_type": "code",
   "execution_count": 240,
   "metadata": {
    "scrolled": false
   },
   "outputs": [],
   "source": [
    "data_internet = pd.read_csv('megaline_internet.csv') "
   ]
  },
  {
   "cell_type": "code",
   "execution_count": 241,
   "metadata": {},
   "outputs": [],
   "source": [
    "data_calls = pd.read_csv('megaline_calls.csv')"
   ]
  },
  {
   "cell_type": "code",
   "execution_count": 242,
   "metadata": {},
   "outputs": [],
   "source": [
    "data_messages = pd.read_csv('megaline_messages.csv')"
   ]
  },
  {
   "cell_type": "code",
   "execution_count": 243,
   "metadata": {},
   "outputs": [],
   "source": [
    "data_plans = pd.read_csv('megaline_plans.csv')"
   ]
  },
  {
   "cell_type": "code",
   "execution_count": 244,
   "metadata": {},
   "outputs": [],
   "source": [
    "data_users = pd.read_csv('megaline_users.csv')"
   ]
  },
  {
   "cell_type": "markdown",
   "metadata": {},
   "source": [
    "## Mempersiapkan Data"
   ]
  },
  {
   "cell_type": "markdown",
   "metadata": {},
   "source": [
    "Mempersiapkan dan membersihkan data termasuk nilai hilang, tipe data yang tak sesuai, atau juga ilai duplikatnya. Sekaligus memperkaya kualitas data dengan menambahkan beberapa variabel yang lebih ringkas untuk memudahkan penganalisisan data."
   ]
  },
  {
   "cell_type": "markdown",
   "metadata": {},
   "source": [
    "## Paket Prabayar"
   ]
  },
  {
   "cell_type": "code",
   "execution_count": 245,
   "metadata": {},
   "outputs": [
    {
     "name": "stdout",
     "output_type": "stream",
     "text": [
      "<class 'pandas.core.frame.DataFrame'>\n",
      "RangeIndex: 2 entries, 0 to 1\n",
      "Data columns (total 8 columns):\n",
      " #   Column                 Non-Null Count  Dtype  \n",
      "---  ------                 --------------  -----  \n",
      " 0   messages_included      2 non-null      int64  \n",
      " 1   mb_per_month_included  2 non-null      int64  \n",
      " 2   minutes_included       2 non-null      int64  \n",
      " 3   usd_monthly_pay        2 non-null      int64  \n",
      " 4   usd_per_gb             2 non-null      int64  \n",
      " 5   usd_per_message        2 non-null      float64\n",
      " 6   usd_per_minute         2 non-null      float64\n",
      " 7   plan_name              2 non-null      object \n",
      "dtypes: float64(2), int64(5), object(1)\n",
      "memory usage: 256.0+ bytes\n"
     ]
    }
   ],
   "source": [
    "data_plans.info()"
   ]
  },
  {
   "cell_type": "code",
   "execution_count": 246,
   "metadata": {
    "scrolled": true
   },
   "outputs": [
    {
     "data": {
      "text/html": [
       "<div>\n",
       "<style scoped>\n",
       "    .dataframe tbody tr th:only-of-type {\n",
       "        vertical-align: middle;\n",
       "    }\n",
       "\n",
       "    .dataframe tbody tr th {\n",
       "        vertical-align: top;\n",
       "    }\n",
       "\n",
       "    .dataframe thead th {\n",
       "        text-align: right;\n",
       "    }\n",
       "</style>\n",
       "<table border=\"1\" class=\"dataframe\">\n",
       "  <thead>\n",
       "    <tr style=\"text-align: right;\">\n",
       "      <th></th>\n",
       "      <th>messages_included</th>\n",
       "      <th>mb_per_month_included</th>\n",
       "      <th>minutes_included</th>\n",
       "      <th>usd_monthly_pay</th>\n",
       "      <th>usd_per_gb</th>\n",
       "      <th>usd_per_message</th>\n",
       "      <th>usd_per_minute</th>\n",
       "      <th>plan_name</th>\n",
       "    </tr>\n",
       "  </thead>\n",
       "  <tbody>\n",
       "    <tr>\n",
       "      <th>0</th>\n",
       "      <td>50</td>\n",
       "      <td>15360</td>\n",
       "      <td>500</td>\n",
       "      <td>20</td>\n",
       "      <td>10</td>\n",
       "      <td>0.03</td>\n",
       "      <td>0.03</td>\n",
       "      <td>surf</td>\n",
       "    </tr>\n",
       "    <tr>\n",
       "      <th>1</th>\n",
       "      <td>1000</td>\n",
       "      <td>30720</td>\n",
       "      <td>3000</td>\n",
       "      <td>70</td>\n",
       "      <td>7</td>\n",
       "      <td>0.01</td>\n",
       "      <td>0.01</td>\n",
       "      <td>ultimate</td>\n",
       "    </tr>\n",
       "  </tbody>\n",
       "</table>\n",
       "</div>"
      ],
      "text/plain": [
       "   messages_included  mb_per_month_included  minutes_included  \\\n",
       "0                 50                  15360               500   \n",
       "1               1000                  30720              3000   \n",
       "\n",
       "   usd_monthly_pay  usd_per_gb  usd_per_message  usd_per_minute plan_name  \n",
       "0               20          10             0.03            0.03      surf  \n",
       "1               70           7             0.01            0.01  ultimate  "
      ]
     },
     "execution_count": 246,
     "metadata": {},
     "output_type": "execute_result"
    }
   ],
   "source": [
    "data_plans"
   ]
  },
  {
   "cell_type": "markdown",
   "metadata": {},
   "source": [
    "Berdasarkan pada tabel data_plan info kita bisa mengetahui bahwa data hanya memiliki 2 baris yang dimana ini merupakan tabel untuk setiap paket dari Surf maupun Ultimate. Untuk tipe data yang digunakan juga sudah sesuai, hanya beberapa kolom yang perlu kita ubah seperti kolom usd_monthly_pay yang akan kita ubah ke float dimana ini menunjukkan harga. Pada data yang hilang maupun duplikat juga tidak ditemukan. Perbaikan yang perlu dilakukan hanya memperkaya kualitas datanya seperti pada kolom mb_per_month_included yang akan kita ubah menjadi GB (gigabyte) karena pada kolom usd_per_gb menggunakan GB."
   ]
  },
  {
   "cell_type": "markdown",
   "metadata": {},
   "source": [
    " "
   ]
  },
  {
   "cell_type": "markdown",
   "metadata": {},
   "source": [
    "### Memperbaiki Data"
   ]
  },
  {
   "cell_type": "markdown",
   "metadata": {},
   "source": [
    "Perbaikan tipe data pada kolom usd_monthly_pay dan usd_per_gb akan di ubah menjadi tipe data float dimana ini menunjukkan harga."
   ]
  },
  {
   "cell_type": "code",
   "execution_count": 247,
   "metadata": {},
   "outputs": [],
   "source": [
    "data_plans['usd_monthly_pay'] = data_plans['usd_monthly_pay'].astype('float')"
   ]
  },
  {
   "cell_type": "code",
   "execution_count": 248,
   "metadata": {},
   "outputs": [],
   "source": [
    "data_plans['usd_per_gb'] = data_plans['usd_per_gb'].astype('float')"
   ]
  },
  {
   "cell_type": "markdown",
   "metadata": {},
   "source": [
    "\n",
    "### Memperkaya Kualitas Data"
   ]
  },
  {
   "cell_type": "markdown",
   "metadata": {},
   "source": [
    "Kita perlu menambahkan variabel gb_per_month_included sebagai bentuk pembulatan daripada kolom mb_per_month_included dengan cara membagi nilainya dengan 1024 dalam GB."
   ]
  },
  {
   "cell_type": "code",
   "execution_count": 249,
   "metadata": {},
   "outputs": [],
   "source": [
    "data_plans['gb_per_month_included'] = np.ceil(data_plans['mb_per_month_included'] / 1024).astype('int')"
   ]
  },
  {
   "cell_type": "code",
   "execution_count": 250,
   "metadata": {},
   "outputs": [],
   "source": [
    "data_plans.drop('mb_per_month_included', axis=1, inplace=True)"
   ]
  },
  {
   "cell_type": "markdown",
   "metadata": {},
   "source": [
    "## Pengguna"
   ]
  },
  {
   "cell_type": "code",
   "execution_count": 251,
   "metadata": {},
   "outputs": [
    {
     "name": "stdout",
     "output_type": "stream",
     "text": [
      "<class 'pandas.core.frame.DataFrame'>\n",
      "RangeIndex: 500 entries, 0 to 499\n",
      "Data columns (total 8 columns):\n",
      " #   Column      Non-Null Count  Dtype \n",
      "---  ------      --------------  ----- \n",
      " 0   user_id     500 non-null    int64 \n",
      " 1   first_name  500 non-null    object\n",
      " 2   last_name   500 non-null    object\n",
      " 3   age         500 non-null    int64 \n",
      " 4   city        500 non-null    object\n",
      " 5   reg_date    500 non-null    object\n",
      " 6   plan        500 non-null    object\n",
      " 7   churn_date  34 non-null     object\n",
      "dtypes: int64(2), object(6)\n",
      "memory usage: 31.4+ KB\n"
     ]
    }
   ],
   "source": [
    "data_users.info()"
   ]
  },
  {
   "cell_type": "code",
   "execution_count": 252,
   "metadata": {
    "scrolled": true
   },
   "outputs": [
    {
     "data": {
      "text/html": [
       "<div>\n",
       "<style scoped>\n",
       "    .dataframe tbody tr th:only-of-type {\n",
       "        vertical-align: middle;\n",
       "    }\n",
       "\n",
       "    .dataframe tbody tr th {\n",
       "        vertical-align: top;\n",
       "    }\n",
       "\n",
       "    .dataframe thead th {\n",
       "        text-align: right;\n",
       "    }\n",
       "</style>\n",
       "<table border=\"1\" class=\"dataframe\">\n",
       "  <thead>\n",
       "    <tr style=\"text-align: right;\">\n",
       "      <th></th>\n",
       "      <th>user_id</th>\n",
       "      <th>first_name</th>\n",
       "      <th>last_name</th>\n",
       "      <th>age</th>\n",
       "      <th>city</th>\n",
       "      <th>reg_date</th>\n",
       "      <th>plan</th>\n",
       "      <th>churn_date</th>\n",
       "    </tr>\n",
       "  </thead>\n",
       "  <tbody>\n",
       "    <tr>\n",
       "      <th>270</th>\n",
       "      <td>1270</td>\n",
       "      <td>Anjelica</td>\n",
       "      <td>Chan</td>\n",
       "      <td>70</td>\n",
       "      <td>Philadelphia-Camden-Wilmington, PA-NJ-DE-MD MSA</td>\n",
       "      <td>2018-09-18</td>\n",
       "      <td>ultimate</td>\n",
       "      <td>NaN</td>\n",
       "    </tr>\n",
       "    <tr>\n",
       "      <th>442</th>\n",
       "      <td>1442</td>\n",
       "      <td>Terrell</td>\n",
       "      <td>Caldwell</td>\n",
       "      <td>66</td>\n",
       "      <td>New York-Newark-Jersey City, NY-NJ-PA MSA</td>\n",
       "      <td>2018-05-25</td>\n",
       "      <td>ultimate</td>\n",
       "      <td>NaN</td>\n",
       "    </tr>\n",
       "    <tr>\n",
       "      <th>392</th>\n",
       "      <td>1392</td>\n",
       "      <td>Gale</td>\n",
       "      <td>Mcfadden</td>\n",
       "      <td>34</td>\n",
       "      <td>Seattle-Tacoma-Bellevue, WA MSA</td>\n",
       "      <td>2018-05-24</td>\n",
       "      <td>surf</td>\n",
       "      <td>NaN</td>\n",
       "    </tr>\n",
       "    <tr>\n",
       "      <th>73</th>\n",
       "      <td>1073</td>\n",
       "      <td>Grady</td>\n",
       "      <td>Crawford</td>\n",
       "      <td>30</td>\n",
       "      <td>Chicago-Naperville-Elgin, IL-IN-WI MSA</td>\n",
       "      <td>2018-04-06</td>\n",
       "      <td>surf</td>\n",
       "      <td>NaN</td>\n",
       "    </tr>\n",
       "    <tr>\n",
       "      <th>63</th>\n",
       "      <td>1063</td>\n",
       "      <td>Larhonda</td>\n",
       "      <td>Hartman</td>\n",
       "      <td>60</td>\n",
       "      <td>New York-Newark-Jersey City, NY-NJ-PA MSA</td>\n",
       "      <td>2018-11-05</td>\n",
       "      <td>ultimate</td>\n",
       "      <td>NaN</td>\n",
       "    </tr>\n",
       "    <tr>\n",
       "      <th>114</th>\n",
       "      <td>1114</td>\n",
       "      <td>Esta</td>\n",
       "      <td>Estes</td>\n",
       "      <td>55</td>\n",
       "      <td>New York-Newark-Jersey City, NY-NJ-PA MSA</td>\n",
       "      <td>2018-07-21</td>\n",
       "      <td>surf</td>\n",
       "      <td>NaN</td>\n",
       "    </tr>\n",
       "    <tr>\n",
       "      <th>143</th>\n",
       "      <td>1143</td>\n",
       "      <td>Lorina</td>\n",
       "      <td>Stevens</td>\n",
       "      <td>69</td>\n",
       "      <td>Cincinnati, OH-KY-IN MSA</td>\n",
       "      <td>2018-10-26</td>\n",
       "      <td>surf</td>\n",
       "      <td>NaN</td>\n",
       "    </tr>\n",
       "    <tr>\n",
       "      <th>275</th>\n",
       "      <td>1275</td>\n",
       "      <td>Elvie</td>\n",
       "      <td>Velazquez</td>\n",
       "      <td>33</td>\n",
       "      <td>New York-Newark-Jersey City, NY-NJ-PA MSA</td>\n",
       "      <td>2018-11-29</td>\n",
       "      <td>ultimate</td>\n",
       "      <td>NaN</td>\n",
       "    </tr>\n",
       "    <tr>\n",
       "      <th>136</th>\n",
       "      <td>1136</td>\n",
       "      <td>Jasper</td>\n",
       "      <td>Caldwell</td>\n",
       "      <td>25</td>\n",
       "      <td>Knoxville, TN MSA</td>\n",
       "      <td>2018-10-14</td>\n",
       "      <td>surf</td>\n",
       "      <td>NaN</td>\n",
       "    </tr>\n",
       "    <tr>\n",
       "      <th>282</th>\n",
       "      <td>1282</td>\n",
       "      <td>Annice</td>\n",
       "      <td>Calhoun</td>\n",
       "      <td>61</td>\n",
       "      <td>San Francisco-Oakland-Berkeley, CA MSA</td>\n",
       "      <td>2018-11-01</td>\n",
       "      <td>ultimate</td>\n",
       "      <td>NaN</td>\n",
       "    </tr>\n",
       "  </tbody>\n",
       "</table>\n",
       "</div>"
      ],
      "text/plain": [
       "     user_id first_name  last_name  age  \\\n",
       "270     1270   Anjelica       Chan   70   \n",
       "442     1442    Terrell   Caldwell   66   \n",
       "392     1392       Gale   Mcfadden   34   \n",
       "73      1073      Grady   Crawford   30   \n",
       "63      1063   Larhonda    Hartman   60   \n",
       "114     1114       Esta      Estes   55   \n",
       "143     1143     Lorina    Stevens   69   \n",
       "275     1275      Elvie  Velazquez   33   \n",
       "136     1136     Jasper   Caldwell   25   \n",
       "282     1282     Annice    Calhoun   61   \n",
       "\n",
       "                                                city    reg_date      plan  \\\n",
       "270  Philadelphia-Camden-Wilmington, PA-NJ-DE-MD MSA  2018-09-18  ultimate   \n",
       "442        New York-Newark-Jersey City, NY-NJ-PA MSA  2018-05-25  ultimate   \n",
       "392                  Seattle-Tacoma-Bellevue, WA MSA  2018-05-24      surf   \n",
       "73            Chicago-Naperville-Elgin, IL-IN-WI MSA  2018-04-06      surf   \n",
       "63         New York-Newark-Jersey City, NY-NJ-PA MSA  2018-11-05  ultimate   \n",
       "114        New York-Newark-Jersey City, NY-NJ-PA MSA  2018-07-21      surf   \n",
       "143                         Cincinnati, OH-KY-IN MSA  2018-10-26      surf   \n",
       "275        New York-Newark-Jersey City, NY-NJ-PA MSA  2018-11-29  ultimate   \n",
       "136                                Knoxville, TN MSA  2018-10-14      surf   \n",
       "282           San Francisco-Oakland-Berkeley, CA MSA  2018-11-01  ultimate   \n",
       "\n",
       "    churn_date  \n",
       "270        NaN  \n",
       "442        NaN  \n",
       "392        NaN  \n",
       "73         NaN  \n",
       "63         NaN  \n",
       "114        NaN  \n",
       "143        NaN  \n",
       "275        NaN  \n",
       "136        NaN  \n",
       "282        NaN  "
      ]
     },
     "execution_count": 252,
     "metadata": {},
     "output_type": "execute_result"
    }
   ],
   "source": [
    "data_users.sample(10)"
   ]
  },
  {
   "cell_type": "markdown",
   "metadata": {},
   "source": [
    "Pada data_users memiliki sejumlah data 500 baris, dan terlihat pada kolom churn_date memiliki nilai yang hilang yang memungkinkan nilai tersebut merupakan para pengguna yang masih aktif hingga saat ini. Untuk tipe data yang digunakan pada kolom reg_date masih bertipe object yang nantinya akan kita ubah ke tipe data DateTime. Ada juga kolom first_name maupun last_name akan kita eliminasi guna meringkas tabel dan sebagai gantinya kita gunakan user_id untuk analisis. Kolom City juga terlalu spesifik sedangkan yang diperlukan hanya Wilayah kotanya, oleh karna itu kita akan perbaiki kualitas datanya yang hanya berfokus pada wilayahnya saja."
   ]
  },
  {
   "cell_type": "markdown",
   "metadata": {},
   "source": [
    " "
   ]
  },
  {
   "cell_type": "markdown",
   "metadata": {},
   "source": [
    "### Memperbaiki Data"
   ]
  },
  {
   "cell_type": "markdown",
   "metadata": {},
   "source": [
    "Pada data pengguna tidak ditemukannya data duplikat. Selanjutnya kita perlu memperbaiki tipe data reg_date dengan tipe data datetime, agar mempermudah penganalisisan data kita singkat dengan cukup mengambil data bulannya saja."
   ]
  },
  {
   "cell_type": "code",
   "execution_count": 253,
   "metadata": {},
   "outputs": [
    {
     "data": {
      "text/plain": [
       "0"
      ]
     },
     "execution_count": 253,
     "metadata": {},
     "output_type": "execute_result"
    }
   ],
   "source": [
    "data_users.duplicated().sum()"
   ]
  },
  {
   "cell_type": "code",
   "execution_count": 254,
   "metadata": {},
   "outputs": [],
   "source": [
    "data_users['reg_date'] = pd.to_datetime(data_users['reg_date'])"
   ]
  },
  {
   "cell_type": "code",
   "execution_count": 255,
   "metadata": {},
   "outputs": [],
   "source": [
    "data_users['reg_date'] = data_users['reg_date'].dt.to_period(\"M\")"
   ]
  },
  {
   "cell_type": "markdown",
   "metadata": {},
   "source": [
    "### Memperkaya Kualitas Data"
   ]
  },
  {
   "cell_type": "markdown",
   "metadata": {},
   "source": [
    "Pada kolom city kita perlu ambil wilayahnya saja dengan cara kita akan membuat kolom baru dengan nama clean_city yang kemudian kita filter lagi dengan mengambil bagian wilayah kotanya saja yaitu NY-NJ dengan menambahkan kolom baru lagi dengan nama is_nynj. Adapun pada kolom city yang telah di filter akan kita eliminasi serta pada kolom first_name dan last_name juga kita drop karena kita cukup menggunakan kolom user_id saja."
   ]
  },
  {
   "cell_type": "code",
   "execution_count": 256,
   "metadata": {},
   "outputs": [],
   "source": [
    "data_users['clean_city'] = data_users['city'].str.split(', ').str[1]\n",
    "data_users['clean_city'] = data_users['clean_city'].str.replace(' MSA', '')"
   ]
  },
  {
   "cell_type": "code",
   "execution_count": 257,
   "metadata": {},
   "outputs": [],
   "source": [
    "data_users['is_nynj'] = data_users['clean_city'].str.contains('NY-NJ', regex=True)\n",
    "data_users['is_nynj'] = data_users['is_nynj'].replace(True, 1).replace(False, 0)"
   ]
  },
  {
   "cell_type": "code",
   "execution_count": 258,
   "metadata": {},
   "outputs": [],
   "source": [
    "data_users.drop(['city', 'first_name', 'last_name'], axis=1, inplace=True)"
   ]
  },
  {
   "cell_type": "code",
   "execution_count": 259,
   "metadata": {},
   "outputs": [
    {
     "data": {
      "text/html": [
       "<div>\n",
       "<style scoped>\n",
       "    .dataframe tbody tr th:only-of-type {\n",
       "        vertical-align: middle;\n",
       "    }\n",
       "\n",
       "    .dataframe tbody tr th {\n",
       "        vertical-align: top;\n",
       "    }\n",
       "\n",
       "    .dataframe thead th {\n",
       "        text-align: right;\n",
       "    }\n",
       "</style>\n",
       "<table border=\"1\" class=\"dataframe\">\n",
       "  <thead>\n",
       "    <tr style=\"text-align: right;\">\n",
       "      <th></th>\n",
       "      <th>user_id</th>\n",
       "      <th>age</th>\n",
       "      <th>reg_date</th>\n",
       "      <th>plan</th>\n",
       "      <th>churn_date</th>\n",
       "      <th>clean_city</th>\n",
       "      <th>is_nynj</th>\n",
       "    </tr>\n",
       "  </thead>\n",
       "  <tbody>\n",
       "    <tr>\n",
       "      <th>0</th>\n",
       "      <td>1000</td>\n",
       "      <td>45</td>\n",
       "      <td>2018-12</td>\n",
       "      <td>ultimate</td>\n",
       "      <td>NaN</td>\n",
       "      <td>GA</td>\n",
       "      <td>0</td>\n",
       "    </tr>\n",
       "    <tr>\n",
       "      <th>1</th>\n",
       "      <td>1001</td>\n",
       "      <td>28</td>\n",
       "      <td>2018-08</td>\n",
       "      <td>surf</td>\n",
       "      <td>NaN</td>\n",
       "      <td>WA</td>\n",
       "      <td>0</td>\n",
       "    </tr>\n",
       "    <tr>\n",
       "      <th>2</th>\n",
       "      <td>1002</td>\n",
       "      <td>36</td>\n",
       "      <td>2018-10</td>\n",
       "      <td>surf</td>\n",
       "      <td>NaN</td>\n",
       "      <td>NV</td>\n",
       "      <td>0</td>\n",
       "    </tr>\n",
       "    <tr>\n",
       "      <th>3</th>\n",
       "      <td>1003</td>\n",
       "      <td>52</td>\n",
       "      <td>2018-01</td>\n",
       "      <td>surf</td>\n",
       "      <td>NaN</td>\n",
       "      <td>OK</td>\n",
       "      <td>0</td>\n",
       "    </tr>\n",
       "    <tr>\n",
       "      <th>4</th>\n",
       "      <td>1004</td>\n",
       "      <td>40</td>\n",
       "      <td>2018-05</td>\n",
       "      <td>surf</td>\n",
       "      <td>NaN</td>\n",
       "      <td>WA</td>\n",
       "      <td>0</td>\n",
       "    </tr>\n",
       "  </tbody>\n",
       "</table>\n",
       "</div>"
      ],
      "text/plain": [
       "   user_id  age reg_date      plan churn_date clean_city  is_nynj\n",
       "0     1000   45  2018-12  ultimate        NaN         GA        0\n",
       "1     1001   28  2018-08      surf        NaN         WA        0\n",
       "2     1002   36  2018-10      surf        NaN         NV        0\n",
       "3     1003   52  2018-01      surf        NaN         OK        0\n",
       "4     1004   40  2018-05      surf        NaN         WA        0"
      ]
     },
     "execution_count": 259,
     "metadata": {},
     "output_type": "execute_result"
    }
   ],
   "source": [
    "data_users.head()"
   ]
  },
  {
   "cell_type": "markdown",
   "metadata": {},
   "source": [
    "## Panggilan"
   ]
  },
  {
   "cell_type": "code",
   "execution_count": 260,
   "metadata": {},
   "outputs": [
    {
     "name": "stdout",
     "output_type": "stream",
     "text": [
      "<class 'pandas.core.frame.DataFrame'>\n",
      "RangeIndex: 137735 entries, 0 to 137734\n",
      "Data columns (total 4 columns):\n",
      " #   Column     Non-Null Count   Dtype  \n",
      "---  ------     --------------   -----  \n",
      " 0   id         137735 non-null  object \n",
      " 1   user_id    137735 non-null  int64  \n",
      " 2   call_date  137735 non-null  object \n",
      " 3   duration   137735 non-null  float64\n",
      "dtypes: float64(1), int64(1), object(2)\n",
      "memory usage: 4.2+ MB\n"
     ]
    }
   ],
   "source": [
    "data_calls.info()"
   ]
  },
  {
   "cell_type": "code",
   "execution_count": 261,
   "metadata": {
    "scrolled": true
   },
   "outputs": [
    {
     "data": {
      "text/html": [
       "<div>\n",
       "<style scoped>\n",
       "    .dataframe tbody tr th:only-of-type {\n",
       "        vertical-align: middle;\n",
       "    }\n",
       "\n",
       "    .dataframe tbody tr th {\n",
       "        vertical-align: top;\n",
       "    }\n",
       "\n",
       "    .dataframe thead th {\n",
       "        text-align: right;\n",
       "    }\n",
       "</style>\n",
       "<table border=\"1\" class=\"dataframe\">\n",
       "  <thead>\n",
       "    <tr style=\"text-align: right;\">\n",
       "      <th></th>\n",
       "      <th>id</th>\n",
       "      <th>user_id</th>\n",
       "      <th>call_date</th>\n",
       "      <th>duration</th>\n",
       "    </tr>\n",
       "  </thead>\n",
       "  <tbody>\n",
       "    <tr>\n",
       "      <th>100611</th>\n",
       "      <td>1359_495</td>\n",
       "      <td>1359</td>\n",
       "      <td>2018-10-08</td>\n",
       "      <td>2.00</td>\n",
       "    </tr>\n",
       "    <tr>\n",
       "      <th>88158</th>\n",
       "      <td>1324_204</td>\n",
       "      <td>1324</td>\n",
       "      <td>2018-07-05</td>\n",
       "      <td>3.08</td>\n",
       "    </tr>\n",
       "    <tr>\n",
       "      <th>89530</th>\n",
       "      <td>1326_181</td>\n",
       "      <td>1326</td>\n",
       "      <td>2018-10-30</td>\n",
       "      <td>6.66</td>\n",
       "    </tr>\n",
       "    <tr>\n",
       "      <th>83931</th>\n",
       "      <td>1305_409</td>\n",
       "      <td>1305</td>\n",
       "      <td>2018-05-13</td>\n",
       "      <td>12.40</td>\n",
       "    </tr>\n",
       "    <tr>\n",
       "      <th>49633</th>\n",
       "      <td>1179_292</td>\n",
       "      <td>1179</td>\n",
       "      <td>2018-12-07</td>\n",
       "      <td>7.83</td>\n",
       "    </tr>\n",
       "    <tr>\n",
       "      <th>106543</th>\n",
       "      <td>1377_95</td>\n",
       "      <td>1377</td>\n",
       "      <td>2018-11-26</td>\n",
       "      <td>8.62</td>\n",
       "    </tr>\n",
       "    <tr>\n",
       "      <th>98212</th>\n",
       "      <td>1352_673</td>\n",
       "      <td>1352</td>\n",
       "      <td>2018-09-26</td>\n",
       "      <td>3.15</td>\n",
       "    </tr>\n",
       "    <tr>\n",
       "      <th>52280</th>\n",
       "      <td>1187_473</td>\n",
       "      <td>1187</td>\n",
       "      <td>2018-10-30</td>\n",
       "      <td>11.16</td>\n",
       "    </tr>\n",
       "    <tr>\n",
       "      <th>22375</th>\n",
       "      <td>1082_373</td>\n",
       "      <td>1082</td>\n",
       "      <td>2018-06-21</td>\n",
       "      <td>0.00</td>\n",
       "    </tr>\n",
       "    <tr>\n",
       "      <th>106528</th>\n",
       "      <td>1377_80</td>\n",
       "      <td>1377</td>\n",
       "      <td>2018-10-06</td>\n",
       "      <td>16.21</td>\n",
       "    </tr>\n",
       "  </tbody>\n",
       "</table>\n",
       "</div>"
      ],
      "text/plain": [
       "              id  user_id   call_date  duration\n",
       "100611  1359_495     1359  2018-10-08      2.00\n",
       "88158   1324_204     1324  2018-07-05      3.08\n",
       "89530   1326_181     1326  2018-10-30      6.66\n",
       "83931   1305_409     1305  2018-05-13     12.40\n",
       "49633   1179_292     1179  2018-12-07      7.83\n",
       "106543   1377_95     1377  2018-11-26      8.62\n",
       "98212   1352_673     1352  2018-09-26      3.15\n",
       "52280   1187_473     1187  2018-10-30     11.16\n",
       "22375   1082_373     1082  2018-06-21      0.00\n",
       "106528   1377_80     1377  2018-10-06     16.21"
      ]
     },
     "execution_count": 261,
     "metadata": {},
     "output_type": "execute_result"
    }
   ],
   "source": [
    "data_calls.sample(10)"
   ]
  },
  {
   "cell_type": "markdown",
   "metadata": {},
   "source": [
    "data_calls memiliki sejumlah 137735 baris di semua kolomnya yang mengindikasikan juga bahwa data_calls tidak memiliki nilai yang hilang. Sedangkan pada tipe datanya kita akan mengubah di bagian kolom call_date dengan datetime."
   ]
  },
  {
   "cell_type": "markdown",
   "metadata": {},
   "source": [
    " "
   ]
  },
  {
   "cell_type": "markdown",
   "metadata": {},
   "source": [
    "### Memperbaiki Data"
   ]
  },
  {
   "cell_type": "markdown",
   "metadata": {},
   "source": [
    "Tidak ditemukannya data duplikat pada tabel data_calls."
   ]
  },
  {
   "cell_type": "code",
   "execution_count": 262,
   "metadata": {},
   "outputs": [
    {
     "data": {
      "text/plain": [
       "0"
      ]
     },
     "execution_count": 262,
     "metadata": {},
     "output_type": "execute_result"
    }
   ],
   "source": [
    "data_calls.duplicated().sum()"
   ]
  },
  {
   "cell_type": "markdown",
   "metadata": {},
   "source": [
    "Perbaiki tipe data call_date ke dalam datetime"
   ]
  },
  {
   "cell_type": "code",
   "execution_count": 263,
   "metadata": {},
   "outputs": [],
   "source": [
    "data_calls['call_date'] = pd.to_datetime(data_calls['call_date'])"
   ]
  },
  {
   "cell_type": "markdown",
   "metadata": {},
   "source": [
    "### Memperkaya Kualitas Data"
   ]
  },
  {
   "cell_type": "markdown",
   "metadata": {},
   "source": [
    "Menambahkan kolom year_month berdasarkan kolom call_date guna untuk mempersiapkan data agregasi dengan tabel lain."
   ]
  },
  {
   "cell_type": "code",
   "execution_count": 264,
   "metadata": {},
   "outputs": [],
   "source": [
    "data_calls['year_month'] = data_calls['call_date'].dt.to_period(\"M\")"
   ]
  },
  {
   "cell_type": "code",
   "execution_count": 265,
   "metadata": {},
   "outputs": [
    {
     "data": {
      "text/html": [
       "<div>\n",
       "<style scoped>\n",
       "    .dataframe tbody tr th:only-of-type {\n",
       "        vertical-align: middle;\n",
       "    }\n",
       "\n",
       "    .dataframe tbody tr th {\n",
       "        vertical-align: top;\n",
       "    }\n",
       "\n",
       "    .dataframe thead th {\n",
       "        text-align: right;\n",
       "    }\n",
       "</style>\n",
       "<table border=\"1\" class=\"dataframe\">\n",
       "  <thead>\n",
       "    <tr style=\"text-align: right;\">\n",
       "      <th></th>\n",
       "      <th>id</th>\n",
       "      <th>user_id</th>\n",
       "      <th>call_date</th>\n",
       "      <th>duration</th>\n",
       "      <th>year_month</th>\n",
       "    </tr>\n",
       "  </thead>\n",
       "  <tbody>\n",
       "    <tr>\n",
       "      <th>0</th>\n",
       "      <td>1000_93</td>\n",
       "      <td>1000</td>\n",
       "      <td>2018-12-27</td>\n",
       "      <td>8.52</td>\n",
       "      <td>2018-12</td>\n",
       "    </tr>\n",
       "    <tr>\n",
       "      <th>1</th>\n",
       "      <td>1000_145</td>\n",
       "      <td>1000</td>\n",
       "      <td>2018-12-27</td>\n",
       "      <td>13.66</td>\n",
       "      <td>2018-12</td>\n",
       "    </tr>\n",
       "    <tr>\n",
       "      <th>2</th>\n",
       "      <td>1000_247</td>\n",
       "      <td>1000</td>\n",
       "      <td>2018-12-27</td>\n",
       "      <td>14.48</td>\n",
       "      <td>2018-12</td>\n",
       "    </tr>\n",
       "    <tr>\n",
       "      <th>3</th>\n",
       "      <td>1000_309</td>\n",
       "      <td>1000</td>\n",
       "      <td>2018-12-28</td>\n",
       "      <td>5.76</td>\n",
       "      <td>2018-12</td>\n",
       "    </tr>\n",
       "    <tr>\n",
       "      <th>4</th>\n",
       "      <td>1000_380</td>\n",
       "      <td>1000</td>\n",
       "      <td>2018-12-30</td>\n",
       "      <td>4.22</td>\n",
       "      <td>2018-12</td>\n",
       "    </tr>\n",
       "  </tbody>\n",
       "</table>\n",
       "</div>"
      ],
      "text/plain": [
       "         id  user_id  call_date  duration year_month\n",
       "0   1000_93     1000 2018-12-27      8.52    2018-12\n",
       "1  1000_145     1000 2018-12-27     13.66    2018-12\n",
       "2  1000_247     1000 2018-12-27     14.48    2018-12\n",
       "3  1000_309     1000 2018-12-28      5.76    2018-12\n",
       "4  1000_380     1000 2018-12-30      4.22    2018-12"
      ]
     },
     "execution_count": 265,
     "metadata": {},
     "output_type": "execute_result"
    }
   ],
   "source": [
    "data_calls.head()"
   ]
  },
  {
   "cell_type": "markdown",
   "metadata": {},
   "source": [
    "## Pesan/SMS"
   ]
  },
  {
   "cell_type": "code",
   "execution_count": 266,
   "metadata": {},
   "outputs": [
    {
     "name": "stdout",
     "output_type": "stream",
     "text": [
      "<class 'pandas.core.frame.DataFrame'>\n",
      "RangeIndex: 76051 entries, 0 to 76050\n",
      "Data columns (total 3 columns):\n",
      " #   Column        Non-Null Count  Dtype \n",
      "---  ------        --------------  ----- \n",
      " 0   id            76051 non-null  object\n",
      " 1   user_id       76051 non-null  int64 \n",
      " 2   message_date  76051 non-null  object\n",
      "dtypes: int64(1), object(2)\n",
      "memory usage: 1.7+ MB\n"
     ]
    }
   ],
   "source": [
    "data_messages.info()"
   ]
  },
  {
   "cell_type": "code",
   "execution_count": 267,
   "metadata": {
    "scrolled": true
   },
   "outputs": [
    {
     "data": {
      "text/html": [
       "<div>\n",
       "<style scoped>\n",
       "    .dataframe tbody tr th:only-of-type {\n",
       "        vertical-align: middle;\n",
       "    }\n",
       "\n",
       "    .dataframe tbody tr th {\n",
       "        vertical-align: top;\n",
       "    }\n",
       "\n",
       "    .dataframe thead th {\n",
       "        text-align: right;\n",
       "    }\n",
       "</style>\n",
       "<table border=\"1\" class=\"dataframe\">\n",
       "  <thead>\n",
       "    <tr style=\"text-align: right;\">\n",
       "      <th></th>\n",
       "      <th>id</th>\n",
       "      <th>user_id</th>\n",
       "      <th>message_date</th>\n",
       "    </tr>\n",
       "  </thead>\n",
       "  <tbody>\n",
       "    <tr>\n",
       "      <th>34726</th>\n",
       "      <td>1220_245</td>\n",
       "      <td>1220</td>\n",
       "      <td>2018-07-12</td>\n",
       "    </tr>\n",
       "    <tr>\n",
       "      <th>3357</th>\n",
       "      <td>1036_192</td>\n",
       "      <td>1036</td>\n",
       "      <td>2018-10-26</td>\n",
       "    </tr>\n",
       "    <tr>\n",
       "      <th>68549</th>\n",
       "      <td>1444_32</td>\n",
       "      <td>1444</td>\n",
       "      <td>2018-10-31</td>\n",
       "    </tr>\n",
       "    <tr>\n",
       "      <th>50911</th>\n",
       "      <td>1331_86</td>\n",
       "      <td>1331</td>\n",
       "      <td>2018-08-31</td>\n",
       "    </tr>\n",
       "    <tr>\n",
       "      <th>40940</th>\n",
       "      <td>1263_5</td>\n",
       "      <td>1263</td>\n",
       "      <td>2018-06-17</td>\n",
       "    </tr>\n",
       "    <tr>\n",
       "      <th>40243</th>\n",
       "      <td>1259_311</td>\n",
       "      <td>1259</td>\n",
       "      <td>2018-08-11</td>\n",
       "    </tr>\n",
       "    <tr>\n",
       "      <th>48258</th>\n",
       "      <td>1324_990</td>\n",
       "      <td>1324</td>\n",
       "      <td>2018-12-26</td>\n",
       "    </tr>\n",
       "    <tr>\n",
       "      <th>36809</th>\n",
       "      <td>1246_113</td>\n",
       "      <td>1246</td>\n",
       "      <td>2018-03-05</td>\n",
       "    </tr>\n",
       "    <tr>\n",
       "      <th>71865</th>\n",
       "      <td>1467_197</td>\n",
       "      <td>1467</td>\n",
       "      <td>2018-08-18</td>\n",
       "    </tr>\n",
       "    <tr>\n",
       "      <th>490</th>\n",
       "      <td>1004_175</td>\n",
       "      <td>1004</td>\n",
       "      <td>2018-10-04</td>\n",
       "    </tr>\n",
       "  </tbody>\n",
       "</table>\n",
       "</div>"
      ],
      "text/plain": [
       "             id  user_id message_date\n",
       "34726  1220_245     1220   2018-07-12\n",
       "3357   1036_192     1036   2018-10-26\n",
       "68549   1444_32     1444   2018-10-31\n",
       "50911   1331_86     1331   2018-08-31\n",
       "40940    1263_5     1263   2018-06-17\n",
       "40243  1259_311     1259   2018-08-11\n",
       "48258  1324_990     1324   2018-12-26\n",
       "36809  1246_113     1246   2018-03-05\n",
       "71865  1467_197     1467   2018-08-18\n",
       "490    1004_175     1004   2018-10-04"
      ]
     },
     "execution_count": 267,
     "metadata": {},
     "output_type": "execute_result"
    }
   ],
   "source": [
    "data_messages.sample(10)"
   ]
  },
  {
   "cell_type": "markdown",
   "metadata": {},
   "source": [
    "Tabel data_messages memiliki 76051 baris data dengan tidak adanya nilai yang hilang di setiap kolomnya. messages_date memiliki tipe data yang salah, kita akan ubah menjadi tipe data datetime. Setelah itu kita akan membuat kolom baru year_month berdasarkan kolom messages_date."
   ]
  },
  {
   "cell_type": "markdown",
   "metadata": {},
   "source": [
    " "
   ]
  },
  {
   "cell_type": "markdown",
   "metadata": {},
   "source": [
    "### Memperbaiki Data"
   ]
  },
  {
   "cell_type": "markdown",
   "metadata": {},
   "source": [
    "Tidak ditemukannya data duplikat"
   ]
  },
  {
   "cell_type": "code",
   "execution_count": 268,
   "metadata": {},
   "outputs": [
    {
     "data": {
      "text/plain": [
       "0"
      ]
     },
     "execution_count": 268,
     "metadata": {},
     "output_type": "execute_result"
    }
   ],
   "source": [
    "data_messages.duplicated().sum()"
   ]
  },
  {
   "cell_type": "markdown",
   "metadata": {},
   "source": [
    "Mengubah tipe data messages_date menjadi datetime"
   ]
  },
  {
   "cell_type": "code",
   "execution_count": 269,
   "metadata": {},
   "outputs": [],
   "source": [
    "data_messages['message_date'] = pd.to_datetime(data_messages['message_date'])"
   ]
  },
  {
   "cell_type": "markdown",
   "metadata": {},
   "source": [
    "### Memperkaya Kualitas Data"
   ]
  },
  {
   "cell_type": "markdown",
   "metadata": {},
   "source": [
    "Menambahkan kolom year_month berdasarkan kolom message_date guna untuk mempersiapkan data agregasi dengan tabel lain."
   ]
  },
  {
   "cell_type": "code",
   "execution_count": 270,
   "metadata": {},
   "outputs": [],
   "source": [
    "data_messages['year_month'] = data_messages['message_date'].dt.to_period(\"M\")"
   ]
  },
  {
   "cell_type": "code",
   "execution_count": 271,
   "metadata": {},
   "outputs": [
    {
     "data": {
      "text/html": [
       "<div>\n",
       "<style scoped>\n",
       "    .dataframe tbody tr th:only-of-type {\n",
       "        vertical-align: middle;\n",
       "    }\n",
       "\n",
       "    .dataframe tbody tr th {\n",
       "        vertical-align: top;\n",
       "    }\n",
       "\n",
       "    .dataframe thead th {\n",
       "        text-align: right;\n",
       "    }\n",
       "</style>\n",
       "<table border=\"1\" class=\"dataframe\">\n",
       "  <thead>\n",
       "    <tr style=\"text-align: right;\">\n",
       "      <th></th>\n",
       "      <th>id</th>\n",
       "      <th>user_id</th>\n",
       "      <th>message_date</th>\n",
       "      <th>year_month</th>\n",
       "    </tr>\n",
       "  </thead>\n",
       "  <tbody>\n",
       "    <tr>\n",
       "      <th>0</th>\n",
       "      <td>1000_125</td>\n",
       "      <td>1000</td>\n",
       "      <td>2018-12-27</td>\n",
       "      <td>2018-12</td>\n",
       "    </tr>\n",
       "    <tr>\n",
       "      <th>1</th>\n",
       "      <td>1000_160</td>\n",
       "      <td>1000</td>\n",
       "      <td>2018-12-31</td>\n",
       "      <td>2018-12</td>\n",
       "    </tr>\n",
       "    <tr>\n",
       "      <th>2</th>\n",
       "      <td>1000_223</td>\n",
       "      <td>1000</td>\n",
       "      <td>2018-12-31</td>\n",
       "      <td>2018-12</td>\n",
       "    </tr>\n",
       "    <tr>\n",
       "      <th>3</th>\n",
       "      <td>1000_251</td>\n",
       "      <td>1000</td>\n",
       "      <td>2018-12-27</td>\n",
       "      <td>2018-12</td>\n",
       "    </tr>\n",
       "    <tr>\n",
       "      <th>4</th>\n",
       "      <td>1000_255</td>\n",
       "      <td>1000</td>\n",
       "      <td>2018-12-26</td>\n",
       "      <td>2018-12</td>\n",
       "    </tr>\n",
       "  </tbody>\n",
       "</table>\n",
       "</div>"
      ],
      "text/plain": [
       "         id  user_id message_date year_month\n",
       "0  1000_125     1000   2018-12-27    2018-12\n",
       "1  1000_160     1000   2018-12-31    2018-12\n",
       "2  1000_223     1000   2018-12-31    2018-12\n",
       "3  1000_251     1000   2018-12-27    2018-12\n",
       "4  1000_255     1000   2018-12-26    2018-12"
      ]
     },
     "execution_count": 271,
     "metadata": {},
     "output_type": "execute_result"
    }
   ],
   "source": [
    "data_messages.head()"
   ]
  },
  {
   "cell_type": "markdown",
   "metadata": {},
   "source": [
    "## Internet"
   ]
  },
  {
   "cell_type": "code",
   "execution_count": 272,
   "metadata": {},
   "outputs": [
    {
     "name": "stdout",
     "output_type": "stream",
     "text": [
      "<class 'pandas.core.frame.DataFrame'>\n",
      "RangeIndex: 104825 entries, 0 to 104824\n",
      "Data columns (total 4 columns):\n",
      " #   Column        Non-Null Count   Dtype  \n",
      "---  ------        --------------   -----  \n",
      " 0   id            104825 non-null  object \n",
      " 1   user_id       104825 non-null  int64  \n",
      " 2   session_date  104825 non-null  object \n",
      " 3   mb_used       104825 non-null  float64\n",
      "dtypes: float64(1), int64(1), object(2)\n",
      "memory usage: 3.2+ MB\n"
     ]
    }
   ],
   "source": [
    "data_internet.info()"
   ]
  },
  {
   "cell_type": "code",
   "execution_count": 273,
   "metadata": {
    "scrolled": true
   },
   "outputs": [
    {
     "data": {
      "text/html": [
       "<div>\n",
       "<style scoped>\n",
       "    .dataframe tbody tr th:only-of-type {\n",
       "        vertical-align: middle;\n",
       "    }\n",
       "\n",
       "    .dataframe tbody tr th {\n",
       "        vertical-align: top;\n",
       "    }\n",
       "\n",
       "    .dataframe thead th {\n",
       "        text-align: right;\n",
       "    }\n",
       "</style>\n",
       "<table border=\"1\" class=\"dataframe\">\n",
       "  <thead>\n",
       "    <tr style=\"text-align: right;\">\n",
       "      <th></th>\n",
       "      <th>id</th>\n",
       "      <th>user_id</th>\n",
       "      <th>session_date</th>\n",
       "      <th>mb_used</th>\n",
       "    </tr>\n",
       "  </thead>\n",
       "  <tbody>\n",
       "    <tr>\n",
       "      <th>15850</th>\n",
       "      <td>1072_90</td>\n",
       "      <td>1072</td>\n",
       "      <td>2018-08-19</td>\n",
       "      <td>305.51</td>\n",
       "    </tr>\n",
       "    <tr>\n",
       "      <th>4535</th>\n",
       "      <td>1028_88</td>\n",
       "      <td>1028</td>\n",
       "      <td>2018-12-29</td>\n",
       "      <td>639.02</td>\n",
       "    </tr>\n",
       "    <tr>\n",
       "      <th>53986</th>\n",
       "      <td>1245_19</td>\n",
       "      <td>1245</td>\n",
       "      <td>2018-12-26</td>\n",
       "      <td>669.94</td>\n",
       "    </tr>\n",
       "    <tr>\n",
       "      <th>64286</th>\n",
       "      <td>1295_150</td>\n",
       "      <td>1295</td>\n",
       "      <td>2018-08-24</td>\n",
       "      <td>1073.42</td>\n",
       "    </tr>\n",
       "    <tr>\n",
       "      <th>81781</th>\n",
       "      <td>1383_352</td>\n",
       "      <td>1383</td>\n",
       "      <td>2018-12-23</td>\n",
       "      <td>700.27</td>\n",
       "    </tr>\n",
       "    <tr>\n",
       "      <th>29579</th>\n",
       "      <td>1136_11</td>\n",
       "      <td>1136</td>\n",
       "      <td>2018-12-03</td>\n",
       "      <td>430.58</td>\n",
       "    </tr>\n",
       "    <tr>\n",
       "      <th>25892</th>\n",
       "      <td>1120_484</td>\n",
       "      <td>1120</td>\n",
       "      <td>2018-12-30</td>\n",
       "      <td>695.95</td>\n",
       "    </tr>\n",
       "    <tr>\n",
       "      <th>3826</th>\n",
       "      <td>1022_237</td>\n",
       "      <td>1022</td>\n",
       "      <td>2018-12-09</td>\n",
       "      <td>184.87</td>\n",
       "    </tr>\n",
       "    <tr>\n",
       "      <th>91414</th>\n",
       "      <td>1421_35</td>\n",
       "      <td>1421</td>\n",
       "      <td>2018-11-12</td>\n",
       "      <td>0.00</td>\n",
       "    </tr>\n",
       "    <tr>\n",
       "      <th>44339</th>\n",
       "      <td>1196_347</td>\n",
       "      <td>1196</td>\n",
       "      <td>2018-06-05</td>\n",
       "      <td>558.18</td>\n",
       "    </tr>\n",
       "  </tbody>\n",
       "</table>\n",
       "</div>"
      ],
      "text/plain": [
       "             id  user_id session_date  mb_used\n",
       "15850   1072_90     1072   2018-08-19   305.51\n",
       "4535    1028_88     1028   2018-12-29   639.02\n",
       "53986   1245_19     1245   2018-12-26   669.94\n",
       "64286  1295_150     1295   2018-08-24  1073.42\n",
       "81781  1383_352     1383   2018-12-23   700.27\n",
       "29579   1136_11     1136   2018-12-03   430.58\n",
       "25892  1120_484     1120   2018-12-30   695.95\n",
       "3826   1022_237     1022   2018-12-09   184.87\n",
       "91414   1421_35     1421   2018-11-12     0.00\n",
       "44339  1196_347     1196   2018-06-05   558.18"
      ]
     },
     "execution_count": 273,
     "metadata": {},
     "output_type": "execute_result"
    }
   ],
   "source": [
    "data_internet.sample(10)"
   ]
  },
  {
   "cell_type": "markdown",
   "metadata": {},
   "source": [
    "Pada tabel data_internet memiliki 104825 baris data. Setiap kolomnya juga tidak memiliki nilai yang hilang. Kita akan memperbaiki tipe data pada kolom session_date."
   ]
  },
  {
   "cell_type": "markdown",
   "metadata": {},
   "source": [
    " "
   ]
  },
  {
   "cell_type": "markdown",
   "metadata": {},
   "source": [
    "### Memperbaiki Data"
   ]
  },
  {
   "cell_type": "markdown",
   "metadata": {},
   "source": [
    "nilai data duplikasi 0 yang berarti tidak ditemukan data duplikat."
   ]
  },
  {
   "cell_type": "code",
   "execution_count": 274,
   "metadata": {},
   "outputs": [
    {
     "data": {
      "text/plain": [
       "0"
      ]
     },
     "execution_count": 274,
     "metadata": {},
     "output_type": "execute_result"
    }
   ],
   "source": [
    "data_internet.duplicated().sum()"
   ]
  },
  {
   "cell_type": "markdown",
   "metadata": {},
   "source": [
    "merubah tipe data pada kolom session_date ke datetime"
   ]
  },
  {
   "cell_type": "code",
   "execution_count": 275,
   "metadata": {},
   "outputs": [],
   "source": [
    "data_internet['session_date'] = pd.to_datetime(data_internet['session_date'])"
   ]
  },
  {
   "cell_type": "markdown",
   "metadata": {},
   "source": [
    "### Memperkaya Kualitas Data"
   ]
  },
  {
   "cell_type": "markdown",
   "metadata": {},
   "source": [
    "Menambahkan kolom year_month berdasarkan kolom session_date guna untuk mempersiapkan data agregasi dengan tabel lain."
   ]
  },
  {
   "cell_type": "code",
   "execution_count": 276,
   "metadata": {},
   "outputs": [],
   "source": [
    "data_internet['year_month'] = data_internet['session_date'].dt.to_period(\"M\")"
   ]
  },
  {
   "cell_type": "code",
   "execution_count": 277,
   "metadata": {},
   "outputs": [
    {
     "data": {
      "text/html": [
       "<div>\n",
       "<style scoped>\n",
       "    .dataframe tbody tr th:only-of-type {\n",
       "        vertical-align: middle;\n",
       "    }\n",
       "\n",
       "    .dataframe tbody tr th {\n",
       "        vertical-align: top;\n",
       "    }\n",
       "\n",
       "    .dataframe thead th {\n",
       "        text-align: right;\n",
       "    }\n",
       "</style>\n",
       "<table border=\"1\" class=\"dataframe\">\n",
       "  <thead>\n",
       "    <tr style=\"text-align: right;\">\n",
       "      <th></th>\n",
       "      <th>id</th>\n",
       "      <th>user_id</th>\n",
       "      <th>session_date</th>\n",
       "      <th>mb_used</th>\n",
       "      <th>year_month</th>\n",
       "    </tr>\n",
       "  </thead>\n",
       "  <tbody>\n",
       "    <tr>\n",
       "      <th>0</th>\n",
       "      <td>1000_13</td>\n",
       "      <td>1000</td>\n",
       "      <td>2018-12-29</td>\n",
       "      <td>89.86</td>\n",
       "      <td>2018-12</td>\n",
       "    </tr>\n",
       "    <tr>\n",
       "      <th>1</th>\n",
       "      <td>1000_204</td>\n",
       "      <td>1000</td>\n",
       "      <td>2018-12-31</td>\n",
       "      <td>0.00</td>\n",
       "      <td>2018-12</td>\n",
       "    </tr>\n",
       "    <tr>\n",
       "      <th>2</th>\n",
       "      <td>1000_379</td>\n",
       "      <td>1000</td>\n",
       "      <td>2018-12-28</td>\n",
       "      <td>660.40</td>\n",
       "      <td>2018-12</td>\n",
       "    </tr>\n",
       "    <tr>\n",
       "      <th>3</th>\n",
       "      <td>1000_413</td>\n",
       "      <td>1000</td>\n",
       "      <td>2018-12-26</td>\n",
       "      <td>270.99</td>\n",
       "      <td>2018-12</td>\n",
       "    </tr>\n",
       "    <tr>\n",
       "      <th>4</th>\n",
       "      <td>1000_442</td>\n",
       "      <td>1000</td>\n",
       "      <td>2018-12-27</td>\n",
       "      <td>880.22</td>\n",
       "      <td>2018-12</td>\n",
       "    </tr>\n",
       "  </tbody>\n",
       "</table>\n",
       "</div>"
      ],
      "text/plain": [
       "         id  user_id session_date  mb_used year_month\n",
       "0   1000_13     1000   2018-12-29    89.86    2018-12\n",
       "1  1000_204     1000   2018-12-31     0.00    2018-12\n",
       "2  1000_379     1000   2018-12-28   660.40    2018-12\n",
       "3  1000_413     1000   2018-12-26   270.99    2018-12\n",
       "4  1000_442     1000   2018-12-27   880.22    2018-12"
      ]
     },
     "execution_count": 277,
     "metadata": {},
     "output_type": "execute_result"
    }
   ],
   "source": [
    "data_internet.head()"
   ]
  },
  {
   "cell_type": "markdown",
   "metadata": {},
   "source": [
    "## Mempelajari Syarat dan Kondisi Terkait Paket Prabayar"
   ]
  },
  {
   "cell_type": "markdown",
   "metadata": {},
   "source": [
    "Setelah memperbaiki data kita akan mengagregasikannya ke satu tabel, akan tetapi sebelum itu kita perlu membuat tabel utama dari tabel data_plan dengan data_users. Tabel tersebut merupakan acuan pengguna setiap user_id terhadap paket yang digunakannya. Dengan tabel ini pula kita akan mencari tahu perilaku pengguna dalam setiap penggunaan calls, sms maupun internet yang digunakan apakah melebihi paket yang digunakan atau tidak. Dan apabila melebihi kita akan kenakan biaya extra per calls, sms maupun internet per pemakaiannya."
   ]
  },
  {
   "cell_type": "code",
   "execution_count": 278,
   "metadata": {},
   "outputs": [
    {
     "data": {
      "text/html": [
       "<div>\n",
       "<style scoped>\n",
       "    .dataframe tbody tr th:only-of-type {\n",
       "        vertical-align: middle;\n",
       "    }\n",
       "\n",
       "    .dataframe tbody tr th {\n",
       "        vertical-align: top;\n",
       "    }\n",
       "\n",
       "    .dataframe thead th {\n",
       "        text-align: right;\n",
       "    }\n",
       "</style>\n",
       "<table border=\"1\" class=\"dataframe\">\n",
       "  <thead>\n",
       "    <tr style=\"text-align: right;\">\n",
       "      <th></th>\n",
       "      <th>user_id</th>\n",
       "      <th>age</th>\n",
       "      <th>reg_date</th>\n",
       "      <th>plan</th>\n",
       "      <th>churn_date</th>\n",
       "      <th>clean_city</th>\n",
       "      <th>is_nynj</th>\n",
       "      <th>messages_included</th>\n",
       "      <th>minutes_included</th>\n",
       "      <th>usd_monthly_pay</th>\n",
       "      <th>usd_per_gb</th>\n",
       "      <th>usd_per_message</th>\n",
       "      <th>usd_per_minute</th>\n",
       "      <th>gb_per_month_included</th>\n",
       "    </tr>\n",
       "  </thead>\n",
       "  <tbody>\n",
       "    <tr>\n",
       "      <th>0</th>\n",
       "      <td>1000</td>\n",
       "      <td>45</td>\n",
       "      <td>2018-12</td>\n",
       "      <td>ultimate</td>\n",
       "      <td>NaN</td>\n",
       "      <td>GA</td>\n",
       "      <td>0</td>\n",
       "      <td>1000</td>\n",
       "      <td>3000</td>\n",
       "      <td>70.0</td>\n",
       "      <td>7.0</td>\n",
       "      <td>0.01</td>\n",
       "      <td>0.01</td>\n",
       "      <td>30</td>\n",
       "    </tr>\n",
       "    <tr>\n",
       "      <th>1</th>\n",
       "      <td>1001</td>\n",
       "      <td>28</td>\n",
       "      <td>2018-08</td>\n",
       "      <td>surf</td>\n",
       "      <td>NaN</td>\n",
       "      <td>WA</td>\n",
       "      <td>0</td>\n",
       "      <td>50</td>\n",
       "      <td>500</td>\n",
       "      <td>20.0</td>\n",
       "      <td>10.0</td>\n",
       "      <td>0.03</td>\n",
       "      <td>0.03</td>\n",
       "      <td>15</td>\n",
       "    </tr>\n",
       "    <tr>\n",
       "      <th>2</th>\n",
       "      <td>1002</td>\n",
       "      <td>36</td>\n",
       "      <td>2018-10</td>\n",
       "      <td>surf</td>\n",
       "      <td>NaN</td>\n",
       "      <td>NV</td>\n",
       "      <td>0</td>\n",
       "      <td>50</td>\n",
       "      <td>500</td>\n",
       "      <td>20.0</td>\n",
       "      <td>10.0</td>\n",
       "      <td>0.03</td>\n",
       "      <td>0.03</td>\n",
       "      <td>15</td>\n",
       "    </tr>\n",
       "    <tr>\n",
       "      <th>3</th>\n",
       "      <td>1003</td>\n",
       "      <td>52</td>\n",
       "      <td>2018-01</td>\n",
       "      <td>surf</td>\n",
       "      <td>NaN</td>\n",
       "      <td>OK</td>\n",
       "      <td>0</td>\n",
       "      <td>50</td>\n",
       "      <td>500</td>\n",
       "      <td>20.0</td>\n",
       "      <td>10.0</td>\n",
       "      <td>0.03</td>\n",
       "      <td>0.03</td>\n",
       "      <td>15</td>\n",
       "    </tr>\n",
       "    <tr>\n",
       "      <th>4</th>\n",
       "      <td>1004</td>\n",
       "      <td>40</td>\n",
       "      <td>2018-05</td>\n",
       "      <td>surf</td>\n",
       "      <td>NaN</td>\n",
       "      <td>WA</td>\n",
       "      <td>0</td>\n",
       "      <td>50</td>\n",
       "      <td>500</td>\n",
       "      <td>20.0</td>\n",
       "      <td>10.0</td>\n",
       "      <td>0.03</td>\n",
       "      <td>0.03</td>\n",
       "      <td>15</td>\n",
       "    </tr>\n",
       "  </tbody>\n",
       "</table>\n",
       "</div>"
      ],
      "text/plain": [
       "   user_id  age reg_date      plan churn_date clean_city  is_nynj  \\\n",
       "0     1000   45  2018-12  ultimate        NaN         GA        0   \n",
       "1     1001   28  2018-08      surf        NaN         WA        0   \n",
       "2     1002   36  2018-10      surf        NaN         NV        0   \n",
       "3     1003   52  2018-01      surf        NaN         OK        0   \n",
       "4     1004   40  2018-05      surf        NaN         WA        0   \n",
       "\n",
       "   messages_included  minutes_included  usd_monthly_pay  usd_per_gb  \\\n",
       "0               1000              3000             70.0         7.0   \n",
       "1                 50               500             20.0        10.0   \n",
       "2                 50               500             20.0        10.0   \n",
       "3                 50               500             20.0        10.0   \n",
       "4                 50               500             20.0        10.0   \n",
       "\n",
       "   usd_per_message  usd_per_minute  gb_per_month_included  \n",
       "0             0.01            0.01                     30  \n",
       "1             0.03            0.03                     15  \n",
       "2             0.03            0.03                     15  \n",
       "3             0.03            0.03                     15  \n",
       "4             0.03            0.03                     15  "
      ]
     },
     "execution_count": 278,
     "metadata": {},
     "output_type": "execute_result"
    }
   ],
   "source": [
    "table_users = data_users.merge(data_plans, how='left', left_on='plan', right_on='plan_name').drop('plan_name', axis=1)\n",
    "table_users.head()"
   ]
  },
  {
   "cell_type": "markdown",
   "metadata": {},
   "source": [
    "## Mengagregasi Data per Pengguna\n"
   ]
  },
  {
   "cell_type": "markdown",
   "metadata": {},
   "source": [
    "Kita buat variabel baru call_agg dimana kita perlu user_id, year_month dan duration yang sebagai patokan yang nanti akan berguna untuk di agregasikan dengan tabel yang lain. Dengan bantuan pivot table untuk mengambil kolom yang dibutuhkan yang sekaligus kita juga bisa menjumlahkan durationnya untuk setiap pengguna."
   ]
  },
  {
   "cell_type": "markdown",
   "metadata": {},
   "source": [
    "Mengingat data pada kolom duration memiliki nilai float maka kita juga akan membulatkan nilainya ke atas dengan dictionary numphy ceiling."
   ]
  },
  {
   "cell_type": "code",
   "execution_count": 279,
   "metadata": {
    "scrolled": true
   },
   "outputs": [
    {
     "data": {
      "text/html": [
       "<div>\n",
       "<style scoped>\n",
       "    .dataframe tbody tr th:only-of-type {\n",
       "        vertical-align: middle;\n",
       "    }\n",
       "\n",
       "    .dataframe tbody tr th {\n",
       "        vertical-align: top;\n",
       "    }\n",
       "\n",
       "    .dataframe thead th {\n",
       "        text-align: right;\n",
       "    }\n",
       "</style>\n",
       "<table border=\"1\" class=\"dataframe\">\n",
       "  <thead>\n",
       "    <tr style=\"text-align: right;\">\n",
       "      <th></th>\n",
       "      <th>user_id</th>\n",
       "      <th>year_month</th>\n",
       "      <th>duration</th>\n",
       "    </tr>\n",
       "  </thead>\n",
       "  <tbody>\n",
       "    <tr>\n",
       "      <th>0</th>\n",
       "      <td>1000</td>\n",
       "      <td>2018-12</td>\n",
       "      <td>117</td>\n",
       "    </tr>\n",
       "    <tr>\n",
       "      <th>1</th>\n",
       "      <td>1001</td>\n",
       "      <td>2018-08</td>\n",
       "      <td>172</td>\n",
       "    </tr>\n",
       "    <tr>\n",
       "      <th>2</th>\n",
       "      <td>1001</td>\n",
       "      <td>2018-09</td>\n",
       "      <td>298</td>\n",
       "    </tr>\n",
       "    <tr>\n",
       "      <th>3</th>\n",
       "      <td>1001</td>\n",
       "      <td>2018-10</td>\n",
       "      <td>375</td>\n",
       "    </tr>\n",
       "    <tr>\n",
       "      <th>4</th>\n",
       "      <td>1001</td>\n",
       "      <td>2018-11</td>\n",
       "      <td>405</td>\n",
       "    </tr>\n",
       "  </tbody>\n",
       "</table>\n",
       "</div>"
      ],
      "text/plain": [
       "   user_id year_month  duration\n",
       "0     1000    2018-12       117\n",
       "1     1001    2018-08       172\n",
       "2     1001    2018-09       298\n",
       "3     1001    2018-10       375\n",
       "4     1001    2018-11       405"
      ]
     },
     "execution_count": 279,
     "metadata": {},
     "output_type": "execute_result"
    }
   ],
   "source": [
    "call_agg = pd.pivot_table(data_calls, index=['user_id', 'year_month'], values='duration', aggfunc='sum').reset_index()\n",
    "call_agg['duration'] = np.ceil(call_agg['duration']).astype('int')\n",
    "call_agg.head()"
   ]
  },
  {
   "cell_type": "markdown",
   "metadata": {},
   "source": [
    "Selanjutnya untuk internet_agg dimana kita perlu user_id, year_month dan mb_used yang sebagai patokan yang nanti akan berguna untuk di agregasikan dengan tabel yang lain. Dengan bantuan pivot table untuk mengambil kolom yang dibutuhkan yang sekaligus kita juga bisa menjumlahkan mb_usednya untuk setiap pengguna."
   ]
  },
  {
   "cell_type": "markdown",
   "metadata": {},
   "source": [
    "Karena data mb_used masih dalam bentuk megabyte, kita akan mengubahnya sekaligus membuat kolom baru dengan nama gb_used yang diperoleh dari jumlah kolom mb_used yang di bagi dengan 1024 sehingga nilainya menjadi gigabyte."
   ]
  },
  {
   "cell_type": "code",
   "execution_count": 280,
   "metadata": {
    "scrolled": true
   },
   "outputs": [
    {
     "data": {
      "text/html": [
       "<div>\n",
       "<style scoped>\n",
       "    .dataframe tbody tr th:only-of-type {\n",
       "        vertical-align: middle;\n",
       "    }\n",
       "\n",
       "    .dataframe tbody tr th {\n",
       "        vertical-align: top;\n",
       "    }\n",
       "\n",
       "    .dataframe thead th {\n",
       "        text-align: right;\n",
       "    }\n",
       "</style>\n",
       "<table border=\"1\" class=\"dataframe\">\n",
       "  <thead>\n",
       "    <tr style=\"text-align: right;\">\n",
       "      <th></th>\n",
       "      <th>user_id</th>\n",
       "      <th>year_month</th>\n",
       "      <th>mb_used</th>\n",
       "      <th>gb_used</th>\n",
       "    </tr>\n",
       "  </thead>\n",
       "  <tbody>\n",
       "    <tr>\n",
       "      <th>0</th>\n",
       "      <td>1000</td>\n",
       "      <td>2018-12</td>\n",
       "      <td>1901.47</td>\n",
       "      <td>2</td>\n",
       "    </tr>\n",
       "    <tr>\n",
       "      <th>1</th>\n",
       "      <td>1001</td>\n",
       "      <td>2018-08</td>\n",
       "      <td>6919.15</td>\n",
       "      <td>7</td>\n",
       "    </tr>\n",
       "    <tr>\n",
       "      <th>2</th>\n",
       "      <td>1001</td>\n",
       "      <td>2018-09</td>\n",
       "      <td>13314.82</td>\n",
       "      <td>14</td>\n",
       "    </tr>\n",
       "    <tr>\n",
       "      <th>3</th>\n",
       "      <td>1001</td>\n",
       "      <td>2018-10</td>\n",
       "      <td>22330.49</td>\n",
       "      <td>22</td>\n",
       "    </tr>\n",
       "    <tr>\n",
       "      <th>4</th>\n",
       "      <td>1001</td>\n",
       "      <td>2018-11</td>\n",
       "      <td>18504.30</td>\n",
       "      <td>19</td>\n",
       "    </tr>\n",
       "  </tbody>\n",
       "</table>\n",
       "</div>"
      ],
      "text/plain": [
       "   user_id year_month   mb_used  gb_used\n",
       "0     1000    2018-12   1901.47        2\n",
       "1     1001    2018-08   6919.15        7\n",
       "2     1001    2018-09  13314.82       14\n",
       "3     1001    2018-10  22330.49       22\n",
       "4     1001    2018-11  18504.30       19"
      ]
     },
     "execution_count": 280,
     "metadata": {},
     "output_type": "execute_result"
    }
   ],
   "source": [
    "internet_agg = pd.pivot_table(data_internet, index=['user_id', 'year_month'], values='mb_used', aggfunc='sum').reset_index()\n",
    "internet_agg['gb_used'] = np.ceil(internet_agg['mb_used'] / 1024).astype('int')\n",
    "internet_agg.head()"
   ]
  },
  {
   "cell_type": "markdown",
   "metadata": {},
   "source": [
    "Lagi untuk message_agg dimana kita perlu user_id, year_month dan id yang sebagai patokan untuk di agregasikan dengan tabel yang lain. Dengan bantuan pivot table untuk mengambil kolom yang dibutuhkan yang sekaligus kita juga bisa menghitung banyaknya id untuk setiap pengguna sebagai jumlah dari sms yang digunakan."
   ]
  },
  {
   "cell_type": "markdown",
   "metadata": {},
   "source": [
    "Kita juga merubah nama kolomnya dari id menjadi sms."
   ]
  },
  {
   "cell_type": "code",
   "execution_count": 281,
   "metadata": {},
   "outputs": [
    {
     "data": {
      "text/html": [
       "<div>\n",
       "<style scoped>\n",
       "    .dataframe tbody tr th:only-of-type {\n",
       "        vertical-align: middle;\n",
       "    }\n",
       "\n",
       "    .dataframe tbody tr th {\n",
       "        vertical-align: top;\n",
       "    }\n",
       "\n",
       "    .dataframe thead th {\n",
       "        text-align: right;\n",
       "    }\n",
       "</style>\n",
       "<table border=\"1\" class=\"dataframe\">\n",
       "  <thead>\n",
       "    <tr style=\"text-align: right;\">\n",
       "      <th></th>\n",
       "      <th>user_id</th>\n",
       "      <th>year_month</th>\n",
       "      <th>sms</th>\n",
       "    </tr>\n",
       "  </thead>\n",
       "  <tbody>\n",
       "    <tr>\n",
       "      <th>0</th>\n",
       "      <td>1000</td>\n",
       "      <td>2018-12</td>\n",
       "      <td>11</td>\n",
       "    </tr>\n",
       "    <tr>\n",
       "      <th>1</th>\n",
       "      <td>1001</td>\n",
       "      <td>2018-08</td>\n",
       "      <td>30</td>\n",
       "    </tr>\n",
       "    <tr>\n",
       "      <th>2</th>\n",
       "      <td>1001</td>\n",
       "      <td>2018-09</td>\n",
       "      <td>44</td>\n",
       "    </tr>\n",
       "    <tr>\n",
       "      <th>3</th>\n",
       "      <td>1001</td>\n",
       "      <td>2018-10</td>\n",
       "      <td>53</td>\n",
       "    </tr>\n",
       "    <tr>\n",
       "      <th>4</th>\n",
       "      <td>1001</td>\n",
       "      <td>2018-11</td>\n",
       "      <td>36</td>\n",
       "    </tr>\n",
       "  </tbody>\n",
       "</table>\n",
       "</div>"
      ],
      "text/plain": [
       "   user_id year_month  sms\n",
       "0     1000    2018-12   11\n",
       "1     1001    2018-08   30\n",
       "2     1001    2018-09   44\n",
       "3     1001    2018-10   53\n",
       "4     1001    2018-11   36"
      ]
     },
     "execution_count": 281,
     "metadata": {},
     "output_type": "execute_result"
    }
   ],
   "source": [
    "message_agg = pd.pivot_table(data_messages, index=['user_id', 'year_month'], values='id', aggfunc='count').reset_index()\n",
    "message_agg.columns = ['user_id', 'year_month', 'sms']\n",
    "message_agg.head()"
   ]
  },
  {
   "cell_type": "markdown",
   "metadata": {},
   "source": [
    "----------------------- Agregasi -----------------------------"
   ]
  },
  {
   "cell_type": "markdown",
   "metadata": {},
   "source": [
    "Setelah membuat dataset dari variabel calls, sms, dan internet kita bisa manggabungkan semuanya kedalam satu tabel untuk keseluruhan data yang diperlukan untuk analisis. Disini kita gabungkan call_agg ke dalam internet_agg kemudian ke dalam message_agg dan yang terakhir kita gabungkan kedalam table_users yang dimana merupakan jenis paket setiap pengguna yang digunakan."
   ]
  },
  {
   "cell_type": "code",
   "execution_count": 282,
   "metadata": {
    "scrolled": true
   },
   "outputs": [
    {
     "data": {
      "text/html": [
       "<div>\n",
       "<style scoped>\n",
       "    .dataframe tbody tr th:only-of-type {\n",
       "        vertical-align: middle;\n",
       "    }\n",
       "\n",
       "    .dataframe tbody tr th {\n",
       "        vertical-align: top;\n",
       "    }\n",
       "\n",
       "    .dataframe thead th {\n",
       "        text-align: right;\n",
       "    }\n",
       "</style>\n",
       "<table border=\"1\" class=\"dataframe\">\n",
       "  <thead>\n",
       "    <tr style=\"text-align: right;\">\n",
       "      <th></th>\n",
       "      <th>user_id</th>\n",
       "      <th>year_month</th>\n",
       "      <th>duration</th>\n",
       "      <th>mb_used</th>\n",
       "      <th>gb_used</th>\n",
       "      <th>sms</th>\n",
       "      <th>age</th>\n",
       "      <th>reg_date</th>\n",
       "      <th>plan</th>\n",
       "      <th>churn_date</th>\n",
       "      <th>clean_city</th>\n",
       "      <th>is_nynj</th>\n",
       "      <th>messages_included</th>\n",
       "      <th>minutes_included</th>\n",
       "      <th>usd_monthly_pay</th>\n",
       "      <th>usd_per_gb</th>\n",
       "      <th>usd_per_message</th>\n",
       "      <th>usd_per_minute</th>\n",
       "      <th>gb_per_month_included</th>\n",
       "    </tr>\n",
       "  </thead>\n",
       "  <tbody>\n",
       "    <tr>\n",
       "      <th>2288</th>\n",
       "      <td>1349</td>\n",
       "      <td>2018-10</td>\n",
       "      <td>NaN</td>\n",
       "      <td>13093.55</td>\n",
       "      <td>13.0</td>\n",
       "      <td>76.0</td>\n",
       "      <td>69</td>\n",
       "      <td>2018-10</td>\n",
       "      <td>surf</td>\n",
       "      <td>NaN</td>\n",
       "      <td>MA-NH</td>\n",
       "      <td>0</td>\n",
       "      <td>50</td>\n",
       "      <td>500</td>\n",
       "      <td>20.0</td>\n",
       "      <td>10.0</td>\n",
       "      <td>0.03</td>\n",
       "      <td>0.03</td>\n",
       "      <td>15</td>\n",
       "    </tr>\n",
       "    <tr>\n",
       "      <th>2289</th>\n",
       "      <td>1349</td>\n",
       "      <td>2018-11</td>\n",
       "      <td>NaN</td>\n",
       "      <td>17128.26</td>\n",
       "      <td>17.0</td>\n",
       "      <td>72.0</td>\n",
       "      <td>69</td>\n",
       "      <td>2018-10</td>\n",
       "      <td>surf</td>\n",
       "      <td>NaN</td>\n",
       "      <td>MA-NH</td>\n",
       "      <td>0</td>\n",
       "      <td>50</td>\n",
       "      <td>500</td>\n",
       "      <td>20.0</td>\n",
       "      <td>10.0</td>\n",
       "      <td>0.03</td>\n",
       "      <td>0.03</td>\n",
       "      <td>15</td>\n",
       "    </tr>\n",
       "    <tr>\n",
       "      <th>2290</th>\n",
       "      <td>1349</td>\n",
       "      <td>2018-12</td>\n",
       "      <td>NaN</td>\n",
       "      <td>13039.91</td>\n",
       "      <td>13.0</td>\n",
       "      <td>61.0</td>\n",
       "      <td>69</td>\n",
       "      <td>2018-10</td>\n",
       "      <td>surf</td>\n",
       "      <td>NaN</td>\n",
       "      <td>MA-NH</td>\n",
       "      <td>0</td>\n",
       "      <td>50</td>\n",
       "      <td>500</td>\n",
       "      <td>20.0</td>\n",
       "      <td>10.0</td>\n",
       "      <td>0.03</td>\n",
       "      <td>0.03</td>\n",
       "      <td>15</td>\n",
       "    </tr>\n",
       "    <tr>\n",
       "      <th>2291</th>\n",
       "      <td>1361</td>\n",
       "      <td>2018-05</td>\n",
       "      <td>NaN</td>\n",
       "      <td>1519.69</td>\n",
       "      <td>2.0</td>\n",
       "      <td>2.0</td>\n",
       "      <td>45</td>\n",
       "      <td>2018-04</td>\n",
       "      <td>surf</td>\n",
       "      <td>NaN</td>\n",
       "      <td>AL</td>\n",
       "      <td>0</td>\n",
       "      <td>50</td>\n",
       "      <td>500</td>\n",
       "      <td>20.0</td>\n",
       "      <td>10.0</td>\n",
       "      <td>0.03</td>\n",
       "      <td>0.03</td>\n",
       "      <td>15</td>\n",
       "    </tr>\n",
       "    <tr>\n",
       "      <th>2292</th>\n",
       "      <td>1482</td>\n",
       "      <td>2018-10</td>\n",
       "      <td>NaN</td>\n",
       "      <td>NaN</td>\n",
       "      <td>NaN</td>\n",
       "      <td>2.0</td>\n",
       "      <td>70</td>\n",
       "      <td>2018-01</td>\n",
       "      <td>ultimate</td>\n",
       "      <td>NaN</td>\n",
       "      <td>NY-NJ-PA</td>\n",
       "      <td>1</td>\n",
       "      <td>1000</td>\n",
       "      <td>3000</td>\n",
       "      <td>70.0</td>\n",
       "      <td>7.0</td>\n",
       "      <td>0.01</td>\n",
       "      <td>0.01</td>\n",
       "      <td>30</td>\n",
       "    </tr>\n",
       "  </tbody>\n",
       "</table>\n",
       "</div>"
      ],
      "text/plain": [
       "      user_id year_month  duration   mb_used  gb_used   sms  age reg_date  \\\n",
       "2288     1349    2018-10       NaN  13093.55     13.0  76.0   69  2018-10   \n",
       "2289     1349    2018-11       NaN  17128.26     17.0  72.0   69  2018-10   \n",
       "2290     1349    2018-12       NaN  13039.91     13.0  61.0   69  2018-10   \n",
       "2291     1361    2018-05       NaN   1519.69      2.0   2.0   45  2018-04   \n",
       "2292     1482    2018-10       NaN       NaN      NaN   2.0   70  2018-01   \n",
       "\n",
       "          plan churn_date clean_city  is_nynj  messages_included  \\\n",
       "2288      surf        NaN      MA-NH        0                 50   \n",
       "2289      surf        NaN      MA-NH        0                 50   \n",
       "2290      surf        NaN      MA-NH        0                 50   \n",
       "2291      surf        NaN         AL        0                 50   \n",
       "2292  ultimate        NaN   NY-NJ-PA        1               1000   \n",
       "\n",
       "      minutes_included  usd_monthly_pay  usd_per_gb  usd_per_message  \\\n",
       "2288               500             20.0        10.0             0.03   \n",
       "2289               500             20.0        10.0             0.03   \n",
       "2290               500             20.0        10.0             0.03   \n",
       "2291               500             20.0        10.0             0.03   \n",
       "2292              3000             70.0         7.0             0.01   \n",
       "\n",
       "      usd_per_minute  gb_per_month_included  \n",
       "2288            0.03                     15  \n",
       "2289            0.03                     15  \n",
       "2290            0.03                     15  \n",
       "2291            0.03                     15  \n",
       "2292            0.01                     30  "
      ]
     },
     "execution_count": 282,
     "metadata": {},
     "output_type": "execute_result"
    }
   ],
   "source": [
    "main = call_agg.merge(internet_agg, how='outer', on=['user_id', 'year_month'])\n",
    "main = main.merge(message_agg, how='outer', on=['user_id', 'year_month'])\n",
    "df = main.merge(table_users, how='left', on='user_id')\n",
    "df.tail()"
   ]
  },
  {
   "cell_type": "markdown",
   "metadata": {},
   "source": [
    "Kita cleansing dulu beberapa data yang masih mendapati masalah di beberapa kolom, seperti kita hapus kolom yang tidak perlu untuk analisis."
   ]
  },
  {
   "cell_type": "code",
   "execution_count": 283,
   "metadata": {
    "scrolled": true
   },
   "outputs": [
    {
     "data": {
      "text/html": [
       "<div>\n",
       "<style scoped>\n",
       "    .dataframe tbody tr th:only-of-type {\n",
       "        vertical-align: middle;\n",
       "    }\n",
       "\n",
       "    .dataframe tbody tr th {\n",
       "        vertical-align: top;\n",
       "    }\n",
       "\n",
       "    .dataframe thead th {\n",
       "        text-align: right;\n",
       "    }\n",
       "</style>\n",
       "<table border=\"1\" class=\"dataframe\">\n",
       "  <thead>\n",
       "    <tr style=\"text-align: right;\">\n",
       "      <th></th>\n",
       "      <th>user_id</th>\n",
       "      <th>year_month</th>\n",
       "      <th>duration</th>\n",
       "      <th>gb_used</th>\n",
       "      <th>sms</th>\n",
       "      <th>age</th>\n",
       "      <th>plan</th>\n",
       "      <th>clean_city</th>\n",
       "      <th>is_nynj</th>\n",
       "      <th>messages_included</th>\n",
       "      <th>minutes_included</th>\n",
       "      <th>usd_monthly_pay</th>\n",
       "      <th>usd_per_gb</th>\n",
       "      <th>usd_per_message</th>\n",
       "      <th>usd_per_minute</th>\n",
       "      <th>gb_per_month_included</th>\n",
       "    </tr>\n",
       "  </thead>\n",
       "  <tbody>\n",
       "    <tr>\n",
       "      <th>0</th>\n",
       "      <td>1000</td>\n",
       "      <td>2018-12</td>\n",
       "      <td>117.0</td>\n",
       "      <td>2.0</td>\n",
       "      <td>11.0</td>\n",
       "      <td>45</td>\n",
       "      <td>ultimate</td>\n",
       "      <td>GA</td>\n",
       "      <td>0</td>\n",
       "      <td>1000</td>\n",
       "      <td>3000</td>\n",
       "      <td>70.0</td>\n",
       "      <td>7.0</td>\n",
       "      <td>0.01</td>\n",
       "      <td>0.01</td>\n",
       "      <td>30</td>\n",
       "    </tr>\n",
       "    <tr>\n",
       "      <th>1</th>\n",
       "      <td>1001</td>\n",
       "      <td>2018-08</td>\n",
       "      <td>172.0</td>\n",
       "      <td>7.0</td>\n",
       "      <td>30.0</td>\n",
       "      <td>28</td>\n",
       "      <td>surf</td>\n",
       "      <td>WA</td>\n",
       "      <td>0</td>\n",
       "      <td>50</td>\n",
       "      <td>500</td>\n",
       "      <td>20.0</td>\n",
       "      <td>10.0</td>\n",
       "      <td>0.03</td>\n",
       "      <td>0.03</td>\n",
       "      <td>15</td>\n",
       "    </tr>\n",
       "    <tr>\n",
       "      <th>2</th>\n",
       "      <td>1001</td>\n",
       "      <td>2018-09</td>\n",
       "      <td>298.0</td>\n",
       "      <td>14.0</td>\n",
       "      <td>44.0</td>\n",
       "      <td>28</td>\n",
       "      <td>surf</td>\n",
       "      <td>WA</td>\n",
       "      <td>0</td>\n",
       "      <td>50</td>\n",
       "      <td>500</td>\n",
       "      <td>20.0</td>\n",
       "      <td>10.0</td>\n",
       "      <td>0.03</td>\n",
       "      <td>0.03</td>\n",
       "      <td>15</td>\n",
       "    </tr>\n",
       "    <tr>\n",
       "      <th>3</th>\n",
       "      <td>1001</td>\n",
       "      <td>2018-10</td>\n",
       "      <td>375.0</td>\n",
       "      <td>22.0</td>\n",
       "      <td>53.0</td>\n",
       "      <td>28</td>\n",
       "      <td>surf</td>\n",
       "      <td>WA</td>\n",
       "      <td>0</td>\n",
       "      <td>50</td>\n",
       "      <td>500</td>\n",
       "      <td>20.0</td>\n",
       "      <td>10.0</td>\n",
       "      <td>0.03</td>\n",
       "      <td>0.03</td>\n",
       "      <td>15</td>\n",
       "    </tr>\n",
       "    <tr>\n",
       "      <th>4</th>\n",
       "      <td>1001</td>\n",
       "      <td>2018-11</td>\n",
       "      <td>405.0</td>\n",
       "      <td>19.0</td>\n",
       "      <td>36.0</td>\n",
       "      <td>28</td>\n",
       "      <td>surf</td>\n",
       "      <td>WA</td>\n",
       "      <td>0</td>\n",
       "      <td>50</td>\n",
       "      <td>500</td>\n",
       "      <td>20.0</td>\n",
       "      <td>10.0</td>\n",
       "      <td>0.03</td>\n",
       "      <td>0.03</td>\n",
       "      <td>15</td>\n",
       "    </tr>\n",
       "  </tbody>\n",
       "</table>\n",
       "</div>"
      ],
      "text/plain": [
       "   user_id year_month  duration  gb_used   sms  age      plan clean_city  \\\n",
       "0     1000    2018-12     117.0      2.0  11.0   45  ultimate         GA   \n",
       "1     1001    2018-08     172.0      7.0  30.0   28      surf         WA   \n",
       "2     1001    2018-09     298.0     14.0  44.0   28      surf         WA   \n",
       "3     1001    2018-10     375.0     22.0  53.0   28      surf         WA   \n",
       "4     1001    2018-11     405.0     19.0  36.0   28      surf         WA   \n",
       "\n",
       "   is_nynj  messages_included  minutes_included  usd_monthly_pay  usd_per_gb  \\\n",
       "0        0               1000              3000             70.0         7.0   \n",
       "1        0                 50               500             20.0        10.0   \n",
       "2        0                 50               500             20.0        10.0   \n",
       "3        0                 50               500             20.0        10.0   \n",
       "4        0                 50               500             20.0        10.0   \n",
       "\n",
       "   usd_per_message  usd_per_minute  gb_per_month_included  \n",
       "0             0.01            0.01                     30  \n",
       "1             0.03            0.03                     15  \n",
       "2             0.03            0.03                     15  \n",
       "3             0.03            0.03                     15  \n",
       "4             0.03            0.03                     15  "
      ]
     },
     "execution_count": 283,
     "metadata": {},
     "output_type": "execute_result"
    }
   ],
   "source": [
    "df.drop(['mb_used', 'reg_date', 'churn_date'], axis=1, inplace=True)\n",
    "df.head()"
   ]
  },
  {
   "cell_type": "markdown",
   "metadata": {},
   "source": [
    "Mencari dan mengisi nilai yang hilang, disini pada kolom sms dan duration kita isi dengan mediannya. Sedangkan pada kolom gb_used cukup kita isi dengan nilai 0 karena hanya sedikit yang hilang datanya."
   ]
  },
  {
   "cell_type": "code",
   "execution_count": 284,
   "metadata": {
    "scrolled": true
   },
   "outputs": [
    {
     "data": {
      "text/html": [
       "<div>\n",
       "<style scoped>\n",
       "    .dataframe tbody tr th:only-of-type {\n",
       "        vertical-align: middle;\n",
       "    }\n",
       "\n",
       "    .dataframe tbody tr th {\n",
       "        vertical-align: top;\n",
       "    }\n",
       "\n",
       "    .dataframe thead th {\n",
       "        text-align: right;\n",
       "    }\n",
       "</style>\n",
       "<table border=\"1\" class=\"dataframe\">\n",
       "  <thead>\n",
       "    <tr style=\"text-align: right;\">\n",
       "      <th></th>\n",
       "      <th>missing_values</th>\n",
       "      <th>% of total</th>\n",
       "    </tr>\n",
       "  </thead>\n",
       "  <tbody>\n",
       "    <tr>\n",
       "      <th>sms</th>\n",
       "      <td>487</td>\n",
       "      <td>0.21</td>\n",
       "    </tr>\n",
       "    <tr>\n",
       "      <th>duration</th>\n",
       "      <td>35</td>\n",
       "      <td>0.02</td>\n",
       "    </tr>\n",
       "    <tr>\n",
       "      <th>gb_used</th>\n",
       "      <td>16</td>\n",
       "      <td>0.01</td>\n",
       "    </tr>\n",
       "    <tr>\n",
       "      <th>user_id</th>\n",
       "      <td>0</td>\n",
       "      <td>0.00</td>\n",
       "    </tr>\n",
       "    <tr>\n",
       "      <th>year_month</th>\n",
       "      <td>0</td>\n",
       "      <td>0.00</td>\n",
       "    </tr>\n",
       "    <tr>\n",
       "      <th>age</th>\n",
       "      <td>0</td>\n",
       "      <td>0.00</td>\n",
       "    </tr>\n",
       "    <tr>\n",
       "      <th>plan</th>\n",
       "      <td>0</td>\n",
       "      <td>0.00</td>\n",
       "    </tr>\n",
       "    <tr>\n",
       "      <th>clean_city</th>\n",
       "      <td>0</td>\n",
       "      <td>0.00</td>\n",
       "    </tr>\n",
       "    <tr>\n",
       "      <th>is_nynj</th>\n",
       "      <td>0</td>\n",
       "      <td>0.00</td>\n",
       "    </tr>\n",
       "    <tr>\n",
       "      <th>messages_included</th>\n",
       "      <td>0</td>\n",
       "      <td>0.00</td>\n",
       "    </tr>\n",
       "    <tr>\n",
       "      <th>minutes_included</th>\n",
       "      <td>0</td>\n",
       "      <td>0.00</td>\n",
       "    </tr>\n",
       "    <tr>\n",
       "      <th>usd_monthly_pay</th>\n",
       "      <td>0</td>\n",
       "      <td>0.00</td>\n",
       "    </tr>\n",
       "    <tr>\n",
       "      <th>usd_per_gb</th>\n",
       "      <td>0</td>\n",
       "      <td>0.00</td>\n",
       "    </tr>\n",
       "    <tr>\n",
       "      <th>usd_per_message</th>\n",
       "      <td>0</td>\n",
       "      <td>0.00</td>\n",
       "    </tr>\n",
       "    <tr>\n",
       "      <th>usd_per_minute</th>\n",
       "      <td>0</td>\n",
       "      <td>0.00</td>\n",
       "    </tr>\n",
       "    <tr>\n",
       "      <th>gb_per_month_included</th>\n",
       "      <td>0</td>\n",
       "      <td>0.00</td>\n",
       "    </tr>\n",
       "  </tbody>\n",
       "</table>\n",
       "</div>"
      ],
      "text/plain": [
       "                       missing_values  % of total\n",
       "sms                               487        0.21\n",
       "duration                           35        0.02\n",
       "gb_used                            16        0.01\n",
       "user_id                             0        0.00\n",
       "year_month                          0        0.00\n",
       "age                                 0        0.00\n",
       "plan                                0        0.00\n",
       "clean_city                          0        0.00\n",
       "is_nynj                             0        0.00\n",
       "messages_included                   0        0.00\n",
       "minutes_included                    0        0.00\n",
       "usd_monthly_pay                     0        0.00\n",
       "usd_per_gb                          0        0.00\n",
       "usd_per_message                     0        0.00\n",
       "usd_per_minute                      0        0.00\n",
       "gb_per_month_included               0        0.00"
      ]
     },
     "execution_count": 284,
     "metadata": {},
     "output_type": "execute_result"
    }
   ],
   "source": [
    "report_null = df.isnull().sum().to_frame()\n",
    "report_null = report_null.rename(columns={0:'missing_values'})\n",
    "report_null['% of total'] = (report_null['missing_values'] / df.shape[0]).round(2)\n",
    "report_null.sort_values(by='missing_values', ascending=False)"
   ]
  },
  {
   "cell_type": "code",
   "execution_count": 285,
   "metadata": {},
   "outputs": [],
   "source": [
    "grouped_by_plan = df.groupby('plan').agg({'sms': 'median', 'duration': 'median'})\n",
    "for plans in df['plan'].unique():\n",
    "    df.loc[(df['plan'] == plans) & (df['sms'].isnull()), 'sms'] = \\\n",
    "        grouped_by_plan.loc[grouped_by_plan.index == plans, 'sms'][0]\n",
    "    df.loc[(df['plan'] == plans) & (df['duration'].isnull()), 'duration'] = \\\n",
    "        grouped_by_plan.loc[grouped_by_plan.index == plans, 'duration'][0]"
   ]
  },
  {
   "cell_type": "code",
   "execution_count": 286,
   "metadata": {},
   "outputs": [],
   "source": [
    "df['gb_used'] = df['gb_used'].fillna(0)"
   ]
  },
  {
   "cell_type": "code",
   "execution_count": 287,
   "metadata": {
    "scrolled": false
   },
   "outputs": [
    {
     "data": {
      "text/html": [
       "<div>\n",
       "<style scoped>\n",
       "    .dataframe tbody tr th:only-of-type {\n",
       "        vertical-align: middle;\n",
       "    }\n",
       "\n",
       "    .dataframe tbody tr th {\n",
       "        vertical-align: top;\n",
       "    }\n",
       "\n",
       "    .dataframe thead th {\n",
       "        text-align: right;\n",
       "    }\n",
       "</style>\n",
       "<table border=\"1\" class=\"dataframe\">\n",
       "  <thead>\n",
       "    <tr style=\"text-align: right;\">\n",
       "      <th></th>\n",
       "      <th>missing_values</th>\n",
       "      <th>% of total</th>\n",
       "    </tr>\n",
       "  </thead>\n",
       "  <tbody>\n",
       "    <tr>\n",
       "      <th>user_id</th>\n",
       "      <td>0</td>\n",
       "      <td>0.0</td>\n",
       "    </tr>\n",
       "    <tr>\n",
       "      <th>year_month</th>\n",
       "      <td>0</td>\n",
       "      <td>0.0</td>\n",
       "    </tr>\n",
       "    <tr>\n",
       "      <th>duration</th>\n",
       "      <td>0</td>\n",
       "      <td>0.0</td>\n",
       "    </tr>\n",
       "    <tr>\n",
       "      <th>gb_used</th>\n",
       "      <td>0</td>\n",
       "      <td>0.0</td>\n",
       "    </tr>\n",
       "    <tr>\n",
       "      <th>sms</th>\n",
       "      <td>0</td>\n",
       "      <td>0.0</td>\n",
       "    </tr>\n",
       "    <tr>\n",
       "      <th>age</th>\n",
       "      <td>0</td>\n",
       "      <td>0.0</td>\n",
       "    </tr>\n",
       "    <tr>\n",
       "      <th>plan</th>\n",
       "      <td>0</td>\n",
       "      <td>0.0</td>\n",
       "    </tr>\n",
       "    <tr>\n",
       "      <th>clean_city</th>\n",
       "      <td>0</td>\n",
       "      <td>0.0</td>\n",
       "    </tr>\n",
       "    <tr>\n",
       "      <th>is_nynj</th>\n",
       "      <td>0</td>\n",
       "      <td>0.0</td>\n",
       "    </tr>\n",
       "    <tr>\n",
       "      <th>messages_included</th>\n",
       "      <td>0</td>\n",
       "      <td>0.0</td>\n",
       "    </tr>\n",
       "    <tr>\n",
       "      <th>minutes_included</th>\n",
       "      <td>0</td>\n",
       "      <td>0.0</td>\n",
       "    </tr>\n",
       "    <tr>\n",
       "      <th>usd_monthly_pay</th>\n",
       "      <td>0</td>\n",
       "      <td>0.0</td>\n",
       "    </tr>\n",
       "    <tr>\n",
       "      <th>usd_per_gb</th>\n",
       "      <td>0</td>\n",
       "      <td>0.0</td>\n",
       "    </tr>\n",
       "    <tr>\n",
       "      <th>usd_per_message</th>\n",
       "      <td>0</td>\n",
       "      <td>0.0</td>\n",
       "    </tr>\n",
       "    <tr>\n",
       "      <th>usd_per_minute</th>\n",
       "      <td>0</td>\n",
       "      <td>0.0</td>\n",
       "    </tr>\n",
       "    <tr>\n",
       "      <th>gb_per_month_included</th>\n",
       "      <td>0</td>\n",
       "      <td>0.0</td>\n",
       "    </tr>\n",
       "  </tbody>\n",
       "</table>\n",
       "</div>"
      ],
      "text/plain": [
       "                       missing_values  % of total\n",
       "user_id                             0         0.0\n",
       "year_month                          0         0.0\n",
       "duration                            0         0.0\n",
       "gb_used                             0         0.0\n",
       "sms                                 0         0.0\n",
       "age                                 0         0.0\n",
       "plan                                0         0.0\n",
       "clean_city                          0         0.0\n",
       "is_nynj                             0         0.0\n",
       "messages_included                   0         0.0\n",
       "minutes_included                    0         0.0\n",
       "usd_monthly_pay                     0         0.0\n",
       "usd_per_gb                          0         0.0\n",
       "usd_per_message                     0         0.0\n",
       "usd_per_minute                      0         0.0\n",
       "gb_per_month_included               0         0.0"
      ]
     },
     "execution_count": 287,
     "metadata": {},
     "output_type": "execute_result"
    }
   ],
   "source": [
    "report_null = df.isnull().sum().to_frame()\n",
    "report_null = report_null.rename(columns={0:'missing_values'})\n",
    "report_null['% of total'] = (report_null['missing_values'] / df.shape[0]).round(2)\n",
    "report_null.sort_values(by='missing_values', ascending=False)"
   ]
  },
  {
   "cell_type": "markdown",
   "metadata": {},
   "source": [
    "Setelah kita cleansing semua datanya maka kita akan memperkaya kualitas datanya yang juga kita cari tahu pendapatan yang bisa kita dapat dari setiap paket yang digunakan oleh setiap pengguna."
   ]
  },
  {
   "cell_type": "markdown",
   "metadata": {},
   "source": [
    "Pertama mencari extra_calls dimana durasi setiap penggunaan oleh pengguna melebihi batas dari paket yang di bebankan. Secara matematis extra_calls dapat diperoleh dengan cara menghitung durasi yang dikurangi dengan batas durasi paket (minutes_included) dan dikalikan biaya extra untuk per menitnya (usd_per_minute)"
   ]
  },
  {
   "cell_type": "code",
   "execution_count": 288,
   "metadata": {},
   "outputs": [],
   "source": [
    "df['extra_calls'] = (df['duration'] - df['minutes_included']) * df['usd_per_minute']"
   ]
  },
  {
   "cell_type": "code",
   "execution_count": 289,
   "metadata": {},
   "outputs": [],
   "source": [
    "df.loc[df['extra_calls'] < 0, 'extra_calls'] = 0"
   ]
  },
  {
   "cell_type": "markdown",
   "metadata": {},
   "source": [
    "Kedua mencari extra_sms dimana jumlah sms setiap penggunaan oleh pengguna melebihi batas dari paket yang di bebankan. Secara matematis extra_sms dapat diperoleh dengan cara menghitung jumlah sms yang dikurangi dengan batas sms paket (messages_included) dan dikalikan biaya extra untuk per smsnya (usd_per_message)"
   ]
  },
  {
   "cell_type": "code",
   "execution_count": 290,
   "metadata": {},
   "outputs": [],
   "source": [
    "df['extra_sms'] = (df['sms'] - df['messages_included']) * df['usd_per_message']"
   ]
  },
  {
   "cell_type": "code",
   "execution_count": 291,
   "metadata": {},
   "outputs": [],
   "source": [
    "df.loc[df['extra_sms'] < 0, 'extra_sms'] = 0"
   ]
  },
  {
   "cell_type": "markdown",
   "metadata": {},
   "source": [
    "Ketiga mencari extra_internet dimana gb_used setiap penggunaan oleh pengguna melebihi batas dari paket yang di bebankan. Secara matematis extra_internet dapat diperoleh dengan cara menghitung gb_used yang dikurangi dengan batas internet paket (gb_per_month_included) dan dikalikan biaya extra untuk per gigabytenya (usd_per_gb)"
   ]
  },
  {
   "cell_type": "code",
   "execution_count": 292,
   "metadata": {},
   "outputs": [],
   "source": [
    "df['extra_internet'] = (df['gb_used'] - df['gb_per_month_included']) * df['usd_per_gb']"
   ]
  },
  {
   "cell_type": "code",
   "execution_count": 293,
   "metadata": {},
   "outputs": [],
   "source": [
    "df.loc[df['extra_internet'] < 0, 'extra_internet'] = 0"
   ]
  },
  {
   "cell_type": "markdown",
   "metadata": {},
   "source": [
    "Setelah semua sudah dihitung maka kita bisa mendapatkan nilai untuk pendapatan. Nilai tersebut dihitung berdasarkan biaya bulanan (usd_monthly_pay), ditambah extra_calls, ditambah lagi extra_internet, dan ditambahkan lagi dengan extra_sms."
   ]
  },
  {
   "cell_type": "code",
   "execution_count": 294,
   "metadata": {},
   "outputs": [],
   "source": [
    "df['total_income'] = df['usd_monthly_pay'] + df['extra_calls'] + df['extra_internet'] + df['extra_sms']"
   ]
  },
  {
   "cell_type": "code",
   "execution_count": 295,
   "metadata": {
    "scrolled": true
   },
   "outputs": [
    {
     "data": {
      "text/html": [
       "<div>\n",
       "<style scoped>\n",
       "    .dataframe tbody tr th:only-of-type {\n",
       "        vertical-align: middle;\n",
       "    }\n",
       "\n",
       "    .dataframe tbody tr th {\n",
       "        vertical-align: top;\n",
       "    }\n",
       "\n",
       "    .dataframe thead th {\n",
       "        text-align: right;\n",
       "    }\n",
       "</style>\n",
       "<table border=\"1\" class=\"dataframe\">\n",
       "  <thead>\n",
       "    <tr style=\"text-align: right;\">\n",
       "      <th></th>\n",
       "      <th>user_id</th>\n",
       "      <th>year_month</th>\n",
       "      <th>duration</th>\n",
       "      <th>gb_used</th>\n",
       "      <th>sms</th>\n",
       "      <th>age</th>\n",
       "      <th>plan</th>\n",
       "      <th>clean_city</th>\n",
       "      <th>is_nynj</th>\n",
       "      <th>messages_included</th>\n",
       "      <th>minutes_included</th>\n",
       "      <th>usd_monthly_pay</th>\n",
       "      <th>usd_per_gb</th>\n",
       "      <th>usd_per_message</th>\n",
       "      <th>usd_per_minute</th>\n",
       "      <th>gb_per_month_included</th>\n",
       "      <th>extra_calls</th>\n",
       "      <th>extra_sms</th>\n",
       "      <th>extra_internet</th>\n",
       "      <th>total_income</th>\n",
       "    </tr>\n",
       "  </thead>\n",
       "  <tbody>\n",
       "    <tr>\n",
       "      <th>2288</th>\n",
       "      <td>1349</td>\n",
       "      <td>2018-10</td>\n",
       "      <td>406.0</td>\n",
       "      <td>13.0</td>\n",
       "      <td>76.0</td>\n",
       "      <td>69</td>\n",
       "      <td>surf</td>\n",
       "      <td>MA-NH</td>\n",
       "      <td>0</td>\n",
       "      <td>50</td>\n",
       "      <td>500</td>\n",
       "      <td>20.0</td>\n",
       "      <td>10.0</td>\n",
       "      <td>0.03</td>\n",
       "      <td>0.03</td>\n",
       "      <td>15</td>\n",
       "      <td>0.0</td>\n",
       "      <td>0.78</td>\n",
       "      <td>0.0</td>\n",
       "      <td>20.78</td>\n",
       "    </tr>\n",
       "    <tr>\n",
       "      <th>2289</th>\n",
       "      <td>1349</td>\n",
       "      <td>2018-11</td>\n",
       "      <td>406.0</td>\n",
       "      <td>17.0</td>\n",
       "      <td>72.0</td>\n",
       "      <td>69</td>\n",
       "      <td>surf</td>\n",
       "      <td>MA-NH</td>\n",
       "      <td>0</td>\n",
       "      <td>50</td>\n",
       "      <td>500</td>\n",
       "      <td>20.0</td>\n",
       "      <td>10.0</td>\n",
       "      <td>0.03</td>\n",
       "      <td>0.03</td>\n",
       "      <td>15</td>\n",
       "      <td>0.0</td>\n",
       "      <td>0.66</td>\n",
       "      <td>20.0</td>\n",
       "      <td>40.66</td>\n",
       "    </tr>\n",
       "    <tr>\n",
       "      <th>2290</th>\n",
       "      <td>1349</td>\n",
       "      <td>2018-12</td>\n",
       "      <td>406.0</td>\n",
       "      <td>13.0</td>\n",
       "      <td>61.0</td>\n",
       "      <td>69</td>\n",
       "      <td>surf</td>\n",
       "      <td>MA-NH</td>\n",
       "      <td>0</td>\n",
       "      <td>50</td>\n",
       "      <td>500</td>\n",
       "      <td>20.0</td>\n",
       "      <td>10.0</td>\n",
       "      <td>0.03</td>\n",
       "      <td>0.03</td>\n",
       "      <td>15</td>\n",
       "      <td>0.0</td>\n",
       "      <td>0.33</td>\n",
       "      <td>0.0</td>\n",
       "      <td>20.33</td>\n",
       "    </tr>\n",
       "    <tr>\n",
       "      <th>2291</th>\n",
       "      <td>1361</td>\n",
       "      <td>2018-05</td>\n",
       "      <td>406.0</td>\n",
       "      <td>2.0</td>\n",
       "      <td>2.0</td>\n",
       "      <td>45</td>\n",
       "      <td>surf</td>\n",
       "      <td>AL</td>\n",
       "      <td>0</td>\n",
       "      <td>50</td>\n",
       "      <td>500</td>\n",
       "      <td>20.0</td>\n",
       "      <td>10.0</td>\n",
       "      <td>0.03</td>\n",
       "      <td>0.03</td>\n",
       "      <td>15</td>\n",
       "      <td>0.0</td>\n",
       "      <td>0.00</td>\n",
       "      <td>0.0</td>\n",
       "      <td>20.00</td>\n",
       "    </tr>\n",
       "    <tr>\n",
       "      <th>2292</th>\n",
       "      <td>1482</td>\n",
       "      <td>2018-10</td>\n",
       "      <td>400.0</td>\n",
       "      <td>0.0</td>\n",
       "      <td>2.0</td>\n",
       "      <td>70</td>\n",
       "      <td>ultimate</td>\n",
       "      <td>NY-NJ-PA</td>\n",
       "      <td>1</td>\n",
       "      <td>1000</td>\n",
       "      <td>3000</td>\n",
       "      <td>70.0</td>\n",
       "      <td>7.0</td>\n",
       "      <td>0.01</td>\n",
       "      <td>0.01</td>\n",
       "      <td>30</td>\n",
       "      <td>0.0</td>\n",
       "      <td>0.00</td>\n",
       "      <td>0.0</td>\n",
       "      <td>70.00</td>\n",
       "    </tr>\n",
       "  </tbody>\n",
       "</table>\n",
       "</div>"
      ],
      "text/plain": [
       "      user_id year_month  duration  gb_used   sms  age      plan clean_city  \\\n",
       "2288     1349    2018-10     406.0     13.0  76.0   69      surf      MA-NH   \n",
       "2289     1349    2018-11     406.0     17.0  72.0   69      surf      MA-NH   \n",
       "2290     1349    2018-12     406.0     13.0  61.0   69      surf      MA-NH   \n",
       "2291     1361    2018-05     406.0      2.0   2.0   45      surf         AL   \n",
       "2292     1482    2018-10     400.0      0.0   2.0   70  ultimate   NY-NJ-PA   \n",
       "\n",
       "      is_nynj  messages_included  minutes_included  usd_monthly_pay  \\\n",
       "2288        0                 50               500             20.0   \n",
       "2289        0                 50               500             20.0   \n",
       "2290        0                 50               500             20.0   \n",
       "2291        0                 50               500             20.0   \n",
       "2292        1               1000              3000             70.0   \n",
       "\n",
       "      usd_per_gb  usd_per_message  usd_per_minute  gb_per_month_included  \\\n",
       "2288        10.0             0.03            0.03                     15   \n",
       "2289        10.0             0.03            0.03                     15   \n",
       "2290        10.0             0.03            0.03                     15   \n",
       "2291        10.0             0.03            0.03                     15   \n",
       "2292         7.0             0.01            0.01                     30   \n",
       "\n",
       "      extra_calls  extra_sms  extra_internet  total_income  \n",
       "2288          0.0       0.78             0.0         20.78  \n",
       "2289          0.0       0.66            20.0         40.66  \n",
       "2290          0.0       0.33             0.0         20.33  \n",
       "2291          0.0       0.00             0.0         20.00  \n",
       "2292          0.0       0.00             0.0         70.00  "
      ]
     },
     "execution_count": 295,
     "metadata": {},
     "output_type": "execute_result"
    }
   ],
   "source": [
    "df.tail()"
   ]
  },
  {
   "cell_type": "code",
   "execution_count": 296,
   "metadata": {},
   "outputs": [
    {
     "data": {
      "text/plain": [
       "(2293, 20)"
      ]
     },
     "execution_count": 296,
     "metadata": {},
     "output_type": "execute_result"
    }
   ],
   "source": [
    "df.shape"
   ]
  },
  {
   "cell_type": "markdown",
   "metadata": {},
   "source": [
    "## Mempelajari Perilaku Pengguna"
   ]
  },
  {
   "cell_type": "markdown",
   "metadata": {},
   "source": [
    "Perilaku pengguna dapat kita ukur berdasarkan data yang kita miliki yang dihitung secara statistik. Mengingat data telah kita agregasikan dan gabungkan dengan semua variabel yang diperlukan, maka alangkah lebih baik kita mempelajari perilaku pengguna secara visual dengan diagram maupun grafik."
   ]
  },
  {
   "cell_type": "markdown",
   "metadata": {},
   "source": [
    "### Panggilan"
   ]
  },
  {
   "cell_type": "markdown",
   "metadata": {},
   "source": [
    "Kita bikin variabel avg_duration_monthly untuk menunjukkan rata-rata penggunaan panggilan setiap bulan berdasarkan paket yang digunakan. Setelah itu kita bikin variabel id_plan untuk menunjukkan jumlah panggilan yang dibutuhkan setiap pengguna dan setiap bulannya berdasarkan paket yang digunakan."
   ]
  },
  {
   "cell_type": "code",
   "execution_count": 297,
   "metadata": {
    "scrolled": false
   },
   "outputs": [
    {
     "data": {
      "text/html": [
       "<div>\n",
       "<style scoped>\n",
       "    .dataframe tbody tr th:only-of-type {\n",
       "        vertical-align: middle;\n",
       "    }\n",
       "\n",
       "    .dataframe tbody tr th {\n",
       "        vertical-align: top;\n",
       "    }\n",
       "\n",
       "    .dataframe thead th {\n",
       "        text-align: right;\n",
       "    }\n",
       "</style>\n",
       "<table border=\"1\" class=\"dataframe\">\n",
       "  <thead>\n",
       "    <tr style=\"text-align: right;\">\n",
       "      <th>plan</th>\n",
       "      <th>year_month</th>\n",
       "      <th>surf</th>\n",
       "      <th>ultimate</th>\n",
       "    </tr>\n",
       "  </thead>\n",
       "  <tbody>\n",
       "    <tr>\n",
       "      <th>0</th>\n",
       "      <td>2018-01</td>\n",
       "      <td>193.000000</td>\n",
       "      <td>183.750000</td>\n",
       "    </tr>\n",
       "    <tr>\n",
       "      <th>1</th>\n",
       "      <td>2018-02</td>\n",
       "      <td>281.333333</td>\n",
       "      <td>437.571429</td>\n",
       "    </tr>\n",
       "    <tr>\n",
       "      <th>2</th>\n",
       "      <td>2018-03</td>\n",
       "      <td>311.434783</td>\n",
       "      <td>286.166667</td>\n",
       "    </tr>\n",
       "    <tr>\n",
       "      <th>3</th>\n",
       "      <td>2018-04</td>\n",
       "      <td>332.920000</td>\n",
       "      <td>317.095238</td>\n",
       "    </tr>\n",
       "    <tr>\n",
       "      <th>4</th>\n",
       "      <td>2018-05</td>\n",
       "      <td>388.077922</td>\n",
       "      <td>384.206897</td>\n",
       "    </tr>\n",
       "    <tr>\n",
       "      <th>5</th>\n",
       "      <td>2018-06</td>\n",
       "      <td>411.876289</td>\n",
       "      <td>367.382979</td>\n",
       "    </tr>\n",
       "    <tr>\n",
       "      <th>6</th>\n",
       "      <td>2018-07</td>\n",
       "      <td>428.355372</td>\n",
       "      <td>404.271186</td>\n",
       "    </tr>\n",
       "    <tr>\n",
       "      <th>7</th>\n",
       "      <td>2018-08</td>\n",
       "      <td>395.179012</td>\n",
       "      <td>397.788732</td>\n",
       "    </tr>\n",
       "    <tr>\n",
       "      <th>8</th>\n",
       "      <td>2018-09</td>\n",
       "      <td>397.731959</td>\n",
       "      <td>413.779070</td>\n",
       "    </tr>\n",
       "    <tr>\n",
       "      <th>9</th>\n",
       "      <td>2018-10</td>\n",
       "      <td>414.767932</td>\n",
       "      <td>429.471698</td>\n",
       "    </tr>\n",
       "    <tr>\n",
       "      <th>10</th>\n",
       "      <td>2018-11</td>\n",
       "      <td>408.674912</td>\n",
       "      <td>424.094488</td>\n",
       "    </tr>\n",
       "    <tr>\n",
       "      <th>11</th>\n",
       "      <td>2018-12</td>\n",
       "      <td>456.921384</td>\n",
       "      <td>438.847682</td>\n",
       "    </tr>\n",
       "  </tbody>\n",
       "</table>\n",
       "</div>"
      ],
      "text/plain": [
       "plan year_month        surf    ultimate\n",
       "0       2018-01  193.000000  183.750000\n",
       "1       2018-02  281.333333  437.571429\n",
       "2       2018-03  311.434783  286.166667\n",
       "3       2018-04  332.920000  317.095238\n",
       "4       2018-05  388.077922  384.206897\n",
       "5       2018-06  411.876289  367.382979\n",
       "6       2018-07  428.355372  404.271186\n",
       "7       2018-08  395.179012  397.788732\n",
       "8       2018-09  397.731959  413.779070\n",
       "9       2018-10  414.767932  429.471698\n",
       "10      2018-11  408.674912  424.094488\n",
       "11      2018-12  456.921384  438.847682"
      ]
     },
     "execution_count": 297,
     "metadata": {},
     "output_type": "execute_result"
    }
   ],
   "source": [
    "avg_duration_monthly = pd.pivot_table(df, index='year_month', columns='plan', values='duration', aggfunc='mean').reset_index()\n",
    "avg_duration_monthly['year_month'] = avg_duration_monthly['year_month'].astype(str)\n",
    "avg_duration_monthly"
   ]
  },
  {
   "cell_type": "markdown",
   "metadata": {},
   "source": [
    "Pada visualisasi diagram batang untuk rata-rata durasi panggilan per bulan menunjukkan untuk paket surf memiliki pendapatan paling tinggi di awal bulan hingga bulan ke 7, yang selanjutnya disusul oleh paket ultimate di bulan 8 hingga 11. Akan tetapi dari awal bulan hingga akhir bulan baik paket surf maupun ultimate mengalami pertumbuhan yang selalu meningkat di setiap bulannya."
   ]
  },
  {
   "cell_type": "code",
   "execution_count": 298,
   "metadata": {
    "scrolled": false
   },
   "outputs": [
    {
     "data": {
      "text/plain": [
       "<AxesSubplot:title={'center':'Rata-rata Durasi Panggilan per Bulan'}, xlabel='year_month'>"
      ]
     },
     "execution_count": 298,
     "metadata": {},
     "output_type": "execute_result"
    },
    {
     "data": {
      "image/png": "[encoded data removed]",
      "text/plain": [
       "<Figure size 720x360 with 1 Axes>"
      ]
     },
     "metadata": {
      "needs_background": "light"
     },
     "output_type": "display_data"
    }
   ],
   "source": [
    "avg_duration_monthly.plot(x='year_month', kind='bar', title='Rata-rata Durasi Panggilan per Bulan', figsize=(10,5))"
   ]
  },
  {
   "cell_type": "code",
   "execution_count": 299,
   "metadata": {
    "scrolled": true
   },
   "outputs": [],
   "source": [
    "temp_id_plan = df[['user_id', 'year_month', 'duration']].groupby(['user_id', 'year_month']).sum().reset_index()\n",
    "temp_id_plan2 = df[['user_id', 'plan']].drop_duplicates()"
   ]
  },
  {
   "cell_type": "code",
   "execution_count": 300,
   "metadata": {
    "scrolled": false
   },
   "outputs": [
    {
     "data": {
      "text/html": [
       "<div>\n",
       "<style scoped>\n",
       "    .dataframe tbody tr th:only-of-type {\n",
       "        vertical-align: middle;\n",
       "    }\n",
       "\n",
       "    .dataframe tbody tr th {\n",
       "        vertical-align: top;\n",
       "    }\n",
       "\n",
       "    .dataframe thead th {\n",
       "        text-align: right;\n",
       "    }\n",
       "</style>\n",
       "<table border=\"1\" class=\"dataframe\">\n",
       "  <thead>\n",
       "    <tr style=\"text-align: right;\">\n",
       "      <th></th>\n",
       "      <th>year_month</th>\n",
       "      <th>plan</th>\n",
       "      <th>duration</th>\n",
       "    </tr>\n",
       "  </thead>\n",
       "  <tbody>\n",
       "    <tr>\n",
       "      <th>0</th>\n",
       "      <td>2018-12</td>\n",
       "      <td>ultimate</td>\n",
       "      <td>117.0</td>\n",
       "    </tr>\n",
       "    <tr>\n",
       "      <th>1</th>\n",
       "      <td>2018-08</td>\n",
       "      <td>surf</td>\n",
       "      <td>172.0</td>\n",
       "    </tr>\n",
       "    <tr>\n",
       "      <th>2</th>\n",
       "      <td>2018-09</td>\n",
       "      <td>surf</td>\n",
       "      <td>298.0</td>\n",
       "    </tr>\n",
       "    <tr>\n",
       "      <th>3</th>\n",
       "      <td>2018-10</td>\n",
       "      <td>surf</td>\n",
       "      <td>375.0</td>\n",
       "    </tr>\n",
       "    <tr>\n",
       "      <th>4</th>\n",
       "      <td>2018-11</td>\n",
       "      <td>surf</td>\n",
       "      <td>405.0</td>\n",
       "    </tr>\n",
       "    <tr>\n",
       "      <th>...</th>\n",
       "      <td>...</td>\n",
       "      <td>...</td>\n",
       "      <td>...</td>\n",
       "    </tr>\n",
       "    <tr>\n",
       "      <th>2288</th>\n",
       "      <td>2018-12</td>\n",
       "      <td>surf</td>\n",
       "      <td>325.0</td>\n",
       "    </tr>\n",
       "    <tr>\n",
       "      <th>2289</th>\n",
       "      <td>2018-09</td>\n",
       "      <td>surf</td>\n",
       "      <td>331.0</td>\n",
       "    </tr>\n",
       "    <tr>\n",
       "      <th>2290</th>\n",
       "      <td>2018-10</td>\n",
       "      <td>surf</td>\n",
       "      <td>364.0</td>\n",
       "    </tr>\n",
       "    <tr>\n",
       "      <th>2291</th>\n",
       "      <td>2018-11</td>\n",
       "      <td>surf</td>\n",
       "      <td>289.0</td>\n",
       "    </tr>\n",
       "    <tr>\n",
       "      <th>2292</th>\n",
       "      <td>2018-12</td>\n",
       "      <td>surf</td>\n",
       "      <td>469.0</td>\n",
       "    </tr>\n",
       "  </tbody>\n",
       "</table>\n",
       "<p>2293 rows × 3 columns</p>\n",
       "</div>"
      ],
      "text/plain": [
       "     year_month      plan  duration\n",
       "0       2018-12  ultimate     117.0\n",
       "1       2018-08      surf     172.0\n",
       "2       2018-09      surf     298.0\n",
       "3       2018-10      surf     375.0\n",
       "4       2018-11      surf     405.0\n",
       "...         ...       ...       ...\n",
       "2288    2018-12      surf     325.0\n",
       "2289    2018-09      surf     331.0\n",
       "2290    2018-10      surf     364.0\n",
       "2291    2018-11      surf     289.0\n",
       "2292    2018-12      surf     469.0\n",
       "\n",
       "[2293 rows x 3 columns]"
      ]
     },
     "execution_count": 300,
     "metadata": {},
     "output_type": "execute_result"
    }
   ],
   "source": [
    "id_plan = temp_id_plan.merge(temp_id_plan2, on='user_id', how='inner')[['year_month', 'plan', 'duration']]\n",
    "id_plan"
   ]
  },
  {
   "cell_type": "code",
   "execution_count": 301,
   "metadata": {
    "scrolled": false
   },
   "outputs": [
    {
     "data": {
      "image/png": "[encoded data removed]",
      "text/plain": [
       "<Figure size 864x360 with 2 Axes>"
      ]
     },
     "metadata": {
      "needs_background": "light"
     },
     "output_type": "display_data"
    }
   ],
   "source": [
    "plt.figure(figsize=(12, 5))\n",
    "plt.subplot(1, 2, 1)\n",
    "plt.title('Surf')\n",
    "sns.histplot(id_plan.query('plan == \"surf\"'), binwidth=5)\n",
    "\n",
    "plt.subplot(1, 2, 2)\n",
    "plt.title('Ultimate')\n",
    "sns.histplot(id_plan.query('plan == \"ultimate\"'), binwidth=5)\n",
    "plt.show()"
   ]
  },
  {
   "cell_type": "markdown",
   "metadata": {},
   "source": [
    "Pada grafik histogram menunjukkan penggunaan panggilan paling banyak pada paket surf, dapat dilihat dari kepadatan dan frekuensi yang ditampilkan. Baik dari paket surf dan ultimate rata-rata penggunaan durasinya paling banyak di rentang 200 - 600 menit. Persebaran data baik di paket surf dan ultimate bisa dikatakan sama."
   ]
  },
  {
   "cell_type": "markdown",
   "metadata": {},
   "source": [
    "Secara statistik kita juga akan melihat rata-rata, varians, dan standar deviasinya guna mengetahui persebaran datanya."
   ]
  },
  {
   "cell_type": "code",
   "execution_count": 302,
   "metadata": {
    "scrolled": false
   },
   "outputs": [
    {
     "data": {
      "text/html": [
       "<div>\n",
       "<style scoped>\n",
       "    .dataframe tbody tr th:only-of-type {\n",
       "        vertical-align: middle;\n",
       "    }\n",
       "\n",
       "    .dataframe tbody tr th {\n",
       "        vertical-align: top;\n",
       "    }\n",
       "\n",
       "    .dataframe thead th {\n",
       "        text-align: right;\n",
       "    }\n",
       "</style>\n",
       "<table border=\"1\" class=\"dataframe\">\n",
       "  <thead>\n",
       "    <tr style=\"text-align: right;\">\n",
       "      <th></th>\n",
       "      <th>duration</th>\n",
       "    </tr>\n",
       "    <tr>\n",
       "      <th>year_month</th>\n",
       "      <th></th>\n",
       "    </tr>\n",
       "  </thead>\n",
       "  <tbody>\n",
       "    <tr>\n",
       "      <th>2018-01</th>\n",
       "      <td>186.833333</td>\n",
       "    </tr>\n",
       "    <tr>\n",
       "      <th>2018-02</th>\n",
       "      <td>349.687500</td>\n",
       "    </tr>\n",
       "    <tr>\n",
       "      <th>2018-03</th>\n",
       "      <td>302.771429</td>\n",
       "    </tr>\n",
       "    <tr>\n",
       "      <th>2018-04</th>\n",
       "      <td>328.239437</td>\n",
       "    </tr>\n",
       "    <tr>\n",
       "      <th>2018-05</th>\n",
       "      <td>387.018868</td>\n",
       "    </tr>\n",
       "    <tr>\n",
       "      <th>2018-06</th>\n",
       "      <td>397.354167</td>\n",
       "    </tr>\n",
       "    <tr>\n",
       "      <th>2018-07</th>\n",
       "      <td>420.461111</td>\n",
       "    </tr>\n",
       "    <tr>\n",
       "      <th>2018-08</th>\n",
       "      <td>395.974249</td>\n",
       "    </tr>\n",
       "    <tr>\n",
       "      <th>2018-09</th>\n",
       "      <td>402.660714</td>\n",
       "    </tr>\n",
       "    <tr>\n",
       "      <th>2018-10</th>\n",
       "      <td>419.311953</td>\n",
       "    </tr>\n",
       "    <tr>\n",
       "      <th>2018-11</th>\n",
       "      <td>413.451220</td>\n",
       "    </tr>\n",
       "    <tr>\n",
       "      <th>2018-12</th>\n",
       "      <td>451.102345</td>\n",
       "    </tr>\n",
       "  </tbody>\n",
       "</table>\n",
       "</div>"
      ],
      "text/plain": [
       "              duration\n",
       "year_month            \n",
       "2018-01     186.833333\n",
       "2018-02     349.687500\n",
       "2018-03     302.771429\n",
       "2018-04     328.239437\n",
       "2018-05     387.018868\n",
       "2018-06     397.354167\n",
       "2018-07     420.461111\n",
       "2018-08     395.974249\n",
       "2018-09     402.660714\n",
       "2018-10     419.311953\n",
       "2018-11     413.451220\n",
       "2018-12     451.102345"
      ]
     },
     "execution_count": 302,
     "metadata": {},
     "output_type": "execute_result"
    }
   ],
   "source": [
    "duration_month = df[['year_month', 'duration']].groupby('year_month').mean()\n",
    "duration_month"
   ]
  },
  {
   "cell_type": "code",
   "execution_count": 303,
   "metadata": {
    "scrolled": true
   },
   "outputs": [
    {
     "data": {
      "text/plain": [
       "duration    4702.558429\n",
       "dtype: float64"
      ]
     },
     "execution_count": 303,
     "metadata": {},
     "output_type": "execute_result"
    }
   ],
   "source": [
    "duration_var = np.var(duration_month)\n",
    "duration_var"
   ]
  },
  {
   "cell_type": "markdown",
   "metadata": {},
   "source": [
    "varians untuk durasi adalah 4702.5"
   ]
  },
  {
   "cell_type": "code",
   "execution_count": 304,
   "metadata": {},
   "outputs": [
    {
     "data": {
      "text/plain": [
       "duration    68.575203\n",
       "dtype: float64"
      ]
     },
     "execution_count": 304,
     "metadata": {},
     "output_type": "execute_result"
    }
   ],
   "source": [
    "np.sqrt(duration_var)"
   ]
  },
  {
   "cell_type": "markdown",
   "metadata": {},
   "source": [
    "standar deviasinya adalah 68.5"
   ]
  },
  {
   "cell_type": "code",
   "execution_count": 305,
   "metadata": {
    "scrolled": false
   },
   "outputs": [],
   "source": [
    "duration_per_month = pd.pivot_table(df, index='user_id', columns='year_month', values='duration', aggfunc='mean')"
   ]
  },
  {
   "cell_type": "code",
   "execution_count": 306,
   "metadata": {
    "scrolled": true
   },
   "outputs": [
    {
     "data": {
      "image/png": "[encoded data removed]",
      "text/plain": [
       "<Figure size 1008x432 with 1 Axes>"
      ]
     },
     "metadata": {
      "needs_background": "light"
     },
     "output_type": "display_data"
    }
   ],
   "source": [
    "plt.figure(figsize=(14, 6))\n",
    "sns.boxplot(data=duration_per_month)\n",
    "plt.title('Calls Duration per Month Distribution', fontsize=15)\n",
    "plt.show()"
   ]
  },
  {
   "cell_type": "markdown",
   "metadata": {},
   "source": [
    "Sama halnya dengan penggunaan panggilan di setiap paketnya, pada grafik boxplot durasi secara keseluruhan per bulannya menunjukkan peningkatan dari bulan pertama hingga di akhir bulan. Terlihat penggunaan panggilan paling tinggi terdapat pada bulan 12, dan yang terendah terdapat pada bulan 1."
   ]
  },
  {
   "cell_type": "markdown",
   "metadata": {},
   "source": [
    "Dapat disimpulkan bahwa penggunaan panggilan di setiap bulannya selalu mengalami kenaikan baik itu paket surf maupun ultimate, yang dimana peningkatan paling tinggi terdapat pada bulan 12, dan penggunaan paling rendah pada bulan 1. Perilaku pengguna juga sama di paket surf dan ultimate dengan rata-rata menggunakan panggilan paling banyak di rentang 200-600 menit, akan tetapi mengingat pada pengguna paket surf lebih banyak dari ultimate tidak menutup kemungkinan pengguna lebih memilih paket yang lebih murah yaitu surf meskipun ada beberapa pengguna yang masih di bebankan dengan biaya extra."
   ]
  },
  {
   "cell_type": "markdown",
   "metadata": {},
   "source": [
    " "
   ]
  },
  {
   "cell_type": "markdown",
   "metadata": {},
   "source": [
    "### Pesan/SMS"
   ]
  },
  {
   "cell_type": "markdown",
   "metadata": {},
   "source": [
    "Kita bikin variabel avg_sms_monthly untuk menunjukkan rata-rata pemakaian sms setiap bulan berdasarkan paket yang digunakan. Setelah itu kita bikin variabel sms_plan untuk menunjukkan jumlah sms yang dibutuhkan setiap pengguna dan setiap bulannya berdasarkan paket yang digunakan."
   ]
  },
  {
   "cell_type": "code",
   "execution_count": 307,
   "metadata": {
    "scrolled": true
   },
   "outputs": [
    {
     "data": {
      "text/html": [
       "<div>\n",
       "<style scoped>\n",
       "    .dataframe tbody tr th:only-of-type {\n",
       "        vertical-align: middle;\n",
       "    }\n",
       "\n",
       "    .dataframe tbody tr th {\n",
       "        vertical-align: top;\n",
       "    }\n",
       "\n",
       "    .dataframe thead th {\n",
       "        text-align: right;\n",
       "    }\n",
       "</style>\n",
       "<table border=\"1\" class=\"dataframe\">\n",
       "  <thead>\n",
       "    <tr style=\"text-align: right;\">\n",
       "      <th>plan</th>\n",
       "      <th>year_month</th>\n",
       "      <th>surf</th>\n",
       "      <th>ultimate</th>\n",
       "    </tr>\n",
       "  </thead>\n",
       "  <tbody>\n",
       "    <tr>\n",
       "      <th>0</th>\n",
       "      <td>2018-01</td>\n",
       "      <td>26.500000</td>\n",
       "      <td>25.750000</td>\n",
       "    </tr>\n",
       "    <tr>\n",
       "      <th>1</th>\n",
       "      <td>2018-02</td>\n",
       "      <td>26.222222</td>\n",
       "      <td>27.428571</td>\n",
       "    </tr>\n",
       "    <tr>\n",
       "      <th>2</th>\n",
       "      <td>2018-03</td>\n",
       "      <td>25.000000</td>\n",
       "      <td>37.333333</td>\n",
       "    </tr>\n",
       "    <tr>\n",
       "      <th>3</th>\n",
       "      <td>2018-04</td>\n",
       "      <td>26.360000</td>\n",
       "      <td>31.809524</td>\n",
       "    </tr>\n",
       "    <tr>\n",
       "      <th>4</th>\n",
       "      <td>2018-05</td>\n",
       "      <td>32.740260</td>\n",
       "      <td>43.413793</td>\n",
       "    </tr>\n",
       "    <tr>\n",
       "      <th>5</th>\n",
       "      <td>2018-06</td>\n",
       "      <td>33.216495</td>\n",
       "      <td>37.191489</td>\n",
       "    </tr>\n",
       "    <tr>\n",
       "      <th>6</th>\n",
       "      <td>2018-07</td>\n",
       "      <td>34.966942</td>\n",
       "      <td>41.169492</td>\n",
       "    </tr>\n",
       "    <tr>\n",
       "      <th>7</th>\n",
       "      <td>2018-08</td>\n",
       "      <td>36.283951</td>\n",
       "      <td>46.563380</td>\n",
       "    </tr>\n",
       "    <tr>\n",
       "      <th>8</th>\n",
       "      <td>2018-09</td>\n",
       "      <td>37.855670</td>\n",
       "      <td>45.046512</td>\n",
       "    </tr>\n",
       "    <tr>\n",
       "      <th>9</th>\n",
       "      <td>2018-10</td>\n",
       "      <td>40.320675</td>\n",
       "      <td>46.018868</td>\n",
       "    </tr>\n",
       "    <tr>\n",
       "      <th>10</th>\n",
       "      <td>2018-11</td>\n",
       "      <td>38.830389</td>\n",
       "      <td>46.354331</td>\n",
       "    </tr>\n",
       "    <tr>\n",
       "      <th>11</th>\n",
       "      <td>2018-12</td>\n",
       "      <td>45.040881</td>\n",
       "      <td>51.794702</td>\n",
       "    </tr>\n",
       "  </tbody>\n",
       "</table>\n",
       "</div>"
      ],
      "text/plain": [
       "plan year_month       surf   ultimate\n",
       "0       2018-01  26.500000  25.750000\n",
       "1       2018-02  26.222222  27.428571\n",
       "2       2018-03  25.000000  37.333333\n",
       "3       2018-04  26.360000  31.809524\n",
       "4       2018-05  32.740260  43.413793\n",
       "5       2018-06  33.216495  37.191489\n",
       "6       2018-07  34.966942  41.169492\n",
       "7       2018-08  36.283951  46.563380\n",
       "8       2018-09  37.855670  45.046512\n",
       "9       2018-10  40.320675  46.018868\n",
       "10      2018-11  38.830389  46.354331\n",
       "11      2018-12  45.040881  51.794702"
      ]
     },
     "execution_count": 307,
     "metadata": {},
     "output_type": "execute_result"
    }
   ],
   "source": [
    "avg_sms_monthly = pd.pivot_table(df, index='year_month', columns='plan', values='sms', aggfunc='mean').reset_index()\n",
    "avg_sms_monthly['year_month'] = avg_sms_monthly['year_month'].astype(str)\n",
    "avg_sms_monthly"
   ]
  },
  {
   "cell_type": "code",
   "execution_count": 308,
   "metadata": {
    "scrolled": true
   },
   "outputs": [
    {
     "data": {
      "text/plain": [
       "<AxesSubplot:title={'center':'Rata-rata SMS per bulan'}, xlabel='year_month'>"
      ]
     },
     "execution_count": 308,
     "metadata": {},
     "output_type": "execute_result"
    },
    {
     "data": {
      "image/png": "[encoded data removed]",
      "text/plain": [
       "<Figure size 720x360 with 1 Axes>"
      ]
     },
     "metadata": {
      "needs_background": "light"
     },
     "output_type": "display_data"
    }
   ],
   "source": [
    "avg_sms_monthly.plot(x='year_month', kind='bar', title='Rata-rata SMS per bulan', figsize=(10,5))"
   ]
  },
  {
   "cell_type": "markdown",
   "metadata": {},
   "source": [
    "Terlihat bahwa pada diagram batang untuk rata-rata sms per bulannya untuk setiap paket mengalami kenaikan. Akan tetapi pertumbuhannya pada paket ultimate mengalami naik turun, sedangkan paket surf mengalami stagnansi pada bulan 1 hingga bulan ke 4."
   ]
  },
  {
   "cell_type": "code",
   "execution_count": 309,
   "metadata": {},
   "outputs": [],
   "source": [
    "temp_sms_plan = df[['user_id', 'year_month', 'sms']].groupby(['user_id', 'year_month']).sum().reset_index()\n",
    "temp_sms_plan2 = df[['user_id', 'plan']].drop_duplicates()"
   ]
  },
  {
   "cell_type": "code",
   "execution_count": 310,
   "metadata": {},
   "outputs": [
    {
     "data": {
      "text/html": [
       "<div>\n",
       "<style scoped>\n",
       "    .dataframe tbody tr th:only-of-type {\n",
       "        vertical-align: middle;\n",
       "    }\n",
       "\n",
       "    .dataframe tbody tr th {\n",
       "        vertical-align: top;\n",
       "    }\n",
       "\n",
       "    .dataframe thead th {\n",
       "        text-align: right;\n",
       "    }\n",
       "</style>\n",
       "<table border=\"1\" class=\"dataframe\">\n",
       "  <thead>\n",
       "    <tr style=\"text-align: right;\">\n",
       "      <th></th>\n",
       "      <th>year_month</th>\n",
       "      <th>plan</th>\n",
       "      <th>sms</th>\n",
       "    </tr>\n",
       "  </thead>\n",
       "  <tbody>\n",
       "    <tr>\n",
       "      <th>0</th>\n",
       "      <td>2018-12</td>\n",
       "      <td>ultimate</td>\n",
       "      <td>11.0</td>\n",
       "    </tr>\n",
       "    <tr>\n",
       "      <th>1</th>\n",
       "      <td>2018-08</td>\n",
       "      <td>surf</td>\n",
       "      <td>30.0</td>\n",
       "    </tr>\n",
       "    <tr>\n",
       "      <th>2</th>\n",
       "      <td>2018-09</td>\n",
       "      <td>surf</td>\n",
       "      <td>44.0</td>\n",
       "    </tr>\n",
       "    <tr>\n",
       "      <th>3</th>\n",
       "      <td>2018-10</td>\n",
       "      <td>surf</td>\n",
       "      <td>53.0</td>\n",
       "    </tr>\n",
       "    <tr>\n",
       "      <th>4</th>\n",
       "      <td>2018-11</td>\n",
       "      <td>surf</td>\n",
       "      <td>36.0</td>\n",
       "    </tr>\n",
       "    <tr>\n",
       "      <th>...</th>\n",
       "      <td>...</td>\n",
       "      <td>...</td>\n",
       "      <td>...</td>\n",
       "    </tr>\n",
       "    <tr>\n",
       "      <th>2288</th>\n",
       "      <td>2018-12</td>\n",
       "      <td>surf</td>\n",
       "      <td>32.0</td>\n",
       "    </tr>\n",
       "    <tr>\n",
       "      <th>2289</th>\n",
       "      <td>2018-09</td>\n",
       "      <td>surf</td>\n",
       "      <td>32.0</td>\n",
       "    </tr>\n",
       "    <tr>\n",
       "      <th>2290</th>\n",
       "      <td>2018-10</td>\n",
       "      <td>surf</td>\n",
       "      <td>32.0</td>\n",
       "    </tr>\n",
       "    <tr>\n",
       "      <th>2291</th>\n",
       "      <td>2018-11</td>\n",
       "      <td>surf</td>\n",
       "      <td>32.0</td>\n",
       "    </tr>\n",
       "    <tr>\n",
       "      <th>2292</th>\n",
       "      <td>2018-12</td>\n",
       "      <td>surf</td>\n",
       "      <td>32.0</td>\n",
       "    </tr>\n",
       "  </tbody>\n",
       "</table>\n",
       "<p>2293 rows × 3 columns</p>\n",
       "</div>"
      ],
      "text/plain": [
       "     year_month      plan   sms\n",
       "0       2018-12  ultimate  11.0\n",
       "1       2018-08      surf  30.0\n",
       "2       2018-09      surf  44.0\n",
       "3       2018-10      surf  53.0\n",
       "4       2018-11      surf  36.0\n",
       "...         ...       ...   ...\n",
       "2288    2018-12      surf  32.0\n",
       "2289    2018-09      surf  32.0\n",
       "2290    2018-10      surf  32.0\n",
       "2291    2018-11      surf  32.0\n",
       "2292    2018-12      surf  32.0\n",
       "\n",
       "[2293 rows x 3 columns]"
      ]
     },
     "execution_count": 310,
     "metadata": {},
     "output_type": "execute_result"
    }
   ],
   "source": [
    "sms_plan = temp_sms_plan.merge(temp_sms_plan2, on='user_id', how='inner')[['year_month', 'plan', 'sms']]\n",
    "sms_plan"
   ]
  },
  {
   "cell_type": "code",
   "execution_count": 311,
   "metadata": {
    "scrolled": true
   },
   "outputs": [
    {
     "data": {
      "image/png": "[encoded data removed]",
      "text/plain": [
       "<Figure size 864x360 with 2 Axes>"
      ]
     },
     "metadata": {
      "needs_background": "light"
     },
     "output_type": "display_data"
    }
   ],
   "source": [
    "plt.figure(figsize=(12, 5))\n",
    "plt.subplot(1, 2, 1)\n",
    "plt.title('Surf')\n",
    "sns.histplot(sms_plan.query('plan == \"surf\"'), binwidth=5)\n",
    "\n",
    "plt.subplot(1, 2, 2)\n",
    "plt.title('Ultimate')\n",
    "sns.histplot(sms_plan.query('plan == \"ultimate\"'), binwidth=5)\n",
    "plt.show()"
   ]
  },
  {
   "cell_type": "markdown",
   "metadata": {},
   "source": [
    "Pada grafik histogram menunjukkan penggunaan sms paling banyak pada paket surf, dapat dilihat dari kepadatan dan frekuensi yang ditampilkan. Baik dari paket surf dan ultimate rata-rata penggunaan durasinya paling banyak di rentang 1 - 70 sms. Persebaran data baik di paket surf dan ultimate bisa dikatakan sama."
   ]
  },
  {
   "cell_type": "markdown",
   "metadata": {},
   "source": [
    "Secara statistik kita juga akan melihat rata-rata, varians, dan standar deviasinya guna mengetahui persebaran datanya."
   ]
  },
  {
   "cell_type": "code",
   "execution_count": 312,
   "metadata": {},
   "outputs": [
    {
     "data": {
      "text/html": [
       "<div>\n",
       "<style scoped>\n",
       "    .dataframe tbody tr th:only-of-type {\n",
       "        vertical-align: middle;\n",
       "    }\n",
       "\n",
       "    .dataframe tbody tr th {\n",
       "        vertical-align: top;\n",
       "    }\n",
       "\n",
       "    .dataframe thead th {\n",
       "        text-align: right;\n",
       "    }\n",
       "</style>\n",
       "<table border=\"1\" class=\"dataframe\">\n",
       "  <thead>\n",
       "    <tr style=\"text-align: right;\">\n",
       "      <th></th>\n",
       "      <th>sms</th>\n",
       "    </tr>\n",
       "    <tr>\n",
       "      <th>year_month</th>\n",
       "      <th></th>\n",
       "    </tr>\n",
       "  </thead>\n",
       "  <tbody>\n",
       "    <tr>\n",
       "      <th>2018-01</th>\n",
       "      <td>26.000000</td>\n",
       "    </tr>\n",
       "    <tr>\n",
       "      <th>2018-02</th>\n",
       "      <td>26.750000</td>\n",
       "    </tr>\n",
       "    <tr>\n",
       "      <th>2018-03</th>\n",
       "      <td>29.228571</td>\n",
       "    </tr>\n",
       "    <tr>\n",
       "      <th>2018-04</th>\n",
       "      <td>27.971831</td>\n",
       "    </tr>\n",
       "    <tr>\n",
       "      <th>2018-05</th>\n",
       "      <td>35.660377</td>\n",
       "    </tr>\n",
       "    <tr>\n",
       "      <th>2018-06</th>\n",
       "      <td>34.513889</td>\n",
       "    </tr>\n",
       "    <tr>\n",
       "      <th>2018-07</th>\n",
       "      <td>37.000000</td>\n",
       "    </tr>\n",
       "    <tr>\n",
       "      <th>2018-08</th>\n",
       "      <td>39.416309</td>\n",
       "    </tr>\n",
       "    <tr>\n",
       "      <th>2018-09</th>\n",
       "      <td>40.064286</td>\n",
       "    </tr>\n",
       "    <tr>\n",
       "      <th>2018-10</th>\n",
       "      <td>42.081633</td>\n",
       "    </tr>\n",
       "    <tr>\n",
       "      <th>2018-11</th>\n",
       "      <td>41.160976</td>\n",
       "    </tr>\n",
       "    <tr>\n",
       "      <th>2018-12</th>\n",
       "      <td>47.215352</td>\n",
       "    </tr>\n",
       "  </tbody>\n",
       "</table>\n",
       "</div>"
      ],
      "text/plain": [
       "                  sms\n",
       "year_month           \n",
       "2018-01     26.000000\n",
       "2018-02     26.750000\n",
       "2018-03     29.228571\n",
       "2018-04     27.971831\n",
       "2018-05     35.660377\n",
       "2018-06     34.513889\n",
       "2018-07     37.000000\n",
       "2018-08     39.416309\n",
       "2018-09     40.064286\n",
       "2018-10     42.081633\n",
       "2018-11     41.160976\n",
       "2018-12     47.215352"
      ]
     },
     "execution_count": 312,
     "metadata": {},
     "output_type": "execute_result"
    }
   ],
   "source": [
    "avg_sms = df[['year_month', 'sms']].groupby('year_month').mean()\n",
    "avg_sms"
   ]
  },
  {
   "cell_type": "code",
   "execution_count": 313,
   "metadata": {},
   "outputs": [
    {
     "data": {
      "text/plain": [
       "sms    42.89623\n",
       "dtype: float64"
      ]
     },
     "execution_count": 313,
     "metadata": {},
     "output_type": "execute_result"
    }
   ],
   "source": [
    "sms_var = np.var(avg_sms)\n",
    "sms_var"
   ]
  },
  {
   "cell_type": "raw",
   "metadata": {},
   "source": [
    "varians dari rata-rata sms perbulannya adalah 42."
   ]
  },
  {
   "cell_type": "code",
   "execution_count": 314,
   "metadata": {
    "scrolled": true
   },
   "outputs": [
    {
     "data": {
      "text/plain": [
       "sms    6.549521\n",
       "dtype: float64"
      ]
     },
     "execution_count": 314,
     "metadata": {},
     "output_type": "execute_result"
    }
   ],
   "source": [
    "np.sqrt(sms_var)"
   ]
  },
  {
   "cell_type": "markdown",
   "metadata": {},
   "source": [
    "standar deviasinya yaitu 6.5"
   ]
  },
  {
   "cell_type": "code",
   "execution_count": 315,
   "metadata": {},
   "outputs": [],
   "source": [
    "sms_per_month = pd.pivot_table(df, index='user_id', columns='year_month', values='sms', aggfunc='mean')"
   ]
  },
  {
   "cell_type": "code",
   "execution_count": 316,
   "metadata": {
    "scrolled": true
   },
   "outputs": [
    {
     "data": {
      "image/png": "[encoded data removed]",
      "text/plain": [
       "<Figure size 1008x432 with 1 Axes>"
      ]
     },
     "metadata": {
      "needs_background": "light"
     },
     "output_type": "display_data"
    }
   ],
   "source": [
    "plt.figure(figsize=(14, 6))\n",
    "sns.boxplot(data=sms_per_month)\n",
    "plt.title('SMS per Month Distribution', fontsize=15)\n",
    "plt.show()"
   ]
  },
  {
   "cell_type": "markdown",
   "metadata": {},
   "source": [
    "Sama halnya dengan rata-rata penggunaan sms di setiap paketnya, pada grafik boxplot penggunaan sms secara keseluruhan per bulannya menunjukkan peningkatan dari bulan pertama hingga di akhir bulan tetapi tidak terlalu signifikan. Terlihat penggunaan sms paling tinggi terdapat pada bulan 12, dan yang terendah terdapat pada bulan 1."
   ]
  },
  {
   "cell_type": "markdown",
   "metadata": {},
   "source": [
    "Dapat disimpulkan bahwa penggunaan sms di setiap bulannya selalu mengalami kenaikan baik itu paket surf maupun ultimate, yang dimana peningkatan paling tinggi terdapat pada bulan 12, dan penggunaan paling rendah pada bulan 1. Baik dari paket surf dan ultimate juga rata-rata penggunaan smsnya paling banyak di rentang 1 - 70 sms."
   ]
  },
  {
   "cell_type": "markdown",
   "metadata": {},
   "source": [
    " "
   ]
  },
  {
   "cell_type": "markdown",
   "metadata": {},
   "source": [
    "### Internet"
   ]
  },
  {
   "cell_type": "markdown",
   "metadata": {},
   "source": [
    "Kita bikin variabel avg_gb_monthly untuk menunjukkan rata-rata penggunaan kuota internet (gigabyte) setiap bulan berdasarkan paket yang digunakan. Setelah itu kita bikin variabel gb_plan untuk menunjukkan jumlah kuota yang dibutuhkan setiap pengguna dan setiap bulannya berdasarkan paket yang digunakan."
   ]
  },
  {
   "cell_type": "code",
   "execution_count": 317,
   "metadata": {
    "scrolled": true
   },
   "outputs": [
    {
     "data": {
      "text/html": [
       "<div>\n",
       "<style scoped>\n",
       "    .dataframe tbody tr th:only-of-type {\n",
       "        vertical-align: middle;\n",
       "    }\n",
       "\n",
       "    .dataframe tbody tr th {\n",
       "        vertical-align: top;\n",
       "    }\n",
       "\n",
       "    .dataframe thead th {\n",
       "        text-align: right;\n",
       "    }\n",
       "</style>\n",
       "<table border=\"1\" class=\"dataframe\">\n",
       "  <thead>\n",
       "    <tr style=\"text-align: right;\">\n",
       "      <th>plan</th>\n",
       "      <th>year_month</th>\n",
       "      <th>surf</th>\n",
       "      <th>ultimate</th>\n",
       "    </tr>\n",
       "  </thead>\n",
       "  <tbody>\n",
       "    <tr>\n",
       "      <th>0</th>\n",
       "      <td>2018-01</td>\n",
       "      <td>5.000000</td>\n",
       "      <td>7.250000</td>\n",
       "    </tr>\n",
       "    <tr>\n",
       "      <th>1</th>\n",
       "      <td>2018-02</td>\n",
       "      <td>12.222222</td>\n",
       "      <td>17.285714</td>\n",
       "    </tr>\n",
       "    <tr>\n",
       "      <th>2</th>\n",
       "      <td>2018-03</td>\n",
       "      <td>13.565217</td>\n",
       "      <td>18.416667</td>\n",
       "    </tr>\n",
       "    <tr>\n",
       "      <th>3</th>\n",
       "      <td>2018-04</td>\n",
       "      <td>12.220000</td>\n",
       "      <td>16.333333</td>\n",
       "    </tr>\n",
       "    <tr>\n",
       "      <th>4</th>\n",
       "      <td>2018-05</td>\n",
       "      <td>14.116883</td>\n",
       "      <td>16.862069</td>\n",
       "    </tr>\n",
       "    <tr>\n",
       "      <th>5</th>\n",
       "      <td>2018-06</td>\n",
       "      <td>15.484536</td>\n",
       "      <td>15.425532</td>\n",
       "    </tr>\n",
       "    <tr>\n",
       "      <th>6</th>\n",
       "      <td>2018-07</td>\n",
       "      <td>16.876033</td>\n",
       "      <td>16.491525</td>\n",
       "    </tr>\n",
       "    <tr>\n",
       "      <th>7</th>\n",
       "      <td>2018-08</td>\n",
       "      <td>16.882716</td>\n",
       "      <td>17.845070</td>\n",
       "    </tr>\n",
       "    <tr>\n",
       "      <th>8</th>\n",
       "      <td>2018-09</td>\n",
       "      <td>16.690722</td>\n",
       "      <td>17.011628</td>\n",
       "    </tr>\n",
       "    <tr>\n",
       "      <th>9</th>\n",
       "      <td>2018-10</td>\n",
       "      <td>17.409283</td>\n",
       "      <td>17.716981</td>\n",
       "    </tr>\n",
       "    <tr>\n",
       "      <th>10</th>\n",
       "      <td>2018-11</td>\n",
       "      <td>16.431095</td>\n",
       "      <td>17.118110</td>\n",
       "    </tr>\n",
       "    <tr>\n",
       "      <th>11</th>\n",
       "      <td>2018-12</td>\n",
       "      <td>18.238994</td>\n",
       "      <td>18.397351</td>\n",
       "    </tr>\n",
       "  </tbody>\n",
       "</table>\n",
       "</div>"
      ],
      "text/plain": [
       "plan year_month       surf   ultimate\n",
       "0       2018-01   5.000000   7.250000\n",
       "1       2018-02  12.222222  17.285714\n",
       "2       2018-03  13.565217  18.416667\n",
       "3       2018-04  12.220000  16.333333\n",
       "4       2018-05  14.116883  16.862069\n",
       "5       2018-06  15.484536  15.425532\n",
       "6       2018-07  16.876033  16.491525\n",
       "7       2018-08  16.882716  17.845070\n",
       "8       2018-09  16.690722  17.011628\n",
       "9       2018-10  17.409283  17.716981\n",
       "10      2018-11  16.431095  17.118110\n",
       "11      2018-12  18.238994  18.397351"
      ]
     },
     "execution_count": 317,
     "metadata": {},
     "output_type": "execute_result"
    }
   ],
   "source": [
    "avg_gb_monthly = pd.pivot_table(df, index='year_month', columns='plan', values='gb_used', aggfunc='mean').reset_index()\n",
    "avg_gb_monthly['year_month'] = avg_gb_monthly['year_month'].astype(str)\n",
    "avg_gb_monthly"
   ]
  },
  {
   "cell_type": "code",
   "execution_count": 318,
   "metadata": {
    "scrolled": false
   },
   "outputs": [
    {
     "data": {
      "text/plain": [
       "<AxesSubplot:xlabel='year_month'>"
      ]
     },
     "execution_count": 318,
     "metadata": {},
     "output_type": "execute_result"
    },
    {
     "data": {
      "image/png": "[encoded data removed]",
      "text/plain": [
       "<Figure size 720x360 with 1 Axes>"
      ]
     },
     "metadata": {
      "needs_background": "light"
     },
     "output_type": "display_data"
    }
   ],
   "source": [
    "avg_gb_monthly.plot(x='year_month', kind='bar', figsize=(10,5))"
   ]
  },
  {
   "cell_type": "markdown",
   "metadata": {},
   "source": [
    "Terlihat bahwa pada diagram batang untuk rata-rata kuota internet (gigabyte) per bulannya ntuk setiap paket mengalami kenaikan. Akan tetapi berdasarkan pertumbuhannya pada paket ultimate mengalami naik turun, sedangkan paket surf stabil naik dari awal bulan hingga akhir."
   ]
  },
  {
   "cell_type": "code",
   "execution_count": 319,
   "metadata": {},
   "outputs": [],
   "source": [
    "temp_gb_plan = df[['user_id', 'year_month', 'gb_used']].groupby(['user_id', 'year_month']).sum().reset_index()\n",
    "temp_gb_plan2 = df[['user_id', 'plan']].drop_duplicates()"
   ]
  },
  {
   "cell_type": "code",
   "execution_count": 320,
   "metadata": {},
   "outputs": [
    {
     "data": {
      "text/html": [
       "<div>\n",
       "<style scoped>\n",
       "    .dataframe tbody tr th:only-of-type {\n",
       "        vertical-align: middle;\n",
       "    }\n",
       "\n",
       "    .dataframe tbody tr th {\n",
       "        vertical-align: top;\n",
       "    }\n",
       "\n",
       "    .dataframe thead th {\n",
       "        text-align: right;\n",
       "    }\n",
       "</style>\n",
       "<table border=\"1\" class=\"dataframe\">\n",
       "  <thead>\n",
       "    <tr style=\"text-align: right;\">\n",
       "      <th></th>\n",
       "      <th>year_month</th>\n",
       "      <th>plan</th>\n",
       "      <th>gb_used</th>\n",
       "    </tr>\n",
       "  </thead>\n",
       "  <tbody>\n",
       "    <tr>\n",
       "      <th>0</th>\n",
       "      <td>2018-12</td>\n",
       "      <td>ultimate</td>\n",
       "      <td>2.0</td>\n",
       "    </tr>\n",
       "    <tr>\n",
       "      <th>1</th>\n",
       "      <td>2018-08</td>\n",
       "      <td>surf</td>\n",
       "      <td>7.0</td>\n",
       "    </tr>\n",
       "    <tr>\n",
       "      <th>2</th>\n",
       "      <td>2018-09</td>\n",
       "      <td>surf</td>\n",
       "      <td>14.0</td>\n",
       "    </tr>\n",
       "    <tr>\n",
       "      <th>3</th>\n",
       "      <td>2018-10</td>\n",
       "      <td>surf</td>\n",
       "      <td>22.0</td>\n",
       "    </tr>\n",
       "    <tr>\n",
       "      <th>4</th>\n",
       "      <td>2018-11</td>\n",
       "      <td>surf</td>\n",
       "      <td>19.0</td>\n",
       "    </tr>\n",
       "    <tr>\n",
       "      <th>...</th>\n",
       "      <td>...</td>\n",
       "      <td>...</td>\n",
       "      <td>...</td>\n",
       "    </tr>\n",
       "    <tr>\n",
       "      <th>2288</th>\n",
       "      <td>2018-12</td>\n",
       "      <td>surf</td>\n",
       "      <td>23.0</td>\n",
       "    </tr>\n",
       "    <tr>\n",
       "      <th>2289</th>\n",
       "      <td>2018-09</td>\n",
       "      <td>surf</td>\n",
       "      <td>13.0</td>\n",
       "    </tr>\n",
       "    <tr>\n",
       "      <th>2290</th>\n",
       "      <td>2018-10</td>\n",
       "      <td>surf</td>\n",
       "      <td>20.0</td>\n",
       "    </tr>\n",
       "    <tr>\n",
       "      <th>2291</th>\n",
       "      <td>2018-11</td>\n",
       "      <td>surf</td>\n",
       "      <td>17.0</td>\n",
       "    </tr>\n",
       "    <tr>\n",
       "      <th>2292</th>\n",
       "      <td>2018-12</td>\n",
       "      <td>surf</td>\n",
       "      <td>22.0</td>\n",
       "    </tr>\n",
       "  </tbody>\n",
       "</table>\n",
       "<p>2293 rows × 3 columns</p>\n",
       "</div>"
      ],
      "text/plain": [
       "     year_month      plan  gb_used\n",
       "0       2018-12  ultimate      2.0\n",
       "1       2018-08      surf      7.0\n",
       "2       2018-09      surf     14.0\n",
       "3       2018-10      surf     22.0\n",
       "4       2018-11      surf     19.0\n",
       "...         ...       ...      ...\n",
       "2288    2018-12      surf     23.0\n",
       "2289    2018-09      surf     13.0\n",
       "2290    2018-10      surf     20.0\n",
       "2291    2018-11      surf     17.0\n",
       "2292    2018-12      surf     22.0\n",
       "\n",
       "[2293 rows x 3 columns]"
      ]
     },
     "execution_count": 320,
     "metadata": {},
     "output_type": "execute_result"
    }
   ],
   "source": [
    "gb_plan = temp_gb_plan.merge(temp_gb_plan2, on='user_id', how='inner')[['year_month', 'plan', 'gb_used']]\n",
    "gb_plan"
   ]
  },
  {
   "cell_type": "code",
   "execution_count": 321,
   "metadata": {
    "scrolled": true
   },
   "outputs": [
    {
     "data": {
      "image/png": "[encoded data removed]",
      "text/plain": [
       "<Figure size 864x360 with 2 Axes>"
      ]
     },
     "metadata": {
      "needs_background": "light"
     },
     "output_type": "display_data"
    }
   ],
   "source": [
    "plt.figure(figsize=(12, 5))\n",
    "plt.subplot(1, 2, 1)\n",
    "plt.title('Surf')\n",
    "sns.histplot(gb_plan.query('plan == \"surf\"'), binwidth=5)\n",
    "\n",
    "plt.subplot(1, 2, 2)\n",
    "plt.title('Ultimate')\n",
    "sns.histplot(gb_plan.query('plan == \"ultimate\"'), binwidth=5)\n",
    "plt.show()"
   ]
  },
  {
   "cell_type": "markdown",
   "metadata": {},
   "source": [
    "Pada grafik histogram menunjukkan penggunaan kuota internet (gigabyte) sedikit lebih banyak pada paket surf daripada ultimate, dapat dilihat dari kepadatan dan frekuensi yang ditampilkan. Baik dari paket surf dan ultimate rata-rata penggunaan kuotanya paling banyak di rentang 10 - 25 gigabyte. Persebaran data baik di paket surf dan ultimate bisa dikatakan sama."
   ]
  },
  {
   "cell_type": "markdown",
   "metadata": {},
   "source": [
    "Secara statistik kita juga akan melihat rata-rata, varians, dan standar deviasinya guna mengetahui persebaran datanya."
   ]
  },
  {
   "cell_type": "code",
   "execution_count": 322,
   "metadata": {},
   "outputs": [
    {
     "data": {
      "text/html": [
       "<div>\n",
       "<style scoped>\n",
       "    .dataframe tbody tr th:only-of-type {\n",
       "        vertical-align: middle;\n",
       "    }\n",
       "\n",
       "    .dataframe tbody tr th {\n",
       "        vertical-align: top;\n",
       "    }\n",
       "\n",
       "    .dataframe thead th {\n",
       "        text-align: right;\n",
       "    }\n",
       "</style>\n",
       "<table border=\"1\" class=\"dataframe\">\n",
       "  <thead>\n",
       "    <tr style=\"text-align: right;\">\n",
       "      <th></th>\n",
       "      <th>gb_used</th>\n",
       "    </tr>\n",
       "    <tr>\n",
       "      <th>year_month</th>\n",
       "      <th></th>\n",
       "    </tr>\n",
       "  </thead>\n",
       "  <tbody>\n",
       "    <tr>\n",
       "      <th>2018-01</th>\n",
       "      <td>6.500000</td>\n",
       "    </tr>\n",
       "    <tr>\n",
       "      <th>2018-02</th>\n",
       "      <td>14.437500</td>\n",
       "    </tr>\n",
       "    <tr>\n",
       "      <th>2018-03</th>\n",
       "      <td>15.228571</td>\n",
       "    </tr>\n",
       "    <tr>\n",
       "      <th>2018-04</th>\n",
       "      <td>13.436620</td>\n",
       "    </tr>\n",
       "    <tr>\n",
       "      <th>2018-05</th>\n",
       "      <td>14.867925</td>\n",
       "    </tr>\n",
       "    <tr>\n",
       "      <th>2018-06</th>\n",
       "      <td>15.465278</td>\n",
       "    </tr>\n",
       "    <tr>\n",
       "      <th>2018-07</th>\n",
       "      <td>16.750000</td>\n",
       "    </tr>\n",
       "    <tr>\n",
       "      <th>2018-08</th>\n",
       "      <td>17.175966</td>\n",
       "    </tr>\n",
       "    <tr>\n",
       "      <th>2018-09</th>\n",
       "      <td>16.789286</td>\n",
       "    </tr>\n",
       "    <tr>\n",
       "      <th>2018-10</th>\n",
       "      <td>17.504373</td>\n",
       "    </tr>\n",
       "    <tr>\n",
       "      <th>2018-11</th>\n",
       "      <td>16.643902</td>\n",
       "    </tr>\n",
       "    <tr>\n",
       "      <th>2018-12</th>\n",
       "      <td>18.289979</td>\n",
       "    </tr>\n",
       "  </tbody>\n",
       "</table>\n",
       "</div>"
      ],
      "text/plain": [
       "              gb_used\n",
       "year_month           \n",
       "2018-01      6.500000\n",
       "2018-02     14.437500\n",
       "2018-03     15.228571\n",
       "2018-04     13.436620\n",
       "2018-05     14.867925\n",
       "2018-06     15.465278\n",
       "2018-07     16.750000\n",
       "2018-08     17.175966\n",
       "2018-09     16.789286\n",
       "2018-10     17.504373\n",
       "2018-11     16.643902\n",
       "2018-12     18.289979"
      ]
     },
     "execution_count": 322,
     "metadata": {},
     "output_type": "execute_result"
    }
   ],
   "source": [
    "avg_gb = df[['year_month', 'gb_used']].groupby('year_month').mean()\n",
    "avg_gb"
   ]
  },
  {
   "cell_type": "code",
   "execution_count": 323,
   "metadata": {},
   "outputs": [
    {
     "data": {
      "text/plain": [
       "gb_used    8.774875\n",
       "dtype: float64"
      ]
     },
     "execution_count": 323,
     "metadata": {},
     "output_type": "execute_result"
    }
   ],
   "source": [
    "internet_var = np.var(avg_gb)\n",
    "internet_var"
   ]
  },
  {
   "cell_type": "markdown",
   "metadata": {},
   "source": [
    "varians dari internet per bulannya adalah 8.7"
   ]
  },
  {
   "cell_type": "code",
   "execution_count": 324,
   "metadata": {},
   "outputs": [
    {
     "data": {
      "text/plain": [
       "gb_used    2.962242\n",
       "dtype: float64"
      ]
     },
     "execution_count": 324,
     "metadata": {},
     "output_type": "execute_result"
    }
   ],
   "source": [
    "np.sqrt(internet_var)"
   ]
  },
  {
   "cell_type": "markdown",
   "metadata": {},
   "source": [
    "standar deviasi internetnya adalah 2.9"
   ]
  },
  {
   "cell_type": "code",
   "execution_count": 325,
   "metadata": {},
   "outputs": [],
   "source": [
    "gb_per_month = pd.pivot_table(df, index='user_id', columns='year_month', values='gb_used', aggfunc='mean')"
   ]
  },
  {
   "cell_type": "code",
   "execution_count": 326,
   "metadata": {
    "scrolled": true
   },
   "outputs": [
    {
     "data": {
      "image/png": "[encoded data removed]",
      "text/plain": [
       "<Figure size 1008x432 with 1 Axes>"
      ]
     },
     "metadata": {
      "needs_background": "light"
     },
     "output_type": "display_data"
    }
   ],
   "source": [
    "plt.figure(figsize=(14, 6))\n",
    "sns.boxplot(data=gb_per_month)\n",
    "plt.title('Internet GB per Month Distribution', fontsize=15)\n",
    "plt.show()"
   ]
  },
  {
   "cell_type": "markdown",
   "metadata": {},
   "source": [
    "Pada grafik boxplot untuk penggunaan kuota internet (gigabyte) secara keseluruhan per bulannya menunjukkan peningkatan dari bulan pertama hingga bulan ke-4 saja, setelah itu pertumbuhannya cukup stabil hingga akhir bulan. Terlihat penggunaan kuota paling tinggi terdapat pada bulan 12 dengan nilai 70 GB, dan yang terendah terdapat pada bulan 1 hanya 10 GB."
   ]
  },
  {
   "cell_type": "markdown",
   "metadata": {},
   "source": [
    "Dapat disimpulkan bahwa penggunaan kuota internet (gigabyte) di setiap bulannya selalu mengalami kenaikan baik itu paket surf maupun ultimate, yang dimana peningkatan paling tinggi terdapat pada bulan 12, dan penggunaan paling rendah pada bulan 1. Perilaku pengguna juga sama di paket surf dan ultimate dengan rata-rata menggunakan kuota paling banyak di rentang 10 - 25 gigabyte, akan tetapi mengingat pada pengguna paket surf lebih banyak dari ultimate tidak menutup kemungkinan pengguna lebih memilih paket yang lebih murah yaitu surf meskipun ada beberapa pengguna yang masih di bebankan dengan biaya extra."
   ]
  },
  {
   "cell_type": "markdown",
   "metadata": {},
   "source": [
    " "
   ]
  },
  {
   "cell_type": "markdown",
   "metadata": {},
   "source": [
    "## Pendapatan"
   ]
  },
  {
   "cell_type": "markdown",
   "metadata": {},
   "source": [
    "Sekarang pada tahap pendapatan, pertama kita bikin variabel avg_income_monthly untuk menunjukkan rata-rata pendapatan setiap bulan berdasarkan macam paket yang digunakan. Setelah itu kita bikin variabel income_plan untuk menunjukkan jumlah kuota yang dibutuhkan setiap pengguna dan setiap bulannya berdasarkan paket yang digunakan."
   ]
  },
  {
   "cell_type": "code",
   "execution_count": 327,
   "metadata": {
    "scrolled": false
   },
   "outputs": [
    {
     "data": {
      "text/html": [
       "<div>\n",
       "<style scoped>\n",
       "    .dataframe tbody tr th:only-of-type {\n",
       "        vertical-align: middle;\n",
       "    }\n",
       "\n",
       "    .dataframe tbody tr th {\n",
       "        vertical-align: top;\n",
       "    }\n",
       "\n",
       "    .dataframe thead th {\n",
       "        text-align: right;\n",
       "    }\n",
       "</style>\n",
       "<table border=\"1\" class=\"dataframe\">\n",
       "  <thead>\n",
       "    <tr style=\"text-align: right;\">\n",
       "      <th>plan</th>\n",
       "      <th>year_month</th>\n",
       "      <th>surf</th>\n",
       "      <th>ultimate</th>\n",
       "    </tr>\n",
       "  </thead>\n",
       "  <tbody>\n",
       "    <tr>\n",
       "      <th>0</th>\n",
       "      <td>2018-01</td>\n",
       "      <td>20.000000</td>\n",
       "      <td>70.000000</td>\n",
       "    </tr>\n",
       "    <tr>\n",
       "      <th>1</th>\n",
       "      <td>2018-02</td>\n",
       "      <td>34.260000</td>\n",
       "      <td>70.000000</td>\n",
       "    </tr>\n",
       "    <tr>\n",
       "      <th>2</th>\n",
       "      <td>2018-03</td>\n",
       "      <td>45.792609</td>\n",
       "      <td>74.666667</td>\n",
       "    </tr>\n",
       "    <tr>\n",
       "      <th>3</th>\n",
       "      <td>2018-04</td>\n",
       "      <td>40.458600</td>\n",
       "      <td>73.000000</td>\n",
       "    </tr>\n",
       "    <tr>\n",
       "      <th>4</th>\n",
       "      <td>2018-05</td>\n",
       "      <td>47.240130</td>\n",
       "      <td>70.724138</td>\n",
       "    </tr>\n",
       "    <tr>\n",
       "      <th>5</th>\n",
       "      <td>2018-06</td>\n",
       "      <td>48.935155</td>\n",
       "      <td>71.638298</td>\n",
       "    </tr>\n",
       "    <tr>\n",
       "      <th>6</th>\n",
       "      <td>2018-07</td>\n",
       "      <td>62.226529</td>\n",
       "      <td>71.898305</td>\n",
       "    </tr>\n",
       "    <tr>\n",
       "      <th>7</th>\n",
       "      <td>2018-08</td>\n",
       "      <td>63.576728</td>\n",
       "      <td>72.859155</td>\n",
       "    </tr>\n",
       "    <tr>\n",
       "      <th>8</th>\n",
       "      <td>2018-09</td>\n",
       "      <td>57.952320</td>\n",
       "      <td>72.034884</td>\n",
       "    </tr>\n",
       "    <tr>\n",
       "      <th>9</th>\n",
       "      <td>2018-10</td>\n",
       "      <td>65.051097</td>\n",
       "      <td>72.311321</td>\n",
       "    </tr>\n",
       "    <tr>\n",
       "      <th>10</th>\n",
       "      <td>2018-11</td>\n",
       "      <td>57.633569</td>\n",
       "      <td>71.708661</td>\n",
       "    </tr>\n",
       "    <tr>\n",
       "      <th>11</th>\n",
       "      <td>2018-12</td>\n",
       "      <td>70.108270</td>\n",
       "      <td>73.291391</td>\n",
       "    </tr>\n",
       "  </tbody>\n",
       "</table>\n",
       "</div>"
      ],
      "text/plain": [
       "plan year_month       surf   ultimate\n",
       "0       2018-01  20.000000  70.000000\n",
       "1       2018-02  34.260000  70.000000\n",
       "2       2018-03  45.792609  74.666667\n",
       "3       2018-04  40.458600  73.000000\n",
       "4       2018-05  47.240130  70.724138\n",
       "5       2018-06  48.935155  71.638298\n",
       "6       2018-07  62.226529  71.898305\n",
       "7       2018-08  63.576728  72.859155\n",
       "8       2018-09  57.952320  72.034884\n",
       "9       2018-10  65.051097  72.311321\n",
       "10      2018-11  57.633569  71.708661\n",
       "11      2018-12  70.108270  73.291391"
      ]
     },
     "execution_count": 327,
     "metadata": {},
     "output_type": "execute_result"
    }
   ],
   "source": [
    "avg_income_monthly = pd.pivot_table(df, index='year_month', columns='plan', values='total_income', aggfunc='mean').reset_index()\n",
    "avg_income_monthly['year_month'] = avg_income_monthly['year_month'].astype(str)\n",
    "avg_income_monthly"
   ]
  },
  {
   "cell_type": "code",
   "execution_count": 328,
   "metadata": {
    "scrolled": false
   },
   "outputs": [
    {
     "data": {
      "text/plain": [
       "<AxesSubplot:title={'center':'Rata-rata income per Bulan'}, xlabel='year_month'>"
      ]
     },
     "execution_count": 328,
     "metadata": {},
     "output_type": "execute_result"
    },
    {
     "data": {
      "image/png": "[encoded data removed]",
      "text/plain": [
       "<Figure size 720x360 with 1 Axes>"
      ]
     },
     "metadata": {
      "needs_background": "light"
     },
     "output_type": "display_data"
    }
   ],
   "source": [
    "avg_income_monthly.plot(kind='bar', x='year_month', title='Rata-rata income per Bulan', figsize=(10,5))"
   ]
  },
  {
   "cell_type": "markdown",
   "metadata": {},
   "source": [
    "Terlihat bahwa pada diagram batang untuk rata-rata pendapatan per bulannya ntuk setiap paket mengalami kenaikan. Akan tetapi berdasarkan pertumbuhannya pada paket ultimate cukup stabil bertahan di angka 70 dolar perbulannya. Sedangkan pada paket surf mengalami kenaikan yang signifikan setiap bulannya walaupun ada beberapa yang mengalami penurunan, nilai yang dimiliki paling tinggi ada pada 70 dolar pada bulan 12."
   ]
  },
  {
   "cell_type": "code",
   "execution_count": 329,
   "metadata": {},
   "outputs": [],
   "source": [
    "temp_income_plan = df[['user_id', 'year_month', 'total_income']].groupby(['user_id', 'year_month']).sum().reset_index()\n",
    "temp_income_plan2 = df[['user_id', 'plan']].drop_duplicates()"
   ]
  },
  {
   "cell_type": "code",
   "execution_count": 330,
   "metadata": {
    "scrolled": false
   },
   "outputs": [
    {
     "data": {
      "text/html": [
       "<div>\n",
       "<style scoped>\n",
       "    .dataframe tbody tr th:only-of-type {\n",
       "        vertical-align: middle;\n",
       "    }\n",
       "\n",
       "    .dataframe tbody tr th {\n",
       "        vertical-align: top;\n",
       "    }\n",
       "\n",
       "    .dataframe thead th {\n",
       "        text-align: right;\n",
       "    }\n",
       "</style>\n",
       "<table border=\"1\" class=\"dataframe\">\n",
       "  <thead>\n",
       "    <tr style=\"text-align: right;\">\n",
       "      <th></th>\n",
       "      <th>year_month</th>\n",
       "      <th>plan</th>\n",
       "      <th>total_income</th>\n",
       "    </tr>\n",
       "  </thead>\n",
       "  <tbody>\n",
       "    <tr>\n",
       "      <th>0</th>\n",
       "      <td>2018-12</td>\n",
       "      <td>ultimate</td>\n",
       "      <td>70.00</td>\n",
       "    </tr>\n",
       "    <tr>\n",
       "      <th>1</th>\n",
       "      <td>2018-08</td>\n",
       "      <td>surf</td>\n",
       "      <td>20.00</td>\n",
       "    </tr>\n",
       "    <tr>\n",
       "      <th>2</th>\n",
       "      <td>2018-09</td>\n",
       "      <td>surf</td>\n",
       "      <td>20.00</td>\n",
       "    </tr>\n",
       "    <tr>\n",
       "      <th>3</th>\n",
       "      <td>2018-10</td>\n",
       "      <td>surf</td>\n",
       "      <td>90.09</td>\n",
       "    </tr>\n",
       "    <tr>\n",
       "      <th>4</th>\n",
       "      <td>2018-11</td>\n",
       "      <td>surf</td>\n",
       "      <td>60.00</td>\n",
       "    </tr>\n",
       "    <tr>\n",
       "      <th>...</th>\n",
       "      <td>...</td>\n",
       "      <td>...</td>\n",
       "      <td>...</td>\n",
       "    </tr>\n",
       "    <tr>\n",
       "      <th>2288</th>\n",
       "      <td>2018-12</td>\n",
       "      <td>surf</td>\n",
       "      <td>100.00</td>\n",
       "    </tr>\n",
       "    <tr>\n",
       "      <th>2289</th>\n",
       "      <td>2018-09</td>\n",
       "      <td>surf</td>\n",
       "      <td>20.00</td>\n",
       "    </tr>\n",
       "    <tr>\n",
       "      <th>2290</th>\n",
       "      <td>2018-10</td>\n",
       "      <td>surf</td>\n",
       "      <td>70.00</td>\n",
       "    </tr>\n",
       "    <tr>\n",
       "      <th>2291</th>\n",
       "      <td>2018-11</td>\n",
       "      <td>surf</td>\n",
       "      <td>40.00</td>\n",
       "    </tr>\n",
       "    <tr>\n",
       "      <th>2292</th>\n",
       "      <td>2018-12</td>\n",
       "      <td>surf</td>\n",
       "      <td>90.00</td>\n",
       "    </tr>\n",
       "  </tbody>\n",
       "</table>\n",
       "<p>2293 rows × 3 columns</p>\n",
       "</div>"
      ],
      "text/plain": [
       "     year_month      plan  total_income\n",
       "0       2018-12  ultimate         70.00\n",
       "1       2018-08      surf         20.00\n",
       "2       2018-09      surf         20.00\n",
       "3       2018-10      surf         90.09\n",
       "4       2018-11      surf         60.00\n",
       "...         ...       ...           ...\n",
       "2288    2018-12      surf        100.00\n",
       "2289    2018-09      surf         20.00\n",
       "2290    2018-10      surf         70.00\n",
       "2291    2018-11      surf         40.00\n",
       "2292    2018-12      surf         90.00\n",
       "\n",
       "[2293 rows x 3 columns]"
      ]
     },
     "execution_count": 330,
     "metadata": {},
     "output_type": "execute_result"
    }
   ],
   "source": [
    "income_plan = temp_income_plan.merge(temp_income_plan2, on='user_id', how='inner')[['year_month', 'plan', 'total_income']]\n",
    "income_plan"
   ]
  },
  {
   "cell_type": "code",
   "execution_count": 331,
   "metadata": {
    "scrolled": true
   },
   "outputs": [
    {
     "data": {
      "image/png": "[encoded data removed]",
      "text/plain": [
       "<Figure size 864x360 with 2 Axes>"
      ]
     },
     "metadata": {
      "needs_background": "light"
     },
     "output_type": "display_data"
    }
   ],
   "source": [
    "plt.figure(figsize=(12, 5))\n",
    "plt.subplot(1, 2, 1)\n",
    "plt.title('Surf')\n",
    "sns.histplot(income_plan.query('plan == \"surf\"'))\n",
    "\n",
    "plt.subplot(1, 2, 2)\n",
    "plt.title('Ultimate')\n",
    "sns.histplot(income_plan.query('plan == \"ultimate\"'))\n",
    "plt.show()"
   ]
  },
  {
   "cell_type": "markdown",
   "metadata": {},
   "source": [
    "Pada grafik histogram menunjukkan pendapatan pada paket surf sedikit lebih banyak daripada ultimate, dapat dilihat dari kepadatan dan frekuensi yang ditampilkan. Pada paket surf pendapatan paling tinggi memiliki nilai 580 dolar dan ultimate hanya pada di angka 180 dolar. Persebaran data di paket surf cenderung berada di kisaran 25 - 100 dolar dan untuk paket ultimate berada pada 35 - 80 dolar."
   ]
  },
  {
   "cell_type": "markdown",
   "metadata": {},
   "source": [
    "Secara statistik kita juga akan melihat rata-rata, varians, dan standar deviasinya guna mengetahui persebaran datanya."
   ]
  },
  {
   "cell_type": "code",
   "execution_count": 332,
   "metadata": {
    "scrolled": true
   },
   "outputs": [
    {
     "data": {
      "text/html": [
       "<div>\n",
       "<style scoped>\n",
       "    .dataframe tbody tr th:only-of-type {\n",
       "        vertical-align: middle;\n",
       "    }\n",
       "\n",
       "    .dataframe tbody tr th {\n",
       "        vertical-align: top;\n",
       "    }\n",
       "\n",
       "    .dataframe thead th {\n",
       "        text-align: right;\n",
       "    }\n",
       "</style>\n",
       "<table border=\"1\" class=\"dataframe\">\n",
       "  <thead>\n",
       "    <tr style=\"text-align: right;\">\n",
       "      <th></th>\n",
       "      <th>total_income</th>\n",
       "    </tr>\n",
       "    <tr>\n",
       "      <th>plan</th>\n",
       "      <th></th>\n",
       "    </tr>\n",
       "  </thead>\n",
       "  <tbody>\n",
       "    <tr>\n",
       "      <th>surf</th>\n",
       "      <td>94902.13</td>\n",
       "    </tr>\n",
       "    <tr>\n",
       "      <th>ultimate</th>\n",
       "      <td>52066.00</td>\n",
       "    </tr>\n",
       "  </tbody>\n",
       "</table>\n",
       "</div>"
      ],
      "text/plain": [
       "          total_income\n",
       "plan                  \n",
       "surf          94902.13\n",
       "ultimate      52066.00"
      ]
     },
     "execution_count": 332,
     "metadata": {},
     "output_type": "execute_result"
    }
   ],
   "source": [
    "total_income = income_plan[['plan', 'total_income']].groupby('plan').sum()\n",
    "total_income"
   ]
  },
  {
   "cell_type": "markdown",
   "metadata": {},
   "source": [
    "Pendapatan total paling tinggi yaitu paket dari surf dengan jumlah 94902 dolar, dan ultimate hanya di angka 52066 dolar."
   ]
  },
  {
   "cell_type": "code",
   "execution_count": 333,
   "metadata": {
    "scrolled": false
   },
   "outputs": [
    {
     "data": {
      "text/html": [
       "<div>\n",
       "<style scoped>\n",
       "    .dataframe tbody tr th:only-of-type {\n",
       "        vertical-align: middle;\n",
       "    }\n",
       "\n",
       "    .dataframe tbody tr th {\n",
       "        vertical-align: top;\n",
       "    }\n",
       "\n",
       "    .dataframe thead th {\n",
       "        text-align: right;\n",
       "    }\n",
       "</style>\n",
       "<table border=\"1\" class=\"dataframe\">\n",
       "  <thead>\n",
       "    <tr style=\"text-align: right;\">\n",
       "      <th></th>\n",
       "      <th>total_income</th>\n",
       "    </tr>\n",
       "    <tr>\n",
       "      <th>year_month</th>\n",
       "      <th></th>\n",
       "    </tr>\n",
       "  </thead>\n",
       "  <tbody>\n",
       "    <tr>\n",
       "      <th>2018-01</th>\n",
       "      <td>53.333333</td>\n",
       "    </tr>\n",
       "    <tr>\n",
       "      <th>2018-02</th>\n",
       "      <td>49.896250</td>\n",
       "    </tr>\n",
       "    <tr>\n",
       "      <th>2018-03</th>\n",
       "      <td>55.692286</td>\n",
       "    </tr>\n",
       "    <tr>\n",
       "      <th>2018-04</th>\n",
       "      <td>50.083521</td>\n",
       "    </tr>\n",
       "    <tr>\n",
       "      <th>2018-05</th>\n",
       "      <td>53.665000</td>\n",
       "    </tr>\n",
       "    <tr>\n",
       "      <th>2018-06</th>\n",
       "      <td>56.345208</td>\n",
       "    </tr>\n",
       "    <tr>\n",
       "      <th>2018-07</th>\n",
       "      <td>65.396722</td>\n",
       "    </tr>\n",
       "    <tr>\n",
       "      <th>2018-08</th>\n",
       "      <td>66.405279</td>\n",
       "    </tr>\n",
       "    <tr>\n",
       "      <th>2018-09</th>\n",
       "      <td>62.277679</td>\n",
       "    </tr>\n",
       "    <tr>\n",
       "      <th>2018-10</th>\n",
       "      <td>67.294781</td>\n",
       "    </tr>\n",
       "    <tr>\n",
       "      <th>2018-11</th>\n",
       "      <td>61.993415</td>\n",
       "    </tr>\n",
       "    <tr>\n",
       "      <th>2018-12</th>\n",
       "      <td>71.133113</td>\n",
       "    </tr>\n",
       "  </tbody>\n",
       "</table>\n",
       "</div>"
      ],
      "text/plain": [
       "            total_income\n",
       "year_month              \n",
       "2018-01        53.333333\n",
       "2018-02        49.896250\n",
       "2018-03        55.692286\n",
       "2018-04        50.083521\n",
       "2018-05        53.665000\n",
       "2018-06        56.345208\n",
       "2018-07        65.396722\n",
       "2018-08        66.405279\n",
       "2018-09        62.277679\n",
       "2018-10        67.294781\n",
       "2018-11        61.993415\n",
       "2018-12        71.133113"
      ]
     },
     "execution_count": 333,
     "metadata": {},
     "output_type": "execute_result"
    }
   ],
   "source": [
    "avg_income = df[['year_month', 'total_income']].groupby('year_month').mean()\n",
    "avg_income"
   ]
  },
  {
   "cell_type": "code",
   "execution_count": 334,
   "metadata": {},
   "outputs": [
    {
     "data": {
      "text/plain": [
       "total_income    47.490315\n",
       "dtype: float64"
      ]
     },
     "execution_count": 334,
     "metadata": {},
     "output_type": "execute_result"
    }
   ],
   "source": [
    "income_var = np.var(avg_income)\n",
    "income_var"
   ]
  },
  {
   "cell_type": "markdown",
   "metadata": {},
   "source": [
    "Varians dari rata-rata pendapatannya adalah 47.5"
   ]
  },
  {
   "cell_type": "code",
   "execution_count": 335,
   "metadata": {
    "scrolled": true
   },
   "outputs": [
    {
     "data": {
      "text/plain": [
       "total_income    6.891322\n",
       "dtype: float64"
      ]
     },
     "execution_count": 335,
     "metadata": {},
     "output_type": "execute_result"
    }
   ],
   "source": [
    "np.sqrt(income_var)"
   ]
  },
  {
   "cell_type": "markdown",
   "metadata": {},
   "source": [
    "Sedangkan standar deviasinya adalah 6.9"
   ]
  },
  {
   "cell_type": "code",
   "execution_count": 336,
   "metadata": {},
   "outputs": [],
   "source": [
    "income_per_month = pd.pivot_table(df, index='user_id', columns='year_month', values='total_income', aggfunc='mean')"
   ]
  },
  {
   "cell_type": "code",
   "execution_count": 337,
   "metadata": {
    "scrolled": true
   },
   "outputs": [
    {
     "data": {
      "image/png": "[encoded data removed]",
      "text/plain": [
       "<Figure size 1008x432 with 1 Axes>"
      ]
     },
     "metadata": {
      "needs_background": "light"
     },
     "output_type": "display_data"
    }
   ],
   "source": [
    "plt.figure(figsize=(14, 6))\n",
    "sns.boxplot(data=income_per_month)\n",
    "plt.title('Income per Month Distribution', fontsize=15)\n",
    "plt.show()"
   ]
  },
  {
   "cell_type": "markdown",
   "metadata": {},
   "source": [
    "Pada grafik boxplot untuk pendapatan secara keseluruhan per bulannya menunjukkan peningkatan kurang signifikan cenderung stabil. Terlihat pendapatan paling tinggi terdapat pada bulan 12 di angka 580 dolar dan yang terendah terdapat pada bulan 1 & 2 hanya 35 - 80 dolar."
   ]
  },
  {
   "cell_type": "markdown",
   "metadata": {},
   "source": [
    "Dapat disimpulkan bahwa pendapatan di setiap bulannya selalu mengalami pertumbuhan dimana penadapatan paling tinggi terdapat pada bulan 12, dan pendapatan paling rendah pada bulan 1 & 2. Perilaku pengguna berdasarkan persebaran datanya sendiri pada paket surf cenderung berada di kisaran 25 - 100 dolar dan untuk paket ultimate berada pada 35 - 80 dolar. Pendapatan berdasarkan setiap pengguna untuk tiap-tiap paketnya paling tinggi terdapat pada paket surf dimana bulan ke-12 di angka 580 dolar dan untuk paket ultimate di angka 180 dolar. Akan tetapi mengingat pada pengguna paket surf lebih banyak dari ultimate tidak menutup kemungkinan pengguna lebih memilih paket yang lebih murah yaitu surf meskipun ada beberapa pengguna yang masih di bebankan dengan biaya extra."
   ]
  },
  {
   "cell_type": "markdown",
   "metadata": {},
   "source": [
    " "
   ]
  },
  {
   "cell_type": "markdown",
   "metadata": {},
   "source": [
    "## Menguji Hipotesis Statistik"
   ]
  },
  {
   "cell_type": "markdown",
   "metadata": {},
   "source": [
    "Pengujian hipotesis statistik pertama kita akan membuat tabel untuk total_income yang di urutkan dengan user_id berdasarkan paketnya (Surf dan Ultimate). Setelah itu kita uji statistik berdasarkan pendapatan setiap paket tersebut untuk mengetahui H0 dan Ha."
   ]
  },
  {
   "cell_type": "markdown",
   "metadata": {},
   "source": [
    "Uji Statistik : Two sample t-test independent\n",
    "\n",
    "Hipotesis :\n",
    "   - H0 = Apabila rata-rata pendapatan pada paket surf dan ultimate sama\n",
    "   - Ha = Apabila rata-rata pendapatan pada paket surf dan ultimate beda\n",
    "   \n",
    "Alpha : 5% / 0.05"
   ]
  },
  {
   "cell_type": "code",
   "execution_count": 338,
   "metadata": {
    "scrolled": false
   },
   "outputs": [
    {
     "data": {
      "text/html": [
       "<div>\n",
       "<style scoped>\n",
       "    .dataframe tbody tr th:only-of-type {\n",
       "        vertical-align: middle;\n",
       "    }\n",
       "\n",
       "    .dataframe tbody tr th {\n",
       "        vertical-align: top;\n",
       "    }\n",
       "\n",
       "    .dataframe thead th {\n",
       "        text-align: right;\n",
       "    }\n",
       "</style>\n",
       "<table border=\"1\" class=\"dataframe\">\n",
       "  <thead>\n",
       "    <tr style=\"text-align: right;\">\n",
       "      <th>plan</th>\n",
       "      <th>user_id</th>\n",
       "      <th>surf</th>\n",
       "      <th>ultimate</th>\n",
       "    </tr>\n",
       "  </thead>\n",
       "  <tbody>\n",
       "    <tr>\n",
       "      <th>0</th>\n",
       "      <td>1000</td>\n",
       "      <td>NaN</td>\n",
       "      <td>70.0</td>\n",
       "    </tr>\n",
       "    <tr>\n",
       "      <th>1</th>\n",
       "      <td>1001</td>\n",
       "      <td>50.018000</td>\n",
       "      <td>NaN</td>\n",
       "    </tr>\n",
       "    <tr>\n",
       "      <th>2</th>\n",
       "      <td>1002</td>\n",
       "      <td>33.333333</td>\n",
       "      <td>NaN</td>\n",
       "    </tr>\n",
       "    <tr>\n",
       "      <th>3</th>\n",
       "      <td>1003</td>\n",
       "      <td>156.230000</td>\n",
       "      <td>NaN</td>\n",
       "    </tr>\n",
       "    <tr>\n",
       "      <th>4</th>\n",
       "      <td>1004</td>\n",
       "      <td>76.250000</td>\n",
       "      <td>NaN</td>\n",
       "    </tr>\n",
       "    <tr>\n",
       "      <th>...</th>\n",
       "      <td>...</td>\n",
       "      <td>...</td>\n",
       "      <td>...</td>\n",
       "    </tr>\n",
       "    <tr>\n",
       "      <th>485</th>\n",
       "      <td>1495</td>\n",
       "      <td>118.092500</td>\n",
       "      <td>NaN</td>\n",
       "    </tr>\n",
       "    <tr>\n",
       "      <th>486</th>\n",
       "      <td>1496</td>\n",
       "      <td>28.000000</td>\n",
       "      <td>NaN</td>\n",
       "    </tr>\n",
       "    <tr>\n",
       "      <th>487</th>\n",
       "      <td>1497</td>\n",
       "      <td>NaN</td>\n",
       "      <td>70.0</td>\n",
       "    </tr>\n",
       "    <tr>\n",
       "      <th>488</th>\n",
       "      <td>1498</td>\n",
       "      <td>77.272727</td>\n",
       "      <td>NaN</td>\n",
       "    </tr>\n",
       "    <tr>\n",
       "      <th>489</th>\n",
       "      <td>1499</td>\n",
       "      <td>55.000000</td>\n",
       "      <td>NaN</td>\n",
       "    </tr>\n",
       "  </tbody>\n",
       "</table>\n",
       "<p>490 rows × 3 columns</p>\n",
       "</div>"
      ],
      "text/plain": [
       "plan  user_id        surf  ultimate\n",
       "0        1000         NaN      70.0\n",
       "1        1001   50.018000       NaN\n",
       "2        1002   33.333333       NaN\n",
       "3        1003  156.230000       NaN\n",
       "4        1004   76.250000       NaN\n",
       "..        ...         ...       ...\n",
       "485      1495  118.092500       NaN\n",
       "486      1496   28.000000       NaN\n",
       "487      1497         NaN      70.0\n",
       "488      1498   77.272727       NaN\n",
       "489      1499   55.000000       NaN\n",
       "\n",
       "[490 rows x 3 columns]"
      ]
     },
     "execution_count": 338,
     "metadata": {},
     "output_type": "execute_result"
    }
   ],
   "source": [
    "income_avg = pd.pivot_table(df, index='user_id', columns='plan', values='total_income', aggfunc='mean').reset_index()\n",
    "income_avg"
   ]
  },
  {
   "cell_type": "code",
   "execution_count": 339,
   "metadata": {
    "scrolled": false
   },
   "outputs": [
    {
     "name": "stdout",
     "output_type": "stream",
     "text": [
      "p-value:  1.2482464781451398e-08\n",
      "Kita menolak hipotesis nol\n",
      "\n",
      "Rata-rata income di surf 57.841349247515915\n",
      "Rata-rata income di ultimate 71.82328379334749\n"
     ]
    }
   ],
   "source": [
    "from scipy import stats as st\n",
    "\n",
    "surf = income_avg['surf']\n",
    "ultimate = income_avg['ultimate']\n",
    "\n",
    "alpha = 0.05\n",
    "\n",
    "results = st.ttest_ind(surf, ultimate, nan_policy='omit', alternative='less', equal_var=False)\n",
    "print('p-value: ', results.pvalue)\n",
    "\n",
    "if results.pvalue < alpha:\n",
    "    print(\"Kita menolak hipotesis nol\")\n",
    "else:\n",
    "    print(\"Kita tidak bisa menolak hipotesis nol\")\n",
    "print()\n",
    "print('Rata-rata income di surf', surf.mean())\n",
    "print('Rata-rata income di ultimate', ultimate.mean())"
   ]
  },
  {
   "cell_type": "markdown",
   "metadata": {},
   "source": [
    "Analisis statistik menunjukkan bahwa :\n",
    "  - P-Value rata-rata pendapatan antara paket surf dan ultimate adalah 0,00000124%\n",
    "  - Kita menolak H0, yang mengindikasikan rata-rata pendapatan paket surf dan ultimate berbeda\n",
    "\n",
    "Hasil analisis memang menunjukkan rata-rata pendapatan pada paket surf dengan paket ultimate berbeda. Bisa jadi dikarenakan paket surf lebih murah sehingga peminatnya banyak dan tidak menutup kemungkinan bahwa pengguna pada paket surf juga menggunakan tarif extra karena melebihi limit dari paket surf itu sendiri sehingga pendapatannya juga ikut tinggi daripada paket ultimate."
   ]
  },
  {
   "cell_type": "markdown",
   "metadata": {},
   "source": [
    "Sekarang kita akan menguji hipotesis untuk pengguna di wilayah NY-NJ dengan wilayah lain. Pertama kita akan membuat tabel untuk total_income yang di urutkan dengan user_id berdasarkan pengguna di wilayah NY-NJ. Setelah itu kita uji statistik berdasarkan pendapatan setiap wilayah tersebut untuk mengetahui H0 dan Ha."
   ]
  },
  {
   "cell_type": "markdown",
   "metadata": {},
   "source": [
    "Uji Statistik : Two sample t-test independent\n",
    "\n",
    "Hipotesis :\n",
    "   - H0 = Apabila rata-rata pendapatan pada wilayah NYNJ dengan wilayah yang lain sama\n",
    "   - Ha = Apabila rata-rata pendapatan pada wilayah NYNJ dengan wilayah yang lain beda\n",
    "   \n",
    "Alpha : 5% / 0.05"
   ]
  },
  {
   "cell_type": "code",
   "execution_count": 340,
   "metadata": {
    "scrolled": true
   },
   "outputs": [
    {
     "data": {
      "text/html": [
       "<div>\n",
       "<style scoped>\n",
       "    .dataframe tbody tr th:only-of-type {\n",
       "        vertical-align: middle;\n",
       "    }\n",
       "\n",
       "    .dataframe tbody tr th {\n",
       "        vertical-align: top;\n",
       "    }\n",
       "\n",
       "    .dataframe thead th {\n",
       "        text-align: right;\n",
       "    }\n",
       "</style>\n",
       "<table border=\"1\" class=\"dataframe\">\n",
       "  <thead>\n",
       "    <tr style=\"text-align: right;\">\n",
       "      <th></th>\n",
       "      <th>user_id</th>\n",
       "      <th>non_nynj</th>\n",
       "      <th>nynj</th>\n",
       "    </tr>\n",
       "  </thead>\n",
       "  <tbody>\n",
       "    <tr>\n",
       "      <th>0</th>\n",
       "      <td>1000</td>\n",
       "      <td>70.000000</td>\n",
       "      <td>NaN</td>\n",
       "    </tr>\n",
       "    <tr>\n",
       "      <th>1</th>\n",
       "      <td>1001</td>\n",
       "      <td>50.018000</td>\n",
       "      <td>NaN</td>\n",
       "    </tr>\n",
       "    <tr>\n",
       "      <th>2</th>\n",
       "      <td>1002</td>\n",
       "      <td>33.333333</td>\n",
       "      <td>NaN</td>\n",
       "    </tr>\n",
       "    <tr>\n",
       "      <th>3</th>\n",
       "      <td>1003</td>\n",
       "      <td>156.230000</td>\n",
       "      <td>NaN</td>\n",
       "    </tr>\n",
       "    <tr>\n",
       "      <th>4</th>\n",
       "      <td>1004</td>\n",
       "      <td>76.250000</td>\n",
       "      <td>NaN</td>\n",
       "    </tr>\n",
       "    <tr>\n",
       "      <th>...</th>\n",
       "      <td>...</td>\n",
       "      <td>...</td>\n",
       "      <td>...</td>\n",
       "    </tr>\n",
       "    <tr>\n",
       "      <th>485</th>\n",
       "      <td>1495</td>\n",
       "      <td>NaN</td>\n",
       "      <td>118.092500</td>\n",
       "    </tr>\n",
       "    <tr>\n",
       "      <th>486</th>\n",
       "      <td>1496</td>\n",
       "      <td>28.000000</td>\n",
       "      <td>NaN</td>\n",
       "    </tr>\n",
       "    <tr>\n",
       "      <th>487</th>\n",
       "      <td>1497</td>\n",
       "      <td>70.000000</td>\n",
       "      <td>NaN</td>\n",
       "    </tr>\n",
       "    <tr>\n",
       "      <th>488</th>\n",
       "      <td>1498</td>\n",
       "      <td>NaN</td>\n",
       "      <td>77.272727</td>\n",
       "    </tr>\n",
       "    <tr>\n",
       "      <th>489</th>\n",
       "      <td>1499</td>\n",
       "      <td>55.000000</td>\n",
       "      <td>NaN</td>\n",
       "    </tr>\n",
       "  </tbody>\n",
       "</table>\n",
       "<p>490 rows × 3 columns</p>\n",
       "</div>"
      ],
      "text/plain": [
       "     user_id    non_nynj        nynj\n",
       "0       1000   70.000000         NaN\n",
       "1       1001   50.018000         NaN\n",
       "2       1002   33.333333         NaN\n",
       "3       1003  156.230000         NaN\n",
       "4       1004   76.250000         NaN\n",
       "..       ...         ...         ...\n",
       "485     1495         NaN  118.092500\n",
       "486     1496   28.000000         NaN\n",
       "487     1497   70.000000         NaN\n",
       "488     1498         NaN   77.272727\n",
       "489     1499   55.000000         NaN\n",
       "\n",
       "[490 rows x 3 columns]"
      ]
     },
     "execution_count": 340,
     "metadata": {},
     "output_type": "execute_result"
    }
   ],
   "source": [
    "area_income = pd.pivot_table(df, index='user_id', columns='is_nynj', values='total_income', aggfunc='mean').reset_index()\n",
    "area_income.columns = ['user_id', 'non_nynj', 'nynj']\n",
    "area_income"
   ]
  },
  {
   "cell_type": "code",
   "execution_count": 341,
   "metadata": {
    "scrolled": true
   },
   "outputs": [
    {
     "name": "stdout",
     "output_type": "stream",
     "text": [
      "p-value:  0.4311816840939525\n",
      "Kita tidak bisa menolak hipotesis nol\n",
      "\n",
      "Rata-rata income di wilayah NY-NJ adalah 59.59239807660694\n",
      "Rata-rata income di wilayah selain kota NY-NJ adalah 62.84580390979662\n"
     ]
    }
   ],
   "source": [
    "from scipy import stats as st\n",
    "\n",
    "nynj = area_income['nynj']\n",
    "non_nynj = area_income['non_nynj']\n",
    "\n",
    "alpha = 0.05\n",
    "\n",
    "results = st.ttest_ind(nynj, non_nynj, nan_policy='omit', equal_var=False)\n",
    "print('p-value: ', results.pvalue)\n",
    "\n",
    "if results.pvalue < alpha:\n",
    "    print(\"Kita menolak hipotesis nol\")\n",
    "else:\n",
    "    print(\"Kita tidak bisa menolak hipotesis nol\")\n",
    "print()\n",
    "print('Rata-rata income di wilayah NY-NJ adalah', nynj.mean())\n",
    "print('Rata-rata income di wilayah selain kota NY-NJ adalah', non_nynj.mean())"
   ]
  },
  {
   "cell_type": "markdown",
   "metadata": {},
   "source": [
    "Analisis statistik menunjukkan bahwa :\n",
    "  - P-Value rata-rata pendapatan di wilayah NY-NJ dan wilayah lain adalah 43%\n",
    "  - Kita tidak bisa menolak H0, yang mengindikasikan rata-rata pendapatan di wilayah NY-NJ dan wilayah lain sama\n",
    "\n",
    "Hasil analisis memang menunjukkan rata-rata pendapatan di wilayah NY-NJ dan wilayah lain sama, tetapi kita tidak memiliki cukup data untuk mengatakan dengan tepat bagaimana persisnya persamaan tersebut. P-Value dengan nilai 43%  menunjukkan probabilitas ini jelas terlalu tinggi untuk menyimpulkan bahwa ada perbedaan yang signifikan antara jumlah rata-rata di wilayah NY-NJ dan di wilayah lain. Bisa jadi dikarenakan perbandingan di wilayah NY-NJ dan wilayah lain terlalau besar jangkauannya, apabila kita bandingkan dengan kota spesifik tertentu lainnya kemungkinan terdapat di salah satu kota tersebut akan ada yang beda rata-rata pendapatannya dengan di wilayah NY-NJ."
   ]
  },
  {
   "cell_type": "markdown",
   "metadata": {},
   "source": [
    "## Kesimpulan Umum\n"
   ]
  },
  {
   "cell_type": "markdown",
   "metadata": {},
   "source": [
    "Diawali dengan inisialisasi dictionary oleh pandas, matplotlib, numphy, seaborn, dan scipy.stat untuk pengolahan data kita. Kemudian kita memuat datanya yang terdiri dari data plan, user, call, messages, dan internet. \n",
    "\n",
    "Langkah berikutnya kita akan memperbaiki data dan memperkaya kualitas datanya untuk tiap-tiap data.\n",
    "1. Plan (data_plans):\n",
    "  - Memperbaiki tipe data pada kolom usd_monthly_pay dan usd_per_gb\n",
    "  - Menambahkan kolom gb_per_monthly_included dengan cara membagi kolom gb_per_monthly_included dengan 1024 dan di bulatkan nilainya keatas\n",
    "2. User (data_users):\n",
    "  - Menambahkan kolom baru wilayah NY-NJ (is_nynj) dari kolom city, dengan mengambil datanya berdasarkan index dari kolom city yang kita persingkat hanya spesifik nama kotanya saja\n",
    "  - Menghapus kolom first_name dan last_name untuk meringkas tabel, karena kita bisa menggunakan user_id sebagai gantinya\n",
    "3. Call (data_calls):\n",
    "  - Memperbaiki tipe data pada kolom call_date ke tipe data datetime\n",
    "  - Membuat kolom baru dari call_date yang bernama year_month guna untuk mengagregasikan tabel calls dengan yang lain\n",
    "4. Messages (data_messages):\n",
    "  - Memperbaiki tipe data pada kolom messages_date ke tipe data datetime\n",
    "  - Membuat kolom baru dari messages_date yang bernama year_month guna untuk mengagregasikan tabel meessages dengan yang lain\n",
    "5. Internet (data_internet):\n",
    "  - Memperbaiki tipe data pada kolom session_date ke tipe data datetime\n",
    "  - Membuat kolom baru dari session_date yang bernama year_month guna untuk mengagregasikan tabel internet dengan yang lain\n",
    "\n",
    "Setelah memperbaiki data kita akan mengagregasikannya ke satu tabel, akan tetapi sebelum itu kita perlu membuat tabel utama dari tabel data_plan dengan data_users. Tabel tersebut merupakan acuan pengguna setiap user_id terhadap paket yang digunakannya (surf atau ultimate). Dengan tabel ini pula kita akan mencari tahu perilaku pengguna dalam setiap penggunaan calls, sms maupun internet yang digunakan apakah melebihi paket yang digunakan atau tidak. Dan apabila melebihi kita akan kenakan biaya extra per calls, sms maupun internet per pemakaiannya.\n",
    "\n",
    "Dikarenakan data terbagi dari beberapa tabel maka kita akan gabungkan menjadi satu kesatuan.\n",
    "  1. Kita buat variabel baru call_agg dimana kita perlu user_id, year_month dan duration yang sebagai patokan yang nanti akan berguna untuk di agregasikan dengan tabel yang lain. Dengan bantuan pivot table untuk mengambil kolom yang dibutuhkan yang sekaligus kita juga bisa menjumlahkan durationnya untuk setiap pengguna.\n",
    "  2. Selanjutnya untuk internet_agg dimana kita perlu user_id, year_month dan mb_used yang sebagai patokan yang nanti akan berguna untuk di agregasikan dengan tabel yang lain. Dengan bantuan pivot table untuk mengambil kolom yang dibutuhkan yang sekaligus kita juga bisa menjumlahkan mb_usednya untuk setiap pengguna.\n",
    "  3. Lagi untuk message_agg dimana kita perlu user_id, year_month dan id yang sebagai patokan untuk di agregasikan dengan tabel yang lain. Dengan bantuan pivot table untuk mengambil kolom yang dibutuhkan yang sekaligus kita juga bisa menghitung banyaknya id untuk setiap pengguna sebagai jumlah dari sms yang digunakan. Karena data mb_used masih dalam bentuk megabyte, kita akan mengubahnya sekaligus membuat kolom baru dengan nama gb_used yang diperoleh dari jumlah kolom mb_used yang di bagi dengan 1024 sehingga nilainya menjadi gigabyte.\n",
    "  4. Disini kita gabungkan call_agg ke dalam internet_agg kemudian ke dalam message_agg dan yang terakhir kita gabungkan kedalam table_users yang dimana merupakan jenis paket setiap pengguna yang digunakan.\n",
    "  5. Dataframe dari keseluruhan tabel pun sudah di buat dengan nama df.\n",
    "\n",
    "Setelah menggabungkan semua tabel menjadi satu, kita bisa mencari pendapatan yang diperoleh lalu kita simpan dalam satu variabel.\n",
    "  1. Mencari extra_calls dimana durasi setiap penggunaan oleh pengguna melebihi batas dari paket yang di bebankan. Secara matematis extra_calls dapat diperoleh dengan cara menghitung durasi yang dikurangi dengan batas durasi paket (minutes_included) dan dikalikan biaya extra untuk per menitnya (usd_per_minute)\n",
    "  2. Mencari extra_sms dimana jumlah sms setiap penggunaan oleh pengguna melebihi batas dari paket yang di bebankan. Secara matematis extra_sms dapat diperoleh dengan cara menghitung jumlah sms yang dikurangi dengan batas sms paket (messages_included) dan dikalikan biaya extra untuk per smsnya (usd_per_message)\n",
    "  3. Mencari extra_internet dimana gb_used setiap penggunaan oleh pengguna melebihi batas dari paket yang di bebankan. Secara matematis extra_internet dapat diperoleh dengan cara menghitung gb_used yang dikurangi dengan batas internet paket (gb_per_month_included) dan dikalikan biaya extra untuk per gigabytenya (usd_per_gb)\n",
    "  4. Setelah semua sudah dihitung maka kita bisa mendapatkan nilai untuk pendapatan. Nilai tersebut dihitung berdasarkan biaya bulanan (usd_monthly_pay), ditambah extra_calls, ditambah lagi extra_internet, dan ditambahkan lagi dengan extra_sms.\n",
    "  5. Pendapatan disimpan dalam kolom total_income\n",
    "  \n",
    "Perilaku pengguna dapat kita ukur berdasarkan data yang kita miliki yang dihitung secara statistik. Mengingat data telah kita agregasikan dan gabungkan dengan semua variabel yang diperlukan, maka alangkah lebih baik kita mempelajari perilaku pengguna secara visual dengan diagram maupun grafik.\n",
    "  1. Call: Dapat disimpulkan bahwa penggunaan panggilan di setiap bulannya selalu mengalami kenaikan baik itu paket surf maupun ultimate, yang dimana peningkatan paling tinggi terdapat pada bulan 12, dan penggunaan paling rendah pada bulan 1. Perilaku pengguna juga sama di paket surf dan ultimate dengan rata-rata menggunakan panggilan paling banyak di rentang 200-600 menit, akan tetapi mengingat pada pengguna paket surf lebih banyak dari ultimate tidak menutup kemungkinan pengguna lebih memilih paket yang lebih murah yaitu surf meskipun ada beberapa pengguna yang masih di bebankan dengan biaya extra.\n",
    "  2. Messages: Dapat disimpulkan bahwa penggunaan sms di setiap bulannya selalu mengalami kenaikan baik itu paket surf maupun ultimate, yang dimana peningkatan paling tinggi terdapat pada bulan 12, dan penggunaan paling rendah pada bulan 1. Baik dari paket surf dan ultimate juga rata-rata penggunaan smsnya paling banyak di rentang 1 - 70 sms.\n",
    "  3. Internet: Dapat disimpulkan bahwa penggunaan kuota internet (gigabyte) di setiap bulannya selalu mengalami kenaikan baik itu paket surf maupun ultimate, yang dimana peningkatan paling tinggi terdapat pada bulan 12, dan penggunaan paling rendah pada bulan 1. Perilaku pengguna juga sama di paket surf dan ultimate dengan rata-rata menggunakan kuota paling banyak di rentang 10 - 25 gigabyte, akan tetapi mengingat pada pengguna paket surf lebih banyak dari ultimate tidak menutup kemungkinan pengguna lebih memilih paket yang lebih murah yaitu surf meskipun ada beberapa pengguna yang masih di bebankan dengan biaya extra.\n",
    "  4. Income: Dapat disimpulkan bahwa pendapatan di setiap bulannya selalu mengalami pertumbuhan dimana penadapatan paling tinggi terdapat pada bulan 12, dan pendapatan paling rendah pada bulan 1 & 2. Perilaku pengguna berdasarkan persebaran datanya sendiri pada paket surf cenderung berada di kisaran 25 - 100 dolar dan untuk paket ultimate berada pada 35 - 80 dolar. Pendapatan berdasarkan setiap pengguna untuk tiap-tiap paketnya paling tinggi terdapat pada paket surf dimana bulan ke-12 di angka 580 dolar dan untuk paket ultimate di angka 180 dolar. Akan tetapi mengingat pada pengguna paket surf lebih banyak dari ultimate tidak menutup kemungkinan pengguna lebih memilih paket yang lebih murah yaitu surf meskipun ada beberapa pengguna yang masih di bebankan dengan biaya extra.\n",
    "\n",
    "\n",
    "Diakhiri dengan pengujian hipotesis statistik untuk pendapatan pada kriteria tertentu.\n",
    "\n",
    "Uji Statistik yang digunakan : Two sample t-test independent (st.ttesst_ind())\n",
    "\n",
    "Alpha digunakan sebesar : 5% / 0.05\n",
    "   \n",
    "1. Analisis pendapatan antara paket surf dan ultimate menunjukkan bahwa :\n",
    "  - P-Value rata-rata pendapatan antara paket surf dan ultimate adalah 0,00000124%\n",
    "  - Kita menolak H0, yang mengindikasikan rata-rata pendapatan paket surf dan ultimate berbeda\n",
    "  \n",
    "Hasil analisis menunjukkan rata-rata pendapatan pada paket surf dengan paket ultimate berbeda. Bisa jadi dikarenakan paket surf lebih murah sehingga peminatnya banyak dan tidak menutup kemungkinan bahwa pengguna pada paket surf juga menggunakan tarif extra karena melebihi limit dari paket surf itu sendiri sehingga pendapatannya juga ikut tinggi daripada paket ultimate.\n",
    "\n",
    "2. Analisis pendapatan di wilayah NY-NJ dengan wilayah lain menunjukkan bahwa :\n",
    "  - P-Value rata-rata pendapatan di wilayah NY-NJ dan wilayah lain adalah 43%\n",
    "  - Kita tidak bisa menolak H0, yang mengindikasikan rata-rata pendapatan di wilayah NY-NJ dan wilayah lain sama\n",
    "  \n",
    "Hasil analisis memang menunjukkan rata-rata pendapatan di wilayah NY-NJ dan wilayah lain sama, tetapi kita tidak memiliki cukup data untuk mengatakan dengan tepat bagaimana persisnya persamaan tersebut. P-Value dengan nilai 43%  menunjukkan probabilitas ini jelas terlalu tinggi untuk menyimpulkan bahwa ada perbedaan yang signifikan antara jumlah rata-rata di wilayah NY-NJ dan di wilayah lain. Bisa jadi dikarenakan perbandingan dilakukan di wilayah NY-NJ dan wilayah lain ini terlalau besar jangkauannya, apabila kita bandingkan dengan kota spesifik tertentu lainnya kemungkinan terdapat di salah satu kota tersebut akan ada yang berbeda rata-rata pendapatannya dengan di wilayah NY-NJ.\n",
    "\n",
    "Secara umum apabila kita ambil kesimpulan finalnya, kita akan mendapatkan paket paling menguntungkan yaitu di paket surf. Berdasarkan p-value untuk rata-rata pendapatan paket surf dan ultimate di angka 0,00000124%. Sedangkan untuk wilayah yang paling menguntungkan masih sama baik di wilayah NY-NJ atau pun di wilayah lain. Ini didasarkan pada temuan analisis statistik dengan p-value yang menunjukkan angka 43% dan menyiratkan bahwa kita tidak bisa menolak H0."
   ]
  },
  {
   "cell_type": "markdown",
   "metadata": {},
   "source": [
    " "
   ]
  }
 ],
 "metadata": {
  "ExecuteTimeLog": [
   {
    "duration": 828,
    "start_time": "2021-11-16T09:21:11.304Z"
   },
   {
    "duration": 893,
    "start_time": "2021-11-16T09:21:17.728Z"
   },
   {
    "duration": 1150,
    "start_time": "2021-11-16T09:21:29.568Z"
   },
   {
    "duration": 3,
    "start_time": "2021-11-16T09:24:14.495Z"
   },
   {
    "duration": 120,
    "start_time": "2021-11-16T09:24:46.630Z"
   },
   {
    "duration": 3,
    "start_time": "2021-11-16T09:28:27.882Z"
   },
   {
    "duration": 4,
    "start_time": "2021-11-16T09:29:54.281Z"
   },
   {
    "duration": 3,
    "start_time": "2021-11-16T09:30:45.936Z"
   },
   {
    "duration": 4,
    "start_time": "2021-11-16T09:31:06.300Z"
   },
   {
    "duration": 113,
    "start_time": "2021-11-16T09:31:37.208Z"
   },
   {
    "duration": 143,
    "start_time": "2021-11-16T09:31:48.656Z"
   },
   {
    "duration": 98,
    "start_time": "2021-11-16T09:31:55.678Z"
   },
   {
    "duration": 3,
    "start_time": "2021-11-16T09:32:08.535Z"
   },
   {
    "duration": 111,
    "start_time": "2021-11-16T09:32:10.120Z"
   },
   {
    "duration": 3,
    "start_time": "2021-11-16T09:32:15.732Z"
   },
   {
    "duration": 4,
    "start_time": "2021-11-16T09:32:29.423Z"
   },
   {
    "duration": 3,
    "start_time": "2021-11-16T10:03:03.074Z"
   },
   {
    "duration": 3,
    "start_time": "2021-11-16T10:10:01.288Z"
   },
   {
    "duration": 3,
    "start_time": "2021-11-16T10:10:46.923Z"
   },
   {
    "duration": 121,
    "start_time": "2021-11-16T10:37:46.494Z"
   },
   {
    "duration": 125,
    "start_time": "2021-11-16T10:38:20.632Z"
   },
   {
    "duration": 112,
    "start_time": "2021-11-16T10:46:53.001Z"
   },
   {
    "duration": 110,
    "start_time": "2021-11-16T10:48:25.775Z"
   },
   {
    "duration": 3,
    "start_time": "2021-11-16T10:50:18.720Z"
   },
   {
    "duration": 4,
    "start_time": "2021-11-16T10:50:37.649Z"
   },
   {
    "duration": 2,
    "start_time": "2021-11-16T10:50:51.884Z"
   },
   {
    "duration": 3,
    "start_time": "2021-11-16T10:51:56.237Z"
   },
   {
    "duration": 101,
    "start_time": "2021-11-16T10:53:13.791Z"
   },
   {
    "duration": 3,
    "start_time": "2021-11-16T10:55:59.186Z"
   },
   {
    "duration": 3,
    "start_time": "2021-11-16T10:56:10.751Z"
   },
   {
    "duration": 3,
    "start_time": "2021-11-16T10:56:49.038Z"
   },
   {
    "duration": 3,
    "start_time": "2021-11-16T10:56:49.174Z"
   },
   {
    "duration": 4,
    "start_time": "2021-11-16T10:56:49.414Z"
   },
   {
    "duration": 3,
    "start_time": "2021-11-16T10:56:49.680Z"
   },
   {
    "duration": 3,
    "start_time": "2021-11-16T10:56:50.370Z"
   },
   {
    "duration": 114,
    "start_time": "2021-11-16T10:59:34.518Z"
   },
   {
    "duration": 3,
    "start_time": "2021-11-16T11:01:41.201Z"
   },
   {
    "duration": 116,
    "start_time": "2021-11-16T11:01:48.754Z"
   },
   {
    "duration": 3,
    "start_time": "2021-11-16T11:02:16.685Z"
   },
   {
    "duration": 3,
    "start_time": "2021-11-16T11:02:19.479Z"
   },
   {
    "duration": 3,
    "start_time": "2021-11-16T11:02:47.067Z"
   },
   {
    "duration": 3,
    "start_time": "2021-11-16T11:02:49.353Z"
   },
   {
    "duration": 3,
    "start_time": "2021-11-16T11:03:07.835Z"
   },
   {
    "duration": 3,
    "start_time": "2021-11-16T11:03:07.953Z"
   },
   {
    "duration": 112,
    "start_time": "2021-11-16T11:07:52.072Z"
   },
   {
    "duration": 187,
    "start_time": "2021-11-16T11:09:23.468Z"
   },
   {
    "duration": 4,
    "start_time": "2021-11-16T11:10:01.455Z"
   },
   {
    "duration": 3,
    "start_time": "2021-11-16T11:10:05.069Z"
   },
   {
    "duration": 4,
    "start_time": "2021-11-16T11:10:13.376Z"
   },
   {
    "duration": 3,
    "start_time": "2021-11-16T11:10:14.434Z"
   },
   {
    "duration": 3,
    "start_time": "2021-11-16T11:10:22.853Z"
   },
   {
    "duration": 4,
    "start_time": "2021-11-16T11:27:29.279Z"
   },
   {
    "duration": 4,
    "start_time": "2021-11-16T11:29:08.919Z"
   },
   {
    "duration": 118,
    "start_time": "2021-11-16T11:29:46.703Z"
   },
   {
    "duration": 437,
    "start_time": "2021-11-16T11:36:02.181Z"
   },
   {
    "duration": 157,
    "start_time": "2021-11-16T11:36:14.388Z"
   },
   {
    "duration": 207,
    "start_time": "2021-11-16T11:47:15.898Z"
   },
   {
    "duration": 3,
    "start_time": "2021-11-16T11:53:52.092Z"
   },
   {
    "duration": 3,
    "start_time": "2021-11-16T11:53:52.236Z"
   },
   {
    "duration": 3,
    "start_time": "2021-11-16T11:59:12.005Z"
   },
   {
    "duration": 112,
    "start_time": "2021-11-16T12:00:33.446Z"
   },
   {
    "duration": 3,
    "start_time": "2021-11-16T12:02:14.453Z"
   },
   {
    "duration": 3,
    "start_time": "2021-11-16T12:02:39.512Z"
   },
   {
    "duration": 106,
    "start_time": "2021-11-16T12:03:03.460Z"
   },
   {
    "duration": 3,
    "start_time": "2021-11-17T20:37:21.139Z"
   },
   {
    "duration": 3,
    "start_time": "2021-11-17T20:37:22.229Z"
   },
   {
    "duration": 3,
    "start_time": "2021-11-17T20:38:38.806Z"
   },
   {
    "duration": 3,
    "start_time": "2021-11-17T20:38:41.958Z"
   },
   {
    "duration": 3,
    "start_time": "2021-11-17T20:43:46.551Z"
   },
   {
    "duration": 4,
    "start_time": "2021-11-17T20:58:21.835Z"
   },
   {
    "duration": 3,
    "start_time": "2021-11-17T20:59:21.872Z"
   },
   {
    "duration": 4,
    "start_time": "2021-11-17T20:59:45.352Z"
   },
   {
    "duration": 4,
    "start_time": "2021-11-17T20:59:49.646Z"
   },
   {
    "duration": 159,
    "start_time": "2021-11-17T21:02:26.949Z"
   },
   {
    "duration": 3,
    "start_time": "2021-11-17T21:03:53.461Z"
   },
   {
    "duration": 3,
    "start_time": "2021-11-17T21:03:53.694Z"
   },
   {
    "duration": 3,
    "start_time": "2021-11-17T21:05:28.145Z"
   },
   {
    "duration": 116,
    "start_time": "2021-11-17T21:05:57.787Z"
   },
   {
    "duration": 3,
    "start_time": "2021-11-17T21:06:37.993Z"
   },
   {
    "duration": 3,
    "start_time": "2021-11-17T21:06:38.261Z"
   },
   {
    "duration": 3,
    "start_time": "2021-11-17T21:11:54.358Z"
   },
   {
    "duration": 3,
    "start_time": "2021-11-17T21:12:43.846Z"
   },
   {
    "duration": 4,
    "start_time": "2021-11-17T21:13:08.773Z"
   },
   {
    "duration": 3,
    "start_time": "2021-11-17T21:14:44.441Z"
   },
   {
    "duration": 3,
    "start_time": "2021-11-17T21:15:42.059Z"
   },
   {
    "duration": 4,
    "start_time": "2021-11-17T21:15:51.995Z"
   },
   {
    "duration": 3,
    "start_time": "2021-11-17T21:15:53.923Z"
   },
   {
    "duration": 3,
    "start_time": "2021-11-17T21:15:55.282Z"
   },
   {
    "duration": 3,
    "start_time": "2021-11-17T21:16:28.492Z"
   },
   {
    "duration": 3,
    "start_time": "2021-11-17T21:16:32.603Z"
   },
   {
    "duration": 3,
    "start_time": "2021-11-17T21:17:06.941Z"
   },
   {
    "duration": 98,
    "start_time": "2021-11-17T21:18:05.733Z"
   },
   {
    "duration": 4,
    "start_time": "2021-11-17T21:21:35.255Z"
   },
   {
    "duration": 3,
    "start_time": "2021-11-17T21:21:37.804Z"
   },
   {
    "duration": 4,
    "start_time": "2021-11-17T21:23:06.071Z"
   },
   {
    "duration": 3,
    "start_time": "2021-11-17T21:23:24.799Z"
   },
   {
    "duration": 3,
    "start_time": "2021-11-17T21:23:32.591Z"
   },
   {
    "duration": 98,
    "start_time": "2021-11-17T21:28:31.559Z"
   },
   {
    "duration": 3,
    "start_time": "2021-11-17T21:28:45.448Z"
   },
   {
    "duration": 3,
    "start_time": "2021-11-17T21:29:17.303Z"
   },
   {
    "duration": 3,
    "start_time": "2021-11-17T21:29:29.617Z"
   },
   {
    "duration": 3,
    "start_time": "2021-11-17T21:29:32.681Z"
   },
   {
    "duration": 3,
    "start_time": "2021-11-17T21:36:11.474Z"
   },
   {
    "duration": 3,
    "start_time": "2021-11-17T21:36:14.791Z"
   },
   {
    "duration": 3,
    "start_time": "2021-11-17T21:36:53.943Z"
   },
   {
    "duration": 3,
    "start_time": "2021-11-17T21:36:56.165Z"
   },
   {
    "duration": 4,
    "start_time": "2021-11-17T21:37:16.590Z"
   },
   {
    "duration": 3,
    "start_time": "2021-11-17T21:37:22.702Z"
   },
   {
    "duration": 4,
    "start_time": "2021-11-17T21:38:03.479Z"
   },
   {
    "duration": 3,
    "start_time": "2021-11-17T21:38:08.601Z"
   },
   {
    "duration": 3,
    "start_time": "2021-11-17T21:38:12.928Z"
   },
   {
    "duration": 3,
    "start_time": "2021-11-17T21:38:48.896Z"
   },
   {
    "duration": 2,
    "start_time": "2021-11-17T21:38:49.171Z"
   },
   {
    "duration": 4,
    "start_time": "2021-11-17T21:39:57.889Z"
   },
   {
    "duration": 3,
    "start_time": "2021-11-17T21:39:58.057Z"
   },
   {
    "duration": 3,
    "start_time": "2021-11-17T21:41:20.108Z"
   },
   {
    "duration": 3,
    "start_time": "2021-11-17T21:41:20.629Z"
   },
   {
    "duration": 3,
    "start_time": "2021-11-17T21:42:49.136Z"
   },
   {
    "duration": 3,
    "start_time": "2021-11-17T21:43:15.137Z"
   },
   {
    "duration": 4,
    "start_time": "2021-11-17T21:43:16.766Z"
   },
   {
    "duration": 4,
    "start_time": "2021-11-17T21:43:31.711Z"
   },
   {
    "duration": 3,
    "start_time": "2021-11-17T21:43:36.312Z"
   },
   {
    "duration": 4,
    "start_time": "2021-11-17T21:45:08.825Z"
   },
   {
    "duration": 4,
    "start_time": "2021-11-17T21:45:10.119Z"
   },
   {
    "duration": 4,
    "start_time": "2021-11-17T21:45:13.748Z"
   },
   {
    "duration": 3,
    "start_time": "2021-11-17T21:45:22.219Z"
   },
   {
    "duration": 3,
    "start_time": "2021-11-17T21:45:33.412Z"
   },
   {
    "duration": 2,
    "start_time": "2021-11-17T21:46:01.885Z"
   },
   {
    "duration": 3,
    "start_time": "2021-11-17T21:46:03.628Z"
   },
   {
    "duration": 107,
    "start_time": "2021-11-17T21:47:32.512Z"
   },
   {
    "duration": 103,
    "start_time": "2021-11-17T21:50:36.243Z"
   },
   {
    "duration": 3,
    "start_time": "2021-11-18T06:28:31.440Z"
   },
   {
    "duration": 3,
    "start_time": "2021-11-18T06:29:00.168Z"
   },
   {
    "duration": 3,
    "start_time": "2021-11-18T06:31:27.008Z"
   },
   {
    "duration": 2,
    "start_time": "2021-11-18T06:35:34.288Z"
   },
   {
    "duration": 2,
    "start_time": "2021-11-18T06:38:04.527Z"
   }
  ],
  "kernelspec": {
   "display_name": "Python 3 (ipykernel)",
   "language": "python",
   "name": "python3"
  },
  "language_info": {
   "codemirror_mode": {
    "name": "ipython",
    "version": 3
   },
   "file_extension": ".py",
   "mimetype": "text/x-python",
   "name": "python",
   "nbconvert_exporter": "python",
   "pygments_lexer": "ipython3",
   "version": "3.9.5"
  },
  "toc": {
   "base_numbering": 1,
   "nav_menu": {},
   "number_sections": true,
   "sideBar": true,
   "skip_h1_title": false,
   "title_cell": "Table of Contents",
   "title_sidebar": "Contents",
   "toc_cell": false,
   "toc_position": {
    "height": "calc(100% - 180px)",
    "left": "10px",
    "top": "150px",
    "width": "221.6px"
   },
   "toc_section_display": true,
   "toc_window_display": true
  }
 },
 "nbformat": 4,
 "nbformat_minor": 2
}
