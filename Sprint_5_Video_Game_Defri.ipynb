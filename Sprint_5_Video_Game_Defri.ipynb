{
 "cells": [
  {
   "cell_type": "markdown",
   "metadata": {},
   "source": [
    "# Video Game Apakah yang Potensial untuk di Iklankan?\n",
    "\n",
    "Kita bekerja di toko online \"Ice\" yang menjual video game dari seluruh dunia. Data terkait ulasan pengguna dan ahli game, genre, platform (misalnya, Xbox atau PlayStation), dan data historis penjualan game tersedia dari open source. Kita perlu mengidentifikasi pola-pola yang menentukan apakah suatu game bisa dikatakan berhasil atau tidak. Dengan begitu, kita bisa menemukan game yang paling potensial dan merencanakan kampanye iklannya.\n",
    "\n",
    "Kita memiliki data dari tahun 2016. Asumsikan sekarang adalah bulan Desember tahun 2016 dan kita sedang merencanakan kampanye untuk tahun 2017.\n",
    "\n",
    "Dataset ini juga memuat singkatan ESRB. ESRB merupakan singkatan dari Entertainment Software Rating Board, yaitu sebuah organisasi regulator mandiri yang mengevaluasi konten game dan memberikan rating usia seperti Remaja atau Dewasa."
   ]
  },
  {
   "cell_type": "markdown",
   "metadata": {},
   "source": [
    "Tujuan : \n",
    "   - Menemukan dan merencanakan kampanye iklan untuk tahun 2017 terhadap penjualan video game dari seluruh dunia, berdasarkan:\n",
    "       1. Platform apa yang paling banyak digunakan?\n",
    "       2. Genre video game apa yang populer?\n",
    "       3. Apakah rating pengguna mempengaruhi penjualan di masing-masing wilayah?"
   ]
  },
  {
   "cell_type": "markdown",
   "metadata": {},
   "source": [
    "Kerangka Konsep :\n",
    "   1. Mempersiapkan Data\n",
    "   2. Memperbaiki dan Memperkaya kualitas data\n",
    "   3. Mempelajari parameter data\n",
    "   4. Menganalisis data, berdasarkan periode waktu yang terbaru\n",
    "   5. Menguji Hipotesis Statistik\n",
    "   6. Kesimpulan umum"
   ]
  },
  {
   "cell_type": "markdown",
   "metadata": {},
   "source": [
    "## Deskripsi Data"
   ]
  },
  {
   "cell_type": "markdown",
   "metadata": {},
   "source": [
    "Dataframe memuat:\n",
    "   - `Name` — nama game\n",
    "   - `Platform` — nama platform\n",
    "   - `Year_of_Release` — tahun game awal rilis\n",
    "   - `Genre` — tipe game\n",
    "   - `NA_sales` — penjualan di Amerika Utara dalam satuan juta USD\n",
    "   - `EU_sales` — penjualan di Eropa dalam satuan juta USD\n",
    "   - `JP_sales` — penjualan di Jepang dalam satuan juta USD\n",
    "   - `Other_sales` — penjualan di negara lainnya dalam satuan juta USD\n",
    "   - `Critic_Score` — skor ulasan dari kritikus, maksimal 100\n",
    "   - `User_score` — skor ulasan dari pengguna, maksimal 10\n",
    "   - `Rating` — ESRB"
   ]
  },
  {
   "cell_type": "markdown",
   "metadata": {},
   "source": [
    "## Inisialisasi Library"
   ]
  },
  {
   "cell_type": "markdown",
   "metadata": {},
   "source": [
    "Memuat library dictionary"
   ]
  },
  {
   "cell_type": "code",
   "execution_count": 1,
   "metadata": {},
   "outputs": [],
   "source": [
    "import pandas as pd\n",
    "import numpy as np\n",
    "import matplotlib.pyplot as plt\n",
    "import seaborn as sns"
   ]
  },
  {
   "cell_type": "markdown",
   "metadata": {},
   "source": [
    "## Memuat Data"
   ]
  },
  {
   "cell_type": "markdown",
   "metadata": {},
   "source": [
    "Memuat data"
   ]
  },
  {
   "cell_type": "code",
   "execution_count": 2,
   "metadata": {},
   "outputs": [],
   "source": [
    "try:\n",
    "    df = pd.read_csv('/datasets/games.csv')\n",
    "except:\n",
    "    df = pd.read_csv('games.csv')"
   ]
  },
  {
   "cell_type": "markdown",
   "metadata": {},
   "source": [
    "## Mengenal & Mempersiapkan Data"
   ]
  },
  {
   "cell_type": "markdown",
   "metadata": {},
   "source": [
    "Melihat informasi data serta sample data untuk mencari tahu permasalahan apa saja yang ada pada dataframe"
   ]
  },
  {
   "cell_type": "code",
   "execution_count": 3,
   "metadata": {
    "scrolled": true
   },
   "outputs": [
    {
     "name": "stdout",
     "output_type": "stream",
     "text": [
      "<class 'pandas.core.frame.DataFrame'>\n",
      "RangeIndex: 16715 entries, 0 to 16714\n",
      "Data columns (total 11 columns):\n",
      " #   Column           Non-Null Count  Dtype  \n",
      "---  ------           --------------  -----  \n",
      " 0   Name             16713 non-null  object \n",
      " 1   Platform         16715 non-null  object \n",
      " 2   Year_of_Release  16446 non-null  float64\n",
      " 3   Genre            16713 non-null  object \n",
      " 4   NA_sales         16715 non-null  float64\n",
      " 5   EU_sales         16715 non-null  float64\n",
      " 6   JP_sales         16715 non-null  float64\n",
      " 7   Other_sales      16715 non-null  float64\n",
      " 8   Critic_Score     8137 non-null   float64\n",
      " 9   User_Score       10014 non-null  object \n",
      " 10  Rating           9949 non-null   object \n",
      "dtypes: float64(6), object(5)\n",
      "memory usage: 1.4+ MB\n"
     ]
    }
   ],
   "source": [
    "df.info()"
   ]
  },
  {
   "cell_type": "markdown",
   "metadata": {},
   "source": [
    "Terlihat pada informasi data kita memiliki beberapa masalah, seperti:\n",
    "   - Nilai yang hilang pada kolom Year_of_Release, Name, Genre, Critic_Score, User_Score, dan Rating.\n",
    "   - Tipe data yang tidak sesuai pada kolom Year_of_Release, dan User_Score.\n",
    "   - Penggunaan huruf kapital untuk kolom juga perlu kita ubah menjadi kecil agar mempermudah analisis"
   ]
  },
  {
   "cell_type": "code",
   "execution_count": 4,
   "metadata": {
    "scrolled": false
   },
   "outputs": [
    {
     "data": {
      "text/html": [
       "<div>\n",
       "<style scoped>\n",
       "    .dataframe tbody tr th:only-of-type {\n",
       "        vertical-align: middle;\n",
       "    }\n",
       "\n",
       "    .dataframe tbody tr th {\n",
       "        vertical-align: top;\n",
       "    }\n",
       "\n",
       "    .dataframe thead th {\n",
       "        text-align: right;\n",
       "    }\n",
       "</style>\n",
       "<table border=\"1\" class=\"dataframe\">\n",
       "  <thead>\n",
       "    <tr style=\"text-align: right;\">\n",
       "      <th></th>\n",
       "      <th>Name</th>\n",
       "      <th>Platform</th>\n",
       "      <th>Year_of_Release</th>\n",
       "      <th>Genre</th>\n",
       "      <th>NA_sales</th>\n",
       "      <th>EU_sales</th>\n",
       "      <th>JP_sales</th>\n",
       "      <th>Other_sales</th>\n",
       "      <th>Critic_Score</th>\n",
       "      <th>User_Score</th>\n",
       "      <th>Rating</th>\n",
       "    </tr>\n",
       "  </thead>\n",
       "  <tbody>\n",
       "    <tr>\n",
       "      <th>5854</th>\n",
       "      <td>Batman: Arkham VR</td>\n",
       "      <td>PS4</td>\n",
       "      <td>2016.0</td>\n",
       "      <td>Action</td>\n",
       "      <td>0.25</td>\n",
       "      <td>0.0</td>\n",
       "      <td>0.0</td>\n",
       "      <td>0.06</td>\n",
       "      <td>75.0</td>\n",
       "      <td>7.3</td>\n",
       "      <td>M</td>\n",
       "    </tr>\n",
       "  </tbody>\n",
       "</table>\n",
       "</div>"
      ],
      "text/plain": [
       "                   Name Platform  Year_of_Release   Genre  NA_sales  EU_sales  \\\n",
       "5854  Batman: Arkham VR      PS4           2016.0  Action      0.25       0.0   \n",
       "\n",
       "      JP_sales  Other_sales  Critic_Score User_Score Rating  \n",
       "5854       0.0         0.06          75.0        7.3      M  "
      ]
     },
     "execution_count": 4,
     "metadata": {},
     "output_type": "execute_result"
    }
   ],
   "source": [
    "df.sample()"
   ]
  },
  {
   "cell_type": "code",
   "execution_count": 5,
   "metadata": {
    "scrolled": true
   },
   "outputs": [
    {
     "data": {
      "text/plain": [
       "Index(['Name', 'Platform', 'Year_of_Release', 'Genre', 'NA_sales', 'EU_sales',\n",
       "       'JP_sales', 'Other_sales', 'Critic_Score', 'User_Score', 'Rating'],\n",
       "      dtype='object')"
      ]
     },
     "execution_count": 5,
     "metadata": {},
     "output_type": "execute_result"
    }
   ],
   "source": [
    "df.columns"
   ]
  },
  {
   "cell_type": "code",
   "execution_count": 6,
   "metadata": {},
   "outputs": [
    {
     "data": {
      "text/plain": [
       "Name                object\n",
       "Platform            object\n",
       "Year_of_Release    float64\n",
       "Genre               object\n",
       "NA_sales           float64\n",
       "EU_sales           float64\n",
       "JP_sales           float64\n",
       "Other_sales        float64\n",
       "Critic_Score       float64\n",
       "User_Score          object\n",
       "Rating              object\n",
       "dtype: object"
      ]
     },
     "execution_count": 6,
     "metadata": {},
     "output_type": "execute_result"
    }
   ],
   "source": [
    "df.dtypes"
   ]
  },
  {
   "cell_type": "code",
   "execution_count": 7,
   "metadata": {},
   "outputs": [
    {
     "data": {
      "text/plain": [
       "0"
      ]
     },
     "execution_count": 7,
     "metadata": {},
     "output_type": "execute_result"
    }
   ],
   "source": [
    "df.duplicated().sum()"
   ]
  },
  {
   "cell_type": "markdown",
   "metadata": {},
   "source": [
    "Dataframe tidak memiliki nilai duplikat"
   ]
  },
  {
   "cell_type": "code",
   "execution_count": 8,
   "metadata": {
    "scrolled": true
   },
   "outputs": [
    {
     "data": {
      "text/html": [
       "<div>\n",
       "<style scoped>\n",
       "    .dataframe tbody tr th:only-of-type {\n",
       "        vertical-align: middle;\n",
       "    }\n",
       "\n",
       "    .dataframe tbody tr th {\n",
       "        vertical-align: top;\n",
       "    }\n",
       "\n",
       "    .dataframe thead th {\n",
       "        text-align: right;\n",
       "    }\n",
       "</style>\n",
       "<table border=\"1\" class=\"dataframe\">\n",
       "  <thead>\n",
       "    <tr style=\"text-align: right;\">\n",
       "      <th></th>\n",
       "      <th>missing_values</th>\n",
       "      <th>% of total</th>\n",
       "    </tr>\n",
       "  </thead>\n",
       "  <tbody>\n",
       "    <tr>\n",
       "      <th>Critic_Score</th>\n",
       "      <td>8578</td>\n",
       "      <td>0.51</td>\n",
       "    </tr>\n",
       "    <tr>\n",
       "      <th>Rating</th>\n",
       "      <td>6766</td>\n",
       "      <td>0.40</td>\n",
       "    </tr>\n",
       "    <tr>\n",
       "      <th>User_Score</th>\n",
       "      <td>6701</td>\n",
       "      <td>0.40</td>\n",
       "    </tr>\n",
       "    <tr>\n",
       "      <th>Year_of_Release</th>\n",
       "      <td>269</td>\n",
       "      <td>0.02</td>\n",
       "    </tr>\n",
       "    <tr>\n",
       "      <th>Name</th>\n",
       "      <td>2</td>\n",
       "      <td>0.00</td>\n",
       "    </tr>\n",
       "    <tr>\n",
       "      <th>Genre</th>\n",
       "      <td>2</td>\n",
       "      <td>0.00</td>\n",
       "    </tr>\n",
       "    <tr>\n",
       "      <th>Platform</th>\n",
       "      <td>0</td>\n",
       "      <td>0.00</td>\n",
       "    </tr>\n",
       "    <tr>\n",
       "      <th>NA_sales</th>\n",
       "      <td>0</td>\n",
       "      <td>0.00</td>\n",
       "    </tr>\n",
       "    <tr>\n",
       "      <th>EU_sales</th>\n",
       "      <td>0</td>\n",
       "      <td>0.00</td>\n",
       "    </tr>\n",
       "    <tr>\n",
       "      <th>JP_sales</th>\n",
       "      <td>0</td>\n",
       "      <td>0.00</td>\n",
       "    </tr>\n",
       "    <tr>\n",
       "      <th>Other_sales</th>\n",
       "      <td>0</td>\n",
       "      <td>0.00</td>\n",
       "    </tr>\n",
       "  </tbody>\n",
       "</table>\n",
       "</div>"
      ],
      "text/plain": [
       "                 missing_values  % of total\n",
       "Critic_Score               8578        0.51\n",
       "Rating                     6766        0.40\n",
       "User_Score                 6701        0.40\n",
       "Year_of_Release             269        0.02\n",
       "Name                          2        0.00\n",
       "Genre                         2        0.00\n",
       "Platform                      0        0.00\n",
       "NA_sales                      0        0.00\n",
       "EU_sales                      0        0.00\n",
       "JP_sales                      0        0.00\n",
       "Other_sales                   0        0.00"
      ]
     },
     "execution_count": 8,
     "metadata": {},
     "output_type": "execute_result"
    }
   ],
   "source": [
    "report_null = df.isnull().sum().to_frame()\n",
    "report_null = report_null.rename(columns={0:'missing_values'})\n",
    "report_null['% of total'] = (report_null['missing_values'] / df.shape[0]).round(2)\n",
    "report_null.sort_values(by='missing_values', ascending=False)"
   ]
  },
  {
   "cell_type": "markdown",
   "metadata": {},
   "source": [
    "Pada report_null menunjukkan beberapa kolom memiliki nilai yang hilang. Mengingat nilai yang hilang cukup tinggi pada kolom Critic_Score, Rating, dan User_Score maka kolom tersebut akan kita hiraukan dahulu. Sedangkan pada kolom Years_of_Release akan kita isi nilai yang hilang dengan nilai 0, dan untuk kolom Name, dan Genre akan kita eliminasi mengingat hanya 2 nilai yang hilang dari 16715 baris."
   ]
  },
  {
   "cell_type": "markdown",
   "metadata": {},
   "source": [
    "### Memperbaiki Data"
   ]
  },
  {
   "cell_type": "markdown",
   "metadata": {},
   "source": [
    "Memformat seluruh karakter pada kolom menjadi huruf kecil"
   ]
  },
  {
   "cell_type": "code",
   "execution_count": 9,
   "metadata": {},
   "outputs": [],
   "source": [
    "df.columns = [i.lower() for i in list(df)]"
   ]
  },
  {
   "cell_type": "markdown",
   "metadata": {},
   "source": [
    "Mengisi nilai yang hilang pada kolom year_of_release dengan nilai 0, serta mengeliminasi baris yang null pada kolom name dan genre."
   ]
  },
  {
   "cell_type": "code",
   "execution_count": 10,
   "metadata": {},
   "outputs": [],
   "source": [
    "df['year_of_release'] = df['year_of_release'].fillna(0)"
   ]
  },
  {
   "cell_type": "code",
   "execution_count": 11,
   "metadata": {},
   "outputs": [],
   "source": [
    "df = df.dropna(subset=['name', 'genre'])"
   ]
  },
  {
   "cell_type": "code",
   "execution_count": 12,
   "metadata": {
    "scrolled": true
   },
   "outputs": [
    {
     "data": {
      "text/html": [
       "<div>\n",
       "<style scoped>\n",
       "    .dataframe tbody tr th:only-of-type {\n",
       "        vertical-align: middle;\n",
       "    }\n",
       "\n",
       "    .dataframe tbody tr th {\n",
       "        vertical-align: top;\n",
       "    }\n",
       "\n",
       "    .dataframe thead th {\n",
       "        text-align: right;\n",
       "    }\n",
       "</style>\n",
       "<table border=\"1\" class=\"dataframe\">\n",
       "  <thead>\n",
       "    <tr style=\"text-align: right;\">\n",
       "      <th></th>\n",
       "      <th>missing_values</th>\n",
       "      <th>% of total</th>\n",
       "    </tr>\n",
       "  </thead>\n",
       "  <tbody>\n",
       "    <tr>\n",
       "      <th>critic_score</th>\n",
       "      <td>8576</td>\n",
       "      <td>0.51</td>\n",
       "    </tr>\n",
       "    <tr>\n",
       "      <th>rating</th>\n",
       "      <td>6764</td>\n",
       "      <td>0.40</td>\n",
       "    </tr>\n",
       "    <tr>\n",
       "      <th>user_score</th>\n",
       "      <td>6699</td>\n",
       "      <td>0.40</td>\n",
       "    </tr>\n",
       "    <tr>\n",
       "      <th>name</th>\n",
       "      <td>0</td>\n",
       "      <td>0.00</td>\n",
       "    </tr>\n",
       "    <tr>\n",
       "      <th>platform</th>\n",
       "      <td>0</td>\n",
       "      <td>0.00</td>\n",
       "    </tr>\n",
       "    <tr>\n",
       "      <th>year_of_release</th>\n",
       "      <td>0</td>\n",
       "      <td>0.00</td>\n",
       "    </tr>\n",
       "    <tr>\n",
       "      <th>genre</th>\n",
       "      <td>0</td>\n",
       "      <td>0.00</td>\n",
       "    </tr>\n",
       "    <tr>\n",
       "      <th>na_sales</th>\n",
       "      <td>0</td>\n",
       "      <td>0.00</td>\n",
       "    </tr>\n",
       "    <tr>\n",
       "      <th>eu_sales</th>\n",
       "      <td>0</td>\n",
       "      <td>0.00</td>\n",
       "    </tr>\n",
       "    <tr>\n",
       "      <th>jp_sales</th>\n",
       "      <td>0</td>\n",
       "      <td>0.00</td>\n",
       "    </tr>\n",
       "    <tr>\n",
       "      <th>other_sales</th>\n",
       "      <td>0</td>\n",
       "      <td>0.00</td>\n",
       "    </tr>\n",
       "  </tbody>\n",
       "</table>\n",
       "</div>"
      ],
      "text/plain": [
       "                 missing_values  % of total\n",
       "critic_score               8576        0.51\n",
       "rating                     6764        0.40\n",
       "user_score                 6699        0.40\n",
       "name                          0        0.00\n",
       "platform                      0        0.00\n",
       "year_of_release               0        0.00\n",
       "genre                         0        0.00\n",
       "na_sales                      0        0.00\n",
       "eu_sales                      0        0.00\n",
       "jp_sales                      0        0.00\n",
       "other_sales                   0        0.00"
      ]
     },
     "execution_count": 12,
     "metadata": {},
     "output_type": "execute_result"
    }
   ],
   "source": [
    "report = df.isnull().sum().to_frame()\n",
    "report = report.rename(columns={0:'missing_values'})\n",
    "report['% of total'] = (report['missing_values'] / df.shape[0]).round(2)\n",
    "report.sort_values(by='missing_values', ascending=False)"
   ]
  },
  {
   "cell_type": "markdown",
   "metadata": {},
   "source": [
    "Mengganti nilai 'tbd' pada kolom user_score menjadi NaN menggunakan numpy"
   ]
  },
  {
   "cell_type": "code",
   "execution_count": 13,
   "metadata": {},
   "outputs": [
    {
     "data": {
      "text/html": [
       "<div>\n",
       "<style scoped>\n",
       "    .dataframe tbody tr th:only-of-type {\n",
       "        vertical-align: middle;\n",
       "    }\n",
       "\n",
       "    .dataframe tbody tr th {\n",
       "        vertical-align: top;\n",
       "    }\n",
       "\n",
       "    .dataframe thead th {\n",
       "        text-align: right;\n",
       "    }\n",
       "</style>\n",
       "<table border=\"1\" class=\"dataframe\">\n",
       "  <thead>\n",
       "    <tr style=\"text-align: right;\">\n",
       "      <th></th>\n",
       "      <th>name</th>\n",
       "      <th>platform</th>\n",
       "      <th>genre</th>\n",
       "      <th>user_score</th>\n",
       "      <th>rating</th>\n",
       "    </tr>\n",
       "  </thead>\n",
       "  <tbody>\n",
       "    <tr>\n",
       "      <th>0</th>\n",
       "      <td>Wii Sports</td>\n",
       "      <td>Wii</td>\n",
       "      <td>Sports</td>\n",
       "      <td>8</td>\n",
       "      <td>E</td>\n",
       "    </tr>\n",
       "    <tr>\n",
       "      <th>1</th>\n",
       "      <td>Super Mario Bros.</td>\n",
       "      <td>NES</td>\n",
       "      <td>Platform</td>\n",
       "      <td>NaN</td>\n",
       "      <td>NaN</td>\n",
       "    </tr>\n",
       "    <tr>\n",
       "      <th>2</th>\n",
       "      <td>Mario Kart Wii</td>\n",
       "      <td>Wii</td>\n",
       "      <td>Racing</td>\n",
       "      <td>8.3</td>\n",
       "      <td>E</td>\n",
       "    </tr>\n",
       "    <tr>\n",
       "      <th>3</th>\n",
       "      <td>Wii Sports Resort</td>\n",
       "      <td>Wii</td>\n",
       "      <td>Sports</td>\n",
       "      <td>8</td>\n",
       "      <td>E</td>\n",
       "    </tr>\n",
       "    <tr>\n",
       "      <th>4</th>\n",
       "      <td>Pokemon Red/Pokemon Blue</td>\n",
       "      <td>GB</td>\n",
       "      <td>Role-Playing</td>\n",
       "      <td>NaN</td>\n",
       "      <td>NaN</td>\n",
       "    </tr>\n",
       "    <tr>\n",
       "      <th>...</th>\n",
       "      <td>...</td>\n",
       "      <td>...</td>\n",
       "      <td>...</td>\n",
       "      <td>...</td>\n",
       "      <td>...</td>\n",
       "    </tr>\n",
       "    <tr>\n",
       "      <th>16710</th>\n",
       "      <td>Samurai Warriors: Sanada Maru</td>\n",
       "      <td>PS3</td>\n",
       "      <td>Action</td>\n",
       "      <td>NaN</td>\n",
       "      <td>NaN</td>\n",
       "    </tr>\n",
       "    <tr>\n",
       "      <th>16711</th>\n",
       "      <td>LMA Manager 2007</td>\n",
       "      <td>X360</td>\n",
       "      <td>Sports</td>\n",
       "      <td>NaN</td>\n",
       "      <td>NaN</td>\n",
       "    </tr>\n",
       "    <tr>\n",
       "      <th>16712</th>\n",
       "      <td>Haitaka no Psychedelica</td>\n",
       "      <td>PSV</td>\n",
       "      <td>Adventure</td>\n",
       "      <td>NaN</td>\n",
       "      <td>NaN</td>\n",
       "    </tr>\n",
       "    <tr>\n",
       "      <th>16713</th>\n",
       "      <td>Spirits &amp; Spells</td>\n",
       "      <td>GBA</td>\n",
       "      <td>Platform</td>\n",
       "      <td>NaN</td>\n",
       "      <td>NaN</td>\n",
       "    </tr>\n",
       "    <tr>\n",
       "      <th>16714</th>\n",
       "      <td>Winning Post 8 2016</td>\n",
       "      <td>PSV</td>\n",
       "      <td>Simulation</td>\n",
       "      <td>NaN</td>\n",
       "      <td>NaN</td>\n",
       "    </tr>\n",
       "  </tbody>\n",
       "</table>\n",
       "<p>16713 rows × 5 columns</p>\n",
       "</div>"
      ],
      "text/plain": [
       "                                name platform         genre user_score rating\n",
       "0                         Wii Sports      Wii        Sports          8      E\n",
       "1                  Super Mario Bros.      NES      Platform        NaN    NaN\n",
       "2                     Mario Kart Wii      Wii        Racing        8.3      E\n",
       "3                  Wii Sports Resort      Wii        Sports          8      E\n",
       "4           Pokemon Red/Pokemon Blue       GB  Role-Playing        NaN    NaN\n",
       "...                              ...      ...           ...        ...    ...\n",
       "16710  Samurai Warriors: Sanada Maru      PS3        Action        NaN    NaN\n",
       "16711               LMA Manager 2007     X360        Sports        NaN    NaN\n",
       "16712        Haitaka no Psychedelica      PSV     Adventure        NaN    NaN\n",
       "16713               Spirits & Spells      GBA      Platform        NaN    NaN\n",
       "16714            Winning Post 8 2016      PSV    Simulation        NaN    NaN\n",
       "\n",
       "[16713 rows x 5 columns]"
      ]
     },
     "execution_count": 13,
     "metadata": {},
     "output_type": "execute_result"
    }
   ],
   "source": [
    "df.select_dtypes(include='object')"
   ]
  },
  {
   "cell_type": "code",
   "execution_count": 14,
   "metadata": {},
   "outputs": [],
   "source": [
    "df.loc[df['user_score'] == 'tbd', 'user_score'] = np.nan"
   ]
  },
  {
   "cell_type": "markdown",
   "metadata": {},
   "source": [
    "Mengubah tipe data pada kolom year_of_release menjadi int, dan kolom user_score menjadi float."
   ]
  },
  {
   "cell_type": "code",
   "execution_count": 15,
   "metadata": {},
   "outputs": [],
   "source": [
    "df['user_score'] = df['user_score'].astype('float')"
   ]
  },
  {
   "cell_type": "code",
   "execution_count": 16,
   "metadata": {},
   "outputs": [],
   "source": [
    "df['year_of_release'] = df['year_of_release'].astype('int')"
   ]
  },
  {
   "cell_type": "markdown",
   "metadata": {},
   "source": [
    "### Memperkaya Kualitas Data"
   ]
  },
  {
   "cell_type": "markdown",
   "metadata": {},
   "source": [
    "Menambahkan kolom baru total_sales untuk total penjualan dari semua sumber sales (na_sales, eu_sales, jp_sales dan other_sales). Menggunakan for loop untuk list kolom sales yang kemudian dijumlahkan dengan cara sum dengan argumen tambahan axis untuk penjumlahan pada baris. "
   ]
  },
  {
   "cell_type": "code",
   "execution_count": 17,
   "metadata": {},
   "outputs": [],
   "source": [
    "df['total_sales'] = df[[i for i in list(df) if 'sales' in i]].sum(axis=1)"
   ]
  },
  {
   "cell_type": "code",
   "execution_count": 18,
   "metadata": {},
   "outputs": [
    {
     "data": {
      "text/html": [
       "<div>\n",
       "<style scoped>\n",
       "    .dataframe tbody tr th:only-of-type {\n",
       "        vertical-align: middle;\n",
       "    }\n",
       "\n",
       "    .dataframe tbody tr th {\n",
       "        vertical-align: top;\n",
       "    }\n",
       "\n",
       "    .dataframe thead th {\n",
       "        text-align: right;\n",
       "    }\n",
       "</style>\n",
       "<table border=\"1\" class=\"dataframe\">\n",
       "  <thead>\n",
       "    <tr style=\"text-align: right;\">\n",
       "      <th></th>\n",
       "      <th>name</th>\n",
       "      <th>platform</th>\n",
       "      <th>year_of_release</th>\n",
       "      <th>genre</th>\n",
       "      <th>na_sales</th>\n",
       "      <th>eu_sales</th>\n",
       "      <th>jp_sales</th>\n",
       "      <th>other_sales</th>\n",
       "      <th>critic_score</th>\n",
       "      <th>user_score</th>\n",
       "      <th>rating</th>\n",
       "      <th>total_sales</th>\n",
       "    </tr>\n",
       "  </thead>\n",
       "  <tbody>\n",
       "    <tr>\n",
       "      <th>0</th>\n",
       "      <td>Wii Sports</td>\n",
       "      <td>Wii</td>\n",
       "      <td>2006</td>\n",
       "      <td>Sports</td>\n",
       "      <td>41.36</td>\n",
       "      <td>28.96</td>\n",
       "      <td>3.77</td>\n",
       "      <td>8.45</td>\n",
       "      <td>76.0</td>\n",
       "      <td>8.0</td>\n",
       "      <td>E</td>\n",
       "      <td>82.54</td>\n",
       "    </tr>\n",
       "    <tr>\n",
       "      <th>1</th>\n",
       "      <td>Super Mario Bros.</td>\n",
       "      <td>NES</td>\n",
       "      <td>1985</td>\n",
       "      <td>Platform</td>\n",
       "      <td>29.08</td>\n",
       "      <td>3.58</td>\n",
       "      <td>6.81</td>\n",
       "      <td>0.77</td>\n",
       "      <td>NaN</td>\n",
       "      <td>NaN</td>\n",
       "      <td>NaN</td>\n",
       "      <td>40.24</td>\n",
       "    </tr>\n",
       "    <tr>\n",
       "      <th>2</th>\n",
       "      <td>Mario Kart Wii</td>\n",
       "      <td>Wii</td>\n",
       "      <td>2008</td>\n",
       "      <td>Racing</td>\n",
       "      <td>15.68</td>\n",
       "      <td>12.76</td>\n",
       "      <td>3.79</td>\n",
       "      <td>3.29</td>\n",
       "      <td>82.0</td>\n",
       "      <td>8.3</td>\n",
       "      <td>E</td>\n",
       "      <td>35.52</td>\n",
       "    </tr>\n",
       "    <tr>\n",
       "      <th>3</th>\n",
       "      <td>Wii Sports Resort</td>\n",
       "      <td>Wii</td>\n",
       "      <td>2009</td>\n",
       "      <td>Sports</td>\n",
       "      <td>15.61</td>\n",
       "      <td>10.93</td>\n",
       "      <td>3.28</td>\n",
       "      <td>2.95</td>\n",
       "      <td>80.0</td>\n",
       "      <td>8.0</td>\n",
       "      <td>E</td>\n",
       "      <td>32.77</td>\n",
       "    </tr>\n",
       "    <tr>\n",
       "      <th>4</th>\n",
       "      <td>Pokemon Red/Pokemon Blue</td>\n",
       "      <td>GB</td>\n",
       "      <td>1996</td>\n",
       "      <td>Role-Playing</td>\n",
       "      <td>11.27</td>\n",
       "      <td>8.89</td>\n",
       "      <td>10.22</td>\n",
       "      <td>1.00</td>\n",
       "      <td>NaN</td>\n",
       "      <td>NaN</td>\n",
       "      <td>NaN</td>\n",
       "      <td>31.38</td>\n",
       "    </tr>\n",
       "  </tbody>\n",
       "</table>\n",
       "</div>"
      ],
      "text/plain": [
       "                       name platform  year_of_release         genre  na_sales  \\\n",
       "0                Wii Sports      Wii             2006        Sports     41.36   \n",
       "1         Super Mario Bros.      NES             1985      Platform     29.08   \n",
       "2            Mario Kart Wii      Wii             2008        Racing     15.68   \n",
       "3         Wii Sports Resort      Wii             2009        Sports     15.61   \n",
       "4  Pokemon Red/Pokemon Blue       GB             1996  Role-Playing     11.27   \n",
       "\n",
       "   eu_sales  jp_sales  other_sales  critic_score  user_score rating  \\\n",
       "0     28.96      3.77         8.45          76.0         8.0      E   \n",
       "1      3.58      6.81         0.77           NaN         NaN    NaN   \n",
       "2     12.76      3.79         3.29          82.0         8.3      E   \n",
       "3     10.93      3.28         2.95          80.0         8.0      E   \n",
       "4      8.89     10.22         1.00           NaN         NaN    NaN   \n",
       "\n",
       "   total_sales  \n",
       "0        82.54  \n",
       "1        40.24  \n",
       "2        35.52  \n",
       "3        32.77  \n",
       "4        31.38  "
      ]
     },
     "execution_count": 18,
     "metadata": {},
     "output_type": "execute_result"
    }
   ],
   "source": [
    "df.head()"
   ]
  },
  {
   "cell_type": "markdown",
   "metadata": {},
   "source": [
    "## Mempelajari Parameter Data"
   ]
  },
  {
   "cell_type": "markdown",
   "metadata": {},
   "source": [
    "### Game Rilis Terbanyak"
   ]
  },
  {
   "cell_type": "markdown",
   "metadata": {},
   "source": [
    "Mencari tahu berapa banyak video game yang dirilis per tahunnya dengan cara kita hitung untuk kolom name yang di agregasikan dengan kolom year_of_release."
   ]
  },
  {
   "cell_type": "code",
   "execution_count": 19,
   "metadata": {
    "scrolled": true
   },
   "outputs": [
    {
     "data": {
      "text/html": [
       "<div>\n",
       "<style scoped>\n",
       "    .dataframe tbody tr th:only-of-type {\n",
       "        vertical-align: middle;\n",
       "    }\n",
       "\n",
       "    .dataframe tbody tr th {\n",
       "        vertical-align: top;\n",
       "    }\n",
       "\n",
       "    .dataframe thead th {\n",
       "        text-align: right;\n",
       "    }\n",
       "</style>\n",
       "<table border=\"1\" class=\"dataframe\">\n",
       "  <thead>\n",
       "    <tr style=\"text-align: right;\">\n",
       "      <th></th>\n",
       "      <th>year_of_release</th>\n",
       "      <th>name</th>\n",
       "    </tr>\n",
       "  </thead>\n",
       "  <tbody>\n",
       "    <tr>\n",
       "      <th>28</th>\n",
       "      <td>2007</td>\n",
       "      <td>1197</td>\n",
       "    </tr>\n",
       "    <tr>\n",
       "      <th>29</th>\n",
       "      <td>2008</td>\n",
       "      <td>1427</td>\n",
       "    </tr>\n",
       "    <tr>\n",
       "      <th>30</th>\n",
       "      <td>2009</td>\n",
       "      <td>1426</td>\n",
       "    </tr>\n",
       "    <tr>\n",
       "      <th>31</th>\n",
       "      <td>2010</td>\n",
       "      <td>1255</td>\n",
       "    </tr>\n",
       "    <tr>\n",
       "      <th>32</th>\n",
       "      <td>2011</td>\n",
       "      <td>1136</td>\n",
       "    </tr>\n",
       "    <tr>\n",
       "      <th>33</th>\n",
       "      <td>2012</td>\n",
       "      <td>653</td>\n",
       "    </tr>\n",
       "    <tr>\n",
       "      <th>34</th>\n",
       "      <td>2013</td>\n",
       "      <td>544</td>\n",
       "    </tr>\n",
       "    <tr>\n",
       "      <th>35</th>\n",
       "      <td>2014</td>\n",
       "      <td>581</td>\n",
       "    </tr>\n",
       "    <tr>\n",
       "      <th>36</th>\n",
       "      <td>2015</td>\n",
       "      <td>606</td>\n",
       "    </tr>\n",
       "    <tr>\n",
       "      <th>37</th>\n",
       "      <td>2016</td>\n",
       "      <td>502</td>\n",
       "    </tr>\n",
       "  </tbody>\n",
       "</table>\n",
       "</div>"
      ],
      "text/plain": [
       "    year_of_release  name\n",
       "28             2007  1197\n",
       "29             2008  1427\n",
       "30             2009  1426\n",
       "31             2010  1255\n",
       "32             2011  1136\n",
       "33             2012   653\n",
       "34             2013   544\n",
       "35             2014   581\n",
       "36             2015   606\n",
       "37             2016   502"
      ]
     },
     "execution_count": 19,
     "metadata": {},
     "output_type": "execute_result"
    }
   ],
   "source": [
    "year_game = df.pivot_table(index='year_of_release', values='name', aggfunc='count').reset_index()\n",
    "year_game.tail(10)"
   ]
  },
  {
   "cell_type": "code",
   "execution_count": 20,
   "metadata": {
    "scrolled": false
   },
   "outputs": [
    {
     "data": {
      "text/plain": [
       "<AxesSubplot:title={'center':'Rata-rata Game di Rilis per Tahun'}, xlabel='year_of_release'>"
      ]
     },
     "execution_count": 20,
     "metadata": {},
     "output_type": "execute_result"
    },
    {
     "data": {
      "image/png": "[encoded data removed]",
      "text/plain": [
       "<Figure size 720x360 with 1 Axes>"
      ]
     },
     "metadata": {
      "needs_background": "light"
     },
     "output_type": "display_data"
    }
   ],
   "source": [
    "year_game.plot(x='year_of_release', kind='bar', title='Rata-rata Game di Rilis per Tahun', figsize=(10,5))"
   ]
  },
  {
   "cell_type": "markdown",
   "metadata": {},
   "source": [
    "Terlihat pada grafik batang menunjukkan bahwa game yang paling banyak dirilis yaitu pada tahun 2007 - 2011, dengan tahun 2008 dan 2009 yang memiliki perilisan game paling banyak lebih dari 1400 game per tahunnya. Akan tetapi terjadi penurunan yang signifikan pada tahun 2012. Ada kemungkinan penurunan di karenakan oleh penjualan atau rating dari game sebelumnya yang dirilis sehingga para developer mulai mengevaluasi untuk game lebih baik lagi di tahun berikutnya."
   ]
  },
  {
   "cell_type": "markdown",
   "metadata": {},
   "source": [
    "### Game Sales Terbanyak"
   ]
  },
  {
   "cell_type": "markdown",
   "metadata": {},
   "source": [
    "Sekarang kita akan mencari tahu penjualan game berdasarkan platform yang di gunakan, pertama kita agregasikan kolom platform dengan kolom total_sales menggunakan pivot_table."
   ]
  },
  {
   "cell_type": "code",
   "execution_count": 21,
   "metadata": {},
   "outputs": [
    {
     "data": {
      "text/html": [
       "<div>\n",
       "<style scoped>\n",
       "    .dataframe tbody tr th:only-of-type {\n",
       "        vertical-align: middle;\n",
       "    }\n",
       "\n",
       "    .dataframe tbody tr th {\n",
       "        vertical-align: top;\n",
       "    }\n",
       "\n",
       "    .dataframe thead th {\n",
       "        text-align: right;\n",
       "    }\n",
       "</style>\n",
       "<table border=\"1\" class=\"dataframe\">\n",
       "  <thead>\n",
       "    <tr style=\"text-align: right;\">\n",
       "      <th></th>\n",
       "      <th>platform</th>\n",
       "      <th>total_sales</th>\n",
       "    </tr>\n",
       "  </thead>\n",
       "  <tbody>\n",
       "    <tr>\n",
       "      <th>0</th>\n",
       "      <td>PS2</td>\n",
       "      <td>1255.77</td>\n",
       "    </tr>\n",
       "    <tr>\n",
       "      <th>1</th>\n",
       "      <td>X360</td>\n",
       "      <td>971.42</td>\n",
       "    </tr>\n",
       "    <tr>\n",
       "      <th>2</th>\n",
       "      <td>PS3</td>\n",
       "      <td>939.65</td>\n",
       "    </tr>\n",
       "    <tr>\n",
       "      <th>3</th>\n",
       "      <td>Wii</td>\n",
       "      <td>907.51</td>\n",
       "    </tr>\n",
       "    <tr>\n",
       "      <th>4</th>\n",
       "      <td>DS</td>\n",
       "      <td>806.12</td>\n",
       "    </tr>\n",
       "  </tbody>\n",
       "</table>\n",
       "</div>"
      ],
      "text/plain": [
       "  platform  total_sales\n",
       "0      PS2      1255.77\n",
       "1     X360       971.42\n",
       "2      PS3       939.65\n",
       "3      Wii       907.51\n",
       "4       DS       806.12"
      ]
     },
     "execution_count": 21,
     "metadata": {},
     "output_type": "execute_result"
    }
   ],
   "source": [
    "platform_sales = df.pivot_table(index='platform', values='total_sales', aggfunc='sum')\n",
    "platform_sales = platform_sales.sort_values(by='total_sales', ascending=False).reset_index()\n",
    "platform_sales.head()"
   ]
  },
  {
   "cell_type": "code",
   "execution_count": 22,
   "metadata": {
    "scrolled": false
   },
   "outputs": [
    {
     "data": {
      "text/plain": [
       "<AxesSubplot:title={'center':'Data Penjualan Berdasarkan Platform'}, xlabel='platform'>"
      ]
     },
     "execution_count": 22,
     "metadata": {},
     "output_type": "execute_result"
    },
    {
     "data": {
      "image/png": "[encoded data removed]",
      "text/plain": [
       "<Figure size 720x360 with 1 Axes>"
      ]
     },
     "metadata": {
      "needs_background": "light"
     },
     "output_type": "display_data"
    }
   ],
   "source": [
    "platform_sales.sort_values(by='total_sales', ascending=False).plot(x='platform', kind='bar', title='Data Penjualan Berdasarkan Platform', figsize=(10,5))"
   ]
  },
  {
   "cell_type": "markdown",
   "metadata": {},
   "source": [
    "Terlihat pada grafik untuk platform 'PS 2' memiliki penjualan paling banyak hingga lebih dari 1200 dolar, kemudian ada Xbox 360, PS 3, dan lainnya. Mengingat data yang kita miliki merupakan data dari tahun 90 hingga tahun 2016, kita hanya memiliki sedikit informasi apakah data tersebut relevan dengan tahun saat ini. Bisa jadi untuk tahun sekarang Xbox One yang memiliki penjualan paling banyak."
   ]
  },
  {
   "cell_type": "code",
   "execution_count": 23,
   "metadata": {
    "scrolled": true
   },
   "outputs": [
    {
     "data": {
      "text/html": [
       "<div>\n",
       "<style scoped>\n",
       "    .dataframe tbody tr th:only-of-type {\n",
       "        vertical-align: middle;\n",
       "    }\n",
       "\n",
       "    .dataframe tbody tr th {\n",
       "        vertical-align: top;\n",
       "    }\n",
       "\n",
       "    .dataframe thead th {\n",
       "        text-align: right;\n",
       "    }\n",
       "</style>\n",
       "<table border=\"1\" class=\"dataframe\">\n",
       "  <thead>\n",
       "    <tr style=\"text-align: right;\">\n",
       "      <th>platform</th>\n",
       "      <th>2600</th>\n",
       "      <th>3DO</th>\n",
       "      <th>3DS</th>\n",
       "      <th>DC</th>\n",
       "      <th>DS</th>\n",
       "      <th>GB</th>\n",
       "      <th>GBA</th>\n",
       "      <th>GC</th>\n",
       "      <th>GEN</th>\n",
       "      <th>GG</th>\n",
       "      <th>...</th>\n",
       "      <th>SAT</th>\n",
       "      <th>SCD</th>\n",
       "      <th>SNES</th>\n",
       "      <th>TG16</th>\n",
       "      <th>WS</th>\n",
       "      <th>Wii</th>\n",
       "      <th>WiiU</th>\n",
       "      <th>X360</th>\n",
       "      <th>XB</th>\n",
       "      <th>XOne</th>\n",
       "    </tr>\n",
       "    <tr>\n",
       "      <th>year_of_release</th>\n",
       "      <th></th>\n",
       "      <th></th>\n",
       "      <th></th>\n",
       "      <th></th>\n",
       "      <th></th>\n",
       "      <th></th>\n",
       "      <th></th>\n",
       "      <th></th>\n",
       "      <th></th>\n",
       "      <th></th>\n",
       "      <th></th>\n",
       "      <th></th>\n",
       "      <th></th>\n",
       "      <th></th>\n",
       "      <th></th>\n",
       "      <th></th>\n",
       "      <th></th>\n",
       "      <th></th>\n",
       "      <th></th>\n",
       "      <th></th>\n",
       "      <th></th>\n",
       "    </tr>\n",
       "  </thead>\n",
       "  <tbody>\n",
       "    <tr>\n",
       "      <th>2012</th>\n",
       "      <td>0.0</td>\n",
       "      <td>0.0</td>\n",
       "      <td>51.36</td>\n",
       "      <td>0.0</td>\n",
       "      <td>11.01</td>\n",
       "      <td>0.0</td>\n",
       "      <td>0.0</td>\n",
       "      <td>0.0</td>\n",
       "      <td>0.0</td>\n",
       "      <td>0.0</td>\n",
       "      <td>...</td>\n",
       "      <td>0.0</td>\n",
       "      <td>0.0</td>\n",
       "      <td>0.0</td>\n",
       "      <td>0.0</td>\n",
       "      <td>0.0</td>\n",
       "      <td>21.71</td>\n",
       "      <td>17.56</td>\n",
       "      <td>99.74</td>\n",
       "      <td>0.0</td>\n",
       "      <td>0.00</td>\n",
       "    </tr>\n",
       "    <tr>\n",
       "      <th>2013</th>\n",
       "      <td>0.0</td>\n",
       "      <td>0.0</td>\n",
       "      <td>56.57</td>\n",
       "      <td>0.0</td>\n",
       "      <td>1.54</td>\n",
       "      <td>0.0</td>\n",
       "      <td>0.0</td>\n",
       "      <td>0.0</td>\n",
       "      <td>0.0</td>\n",
       "      <td>0.0</td>\n",
       "      <td>...</td>\n",
       "      <td>0.0</td>\n",
       "      <td>0.0</td>\n",
       "      <td>0.0</td>\n",
       "      <td>0.0</td>\n",
       "      <td>0.0</td>\n",
       "      <td>8.59</td>\n",
       "      <td>21.65</td>\n",
       "      <td>88.58</td>\n",
       "      <td>0.0</td>\n",
       "      <td>18.96</td>\n",
       "    </tr>\n",
       "    <tr>\n",
       "      <th>2014</th>\n",
       "      <td>0.0</td>\n",
       "      <td>0.0</td>\n",
       "      <td>43.76</td>\n",
       "      <td>0.0</td>\n",
       "      <td>0.00</td>\n",
       "      <td>0.0</td>\n",
       "      <td>0.0</td>\n",
       "      <td>0.0</td>\n",
       "      <td>0.0</td>\n",
       "      <td>0.0</td>\n",
       "      <td>...</td>\n",
       "      <td>0.0</td>\n",
       "      <td>0.0</td>\n",
       "      <td>0.0</td>\n",
       "      <td>0.0</td>\n",
       "      <td>0.0</td>\n",
       "      <td>3.75</td>\n",
       "      <td>22.03</td>\n",
       "      <td>34.74</td>\n",
       "      <td>0.0</td>\n",
       "      <td>54.07</td>\n",
       "    </tr>\n",
       "    <tr>\n",
       "      <th>2015</th>\n",
       "      <td>0.0</td>\n",
       "      <td>0.0</td>\n",
       "      <td>27.78</td>\n",
       "      <td>0.0</td>\n",
       "      <td>0.00</td>\n",
       "      <td>0.0</td>\n",
       "      <td>0.0</td>\n",
       "      <td>0.0</td>\n",
       "      <td>0.0</td>\n",
       "      <td>0.0</td>\n",
       "      <td>...</td>\n",
       "      <td>0.0</td>\n",
       "      <td>0.0</td>\n",
       "      <td>0.0</td>\n",
       "      <td>0.0</td>\n",
       "      <td>0.0</td>\n",
       "      <td>1.14</td>\n",
       "      <td>16.35</td>\n",
       "      <td>11.96</td>\n",
       "      <td>0.0</td>\n",
       "      <td>60.14</td>\n",
       "    </tr>\n",
       "    <tr>\n",
       "      <th>2016</th>\n",
       "      <td>0.0</td>\n",
       "      <td>0.0</td>\n",
       "      <td>15.14</td>\n",
       "      <td>0.0</td>\n",
       "      <td>0.00</td>\n",
       "      <td>0.0</td>\n",
       "      <td>0.0</td>\n",
       "      <td>0.0</td>\n",
       "      <td>0.0</td>\n",
       "      <td>0.0</td>\n",
       "      <td>...</td>\n",
       "      <td>0.0</td>\n",
       "      <td>0.0</td>\n",
       "      <td>0.0</td>\n",
       "      <td>0.0</td>\n",
       "      <td>0.0</td>\n",
       "      <td>0.18</td>\n",
       "      <td>4.60</td>\n",
       "      <td>1.52</td>\n",
       "      <td>0.0</td>\n",
       "      <td>26.15</td>\n",
       "    </tr>\n",
       "  </tbody>\n",
       "</table>\n",
       "<p>5 rows × 31 columns</p>\n",
       "</div>"
      ],
      "text/plain": [
       "platform         2600  3DO    3DS   DC     DS   GB  GBA   GC  GEN   GG  ...  \\\n",
       "year_of_release                                                         ...   \n",
       "2012              0.0  0.0  51.36  0.0  11.01  0.0  0.0  0.0  0.0  0.0  ...   \n",
       "2013              0.0  0.0  56.57  0.0   1.54  0.0  0.0  0.0  0.0  0.0  ...   \n",
       "2014              0.0  0.0  43.76  0.0   0.00  0.0  0.0  0.0  0.0  0.0  ...   \n",
       "2015              0.0  0.0  27.78  0.0   0.00  0.0  0.0  0.0  0.0  0.0  ...   \n",
       "2016              0.0  0.0  15.14  0.0   0.00  0.0  0.0  0.0  0.0  0.0  ...   \n",
       "\n",
       "platform         SAT  SCD  SNES  TG16   WS    Wii   WiiU   X360   XB   XOne  \n",
       "year_of_release                                                              \n",
       "2012             0.0  0.0   0.0   0.0  0.0  21.71  17.56  99.74  0.0   0.00  \n",
       "2013             0.0  0.0   0.0   0.0  0.0   8.59  21.65  88.58  0.0  18.96  \n",
       "2014             0.0  0.0   0.0   0.0  0.0   3.75  22.03  34.74  0.0  54.07  \n",
       "2015             0.0  0.0   0.0   0.0  0.0   1.14  16.35  11.96  0.0  60.14  \n",
       "2016             0.0  0.0   0.0   0.0  0.0   0.18   4.60   1.52  0.0  26.15  \n",
       "\n",
       "[5 rows x 31 columns]"
      ]
     },
     "execution_count": 23,
     "metadata": {},
     "output_type": "execute_result"
    }
   ],
   "source": [
    "sales_platform_years = df.pivot_table(\n",
    "    index='year_of_release', \n",
    "    columns='platform', \n",
    "    values='total_sales', \n",
    "    aggfunc='sum').fillna(0).drop(0)\n",
    "sales_platform_years.tail()"
   ]
  },
  {
   "cell_type": "code",
   "execution_count": 24,
   "metadata": {},
   "outputs": [
    {
     "data": {
      "text/plain": [
       "<AxesSubplot:xlabel='year_of_release'>"
      ]
     },
     "execution_count": 24,
     "metadata": {},
     "output_type": "execute_result"
    },
    {
     "data": {
      "image/png": "[encoded data removed]",
      "text/plain": [
       "<Figure size 1440x720 with 1 Axes>"
      ]
     },
     "metadata": {
      "needs_background": "light"
     },
     "output_type": "display_data"
    }
   ],
   "source": [
    "sales_platform_years.plot(figsize=(20,10))"
   ]
  },
  {
   "cell_type": "code",
   "execution_count": 25,
   "metadata": {
    "scrolled": false
   },
   "outputs": [
    {
     "data": {
      "text/plain": [
       "<AxesSubplot:title={'center':'Top 5 Sales Lifetime'}, xlabel='year_of_release'>"
      ]
     },
     "execution_count": 25,
     "metadata": {},
     "output_type": "execute_result"
    },
    {
     "data": {
      "image/png": "[encoded data removed]",
      "text/plain": [
       "<Figure size 1080x360 with 1 Axes>"
      ]
     },
     "metadata": {
      "needs_background": "light"
     },
     "output_type": "display_data"
    }
   ],
   "source": [
    "sales_platform_years[['X360', 'PS2', 'PS3', 'Wii', 'DS']].plot(style='o-', title='Top 5 Sales Lifetime', grid=True, figsize=(15, 5))"
   ]
  },
  {
   "cell_type": "code",
   "execution_count": 26,
   "metadata": {
    "scrolled": true
   },
   "outputs": [
    {
     "data": {
      "text/plain": [
       "<AxesSubplot:title={'center':'Top 1 Sales Lifetime \"PS 2\"'}, xlabel='year_of_release'>"
      ]
     },
     "execution_count": 26,
     "metadata": {},
     "output_type": "execute_result"
    },
    {
     "data": {
      "image/png": "[encoded data removed]",
      "text/plain": [
       "<Figure size 720x216 with 1 Axes>"
      ]
     },
     "metadata": {
      "needs_background": "light"
     },
     "output_type": "display_data"
    }
   ],
   "source": [
    "sales_platform_years['PS2'].plot(style='o-', title='Top 1 Sales Lifetime \"PS 2\"', grid=True, figsize=(10, 3))"
   ]
  },
  {
   "cell_type": "markdown",
   "metadata": {},
   "source": [
    "Seperti dugaan di awal platform PS2 mungkin memiliki historis penjualan terbaik dari yang lain, akan tetapi untuk tahun saat ini bahkan penjualannya tidak ada satu pun."
   ]
  },
  {
   "cell_type": "markdown",
   "metadata": {},
   "source": [
    "Pada penjualan terbanyak yang lainnya seperti Xbox 360 dan PS3 masih memiliki penjualan di tahun saat ini. ini bisa mereferensikan kita untuk mencari tahu penjualan game pada platform apa sajakan yang lebih relevan dan signifikan pendapatannya untuk bisa dijadikan bahan acuan kedepannya."
   ]
  },
  {
   "cell_type": "markdown",
   "metadata": {},
   "source": [
    "## Analisis Data pada Periode Waktu yang Relevan"
   ]
  },
  {
   "cell_type": "markdown",
   "metadata": {},
   "source": [
    "Berdasarkan indikasi yang kita dapatkan sebelumnya, maka kita akan memfilter datanya untuk 5 tahun kebelakang agar data yang akan kita uji lebih relevan dan efisien untuk perencanaan."
   ]
  },
  {
   "cell_type": "code",
   "execution_count": 27,
   "metadata": {
    "scrolled": false
   },
   "outputs": [
    {
     "data": {
      "text/html": [
       "<div>\n",
       "<style scoped>\n",
       "    .dataframe tbody tr th:only-of-type {\n",
       "        vertical-align: middle;\n",
       "    }\n",
       "\n",
       "    .dataframe tbody tr th {\n",
       "        vertical-align: top;\n",
       "    }\n",
       "\n",
       "    .dataframe thead th {\n",
       "        text-align: right;\n",
       "    }\n",
       "</style>\n",
       "<table border=\"1\" class=\"dataframe\">\n",
       "  <thead>\n",
       "    <tr style=\"text-align: right;\">\n",
       "      <th></th>\n",
       "      <th>name</th>\n",
       "      <th>platform</th>\n",
       "      <th>year_of_release</th>\n",
       "      <th>genre</th>\n",
       "      <th>na_sales</th>\n",
       "      <th>eu_sales</th>\n",
       "      <th>jp_sales</th>\n",
       "      <th>other_sales</th>\n",
       "      <th>critic_score</th>\n",
       "      <th>user_score</th>\n",
       "      <th>rating</th>\n",
       "      <th>total_sales</th>\n",
       "    </tr>\n",
       "  </thead>\n",
       "  <tbody>\n",
       "    <tr>\n",
       "      <th>0</th>\n",
       "      <td>Grand Theft Auto V</td>\n",
       "      <td>PS3</td>\n",
       "      <td>2013</td>\n",
       "      <td>Action</td>\n",
       "      <td>7.02</td>\n",
       "      <td>9.09</td>\n",
       "      <td>0.98</td>\n",
       "      <td>3.96</td>\n",
       "      <td>97.0</td>\n",
       "      <td>8.2</td>\n",
       "      <td>M</td>\n",
       "      <td>21.05</td>\n",
       "    </tr>\n",
       "    <tr>\n",
       "      <th>1</th>\n",
       "      <td>Grand Theft Auto V</td>\n",
       "      <td>X360</td>\n",
       "      <td>2013</td>\n",
       "      <td>Action</td>\n",
       "      <td>9.66</td>\n",
       "      <td>5.14</td>\n",
       "      <td>0.06</td>\n",
       "      <td>1.41</td>\n",
       "      <td>97.0</td>\n",
       "      <td>8.1</td>\n",
       "      <td>M</td>\n",
       "      <td>16.27</td>\n",
       "    </tr>\n",
       "    <tr>\n",
       "      <th>2</th>\n",
       "      <td>Call of Duty: Black Ops 3</td>\n",
       "      <td>PS4</td>\n",
       "      <td>2015</td>\n",
       "      <td>Shooter</td>\n",
       "      <td>6.03</td>\n",
       "      <td>5.86</td>\n",
       "      <td>0.36</td>\n",
       "      <td>2.38</td>\n",
       "      <td>NaN</td>\n",
       "      <td>NaN</td>\n",
       "      <td>NaN</td>\n",
       "      <td>14.63</td>\n",
       "    </tr>\n",
       "    <tr>\n",
       "      <th>3</th>\n",
       "      <td>Pokemon X/Pokemon Y</td>\n",
       "      <td>3DS</td>\n",
       "      <td>2013</td>\n",
       "      <td>Role-Playing</td>\n",
       "      <td>5.28</td>\n",
       "      <td>4.19</td>\n",
       "      <td>4.35</td>\n",
       "      <td>0.78</td>\n",
       "      <td>NaN</td>\n",
       "      <td>NaN</td>\n",
       "      <td>NaN</td>\n",
       "      <td>14.60</td>\n",
       "    </tr>\n",
       "    <tr>\n",
       "      <th>4</th>\n",
       "      <td>Call of Duty: Black Ops II</td>\n",
       "      <td>PS3</td>\n",
       "      <td>2012</td>\n",
       "      <td>Shooter</td>\n",
       "      <td>4.99</td>\n",
       "      <td>5.73</td>\n",
       "      <td>0.65</td>\n",
       "      <td>2.42</td>\n",
       "      <td>83.0</td>\n",
       "      <td>5.3</td>\n",
       "      <td>M</td>\n",
       "      <td>13.79</td>\n",
       "    </tr>\n",
       "    <tr>\n",
       "      <th>...</th>\n",
       "      <td>...</td>\n",
       "      <td>...</td>\n",
       "      <td>...</td>\n",
       "      <td>...</td>\n",
       "      <td>...</td>\n",
       "      <td>...</td>\n",
       "      <td>...</td>\n",
       "      <td>...</td>\n",
       "      <td>...</td>\n",
       "      <td>...</td>\n",
       "      <td>...</td>\n",
       "      <td>...</td>\n",
       "    </tr>\n",
       "    <tr>\n",
       "      <th>2881</th>\n",
       "      <td>Strawberry Nauts</td>\n",
       "      <td>PSV</td>\n",
       "      <td>2016</td>\n",
       "      <td>Adventure</td>\n",
       "      <td>0.00</td>\n",
       "      <td>0.00</td>\n",
       "      <td>0.01</td>\n",
       "      <td>0.00</td>\n",
       "      <td>NaN</td>\n",
       "      <td>NaN</td>\n",
       "      <td>NaN</td>\n",
       "      <td>0.01</td>\n",
       "    </tr>\n",
       "    <tr>\n",
       "      <th>2882</th>\n",
       "      <td>Aiyoku no Eustia</td>\n",
       "      <td>PSV</td>\n",
       "      <td>2014</td>\n",
       "      <td>Misc</td>\n",
       "      <td>0.00</td>\n",
       "      <td>0.00</td>\n",
       "      <td>0.01</td>\n",
       "      <td>0.00</td>\n",
       "      <td>NaN</td>\n",
       "      <td>NaN</td>\n",
       "      <td>NaN</td>\n",
       "      <td>0.01</td>\n",
       "    </tr>\n",
       "    <tr>\n",
       "      <th>2883</th>\n",
       "      <td>Samurai Warriors: Sanada Maru</td>\n",
       "      <td>PS3</td>\n",
       "      <td>2016</td>\n",
       "      <td>Action</td>\n",
       "      <td>0.00</td>\n",
       "      <td>0.00</td>\n",
       "      <td>0.01</td>\n",
       "      <td>0.00</td>\n",
       "      <td>NaN</td>\n",
       "      <td>NaN</td>\n",
       "      <td>NaN</td>\n",
       "      <td>0.01</td>\n",
       "    </tr>\n",
       "    <tr>\n",
       "      <th>2884</th>\n",
       "      <td>Haitaka no Psychedelica</td>\n",
       "      <td>PSV</td>\n",
       "      <td>2016</td>\n",
       "      <td>Adventure</td>\n",
       "      <td>0.00</td>\n",
       "      <td>0.00</td>\n",
       "      <td>0.01</td>\n",
       "      <td>0.00</td>\n",
       "      <td>NaN</td>\n",
       "      <td>NaN</td>\n",
       "      <td>NaN</td>\n",
       "      <td>0.01</td>\n",
       "    </tr>\n",
       "    <tr>\n",
       "      <th>2885</th>\n",
       "      <td>Winning Post 8 2016</td>\n",
       "      <td>PSV</td>\n",
       "      <td>2016</td>\n",
       "      <td>Simulation</td>\n",
       "      <td>0.00</td>\n",
       "      <td>0.00</td>\n",
       "      <td>0.01</td>\n",
       "      <td>0.00</td>\n",
       "      <td>NaN</td>\n",
       "      <td>NaN</td>\n",
       "      <td>NaN</td>\n",
       "      <td>0.01</td>\n",
       "    </tr>\n",
       "  </tbody>\n",
       "</table>\n",
       "<p>2886 rows × 12 columns</p>\n",
       "</div>"
      ],
      "text/plain": [
       "                               name platform  year_of_release         genre  \\\n",
       "0                Grand Theft Auto V      PS3             2013        Action   \n",
       "1                Grand Theft Auto V     X360             2013        Action   \n",
       "2         Call of Duty: Black Ops 3      PS4             2015       Shooter   \n",
       "3               Pokemon X/Pokemon Y      3DS             2013  Role-Playing   \n",
       "4        Call of Duty: Black Ops II      PS3             2012       Shooter   \n",
       "...                             ...      ...              ...           ...   \n",
       "2881               Strawberry Nauts      PSV             2016     Adventure   \n",
       "2882               Aiyoku no Eustia      PSV             2014          Misc   \n",
       "2883  Samurai Warriors: Sanada Maru      PS3             2016        Action   \n",
       "2884        Haitaka no Psychedelica      PSV             2016     Adventure   \n",
       "2885            Winning Post 8 2016      PSV             2016    Simulation   \n",
       "\n",
       "      na_sales  eu_sales  jp_sales  other_sales  critic_score  user_score  \\\n",
       "0         7.02      9.09      0.98         3.96          97.0         8.2   \n",
       "1         9.66      5.14      0.06         1.41          97.0         8.1   \n",
       "2         6.03      5.86      0.36         2.38           NaN         NaN   \n",
       "3         5.28      4.19      4.35         0.78           NaN         NaN   \n",
       "4         4.99      5.73      0.65         2.42          83.0         5.3   \n",
       "...        ...       ...       ...          ...           ...         ...   \n",
       "2881      0.00      0.00      0.01         0.00           NaN         NaN   \n",
       "2882      0.00      0.00      0.01         0.00           NaN         NaN   \n",
       "2883      0.00      0.00      0.01         0.00           NaN         NaN   \n",
       "2884      0.00      0.00      0.01         0.00           NaN         NaN   \n",
       "2885      0.00      0.00      0.01         0.00           NaN         NaN   \n",
       "\n",
       "     rating  total_sales  \n",
       "0         M        21.05  \n",
       "1         M        16.27  \n",
       "2       NaN        14.63  \n",
       "3       NaN        14.60  \n",
       "4         M        13.79  \n",
       "...     ...          ...  \n",
       "2881    NaN         0.01  \n",
       "2882    NaN         0.01  \n",
       "2883    NaN         0.01  \n",
       "2884    NaN         0.01  \n",
       "2885    NaN         0.01  \n",
       "\n",
       "[2886 rows x 12 columns]"
      ]
     },
     "execution_count": 27,
     "metadata": {},
     "output_type": "execute_result"
    }
   ],
   "source": [
    "new_df = df.loc[df['year_of_release'] >= 2012].reset_index(drop=True)\n",
    "new_df"
   ]
  },
  {
   "cell_type": "markdown",
   "metadata": {},
   "source": [
    "### Platform Sales"
   ]
  },
  {
   "cell_type": "markdown",
   "metadata": {},
   "source": [
    "Kita hitung ulang pada platform untuk penjualannya"
   ]
  },
  {
   "cell_type": "code",
   "execution_count": 28,
   "metadata": {
    "scrolled": true
   },
   "outputs": [
    {
     "data": {
      "text/html": [
       "<div>\n",
       "<style scoped>\n",
       "    .dataframe tbody tr th:only-of-type {\n",
       "        vertical-align: middle;\n",
       "    }\n",
       "\n",
       "    .dataframe tbody tr th {\n",
       "        vertical-align: top;\n",
       "    }\n",
       "\n",
       "    .dataframe thead th {\n",
       "        text-align: right;\n",
       "    }\n",
       "</style>\n",
       "<table border=\"1\" class=\"dataframe\">\n",
       "  <thead>\n",
       "    <tr style=\"text-align: right;\">\n",
       "      <th></th>\n",
       "      <th>platform</th>\n",
       "      <th>total_sales</th>\n",
       "    </tr>\n",
       "  </thead>\n",
       "  <tbody>\n",
       "    <tr>\n",
       "      <th>0</th>\n",
       "      <td>PS4</td>\n",
       "      <td>314.14</td>\n",
       "    </tr>\n",
       "    <tr>\n",
       "      <th>1</th>\n",
       "      <td>PS3</td>\n",
       "      <td>288.79</td>\n",
       "    </tr>\n",
       "    <tr>\n",
       "      <th>2</th>\n",
       "      <td>X360</td>\n",
       "      <td>236.54</td>\n",
       "    </tr>\n",
       "    <tr>\n",
       "      <th>3</th>\n",
       "      <td>3DS</td>\n",
       "      <td>194.61</td>\n",
       "    </tr>\n",
       "    <tr>\n",
       "      <th>4</th>\n",
       "      <td>XOne</td>\n",
       "      <td>159.32</td>\n",
       "    </tr>\n",
       "    <tr>\n",
       "      <th>5</th>\n",
       "      <td>WiiU</td>\n",
       "      <td>82.19</td>\n",
       "    </tr>\n",
       "    <tr>\n",
       "      <th>6</th>\n",
       "      <td>PC</td>\n",
       "      <td>62.65</td>\n",
       "    </tr>\n",
       "    <tr>\n",
       "      <th>7</th>\n",
       "      <td>PSV</td>\n",
       "      <td>49.18</td>\n",
       "    </tr>\n",
       "    <tr>\n",
       "      <th>8</th>\n",
       "      <td>Wii</td>\n",
       "      <td>35.37</td>\n",
       "    </tr>\n",
       "    <tr>\n",
       "      <th>9</th>\n",
       "      <td>DS</td>\n",
       "      <td>12.55</td>\n",
       "    </tr>\n",
       "    <tr>\n",
       "      <th>10</th>\n",
       "      <td>PSP</td>\n",
       "      <td>11.19</td>\n",
       "    </tr>\n",
       "  </tbody>\n",
       "</table>\n",
       "</div>"
      ],
      "text/plain": [
       "   platform  total_sales\n",
       "0       PS4       314.14\n",
       "1       PS3       288.79\n",
       "2      X360       236.54\n",
       "3       3DS       194.61\n",
       "4      XOne       159.32\n",
       "5      WiiU        82.19\n",
       "6        PC        62.65\n",
       "7       PSV        49.18\n",
       "8       Wii        35.37\n",
       "9        DS        12.55\n",
       "10      PSP        11.19"
      ]
     },
     "execution_count": 28,
     "metadata": {},
     "output_type": "execute_result"
    }
   ],
   "source": [
    "new_sales = new_df.pivot_table(index='platform', values='total_sales', aggfunc='sum')\n",
    "new_sales = new_sales.sort_values(by='total_sales', ascending=False).reset_index()\n",
    "new_sales"
   ]
  },
  {
   "cell_type": "code",
   "execution_count": 29,
   "metadata": {
    "scrolled": false
   },
   "outputs": [
    {
     "data": {
      "text/plain": [
       "<AxesSubplot:title={'center':'Penjualan Berdasarkan Platform 5 Tahun kebelakang'}, xlabel='platform'>"
      ]
     },
     "execution_count": 29,
     "metadata": {},
     "output_type": "execute_result"
    },
    {
     "data": {
      "image/png": "[encoded data removed]",
      "text/plain": [
       "<Figure size 720x360 with 1 Axes>"
      ]
     },
     "metadata": {
      "needs_background": "light"
     },
     "output_type": "display_data"
    }
   ],
   "source": [
    "new_sales.plot(x='platform', kind='bar', title='Penjualan Berdasarkan Platform 5 Tahun kebelakang', figsize=(10,5))"
   ]
  },
  {
   "cell_type": "markdown",
   "metadata": {},
   "source": [
    "Setelah kita mensortir datanya untuk 5 tahun kebelakang, sekarang kita memiliki data yang relevan dengan PS 4 yang memiliki nilai tertinggi dengan lebih dari 300 dolar penjualan. Mengingat PS4 merupakan platform dengan keluaran terbaru dari pendahulunya yaitu PS3 ataupun PS2 ini mengindikasikan juga bahwa data historis perlu kita teliti kembali untuk mencari aktual data yang eksis untuk waktu sekarang."
   ]
  },
  {
   "cell_type": "code",
   "execution_count": 30,
   "metadata": {},
   "outputs": [
    {
     "data": {
      "text/html": [
       "<div>\n",
       "<style scoped>\n",
       "    .dataframe tbody tr th:only-of-type {\n",
       "        vertical-align: middle;\n",
       "    }\n",
       "\n",
       "    .dataframe tbody tr th {\n",
       "        vertical-align: top;\n",
       "    }\n",
       "\n",
       "    .dataframe thead th {\n",
       "        text-align: right;\n",
       "    }\n",
       "</style>\n",
       "<table border=\"1\" class=\"dataframe\">\n",
       "  <thead>\n",
       "    <tr style=\"text-align: right;\">\n",
       "      <th>platform</th>\n",
       "      <th>3DS</th>\n",
       "      <th>DS</th>\n",
       "      <th>PC</th>\n",
       "      <th>PS3</th>\n",
       "      <th>PS4</th>\n",
       "      <th>PSP</th>\n",
       "      <th>PSV</th>\n",
       "      <th>Wii</th>\n",
       "      <th>WiiU</th>\n",
       "      <th>X360</th>\n",
       "      <th>XOne</th>\n",
       "    </tr>\n",
       "    <tr>\n",
       "      <th>year_of_release</th>\n",
       "      <th></th>\n",
       "      <th></th>\n",
       "      <th></th>\n",
       "      <th></th>\n",
       "      <th></th>\n",
       "      <th></th>\n",
       "      <th></th>\n",
       "      <th></th>\n",
       "      <th></th>\n",
       "      <th></th>\n",
       "      <th></th>\n",
       "    </tr>\n",
       "  </thead>\n",
       "  <tbody>\n",
       "    <tr>\n",
       "      <th>2012</th>\n",
       "      <td>51.36</td>\n",
       "      <td>11.01</td>\n",
       "      <td>23.22</td>\n",
       "      <td>107.36</td>\n",
       "      <td>0.00</td>\n",
       "      <td>7.69</td>\n",
       "      <td>16.19</td>\n",
       "      <td>21.71</td>\n",
       "      <td>17.56</td>\n",
       "      <td>99.74</td>\n",
       "      <td>0.00</td>\n",
       "    </tr>\n",
       "    <tr>\n",
       "      <th>2013</th>\n",
       "      <td>56.57</td>\n",
       "      <td>1.54</td>\n",
       "      <td>12.38</td>\n",
       "      <td>113.25</td>\n",
       "      <td>25.99</td>\n",
       "      <td>3.14</td>\n",
       "      <td>10.59</td>\n",
       "      <td>8.59</td>\n",
       "      <td>21.65</td>\n",
       "      <td>88.58</td>\n",
       "      <td>18.96</td>\n",
       "    </tr>\n",
       "    <tr>\n",
       "      <th>2014</th>\n",
       "      <td>43.76</td>\n",
       "      <td>0.00</td>\n",
       "      <td>13.28</td>\n",
       "      <td>47.76</td>\n",
       "      <td>100.00</td>\n",
       "      <td>0.24</td>\n",
       "      <td>11.90</td>\n",
       "      <td>3.75</td>\n",
       "      <td>22.03</td>\n",
       "      <td>34.74</td>\n",
       "      <td>54.07</td>\n",
       "    </tr>\n",
       "    <tr>\n",
       "      <th>2015</th>\n",
       "      <td>27.78</td>\n",
       "      <td>0.00</td>\n",
       "      <td>8.52</td>\n",
       "      <td>16.82</td>\n",
       "      <td>118.90</td>\n",
       "      <td>0.12</td>\n",
       "      <td>6.25</td>\n",
       "      <td>1.14</td>\n",
       "      <td>16.35</td>\n",
       "      <td>11.96</td>\n",
       "      <td>60.14</td>\n",
       "    </tr>\n",
       "    <tr>\n",
       "      <th>2016</th>\n",
       "      <td>15.14</td>\n",
       "      <td>0.00</td>\n",
       "      <td>5.25</td>\n",
       "      <td>3.60</td>\n",
       "      <td>69.25</td>\n",
       "      <td>0.00</td>\n",
       "      <td>4.25</td>\n",
       "      <td>0.18</td>\n",
       "      <td>4.60</td>\n",
       "      <td>1.52</td>\n",
       "      <td>26.15</td>\n",
       "    </tr>\n",
       "  </tbody>\n",
       "</table>\n",
       "</div>"
      ],
      "text/plain": [
       "platform           3DS     DS     PC     PS3     PS4   PSP    PSV    Wii  \\\n",
       "year_of_release                                                            \n",
       "2012             51.36  11.01  23.22  107.36    0.00  7.69  16.19  21.71   \n",
       "2013             56.57   1.54  12.38  113.25   25.99  3.14  10.59   8.59   \n",
       "2014             43.76   0.00  13.28   47.76  100.00  0.24  11.90   3.75   \n",
       "2015             27.78   0.00   8.52   16.82  118.90  0.12   6.25   1.14   \n",
       "2016             15.14   0.00   5.25    3.60   69.25  0.00   4.25   0.18   \n",
       "\n",
       "platform          WiiU   X360   XOne  \n",
       "year_of_release                       \n",
       "2012             17.56  99.74   0.00  \n",
       "2013             21.65  88.58  18.96  \n",
       "2014             22.03  34.74  54.07  \n",
       "2015             16.35  11.96  60.14  \n",
       "2016              4.60   1.52  26.15  "
      ]
     },
     "execution_count": 30,
     "metadata": {},
     "output_type": "execute_result"
    }
   ],
   "source": [
    "new_sales_year = new_df.pivot_table(\n",
    "    index='year_of_release', \n",
    "    columns='platform', \n",
    "    values='total_sales', \n",
    "    aggfunc='sum').fillna(0)\n",
    "new_sales_year.tail()"
   ]
  },
  {
   "cell_type": "code",
   "execution_count": 31,
   "metadata": {
    "scrolled": false
   },
   "outputs": [
    {
     "data": {
      "text/plain": [
       "<AxesSubplot:xlabel='year_of_release'>"
      ]
     },
     "execution_count": 31,
     "metadata": {},
     "output_type": "execute_result"
    },
    {
     "data": {
      "image/png": "[encoded data removed]",
      "text/plain": [
       "<Figure size 864x360 with 1 Axes>"
      ]
     },
     "metadata": {
      "needs_background": "light"
     },
     "output_type": "display_data"
    }
   ],
   "source": [
    "new_sales_year.plot(figsize=(12,5))"
   ]
  },
  {
   "cell_type": "code",
   "execution_count": 32,
   "metadata": {},
   "outputs": [
    {
     "data": {
      "text/plain": [
       "<AxesSubplot:title={'center':'Top 5 Sales Updated'}, xlabel='year_of_release'>"
      ]
     },
     "execution_count": 32,
     "metadata": {},
     "output_type": "execute_result"
    },
    {
     "data": {
      "image/png": "[encoded data removed]",
      "text/plain": [
       "<Figure size 576x360 with 1 Axes>"
      ]
     },
     "metadata": {
      "needs_background": "light"
     },
     "output_type": "display_data"
    }
   ],
   "source": [
    "new_sales_year[['PS4', 'PS3', 'X360', '3DS', 'XOne']].plot(style='o-', title='Top 5 Sales Updated', grid=True, figsize=(8, 5))"
   ]
  },
  {
   "cell_type": "markdown",
   "metadata": {},
   "source": [
    "Terlihat pada grafik penjualan untuk platform dari tahun 2012 - 2016 di dominasi PS4 yang grafiknya memiliki puncak paling tinggi di angka 120 dolar pada tahun 2015, lalu diikuti oleh PS3, Xbox 360, Xbox One, dan 3DS. "
   ]
  },
  {
   "cell_type": "code",
   "execution_count": 33,
   "metadata": {
    "scrolled": false
   },
   "outputs": [
    {
     "data": {
      "text/plain": [
       "<AxesSubplot:title={'center':'Top 1 Sales Updated \"PS 4\"'}, xlabel='year_of_release'>"
      ]
     },
     "execution_count": 33,
     "metadata": {},
     "output_type": "execute_result"
    },
    {
     "data": {
      "image/png": "[encoded data removed]",
      "text/plain": [
       "<Figure size 576x216 with 1 Axes>"
      ]
     },
     "metadata": {
      "needs_background": "light"
     },
     "output_type": "display_data"
    }
   ],
   "source": [
    "new_sales_year['PS4'].plot(style='o-', title='Top 1 Sales Updated \"PS 4\"', grid=True, figsize=(8, 3))"
   ]
  },
  {
   "cell_type": "markdown",
   "metadata": {},
   "source": [
    "Pertumbuhan sales pada platform PS4 bisa kita lihat mulai dari tahun 2012 terus tumbuh hingga tahun 2015 yang kemudian mulai turun di tahun 2016. Ternyata kita bisa lihat bahwa pertumbuhannya bertahan selama 3 tahun kemudian mulai menurun yang bisa dikarenakan generasinya mulai tergantikan atau terjadinya perputaran pasar."
   ]
  },
  {
   "cell_type": "code",
   "execution_count": 34,
   "metadata": {
    "scrolled": false
   },
   "outputs": [
    {
     "data": {
      "image/png": "[encoded data removed]",
      "text/plain": [
       "<Figure size 1008x432 with 1 Axes>"
      ]
     },
     "metadata": {
      "needs_background": "light"
     },
     "output_type": "display_data"
    }
   ],
   "source": [
    "plt.figure(figsize=(14, 6))\n",
    "sns.boxplot(data=new_df, x='platform', y='total_sales')\n",
    "plt.title('Sales by Platform Distribution', fontsize=15)\n",
    "plt.show()"
   ]
  },
  {
   "cell_type": "markdown",
   "metadata": {},
   "source": [
    "Sekarang kita melihat persebaran datanya, bukan berdasarkan tahun tapi untuk mengetahui penjualan paling banyak setiap transaksi walaupun platform PS4 memiliki penjualan total paling banyak ternyata untuk setiap transaksinya di miliki oleh platform PS3. Dengan sekali penjualan bisa mencapai lebih dari 20 dolar ."
   ]
  },
  {
   "cell_type": "code",
   "execution_count": 35,
   "metadata": {
    "scrolled": false
   },
   "outputs": [
    {
     "data": {
      "text/plain": [
       "<AxesSubplot:xlabel='platform', ylabel='total_sales'>"
      ]
     },
     "execution_count": 35,
     "metadata": {},
     "output_type": "execute_result"
    },
    {
     "data": {
      "image/png": "[encoded data removed]",
      "text/plain": [
       "<Figure size 432x288 with 1 Axes>"
      ]
     },
     "metadata": {
      "needs_background": "light"
     },
     "output_type": "display_data"
    }
   ],
   "source": [
    "sns.boxplot(data=new_df[new_df['platform'] == 'PS3'], x='platform', y='total_sales')"
   ]
  },
  {
   "cell_type": "markdown",
   "metadata": {},
   "source": [
    "Akan "
   ]
  },
  {
   "cell_type": "code",
   "execution_count": 36,
   "metadata": {
    "scrolled": true
   },
   "outputs": [
    {
     "data": {
      "text/html": [
       "<div>\n",
       "<style scoped>\n",
       "    .dataframe tbody tr th:only-of-type {\n",
       "        vertical-align: middle;\n",
       "    }\n",
       "\n",
       "    .dataframe tbody tr th {\n",
       "        vertical-align: top;\n",
       "    }\n",
       "\n",
       "    .dataframe thead th {\n",
       "        text-align: right;\n",
       "    }\n",
       "</style>\n",
       "<table border=\"1\" class=\"dataframe\">\n",
       "  <thead>\n",
       "    <tr style=\"text-align: right;\">\n",
       "      <th></th>\n",
       "      <th>total_sales</th>\n",
       "    </tr>\n",
       "    <tr>\n",
       "      <th>platform</th>\n",
       "      <th></th>\n",
       "    </tr>\n",
       "  </thead>\n",
       "  <tbody>\n",
       "    <tr>\n",
       "      <th>X360</th>\n",
       "      <td>0.810068</td>\n",
       "    </tr>\n",
       "    <tr>\n",
       "      <th>PS4</th>\n",
       "      <td>0.801378</td>\n",
       "    </tr>\n",
       "    <tr>\n",
       "      <th>Wii</th>\n",
       "      <td>0.655000</td>\n",
       "    </tr>\n",
       "    <tr>\n",
       "      <th>XOne</th>\n",
       "      <td>0.645020</td>\n",
       "    </tr>\n",
       "    <tr>\n",
       "      <th>PS3</th>\n",
       "      <td>0.585781</td>\n",
       "    </tr>\n",
       "    <tr>\n",
       "      <th>WiiU</th>\n",
       "      <td>0.559116</td>\n",
       "    </tr>\n",
       "    <tr>\n",
       "      <th>3DS</th>\n",
       "      <td>0.491439</td>\n",
       "    </tr>\n",
       "    <tr>\n",
       "      <th>DS</th>\n",
       "      <td>0.404839</td>\n",
       "    </tr>\n",
       "    <tr>\n",
       "      <th>PC</th>\n",
       "      <td>0.250600</td>\n",
       "    </tr>\n",
       "    <tr>\n",
       "      <th>PSV</th>\n",
       "      <td>0.119659</td>\n",
       "    </tr>\n",
       "    <tr>\n",
       "      <th>PSP</th>\n",
       "      <td>0.064682</td>\n",
       "    </tr>\n",
       "  </tbody>\n",
       "</table>\n",
       "</div>"
      ],
      "text/plain": [
       "          total_sales\n",
       "platform             \n",
       "X360         0.810068\n",
       "PS4          0.801378\n",
       "Wii          0.655000\n",
       "XOne         0.645020\n",
       "PS3          0.585781\n",
       "WiiU         0.559116\n",
       "3DS          0.491439\n",
       "DS           0.404839\n",
       "PC           0.250600\n",
       "PSV          0.119659\n",
       "PSP          0.064682"
      ]
     },
     "execution_count": 36,
     "metadata": {},
     "output_type": "execute_result"
    }
   ],
   "source": [
    "avg_sales_platform = new_df.pivot_table(index='platform', values='total_sales', aggfunc='mean')\n",
    "avg_sales_platform.sort_values(by='total_sales', ascending=False)"
   ]
  },
  {
   "cell_type": "markdown",
   "metadata": {},
   "source": [
    "Sedangkan untuk rata-rata keseluruhan penjualan berdasarkan platform, Xbox 360 yang memiliki paling banyak nilainya."
   ]
  },
  {
   "cell_type": "markdown",
   "metadata": {},
   "source": [
    "### Ulasan Terhadap Penjualan"
   ]
  },
  {
   "cell_type": "markdown",
   "metadata": {},
   "source": [
    "Setelah mengetahui platform PS4 yang memiliki potensial sebelumnya, sekarang kita akan coba lihat penjualan untuk setiap penilaian baik dari para profesional, ataupun user score yang memiliki korelasi sebagai penunjang keberhasilan penjualan."
   ]
  },
  {
   "cell_type": "code",
   "execution_count": 37,
   "metadata": {
    "scrolled": false
   },
   "outputs": [
    {
     "data": {
      "text/html": [
       "<div>\n",
       "<style scoped>\n",
       "    .dataframe tbody tr th:only-of-type {\n",
       "        vertical-align: middle;\n",
       "    }\n",
       "\n",
       "    .dataframe tbody tr th {\n",
       "        vertical-align: top;\n",
       "    }\n",
       "\n",
       "    .dataframe thead th {\n",
       "        text-align: right;\n",
       "    }\n",
       "</style>\n",
       "<table border=\"1\" class=\"dataframe\">\n",
       "  <thead>\n",
       "    <tr style=\"text-align: right;\">\n",
       "      <th></th>\n",
       "      <th>platform</th>\n",
       "      <th>user_score</th>\n",
       "      <th>critic_score</th>\n",
       "      <th>total_sales</th>\n",
       "    </tr>\n",
       "  </thead>\n",
       "  <tbody>\n",
       "    <tr>\n",
       "      <th>0</th>\n",
       "      <td>PS4</td>\n",
       "      <td>1.5</td>\n",
       "      <td>32.0</td>\n",
       "      <td>0.20</td>\n",
       "    </tr>\n",
       "    <tr>\n",
       "      <th>1</th>\n",
       "      <td>PS4</td>\n",
       "      <td>1.9</td>\n",
       "      <td>25.0</td>\n",
       "      <td>0.06</td>\n",
       "    </tr>\n",
       "    <tr>\n",
       "      <th>2</th>\n",
       "      <td>PS4</td>\n",
       "      <td>2.0</td>\n",
       "      <td>47.0</td>\n",
       "      <td>0.22</td>\n",
       "    </tr>\n",
       "    <tr>\n",
       "      <th>3</th>\n",
       "      <td>PS4</td>\n",
       "      <td>2.0</td>\n",
       "      <td>48.0</td>\n",
       "      <td>0.01</td>\n",
       "    </tr>\n",
       "    <tr>\n",
       "      <th>4</th>\n",
       "      <td>PS4</td>\n",
       "      <td>2.3</td>\n",
       "      <td>42.0</td>\n",
       "      <td>0.01</td>\n",
       "    </tr>\n",
       "    <tr>\n",
       "      <th>...</th>\n",
       "      <td>...</td>\n",
       "      <td>...</td>\n",
       "      <td>...</td>\n",
       "      <td>...</td>\n",
       "    </tr>\n",
       "    <tr>\n",
       "      <th>224</th>\n",
       "      <td>PS4</td>\n",
       "      <td>8.7</td>\n",
       "      <td>69.0</td>\n",
       "      <td>0.42</td>\n",
       "    </tr>\n",
       "    <tr>\n",
       "      <th>225</th>\n",
       "      <td>PS4</td>\n",
       "      <td>8.7</td>\n",
       "      <td>79.0</td>\n",
       "      <td>0.15</td>\n",
       "    </tr>\n",
       "    <tr>\n",
       "      <th>226</th>\n",
       "      <td>PS4</td>\n",
       "      <td>8.7</td>\n",
       "      <td>85.0</td>\n",
       "      <td>0.36</td>\n",
       "    </tr>\n",
       "    <tr>\n",
       "      <th>227</th>\n",
       "      <td>PS4</td>\n",
       "      <td>8.8</td>\n",
       "      <td>89.0</td>\n",
       "      <td>1.66</td>\n",
       "    </tr>\n",
       "    <tr>\n",
       "      <th>228</th>\n",
       "      <td>PS4</td>\n",
       "      <td>9.2</td>\n",
       "      <td>92.0</td>\n",
       "      <td>3.97</td>\n",
       "    </tr>\n",
       "  </tbody>\n",
       "</table>\n",
       "<p>229 rows × 4 columns</p>\n",
       "</div>"
      ],
      "text/plain": [
       "    platform  user_score  critic_score  total_sales\n",
       "0        PS4         1.5          32.0         0.20\n",
       "1        PS4         1.9          25.0         0.06\n",
       "2        PS4         2.0          47.0         0.22\n",
       "3        PS4         2.0          48.0         0.01\n",
       "4        PS4         2.3          42.0         0.01\n",
       "..       ...         ...           ...          ...\n",
       "224      PS4         8.7          69.0         0.42\n",
       "225      PS4         8.7          79.0         0.15\n",
       "226      PS4         8.7          85.0         0.36\n",
       "227      PS4         8.8          89.0         1.66\n",
       "228      PS4         9.2          92.0         3.97\n",
       "\n",
       "[229 rows x 4 columns]"
      ]
     },
     "execution_count": 37,
     "metadata": {},
     "output_type": "execute_result"
    }
   ],
   "source": [
    "ps4_score = (new_df\n",
    "    .query('platform == \"PS4\"')\n",
    "    .pivot_table(index=['platform', 'user_score', 'critic_score'], values='total_sales', aggfunc='sum')\n",
    "    .reset_index())\n",
    "ps4_score"
   ]
  },
  {
   "cell_type": "code",
   "execution_count": 38,
   "metadata": {
    "scrolled": true
   },
   "outputs": [
    {
     "data": {
      "text/plain": [
       "user_score     -0.019075\n",
       "critic_score    0.422526\n",
       "total_sales     1.000000\n",
       "Name: total_sales, dtype: float64"
      ]
     },
     "execution_count": 38,
     "metadata": {},
     "output_type": "execute_result"
    }
   ],
   "source": [
    "ps4_score.corr()['total_sales']"
   ]
  },
  {
   "cell_type": "code",
   "execution_count": 39,
   "metadata": {
    "scrolled": false
   },
   "outputs": [
    {
     "data": {
      "text/plain": [
       "<AxesSubplot:>"
      ]
     },
     "execution_count": 39,
     "metadata": {},
     "output_type": "execute_result"
    },
    {
     "data": {
      "image/png": "[encoded data removed]",
      "text/plain": [
       "<Figure size 432x288 with 2 Axes>"
      ]
     },
     "metadata": {
      "needs_background": "light"
     },
     "output_type": "display_data"
    }
   ],
   "source": [
    "sns.heatmap(ps4_score.corr(), annot=True)"
   ]
  },
  {
   "cell_type": "markdown",
   "metadata": {},
   "source": [
    "Pada heatmap chart terlihat bahwa korelasi penjualan (total_sales) dengan critic_score memiliki hubungan yang baik daripada penjualan dengan user_score. Dengan nilai critic_score/total_sales yaitu 0.42 mengindikasikan hubungan keduanya memiliki hubungan yang sedang. Lain hal dengan user_score/total_sales yang hanya memiliki nilai -0.019 yang juga mengindikasikan bahwa hubungan antar keduanya bisa dibilang tidak memiliki korelasi sama sekali."
   ]
  },
  {
   "cell_type": "code",
   "execution_count": 40,
   "metadata": {
    "scrolled": false
   },
   "outputs": [
    {
     "data": {
      "image/png": "[encoded data removed]",
      "text/plain": [
       "<Figure size 576x360 with 1 Axes>"
      ]
     },
     "metadata": {
      "needs_background": "light"
     },
     "output_type": "display_data"
    }
   ],
   "source": [
    "ps4_score.plot(x='user_score', y='total_sales', kind='scatter', figsize=(8, 5),\n",
    "             grid=True, fontsize=15)\n",
    "\n",
    "plt.title('Sales berdasarkan Ulasan Pengguna untuk PS4', fontsize=15)\n",
    "plt.show()"
   ]
  },
  {
   "cell_type": "markdown",
   "metadata": {},
   "source": [
    "Ulasan Pengguna:\n",
    "   - PS4 cukup populer di kalangan para pengguna karna memiliki nilai yang baik dengan range nilai dari 6 - 8.\n",
    "   - Persebaran nilainya merata, ini merupakan korelasi negatif dimana penilaian banyak berpusat di nilai yang rendah maupun tinggi."
   ]
  },
  {
   "cell_type": "code",
   "execution_count": 41,
   "metadata": {
    "scrolled": false
   },
   "outputs": [
    {
     "data": {
      "image/png": "[encoded data removed]",
      "text/plain": [
       "<Figure size 576x360 with 1 Axes>"
      ]
     },
     "metadata": {
      "needs_background": "light"
     },
     "output_type": "display_data"
    }
   ],
   "source": [
    "ps4_score.plot(x='critic_score', y='total_sales', kind='scatter', figsize=(8, 5),\n",
    "             grid=True, fontsize=15)\n",
    "\n",
    "plt.title('Sales berdasarkan Ulasan Profesional untuk PS4', fontsize=15)\n",
    "plt.show()"
   ]
  },
  {
   "cell_type": "markdown",
   "metadata": {},
   "source": [
    "Ulasan Profesional:\n",
    "   - PS4 juga cukup populer di kalangan para kritikus game karna memiliki nilai yang sangat baik dengan range nilai dari 60 - 90 mendekati 100.\n",
    "   - Persebaran nilainya sangat baik, ini merupakan korelasi positif dimana penilaian banyak berpusat di nilai yang tinggi."
   ]
  },
  {
   "cell_type": "markdown",
   "metadata": {},
   "source": [
    " "
   ]
  },
  {
   "cell_type": "code",
   "execution_count": 42,
   "metadata": {
    "scrolled": false
   },
   "outputs": [
    {
     "data": {
      "text/html": [
       "<div>\n",
       "<style scoped>\n",
       "    .dataframe tbody tr th:only-of-type {\n",
       "        vertical-align: middle;\n",
       "    }\n",
       "\n",
       "    .dataframe tbody tr th {\n",
       "        vertical-align: top;\n",
       "    }\n",
       "\n",
       "    .dataframe thead th {\n",
       "        text-align: right;\n",
       "    }\n",
       "</style>\n",
       "<table border=\"1\" class=\"dataframe\">\n",
       "  <thead>\n",
       "    <tr style=\"text-align: right;\">\n",
       "      <th></th>\n",
       "      <th>platform</th>\n",
       "      <th>user_score</th>\n",
       "      <th>critic_score</th>\n",
       "      <th>total_sales</th>\n",
       "    </tr>\n",
       "  </thead>\n",
       "  <tbody>\n",
       "    <tr>\n",
       "      <th>0</th>\n",
       "      <td>XOne</td>\n",
       "      <td>2.1</td>\n",
       "      <td>39.0</td>\n",
       "      <td>0.12</td>\n",
       "    </tr>\n",
       "    <tr>\n",
       "      <th>1</th>\n",
       "      <td>XOne</td>\n",
       "      <td>3.0</td>\n",
       "      <td>23.0</td>\n",
       "      <td>0.20</td>\n",
       "    </tr>\n",
       "    <tr>\n",
       "      <th>2</th>\n",
       "      <td>XOne</td>\n",
       "      <td>3.1</td>\n",
       "      <td>20.0</td>\n",
       "      <td>0.09</td>\n",
       "    </tr>\n",
       "    <tr>\n",
       "      <th>3</th>\n",
       "      <td>XOne</td>\n",
       "      <td>3.1</td>\n",
       "      <td>36.0</td>\n",
       "      <td>0.20</td>\n",
       "    </tr>\n",
       "    <tr>\n",
       "      <th>4</th>\n",
       "      <td>XOne</td>\n",
       "      <td>3.1</td>\n",
       "      <td>56.0</td>\n",
       "      <td>0.01</td>\n",
       "    </tr>\n",
       "    <tr>\n",
       "      <th>...</th>\n",
       "      <td>...</td>\n",
       "      <td>...</td>\n",
       "      <td>...</td>\n",
       "      <td>...</td>\n",
       "    </tr>\n",
       "    <tr>\n",
       "      <th>150</th>\n",
       "      <td>XOne</td>\n",
       "      <td>8.5</td>\n",
       "      <td>81.0</td>\n",
       "      <td>0.31</td>\n",
       "    </tr>\n",
       "    <tr>\n",
       "      <th>151</th>\n",
       "      <td>XOne</td>\n",
       "      <td>8.6</td>\n",
       "      <td>87.0</td>\n",
       "      <td>0.39</td>\n",
       "    </tr>\n",
       "    <tr>\n",
       "      <th>152</th>\n",
       "      <td>XOne</td>\n",
       "      <td>8.7</td>\n",
       "      <td>85.0</td>\n",
       "      <td>0.13</td>\n",
       "    </tr>\n",
       "    <tr>\n",
       "      <th>153</th>\n",
       "      <td>XOne</td>\n",
       "      <td>8.9</td>\n",
       "      <td>81.0</td>\n",
       "      <td>0.04</td>\n",
       "    </tr>\n",
       "    <tr>\n",
       "      <th>154</th>\n",
       "      <td>XOne</td>\n",
       "      <td>9.2</td>\n",
       "      <td>91.0</td>\n",
       "      <td>1.30</td>\n",
       "    </tr>\n",
       "  </tbody>\n",
       "</table>\n",
       "<p>155 rows × 4 columns</p>\n",
       "</div>"
      ],
      "text/plain": [
       "    platform  user_score  critic_score  total_sales\n",
       "0       XOne         2.1          39.0         0.12\n",
       "1       XOne         3.0          23.0         0.20\n",
       "2       XOne         3.1          20.0         0.09\n",
       "3       XOne         3.1          36.0         0.20\n",
       "4       XOne         3.1          56.0         0.01\n",
       "..       ...         ...           ...          ...\n",
       "150     XOne         8.5          81.0         0.31\n",
       "151     XOne         8.6          87.0         0.39\n",
       "152     XOne         8.7          85.0         0.13\n",
       "153     XOne         8.9          81.0         0.04\n",
       "154     XOne         9.2          91.0         1.30\n",
       "\n",
       "[155 rows x 4 columns]"
      ]
     },
     "execution_count": 42,
     "metadata": {},
     "output_type": "execute_result"
    }
   ],
   "source": [
    "xone_score = (new_df\n",
    "    .query('platform == \"XOne\"')\n",
    "    .pivot_table(index=['platform', 'user_score', 'critic_score'], values='total_sales', aggfunc='sum')\n",
    "    .reset_index()\n",
    ")\n",
    "xone_score"
   ]
  },
  {
   "cell_type": "code",
   "execution_count": 43,
   "metadata": {},
   "outputs": [
    {
     "data": {
      "text/plain": [
       "user_score     -0.068909\n",
       "critic_score    0.420686\n",
       "total_sales     1.000000\n",
       "Name: total_sales, dtype: float64"
      ]
     },
     "execution_count": 43,
     "metadata": {},
     "output_type": "execute_result"
    }
   ],
   "source": [
    "xone_score.corr()['total_sales']"
   ]
  },
  {
   "cell_type": "code",
   "execution_count": 44,
   "metadata": {
    "scrolled": true
   },
   "outputs": [
    {
     "data": {
      "text/plain": [
       "<AxesSubplot:>"
      ]
     },
     "execution_count": 44,
     "metadata": {},
     "output_type": "execute_result"
    },
    {
     "data": {
      "image/png": "[encoded data removed]",
      "text/plain": [
       "<Figure size 432x288 with 2 Axes>"
      ]
     },
     "metadata": {
      "needs_background": "light"
     },
     "output_type": "display_data"
    }
   ],
   "source": [
    "sns.heatmap(xone_score.corr(), annot=True)"
   ]
  },
  {
   "cell_type": "markdown",
   "metadata": {},
   "source": [
    "Pada heatmap chart terlihat bahwa korelasi penjualan (total_sales) dengan critic_score memiliki hubungan yang baik daripada penjualan dengan user_score. Dengan nilai critic_score/total_sales yaitu 0.42 mengindikasikan hubungan keduanya memiliki hubungan yang sedang. Lain hal dengan user_score/total_sales yang hanya memiliki nilai -0.069 yang juga mengindikasikan bahwa hubungan antar keduanya bisa dibilang tidak memiliki korelasi sama sekali."
   ]
  },
  {
   "cell_type": "code",
   "execution_count": 45,
   "metadata": {
    "scrolled": true
   },
   "outputs": [
    {
     "data": {
      "image/png": "[encoded data removed]",
      "text/plain": [
       "<Figure size 576x360 with 1 Axes>"
      ]
     },
     "metadata": {
      "needs_background": "light"
     },
     "output_type": "display_data"
    }
   ],
   "source": [
    "xone_score.plot(x='user_score', y='total_sales', kind='scatter', figsize=(8, 5),\n",
    "             grid=True, fontsize=15)\n",
    "\n",
    "plt.title('Sales berdasarkan Ulasan Pengguna untuk XOne', fontsize=15)\n",
    "plt.show()"
   ]
  },
  {
   "cell_type": "markdown",
   "metadata": {},
   "source": [
    "Ulasan Pengguna:\n",
    "   - Xbox One di kalangan para pengguna memiliki nilai yang baik dengan range nilai dari 6 - 9.\n",
    "   - Persebaran nilainya cukup merata, ini merupakan korelasi negatif dimana penilaian banyak berpusat di nilai yang rendah maupun tinggi."
   ]
  },
  {
   "cell_type": "code",
   "execution_count": 46,
   "metadata": {
    "scrolled": true
   },
   "outputs": [
    {
     "data": {
      "image/png": "[encoded data removed]",
      "text/plain": [
       "<Figure size 576x360 with 1 Axes>"
      ]
     },
     "metadata": {
      "needs_background": "light"
     },
     "output_type": "display_data"
    }
   ],
   "source": [
    "xone_score.plot(x='critic_score', y='total_sales', kind='scatter', figsize=(8, 5),\n",
    "             grid=True, fontsize=15)\n",
    "\n",
    "plt.title('Sales berdasarkan Ulasan Profesional untuk XOne', fontsize=15)\n",
    "plt.show()"
   ]
  },
  {
   "cell_type": "markdown",
   "metadata": {},
   "source": [
    "Ulasan Profesional:\n",
    "   - Xbox One cukup populer di kalangan para profesional karna memiliki nilai yang baik dengan range nilai dari 50 - 90 mendekati 100.\n",
    "   - Persebaran nilainya sangat baik, ini merupakan korelasi positif dimana penilaian banyak berpusat di nilai yang tinggi."
   ]
  },
  {
   "cell_type": "markdown",
   "metadata": {},
   "source": [
    "### Genre Sales"
   ]
  },
  {
   "cell_type": "markdown",
   "metadata": {},
   "source": [
    "Kita juga akan mempelajari penjualan pada genre game yang berpeluang untuk meningkatkan pendapatan."
   ]
  },
  {
   "cell_type": "code",
   "execution_count": 47,
   "metadata": {
    "scrolled": false
   },
   "outputs": [
    {
     "data": {
      "text/html": [
       "<div>\n",
       "<style scoped>\n",
       "    .dataframe tbody tr th:only-of-type {\n",
       "        vertical-align: middle;\n",
       "    }\n",
       "\n",
       "    .dataframe tbody tr th {\n",
       "        vertical-align: top;\n",
       "    }\n",
       "\n",
       "    .dataframe thead th {\n",
       "        text-align: right;\n",
       "    }\n",
       "</style>\n",
       "<table border=\"1\" class=\"dataframe\">\n",
       "  <thead>\n",
       "    <tr style=\"text-align: right;\">\n",
       "      <th></th>\n",
       "      <th>total_sales</th>\n",
       "    </tr>\n",
       "    <tr>\n",
       "      <th>genre</th>\n",
       "      <th></th>\n",
       "    </tr>\n",
       "  </thead>\n",
       "  <tbody>\n",
       "    <tr>\n",
       "      <th>Action</th>\n",
       "      <td>441.12</td>\n",
       "    </tr>\n",
       "    <tr>\n",
       "      <th>Shooter</th>\n",
       "      <td>304.73</td>\n",
       "    </tr>\n",
       "    <tr>\n",
       "      <th>Role-Playing</th>\n",
       "      <td>192.80</td>\n",
       "    </tr>\n",
       "    <tr>\n",
       "      <th>Sports</th>\n",
       "      <td>181.07</td>\n",
       "    </tr>\n",
       "    <tr>\n",
       "      <th>Misc</th>\n",
       "      <td>85.04</td>\n",
       "    </tr>\n",
       "    <tr>\n",
       "      <th>Platform</th>\n",
       "      <td>61.00</td>\n",
       "    </tr>\n",
       "    <tr>\n",
       "      <th>Racing</th>\n",
       "      <td>53.50</td>\n",
       "    </tr>\n",
       "    <tr>\n",
       "      <th>Fighting</th>\n",
       "      <td>44.49</td>\n",
       "    </tr>\n",
       "    <tr>\n",
       "      <th>Simulation</th>\n",
       "      <td>35.12</td>\n",
       "    </tr>\n",
       "    <tr>\n",
       "      <th>Adventure</th>\n",
       "      <td>29.43</td>\n",
       "    </tr>\n",
       "    <tr>\n",
       "      <th>Strategy</th>\n",
       "      <td>13.34</td>\n",
       "    </tr>\n",
       "    <tr>\n",
       "      <th>Puzzle</th>\n",
       "      <td>4.89</td>\n",
       "    </tr>\n",
       "  </tbody>\n",
       "</table>\n",
       "</div>"
      ],
      "text/plain": [
       "              total_sales\n",
       "genre                    \n",
       "Action             441.12\n",
       "Shooter            304.73\n",
       "Role-Playing       192.80\n",
       "Sports             181.07\n",
       "Misc                85.04\n",
       "Platform            61.00\n",
       "Racing              53.50\n",
       "Fighting            44.49\n",
       "Simulation          35.12\n",
       "Adventure           29.43\n",
       "Strategy            13.34\n",
       "Puzzle               4.89"
      ]
     },
     "execution_count": 47,
     "metadata": {},
     "output_type": "execute_result"
    }
   ],
   "source": [
    "genre_sales = new_df.pivot_table(index='genre', values='total_sales', aggfunc='sum')\n",
    "genre_sales = genre_sales.sort_values(by='total_sales', ascending=False)\n",
    "genre_sales"
   ]
  },
  {
   "cell_type": "code",
   "execution_count": 48,
   "metadata": {
    "scrolled": true
   },
   "outputs": [
    {
     "data": {
      "image/png": "[encoded data removed]",
      "text/plain": [
       "<Figure size 1008x432 with 1 Axes>"
      ]
     },
     "metadata": {
      "needs_background": "light"
     },
     "output_type": "display_data"
    }
   ],
   "source": [
    "plt.figure(figsize=(14, 6))\n",
    "sns.boxplot(data=new_df, x='genre', y='total_sales')\n",
    "plt.title('Sales by Genre Distribution', fontsize=15)\n",
    "plt.show()"
   ]
  },
  {
   "cell_type": "markdown",
   "metadata": {},
   "source": [
    "Genre Distribution:\n",
    "   - Nilai penjualan tertinggi di pegang oleh genre action dengan nilai 441 dolar sekian, sedangkan genre puzzle yang hanya memiliki nilai paling kecil yaitu 4.89 dolar penjualan.\n",
    "   - Berdasarkan grafik boxplot dari semua genre rata-rata memiliki nilai persebaran yang sama."
   ]
  },
  {
   "cell_type": "code",
   "execution_count": 49,
   "metadata": {
    "scrolled": true
   },
   "outputs": [
    {
     "data": {
      "text/plain": [
       "<AxesSubplot:xlabel='genre', ylabel='total_sales'>"
      ]
     },
     "execution_count": 49,
     "metadata": {},
     "output_type": "execute_result"
    },
    {
     "data": {
      "image/png": "[encoded data removed]",
      "text/plain": [
       "<Figure size 432x288 with 1 Axes>"
      ]
     },
     "metadata": {
      "needs_background": "light"
     },
     "output_type": "display_data"
    }
   ],
   "source": [
    "sns.boxplot(data=new_df[new_df['genre'] == 'Action'], x='genre', y='total_sales')"
   ]
  },
  {
   "cell_type": "code",
   "execution_count": 50,
   "metadata": {},
   "outputs": [
    {
     "data": {
      "text/html": [
       "<div>\n",
       "<style scoped>\n",
       "    .dataframe tbody tr th:only-of-type {\n",
       "        vertical-align: middle;\n",
       "    }\n",
       "\n",
       "    .dataframe tbody tr th {\n",
       "        vertical-align: top;\n",
       "    }\n",
       "\n",
       "    .dataframe thead th {\n",
       "        text-align: right;\n",
       "    }\n",
       "</style>\n",
       "<table border=\"1\" class=\"dataframe\">\n",
       "  <thead>\n",
       "    <tr style=\"text-align: right;\">\n",
       "      <th></th>\n",
       "      <th>total_sales</th>\n",
       "    </tr>\n",
       "    <tr>\n",
       "      <th>genre</th>\n",
       "      <th></th>\n",
       "    </tr>\n",
       "  </thead>\n",
       "  <tbody>\n",
       "    <tr>\n",
       "      <th>Shooter</th>\n",
       "      <td>1.296723</td>\n",
       "    </tr>\n",
       "    <tr>\n",
       "      <th>Platform</th>\n",
       "      <td>0.717647</td>\n",
       "    </tr>\n",
       "    <tr>\n",
       "      <th>Sports</th>\n",
       "      <td>0.675634</td>\n",
       "    </tr>\n",
       "    <tr>\n",
       "      <th>Role-Playing</th>\n",
       "      <td>0.521081</td>\n",
       "    </tr>\n",
       "    <tr>\n",
       "      <th>Racing</th>\n",
       "      <td>0.465217</td>\n",
       "    </tr>\n",
       "    <tr>\n",
       "      <th>Misc</th>\n",
       "      <td>0.442917</td>\n",
       "    </tr>\n",
       "    <tr>\n",
       "      <th>Simulation</th>\n",
       "      <td>0.439000</td>\n",
       "    </tr>\n",
       "    <tr>\n",
       "      <th>Action</th>\n",
       "      <td>0.427856</td>\n",
       "    </tr>\n",
       "    <tr>\n",
       "      <th>Fighting</th>\n",
       "      <td>0.408165</td>\n",
       "    </tr>\n",
       "    <tr>\n",
       "      <th>Strategy</th>\n",
       "      <td>0.187887</td>\n",
       "    </tr>\n",
       "    <tr>\n",
       "      <th>Puzzle</th>\n",
       "      <td>0.174643</td>\n",
       "    </tr>\n",
       "    <tr>\n",
       "      <th>Adventure</th>\n",
       "      <td>0.097450</td>\n",
       "    </tr>\n",
       "  </tbody>\n",
       "</table>\n",
       "</div>"
      ],
      "text/plain": [
       "              total_sales\n",
       "genre                    \n",
       "Shooter          1.296723\n",
       "Platform         0.717647\n",
       "Sports           0.675634\n",
       "Role-Playing     0.521081\n",
       "Racing           0.465217\n",
       "Misc             0.442917\n",
       "Simulation       0.439000\n",
       "Action           0.427856\n",
       "Fighting         0.408165\n",
       "Strategy         0.187887\n",
       "Puzzle           0.174643\n",
       "Adventure        0.097450"
      ]
     },
     "execution_count": 50,
     "metadata": {},
     "output_type": "execute_result"
    }
   ],
   "source": [
    "avg_sales_genre = new_df.pivot_table(index='genre', values='total_sales', aggfunc='mean')\n",
    "avg_sales_genre.sort_values(by='total_sales', ascending=False)"
   ]
  },
  {
   "cell_type": "markdown",
   "metadata": {},
   "source": [
    "Pada rata-rata penjualan berdasarkan genre game terlihat perbedaannya cukup signifikan, total sales paling tinggi ada pada genre shooter dengan nilai 1.29 sedangkan yang paling rendah adalah genre adventure dengan nilai 0.09 saja. Genre game merupakan salah satu aspek penting untuk di pertimbangkan para penggunanya."
   ]
  },
  {
   "cell_type": "markdown",
   "metadata": {},
   "source": [
    "## Pemrofilan Pengguna untuk Setiap Wilayah"
   ]
  },
  {
   "cell_type": "markdown",
   "metadata": {},
   "source": [
    "### Top 5 Platform"
   ]
  },
  {
   "cell_type": "markdown",
   "metadata": {},
   "source": [
    "Mencari tahu top 5 platform berdasarkan wilayah penjualannya masing-masing, mulai dari NA, lalu EU, dan JP."
   ]
  },
  {
   "cell_type": "code",
   "execution_count": 51,
   "metadata": {
    "scrolled": true
   },
   "outputs": [
    {
     "data": {
      "text/html": [
       "<div>\n",
       "<style scoped>\n",
       "    .dataframe tbody tr th:only-of-type {\n",
       "        vertical-align: middle;\n",
       "    }\n",
       "\n",
       "    .dataframe tbody tr th {\n",
       "        vertical-align: top;\n",
       "    }\n",
       "\n",
       "    .dataframe thead th {\n",
       "        text-align: right;\n",
       "    }\n",
       "</style>\n",
       "<table border=\"1\" class=\"dataframe\">\n",
       "  <thead>\n",
       "    <tr style=\"text-align: right;\">\n",
       "      <th></th>\n",
       "      <th>platform</th>\n",
       "      <th>na_sales</th>\n",
       "      <th>eu_sales</th>\n",
       "      <th>jp_sales</th>\n",
       "    </tr>\n",
       "  </thead>\n",
       "  <tbody>\n",
       "    <tr>\n",
       "      <th>0</th>\n",
       "      <td>3DS</td>\n",
       "      <td>55.31</td>\n",
       "      <td>42.64</td>\n",
       "      <td>87.79</td>\n",
       "    </tr>\n",
       "    <tr>\n",
       "      <th>1</th>\n",
       "      <td>DS</td>\n",
       "      <td>4.59</td>\n",
       "      <td>3.53</td>\n",
       "      <td>3.72</td>\n",
       "    </tr>\n",
       "    <tr>\n",
       "      <th>2</th>\n",
       "      <td>PC</td>\n",
       "      <td>19.12</td>\n",
       "      <td>37.76</td>\n",
       "      <td>0.00</td>\n",
       "    </tr>\n",
       "    <tr>\n",
       "      <th>3</th>\n",
       "      <td>PS3</td>\n",
       "      <td>103.38</td>\n",
       "      <td>106.86</td>\n",
       "      <td>35.29</td>\n",
       "    </tr>\n",
       "    <tr>\n",
       "      <th>4</th>\n",
       "      <td>PS4</td>\n",
       "      <td>108.74</td>\n",
       "      <td>141.09</td>\n",
       "      <td>15.96</td>\n",
       "    </tr>\n",
       "    <tr>\n",
       "      <th>5</th>\n",
       "      <td>PSP</td>\n",
       "      <td>0.13</td>\n",
       "      <td>0.42</td>\n",
       "      <td>10.47</td>\n",
       "    </tr>\n",
       "    <tr>\n",
       "      <th>6</th>\n",
       "      <td>PSV</td>\n",
       "      <td>10.98</td>\n",
       "      <td>11.36</td>\n",
       "      <td>21.04</td>\n",
       "    </tr>\n",
       "    <tr>\n",
       "      <th>7</th>\n",
       "      <td>Wii</td>\n",
       "      <td>17.45</td>\n",
       "      <td>11.92</td>\n",
       "      <td>3.39</td>\n",
       "    </tr>\n",
       "    <tr>\n",
       "      <th>8</th>\n",
       "      <td>WiiU</td>\n",
       "      <td>38.10</td>\n",
       "      <td>25.13</td>\n",
       "      <td>13.01</td>\n",
       "    </tr>\n",
       "    <tr>\n",
       "      <th>9</th>\n",
       "      <td>X360</td>\n",
       "      <td>140.05</td>\n",
       "      <td>74.52</td>\n",
       "      <td>1.57</td>\n",
       "    </tr>\n",
       "    <tr>\n",
       "      <th>10</th>\n",
       "      <td>XOne</td>\n",
       "      <td>93.12</td>\n",
       "      <td>51.59</td>\n",
       "      <td>0.34</td>\n",
       "    </tr>\n",
       "  </tbody>\n",
       "</table>\n",
       "</div>"
      ],
      "text/plain": [
       "   platform  na_sales  eu_sales  jp_sales\n",
       "0       3DS     55.31     42.64     87.79\n",
       "1        DS      4.59      3.53      3.72\n",
       "2        PC     19.12     37.76      0.00\n",
       "3       PS3    103.38    106.86     35.29\n",
       "4       PS4    108.74    141.09     15.96\n",
       "5       PSP      0.13      0.42     10.47\n",
       "6       PSV     10.98     11.36     21.04\n",
       "7       Wii     17.45     11.92      3.39\n",
       "8      WiiU     38.10     25.13     13.01\n",
       "9      X360    140.05     74.52      1.57\n",
       "10     XOne     93.12     51.59      0.34"
      ]
     },
     "execution_count": 51,
     "metadata": {},
     "output_type": "execute_result"
    }
   ],
   "source": [
    "top5_platform = new_df[['platform', 'na_sales', 'eu_sales', 'jp_sales']].groupby(['platform']).sum().reset_index()\n",
    "top5_platform"
   ]
  },
  {
   "cell_type": "code",
   "execution_count": 52,
   "metadata": {
    "scrolled": false
   },
   "outputs": [
    {
     "data": {
      "text/plain": [
       "<AxesSubplot:title={'center':'Sales by Platform'}, xlabel='platform'>"
      ]
     },
     "execution_count": 52,
     "metadata": {},
     "output_type": "execute_result"
    },
    {
     "data": {
      "image/png": "[encoded data removed]",
      "text/plain": [
       "<Figure size 720x360 with 1 Axes>"
      ]
     },
     "metadata": {
      "needs_background": "light"
     },
     "output_type": "display_data"
    }
   ],
   "source": [
    "top5_platform.plot(kind='bar', x='platform', figsize=(10, 5), title='Sales by Platform')"
   ]
  },
  {
   "cell_type": "code",
   "execution_count": 53,
   "metadata": {
    "scrolled": false
   },
   "outputs": [
    {
     "data": {
      "image/png": "[encoded data removed]",
      "text/plain": [
       "<Figure size 576x360 with 1 Axes>"
      ]
     },
     "metadata": {
      "needs_background": "light"
     },
     "output_type": "display_data"
    }
   ],
   "source": [
    "plt.figure(figsize=(8, 5))\n",
    "sns.barplot(data=top5_platform.sort_values(by='na_sales', ascending=False), x='platform', y='na_sales')\n",
    "plt.title('TOP 5 NA Sales by Platform')\n",
    "plt.show()"
   ]
  },
  {
   "cell_type": "markdown",
   "metadata": {},
   "source": [
    "Top5 NA Platform:\n",
    "   - Disimpulkan untuk wilayah NA, Top 5 Platform di kuasai oleh Xbox 360, PS4, PS3, Xbox One, dan Nintendo 3DS secara berurutan dari besar ke kecil\n",
    "   - Pada diagram batang menunjukkan Xbox 360 memiliki nilai paling tinggi, dimana penjualan mencapai nilai 140 dolar\n",
    "   - Sedangkan penjualan paling sedikit ada PSP, dimana tidak ada penjualan sama sekali"
   ]
  },
  {
   "cell_type": "code",
   "execution_count": 54,
   "metadata": {
    "scrolled": true
   },
   "outputs": [
    {
     "data": {
      "image/png": "[encoded data removed]",
      "text/plain": [
       "<Figure size 576x360 with 1 Axes>"
      ]
     },
     "metadata": {
      "needs_background": "light"
     },
     "output_type": "display_data"
    }
   ],
   "source": [
    "plt.figure(figsize=(8, 5))\n",
    "sns.barplot(data=top5_platform.sort_values(by='eu_sales', ascending=False), x='platform', y='eu_sales')\n",
    "plt.title('TOP 5 EU Sales by Platform')\n",
    "plt.show()"
   ]
  },
  {
   "cell_type": "markdown",
   "metadata": {},
   "source": [
    "Top5 EU Platform:\n",
    "   - Disimpulkan untuk wilayah EU, Top 5 Platform di kuasai oleh PS4, PS3, Xbox 360, Xbox One, dan Nintendo 3DS secara berurutan dari besar ke kecil\n",
    "   - Pada diagram batang menunjukkan PS4 memiliki nilai paling tinggi, dimana penjualan mencapai nilai 140 dolar\n",
    "   - Sedangkan penjualan paling sedikit ada PSP, dimana hampir tidak ada penjualan sama sekali"
   ]
  },
  {
   "cell_type": "code",
   "execution_count": 55,
   "metadata": {
    "scrolled": true
   },
   "outputs": [
    {
     "data": {
      "image/png": "[encoded data removed]",
      "text/plain": [
       "<Figure size 576x360 with 1 Axes>"
      ]
     },
     "metadata": {
      "needs_background": "light"
     },
     "output_type": "display_data"
    }
   ],
   "source": [
    "plt.figure(figsize=(8, 5))\n",
    "sns.barplot(data=top5_platform.sort_values(by='jp_sales', ascending=False), x='platform', y='jp_sales')\n",
    "plt.title('TOP 5 JP Sales by Platform')\n",
    "plt.show()"
   ]
  },
  {
   "cell_type": "markdown",
   "metadata": {},
   "source": [
    "Top5 JP Platform:\n",
    "   - Disimpulkan untuk wilayah JP, Top 5 Platform di kuasai oleh Nintendo 3DS, PS3, PSV, PS4, dan Nintendo WiiU secara berurutan dari besar ke kecil\n",
    "   - Pada diagram batang menunjukkan Nintendo 3DS memiliki nilai paling tinggi, dimana penjualan mencapai nilai 80 dolar lebih\n",
    "   - Sedangkan penjualan paling sedikit ada PC, dimana hampir tidak ada penjualan sama sekali"
   ]
  },
  {
   "cell_type": "markdown",
   "metadata": {},
   "source": [
    "### Top 5 Genre"
   ]
  },
  {
   "cell_type": "markdown",
   "metadata": {},
   "source": [
    "Mencari tahu top 5 Genre berdasarkan wilayah penjualannya masing-masing, mulai dari NA, lalu EU, dan JP."
   ]
  },
  {
   "cell_type": "code",
   "execution_count": 56,
   "metadata": {},
   "outputs": [
    {
     "data": {
      "text/html": [
       "<div>\n",
       "<style scoped>\n",
       "    .dataframe tbody tr th:only-of-type {\n",
       "        vertical-align: middle;\n",
       "    }\n",
       "\n",
       "    .dataframe tbody tr th {\n",
       "        vertical-align: top;\n",
       "    }\n",
       "\n",
       "    .dataframe thead th {\n",
       "        text-align: right;\n",
       "    }\n",
       "</style>\n",
       "<table border=\"1\" class=\"dataframe\">\n",
       "  <thead>\n",
       "    <tr style=\"text-align: right;\">\n",
       "      <th></th>\n",
       "      <th>genre</th>\n",
       "      <th>na_sales</th>\n",
       "      <th>eu_sales</th>\n",
       "      <th>jp_sales</th>\n",
       "    </tr>\n",
       "  </thead>\n",
       "  <tbody>\n",
       "    <tr>\n",
       "      <th>0</th>\n",
       "      <td>Action</td>\n",
       "      <td>177.84</td>\n",
       "      <td>159.34</td>\n",
       "      <td>52.80</td>\n",
       "    </tr>\n",
       "    <tr>\n",
       "      <th>1</th>\n",
       "      <td>Adventure</td>\n",
       "      <td>8.92</td>\n",
       "      <td>9.46</td>\n",
       "      <td>8.24</td>\n",
       "    </tr>\n",
       "    <tr>\n",
       "      <th>2</th>\n",
       "      <td>Fighting</td>\n",
       "      <td>19.79</td>\n",
       "      <td>10.79</td>\n",
       "      <td>9.44</td>\n",
       "    </tr>\n",
       "    <tr>\n",
       "      <th>3</th>\n",
       "      <td>Misc</td>\n",
       "      <td>38.19</td>\n",
       "      <td>26.32</td>\n",
       "      <td>12.86</td>\n",
       "    </tr>\n",
       "    <tr>\n",
       "      <th>4</th>\n",
       "      <td>Platform</td>\n",
       "      <td>25.38</td>\n",
       "      <td>21.41</td>\n",
       "      <td>8.63</td>\n",
       "    </tr>\n",
       "    <tr>\n",
       "      <th>5</th>\n",
       "      <td>Puzzle</td>\n",
       "      <td>1.13</td>\n",
       "      <td>1.40</td>\n",
       "      <td>2.14</td>\n",
       "    </tr>\n",
       "    <tr>\n",
       "      <th>6</th>\n",
       "      <td>Racing</td>\n",
       "      <td>17.22</td>\n",
       "      <td>27.29</td>\n",
       "      <td>2.50</td>\n",
       "    </tr>\n",
       "    <tr>\n",
       "      <th>7</th>\n",
       "      <td>Role-Playing</td>\n",
       "      <td>64.00</td>\n",
       "      <td>48.53</td>\n",
       "      <td>65.44</td>\n",
       "    </tr>\n",
       "    <tr>\n",
       "      <th>8</th>\n",
       "      <td>Shooter</td>\n",
       "      <td>144.77</td>\n",
       "      <td>113.47</td>\n",
       "      <td>9.23</td>\n",
       "    </tr>\n",
       "    <tr>\n",
       "      <th>9</th>\n",
       "      <td>Simulation</td>\n",
       "      <td>7.97</td>\n",
       "      <td>14.55</td>\n",
       "      <td>10.41</td>\n",
       "    </tr>\n",
       "    <tr>\n",
       "      <th>10</th>\n",
       "      <td>Sports</td>\n",
       "      <td>81.53</td>\n",
       "      <td>69.09</td>\n",
       "      <td>8.01</td>\n",
       "    </tr>\n",
       "    <tr>\n",
       "      <th>11</th>\n",
       "      <td>Strategy</td>\n",
       "      <td>4.23</td>\n",
       "      <td>5.17</td>\n",
       "      <td>2.88</td>\n",
       "    </tr>\n",
       "  </tbody>\n",
       "</table>\n",
       "</div>"
      ],
      "text/plain": [
       "           genre  na_sales  eu_sales  jp_sales\n",
       "0         Action    177.84    159.34     52.80\n",
       "1      Adventure      8.92      9.46      8.24\n",
       "2       Fighting     19.79     10.79      9.44\n",
       "3           Misc     38.19     26.32     12.86\n",
       "4       Platform     25.38     21.41      8.63\n",
       "5         Puzzle      1.13      1.40      2.14\n",
       "6         Racing     17.22     27.29      2.50\n",
       "7   Role-Playing     64.00     48.53     65.44\n",
       "8        Shooter    144.77    113.47      9.23\n",
       "9     Simulation      7.97     14.55     10.41\n",
       "10        Sports     81.53     69.09      8.01\n",
       "11      Strategy      4.23      5.17      2.88"
      ]
     },
     "execution_count": 56,
     "metadata": {},
     "output_type": "execute_result"
    }
   ],
   "source": [
    "top5_genre = new_df[['genre', 'na_sales', 'eu_sales', 'jp_sales']].groupby(['genre']).sum().reset_index()\n",
    "top5_genre"
   ]
  },
  {
   "cell_type": "code",
   "execution_count": 57,
   "metadata": {
    "scrolled": false
   },
   "outputs": [
    {
     "data": {
      "text/plain": [
       "<AxesSubplot:title={'center':'Sales by Genre'}, xlabel='genre'>"
      ]
     },
     "execution_count": 57,
     "metadata": {},
     "output_type": "execute_result"
    },
    {
     "data": {
      "image/png": "[encoded data removed]",
      "text/plain": [
       "<Figure size 720x360 with 1 Axes>"
      ]
     },
     "metadata": {
      "needs_background": "light"
     },
     "output_type": "display_data"
    }
   ],
   "source": [
    "top5_genre.plot(kind='bar', x='genre', figsize=(10, 5), title='Sales by Genre')"
   ]
  },
  {
   "cell_type": "code",
   "execution_count": 58,
   "metadata": {
    "scrolled": true
   },
   "outputs": [
    {
     "data": {
      "image/png": "[encoded data removed]",
      "text/plain": [
       "<Figure size 864x360 with 1 Axes>"
      ]
     },
     "metadata": {
      "needs_background": "light"
     },
     "output_type": "display_data"
    }
   ],
   "source": [
    "plt.figure(figsize=(12, 5))\n",
    "sns.barplot(data=top5_genre.sort_values(by='na_sales', ascending=False), x='genre', y='na_sales')\n",
    "plt.title('TOP 5 NA Sales by Genre')\n",
    "plt.show()"
   ]
  },
  {
   "cell_type": "markdown",
   "metadata": {},
   "source": [
    "Top5 NA Genre:\n",
    "   - Disimpulkan untuk wilayah NA, Top 5 Genre di kuasai oleh Action, Shooter, Sports, Role-Playing, dan Misc secara berurutan dari besar ke kecil\n",
    "   - Pada diagram batang menunjukkan Action memiliki nilai paling tinggi, dimana penjualan mencapai nilai 175 dolar\n",
    "   - Sedangkan penjualan paling sedikit ada Puzzle, dimana hampir tidak ada penjualan sama sekali"
   ]
  },
  {
   "cell_type": "code",
   "execution_count": 59,
   "metadata": {
    "scrolled": true
   },
   "outputs": [
    {
     "data": {
      "image/png": "[encoded data removed]",
      "text/plain": [
       "<Figure size 864x360 with 1 Axes>"
      ]
     },
     "metadata": {
      "needs_background": "light"
     },
     "output_type": "display_data"
    }
   ],
   "source": [
    "plt.figure(figsize=(12, 5))\n",
    "sns.barplot(data=top5_genre.sort_values(by='eu_sales', ascending=False), x='genre', y='eu_sales')\n",
    "plt.title('TOP 5 EU Sales by Genre')\n",
    "plt.show()"
   ]
  },
  {
   "cell_type": "markdown",
   "metadata": {},
   "source": [
    "Top5 EU Genre:\n",
    "   - Disimpulkan untuk wilayah EU, Top 5 Genre di kuasai oleh Action, Shooter, Sports, Role-Playing, dan Racing secara berurutan dari besar ke kecil\n",
    "   - Pada diagram batang menunjukkan Action memiliki nilai paling tinggi, dimana penjualan mencapai nilai 160 dolar\n",
    "   - Sedangkan penjualan paling sedikit ada PC, dimana hampir tidak ada penjualan sama sekali"
   ]
  },
  {
   "cell_type": "code",
   "execution_count": 60,
   "metadata": {
    "scrolled": true
   },
   "outputs": [
    {
     "data": {
      "image/png": "[encoded data removed]",
      "text/plain": [
       "<Figure size 864x360 with 1 Axes>"
      ]
     },
     "metadata": {
      "needs_background": "light"
     },
     "output_type": "display_data"
    }
   ],
   "source": [
    "plt.figure(figsize=(12, 5))\n",
    "sns.barplot(data=top5_genre.sort_values(by='jp_sales', ascending=False), x='genre', y='jp_sales')\n",
    "plt.title('TOP 5 JP Sales by Genre')\n",
    "plt.show()"
   ]
  },
  {
   "cell_type": "markdown",
   "metadata": {},
   "source": [
    "Top5 JP Genre:\n",
    "   - Disimpulkan untuk wilayah JP, Top 5 Genre di kuasai oleh Role-Playing, Action, Misc, Simulation, dan Fighting secara berurutan dari besar ke kecil\n",
    "   - Pada diagram batang menunjukkan Role_Playing memiliki nilai paling tinggi, dimana penjualan mencapai nilai 60 dolar lebih\n",
    "   - Sedangkan penjualan paling sedikit ada Puzzle, dimana penjualan hanya sekitar 3-5 dolar."
   ]
  },
  {
   "cell_type": "markdown",
   "metadata": {},
   "source": [
    "### Rating ESRB"
   ]
  },
  {
   "cell_type": "markdown",
   "metadata": {},
   "source": [
    "Mencari tahu top Rating ESRB berdasarkan wilayah penjualannya masing-masing, mulai dari NA, lalu EU, dan JP."
   ]
  },
  {
   "cell_type": "code",
   "execution_count": 61,
   "metadata": {},
   "outputs": [
    {
     "data": {
      "text/html": [
       "<div>\n",
       "<style scoped>\n",
       "    .dataframe tbody tr th:only-of-type {\n",
       "        vertical-align: middle;\n",
       "    }\n",
       "\n",
       "    .dataframe tbody tr th {\n",
       "        vertical-align: top;\n",
       "    }\n",
       "\n",
       "    .dataframe thead th {\n",
       "        text-align: right;\n",
       "    }\n",
       "</style>\n",
       "<table border=\"1\" class=\"dataframe\">\n",
       "  <thead>\n",
       "    <tr style=\"text-align: right;\">\n",
       "      <th></th>\n",
       "      <th>rating</th>\n",
       "      <th>na_sales</th>\n",
       "      <th>eu_sales</th>\n",
       "      <th>jp_sales</th>\n",
       "    </tr>\n",
       "  </thead>\n",
       "  <tbody>\n",
       "    <tr>\n",
       "      <th>0</th>\n",
       "      <td>E</td>\n",
       "      <td>114.37</td>\n",
       "      <td>113.03</td>\n",
       "      <td>28.33</td>\n",
       "    </tr>\n",
       "    <tr>\n",
       "      <th>1</th>\n",
       "      <td>E10+</td>\n",
       "      <td>75.70</td>\n",
       "      <td>55.37</td>\n",
       "      <td>8.19</td>\n",
       "    </tr>\n",
       "    <tr>\n",
       "      <th>2</th>\n",
       "      <td>M</td>\n",
       "      <td>231.57</td>\n",
       "      <td>193.96</td>\n",
       "      <td>21.20</td>\n",
       "    </tr>\n",
       "    <tr>\n",
       "      <th>3</th>\n",
       "      <td>T</td>\n",
       "      <td>66.02</td>\n",
       "      <td>52.96</td>\n",
       "      <td>26.02</td>\n",
       "    </tr>\n",
       "  </tbody>\n",
       "</table>\n",
       "</div>"
      ],
      "text/plain": [
       "  rating  na_sales  eu_sales  jp_sales\n",
       "0      E    114.37    113.03     28.33\n",
       "1   E10+     75.70     55.37      8.19\n",
       "2      M    231.57    193.96     21.20\n",
       "3      T     66.02     52.96     26.02"
      ]
     },
     "execution_count": 61,
     "metadata": {},
     "output_type": "execute_result"
    }
   ],
   "source": [
    "rating_esrb = new_df[['rating', 'na_sales', 'eu_sales', 'jp_sales']].groupby(['rating']).sum().reset_index()\n",
    "rating_esrb"
   ]
  },
  {
   "cell_type": "code",
   "execution_count": 62,
   "metadata": {
    "scrolled": false
   },
   "outputs": [
    {
     "data": {
      "text/plain": [
       "<AxesSubplot:xlabel='rating'>"
      ]
     },
     "execution_count": 62,
     "metadata": {},
     "output_type": "execute_result"
    },
    {
     "data": {
      "image/png": "[encoded data removed]",
      "text/plain": [
       "<Figure size 720x360 with 1 Axes>"
      ]
     },
     "metadata": {
      "needs_background": "light"
     },
     "output_type": "display_data"
    }
   ],
   "source": [
    "rating_esrb.plot(kind='bar', x='rating', figsize=(10, 5))"
   ]
  },
  {
   "cell_type": "code",
   "execution_count": 63,
   "metadata": {},
   "outputs": [
    {
     "data": {
      "image/png": "[encoded data removed]",
      "text/plain": [
       "<Figure size 432x288 with 1 Axes>"
      ]
     },
     "metadata": {
      "needs_background": "light"
     },
     "output_type": "display_data"
    }
   ],
   "source": [
    "sns.barplot(data=rating_esrb.sort_values(by='na_sales', ascending=False), x='rating', y='na_sales')\n",
    "plt.title('TOP 5 NA Sales by Rating')\n",
    "plt.show()"
   ]
  },
  {
   "cell_type": "markdown",
   "metadata": {},
   "source": [
    "Top Rating ESRB NA:\n",
    "   - Disimpulkan untuk wilayah NA, Top Rating ESRB di kuasai oleh M, E, E10+, dan T secara berurutan dari besar ke kecil\n",
    "   - Pada diagram batang menunjukkan rating M memiliki nilai paling tinggi, dimana penjualan mencapai nilai 200 dolar lebih\n",
    "   - Sedangkan penjualan paling sedikit ada rating T, dimana penjualan di sekitar 50 dolar."
   ]
  },
  {
   "cell_type": "code",
   "execution_count": 64,
   "metadata": {},
   "outputs": [
    {
     "data": {
      "image/png": "[encoded data removed]",
      "text/plain": [
       "<Figure size 432x288 with 1 Axes>"
      ]
     },
     "metadata": {
      "needs_background": "light"
     },
     "output_type": "display_data"
    }
   ],
   "source": [
    "sns.barplot(data=rating_esrb.sort_values(by='eu_sales', ascending=False), x='rating', y='eu_sales')\n",
    "plt.title('TOP 5 EU Sales by Rating')\n",
    "plt.show()"
   ]
  },
  {
   "cell_type": "markdown",
   "metadata": {},
   "source": [
    "Top Rating ESRB EU:\n",
    "   - Disimpulkan untuk wilayah EU, Top Rating ESRB di kuasai oleh M, E, E10+, dan T secara berurutan dari besar ke kecil\n",
    "   - Pada diagram batang menunjukkan rating M memiliki nilai paling tinggi, dimana penjualan mencapai nilai 175 dolar lebih\n",
    "   - Sedangkan penjualan paling sedikit ada rating T, dimana penjualan di sekitar 50 dolar."
   ]
  },
  {
   "cell_type": "code",
   "execution_count": 65,
   "metadata": {
    "scrolled": true
   },
   "outputs": [
    {
     "data": {
      "image/png": "[encoded data removed]",
      "text/plain": [
       "<Figure size 432x288 with 1 Axes>"
      ]
     },
     "metadata": {
      "needs_background": "light"
     },
     "output_type": "display_data"
    }
   ],
   "source": [
    "sns.barplot(data=rating_esrb.sort_values(by='jp_sales', ascending=False), x='rating', y='jp_sales')\n",
    "plt.title('TOP 5 JP Sales by Rating')\n",
    "plt.show()"
   ]
  },
  {
   "cell_type": "markdown",
   "metadata": {},
   "source": [
    "Top Rating ESRB JP:\n",
    "   - Disimpulkan untuk wilayah JP, Top Rating ESRB di kuasai oleh E, T, M, dan E10+ secara berurutan dari besar ke kecil\n",
    "   - Pada diagram batang menunjukkan rating E memiliki nilai paling tinggi, dimana penjualan mencapai nilai 25 dolar lebih\n",
    "   - Sedangkan penjualan paling sedikit ada rating E10+, dimana penjualan hanya sekitar 5-8 dolar."
   ]
  },
  {
   "cell_type": "markdown",
   "metadata": {},
   "source": [
    "## Uji Hipotesis"
   ]
  },
  {
   "cell_type": "markdown",
   "metadata": {},
   "source": [
    "### Uji pada Platform Xbox One dan PC"
   ]
  },
  {
   "cell_type": "markdown",
   "metadata": {},
   "source": [
    "Pengujian hipotesis statistik pertama kita akan membuat tabel platform_user_score untuk user_score yang di urutkan dengan year_of_release guna mencari relasi tahunnya. Setelah itu kita uji statistik berdasarkan Platform unggulan (Xbox One dan PC) untuk mengetahui H0 dan Ha."
   ]
  },
  {
   "cell_type": "markdown",
   "metadata": {},
   "source": [
    "Uji Statistik : Two sample t-test independent\n",
    "\n",
    "Hipotesis :\n",
    "   - H0 = Apabila rata-rata rating pengguna pada Platform Xbox One dan PC Sama\n",
    "   - Ha = Apabila rata-rata rating pengguna pada Platform Xbox One dan PC Tidak Sama\n",
    "   \n",
    "Alpha : 5% / 0.05"
   ]
  },
  {
   "cell_type": "code",
   "execution_count": 66,
   "metadata": {},
   "outputs": [
    {
     "data": {
      "text/html": [
       "<div>\n",
       "<style scoped>\n",
       "    .dataframe tbody tr th:only-of-type {\n",
       "        vertical-align: middle;\n",
       "    }\n",
       "\n",
       "    .dataframe tbody tr th {\n",
       "        vertical-align: top;\n",
       "    }\n",
       "\n",
       "    .dataframe thead th {\n",
       "        text-align: right;\n",
       "    }\n",
       "</style>\n",
       "<table border=\"1\" class=\"dataframe\">\n",
       "  <thead>\n",
       "    <tr style=\"text-align: right;\">\n",
       "      <th>platform</th>\n",
       "      <th>year_of_release</th>\n",
       "      <th>PC</th>\n",
       "      <th>XOne</th>\n",
       "    </tr>\n",
       "  </thead>\n",
       "  <tbody>\n",
       "    <tr>\n",
       "      <th>0</th>\n",
       "      <td>2012</td>\n",
       "      <td>6.911765</td>\n",
       "      <td>NaN</td>\n",
       "    </tr>\n",
       "    <tr>\n",
       "      <th>1</th>\n",
       "      <td>2013</td>\n",
       "      <td>6.163636</td>\n",
       "      <td>5.811765</td>\n",
       "    </tr>\n",
       "    <tr>\n",
       "      <th>2</th>\n",
       "      <td>2014</td>\n",
       "      <td>6.302632</td>\n",
       "      <td>6.738636</td>\n",
       "    </tr>\n",
       "    <tr>\n",
       "      <th>3</th>\n",
       "      <td>2015</td>\n",
       "      <td>6.294872</td>\n",
       "      <td>6.474545</td>\n",
       "    </tr>\n",
       "    <tr>\n",
       "      <th>4</th>\n",
       "      <td>2016</td>\n",
       "      <td>6.297778</td>\n",
       "      <td>6.598485</td>\n",
       "    </tr>\n",
       "  </tbody>\n",
       "</table>\n",
       "</div>"
      ],
      "text/plain": [
       "platform  year_of_release        PC      XOne\n",
       "0                    2012  6.911765       NaN\n",
       "1                    2013  6.163636  5.811765\n",
       "2                    2014  6.302632  6.738636\n",
       "3                    2015  6.294872  6.474545\n",
       "4                    2016  6.297778  6.598485"
      ]
     },
     "execution_count": 66,
     "metadata": {},
     "output_type": "execute_result"
    }
   ],
   "source": [
    "platform_user_score = (new_df\n",
    "    .query('platform == (\"XOne\", \"PC\")')\n",
    "    .pivot_table(index='year_of_release', columns='platform', values='user_score', aggfunc='mean')\n",
    "    .reset_index()\n",
    ")\n",
    "platform_user_score"
   ]
  },
  {
   "cell_type": "code",
   "execution_count": 67,
   "metadata": {
    "scrolled": true
   },
   "outputs": [
    {
     "name": "stdout",
     "output_type": "stream",
     "text": [
      "p-value:  0.9634451114076383\n",
      "Kita tidak bisa menolak hipotesis nol\n",
      "\n",
      "Rata-rata rating pengguna di xone 6.405857843137256\n",
      "Rata-rata rating pengguna di pc 6.394136444223132\n"
     ]
    }
   ],
   "source": [
    "from scipy import stats as st\n",
    "\n",
    "xone = platform_user_score['XOne']\n",
    "pc = platform_user_score['PC']\n",
    "\n",
    "alpha = 0.05\n",
    "\n",
    "results = st.ttest_ind(xone, pc, nan_policy='omit', equal_var=False)\n",
    "print('p-value: ', results.pvalue)\n",
    "\n",
    "if results.pvalue < alpha:\n",
    "    print(\"Kita menolak hipotesis nol\")\n",
    "else:\n",
    "    print(\"Kita tidak bisa menolak hipotesis nol\")\n",
    "print()\n",
    "print('Rata-rata rating pengguna di xone', xone.mean())\n",
    "print('Rata-rata rating pengguna di pc', pc.mean())"
   ]
  },
  {
   "cell_type": "markdown",
   "metadata": {},
   "source": [
    "Analisis statistik menunjukkan bahwa :\n",
    "  - P-Value Rata-rata Rating Pengguna untuk Platform Xbox One dan PC adalah 96%\n",
    "  - Kita tidak bisa menolak H0, yang mengindikasikan rata-rata Rating Pengguna untuk Platform Xbox One dan PC Sama\n",
    "\n",
    "Hasil analisis memang menunjukkan rata-rata rating pengguna dari Platform XOne dan PC Sama. Bisa jadi dikarenakan perhitungan dilakukan secara keseluruhan wilayah baik di NA, EU, JP, atau Other. Apabila kita lakukan perbandingan dengan spesfik  wilayah bisa jadi hasilnya akan berbeda."
   ]
  },
  {
   "cell_type": "markdown",
   "metadata": {},
   "source": [
    "### Uji pada Genre Action dan Sport"
   ]
  },
  {
   "cell_type": "markdown",
   "metadata": {},
   "source": [
    "Pengujian hipotesis statistik pertama kita akan membuat tabel platform_user_score untuk user_score yang di urutkan dengan year_of_release guna mencari relasi tahunnya. Setelah itu kita uji statistik berdasarkan Genre (Action dan Sports) untuk mengetahui H0 dan Ha."
   ]
  },
  {
   "cell_type": "markdown",
   "metadata": {},
   "source": [
    "Uji Statistik : Two sample t-test independent\n",
    "\n",
    "Hipotesis :\n",
    "   - H0 = Apabila rata-rata rating pengguna pada Genre Action dan Sport Sama\n",
    "   - Ha = Apabila rata-rata rating pengguna pada Genre Action dan Sport Tidak Sama\n",
    "   \n",
    "Alpha : 5% / 0.05"
   ]
  },
  {
   "cell_type": "code",
   "execution_count": 68,
   "metadata": {},
   "outputs": [
    {
     "data": {
      "text/html": [
       "<div>\n",
       "<style scoped>\n",
       "    .dataframe tbody tr th:only-of-type {\n",
       "        vertical-align: middle;\n",
       "    }\n",
       "\n",
       "    .dataframe tbody tr th {\n",
       "        vertical-align: top;\n",
       "    }\n",
       "\n",
       "    .dataframe thead th {\n",
       "        text-align: right;\n",
       "    }\n",
       "</style>\n",
       "<table border=\"1\" class=\"dataframe\">\n",
       "  <thead>\n",
       "    <tr style=\"text-align: right;\">\n",
       "      <th>genre</th>\n",
       "      <th>year_of_release</th>\n",
       "      <th>Action</th>\n",
       "      <th>Sports</th>\n",
       "    </tr>\n",
       "  </thead>\n",
       "  <tbody>\n",
       "    <tr>\n",
       "      <th>0</th>\n",
       "      <td>2012</td>\n",
       "      <td>6.788806</td>\n",
       "      <td>6.451429</td>\n",
       "    </tr>\n",
       "    <tr>\n",
       "      <th>1</th>\n",
       "      <td>2013</td>\n",
       "      <td>7.085870</td>\n",
       "      <td>5.287879</td>\n",
       "    </tr>\n",
       "    <tr>\n",
       "      <th>2</th>\n",
       "      <td>2014</td>\n",
       "      <td>6.672115</td>\n",
       "      <td>5.273333</td>\n",
       "    </tr>\n",
       "    <tr>\n",
       "      <th>3</th>\n",
       "      <td>2015</td>\n",
       "      <td>6.941667</td>\n",
       "      <td>5.006667</td>\n",
       "    </tr>\n",
       "    <tr>\n",
       "      <th>4</th>\n",
       "      <td>2016</td>\n",
       "      <td>6.638824</td>\n",
       "      <td>5.432432</td>\n",
       "    </tr>\n",
       "  </tbody>\n",
       "</table>\n",
       "</div>"
      ],
      "text/plain": [
       "genre  year_of_release    Action    Sports\n",
       "0                 2012  6.788806  6.451429\n",
       "1                 2013  7.085870  5.287879\n",
       "2                 2014  6.672115  5.273333\n",
       "3                 2015  6.941667  5.006667\n",
       "4                 2016  6.638824  5.432432"
      ]
     },
     "execution_count": 68,
     "metadata": {},
     "output_type": "execute_result"
    }
   ],
   "source": [
    "genre_user_score = (new_df\n",
    "    .query('genre == (\"Action\", \"Sports\")')\n",
    "    .pivot_table(index='year_of_release', columns='genre', values='user_score', aggfunc='mean')\n",
    "    .reset_index()\n",
    ")\n",
    "genre_user_score"
   ]
  },
  {
   "cell_type": "code",
   "execution_count": 69,
   "metadata": {
    "scrolled": true
   },
   "outputs": [
    {
     "name": "stdout",
     "output_type": "stream",
     "text": [
      "p-value:  0.004132522675694991\n",
      "Kita menolak hipotesis nol\n",
      "\n",
      "Rata-rata rating pengguna di Action 6.8254562232120914\n",
      "Rata-rata rating pengguna di Sport 5.490347958347959\n"
     ]
    }
   ],
   "source": [
    "from scipy import stats as st\n",
    "\n",
    "action = genre_user_score['Action']\n",
    "sport = genre_user_score['Sports']\n",
    "\n",
    "alpha = 0.05\n",
    "\n",
    "results = st.ttest_ind(action, sport, nan_policy='omit', equal_var=False)\n",
    "print('p-value: ', results.pvalue)\n",
    "\n",
    "if results.pvalue < alpha:\n",
    "    print(\"Kita menolak hipotesis nol\")\n",
    "else:\n",
    "    print(\"Kita tidak bisa menolak hipotesis nol\")\n",
    "print()\n",
    "print('Rata-rata rating pengguna di Action', action.mean())\n",
    "print('Rata-rata rating pengguna di Sport', sport.mean())"
   ]
  },
  {
   "cell_type": "markdown",
   "metadata": {},
   "source": [
    "Analisis statistik menunjukkan bahwa :\n",
    "  - P-Value Rata-rata Rating Pengguna untuk Genre Action dan Sport adalah 0.41%\n",
    "  - Kita menolak H0, yang mengindikasikan rata-rata Rating Pengguna untuk Genre Action dan Sport Tidak Sama\n",
    "\n",
    "Hasil analisis memang menunjukkan rata-rata rating pengguna dari genre Action dan Sports Tidak Sama. Bisa jadi dikarenakan genre Action bisa dinikmati oleh semua kalangan sebagai entertainment, sedangkan genre Sports terkesan game serius yang butuh skill yang baik seperti in real life bagi beberapa orang terlihat pada nilai rata-ratanya yang hanya 5.4 berbanding dengan action yang 6.8. Kembali lagi pada minat orang yang berbeda-beda tidak menutup kemungkinan bahwa kebutuhan akan hiburan pengguna game bisa bervariasi tergantung oleh musim atau kepopuleran game itu sendiri atau hal lainnya."
   ]
  },
  {
   "cell_type": "markdown",
   "metadata": {},
   "source": [
    "## Kesimpulan Umum"
   ]
  },
  {
   "cell_type": "markdown",
   "metadata": {},
   "source": [
    "Diawali dengan inisialisasi library menggunakan pandas, numpy, matplotlib, seaborn, dan scipy.stats. Lalu kita memuat datasetnya dengan nama df dan memiliki 16715 total baris serta kolomnya yang terdiri dari 'Name', 'Platform', 'Year_of_Release', 'Genre', 'NA_sales', 'EU_sales', 'JP_sales', 'Other_sales', 'Critic_Score', 'User_Score', 'Rating'.\n",
    "\n",
    "Mempersiapkan data:\n",
    "   - Memperbaiki nilai yang hilang pada kolom Years_of_Release dengan nilai 0. Sedangkan pada kolom Critic_Score, Rating, dan User_Score akan kita hiraukan dahulu. Pada kolom Name, dan Genre akan kita eliminasi mengingat hanya 2 nilai yang hilang dari total 16715 baris.\n",
    "   - Mengganti nilai 'tbd' pada kolom user_score menjadi nilai NaN menggunakan numpy\n",
    "   - Mengubah tipe data pada kolom year_of_release menjadi int, dan kolom user_score menjadi float.\n",
    "\n",
    "Mempelajari parameter data:\n",
    "   - Pada hasil grafik batang menunjukkan bahwa game yang paling banyak dirilis yaitu pada tahun 2007 - 2011, dengan tahun 2008 dan 2009 yang memiliki perilisan game paling banyak lebih dari 1400 game per tahunnya. Akan tetapi terjadi penurunan yang signifikan pada tahun 2012.\n",
    "   - Sedangkan pada grafik untuk platform 'PS2' memiliki penjualan paling banyak hingga lebih dari 1200 dolar, kemudian ada Xbox 360, PS 3, dan lainnya. Mengingat data yang kita miliki merupakan data dari tahun 1980 hingga tahun 2016, kita hanya memiliki sedikit informasi apakah data tersebut relevan dengan tahun saat ini. Bisa jadi untuk tahun sekarang Xbox One atau PC yang memiliki penjualan paling banyak.\n",
    "\n",
    "Analisis data:\n",
    "   - Setelah kita mensortir datanya untuk 5 tahun kebelakang, sekarang kita memiliki data yang relevan dengan PS4 yang memiliki nilai tertinggi dengan lebih dari 300 dolar penjualan. Mengingat PS4 merupakan platform dengan keluaran terbaru dari pendahulunya yaitu PS3 ataupun PS2 ini mengindikasikan juga bahwa data historis perlu kita teliti kembali untuk mencari aktual data yang eksis untuk waktu sekarang.\n",
    "   - Pengujian heatmap chart terlihat bahwa korelasi penjualan (total_sales) dengan critic_score memiliki hubungan yang baik daripada penjualan dengan user_score. Dengan nilai critic_score/total_sales yaitu 0.42 mengindikasikan hubungan keduanya memiliki hubungan yang sedang. Lain hal dengan user_score/total_sales yang hanya memiliki nilai -0.019 yang juga mengindikasikan bahwa hubungan antar keduanya bisa dibilang tidak memiliki korelasi sama sekali.\n",
    "   - Genre Distribution, nilai penjualan tertinggi di pegang oleh genre action dengan nilai 441 dolar sekian, sedangkan genre puzzle yang hanya memiliki nilai paling kecil yaitu 4.89 dolar penjualan. Berdasarkan grafik boxplot dari semua genre rata-rata memiliki nilai persebaran yang sama.\n",
    "   \n",
    "Pemrofilan pengguna tiap wilayah:\n",
    "1. Profil Penjualan berdasarkan Platform:\n",
    "   - Top 5 Platform untuk wilayah NA di kuasai oleh Xbox 360, PS4, PS3, Xbox One, dan Nintendo 3DS.\n",
    "   - Top 5 Platform untuk wilayah EU di kuasai oleh PS4, PS3, Xbox 360, Xbox One, dan Nintendo 3DS.\n",
    "   - Top 5 Platform untuk wilayah JP di kuasai oleh Nintendo 3DS, PS3, PSV, PS4, dan Nintendo WiiU.\n",
    "\n",
    "\n",
    "2. Profil Penjualan berdasarkan Genre:\n",
    "   - Top 5 Genre untuk wilayah NA terbanyak adalah Action, Shooter, Sports, Role-Playing, dan Misc.\n",
    "   - Top 5 Genre untuk wilayah EU terbanyak adalah Action, Shooter, Sports, Role-Playing, dan Racing.\n",
    "   - Top 5 Genre untuk wilayah JP terbanyak adalah Role-Playing, Action, Misc, Simulation, dan Fighting.\n",
    "\n",
    "\n",
    "3. Profil Rating:\n",
    "   - Top Rating ESRB untuk wilayah NA dari besar ke kecil adalah M, E, E10+, dan T.\n",
    "   - Top Rating ESRB untuk wilayah EU dari besar ke kecil adalah M, E, E10+, dan T.\n",
    "   - Top Rating ESRB untuk wilayah JP dari besar ke kecil adalah E, T, M, dan E10+.\n",
    "\n",
    "Uji Hipotesis:\n",
    " - Uji Statistik : Two sample t-test independent \n",
    " - Alpha : 5% / 0.05\n",
    "\n",
    "1. Uji Rating Pengguna pada Platform XOne dan PC:\n",
    "    - Hipotesis :\n",
    "       - H0 = Apabila rata-rata rating pengguna pada Platform Xbox One dan PC Sama\n",
    "       - Ha = Apabila rata-rata rating pengguna pada Platform Xbox One dan PC Tidak Sama\n",
    "    - P-Value Rata-rata Rating Pengguna untuk Platform Xbox One dan PC adalah 96%.\n",
    "    - Kita tidak bisa menolak H0, yang mengindikasikan rata-rata Rating Pengguna untuk Platform Xbox One dan PC Sama.\n",
    "    - Hasil analisis menunjukkan rata-rata rating pengguna dari Platform XOne dan PC Sama. Bisa jadi dikarenakan perhitungan dilakukan secara keseluruhan wilayah baik di NA, EU, JP, atau Other. Apabila kita lakukan perbandingan dengan spesfik di satu wilayah bisa jadi hasilnya akan berbeda.\n",
    "\n",
    "\n",
    "2. Uji Rating Pengguna pada Genre Action dan Sports:\n",
    "    - Hipotesis :\n",
    "       - H0 = Apabila rata-rata rating pengguna pada Genre Action dan Sport Sama\n",
    "       - Ha = Apabila rata-rata rating pengguna pada Genre Action dan Sport Tidak Sama\n",
    "    - P-Value Rata-rata Rating Pengguna untuk Genre Action dan Sport adalah 0.41%.\n",
    "    - Kita menolak H0, yang mengindikasikan rata-rata Rating Pengguna untuk Genre Action dan Sport Tidak Sama.\n",
    "    - Hasil analisis memang menunjukkan rata-rata rating pengguna dari genre Action dan Sports Tidak Sama. Bisa jadi dikarenakan genre Action bisa dinikmati oleh semua kalangan sebagai entertainment, sedangkan genre Sports terkesan game serius yang butuh skill yang baik seperti in real life bagi beberapa orang. Terlihat pada nilai rata-ratanya yang hanya 5.4 berbanding dengan action yang 6.8. Kembali lagi pada minat orang yang berbeda-beda tidak menutup kemungkinan bahwa kebutuhan akan hiburan pengguna game bisa bervariasi tergantung oleh musim atau kepopuleran game itu sendiri atau hal lainnya.\n",
    "    \n",
    "Diakhiri dengan hipotesis menyimpulkan bahwa kemungkinan rating pengguna bisa jadi tidak akan berubah atau akan sama hasilnya untuk pengguna pada platform Xbox One maupun PC dengan nilai p-value yang tinggi di angka 96% dari 5 tahun terakhir hingga tahun sekarang. Sedangkan untuk kemungkinan rating pengguna pada genre game yang dimainkan mendapati perubahan atau tidak selalu sama dari 5 tahun kebelakang hingga saat ini, dengan nilai p-value yang menunjukkan angka 0.41% probability.\n",
    "\n",
    "Kesimpulan untuk menjawab tujuan kita yaitu, platform yang memiliki potensi penjualan yang baik terdapat pada PS4 mengingat platform tersebut memiliki nilai total sales terbanyak selama 5 tahun kebelakang, serta PS4 selalu memiliki penjualan di semua wilayah yang diuji. Lalu pada genre yang paling populer yaitu Action. "
   ]
  }
 ],
 "metadata": {
  "kernelspec": {
   "display_name": "Python 3 (ipykernel)",
   "language": "python",
   "name": "python3"
  },
  "language_info": {
   "codemirror_mode": {
    "name": "ipython",
    "version": 3
   },
   "file_extension": ".py",
   "mimetype": "text/x-python",
   "name": "python",
   "nbconvert_exporter": "python",
   "pygments_lexer": "ipython3",
   "version": "3.11.4"
  },
  "toc": {
   "base_numbering": 1,
   "nav_menu": {},
   "number_sections": true,
   "sideBar": true,
   "skip_h1_title": true,
   "title_cell": "Table of Contents",
   "title_sidebar": "Contents",
   "toc_cell": false,
   "toc_position": {},
   "toc_section_display": true,
   "toc_window_display": true
  }
 },
 "nbformat": 4,
 "nbformat_minor": 2
}
