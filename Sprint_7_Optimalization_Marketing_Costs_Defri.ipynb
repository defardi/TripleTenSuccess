{
 "cells": [
  {
   "cell_type": "markdown",
   "metadata": {},
   "source": [
    "# Optimalization Marketing Costs"
   ]
  },
  {
   "cell_type": "markdown",
   "metadata": {},
   "source": [
    "Kamu berhasil menunjukkan kinerja yang cemerlang selama mengikuti kursus TripleTen. Karena itu, kamu pun ditawarkan kesempatan untuk menjalani program magang di departemen analitik perusahaan Y.Afisha. Nah, tugas pertama yang mereka berikan kepadamu adalah membantu mengoptimalkan anggaran biaya pemasaran. \n",
    "\n",
    "Kamu dibekali dengan:\n",
    "   - Log/catatan server yang memuat data kunjungan ke situs Y.Afisha dari bulan Januari 2017 hingga bulan Desember 2018\n",
    "   - File dump yang memuat semua pesanan untuk periode tersebut\n",
    "   - Statistik biaya pemasaran"
   ]
  },
  {
   "cell_type": "markdown",
   "metadata": {},
   "source": [
    "Tujuan : \n",
    "\n",
    "    Merancang metrik untuk pengoptimalan biaya pemasaran pada periode bulan Januari 2017 hingga bulan Desember 2018 berdasarkan data kunjungan ke situs dan semua pesanan."
   ]
  },
  {
   "cell_type": "markdown",
   "metadata": {},
   "source": [
    "Kerangka Konsep :\n",
    "    1. Mempersiapkan Data\n",
    "    2. Memperbaiki Data\n",
    "    3. Menganalisis Data\n",
    "    4. Kesimpulan Umum"
   ]
  },
  {
   "cell_type": "markdown",
   "metadata": {},
   "source": [
    "## Deskripsi Data"
   ]
  },
  {
   "cell_type": "markdown",
   "metadata": {},
   "source": [
    "Dataframe `visits` memuat:\n",
    "   - `Uid` — ID pengguna\n",
    "   - `Device` — Perangkat Pengguna\n",
    "   - `Start Ts` — Tanggal dan waktu dimulainya sesi\n",
    "   - `End Ts` — Tanggal dan waktu dimulainya sesi\n",
    "   - `Source Id` — ID sumber iklan, sumber yang digunakan pengguna untuk datang ke situs web"
   ]
  },
  {
   "cell_type": "markdown",
   "metadata": {},
   "source": [
    "Dataframe `order` memuat:\n",
    "   - `Uid` — ID pengguna yang membuat pesanan\n",
    "   - `Buy Ts` — Tanggal dan waktu pesanan dibuat\n",
    "   - `Revenue` — Pendapatan Y.Afisha dari pesanan tersebut"
   ]
  },
  {
   "cell_type": "markdown",
   "metadata": {},
   "source": [
    "Dataframe `costs` memuat:\n",
    "   - `source_id` — ID sumber iklan\n",
    "   - `dt` — Tanggal\n",
    "   - `costs` — Pengeluaran untuk sumber iklan pada tanggal tersebut"
   ]
  },
  {
   "cell_type": "markdown",
   "metadata": {},
   "source": [
    "## Inisialisasi Library"
   ]
  },
  {
   "cell_type": "markdown",
   "metadata": {},
   "source": [
    "import libraries"
   ]
  },
  {
   "cell_type": "code",
   "execution_count": 554,
   "metadata": {},
   "outputs": [],
   "source": [
    "import pandas as pd\n",
    "import numpy as np\n",
    "import seaborn as sns\n",
    "import matplotlib.pyplot as plt"
   ]
  },
  {
   "cell_type": "markdown",
   "metadata": {},
   "source": [
    "## Mengenal Data"
   ]
  },
  {
   "cell_type": "markdown",
   "metadata": {},
   "source": [
    "Memuat data"
   ]
  },
  {
   "cell_type": "code",
   "execution_count": 555,
   "metadata": {},
   "outputs": [],
   "source": [
    "visits = pd.read_csv(\n",
    "    '/datasets/visits_log_us.csv', \n",
    "    dtype={'Device': 'category'}, \n",
    "    parse_dates=['Start Ts', 'End Ts'])"
   ]
  },
  {
   "cell_type": "code",
   "execution_count": 556,
   "metadata": {},
   "outputs": [],
   "source": [
    "orders = pd.read_csv('/datasets/orders_log_us.csv')"
   ]
  },
  {
   "cell_type": "code",
   "execution_count": 557,
   "metadata": {},
   "outputs": [],
   "source": [
    "costs = pd.read_csv('/datasets/costs_us.csv')"
   ]
  },
  {
   "cell_type": "markdown",
   "metadata": {},
   "source": [
    "### Data Visit"
   ]
  },
  {
   "cell_type": "markdown",
   "metadata": {},
   "source": [
    "Identifikasi data"
   ]
  },
  {
   "cell_type": "code",
   "execution_count": 558,
   "metadata": {},
   "outputs": [
    {
     "name": "stdout",
     "output_type": "stream",
     "text": [
      "<class 'pandas.core.frame.DataFrame'>\n",
      "RangeIndex: 359400 entries, 0 to 359399\n",
      "Data columns (total 5 columns):\n",
      " #   Column     Non-Null Count   Dtype         \n",
      "---  ------     --------------   -----         \n",
      " 0   Device     359400 non-null  category      \n",
      " 1   End Ts     359400 non-null  datetime64[ns]\n",
      " 2   Source Id  359400 non-null  int64         \n",
      " 3   Start Ts   359400 non-null  datetime64[ns]\n",
      " 4   Uid        359400 non-null  uint64        \n",
      "dtypes: category(1), datetime64[ns](2), int64(1), uint64(1)\n",
      "memory usage: 11.3 MB\n"
     ]
    }
   ],
   "source": [
    "visits.info()"
   ]
  },
  {
   "cell_type": "code",
   "execution_count": 559,
   "metadata": {
    "scrolled": true
   },
   "outputs": [
    {
     "data": {
      "text/html": [
       "<div>\n",
       "<style scoped>\n",
       "    .dataframe tbody tr th:only-of-type {\n",
       "        vertical-align: middle;\n",
       "    }\n",
       "\n",
       "    .dataframe tbody tr th {\n",
       "        vertical-align: top;\n",
       "    }\n",
       "\n",
       "    .dataframe thead th {\n",
       "        text-align: right;\n",
       "    }\n",
       "</style>\n",
       "<table border=\"1\" class=\"dataframe\">\n",
       "  <thead>\n",
       "    <tr style=\"text-align: right;\">\n",
       "      <th></th>\n",
       "      <th>Device</th>\n",
       "      <th>End Ts</th>\n",
       "      <th>Source Id</th>\n",
       "      <th>Start Ts</th>\n",
       "      <th>Uid</th>\n",
       "    </tr>\n",
       "  </thead>\n",
       "  <tbody>\n",
       "    <tr>\n",
       "      <th>0</th>\n",
       "      <td>touch</td>\n",
       "      <td>2017-12-20 17:38:00</td>\n",
       "      <td>4</td>\n",
       "      <td>2017-12-20 17:20:00</td>\n",
       "      <td>16879256277535980062</td>\n",
       "    </tr>\n",
       "    <tr>\n",
       "      <th>1</th>\n",
       "      <td>desktop</td>\n",
       "      <td>2018-02-19 17:21:00</td>\n",
       "      <td>2</td>\n",
       "      <td>2018-02-19 16:53:00</td>\n",
       "      <td>104060357244891740</td>\n",
       "    </tr>\n",
       "    <tr>\n",
       "      <th>2</th>\n",
       "      <td>touch</td>\n",
       "      <td>2017-07-01 01:54:00</td>\n",
       "      <td>5</td>\n",
       "      <td>2017-07-01 01:54:00</td>\n",
       "      <td>7459035603376831527</td>\n",
       "    </tr>\n",
       "    <tr>\n",
       "      <th>3</th>\n",
       "      <td>desktop</td>\n",
       "      <td>2018-05-20 11:23:00</td>\n",
       "      <td>9</td>\n",
       "      <td>2018-05-20 10:59:00</td>\n",
       "      <td>16174680259334210214</td>\n",
       "    </tr>\n",
       "    <tr>\n",
       "      <th>4</th>\n",
       "      <td>desktop</td>\n",
       "      <td>2017-12-27 14:06:00</td>\n",
       "      <td>3</td>\n",
       "      <td>2017-12-27 14:06:00</td>\n",
       "      <td>9969694820036681168</td>\n",
       "    </tr>\n",
       "    <tr>\n",
       "      <th>5</th>\n",
       "      <td>desktop</td>\n",
       "      <td>2017-09-03 21:36:00</td>\n",
       "      <td>5</td>\n",
       "      <td>2017-09-03 21:35:00</td>\n",
       "      <td>16007536194108375387</td>\n",
       "    </tr>\n",
       "    <tr>\n",
       "      <th>6</th>\n",
       "      <td>desktop</td>\n",
       "      <td>2018-01-30 12:09:00</td>\n",
       "      <td>1</td>\n",
       "      <td>2018-01-30 11:13:00</td>\n",
       "      <td>6661610529277171451</td>\n",
       "    </tr>\n",
       "    <tr>\n",
       "      <th>7</th>\n",
       "      <td>touch</td>\n",
       "      <td>2017-11-05 15:15:00</td>\n",
       "      <td>3</td>\n",
       "      <td>2017-11-05 15:14:00</td>\n",
       "      <td>11423865690854540312</td>\n",
       "    </tr>\n",
       "    <tr>\n",
       "      <th>8</th>\n",
       "      <td>desktop</td>\n",
       "      <td>2017-07-19 10:44:00</td>\n",
       "      <td>3</td>\n",
       "      <td>2017-07-19 10:41:00</td>\n",
       "      <td>2987360259350925644</td>\n",
       "    </tr>\n",
       "    <tr>\n",
       "      <th>9</th>\n",
       "      <td>desktop</td>\n",
       "      <td>2017-11-08 13:43:00</td>\n",
       "      <td>5</td>\n",
       "      <td>2017-11-08 13:42:00</td>\n",
       "      <td>1289240080042562063</td>\n",
       "    </tr>\n",
       "  </tbody>\n",
       "</table>\n",
       "</div>"
      ],
      "text/plain": [
       "    Device              End Ts  Source Id            Start Ts  \\\n",
       "0    touch 2017-12-20 17:38:00          4 2017-12-20 17:20:00   \n",
       "1  desktop 2018-02-19 17:21:00          2 2018-02-19 16:53:00   \n",
       "2    touch 2017-07-01 01:54:00          5 2017-07-01 01:54:00   \n",
       "3  desktop 2018-05-20 11:23:00          9 2018-05-20 10:59:00   \n",
       "4  desktop 2017-12-27 14:06:00          3 2017-12-27 14:06:00   \n",
       "5  desktop 2017-09-03 21:36:00          5 2017-09-03 21:35:00   \n",
       "6  desktop 2018-01-30 12:09:00          1 2018-01-30 11:13:00   \n",
       "7    touch 2017-11-05 15:15:00          3 2017-11-05 15:14:00   \n",
       "8  desktop 2017-07-19 10:44:00          3 2017-07-19 10:41:00   \n",
       "9  desktop 2017-11-08 13:43:00          5 2017-11-08 13:42:00   \n",
       "\n",
       "                    Uid  \n",
       "0  16879256277535980062  \n",
       "1    104060357244891740  \n",
       "2   7459035603376831527  \n",
       "3  16174680259334210214  \n",
       "4   9969694820036681168  \n",
       "5  16007536194108375387  \n",
       "6   6661610529277171451  \n",
       "7  11423865690854540312  \n",
       "8   2987360259350925644  \n",
       "9   1289240080042562063  "
      ]
     },
     "execution_count": 559,
     "metadata": {},
     "output_type": "execute_result"
    }
   ],
   "source": [
    "visits.head(10)"
   ]
  },
  {
   "cell_type": "markdown",
   "metadata": {},
   "source": [
    "Mengecek data duplikat dan data missing"
   ]
  },
  {
   "cell_type": "code",
   "execution_count": 560,
   "metadata": {},
   "outputs": [
    {
     "data": {
      "text/plain": [
       "0"
      ]
     },
     "execution_count": 560,
     "metadata": {},
     "output_type": "execute_result"
    }
   ],
   "source": [
    "visits.duplicated().sum()"
   ]
  },
  {
   "cell_type": "code",
   "execution_count": 561,
   "metadata": {},
   "outputs": [
    {
     "data": {
      "text/html": [
       "<div>\n",
       "<style scoped>\n",
       "    .dataframe tbody tr th:only-of-type {\n",
       "        vertical-align: middle;\n",
       "    }\n",
       "\n",
       "    .dataframe tbody tr th {\n",
       "        vertical-align: top;\n",
       "    }\n",
       "\n",
       "    .dataframe thead th {\n",
       "        text-align: right;\n",
       "    }\n",
       "</style>\n",
       "<table border=\"1\" class=\"dataframe\">\n",
       "  <thead>\n",
       "    <tr style=\"text-align: right;\">\n",
       "      <th></th>\n",
       "      <th>missing_values</th>\n",
       "      <th>% of total</th>\n",
       "    </tr>\n",
       "  </thead>\n",
       "  <tbody>\n",
       "    <tr>\n",
       "      <th>Device</th>\n",
       "      <td>0</td>\n",
       "      <td>0.0</td>\n",
       "    </tr>\n",
       "    <tr>\n",
       "      <th>End Ts</th>\n",
       "      <td>0</td>\n",
       "      <td>0.0</td>\n",
       "    </tr>\n",
       "    <tr>\n",
       "      <th>Source Id</th>\n",
       "      <td>0</td>\n",
       "      <td>0.0</td>\n",
       "    </tr>\n",
       "    <tr>\n",
       "      <th>Start Ts</th>\n",
       "      <td>0</td>\n",
       "      <td>0.0</td>\n",
       "    </tr>\n",
       "    <tr>\n",
       "      <th>Uid</th>\n",
       "      <td>0</td>\n",
       "      <td>0.0</td>\n",
       "    </tr>\n",
       "  </tbody>\n",
       "</table>\n",
       "</div>"
      ],
      "text/plain": [
       "           missing_values  % of total\n",
       "Device                  0         0.0\n",
       "End Ts                  0         0.0\n",
       "Source Id               0         0.0\n",
       "Start Ts                0         0.0\n",
       "Uid                     0         0.0"
      ]
     },
     "execution_count": 561,
     "metadata": {},
     "output_type": "execute_result"
    }
   ],
   "source": [
    "report_null_visits = visits.isnull().sum().to_frame()\n",
    "report_null_visits = report_null_visits.rename(columns={0:'missing_values'})\n",
    "report_null_visits['% of total'] = (report_null_visits['missing_values'] / visits.shape[0]).round(2)\n",
    "report_null_visits.sort_values(by='missing_values', ascending=False)"
   ]
  },
  {
   "cell_type": "markdown",
   "metadata": {},
   "source": [
    "### Data Order"
   ]
  },
  {
   "cell_type": "markdown",
   "metadata": {},
   "source": [
    "Identifikasi data"
   ]
  },
  {
   "cell_type": "code",
   "execution_count": 562,
   "metadata": {},
   "outputs": [
    {
     "name": "stdout",
     "output_type": "stream",
     "text": [
      "<class 'pandas.core.frame.DataFrame'>\n",
      "RangeIndex: 50415 entries, 0 to 50414\n",
      "Data columns (total 3 columns):\n",
      " #   Column   Non-Null Count  Dtype  \n",
      "---  ------   --------------  -----  \n",
      " 0   Buy Ts   50415 non-null  object \n",
      " 1   Revenue  50415 non-null  float64\n",
      " 2   Uid      50415 non-null  uint64 \n",
      "dtypes: float64(1), object(1), uint64(1)\n",
      "memory usage: 1.2+ MB\n"
     ]
    }
   ],
   "source": [
    "orders.info()"
   ]
  },
  {
   "cell_type": "code",
   "execution_count": 563,
   "metadata": {
    "scrolled": true
   },
   "outputs": [
    {
     "data": {
      "text/html": [
       "<div>\n",
       "<style scoped>\n",
       "    .dataframe tbody tr th:only-of-type {\n",
       "        vertical-align: middle;\n",
       "    }\n",
       "\n",
       "    .dataframe tbody tr th {\n",
       "        vertical-align: top;\n",
       "    }\n",
       "\n",
       "    .dataframe thead th {\n",
       "        text-align: right;\n",
       "    }\n",
       "</style>\n",
       "<table border=\"1\" class=\"dataframe\">\n",
       "  <thead>\n",
       "    <tr style=\"text-align: right;\">\n",
       "      <th></th>\n",
       "      <th>Buy Ts</th>\n",
       "      <th>Revenue</th>\n",
       "      <th>Uid</th>\n",
       "    </tr>\n",
       "  </thead>\n",
       "  <tbody>\n",
       "    <tr>\n",
       "      <th>0</th>\n",
       "      <td>2017-06-01 00:10:00</td>\n",
       "      <td>17.00</td>\n",
       "      <td>10329302124590727494</td>\n",
       "    </tr>\n",
       "    <tr>\n",
       "      <th>1</th>\n",
       "      <td>2017-06-01 00:25:00</td>\n",
       "      <td>0.55</td>\n",
       "      <td>11627257723692907447</td>\n",
       "    </tr>\n",
       "    <tr>\n",
       "      <th>2</th>\n",
       "      <td>2017-06-01 00:27:00</td>\n",
       "      <td>0.37</td>\n",
       "      <td>17903680561304213844</td>\n",
       "    </tr>\n",
       "    <tr>\n",
       "      <th>3</th>\n",
       "      <td>2017-06-01 00:29:00</td>\n",
       "      <td>0.55</td>\n",
       "      <td>16109239769442553005</td>\n",
       "    </tr>\n",
       "    <tr>\n",
       "      <th>4</th>\n",
       "      <td>2017-06-01 07:58:00</td>\n",
       "      <td>0.37</td>\n",
       "      <td>14200605875248379450</td>\n",
       "    </tr>\n",
       "    <tr>\n",
       "      <th>5</th>\n",
       "      <td>2017-06-01 08:43:00</td>\n",
       "      <td>0.18</td>\n",
       "      <td>10402394430196413321</td>\n",
       "    </tr>\n",
       "    <tr>\n",
       "      <th>6</th>\n",
       "      <td>2017-06-01 08:54:00</td>\n",
       "      <td>1.83</td>\n",
       "      <td>12464626743129688638</td>\n",
       "    </tr>\n",
       "    <tr>\n",
       "      <th>7</th>\n",
       "      <td>2017-06-01 09:22:00</td>\n",
       "      <td>1.22</td>\n",
       "      <td>3644482766749211722</td>\n",
       "    </tr>\n",
       "    <tr>\n",
       "      <th>8</th>\n",
       "      <td>2017-06-01 09:22:00</td>\n",
       "      <td>3.30</td>\n",
       "      <td>17542070709969841479</td>\n",
       "    </tr>\n",
       "    <tr>\n",
       "      <th>9</th>\n",
       "      <td>2017-06-01 09:23:00</td>\n",
       "      <td>0.37</td>\n",
       "      <td>1074355127080856382</td>\n",
       "    </tr>\n",
       "  </tbody>\n",
       "</table>\n",
       "</div>"
      ],
      "text/plain": [
       "                Buy Ts  Revenue                   Uid\n",
       "0  2017-06-01 00:10:00    17.00  10329302124590727494\n",
       "1  2017-06-01 00:25:00     0.55  11627257723692907447\n",
       "2  2017-06-01 00:27:00     0.37  17903680561304213844\n",
       "3  2017-06-01 00:29:00     0.55  16109239769442553005\n",
       "4  2017-06-01 07:58:00     0.37  14200605875248379450\n",
       "5  2017-06-01 08:43:00     0.18  10402394430196413321\n",
       "6  2017-06-01 08:54:00     1.83  12464626743129688638\n",
       "7  2017-06-01 09:22:00     1.22   3644482766749211722\n",
       "8  2017-06-01 09:22:00     3.30  17542070709969841479\n",
       "9  2017-06-01 09:23:00     0.37   1074355127080856382"
      ]
     },
     "execution_count": 563,
     "metadata": {},
     "output_type": "execute_result"
    }
   ],
   "source": [
    "orders.head(10)"
   ]
  },
  {
   "cell_type": "markdown",
   "metadata": {},
   "source": [
    "Mengecek data duplikat dan data missing"
   ]
  },
  {
   "cell_type": "code",
   "execution_count": 564,
   "metadata": {},
   "outputs": [
    {
     "data": {
      "text/plain": [
       "0"
      ]
     },
     "execution_count": 564,
     "metadata": {},
     "output_type": "execute_result"
    }
   ],
   "source": [
    "orders.duplicated().sum()"
   ]
  },
  {
   "cell_type": "code",
   "execution_count": 565,
   "metadata": {},
   "outputs": [
    {
     "data": {
      "text/html": [
       "<div>\n",
       "<style scoped>\n",
       "    .dataframe tbody tr th:only-of-type {\n",
       "        vertical-align: middle;\n",
       "    }\n",
       "\n",
       "    .dataframe tbody tr th {\n",
       "        vertical-align: top;\n",
       "    }\n",
       "\n",
       "    .dataframe thead th {\n",
       "        text-align: right;\n",
       "    }\n",
       "</style>\n",
       "<table border=\"1\" class=\"dataframe\">\n",
       "  <thead>\n",
       "    <tr style=\"text-align: right;\">\n",
       "      <th></th>\n",
       "      <th>missing_values</th>\n",
       "      <th>% of total</th>\n",
       "    </tr>\n",
       "  </thead>\n",
       "  <tbody>\n",
       "    <tr>\n",
       "      <th>Buy Ts</th>\n",
       "      <td>0</td>\n",
       "      <td>0.0</td>\n",
       "    </tr>\n",
       "    <tr>\n",
       "      <th>Revenue</th>\n",
       "      <td>0</td>\n",
       "      <td>0.0</td>\n",
       "    </tr>\n",
       "    <tr>\n",
       "      <th>Uid</th>\n",
       "      <td>0</td>\n",
       "      <td>0.0</td>\n",
       "    </tr>\n",
       "  </tbody>\n",
       "</table>\n",
       "</div>"
      ],
      "text/plain": [
       "         missing_values  % of total\n",
       "Buy Ts                0         0.0\n",
       "Revenue               0         0.0\n",
       "Uid                   0         0.0"
      ]
     },
     "execution_count": 565,
     "metadata": {},
     "output_type": "execute_result"
    }
   ],
   "source": [
    "report_null_orders = orders.isnull().sum().to_frame()\n",
    "report_null_orders = report_null_orders.rename(columns={0:'missing_values'})\n",
    "report_null_orders['% of total'] = (report_null_orders['missing_values'] / orders.shape[0]).round(2)\n",
    "report_null_orders.sort_values(by='missing_values', ascending=False)"
   ]
  },
  {
   "cell_type": "markdown",
   "metadata": {},
   "source": [
    "### Data Cost"
   ]
  },
  {
   "cell_type": "markdown",
   "metadata": {},
   "source": [
    "Identifikasi data"
   ]
  },
  {
   "cell_type": "code",
   "execution_count": 566,
   "metadata": {},
   "outputs": [
    {
     "name": "stdout",
     "output_type": "stream",
     "text": [
      "<class 'pandas.core.frame.DataFrame'>\n",
      "RangeIndex: 2542 entries, 0 to 2541\n",
      "Data columns (total 3 columns):\n",
      " #   Column     Non-Null Count  Dtype  \n",
      "---  ------     --------------  -----  \n",
      " 0   source_id  2542 non-null   int64  \n",
      " 1   dt         2542 non-null   object \n",
      " 2   costs      2542 non-null   float64\n",
      "dtypes: float64(1), int64(1), object(1)\n",
      "memory usage: 59.7+ KB\n"
     ]
    }
   ],
   "source": [
    "costs.info()"
   ]
  },
  {
   "cell_type": "code",
   "execution_count": 567,
   "metadata": {
    "scrolled": true
   },
   "outputs": [
    {
     "data": {
      "text/html": [
       "<div>\n",
       "<style scoped>\n",
       "    .dataframe tbody tr th:only-of-type {\n",
       "        vertical-align: middle;\n",
       "    }\n",
       "\n",
       "    .dataframe tbody tr th {\n",
       "        vertical-align: top;\n",
       "    }\n",
       "\n",
       "    .dataframe thead th {\n",
       "        text-align: right;\n",
       "    }\n",
       "</style>\n",
       "<table border=\"1\" class=\"dataframe\">\n",
       "  <thead>\n",
       "    <tr style=\"text-align: right;\">\n",
       "      <th></th>\n",
       "      <th>source_id</th>\n",
       "      <th>dt</th>\n",
       "      <th>costs</th>\n",
       "    </tr>\n",
       "  </thead>\n",
       "  <tbody>\n",
       "    <tr>\n",
       "      <th>0</th>\n",
       "      <td>1</td>\n",
       "      <td>2017-06-01</td>\n",
       "      <td>75.20</td>\n",
       "    </tr>\n",
       "    <tr>\n",
       "      <th>1</th>\n",
       "      <td>1</td>\n",
       "      <td>2017-06-02</td>\n",
       "      <td>62.25</td>\n",
       "    </tr>\n",
       "    <tr>\n",
       "      <th>2</th>\n",
       "      <td>1</td>\n",
       "      <td>2017-06-03</td>\n",
       "      <td>36.53</td>\n",
       "    </tr>\n",
       "    <tr>\n",
       "      <th>3</th>\n",
       "      <td>1</td>\n",
       "      <td>2017-06-04</td>\n",
       "      <td>55.00</td>\n",
       "    </tr>\n",
       "    <tr>\n",
       "      <th>4</th>\n",
       "      <td>1</td>\n",
       "      <td>2017-06-05</td>\n",
       "      <td>57.08</td>\n",
       "    </tr>\n",
       "    <tr>\n",
       "      <th>5</th>\n",
       "      <td>1</td>\n",
       "      <td>2017-06-06</td>\n",
       "      <td>40.39</td>\n",
       "    </tr>\n",
       "    <tr>\n",
       "      <th>6</th>\n",
       "      <td>1</td>\n",
       "      <td>2017-06-07</td>\n",
       "      <td>40.59</td>\n",
       "    </tr>\n",
       "    <tr>\n",
       "      <th>7</th>\n",
       "      <td>1</td>\n",
       "      <td>2017-06-08</td>\n",
       "      <td>56.63</td>\n",
       "    </tr>\n",
       "    <tr>\n",
       "      <th>8</th>\n",
       "      <td>1</td>\n",
       "      <td>2017-06-09</td>\n",
       "      <td>40.16</td>\n",
       "    </tr>\n",
       "    <tr>\n",
       "      <th>9</th>\n",
       "      <td>1</td>\n",
       "      <td>2017-06-10</td>\n",
       "      <td>43.24</td>\n",
       "    </tr>\n",
       "  </tbody>\n",
       "</table>\n",
       "</div>"
      ],
      "text/plain": [
       "   source_id          dt  costs\n",
       "0          1  2017-06-01  75.20\n",
       "1          1  2017-06-02  62.25\n",
       "2          1  2017-06-03  36.53\n",
       "3          1  2017-06-04  55.00\n",
       "4          1  2017-06-05  57.08\n",
       "5          1  2017-06-06  40.39\n",
       "6          1  2017-06-07  40.59\n",
       "7          1  2017-06-08  56.63\n",
       "8          1  2017-06-09  40.16\n",
       "9          1  2017-06-10  43.24"
      ]
     },
     "execution_count": 567,
     "metadata": {},
     "output_type": "execute_result"
    }
   ],
   "source": [
    "costs.head(10)"
   ]
  },
  {
   "cell_type": "markdown",
   "metadata": {},
   "source": [
    "Mengecek data duplikat dan data missing"
   ]
  },
  {
   "cell_type": "code",
   "execution_count": 568,
   "metadata": {},
   "outputs": [
    {
     "data": {
      "text/plain": [
       "0"
      ]
     },
     "execution_count": 568,
     "metadata": {},
     "output_type": "execute_result"
    }
   ],
   "source": [
    "costs.duplicated().sum()"
   ]
  },
  {
   "cell_type": "code",
   "execution_count": 569,
   "metadata": {},
   "outputs": [
    {
     "data": {
      "text/html": [
       "<div>\n",
       "<style scoped>\n",
       "    .dataframe tbody tr th:only-of-type {\n",
       "        vertical-align: middle;\n",
       "    }\n",
       "\n",
       "    .dataframe tbody tr th {\n",
       "        vertical-align: top;\n",
       "    }\n",
       "\n",
       "    .dataframe thead th {\n",
       "        text-align: right;\n",
       "    }\n",
       "</style>\n",
       "<table border=\"1\" class=\"dataframe\">\n",
       "  <thead>\n",
       "    <tr style=\"text-align: right;\">\n",
       "      <th></th>\n",
       "      <th>missing_values</th>\n",
       "      <th>% of total</th>\n",
       "    </tr>\n",
       "  </thead>\n",
       "  <tbody>\n",
       "    <tr>\n",
       "      <th>source_id</th>\n",
       "      <td>0</td>\n",
       "      <td>0.0</td>\n",
       "    </tr>\n",
       "    <tr>\n",
       "      <th>dt</th>\n",
       "      <td>0</td>\n",
       "      <td>0.0</td>\n",
       "    </tr>\n",
       "    <tr>\n",
       "      <th>costs</th>\n",
       "      <td>0</td>\n",
       "      <td>0.0</td>\n",
       "    </tr>\n",
       "  </tbody>\n",
       "</table>\n",
       "</div>"
      ],
      "text/plain": [
       "           missing_values  % of total\n",
       "source_id               0         0.0\n",
       "dt                      0         0.0\n",
       "costs                   0         0.0"
      ]
     },
     "execution_count": 569,
     "metadata": {},
     "output_type": "execute_result"
    }
   ],
   "source": [
    "report_null_costs = costs.isnull().sum().to_frame()\n",
    "report_null_costs = report_null_costs.rename(columns={0:'missing_values'})\n",
    "report_null_costs['% of total'] = (report_null_costs['missing_values'] / costs.shape[0]).round(2)\n",
    "report_null_costs.sort_values(by='missing_values', ascending=False)"
   ]
  },
  {
   "cell_type": "markdown",
   "metadata": {},
   "source": [
    "## Memperbaiki data"
   ]
  },
  {
   "cell_type": "markdown",
   "metadata": {},
   "source": [
    "Mengubah dan memperbaiki nama kolom"
   ]
  },
  {
   "cell_type": "code",
   "execution_count": 570,
   "metadata": {},
   "outputs": [],
   "source": [
    "visits.columns = ['device', 'end_ts', 'source_id', 'start_ts', 'uid']"
   ]
  },
  {
   "cell_type": "code",
   "execution_count": 571,
   "metadata": {},
   "outputs": [],
   "source": [
    "orders.columns = ['buy_ts', 'revenue', 'uid']"
   ]
  },
  {
   "cell_type": "markdown",
   "metadata": {},
   "source": [
    "Mengubah tipe data waktu"
   ]
  },
  {
   "cell_type": "code",
   "execution_count": 572,
   "metadata": {},
   "outputs": [],
   "source": [
    "orders['buy_ts'] = pd.to_datetime(\n",
    "    orders['buy_ts'], format=\"%Y-%m-%d %H:%M\")"
   ]
  },
  {
   "cell_type": "code",
   "execution_count": 573,
   "metadata": {},
   "outputs": [],
   "source": [
    "costs['dt'] = pd.to_datetime(costs['dt'])"
   ]
  },
  {
   "cell_type": "markdown",
   "metadata": {},
   "source": [
    "## Analisis Data"
   ]
  },
  {
   "cell_type": "markdown",
   "metadata": {},
   "source": [
    "### Produk"
   ]
  },
  {
   "cell_type": "markdown",
   "metadata": {},
   "source": [
    "Membuat kolom baru sesuai hari, minggu, bulan, dan tahun kejadian."
   ]
  },
  {
   "cell_type": "code",
   "execution_count": 574,
   "metadata": {
    "scrolled": true
   },
   "outputs": [],
   "source": [
    "visits['session_year'] = visits['start_ts'].dt.year\n",
    "visits['session_month'] = visits['start_ts'].astype('datetime64[M]')\n",
    "visits['session_week'] = visits['start_ts'].astype('datetime64[W]')\n",
    "visits['session_date'] = visits['start_ts'].dt.date"
   ]
  },
  {
   "cell_type": "markdown",
   "metadata": {},
   "source": [
    "Mencari MAU"
   ]
  },
  {
   "cell_type": "code",
   "execution_count": 575,
   "metadata": {},
   "outputs": [
    {
     "data": {
      "text/plain": [
       "23228"
      ]
     },
     "execution_count": 575,
     "metadata": {},
     "output_type": "execute_result"
    }
   ],
   "source": [
    "mau_total_visit = (\n",
    "    visits.groupby(['session_year', 'session_month'])\n",
    "    .agg({'uid': 'nunique'})\n",
    "    .mean()\n",
    ")\n",
    "int(mau_total_visit)"
   ]
  },
  {
   "cell_type": "markdown",
   "metadata": {},
   "source": [
    "Mencari WAU"
   ]
  },
  {
   "cell_type": "code",
   "execution_count": 576,
   "metadata": {},
   "outputs": [
    {
     "data": {
      "text/plain": [
       "5621"
      ]
     },
     "execution_count": 576,
     "metadata": {},
     "output_type": "execute_result"
    }
   ],
   "source": [
    "wau_total_visit = (\n",
    "    visits.groupby(['session_year', 'session_week'])\n",
    "    .agg({'uid': 'nunique'})\n",
    "    .mean()\n",
    ")\n",
    "int(wau_total_visit)"
   ]
  },
  {
   "cell_type": "markdown",
   "metadata": {},
   "source": [
    "Mencari DAU"
   ]
  },
  {
   "cell_type": "code",
   "execution_count": 577,
   "metadata": {},
   "outputs": [
    {
     "data": {
      "text/plain": [
       "907"
      ]
     },
     "execution_count": 577,
     "metadata": {},
     "output_type": "execute_result"
    }
   ],
   "source": [
    "dau_total_visit = (\n",
    "    visits.groupby('session_date')\n",
    "    .agg({'uid': 'nunique'})\n",
    "    .mean()\n",
    ")\n",
    "int(dau_total_visit)"
   ]
  },
  {
   "cell_type": "code",
   "execution_count": 578,
   "metadata": {
    "scrolled": false
   },
   "outputs": [
    {
     "data": {
      "image/png": "[encoded data removed]",
      "text/plain": [
       "<Figure size 720x288 with 1 Axes>"
      ]
     },
     "metadata": {
      "needs_background": "light"
     },
     "output_type": "display_data"
    }
   ],
   "source": [
    "mau_visit = (\n",
    "    visits.groupby(['session_year', 'session_month'])\n",
    "    .agg({'uid': 'nunique'})\n",
    "    .reset_index()\n",
    ")\n",
    "mau_visit.plot(x='session_month', y='uid', style='-', title='Jumlah User per Bulan', grid=True, figsize=(10, 4))\n",
    "plt.show()"
   ]
  },
  {
   "cell_type": "markdown",
   "metadata": {},
   "source": [
    "Hasil pada grafik menunjukkan bahwa nilai pada bulan November 2017 yang memiliki kunjungan paling banyak"
   ]
  },
  {
   "cell_type": "code",
   "execution_count": 579,
   "metadata": {
    "scrolled": false
   },
   "outputs": [
    {
     "data": {
      "image/png": "[encoded data removed]",
      "text/plain": [
       "<Figure size 720x288 with 1 Axes>"
      ]
     },
     "metadata": {
      "needs_background": "light"
     },
     "output_type": "display_data"
    }
   ],
   "source": [
    "wau_visit = (\n",
    "    visits.groupby(['session_year', 'session_week'])\n",
    "    .agg({'uid': 'nunique'})\n",
    "    .reset_index()\n",
    ")\n",
    "wau_visit.plot(x='session_week', y='uid', style='-', title='Jumlah User per Minggu', grid=True, figsize=(10, 4))\n",
    "plt.show()"
   ]
  },
  {
   "cell_type": "markdown",
   "metadata": {},
   "source": [
    "Hasil pada grafik menunjukkan bahwa nilai pada minggu di bulan November 2017 yang memiliki kunjungan paling banyak"
   ]
  },
  {
   "cell_type": "code",
   "execution_count": 580,
   "metadata": {
    "scrolled": true
   },
   "outputs": [
    {
     "data": {
      "image/png": "[encoded data removed]",
      "text/plain": [
       "<Figure size 720x288 with 1 Axes>"
      ]
     },
     "metadata": {
      "needs_background": "light"
     },
     "output_type": "display_data"
    }
   ],
   "source": [
    "dau_visit = (\n",
    "    visits.groupby('session_date')\n",
    "    .agg({'uid': 'nunique'})\n",
    "    .reset_index()\n",
    ")\n",
    "dau_visit.plot(x='session_date', y='uid', style='-', title='Jumlah User per Hari', grid=True, figsize=(10, 4))\n",
    "plt.show()"
   ]
  },
  {
   "cell_type": "markdown",
   "metadata": {},
   "source": [
    "Hasil pada grafik menunjukkan bahwa nilai pada hari pada bulan November 2017 yang memiliki kunjungan paling banyak"
   ]
  },
  {
   "cell_type": "code",
   "execution_count": 581,
   "metadata": {},
   "outputs": [
    {
     "data": {
      "text/plain": [
       "uid    16.151541\n",
       "dtype: float64"
      ]
     },
     "execution_count": 581,
     "metadata": {},
     "output_type": "execute_result"
    }
   ],
   "source": [
    "sticky_wau = dau_total_visit / wau_total_visit * 100\n",
    "sticky_wau"
   ]
  },
  {
   "cell_type": "markdown",
   "metadata": {},
   "source": [
    "Jumlah user yang kembali datang di setiap minggu berkisar 16%"
   ]
  },
  {
   "cell_type": "code",
   "execution_count": 582,
   "metadata": {},
   "outputs": [
    {
     "data": {
      "text/plain": [
       "uid    3.90897\n",
       "dtype: float64"
      ]
     },
     "execution_count": 582,
     "metadata": {},
     "output_type": "execute_result"
    }
   ],
   "source": [
    "sticky_mau = dau_total_visit / mau_total_visit * 100\n",
    "sticky_mau"
   ]
  },
  {
   "cell_type": "markdown",
   "metadata": {},
   "source": [
    "Jumlah user yang kembali datang di setiap bulan berkisar 3%"
   ]
  },
  {
   "cell_type": "markdown",
   "metadata": {},
   "source": [
    "Menghitung sesi per hari pada user unique"
   ]
  },
  {
   "cell_type": "code",
   "execution_count": 583,
   "metadata": {},
   "outputs": [
    {
     "data": {
      "text/html": [
       "<div>\n",
       "<style scoped>\n",
       "    .dataframe tbody tr th:only-of-type {\n",
       "        vertical-align: middle;\n",
       "    }\n",
       "\n",
       "    .dataframe tbody tr th {\n",
       "        vertical-align: top;\n",
       "    }\n",
       "\n",
       "    .dataframe thead th {\n",
       "        text-align: right;\n",
       "    }\n",
       "</style>\n",
       "<table border=\"1\" class=\"dataframe\">\n",
       "  <thead>\n",
       "    <tr style=\"text-align: right;\">\n",
       "      <th></th>\n",
       "      <th>session_date</th>\n",
       "      <th>n_sessions</th>\n",
       "      <th>n_users</th>\n",
       "      <th>sess_per_user</th>\n",
       "    </tr>\n",
       "  </thead>\n",
       "  <tbody>\n",
       "    <tr>\n",
       "      <th>0</th>\n",
       "      <td>2017-06-01</td>\n",
       "      <td>664</td>\n",
       "      <td>605</td>\n",
       "      <td>1.097521</td>\n",
       "    </tr>\n",
       "    <tr>\n",
       "      <th>1</th>\n",
       "      <td>2017-06-02</td>\n",
       "      <td>658</td>\n",
       "      <td>608</td>\n",
       "      <td>1.082237</td>\n",
       "    </tr>\n",
       "    <tr>\n",
       "      <th>2</th>\n",
       "      <td>2017-06-03</td>\n",
       "      <td>477</td>\n",
       "      <td>445</td>\n",
       "      <td>1.071910</td>\n",
       "    </tr>\n",
       "    <tr>\n",
       "      <th>3</th>\n",
       "      <td>2017-06-04</td>\n",
       "      <td>510</td>\n",
       "      <td>476</td>\n",
       "      <td>1.071429</td>\n",
       "    </tr>\n",
       "    <tr>\n",
       "      <th>4</th>\n",
       "      <td>2017-06-05</td>\n",
       "      <td>893</td>\n",
       "      <td>820</td>\n",
       "      <td>1.089024</td>\n",
       "    </tr>\n",
       "    <tr>\n",
       "      <th>...</th>\n",
       "      <td>...</td>\n",
       "      <td>...</td>\n",
       "      <td>...</td>\n",
       "      <td>...</td>\n",
       "    </tr>\n",
       "    <tr>\n",
       "      <th>359</th>\n",
       "      <td>2018-05-27</td>\n",
       "      <td>672</td>\n",
       "      <td>620</td>\n",
       "      <td>1.083871</td>\n",
       "    </tr>\n",
       "    <tr>\n",
       "      <th>360</th>\n",
       "      <td>2018-05-28</td>\n",
       "      <td>1156</td>\n",
       "      <td>1039</td>\n",
       "      <td>1.112608</td>\n",
       "    </tr>\n",
       "    <tr>\n",
       "      <th>361</th>\n",
       "      <td>2018-05-29</td>\n",
       "      <td>1035</td>\n",
       "      <td>948</td>\n",
       "      <td>1.091772</td>\n",
       "    </tr>\n",
       "    <tr>\n",
       "      <th>362</th>\n",
       "      <td>2018-05-30</td>\n",
       "      <td>1410</td>\n",
       "      <td>1289</td>\n",
       "      <td>1.093871</td>\n",
       "    </tr>\n",
       "    <tr>\n",
       "      <th>363</th>\n",
       "      <td>2018-05-31</td>\n",
       "      <td>2256</td>\n",
       "      <td>1997</td>\n",
       "      <td>1.129695</td>\n",
       "    </tr>\n",
       "  </tbody>\n",
       "</table>\n",
       "<p>364 rows × 4 columns</p>\n",
       "</div>"
      ],
      "text/plain": [
       "    session_date  n_sessions  n_users  sess_per_user\n",
       "0     2017-06-01         664      605       1.097521\n",
       "1     2017-06-02         658      608       1.082237\n",
       "2     2017-06-03         477      445       1.071910\n",
       "3     2017-06-04         510      476       1.071429\n",
       "4     2017-06-05         893      820       1.089024\n",
       "..           ...         ...      ...            ...\n",
       "359   2018-05-27         672      620       1.083871\n",
       "360   2018-05-28        1156     1039       1.112608\n",
       "361   2018-05-29        1035      948       1.091772\n",
       "362   2018-05-30        1410     1289       1.093871\n",
       "363   2018-05-31        2256     1997       1.129695\n",
       "\n",
       "[364 rows x 4 columns]"
      ]
     },
     "execution_count": 583,
     "metadata": {},
     "output_type": "execute_result"
    }
   ],
   "source": [
    "sessions_per_user = visits.groupby('session_date').agg(\n",
    "    {'uid': ['count', 'nunique']}).reset_index()\n",
    "sessions_per_user.columns = ['session_date', 'n_sessions', 'n_users']\n",
    "sessions_per_user['sess_per_user'] = (\n",
    "    sessions_per_user['n_sessions'] / sessions_per_user['n_users']\n",
    ")\n",
    "sessions_per_user"
   ]
  },
  {
   "cell_type": "code",
   "execution_count": 584,
   "metadata": {
    "scrolled": true
   },
   "outputs": [
    {
     "data": {
      "image/png": "[encoded data removed]",
      "text/plain": [
       "<Figure size 720x288 with 1 Axes>"
      ]
     },
     "metadata": {
      "needs_background": "light"
     },
     "output_type": "display_data"
    }
   ],
   "source": [
    "sessions_per_user.plot(x='session_date', y='sess_per_user', style='-', title='Jumlah Sesi per Hari', grid=True, figsize=(10, 4))\n",
    "plt.show()"
   ]
  },
  {
   "cell_type": "markdown",
   "metadata": {},
   "source": [
    "Grafik menunjukkan kestabilan di range 1.05 - 1.10, ada sedikit spike ke atas di hari pada bulan November 2017 dan spike ke bawah di hari pada bulan April 2018"
   ]
  },
  {
   "cell_type": "markdown",
   "metadata": {},
   "source": [
    "Melihat distribusi sesi berdasarkan durasinya"
   ]
  },
  {
   "cell_type": "code",
   "execution_count": 585,
   "metadata": {
    "scrolled": false
   },
   "outputs": [],
   "source": [
    "visits['session_duration_sec'] = (visits['end_ts'] - visits['start_ts']).dt.seconds"
   ]
  },
  {
   "cell_type": "code",
   "execution_count": 586,
   "metadata": {},
   "outputs": [
    {
     "data": {
      "text/plain": [
       "0         1080\n",
       "1         1680\n",
       "2            0\n",
       "3         1440\n",
       "4            0\n",
       "          ... \n",
       "359395      19\n",
       "359396      19\n",
       "359397      19\n",
       "359398      19\n",
       "359399      19\n",
       "Name: session_duration_sec, Length: 359400, dtype: int64"
      ]
     },
     "execution_count": 586,
     "metadata": {},
     "output_type": "execute_result"
    }
   ],
   "source": [
    "visits['session_duration_sec']"
   ]
  },
  {
   "cell_type": "code",
   "execution_count": 587,
   "metadata": {
    "scrolled": false
   },
   "outputs": [
    {
     "data": {
      "image/png": "[encoded data removed]",
      "text/plain": [
       "<Figure size 432x288 with 1 Axes>"
      ]
     },
     "metadata": {
      "needs_background": "light"
     },
     "output_type": "display_data"
    }
   ],
   "source": [
    "visits['session_duration_sec'].hist(bins=50)\n",
    "plt.show()"
   ]
  },
  {
   "cell_type": "code",
   "execution_count": 588,
   "metadata": {
    "scrolled": true
   },
   "outputs": [
    {
     "data": {
      "image/png": "[encoded data removed]",
      "text/plain": [
       "<Figure size 432x288 with 1 Axes>"
      ]
     },
     "metadata": {
      "needs_background": "light"
     },
     "output_type": "display_data"
    }
   ],
   "source": [
    "ax = sns.boxplot(data=visits['session_duration_sec'], fliersize=0)\n",
    "ax.set(ylim=(-100, 2000))\n",
    "plt.show()"
   ]
  },
  {
   "cell_type": "markdown",
   "metadata": {},
   "source": [
    "Pada grafik terlihat memiliki persebaran pada range 0 - 2000, dan memiliki median di angka 260."
   ]
  },
  {
   "cell_type": "code",
   "execution_count": 589,
   "metadata": {},
   "outputs": [
    {
     "data": {
      "text/plain": [
       "0    60\n",
       "dtype: int64"
      ]
     },
     "execution_count": 589,
     "metadata": {},
     "output_type": "execute_result"
    }
   ],
   "source": [
    "asl = visits['session_duration_sec'].mode()\n",
    "asl"
   ]
  },
  {
   "cell_type": "markdown",
   "metadata": {},
   "source": [
    "Nilai ASL memiliki hasil 60"
   ]
  },
  {
   "cell_type": "markdown",
   "metadata": {},
   "source": [
    "Mencari margin rata-rata pengguna kembali menggunakan produk berdasarkan sesi awal bulan."
   ]
  },
  {
   "cell_type": "code",
   "execution_count": 590,
   "metadata": {},
   "outputs": [],
   "source": [
    "first_visits = visits.groupby(['uid'])['start_ts'].min().reset_index()\n",
    "first_visits.columns = ['uid', 'first_session_start_ts']"
   ]
  },
  {
   "cell_type": "code",
   "execution_count": 591,
   "metadata": {},
   "outputs": [],
   "source": [
    "first_visits['first_session_dt'] = first_visits['first_session_start_ts'].dt.date\n",
    "first_visits['first_session_month'] = first_visits['first_session_dt'].astype('datetime64[M]')"
   ]
  },
  {
   "cell_type": "code",
   "execution_count": 592,
   "metadata": {},
   "outputs": [],
   "source": [
    "visits_2 = pd.merge(visits, first_visits, on='uid')"
   ]
  },
  {
   "cell_type": "markdown",
   "metadata": {},
   "source": [
    "cohort untuk awal bulan"
   ]
  },
  {
   "cell_type": "code",
   "execution_count": 593,
   "metadata": {},
   "outputs": [],
   "source": [
    "visits_2['first_visits_month'] = (\n",
    "    visits_2['session_month'] - visits_2['first_session_month']\n",
    ")\n",
    "visits_2['first_visits_month'] = visits_2[\n",
    "    'first_visits_month'\n",
    "] / np.timedelta64(1, 'M')\n",
    "visits_2['first_visits_month'] = visits_2['first_visits_month'].astype(int)"
   ]
  },
  {
   "cell_type": "code",
   "execution_count": 594,
   "metadata": {
    "scrolled": true
   },
   "outputs": [
    {
     "data": {
      "text/html": [
       "<div>\n",
       "<style scoped>\n",
       "    .dataframe tbody tr th:only-of-type {\n",
       "        vertical-align: middle;\n",
       "    }\n",
       "\n",
       "    .dataframe tbody tr th {\n",
       "        vertical-align: top;\n",
       "    }\n",
       "\n",
       "    .dataframe thead th {\n",
       "        text-align: right;\n",
       "    }\n",
       "</style>\n",
       "<table border=\"1\" class=\"dataframe\">\n",
       "  <thead>\n",
       "    <tr style=\"text-align: right;\">\n",
       "      <th>first_visits_month</th>\n",
       "      <th>0</th>\n",
       "      <th>1</th>\n",
       "      <th>2</th>\n",
       "      <th>3</th>\n",
       "      <th>4</th>\n",
       "      <th>5</th>\n",
       "      <th>6</th>\n",
       "      <th>7</th>\n",
       "      <th>8</th>\n",
       "      <th>9</th>\n",
       "      <th>10</th>\n",
       "    </tr>\n",
       "    <tr>\n",
       "      <th>first_session_month</th>\n",
       "      <th></th>\n",
       "      <th></th>\n",
       "      <th></th>\n",
       "      <th></th>\n",
       "      <th></th>\n",
       "      <th></th>\n",
       "      <th></th>\n",
       "      <th></th>\n",
       "      <th></th>\n",
       "      <th></th>\n",
       "      <th></th>\n",
       "    </tr>\n",
       "  </thead>\n",
       "  <tbody>\n",
       "    <tr>\n",
       "      <th>2017-06-01</th>\n",
       "      <td>13259.0</td>\n",
       "      <td></td>\n",
       "      <td>713.0</td>\n",
       "      <td>814.0</td>\n",
       "      <td>909.0</td>\n",
       "      <td>947.0</td>\n",
       "      <td>809.0</td>\n",
       "      <td>766.0</td>\n",
       "      <td>1114.0</td>\n",
       "      <td>539.0</td>\n",
       "      <td>596.0</td>\n",
       "    </tr>\n",
       "    <tr>\n",
       "      <th>2017-07-01</th>\n",
       "      <td>13140.0</td>\n",
       "      <td>737.0</td>\n",
       "      <td>674.0</td>\n",
       "      <td>738.0</td>\n",
       "      <td>765.0</td>\n",
       "      <td>633.0</td>\n",
       "      <td>596.0</td>\n",
       "      <td>969.0</td>\n",
       "      <td></td>\n",
       "      <td>647.0</td>\n",
       "      <td></td>\n",
       "    </tr>\n",
       "    <tr>\n",
       "      <th>2017-08-01</th>\n",
       "      <td>10181.0</td>\n",
       "      <td>783.0</td>\n",
       "      <td>640.0</td>\n",
       "      <td>639.0</td>\n",
       "      <td>510.0</td>\n",
       "      <td>448.0</td>\n",
       "      <td>670.0</td>\n",
       "      <td>284.0</td>\n",
       "      <td>265.0</td>\n",
       "      <td></td>\n",
       "      <td></td>\n",
       "    </tr>\n",
       "    <tr>\n",
       "      <th>2017-09-01</th>\n",
       "      <td>16704.0</td>\n",
       "      <td></td>\n",
       "      <td>1712.0</td>\n",
       "      <td></td>\n",
       "      <td>658.0</td>\n",
       "      <td>1097.0</td>\n",
       "      <td>404.0</td>\n",
       "      <td>381.0</td>\n",
       "      <td></td>\n",
       "      <td></td>\n",
       "      <td></td>\n",
       "    </tr>\n",
       "    <tr>\n",
       "      <th>2017-10-01</th>\n",
       "      <td>25977.0</td>\n",
       "      <td>2042.0</td>\n",
       "      <td>1357.0</td>\n",
       "      <td>1012.0</td>\n",
       "      <td>1529.0</td>\n",
       "      <td>555.0</td>\n",
       "      <td>529.0</td>\n",
       "      <td></td>\n",
       "      <td></td>\n",
       "      <td></td>\n",
       "      <td></td>\n",
       "    </tr>\n",
       "    <tr>\n",
       "      <th>2017-11-01</th>\n",
       "      <td>27248.0</td>\n",
       "      <td></td>\n",
       "      <td>1202.0</td>\n",
       "      <td>1773.0</td>\n",
       "      <td>638.0</td>\n",
       "      <td>594.0</td>\n",
       "      <td></td>\n",
       "      <td></td>\n",
       "      <td></td>\n",
       "      <td></td>\n",
       "      <td></td>\n",
       "    </tr>\n",
       "    <tr>\n",
       "      <th>2017-12-01</th>\n",
       "      <td>25268.0</td>\n",
       "      <td>1410.0</td>\n",
       "      <td>1570.0</td>\n",
       "      <td>512.0</td>\n",
       "      <td>481.0</td>\n",
       "      <td></td>\n",
       "      <td></td>\n",
       "      <td></td>\n",
       "      <td></td>\n",
       "      <td></td>\n",
       "      <td></td>\n",
       "    </tr>\n",
       "    <tr>\n",
       "      <th>2018-01-01</th>\n",
       "      <td>22624.0</td>\n",
       "      <td>2032.0</td>\n",
       "      <td>565.0</td>\n",
       "      <td>458.0</td>\n",
       "      <td></td>\n",
       "      <td></td>\n",
       "      <td></td>\n",
       "      <td></td>\n",
       "      <td></td>\n",
       "      <td></td>\n",
       "      <td></td>\n",
       "    </tr>\n",
       "    <tr>\n",
       "      <th>2018-02-01</th>\n",
       "      <td>22197.0</td>\n",
       "      <td>565.0</td>\n",
       "      <td>446.0</td>\n",
       "      <td></td>\n",
       "      <td></td>\n",
       "      <td></td>\n",
       "      <td></td>\n",
       "      <td></td>\n",
       "      <td></td>\n",
       "      <td></td>\n",
       "      <td></td>\n",
       "    </tr>\n",
       "    <tr>\n",
       "      <th>2018-03-01</th>\n",
       "      <td>20589.0</td>\n",
       "      <td>861.0</td>\n",
       "      <td>557.0</td>\n",
       "      <td></td>\n",
       "      <td></td>\n",
       "      <td></td>\n",
       "      <td></td>\n",
       "      <td></td>\n",
       "      <td></td>\n",
       "      <td></td>\n",
       "      <td></td>\n",
       "    </tr>\n",
       "    <tr>\n",
       "      <th>2018-04-01</th>\n",
       "      <td>15709.0</td>\n",
       "      <td></td>\n",
       "      <td></td>\n",
       "      <td></td>\n",
       "      <td></td>\n",
       "      <td></td>\n",
       "      <td></td>\n",
       "      <td></td>\n",
       "      <td></td>\n",
       "      <td></td>\n",
       "      <td></td>\n",
       "    </tr>\n",
       "    <tr>\n",
       "      <th>2018-05-01</th>\n",
       "      <td>15273.0</td>\n",
       "      <td></td>\n",
       "      <td></td>\n",
       "      <td></td>\n",
       "      <td></td>\n",
       "      <td></td>\n",
       "      <td></td>\n",
       "      <td></td>\n",
       "      <td></td>\n",
       "      <td></td>\n",
       "      <td></td>\n",
       "    </tr>\n",
       "  </tbody>\n",
       "</table>\n",
       "</div>"
      ],
      "text/plain": [
       "first_visits_month        0       1       2       3       4       5      6   \\\n",
       "first_session_month                                                           \n",
       "2017-06-01           13259.0           713.0   814.0   909.0   947.0  809.0   \n",
       "2017-07-01           13140.0   737.0   674.0   738.0   765.0   633.0  596.0   \n",
       "2017-08-01           10181.0   783.0   640.0   639.0   510.0   448.0  670.0   \n",
       "2017-09-01           16704.0          1712.0           658.0  1097.0  404.0   \n",
       "2017-10-01           25977.0  2042.0  1357.0  1012.0  1529.0   555.0  529.0   \n",
       "2017-11-01           27248.0          1202.0  1773.0   638.0   594.0          \n",
       "2017-12-01           25268.0  1410.0  1570.0   512.0   481.0                  \n",
       "2018-01-01           22624.0  2032.0   565.0   458.0                          \n",
       "2018-02-01           22197.0   565.0   446.0                                  \n",
       "2018-03-01           20589.0   861.0   557.0                                  \n",
       "2018-04-01           15709.0                                                  \n",
       "2018-05-01           15273.0                                                  \n",
       "\n",
       "first_visits_month      7       8      9      10  \n",
       "first_session_month                               \n",
       "2017-06-01           766.0  1114.0  539.0  596.0  \n",
       "2017-07-01           969.0          647.0         \n",
       "2017-08-01           284.0   265.0                \n",
       "2017-09-01           381.0                        \n",
       "2017-10-01                                        \n",
       "2017-11-01                                        \n",
       "2017-12-01                                        \n",
       "2018-01-01                                        \n",
       "2018-02-01                                        \n",
       "2018-03-01                                        \n",
       "2018-04-01                                        \n",
       "2018-05-01                                        "
      ]
     },
     "execution_count": 594,
     "metadata": {},
     "output_type": "execute_result"
    }
   ],
   "source": [
    "cohorts = visits_2.pivot_table(\n",
    "    index='first_session_month',\n",
    "    columns='first_visits_month',\n",
    "    values='uid',\n",
    "    aggfunc='nunique',\n",
    ")\n",
    "cohorts.fillna('')"
   ]
  },
  {
   "cell_type": "markdown",
   "metadata": {},
   "source": [
    "Membuat presentasenya"
   ]
  },
  {
   "cell_type": "code",
   "execution_count": 595,
   "metadata": {
    "scrolled": false
   },
   "outputs": [
    {
     "data": {
      "text/html": [
       "<div>\n",
       "<style scoped>\n",
       "    .dataframe tbody tr th:only-of-type {\n",
       "        vertical-align: middle;\n",
       "    }\n",
       "\n",
       "    .dataframe tbody tr th {\n",
       "        vertical-align: top;\n",
       "    }\n",
       "\n",
       "    .dataframe thead th {\n",
       "        text-align: right;\n",
       "    }\n",
       "</style>\n",
       "<table border=\"1\" class=\"dataframe\">\n",
       "  <thead>\n",
       "    <tr style=\"text-align: right;\">\n",
       "      <th>first_visits_month</th>\n",
       "      <th>%_0</th>\n",
       "      <th>%_1</th>\n",
       "      <th>%_2</th>\n",
       "      <th>%_3</th>\n",
       "      <th>%_4</th>\n",
       "      <th>%_5</th>\n",
       "      <th>%_6</th>\n",
       "      <th>%_7</th>\n",
       "      <th>%_8</th>\n",
       "      <th>%_9</th>\n",
       "      <th>%_10</th>\n",
       "    </tr>\n",
       "    <tr>\n",
       "      <th>first_session_month</th>\n",
       "      <th></th>\n",
       "      <th></th>\n",
       "      <th></th>\n",
       "      <th></th>\n",
       "      <th></th>\n",
       "      <th></th>\n",
       "      <th></th>\n",
       "      <th></th>\n",
       "      <th></th>\n",
       "      <th></th>\n",
       "      <th></th>\n",
       "    </tr>\n",
       "  </thead>\n",
       "  <tbody>\n",
       "    <tr>\n",
       "      <th>2017-06-01</th>\n",
       "      <td>100.0</td>\n",
       "      <td></td>\n",
       "      <td>5.4</td>\n",
       "      <td>6.1</td>\n",
       "      <td>6.9</td>\n",
       "      <td>7.1</td>\n",
       "      <td>6.1</td>\n",
       "      <td>5.8</td>\n",
       "      <td>8.4</td>\n",
       "      <td>4.1</td>\n",
       "      <td>4.5</td>\n",
       "    </tr>\n",
       "    <tr>\n",
       "      <th>2017-07-01</th>\n",
       "      <td>100.0</td>\n",
       "      <td>5.6</td>\n",
       "      <td>5.1</td>\n",
       "      <td>5.6</td>\n",
       "      <td>5.8</td>\n",
       "      <td>4.8</td>\n",
       "      <td>4.5</td>\n",
       "      <td>7.4</td>\n",
       "      <td></td>\n",
       "      <td>4.9</td>\n",
       "      <td></td>\n",
       "    </tr>\n",
       "    <tr>\n",
       "      <th>2017-08-01</th>\n",
       "      <td>100.0</td>\n",
       "      <td>7.7</td>\n",
       "      <td>6.3</td>\n",
       "      <td>6.3</td>\n",
       "      <td>5.0</td>\n",
       "      <td>4.4</td>\n",
       "      <td>6.6</td>\n",
       "      <td>2.8</td>\n",
       "      <td>2.6</td>\n",
       "      <td></td>\n",
       "      <td></td>\n",
       "    </tr>\n",
       "    <tr>\n",
       "      <th>2017-09-01</th>\n",
       "      <td>100.0</td>\n",
       "      <td></td>\n",
       "      <td>10.2</td>\n",
       "      <td></td>\n",
       "      <td>3.9</td>\n",
       "      <td>6.6</td>\n",
       "      <td>2.4</td>\n",
       "      <td>2.3</td>\n",
       "      <td></td>\n",
       "      <td></td>\n",
       "      <td></td>\n",
       "    </tr>\n",
       "    <tr>\n",
       "      <th>2017-10-01</th>\n",
       "      <td>100.0</td>\n",
       "      <td>7.9</td>\n",
       "      <td>5.2</td>\n",
       "      <td>3.9</td>\n",
       "      <td>5.9</td>\n",
       "      <td>2.1</td>\n",
       "      <td>2.0</td>\n",
       "      <td></td>\n",
       "      <td></td>\n",
       "      <td></td>\n",
       "      <td></td>\n",
       "    </tr>\n",
       "    <tr>\n",
       "      <th>2017-11-01</th>\n",
       "      <td>100.0</td>\n",
       "      <td></td>\n",
       "      <td>4.4</td>\n",
       "      <td>6.5</td>\n",
       "      <td>2.3</td>\n",
       "      <td>2.2</td>\n",
       "      <td></td>\n",
       "      <td></td>\n",
       "      <td></td>\n",
       "      <td></td>\n",
       "      <td></td>\n",
       "    </tr>\n",
       "    <tr>\n",
       "      <th>2017-12-01</th>\n",
       "      <td>100.0</td>\n",
       "      <td>5.6</td>\n",
       "      <td>6.2</td>\n",
       "      <td>2.0</td>\n",
       "      <td>1.9</td>\n",
       "      <td></td>\n",
       "      <td></td>\n",
       "      <td></td>\n",
       "      <td></td>\n",
       "      <td></td>\n",
       "      <td></td>\n",
       "    </tr>\n",
       "    <tr>\n",
       "      <th>2018-01-01</th>\n",
       "      <td>100.0</td>\n",
       "      <td>9.0</td>\n",
       "      <td>2.5</td>\n",
       "      <td>2.0</td>\n",
       "      <td></td>\n",
       "      <td></td>\n",
       "      <td></td>\n",
       "      <td></td>\n",
       "      <td></td>\n",
       "      <td></td>\n",
       "      <td></td>\n",
       "    </tr>\n",
       "    <tr>\n",
       "      <th>2018-02-01</th>\n",
       "      <td>100.0</td>\n",
       "      <td>2.5</td>\n",
       "      <td>2.0</td>\n",
       "      <td></td>\n",
       "      <td></td>\n",
       "      <td></td>\n",
       "      <td></td>\n",
       "      <td></td>\n",
       "      <td></td>\n",
       "      <td></td>\n",
       "      <td></td>\n",
       "    </tr>\n",
       "    <tr>\n",
       "      <th>2018-03-01</th>\n",
       "      <td>100.0</td>\n",
       "      <td>4.2</td>\n",
       "      <td>2.7</td>\n",
       "      <td></td>\n",
       "      <td></td>\n",
       "      <td></td>\n",
       "      <td></td>\n",
       "      <td></td>\n",
       "      <td></td>\n",
       "      <td></td>\n",
       "      <td></td>\n",
       "    </tr>\n",
       "    <tr>\n",
       "      <th>2018-04-01</th>\n",
       "      <td>100.0</td>\n",
       "      <td></td>\n",
       "      <td></td>\n",
       "      <td></td>\n",
       "      <td></td>\n",
       "      <td></td>\n",
       "      <td></td>\n",
       "      <td></td>\n",
       "      <td></td>\n",
       "      <td></td>\n",
       "      <td></td>\n",
       "    </tr>\n",
       "    <tr>\n",
       "      <th>2018-05-01</th>\n",
       "      <td>100.0</td>\n",
       "      <td></td>\n",
       "      <td></td>\n",
       "      <td></td>\n",
       "      <td></td>\n",
       "      <td></td>\n",
       "      <td></td>\n",
       "      <td></td>\n",
       "      <td></td>\n",
       "      <td></td>\n",
       "      <td></td>\n",
       "    </tr>\n",
       "  </tbody>\n",
       "</table>\n",
       "</div>"
      ],
      "text/plain": [
       "first_visits_month     %_0  %_1   %_2  %_3  %_4  %_5  %_6  %_7  %_8  %_9 %_10\n",
       "first_session_month                                                          \n",
       "2017-06-01           100.0        5.4  6.1  6.9  7.1  6.1  5.8  8.4  4.1  4.5\n",
       "2017-07-01           100.0  5.6   5.1  5.6  5.8  4.8  4.5  7.4       4.9     \n",
       "2017-08-01           100.0  7.7   6.3  6.3  5.0  4.4  6.6  2.8  2.6          \n",
       "2017-09-01           100.0       10.2       3.9  6.6  2.4  2.3               \n",
       "2017-10-01           100.0  7.9   5.2  3.9  5.9  2.1  2.0                    \n",
       "2017-11-01           100.0        4.4  6.5  2.3  2.2                         \n",
       "2017-12-01           100.0  5.6   6.2  2.0  1.9                              \n",
       "2018-01-01           100.0  9.0   2.5  2.0                                   \n",
       "2018-02-01           100.0  2.5   2.0                                        \n",
       "2018-03-01           100.0  4.2   2.7                                        \n",
       "2018-04-01           100.0                                                   \n",
       "2018-05-01           100.0                                                   "
      ]
     },
     "execution_count": 595,
     "metadata": {},
     "output_type": "execute_result"
    }
   ],
   "source": [
    "percent_cohort = cohorts.copy()\n",
    "for i in [0, 1, 2, 3, 4, 5, 6, 7, 8, 9, 10]:\n",
    "    percent_cohort[f'%_{i}'] = round(percent_cohort[i] / percent_cohort[0] * 100, 1)\n",
    "    if i != 0:\n",
    "        percent_cohort = percent_cohort.drop([i], axis=1)\n",
    "\n",
    "percent_cohort = percent_cohort.drop([0], axis=1)\n",
    "percent_cohort.fillna('')"
   ]
  },
  {
   "cell_type": "code",
   "execution_count": 596,
   "metadata": {},
   "outputs": [],
   "source": [
    "percent_cohort.index = percent_cohort.index.strftime('%Y-%m')"
   ]
  },
  {
   "cell_type": "code",
   "execution_count": 597,
   "metadata": {
    "scrolled": false
   },
   "outputs": [
    {
     "data": {
      "image/png": "[encoded data removed]",
      "text/plain": [
       "<Figure size 936x648 with 2 Axes>"
      ]
     },
     "metadata": {
      "needs_background": "light"
     },
     "output_type": "display_data"
    }
   ],
   "source": [
    "plt.figure(figsize=(13, 9))\n",
    "plt.title('Margin Rata-rata Pengguna Kembali Menggunakan Produk')\n",
    "sns.heatmap(\n",
    "    percent_cohort[['%_1', '%_2', '%_3', '%_4', '%_5', '%_6', '%_7', '%_8', '%_9', '%_9', '%_10']],\n",
    "    annot=True,\n",
    "    fmt='.1f',\n",
    "    linewidths=1,\n",
    "    linecolor='black',\n",
    ")\n",
    "plt.show()"
   ]
  },
  {
   "cell_type": "markdown",
   "metadata": {},
   "source": [
    "Laporan :\n",
    "   - Kohort bulan September 2017 yang paling tinggi persentase pengguna untuk kembali pada bulan ke-2."
   ]
  },
  {
   "cell_type": "markdown",
   "metadata": {},
   "source": [
    "### Penjualan"
   ]
  },
  {
   "cell_type": "markdown",
   "metadata": {},
   "source": [
    "Mencari tahu waktu user mulai melakukan pembelian"
   ]
  },
  {
   "cell_type": "code",
   "execution_count": 598,
   "metadata": {
    "scrolled": true
   },
   "outputs": [
    {
     "data": {
      "text/html": [
       "<div>\n",
       "<style scoped>\n",
       "    .dataframe tbody tr th:only-of-type {\n",
       "        vertical-align: middle;\n",
       "    }\n",
       "\n",
       "    .dataframe tbody tr th {\n",
       "        vertical-align: top;\n",
       "    }\n",
       "\n",
       "    .dataframe thead th {\n",
       "        text-align: right;\n",
       "    }\n",
       "</style>\n",
       "<table border=\"1\" class=\"dataframe\">\n",
       "  <thead>\n",
       "    <tr style=\"text-align: right;\">\n",
       "      <th></th>\n",
       "      <th>uid</th>\n",
       "      <th>first_session_start_ts</th>\n",
       "      <th>first_session_dt</th>\n",
       "      <th>first_session_month</th>\n",
       "    </tr>\n",
       "  </thead>\n",
       "  <tbody>\n",
       "    <tr>\n",
       "      <th>0</th>\n",
       "      <td>11863502262781</td>\n",
       "      <td>2018-03-01 17:27:00</td>\n",
       "      <td>2018-03-01</td>\n",
       "      <td>2018-03-01</td>\n",
       "    </tr>\n",
       "    <tr>\n",
       "      <th>1</th>\n",
       "      <td>49537067089222</td>\n",
       "      <td>2018-02-06 15:55:00</td>\n",
       "      <td>2018-02-06</td>\n",
       "      <td>2018-02-01</td>\n",
       "    </tr>\n",
       "    <tr>\n",
       "      <th>2</th>\n",
       "      <td>297729379853735</td>\n",
       "      <td>2017-06-07 18:47:00</td>\n",
       "      <td>2017-06-07</td>\n",
       "      <td>2017-06-01</td>\n",
       "    </tr>\n",
       "    <tr>\n",
       "      <th>3</th>\n",
       "      <td>313578113262317</td>\n",
       "      <td>2017-09-18 22:49:00</td>\n",
       "      <td>2017-09-18</td>\n",
       "      <td>2017-09-01</td>\n",
       "    </tr>\n",
       "    <tr>\n",
       "      <th>4</th>\n",
       "      <td>325320750514679</td>\n",
       "      <td>2017-09-30 14:29:00</td>\n",
       "      <td>2017-09-30</td>\n",
       "      <td>2017-09-01</td>\n",
       "    </tr>\n",
       "  </tbody>\n",
       "</table>\n",
       "</div>"
      ],
      "text/plain": [
       "               uid first_session_start_ts first_session_dt first_session_month\n",
       "0   11863502262781    2018-03-01 17:27:00       2018-03-01          2018-03-01\n",
       "1   49537067089222    2018-02-06 15:55:00       2018-02-06          2018-02-01\n",
       "2  297729379853735    2017-06-07 18:47:00       2017-06-07          2017-06-01\n",
       "3  313578113262317    2017-09-18 22:49:00       2017-09-18          2017-09-01\n",
       "4  325320750514679    2017-09-30 14:29:00       2017-09-30          2017-09-01"
      ]
     },
     "execution_count": 598,
     "metadata": {},
     "output_type": "execute_result"
    }
   ],
   "source": [
    "first_visits.head()"
   ]
  },
  {
   "cell_type": "code",
   "execution_count": 599,
   "metadata": {},
   "outputs": [
    {
     "data": {
      "text/html": [
       "<div>\n",
       "<style scoped>\n",
       "    .dataframe tbody tr th:only-of-type {\n",
       "        vertical-align: middle;\n",
       "    }\n",
       "\n",
       "    .dataframe tbody tr th {\n",
       "        vertical-align: top;\n",
       "    }\n",
       "\n",
       "    .dataframe thead th {\n",
       "        text-align: right;\n",
       "    }\n",
       "</style>\n",
       "<table border=\"1\" class=\"dataframe\">\n",
       "  <thead>\n",
       "    <tr style=\"text-align: right;\">\n",
       "      <th></th>\n",
       "      <th>uid</th>\n",
       "      <th>first_buy</th>\n",
       "    </tr>\n",
       "  </thead>\n",
       "  <tbody>\n",
       "    <tr>\n",
       "      <th>0</th>\n",
       "      <td>313578113262317</td>\n",
       "      <td>2018-01-03 21:51:00</td>\n",
       "    </tr>\n",
       "    <tr>\n",
       "      <th>1</th>\n",
       "      <td>1575281904278712</td>\n",
       "      <td>2017-06-03 10:13:00</td>\n",
       "    </tr>\n",
       "    <tr>\n",
       "      <th>2</th>\n",
       "      <td>2429014661409475</td>\n",
       "      <td>2017-10-11 18:33:00</td>\n",
       "    </tr>\n",
       "    <tr>\n",
       "      <th>3</th>\n",
       "      <td>2464366381792757</td>\n",
       "      <td>2018-01-28 15:54:00</td>\n",
       "    </tr>\n",
       "    <tr>\n",
       "      <th>4</th>\n",
       "      <td>2551852515556206</td>\n",
       "      <td>2017-11-24 10:14:00</td>\n",
       "    </tr>\n",
       "    <tr>\n",
       "      <th>...</th>\n",
       "      <td>...</td>\n",
       "      <td>...</td>\n",
       "    </tr>\n",
       "    <tr>\n",
       "      <th>36518</th>\n",
       "      <td>18445147675727495770</td>\n",
       "      <td>2017-11-24 09:03:00</td>\n",
       "    </tr>\n",
       "    <tr>\n",
       "      <th>36519</th>\n",
       "      <td>18445407535914413204</td>\n",
       "      <td>2017-09-22 23:55:00</td>\n",
       "    </tr>\n",
       "    <tr>\n",
       "      <th>36520</th>\n",
       "      <td>18445601152732270159</td>\n",
       "      <td>2018-03-26 22:54:00</td>\n",
       "    </tr>\n",
       "    <tr>\n",
       "      <th>36521</th>\n",
       "      <td>18446156210226471712</td>\n",
       "      <td>2018-02-18 19:34:00</td>\n",
       "    </tr>\n",
       "    <tr>\n",
       "      <th>36522</th>\n",
       "      <td>18446167067214817906</td>\n",
       "      <td>2017-10-17 10:16:00</td>\n",
       "    </tr>\n",
       "  </tbody>\n",
       "</table>\n",
       "<p>36523 rows × 2 columns</p>\n",
       "</div>"
      ],
      "text/plain": [
       "                        uid           first_buy\n",
       "0           313578113262317 2018-01-03 21:51:00\n",
       "1          1575281904278712 2017-06-03 10:13:00\n",
       "2          2429014661409475 2017-10-11 18:33:00\n",
       "3          2464366381792757 2018-01-28 15:54:00\n",
       "4          2551852515556206 2017-11-24 10:14:00\n",
       "...                     ...                 ...\n",
       "36518  18445147675727495770 2017-11-24 09:03:00\n",
       "36519  18445407535914413204 2017-09-22 23:55:00\n",
       "36520  18445601152732270159 2018-03-26 22:54:00\n",
       "36521  18446156210226471712 2018-02-18 19:34:00\n",
       "36522  18446167067214817906 2017-10-17 10:16:00\n",
       "\n",
       "[36523 rows x 2 columns]"
      ]
     },
     "execution_count": 599,
     "metadata": {},
     "output_type": "execute_result"
    }
   ],
   "source": [
    "first_orders = orders.groupby('uid')['buy_ts'].min().reset_index()\n",
    "first_orders.columns = ['uid', 'first_buy']\n",
    "first_orders"
   ]
  },
  {
   "cell_type": "code",
   "execution_count": 600,
   "metadata": {},
   "outputs": [],
   "source": [
    "first_orders['first_buy_date'] = first_orders['first_buy'].dt.date\n",
    "first_orders['first_buy_month'] = first_orders['first_buy'].astype('datetime64[M]')"
   ]
  },
  {
   "cell_type": "code",
   "execution_count": 601,
   "metadata": {},
   "outputs": [],
   "source": [
    "first_visit_order = first_visits.merge(first_orders, how='inner', on='uid')"
   ]
  },
  {
   "cell_type": "markdown",
   "metadata": {},
   "source": [
    "Kohort hari user awal transaksi"
   ]
  },
  {
   "cell_type": "code",
   "execution_count": 602,
   "metadata": {},
   "outputs": [],
   "source": [
    "first_visit_order['first_order_day'] = (\n",
    "    first_visit_order['first_buy_date'] - first_visit_order['first_session_dt']\n",
    ")\n",
    "first_visit_order['first_order_day'] = first_visit_order[\n",
    "    'first_order_day'\n",
    "] / np.timedelta64(1, 'D')\n",
    "first_visit_order['first_order_day'] = first_visit_order['first_order_day'].astype(int)"
   ]
  },
  {
   "cell_type": "code",
   "execution_count": 603,
   "metadata": {},
   "outputs": [
    {
     "data": {
      "text/html": [
       "<div>\n",
       "<style scoped>\n",
       "    .dataframe tbody tr th:only-of-type {\n",
       "        vertical-align: middle;\n",
       "    }\n",
       "\n",
       "    .dataframe tbody tr th {\n",
       "        vertical-align: top;\n",
       "    }\n",
       "\n",
       "    .dataframe thead th {\n",
       "        text-align: right;\n",
       "    }\n",
       "</style>\n",
       "<table border=\"1\" class=\"dataframe\">\n",
       "  <thead>\n",
       "    <tr style=\"text-align: right;\">\n",
       "      <th></th>\n",
       "      <th>uid</th>\n",
       "      <th>first_session_start_ts</th>\n",
       "      <th>first_session_dt</th>\n",
       "      <th>first_session_month</th>\n",
       "      <th>first_buy</th>\n",
       "      <th>first_buy_date</th>\n",
       "      <th>first_buy_month</th>\n",
       "      <th>first_order_day</th>\n",
       "    </tr>\n",
       "  </thead>\n",
       "  <tbody>\n",
       "    <tr>\n",
       "      <th>0</th>\n",
       "      <td>313578113262317</td>\n",
       "      <td>2017-09-18 22:49:00</td>\n",
       "      <td>2017-09-18</td>\n",
       "      <td>2017-09-01</td>\n",
       "      <td>2018-01-03 21:51:00</td>\n",
       "      <td>2018-01-03</td>\n",
       "      <td>2018-01-01</td>\n",
       "      <td>107</td>\n",
       "    </tr>\n",
       "    <tr>\n",
       "      <th>3</th>\n",
       "      <td>2464366381792757</td>\n",
       "      <td>2018-01-27 20:10:00</td>\n",
       "      <td>2018-01-27</td>\n",
       "      <td>2018-01-01</td>\n",
       "      <td>2018-01-28 15:54:00</td>\n",
       "      <td>2018-01-28</td>\n",
       "      <td>2018-01-01</td>\n",
       "      <td>1</td>\n",
       "    </tr>\n",
       "    <tr>\n",
       "      <th>6</th>\n",
       "      <td>3605148382144603</td>\n",
       "      <td>2017-08-15 21:54:00</td>\n",
       "      <td>2017-08-15</td>\n",
       "      <td>2017-08-01</td>\n",
       "      <td>2017-09-21 20:56:00</td>\n",
       "      <td>2017-09-21</td>\n",
       "      <td>2017-09-01</td>\n",
       "      <td>37</td>\n",
       "    </tr>\n",
       "    <tr>\n",
       "      <th>10</th>\n",
       "      <td>5081614443770358</td>\n",
       "      <td>2017-10-20 12:10:00</td>\n",
       "      <td>2017-10-20</td>\n",
       "      <td>2017-10-01</td>\n",
       "      <td>2017-11-13 14:43:00</td>\n",
       "      <td>2017-11-13</td>\n",
       "      <td>2017-11-01</td>\n",
       "      <td>24</td>\n",
       "    </tr>\n",
       "    <tr>\n",
       "      <th>14</th>\n",
       "      <td>9681021228476518</td>\n",
       "      <td>2017-12-07 23:53:00</td>\n",
       "      <td>2017-12-07</td>\n",
       "      <td>2017-12-01</td>\n",
       "      <td>2017-12-08 01:10:00</td>\n",
       "      <td>2017-12-08</td>\n",
       "      <td>2017-12-01</td>\n",
       "      <td>1</td>\n",
       "    </tr>\n",
       "    <tr>\n",
       "      <th>...</th>\n",
       "      <td>...</td>\n",
       "      <td>...</td>\n",
       "      <td>...</td>\n",
       "      <td>...</td>\n",
       "      <td>...</td>\n",
       "      <td>...</td>\n",
       "      <td>...</td>\n",
       "      <td>...</td>\n",
       "    </tr>\n",
       "    <tr>\n",
       "      <th>36515</th>\n",
       "      <td>18440933819332658804</td>\n",
       "      <td>2017-10-05 23:03:00</td>\n",
       "      <td>2017-10-05</td>\n",
       "      <td>2017-10-01</td>\n",
       "      <td>2018-01-28 11:22:00</td>\n",
       "      <td>2018-01-28</td>\n",
       "      <td>2018-01-01</td>\n",
       "      <td>115</td>\n",
       "    </tr>\n",
       "    <tr>\n",
       "      <th>36516</th>\n",
       "      <td>18442106212931715033</td>\n",
       "      <td>2017-11-27 00:40:00</td>\n",
       "      <td>2017-11-27</td>\n",
       "      <td>2017-11-01</td>\n",
       "      <td>2018-01-06 00:35:00</td>\n",
       "      <td>2018-01-06</td>\n",
       "      <td>2018-01-01</td>\n",
       "      <td>40</td>\n",
       "    </tr>\n",
       "    <tr>\n",
       "      <th>36518</th>\n",
       "      <td>18445147675727495770</td>\n",
       "      <td>2017-08-20 13:30:00</td>\n",
       "      <td>2017-08-20</td>\n",
       "      <td>2017-08-01</td>\n",
       "      <td>2017-11-24 09:03:00</td>\n",
       "      <td>2017-11-24</td>\n",
       "      <td>2017-11-01</td>\n",
       "      <td>96</td>\n",
       "    </tr>\n",
       "    <tr>\n",
       "      <th>36520</th>\n",
       "      <td>18445601152732270159</td>\n",
       "      <td>2017-08-07 11:51:00</td>\n",
       "      <td>2017-08-07</td>\n",
       "      <td>2017-08-01</td>\n",
       "      <td>2018-03-26 22:54:00</td>\n",
       "      <td>2018-03-26</td>\n",
       "      <td>2018-03-01</td>\n",
       "      <td>231</td>\n",
       "    </tr>\n",
       "    <tr>\n",
       "      <th>36521</th>\n",
       "      <td>18446156210226471712</td>\n",
       "      <td>2017-11-07 10:01:00</td>\n",
       "      <td>2017-11-07</td>\n",
       "      <td>2017-11-01</td>\n",
       "      <td>2018-02-18 19:34:00</td>\n",
       "      <td>2018-02-18</td>\n",
       "      <td>2018-02-01</td>\n",
       "      <td>103</td>\n",
       "    </tr>\n",
       "  </tbody>\n",
       "</table>\n",
       "<p>11484 rows × 8 columns</p>\n",
       "</div>"
      ],
      "text/plain": [
       "                        uid first_session_start_ts first_session_dt  \\\n",
       "0           313578113262317    2017-09-18 22:49:00       2017-09-18   \n",
       "3          2464366381792757    2018-01-27 20:10:00       2018-01-27   \n",
       "6          3605148382144603    2017-08-15 21:54:00       2017-08-15   \n",
       "10         5081614443770358    2017-10-20 12:10:00       2017-10-20   \n",
       "14         9681021228476518    2017-12-07 23:53:00       2017-12-07   \n",
       "...                     ...                    ...              ...   \n",
       "36515  18440933819332658804    2017-10-05 23:03:00       2017-10-05   \n",
       "36516  18442106212931715033    2017-11-27 00:40:00       2017-11-27   \n",
       "36518  18445147675727495770    2017-08-20 13:30:00       2017-08-20   \n",
       "36520  18445601152732270159    2017-08-07 11:51:00       2017-08-07   \n",
       "36521  18446156210226471712    2017-11-07 10:01:00       2017-11-07   \n",
       "\n",
       "      first_session_month           first_buy first_buy_date first_buy_month  \\\n",
       "0              2017-09-01 2018-01-03 21:51:00     2018-01-03      2018-01-01   \n",
       "3              2018-01-01 2018-01-28 15:54:00     2018-01-28      2018-01-01   \n",
       "6              2017-08-01 2017-09-21 20:56:00     2017-09-21      2017-09-01   \n",
       "10             2017-10-01 2017-11-13 14:43:00     2017-11-13      2017-11-01   \n",
       "14             2017-12-01 2017-12-08 01:10:00     2017-12-08      2017-12-01   \n",
       "...                   ...                 ...            ...             ...   \n",
       "36515          2017-10-01 2018-01-28 11:22:00     2018-01-28      2018-01-01   \n",
       "36516          2017-11-01 2018-01-06 00:35:00     2018-01-06      2018-01-01   \n",
       "36518          2017-08-01 2017-11-24 09:03:00     2017-11-24      2017-11-01   \n",
       "36520          2017-08-01 2018-03-26 22:54:00     2018-03-26      2018-03-01   \n",
       "36521          2017-11-01 2018-02-18 19:34:00     2018-02-18      2018-02-01   \n",
       "\n",
       "       first_order_day  \n",
       "0                  107  \n",
       "3                    1  \n",
       "6                   37  \n",
       "10                  24  \n",
       "14                   1  \n",
       "...                ...  \n",
       "36515              115  \n",
       "36516               40  \n",
       "36518               96  \n",
       "36520              231  \n",
       "36521              103  \n",
       "\n",
       "[11484 rows x 8 columns]"
      ]
     },
     "execution_count": 603,
     "metadata": {},
     "output_type": "execute_result"
    }
   ],
   "source": [
    "initial_orders_count = first_visit_order[first_visit_order['first_order_day'] > 0]\n",
    "initial_orders_count"
   ]
  },
  {
   "cell_type": "code",
   "execution_count": 604,
   "metadata": {
    "scrolled": false
   },
   "outputs": [
    {
     "data": {
      "image/png": "[encoded data removed]",
      "text/plain": [
       "<Figure size 576x288 with 1 Axes>"
      ]
     },
     "metadata": {
      "needs_background": "light"
     },
     "output_type": "display_data"
    }
   ],
   "source": [
    "plt.figure(figsize=(8, 4))\n",
    "plt.title('Waktu Mulai Pembelian Berdasarkan \"Hari\"')\n",
    "sns.histplot(initial_orders_count['first_order_day'], binwidth=20)\n",
    "plt.show()"
   ]
  },
  {
   "cell_type": "markdown",
   "metadata": {},
   "source": [
    "Pada hari pertama hingga hari ke-25 setelahnya yang memiliki nilai paling tinggi"
   ]
  },
  {
   "cell_type": "markdown",
   "metadata": {},
   "source": [
    "Mencari jumlah pesanan user selama periode waktu tertentu"
   ]
  },
  {
   "cell_type": "code",
   "execution_count": 605,
   "metadata": {},
   "outputs": [],
   "source": [
    "orders['buy_month'] = orders['buy_ts'].astype('datetime64[M]')"
   ]
  },
  {
   "cell_type": "code",
   "execution_count": 606,
   "metadata": {},
   "outputs": [],
   "source": [
    "monthly_order = orders.groupby('buy_month').agg({'uid': ['nunique', 'count']})['uid'].reset_index()"
   ]
  },
  {
   "cell_type": "code",
   "execution_count": 607,
   "metadata": {
    "scrolled": true
   },
   "outputs": [
    {
     "data": {
      "text/html": [
       "<div>\n",
       "<style scoped>\n",
       "    .dataframe tbody tr th:only-of-type {\n",
       "        vertical-align: middle;\n",
       "    }\n",
       "\n",
       "    .dataframe tbody tr th {\n",
       "        vertical-align: top;\n",
       "    }\n",
       "\n",
       "    .dataframe thead th {\n",
       "        text-align: right;\n",
       "    }\n",
       "</style>\n",
       "<table border=\"1\" class=\"dataframe\">\n",
       "  <thead>\n",
       "    <tr style=\"text-align: right;\">\n",
       "      <th></th>\n",
       "      <th>buy_month</th>\n",
       "      <th>nunique</th>\n",
       "      <th>count</th>\n",
       "      <th>order_per_user</th>\n",
       "    </tr>\n",
       "  </thead>\n",
       "  <tbody>\n",
       "    <tr>\n",
       "      <th>0</th>\n",
       "      <td>2017-06-01</td>\n",
       "      <td>2023</td>\n",
       "      <td>2354</td>\n",
       "      <td>1.163618</td>\n",
       "    </tr>\n",
       "    <tr>\n",
       "      <th>1</th>\n",
       "      <td>2017-07-01</td>\n",
       "      <td>1984</td>\n",
       "      <td>2363</td>\n",
       "      <td>1.191028</td>\n",
       "    </tr>\n",
       "    <tr>\n",
       "      <th>2</th>\n",
       "      <td>2017-08-01</td>\n",
       "      <td>1472</td>\n",
       "      <td>1807</td>\n",
       "      <td>1.227582</td>\n",
       "    </tr>\n",
       "    <tr>\n",
       "      <th>3</th>\n",
       "      <td>2017-09-01</td>\n",
       "      <td>2750</td>\n",
       "      <td>3387</td>\n",
       "      <td>1.231636</td>\n",
       "    </tr>\n",
       "    <tr>\n",
       "      <th>4</th>\n",
       "      <td>2017-10-01</td>\n",
       "      <td>4675</td>\n",
       "      <td>5679</td>\n",
       "      <td>1.214759</td>\n",
       "    </tr>\n",
       "    <tr>\n",
       "      <th>5</th>\n",
       "      <td>2017-11-01</td>\n",
       "      <td>4547</td>\n",
       "      <td>5659</td>\n",
       "      <td>1.244557</td>\n",
       "    </tr>\n",
       "    <tr>\n",
       "      <th>6</th>\n",
       "      <td>2017-12-01</td>\n",
       "      <td>4942</td>\n",
       "      <td>6218</td>\n",
       "      <td>1.258195</td>\n",
       "    </tr>\n",
       "    <tr>\n",
       "      <th>7</th>\n",
       "      <td>2018-01-01</td>\n",
       "      <td>3898</td>\n",
       "      <td>4721</td>\n",
       "      <td>1.211134</td>\n",
       "    </tr>\n",
       "    <tr>\n",
       "      <th>8</th>\n",
       "      <td>2018-02-01</td>\n",
       "      <td>4258</td>\n",
       "      <td>5281</td>\n",
       "      <td>1.240254</td>\n",
       "    </tr>\n",
       "    <tr>\n",
       "      <th>9</th>\n",
       "      <td>2018-03-01</td>\n",
       "      <td>4181</td>\n",
       "      <td>5326</td>\n",
       "      <td>1.273858</td>\n",
       "    </tr>\n",
       "    <tr>\n",
       "      <th>10</th>\n",
       "      <td>2018-04-01</td>\n",
       "      <td>2744</td>\n",
       "      <td>3273</td>\n",
       "      <td>1.192784</td>\n",
       "    </tr>\n",
       "    <tr>\n",
       "      <th>11</th>\n",
       "      <td>2018-05-01</td>\n",
       "      <td>3544</td>\n",
       "      <td>4346</td>\n",
       "      <td>1.226298</td>\n",
       "    </tr>\n",
       "  </tbody>\n",
       "</table>\n",
       "</div>"
      ],
      "text/plain": [
       "    buy_month  nunique  count  order_per_user\n",
       "0  2017-06-01     2023   2354        1.163618\n",
       "1  2017-07-01     1984   2363        1.191028\n",
       "2  2017-08-01     1472   1807        1.227582\n",
       "3  2017-09-01     2750   3387        1.231636\n",
       "4  2017-10-01     4675   5679        1.214759\n",
       "5  2017-11-01     4547   5659        1.244557\n",
       "6  2017-12-01     4942   6218        1.258195\n",
       "7  2018-01-01     3898   4721        1.211134\n",
       "8  2018-02-01     4258   5281        1.240254\n",
       "9  2018-03-01     4181   5326        1.273858\n",
       "10 2018-04-01     2744   3273        1.192784\n",
       "11 2018-05-01     3544   4346        1.226298"
      ]
     },
     "execution_count": 607,
     "metadata": {},
     "output_type": "execute_result"
    }
   ],
   "source": [
    "monthly_order['order_per_user'] = monthly_order['count'] / monthly_order['nunique']\n",
    "monthly_order = monthly_order.drop(12)\n",
    "monthly_order"
   ]
  },
  {
   "cell_type": "code",
   "execution_count": 608,
   "metadata": {
    "scrolled": true
   },
   "outputs": [
    {
     "data": {
      "image/png": "[encoded data removed]",
      "text/plain": [
       "<Figure size 720x288 with 1 Axes>"
      ]
     },
     "metadata": {
      "needs_background": "light"
     },
     "output_type": "display_data"
    }
   ],
   "source": [
    "monthly_order.plot(x='buy_month', y='order_per_user', style='-', title='Pesanan pada Pembelian Tertentu', grid=True, figsize=(10, 4))\n",
    "plt.show()"
   ]
  },
  {
   "cell_type": "markdown",
   "metadata": {},
   "source": [
    "Terlihat pada grafik menunjukkan hasil yang naik turun dan ini mengindikasikan permintaan yang banyak dari waktu ke waktu"
   ]
  },
  {
   "cell_type": "markdown",
   "metadata": {},
   "source": [
    "Mencari jumlah besaran rata-rata pembeliannya"
   ]
  },
  {
   "cell_type": "code",
   "execution_count": 609,
   "metadata": {
    "scrolled": false
   },
   "outputs": [
    {
     "data": {
      "text/html": [
       "<div>\n",
       "<style scoped>\n",
       "    .dataframe tbody tr th:only-of-type {\n",
       "        vertical-align: middle;\n",
       "    }\n",
       "\n",
       "    .dataframe tbody tr th {\n",
       "        vertical-align: top;\n",
       "    }\n",
       "\n",
       "    .dataframe thead th {\n",
       "        text-align: right;\n",
       "    }\n",
       "</style>\n",
       "<table border=\"1\" class=\"dataframe\">\n",
       "  <thead>\n",
       "    <tr style=\"text-align: right;\">\n",
       "      <th></th>\n",
       "      <th>uid</th>\n",
       "      <th>revenue</th>\n",
       "    </tr>\n",
       "    <tr>\n",
       "      <th>buy_month</th>\n",
       "      <th></th>\n",
       "      <th></th>\n",
       "    </tr>\n",
       "  </thead>\n",
       "  <tbody>\n",
       "    <tr>\n",
       "      <th>2017-06-01</th>\n",
       "      <td>2023</td>\n",
       "      <td>4.060106</td>\n",
       "    </tr>\n",
       "    <tr>\n",
       "      <th>2017-07-01</th>\n",
       "      <td>1984</td>\n",
       "      <td>5.306589</td>\n",
       "    </tr>\n",
       "    <tr>\n",
       "      <th>2017-08-01</th>\n",
       "      <td>1472</td>\n",
       "      <td>4.847139</td>\n",
       "    </tr>\n",
       "    <tr>\n",
       "      <th>2017-09-01</th>\n",
       "      <td>2750</td>\n",
       "      <td>5.416448</td>\n",
       "    </tr>\n",
       "    <tr>\n",
       "      <th>2017-10-01</th>\n",
       "      <td>4675</td>\n",
       "      <td>4.928280</td>\n",
       "    </tr>\n",
       "    <tr>\n",
       "      <th>2017-11-01</th>\n",
       "      <td>4547</td>\n",
       "      <td>4.783518</td>\n",
       "    </tr>\n",
       "    <tr>\n",
       "      <th>2017-12-01</th>\n",
       "      <td>4942</td>\n",
       "      <td>5.852139</td>\n",
       "    </tr>\n",
       "    <tr>\n",
       "      <th>2018-01-01</th>\n",
       "      <td>3898</td>\n",
       "      <td>4.112927</td>\n",
       "    </tr>\n",
       "    <tr>\n",
       "      <th>2018-02-01</th>\n",
       "      <td>4258</td>\n",
       "      <td>4.840095</td>\n",
       "    </tr>\n",
       "    <tr>\n",
       "      <th>2018-03-01</th>\n",
       "      <td>4181</td>\n",
       "      <td>5.413930</td>\n",
       "    </tr>\n",
       "    <tr>\n",
       "      <th>2018-04-01</th>\n",
       "      <td>2744</td>\n",
       "      <td>5.150645</td>\n",
       "    </tr>\n",
       "    <tr>\n",
       "      <th>2018-05-01</th>\n",
       "      <td>3544</td>\n",
       "      <td>4.771279</td>\n",
       "    </tr>\n",
       "    <tr>\n",
       "      <th>2018-06-01</th>\n",
       "      <td>1</td>\n",
       "      <td>3.420000</td>\n",
       "    </tr>\n",
       "  </tbody>\n",
       "</table>\n",
       "</div>"
      ],
      "text/plain": [
       "             uid   revenue\n",
       "buy_month                 \n",
       "2017-06-01  2023  4.060106\n",
       "2017-07-01  1984  5.306589\n",
       "2017-08-01  1472  4.847139\n",
       "2017-09-01  2750  5.416448\n",
       "2017-10-01  4675  4.928280\n",
       "2017-11-01  4547  4.783518\n",
       "2017-12-01  4942  5.852139\n",
       "2018-01-01  3898  4.112927\n",
       "2018-02-01  4258  4.840095\n",
       "2018-03-01  4181  5.413930\n",
       "2018-04-01  2744  5.150645\n",
       "2018-05-01  3544  4.771279\n",
       "2018-06-01     1  3.420000"
      ]
     },
     "execution_count": 609,
     "metadata": {},
     "output_type": "execute_result"
    }
   ],
   "source": [
    "revenue_orders_month = orders.groupby('buy_month').agg({'uid': 'nunique', 'revenue': 'mean'})\n",
    "revenue_orders_month"
   ]
  },
  {
   "cell_type": "code",
   "execution_count": 610,
   "metadata": {},
   "outputs": [],
   "source": [
    "revenue_orders_month.index = revenue_orders_month.index.strftime('%Y-%m')"
   ]
  },
  {
   "cell_type": "code",
   "execution_count": 611,
   "metadata": {
    "scrolled": false
   },
   "outputs": [
    {
     "data": {
      "image/png": "[encoded data removed]",
      "text/plain": [
       "<Figure size 1008x432 with 1 Axes>"
      ]
     },
     "metadata": {
      "needs_background": "light"
     },
     "output_type": "display_data"
    }
   ],
   "source": [
    "plt.figure(figsize=(14, 6))\n",
    "sns.barplot(data=revenue_orders_month, y='revenue', x=revenue_orders_month.index)\n",
    "plt.title('Besaran Rata-rata Pembelian per Bulan')\n",
    "plt.show()"
   ]
  },
  {
   "cell_type": "markdown",
   "metadata": {},
   "source": [
    "Pembelian terhadap user yang banyak juga mendatangkan pendapatan yang baik ini mengimplikasikan permintaan yang juga tinggi"
   ]
  },
  {
   "cell_type": "markdown",
   "metadata": {},
   "source": [
    "Mencari LTV"
   ]
  },
  {
   "cell_type": "code",
   "execution_count": 612,
   "metadata": {
    "scrolled": true
   },
   "outputs": [
    {
     "data": {
      "text/html": [
       "<div>\n",
       "<style scoped>\n",
       "    .dataframe tbody tr th:only-of-type {\n",
       "        vertical-align: middle;\n",
       "    }\n",
       "\n",
       "    .dataframe tbody tr th {\n",
       "        vertical-align: top;\n",
       "    }\n",
       "\n",
       "    .dataframe thead th {\n",
       "        text-align: right;\n",
       "    }\n",
       "</style>\n",
       "<table border=\"1\" class=\"dataframe\">\n",
       "  <thead>\n",
       "    <tr style=\"text-align: right;\">\n",
       "      <th></th>\n",
       "      <th>first_buy_month</th>\n",
       "      <th>n_buyers</th>\n",
       "    </tr>\n",
       "  </thead>\n",
       "  <tbody>\n",
       "    <tr>\n",
       "      <th>0</th>\n",
       "      <td>2017-06-01</td>\n",
       "      <td>2023</td>\n",
       "    </tr>\n",
       "    <tr>\n",
       "      <th>1</th>\n",
       "      <td>2017-07-01</td>\n",
       "      <td>1923</td>\n",
       "    </tr>\n",
       "    <tr>\n",
       "      <th>2</th>\n",
       "      <td>2017-08-01</td>\n",
       "      <td>1370</td>\n",
       "    </tr>\n",
       "    <tr>\n",
       "      <th>3</th>\n",
       "      <td>2017-09-01</td>\n",
       "      <td>2581</td>\n",
       "    </tr>\n",
       "    <tr>\n",
       "      <th>4</th>\n",
       "      <td>2017-10-01</td>\n",
       "      <td>4340</td>\n",
       "    </tr>\n",
       "  </tbody>\n",
       "</table>\n",
       "</div>"
      ],
      "text/plain": [
       "  first_buy_month  n_buyers\n",
       "0      2017-06-01      2023\n",
       "1      2017-07-01      1923\n",
       "2      2017-08-01      1370\n",
       "3      2017-09-01      2581\n",
       "4      2017-10-01      4340"
      ]
     },
     "execution_count": 612,
     "metadata": {},
     "output_type": "execute_result"
    }
   ],
   "source": [
    "cohort_sizes = first_orders.groupby('first_buy_month').agg({'uid': 'nunique'}).reset_index()\n",
    "cohort_sizes.columns = ['first_buy_month', 'n_buyers']\n",
    "cohort_sizes.head()"
   ]
  },
  {
   "cell_type": "code",
   "execution_count": 613,
   "metadata": {
    "scrolled": true
   },
   "outputs": [],
   "source": [
    "orders_ = pd.merge(orders,first_orders, on='uid')"
   ]
  },
  {
   "cell_type": "code",
   "execution_count": 614,
   "metadata": {
    "scrolled": true
   },
   "outputs": [],
   "source": [
    "cohorts = orders_.groupby(['first_buy_month','buy_month']).agg({'revenue': 'sum'}).reset_index()"
   ]
  },
  {
   "cell_type": "code",
   "execution_count": 615,
   "metadata": {
    "scrolled": true
   },
   "outputs": [],
   "source": [
    "report = pd.merge(cohort_sizes, cohorts, on='first_buy_month')"
   ]
  },
  {
   "cell_type": "markdown",
   "metadata": {},
   "source": [
    "margin rate 50%?"
   ]
  },
  {
   "cell_type": "code",
   "execution_count": 616,
   "metadata": {
    "scrolled": true
   },
   "outputs": [
    {
     "data": {
      "text/html": [
       "<div>\n",
       "<style scoped>\n",
       "    .dataframe tbody tr th:only-of-type {\n",
       "        vertical-align: middle;\n",
       "    }\n",
       "\n",
       "    .dataframe tbody tr th {\n",
       "        vertical-align: top;\n",
       "    }\n",
       "\n",
       "    .dataframe thead th {\n",
       "        text-align: right;\n",
       "    }\n",
       "</style>\n",
       "<table border=\"1\" class=\"dataframe\">\n",
       "  <thead>\n",
       "    <tr style=\"text-align: right;\">\n",
       "      <th></th>\n",
       "      <th>first_buy_month</th>\n",
       "      <th>n_buyers</th>\n",
       "      <th>buy_month</th>\n",
       "      <th>revenue</th>\n",
       "      <th>gp</th>\n",
       "      <th>age</th>\n",
       "    </tr>\n",
       "  </thead>\n",
       "  <tbody>\n",
       "    <tr>\n",
       "      <th>0</th>\n",
       "      <td>2017-06-01</td>\n",
       "      <td>2023</td>\n",
       "      <td>2017-06-01</td>\n",
       "      <td>9557.49</td>\n",
       "      <td>4778.745</td>\n",
       "      <td>0</td>\n",
       "    </tr>\n",
       "    <tr>\n",
       "      <th>1</th>\n",
       "      <td>2017-06-01</td>\n",
       "      <td>2023</td>\n",
       "      <td>2017-07-01</td>\n",
       "      <td>981.82</td>\n",
       "      <td>490.910</td>\n",
       "      <td>1</td>\n",
       "    </tr>\n",
       "    <tr>\n",
       "      <th>2</th>\n",
       "      <td>2017-06-01</td>\n",
       "      <td>2023</td>\n",
       "      <td>2017-08-01</td>\n",
       "      <td>885.34</td>\n",
       "      <td>442.670</td>\n",
       "      <td>2</td>\n",
       "    </tr>\n",
       "    <tr>\n",
       "      <th>3</th>\n",
       "      <td>2017-06-01</td>\n",
       "      <td>2023</td>\n",
       "      <td>2017-09-01</td>\n",
       "      <td>1931.30</td>\n",
       "      <td>965.650</td>\n",
       "      <td>3</td>\n",
       "    </tr>\n",
       "    <tr>\n",
       "      <th>4</th>\n",
       "      <td>2017-06-01</td>\n",
       "      <td>2023</td>\n",
       "      <td>2017-10-01</td>\n",
       "      <td>2068.58</td>\n",
       "      <td>1034.290</td>\n",
       "      <td>4</td>\n",
       "    </tr>\n",
       "  </tbody>\n",
       "</table>\n",
       "</div>"
      ],
      "text/plain": [
       "  first_buy_month  n_buyers  buy_month  revenue        gp  age\n",
       "0      2017-06-01      2023 2017-06-01  9557.49  4778.745    0\n",
       "1      2017-06-01      2023 2017-07-01   981.82   490.910    1\n",
       "2      2017-06-01      2023 2017-08-01   885.34   442.670    2\n",
       "3      2017-06-01      2023 2017-09-01  1931.30   965.650    3\n",
       "4      2017-06-01      2023 2017-10-01  2068.58  1034.290    4"
      ]
     },
     "execution_count": 616,
     "metadata": {},
     "output_type": "execute_result"
    }
   ],
   "source": [
    "margin_rate = 0.5\n",
    "\n",
    "report['gp'] = report['revenue'] * margin_rate\n",
    "report['age'] = (\n",
    "    report['buy_month'] - report['first_buy_month']\n",
    ") / np.timedelta64(1, 'M')\n",
    "report['age'] = report['age'].round().astype('int')\n",
    "\n",
    "report.head()"
   ]
  },
  {
   "cell_type": "code",
   "execution_count": 617,
   "metadata": {
    "scrolled": false
   },
   "outputs": [
    {
     "data": {
      "text/html": [
       "<div>\n",
       "<style scoped>\n",
       "    .dataframe tbody tr th:only-of-type {\n",
       "        vertical-align: middle;\n",
       "    }\n",
       "\n",
       "    .dataframe tbody tr th {\n",
       "        vertical-align: top;\n",
       "    }\n",
       "\n",
       "    .dataframe thead th {\n",
       "        text-align: right;\n",
       "    }\n",
       "</style>\n",
       "<table border=\"1\" class=\"dataframe\">\n",
       "  <thead>\n",
       "    <tr style=\"text-align: right;\">\n",
       "      <th>age</th>\n",
       "      <th>0</th>\n",
       "      <th>1</th>\n",
       "      <th>2</th>\n",
       "      <th>3</th>\n",
       "      <th>4</th>\n",
       "      <th>5</th>\n",
       "      <th>6</th>\n",
       "      <th>7</th>\n",
       "      <th>8</th>\n",
       "      <th>9</th>\n",
       "      <th>10</th>\n",
       "      <th>11</th>\n",
       "    </tr>\n",
       "    <tr>\n",
       "      <th>first_buy_month</th>\n",
       "      <th></th>\n",
       "      <th></th>\n",
       "      <th></th>\n",
       "      <th></th>\n",
       "      <th></th>\n",
       "      <th></th>\n",
       "      <th></th>\n",
       "      <th></th>\n",
       "      <th></th>\n",
       "      <th></th>\n",
       "      <th></th>\n",
       "      <th></th>\n",
       "    </tr>\n",
       "  </thead>\n",
       "  <tbody>\n",
       "    <tr>\n",
       "      <th>2017-06-01</th>\n",
       "      <td>2.362207</td>\n",
       "      <td>0.242664</td>\n",
       "      <td>0.218819</td>\n",
       "      <td>0.477336</td>\n",
       "      <td>0.511265</td>\n",
       "      <td>0.367751</td>\n",
       "      <td>0.47522</td>\n",
       "      <td>0.290796</td>\n",
       "      <td>0.276607</td>\n",
       "      <td>0.302894</td>\n",
       "      <td>0.28563</td>\n",
       "      <td>0.128428</td>\n",
       "    </tr>\n",
       "    <tr>\n",
       "      <th>2017-07-01</th>\n",
       "      <td>3.005109</td>\n",
       "      <td>0.167605</td>\n",
       "      <td>0.311765</td>\n",
       "      <td>0.179488</td>\n",
       "      <td>0.088396</td>\n",
       "      <td>0.078024</td>\n",
       "      <td>0.060104</td>\n",
       "      <td>0.07091</td>\n",
       "      <td>0.080616</td>\n",
       "      <td>0.073573</td>\n",
       "      <td>0.077837</td>\n",
       "      <td></td>\n",
       "    </tr>\n",
       "    <tr>\n",
       "      <th>2017-08-01</th>\n",
       "      <td>2.638259</td>\n",
       "      <td>0.235996</td>\n",
       "      <td>0.229241</td>\n",
       "      <td>0.195639</td>\n",
       "      <td>0.247026</td>\n",
       "      <td>0.14177</td>\n",
       "      <td>0.105332</td>\n",
       "      <td>0.202504</td>\n",
       "      <td>0.146106</td>\n",
       "      <td>0.093989</td>\n",
       "      <td></td>\n",
       "      <td></td>\n",
       "    </tr>\n",
       "    <tr>\n",
       "      <th>2017-09-01</th>\n",
       "      <td>2.822265</td>\n",
       "      <td>0.558793</td>\n",
       "      <td>0.260465</td>\n",
       "      <td>1.987896</td>\n",
       "      <td>0.200279</td>\n",
       "      <td>0.323534</td>\n",
       "      <td>0.350804</td>\n",
       "      <td>0.121575</td>\n",
       "      <td>0.092003</td>\n",
       "      <td></td>\n",
       "      <td></td>\n",
       "      <td></td>\n",
       "    </tr>\n",
       "    <tr>\n",
       "      <th>2017-10-01</th>\n",
       "      <td>2.501866</td>\n",
       "      <td>0.267881</td>\n",
       "      <td>0.095697</td>\n",
       "      <td>0.078573</td>\n",
       "      <td>0.07578</td>\n",
       "      <td>0.060181</td>\n",
       "      <td>0.042408</td>\n",
       "      <td>0.057735</td>\n",
       "      <td></td>\n",
       "      <td></td>\n",
       "      <td></td>\n",
       "      <td></td>\n",
       "    </tr>\n",
       "    <tr>\n",
       "      <th>2017-11-01</th>\n",
       "      <td>2.577341</td>\n",
       "      <td>0.199617</td>\n",
       "      <td>0.099778</td>\n",
       "      <td>0.162476</td>\n",
       "      <td>0.074006</td>\n",
       "      <td>0.026939</td>\n",
       "      <td>0.057464</td>\n",
       "      <td></td>\n",
       "      <td></td>\n",
       "      <td></td>\n",
       "      <td></td>\n",
       "      <td></td>\n",
       "    </tr>\n",
       "    <tr>\n",
       "      <th>2017-12-01</th>\n",
       "      <td>2.369095</td>\n",
       "      <td>0.130187</td>\n",
       "      <td>0.462548</td>\n",
       "      <td>0.532637</td>\n",
       "      <td>0.156465</td>\n",
       "      <td>0.169023</td>\n",
       "      <td></td>\n",
       "      <td></td>\n",
       "      <td></td>\n",
       "      <td></td>\n",
       "      <td></td>\n",
       "      <td></td>\n",
       "    </tr>\n",
       "    <tr>\n",
       "      <th>2018-01-01</th>\n",
       "      <td>2.067818</td>\n",
       "      <td>0.147379</td>\n",
       "      <td>0.152141</td>\n",
       "      <td>0.071389</td>\n",
       "      <td>0.031349</td>\n",
       "      <td></td>\n",
       "      <td></td>\n",
       "      <td></td>\n",
       "      <td></td>\n",
       "      <td></td>\n",
       "      <td></td>\n",
       "      <td></td>\n",
       "    </tr>\n",
       "    <tr>\n",
       "      <th>2018-02-01</th>\n",
       "      <td>2.078494</td>\n",
       "      <td>0.139137</td>\n",
       "      <td>0.039258</td>\n",
       "      <td>0.037072</td>\n",
       "      <td></td>\n",
       "      <td></td>\n",
       "      <td></td>\n",
       "      <td></td>\n",
       "      <td></td>\n",
       "      <td></td>\n",
       "      <td></td>\n",
       "      <td></td>\n",
       "    </tr>\n",
       "    <tr>\n",
       "      <th>2018-03-01</th>\n",
       "      <td>2.419401</td>\n",
       "      <td>0.150446</td>\n",
       "      <td>0.15778</td>\n",
       "      <td></td>\n",
       "      <td></td>\n",
       "      <td></td>\n",
       "      <td></td>\n",
       "      <td></td>\n",
       "      <td></td>\n",
       "      <td></td>\n",
       "      <td></td>\n",
       "      <td></td>\n",
       "    </tr>\n",
       "    <tr>\n",
       "      <th>2018-04-01</th>\n",
       "      <td>2.328798</td>\n",
       "      <td>0.2658</td>\n",
       "      <td></td>\n",
       "      <td></td>\n",
       "      <td></td>\n",
       "      <td></td>\n",
       "      <td></td>\n",
       "      <td></td>\n",
       "      <td></td>\n",
       "      <td></td>\n",
       "      <td></td>\n",
       "      <td></td>\n",
       "    </tr>\n",
       "    <tr>\n",
       "      <th>2018-05-01</th>\n",
       "      <td>2.330281</td>\n",
       "      <td></td>\n",
       "      <td></td>\n",
       "      <td></td>\n",
       "      <td></td>\n",
       "      <td></td>\n",
       "      <td></td>\n",
       "      <td></td>\n",
       "      <td></td>\n",
       "      <td></td>\n",
       "      <td></td>\n",
       "      <td></td>\n",
       "    </tr>\n",
       "    <tr>\n",
       "      <th>2018-06-01</th>\n",
       "      <td>1.710000</td>\n",
       "      <td></td>\n",
       "      <td></td>\n",
       "      <td></td>\n",
       "      <td></td>\n",
       "      <td></td>\n",
       "      <td></td>\n",
       "      <td></td>\n",
       "      <td></td>\n",
       "      <td></td>\n",
       "      <td></td>\n",
       "      <td></td>\n",
       "    </tr>\n",
       "  </tbody>\n",
       "</table>\n",
       "</div>"
      ],
      "text/plain": [
       "age                    0         1         2         3         4         5   \\\n",
       "first_buy_month                                                               \n",
       "2017-06-01       2.362207  0.242664  0.218819  0.477336  0.511265  0.367751   \n",
       "2017-07-01       3.005109  0.167605  0.311765  0.179488  0.088396  0.078024   \n",
       "2017-08-01       2.638259  0.235996  0.229241  0.195639  0.247026   0.14177   \n",
       "2017-09-01       2.822265  0.558793  0.260465  1.987896  0.200279  0.323534   \n",
       "2017-10-01       2.501866  0.267881  0.095697  0.078573   0.07578  0.060181   \n",
       "2017-11-01       2.577341  0.199617  0.099778  0.162476  0.074006  0.026939   \n",
       "2017-12-01       2.369095  0.130187  0.462548  0.532637  0.156465  0.169023   \n",
       "2018-01-01       2.067818  0.147379  0.152141  0.071389  0.031349             \n",
       "2018-02-01       2.078494  0.139137  0.039258  0.037072                       \n",
       "2018-03-01       2.419401  0.150446   0.15778                                 \n",
       "2018-04-01       2.328798    0.2658                                           \n",
       "2018-05-01       2.330281                                                     \n",
       "2018-06-01       1.710000                                                     \n",
       "\n",
       "age                    6         7         8         9         10        11  \n",
       "first_buy_month                                                              \n",
       "2017-06-01        0.47522  0.290796  0.276607  0.302894   0.28563  0.128428  \n",
       "2017-07-01       0.060104   0.07091  0.080616  0.073573  0.077837            \n",
       "2017-08-01       0.105332  0.202504  0.146106  0.093989                      \n",
       "2017-09-01       0.350804  0.121575  0.092003                                \n",
       "2017-10-01       0.042408  0.057735                                          \n",
       "2017-11-01       0.057464                                                    \n",
       "2017-12-01                                                                   \n",
       "2018-01-01                                                                   \n",
       "2018-02-01                                                                   \n",
       "2018-03-01                                                                   \n",
       "2018-04-01                                                                   \n",
       "2018-05-01                                                                   \n",
       "2018-06-01                                                                   "
      ]
     },
     "execution_count": 617,
     "metadata": {},
     "output_type": "execute_result"
    }
   ],
   "source": [
    "report['ltv'] = report['gp'] / report['n_buyers']\n",
    "\n",
    "output_ltv = report.pivot_table(\n",
    "    index='first_buy_month', columns='age', values='ltv', aggfunc='mean'\n",
    ")\n",
    "\n",
    "output_ltv.fillna('')"
   ]
  },
  {
   "cell_type": "code",
   "execution_count": 618,
   "metadata": {
    "scrolled": true
   },
   "outputs": [
    {
     "data": {
      "text/plain": [
       "5.939616905585764"
      ]
     },
     "execution_count": 618,
     "metadata": {},
     "output_type": "execute_result"
    }
   ],
   "source": [
    "ltv_201706 = output_ltv.loc['2017-06-01'].sum()\n",
    "ltv_201706"
   ]
  },
  {
   "cell_type": "code",
   "execution_count": 619,
   "metadata": {},
   "outputs": [],
   "source": [
    "output_ltv.index = output_ltv.index.strftime('%Y-%m')"
   ]
  },
  {
   "cell_type": "code",
   "execution_count": 620,
   "metadata": {
    "scrolled": false
   },
   "outputs": [
    {
     "data": {
      "image/png": "[encoded data removed]",
      "text/plain": [
       "<Figure size 936x648 with 2 Axes>"
      ]
     },
     "metadata": {
      "needs_background": "light"
     },
     "output_type": "display_data"
    }
   ],
   "source": [
    "plt.figure(figsize=(13, 9))\n",
    "plt.title('Jumlah Rata-rata Uang yang Pengguna Kontribusikan (LTV)')\n",
    "sns.heatmap(\n",
    "    output_ltv,\n",
    "    annot=True,\n",
    "    fmt='.2f',\n",
    "    linewidths=1,\n",
    "    linecolor='brown',\n",
    ")\n",
    "plt.show()"
   ]
  },
  {
   "cell_type": "markdown",
   "metadata": {},
   "source": [
    "Laporan :\n",
    "   - Kohort bulan September 2017 yang memiliki nilai paling tinggi pada bulan ke-3 (LTV = 1.99).\n",
    "   - Secara umum, setiap kohort yang lain masih cukup rendah untuk uang yang di sumbangkan per bulannya."
   ]
  },
  {
   "cell_type": "markdown",
   "metadata": {},
   "source": [
    "### Pemasaran"
   ]
  },
  {
   "cell_type": "markdown",
   "metadata": {},
   "source": [
    "Pemasaran akan kita hitung dari metrik CAC dan ROI"
   ]
  },
  {
   "cell_type": "code",
   "execution_count": 621,
   "metadata": {
    "scrolled": true
   },
   "outputs": [
    {
     "data": {
      "text/plain": [
       "4     101794\n",
       "3      85610\n",
       "5      66905\n",
       "2      47626\n",
       "1      34121\n",
       "9      13277\n",
       "10     10025\n",
       "7         36\n",
       "6          6\n",
       "Name: source_id, dtype: int64"
      ]
     },
     "execution_count": 621,
     "metadata": {},
     "output_type": "execute_result"
    }
   ],
   "source": [
    "visits['source_id'].value_counts()"
   ]
  },
  {
   "cell_type": "code",
   "execution_count": 622,
   "metadata": {},
   "outputs": [
    {
     "data": {
      "text/plain": [
       "(79, 7)"
      ]
     },
     "execution_count": 622,
     "metadata": {},
     "output_type": "execute_result"
    }
   ],
   "source": [
    "report.shape"
   ]
  },
  {
   "cell_type": "code",
   "execution_count": 623,
   "metadata": {},
   "outputs": [],
   "source": [
    "costs['month'] = costs['dt'].astype('datetime64[M]')"
   ]
  },
  {
   "cell_type": "code",
   "execution_count": 624,
   "metadata": {},
   "outputs": [],
   "source": [
    "cohort_201706 = report[report['first_buy_month'] == '2017-06-01']"
   ]
  },
  {
   "cell_type": "code",
   "execution_count": 625,
   "metadata": {},
   "outputs": [],
   "source": [
    "costs_201706 = costs[costs['month'] == '2017-06-01']['costs'].sum()"
   ]
  },
  {
   "cell_type": "code",
   "execution_count": 626,
   "metadata": {},
   "outputs": [],
   "source": [
    "n_buyers_201706 = cohort_201706['n_buyers'][0]\n",
    "cac_201706 = costs_201706 / n_buyers_201706 \n",
    "ltv_201706 = output.loc['2017-06'].sum()"
   ]
  },
  {
   "cell_type": "code",
   "execution_count": 627,
   "metadata": {},
   "outputs": [
    {
     "data": {
      "text/plain": [
       "8.905091448344043"
      ]
     },
     "execution_count": 627,
     "metadata": {},
     "output_type": "execute_result"
    }
   ],
   "source": [
    "cac_201706"
   ]
  },
  {
   "cell_type": "markdown",
   "metadata": {},
   "source": [
    "Biaya rata-rata yang dikeluarkan perusahaan untuk menarik setiap pelanggan mencapai $8,90"
   ]
  },
  {
   "cell_type": "code",
   "execution_count": 628,
   "metadata": {},
   "outputs": [
    {
     "data": {
      "text/plain": [
       "5.939616905585764"
      ]
     },
     "execution_count": 628,
     "metadata": {},
     "output_type": "execute_result"
    }
   ],
   "source": [
    "ltv_201706"
   ]
  },
  {
   "cell_type": "markdown",
   "metadata": {},
   "source": [
    "Sementara itu, setiap pelanggan menyumbangkan pendapatan hingga sebesar $5,93"
   ]
  },
  {
   "cell_type": "markdown",
   "metadata": {},
   "source": [
    "Sekarang menghitung CAC"
   ]
  },
  {
   "cell_type": "code",
   "execution_count": 629,
   "metadata": {
    "scrolled": true
   },
   "outputs": [
    {
     "data": {
      "text/html": [
       "<div>\n",
       "<style scoped>\n",
       "    .dataframe tbody tr th:only-of-type {\n",
       "        vertical-align: middle;\n",
       "    }\n",
       "\n",
       "    .dataframe tbody tr th {\n",
       "        vertical-align: top;\n",
       "    }\n",
       "\n",
       "    .dataframe thead th {\n",
       "        text-align: right;\n",
       "    }\n",
       "</style>\n",
       "<table border=\"1\" class=\"dataframe\">\n",
       "  <thead>\n",
       "    <tr style=\"text-align: right;\">\n",
       "      <th></th>\n",
       "      <th>source_id</th>\n",
       "      <th>costs</th>\n",
       "    </tr>\n",
       "    <tr>\n",
       "      <th>month</th>\n",
       "      <th></th>\n",
       "      <th></th>\n",
       "    </tr>\n",
       "  </thead>\n",
       "  <tbody>\n",
       "    <tr>\n",
       "      <th>2017-06-01</th>\n",
       "      <td>1020</td>\n",
       "      <td>18015.00</td>\n",
       "    </tr>\n",
       "    <tr>\n",
       "      <th>2017-07-01</th>\n",
       "      <td>1054</td>\n",
       "      <td>18240.59</td>\n",
       "    </tr>\n",
       "    <tr>\n",
       "      <th>2017-08-01</th>\n",
       "      <td>1054</td>\n",
       "      <td>14790.54</td>\n",
       "    </tr>\n",
       "    <tr>\n",
       "      <th>2017-09-01</th>\n",
       "      <td>1020</td>\n",
       "      <td>24368.91</td>\n",
       "    </tr>\n",
       "    <tr>\n",
       "      <th>2017-10-01</th>\n",
       "      <td>1054</td>\n",
       "      <td>36322.88</td>\n",
       "    </tr>\n",
       "  </tbody>\n",
       "</table>\n",
       "</div>"
      ],
      "text/plain": [
       "            source_id     costs\n",
       "month                          \n",
       "2017-06-01       1020  18015.00\n",
       "2017-07-01       1054  18240.59\n",
       "2017-08-01       1054  14790.54\n",
       "2017-09-01       1020  24368.91\n",
       "2017-10-01       1054  36322.88"
      ]
     },
     "execution_count": 629,
     "metadata": {},
     "output_type": "execute_result"
    }
   ],
   "source": [
    "monthly_costs = costs.groupby('month').sum()\n",
    "monthly_costs.head()"
   ]
  },
  {
   "cell_type": "code",
   "execution_count": 630,
   "metadata": {
    "scrolled": true
   },
   "outputs": [
    {
     "data": {
      "text/html": [
       "<div>\n",
       "<style scoped>\n",
       "    .dataframe tbody tr th:only-of-type {\n",
       "        vertical-align: middle;\n",
       "    }\n",
       "\n",
       "    .dataframe tbody tr th {\n",
       "        vertical-align: top;\n",
       "    }\n",
       "\n",
       "    .dataframe thead th {\n",
       "        text-align: right;\n",
       "    }\n",
       "</style>\n",
       "<table border=\"1\" class=\"dataframe\">\n",
       "  <thead>\n",
       "    <tr style=\"text-align: right;\">\n",
       "      <th></th>\n",
       "      <th>first_buy_month</th>\n",
       "      <th>n_buyers</th>\n",
       "      <th>buy_month</th>\n",
       "      <th>revenue</th>\n",
       "      <th>gp</th>\n",
       "      <th>age</th>\n",
       "      <th>ltv</th>\n",
       "      <th>source_id</th>\n",
       "      <th>costs</th>\n",
       "      <th>cac</th>\n",
       "    </tr>\n",
       "  </thead>\n",
       "  <tbody>\n",
       "    <tr>\n",
       "      <th>0</th>\n",
       "      <td>2017-06-01</td>\n",
       "      <td>2023</td>\n",
       "      <td>2017-06-01</td>\n",
       "      <td>9557.49</td>\n",
       "      <td>4778.745</td>\n",
       "      <td>0</td>\n",
       "      <td>2.362207</td>\n",
       "      <td>1020</td>\n",
       "      <td>18015.0</td>\n",
       "      <td>8.905091</td>\n",
       "    </tr>\n",
       "    <tr>\n",
       "      <th>1</th>\n",
       "      <td>2017-06-01</td>\n",
       "      <td>2023</td>\n",
       "      <td>2017-07-01</td>\n",
       "      <td>981.82</td>\n",
       "      <td>490.910</td>\n",
       "      <td>1</td>\n",
       "      <td>0.242664</td>\n",
       "      <td>1020</td>\n",
       "      <td>18015.0</td>\n",
       "      <td>8.905091</td>\n",
       "    </tr>\n",
       "    <tr>\n",
       "      <th>2</th>\n",
       "      <td>2017-06-01</td>\n",
       "      <td>2023</td>\n",
       "      <td>2017-08-01</td>\n",
       "      <td>885.34</td>\n",
       "      <td>442.670</td>\n",
       "      <td>2</td>\n",
       "      <td>0.218819</td>\n",
       "      <td>1020</td>\n",
       "      <td>18015.0</td>\n",
       "      <td>8.905091</td>\n",
       "    </tr>\n",
       "    <tr>\n",
       "      <th>3</th>\n",
       "      <td>2017-06-01</td>\n",
       "      <td>2023</td>\n",
       "      <td>2017-09-01</td>\n",
       "      <td>1931.30</td>\n",
       "      <td>965.650</td>\n",
       "      <td>3</td>\n",
       "      <td>0.477336</td>\n",
       "      <td>1020</td>\n",
       "      <td>18015.0</td>\n",
       "      <td>8.905091</td>\n",
       "    </tr>\n",
       "    <tr>\n",
       "      <th>4</th>\n",
       "      <td>2017-06-01</td>\n",
       "      <td>2023</td>\n",
       "      <td>2017-10-01</td>\n",
       "      <td>2068.58</td>\n",
       "      <td>1034.290</td>\n",
       "      <td>4</td>\n",
       "      <td>0.511265</td>\n",
       "      <td>1020</td>\n",
       "      <td>18015.0</td>\n",
       "      <td>8.905091</td>\n",
       "    </tr>\n",
       "  </tbody>\n",
       "</table>\n",
       "</div>"
      ],
      "text/plain": [
       "  first_buy_month  n_buyers  buy_month  revenue        gp  age       ltv  \\\n",
       "0      2017-06-01      2023 2017-06-01  9557.49  4778.745    0  2.362207   \n",
       "1      2017-06-01      2023 2017-07-01   981.82   490.910    1  0.242664   \n",
       "2      2017-06-01      2023 2017-08-01   885.34   442.670    2  0.218819   \n",
       "3      2017-06-01      2023 2017-09-01  1931.30   965.650    3  0.477336   \n",
       "4      2017-06-01      2023 2017-10-01  2068.58  1034.290    4  0.511265   \n",
       "\n",
       "   source_id    costs       cac  \n",
       "0       1020  18015.0  8.905091  \n",
       "1       1020  18015.0  8.905091  \n",
       "2       1020  18015.0  8.905091  \n",
       "3       1020  18015.0  8.905091  \n",
       "4       1020  18015.0  8.905091  "
      ]
     },
     "execution_count": 630,
     "metadata": {},
     "output_type": "execute_result"
    }
   ],
   "source": [
    "report_ = pd.merge(report, monthly_costs, left_on='first_buy_month', right_on='month')\n",
    "report_['cac'] = report_['costs'] / report_['n_buyers']\n",
    "report_.head()"
   ]
  },
  {
   "cell_type": "code",
   "execution_count": 631,
   "metadata": {},
   "outputs": [
    {
     "data": {
      "text/html": [
       "<div>\n",
       "<style scoped>\n",
       "    .dataframe tbody tr th:only-of-type {\n",
       "        vertical-align: middle;\n",
       "    }\n",
       "\n",
       "    .dataframe tbody tr th {\n",
       "        vertical-align: top;\n",
       "    }\n",
       "\n",
       "    .dataframe thead th {\n",
       "        text-align: right;\n",
       "    }\n",
       "</style>\n",
       "<table border=\"1\" class=\"dataframe\">\n",
       "  <thead>\n",
       "    <tr style=\"text-align: right;\">\n",
       "      <th>age</th>\n",
       "      <th>0</th>\n",
       "      <th>1</th>\n",
       "      <th>2</th>\n",
       "      <th>3</th>\n",
       "      <th>4</th>\n",
       "      <th>5</th>\n",
       "      <th>6</th>\n",
       "      <th>7</th>\n",
       "      <th>8</th>\n",
       "      <th>9</th>\n",
       "      <th>10</th>\n",
       "      <th>11</th>\n",
       "    </tr>\n",
       "    <tr>\n",
       "      <th>first_buy_month</th>\n",
       "      <th></th>\n",
       "      <th></th>\n",
       "      <th></th>\n",
       "      <th></th>\n",
       "      <th></th>\n",
       "      <th></th>\n",
       "      <th></th>\n",
       "      <th></th>\n",
       "      <th></th>\n",
       "      <th></th>\n",
       "      <th></th>\n",
       "      <th></th>\n",
       "    </tr>\n",
       "  </thead>\n",
       "  <tbody>\n",
       "    <tr>\n",
       "      <th>2017-06-01</th>\n",
       "      <td>8.905091</td>\n",
       "      <td>8.905091</td>\n",
       "      <td>8.905091</td>\n",
       "      <td>8.905091</td>\n",
       "      <td>8.905091</td>\n",
       "      <td>8.905091</td>\n",
       "      <td>8.905091</td>\n",
       "      <td>8.905091</td>\n",
       "      <td>8.905091</td>\n",
       "      <td>8.905091</td>\n",
       "      <td>8.905091</td>\n",
       "      <td>8.905091</td>\n",
       "    </tr>\n",
       "    <tr>\n",
       "      <th>2017-07-01</th>\n",
       "      <td>9.485486</td>\n",
       "      <td>9.485486</td>\n",
       "      <td>9.485486</td>\n",
       "      <td>9.485486</td>\n",
       "      <td>9.485486</td>\n",
       "      <td>9.485486</td>\n",
       "      <td>9.485486</td>\n",
       "      <td>9.485486</td>\n",
       "      <td>9.485486</td>\n",
       "      <td>9.485486</td>\n",
       "      <td>9.485486</td>\n",
       "      <td></td>\n",
       "    </tr>\n",
       "    <tr>\n",
       "      <th>2017-08-01</th>\n",
       "      <td>10.796015</td>\n",
       "      <td>10.796015</td>\n",
       "      <td>10.796015</td>\n",
       "      <td>10.796015</td>\n",
       "      <td>10.796015</td>\n",
       "      <td>10.796015</td>\n",
       "      <td>10.796015</td>\n",
       "      <td>10.796015</td>\n",
       "      <td>10.796015</td>\n",
       "      <td>10.796015</td>\n",
       "      <td></td>\n",
       "      <td></td>\n",
       "    </tr>\n",
       "    <tr>\n",
       "      <th>2017-09-01</th>\n",
       "      <td>9.441654</td>\n",
       "      <td>9.441654</td>\n",
       "      <td>9.441654</td>\n",
       "      <td>9.441654</td>\n",
       "      <td>9.441654</td>\n",
       "      <td>9.441654</td>\n",
       "      <td>9.441654</td>\n",
       "      <td>9.441654</td>\n",
       "      <td>9.441654</td>\n",
       "      <td></td>\n",
       "      <td></td>\n",
       "      <td></td>\n",
       "    </tr>\n",
       "    <tr>\n",
       "      <th>2017-10-01</th>\n",
       "      <td>8.369327</td>\n",
       "      <td>8.369327</td>\n",
       "      <td>8.369327</td>\n",
       "      <td>8.369327</td>\n",
       "      <td>8.369327</td>\n",
       "      <td>8.369327</td>\n",
       "      <td>8.369327</td>\n",
       "      <td>8.369327</td>\n",
       "      <td></td>\n",
       "      <td></td>\n",
       "      <td></td>\n",
       "      <td></td>\n",
       "    </tr>\n",
       "    <tr>\n",
       "      <th>2017-11-01</th>\n",
       "      <td>9.288870</td>\n",
       "      <td>9.28887</td>\n",
       "      <td>9.28887</td>\n",
       "      <td>9.28887</td>\n",
       "      <td>9.28887</td>\n",
       "      <td>9.28887</td>\n",
       "      <td>9.28887</td>\n",
       "      <td></td>\n",
       "      <td></td>\n",
       "      <td></td>\n",
       "      <td></td>\n",
       "      <td></td>\n",
       "    </tr>\n",
       "    <tr>\n",
       "      <th>2017-12-01</th>\n",
       "      <td>8.741809</td>\n",
       "      <td>8.741809</td>\n",
       "      <td>8.741809</td>\n",
       "      <td>8.741809</td>\n",
       "      <td>8.741809</td>\n",
       "      <td>8.741809</td>\n",
       "      <td></td>\n",
       "      <td></td>\n",
       "      <td></td>\n",
       "      <td></td>\n",
       "      <td></td>\n",
       "      <td></td>\n",
       "    </tr>\n",
       "    <tr>\n",
       "      <th>2018-01-01</th>\n",
       "      <td>9.937302</td>\n",
       "      <td>9.937302</td>\n",
       "      <td>9.937302</td>\n",
       "      <td>9.937302</td>\n",
       "      <td>9.937302</td>\n",
       "      <td></td>\n",
       "      <td></td>\n",
       "      <td></td>\n",
       "      <td></td>\n",
       "      <td></td>\n",
       "      <td></td>\n",
       "      <td></td>\n",
       "    </tr>\n",
       "    <tr>\n",
       "      <th>2018-02-01</th>\n",
       "      <td>8.962758</td>\n",
       "      <td>8.962758</td>\n",
       "      <td>8.962758</td>\n",
       "      <td>8.962758</td>\n",
       "      <td></td>\n",
       "      <td></td>\n",
       "      <td></td>\n",
       "      <td></td>\n",
       "      <td></td>\n",
       "      <td></td>\n",
       "      <td></td>\n",
       "      <td></td>\n",
       "    </tr>\n",
       "    <tr>\n",
       "      <th>2018-03-01</th>\n",
       "      <td>8.608907</td>\n",
       "      <td>8.608907</td>\n",
       "      <td>8.608907</td>\n",
       "      <td></td>\n",
       "      <td></td>\n",
       "      <td></td>\n",
       "      <td></td>\n",
       "      <td></td>\n",
       "      <td></td>\n",
       "      <td></td>\n",
       "      <td></td>\n",
       "      <td></td>\n",
       "    </tr>\n",
       "    <tr>\n",
       "      <th>2018-04-01</th>\n",
       "      <td>9.793225</td>\n",
       "      <td>9.793225</td>\n",
       "      <td></td>\n",
       "      <td></td>\n",
       "      <td></td>\n",
       "      <td></td>\n",
       "      <td></td>\n",
       "      <td></td>\n",
       "      <td></td>\n",
       "      <td></td>\n",
       "      <td></td>\n",
       "      <td></td>\n",
       "    </tr>\n",
       "    <tr>\n",
       "      <th>2018-05-01</th>\n",
       "      <td>7.437841</td>\n",
       "      <td></td>\n",
       "      <td></td>\n",
       "      <td></td>\n",
       "      <td></td>\n",
       "      <td></td>\n",
       "      <td></td>\n",
       "      <td></td>\n",
       "      <td></td>\n",
       "      <td></td>\n",
       "      <td></td>\n",
       "      <td></td>\n",
       "    </tr>\n",
       "  </tbody>\n",
       "</table>\n",
       "</div>"
      ],
      "text/plain": [
       "age                     0          1          2          3          4   \\\n",
       "first_buy_month                                                          \n",
       "2017-06-01        8.905091   8.905091   8.905091   8.905091   8.905091   \n",
       "2017-07-01        9.485486   9.485486   9.485486   9.485486   9.485486   \n",
       "2017-08-01       10.796015  10.796015  10.796015  10.796015  10.796015   \n",
       "2017-09-01        9.441654   9.441654   9.441654   9.441654   9.441654   \n",
       "2017-10-01        8.369327   8.369327   8.369327   8.369327   8.369327   \n",
       "2017-11-01        9.288870    9.28887    9.28887    9.28887    9.28887   \n",
       "2017-12-01        8.741809   8.741809   8.741809   8.741809   8.741809   \n",
       "2018-01-01        9.937302   9.937302   9.937302   9.937302   9.937302   \n",
       "2018-02-01        8.962758   8.962758   8.962758   8.962758              \n",
       "2018-03-01        8.608907   8.608907   8.608907                         \n",
       "2018-04-01        9.793225   9.793225                                    \n",
       "2018-05-01        7.437841                                               \n",
       "\n",
       "age                     5          6          7          8          9   \\\n",
       "first_buy_month                                                          \n",
       "2017-06-01        8.905091   8.905091   8.905091   8.905091   8.905091   \n",
       "2017-07-01        9.485486   9.485486   9.485486   9.485486   9.485486   \n",
       "2017-08-01       10.796015  10.796015  10.796015  10.796015  10.796015   \n",
       "2017-09-01        9.441654   9.441654   9.441654   9.441654              \n",
       "2017-10-01        8.369327   8.369327   8.369327                         \n",
       "2017-11-01         9.28887    9.28887                                    \n",
       "2017-12-01        8.741809                                               \n",
       "2018-01-01                                                               \n",
       "2018-02-01                                                               \n",
       "2018-03-01                                                               \n",
       "2018-04-01                                                               \n",
       "2018-05-01                                                               \n",
       "\n",
       "age                    10        11  \n",
       "first_buy_month                      \n",
       "2017-06-01       8.905091  8.905091  \n",
       "2017-07-01       9.485486            \n",
       "2017-08-01                           \n",
       "2017-09-01                           \n",
       "2017-10-01                           \n",
       "2017-11-01                           \n",
       "2017-12-01                           \n",
       "2018-01-01                           \n",
       "2018-02-01                           \n",
       "2018-03-01                           \n",
       "2018-04-01                           \n",
       "2018-05-01                           "
      ]
     },
     "execution_count": 631,
     "metadata": {},
     "output_type": "execute_result"
    }
   ],
   "source": [
    "output_cac = report_.pivot_table(\n",
    "    index='first_buy_month', columns='age', values='cac', aggfunc='mean'\n",
    ")\n",
    "\n",
    "output_cac.fillna('')"
   ]
  },
  {
   "cell_type": "code",
   "execution_count": 632,
   "metadata": {},
   "outputs": [],
   "source": [
    "output_cac.index = output_cac.index.strftime('%Y-%m')"
   ]
  },
  {
   "cell_type": "code",
   "execution_count": 633,
   "metadata": {
    "scrolled": false
   },
   "outputs": [
    {
     "data": {
      "image/png": "[encoded data removed]",
      "text/plain": [
       "<Figure size 936x648 with 2 Axes>"
      ]
     },
     "metadata": {
      "needs_background": "light"
     },
     "output_type": "display_data"
    }
   ],
   "source": [
    "plt.figure(figsize=(13, 9))\n",
    "plt.title('Biaya Rata-rata yang Dikeluarkan Perusahaan (CAC)')\n",
    "sns.heatmap(\n",
    "    output_cac,\n",
    "    annot=True,\n",
    "    fmt='.2f',\n",
    "    linewidths=1,\n",
    "    linecolor='brown',\n",
    ")\n",
    "plt.show()"
   ]
  },
  {
   "cell_type": "markdown",
   "metadata": {},
   "source": [
    "Laporan :\n",
    "   - Kohort bulan Oktober 2017 yang paling rendah pengeluaran biaya akuisisi (CAC = 8.37).\n",
    "   - Kohort bulan Agustus 2017 yang paling tinggi pengeluaran biaya akuisisi (CAC = 10.80).\n",
    "   - Secara umum, setiap kohort yang lain tidak terlalu jauh berbeda nilainya."
   ]
  },
  {
   "cell_type": "markdown",
   "metadata": {},
   "source": [
    "Menghitung ROI"
   ]
  },
  {
   "cell_type": "code",
   "execution_count": 634,
   "metadata": {
    "scrolled": false
   },
   "outputs": [
    {
     "data": {
      "text/html": [
       "<div>\n",
       "<style scoped>\n",
       "    .dataframe tbody tr th:only-of-type {\n",
       "        vertical-align: middle;\n",
       "    }\n",
       "\n",
       "    .dataframe tbody tr th {\n",
       "        vertical-align: top;\n",
       "    }\n",
       "\n",
       "    .dataframe thead th {\n",
       "        text-align: right;\n",
       "    }\n",
       "</style>\n",
       "<table border=\"1\" class=\"dataframe\">\n",
       "  <thead>\n",
       "    <tr style=\"text-align: right;\">\n",
       "      <th>age</th>\n",
       "      <th>0</th>\n",
       "      <th>1</th>\n",
       "      <th>2</th>\n",
       "      <th>3</th>\n",
       "      <th>4</th>\n",
       "      <th>5</th>\n",
       "      <th>6</th>\n",
       "      <th>7</th>\n",
       "      <th>8</th>\n",
       "      <th>9</th>\n",
       "      <th>10</th>\n",
       "      <th>11</th>\n",
       "    </tr>\n",
       "    <tr>\n",
       "      <th>first_buy_month</th>\n",
       "      <th></th>\n",
       "      <th></th>\n",
       "      <th></th>\n",
       "      <th></th>\n",
       "      <th></th>\n",
       "      <th></th>\n",
       "      <th></th>\n",
       "      <th></th>\n",
       "      <th></th>\n",
       "      <th></th>\n",
       "      <th></th>\n",
       "      <th></th>\n",
       "    </tr>\n",
       "  </thead>\n",
       "  <tbody>\n",
       "    <tr>\n",
       "      <th>2017-06-01</th>\n",
       "      <td>0.27</td>\n",
       "      <td>0.29</td>\n",
       "      <td>0.32</td>\n",
       "      <td>0.37</td>\n",
       "      <td>0.43</td>\n",
       "      <td>0.47</td>\n",
       "      <td>0.52</td>\n",
       "      <td>0.56</td>\n",
       "      <td>0.59</td>\n",
       "      <td>0.62</td>\n",
       "      <td>0.65</td>\n",
       "      <td>0.67</td>\n",
       "    </tr>\n",
       "    <tr>\n",
       "      <th>2017-07-01</th>\n",
       "      <td>0.32</td>\n",
       "      <td>0.33</td>\n",
       "      <td>0.37</td>\n",
       "      <td>0.39</td>\n",
       "      <td>0.4</td>\n",
       "      <td>0.4</td>\n",
       "      <td>0.41</td>\n",
       "      <td>0.42</td>\n",
       "      <td>0.43</td>\n",
       "      <td>0.43</td>\n",
       "      <td>0.44</td>\n",
       "      <td></td>\n",
       "    </tr>\n",
       "    <tr>\n",
       "      <th>2017-08-01</th>\n",
       "      <td>0.24</td>\n",
       "      <td>0.27</td>\n",
       "      <td>0.29</td>\n",
       "      <td>0.31</td>\n",
       "      <td>0.33</td>\n",
       "      <td>0.34</td>\n",
       "      <td>0.35</td>\n",
       "      <td>0.37</td>\n",
       "      <td>0.38</td>\n",
       "      <td>0.39</td>\n",
       "      <td></td>\n",
       "      <td></td>\n",
       "    </tr>\n",
       "    <tr>\n",
       "      <th>2017-09-01</th>\n",
       "      <td>0.30</td>\n",
       "      <td>0.36</td>\n",
       "      <td>0.39</td>\n",
       "      <td>0.6</td>\n",
       "      <td>0.62</td>\n",
       "      <td>0.65</td>\n",
       "      <td>0.69</td>\n",
       "      <td>0.7</td>\n",
       "      <td>0.71</td>\n",
       "      <td></td>\n",
       "      <td></td>\n",
       "      <td></td>\n",
       "    </tr>\n",
       "    <tr>\n",
       "      <th>2017-10-01</th>\n",
       "      <td>0.30</td>\n",
       "      <td>0.33</td>\n",
       "      <td>0.34</td>\n",
       "      <td>0.35</td>\n",
       "      <td>0.36</td>\n",
       "      <td>0.37</td>\n",
       "      <td>0.37</td>\n",
       "      <td>0.38</td>\n",
       "      <td></td>\n",
       "      <td></td>\n",
       "      <td></td>\n",
       "      <td></td>\n",
       "    </tr>\n",
       "    <tr>\n",
       "      <th>2017-11-01</th>\n",
       "      <td>0.28</td>\n",
       "      <td>0.3</td>\n",
       "      <td>0.31</td>\n",
       "      <td>0.33</td>\n",
       "      <td>0.34</td>\n",
       "      <td>0.34</td>\n",
       "      <td>0.34</td>\n",
       "      <td></td>\n",
       "      <td></td>\n",
       "      <td></td>\n",
       "      <td></td>\n",
       "      <td></td>\n",
       "    </tr>\n",
       "    <tr>\n",
       "      <th>2017-12-01</th>\n",
       "      <td>0.27</td>\n",
       "      <td>0.29</td>\n",
       "      <td>0.34</td>\n",
       "      <td>0.4</td>\n",
       "      <td>0.42</td>\n",
       "      <td>0.44</td>\n",
       "      <td></td>\n",
       "      <td></td>\n",
       "      <td></td>\n",
       "      <td></td>\n",
       "      <td></td>\n",
       "      <td></td>\n",
       "    </tr>\n",
       "    <tr>\n",
       "      <th>2018-01-01</th>\n",
       "      <td>0.21</td>\n",
       "      <td>0.22</td>\n",
       "      <td>0.24</td>\n",
       "      <td>0.25</td>\n",
       "      <td>0.25</td>\n",
       "      <td></td>\n",
       "      <td></td>\n",
       "      <td></td>\n",
       "      <td></td>\n",
       "      <td></td>\n",
       "      <td></td>\n",
       "      <td></td>\n",
       "    </tr>\n",
       "    <tr>\n",
       "      <th>2018-02-01</th>\n",
       "      <td>0.23</td>\n",
       "      <td>0.25</td>\n",
       "      <td>0.25</td>\n",
       "      <td>0.26</td>\n",
       "      <td></td>\n",
       "      <td></td>\n",
       "      <td></td>\n",
       "      <td></td>\n",
       "      <td></td>\n",
       "      <td></td>\n",
       "      <td></td>\n",
       "      <td></td>\n",
       "    </tr>\n",
       "    <tr>\n",
       "      <th>2018-03-01</th>\n",
       "      <td>0.28</td>\n",
       "      <td>0.3</td>\n",
       "      <td>0.32</td>\n",
       "      <td></td>\n",
       "      <td></td>\n",
       "      <td></td>\n",
       "      <td></td>\n",
       "      <td></td>\n",
       "      <td></td>\n",
       "      <td></td>\n",
       "      <td></td>\n",
       "      <td></td>\n",
       "    </tr>\n",
       "    <tr>\n",
       "      <th>2018-04-01</th>\n",
       "      <td>0.24</td>\n",
       "      <td>0.26</td>\n",
       "      <td></td>\n",
       "      <td></td>\n",
       "      <td></td>\n",
       "      <td></td>\n",
       "      <td></td>\n",
       "      <td></td>\n",
       "      <td></td>\n",
       "      <td></td>\n",
       "      <td></td>\n",
       "      <td></td>\n",
       "    </tr>\n",
       "    <tr>\n",
       "      <th>2018-05-01</th>\n",
       "      <td>0.31</td>\n",
       "      <td></td>\n",
       "      <td></td>\n",
       "      <td></td>\n",
       "      <td></td>\n",
       "      <td></td>\n",
       "      <td></td>\n",
       "      <td></td>\n",
       "      <td></td>\n",
       "      <td></td>\n",
       "      <td></td>\n",
       "      <td></td>\n",
       "    </tr>\n",
       "  </tbody>\n",
       "</table>\n",
       "</div>"
      ],
      "text/plain": [
       "age                0     1     2     3     4     5     6     7     8     9   \\\n",
       "first_buy_month                                                               \n",
       "2017-06-01       0.27  0.29  0.32  0.37  0.43  0.47  0.52  0.56  0.59  0.62   \n",
       "2017-07-01       0.32  0.33  0.37  0.39   0.4   0.4  0.41  0.42  0.43  0.43   \n",
       "2017-08-01       0.24  0.27  0.29  0.31  0.33  0.34  0.35  0.37  0.38  0.39   \n",
       "2017-09-01       0.30  0.36  0.39   0.6  0.62  0.65  0.69   0.7  0.71         \n",
       "2017-10-01       0.30  0.33  0.34  0.35  0.36  0.37  0.37  0.38               \n",
       "2017-11-01       0.28   0.3  0.31  0.33  0.34  0.34  0.34                     \n",
       "2017-12-01       0.27  0.29  0.34   0.4  0.42  0.44                           \n",
       "2018-01-01       0.21  0.22  0.24  0.25  0.25                                 \n",
       "2018-02-01       0.23  0.25  0.25  0.26                                       \n",
       "2018-03-01       0.28   0.3  0.32                                             \n",
       "2018-04-01       0.24  0.26                                                   \n",
       "2018-05-01       0.31                                                         \n",
       "\n",
       "age                10    11  \n",
       "first_buy_month              \n",
       "2017-06-01       0.65  0.67  \n",
       "2017-07-01       0.44        \n",
       "2017-08-01                   \n",
       "2017-09-01                   \n",
       "2017-10-01                   \n",
       "2017-11-01                   \n",
       "2017-12-01                   \n",
       "2018-01-01                   \n",
       "2018-02-01                   \n",
       "2018-03-01                   \n",
       "2018-04-01                   \n",
       "2018-05-01                   "
      ]
     },
     "execution_count": 634,
     "metadata": {},
     "output_type": "execute_result"
    }
   ],
   "source": [
    "report_['roi'] = report_['ltv'] / report_['cac']\n",
    "output_roi = report_.pivot_table(\n",
    "    index='first_buy_month', columns='age', values='roi', aggfunc='mean'\n",
    ")\n",
    "\n",
    "output_roi = output_roi.cumsum(axis=1).round(2)\n",
    "output_roi.fillna('')"
   ]
  },
  {
   "cell_type": "code",
   "execution_count": 635,
   "metadata": {},
   "outputs": [],
   "source": [
    "output_roi.index = output_roi.index.strftime('%Y-%m')"
   ]
  },
  {
   "cell_type": "code",
   "execution_count": 636,
   "metadata": {
    "scrolled": false
   },
   "outputs": [
    {
     "data": {
      "image/png": "[encoded data removed]",
      "text/plain": [
       "<Figure size 936x648 with 2 Axes>"
      ]
     },
     "metadata": {
      "needs_background": "light"
     },
     "output_type": "display_data"
    }
   ],
   "source": [
    "plt.figure(figsize=(13, 9))\n",
    "plt.title('Jumlah Rata-rata Uang yang di Keluarkan untuk Investasi (ROI)')\n",
    "sns.heatmap(\n",
    "    output_roi,\n",
    "    annot=True,\n",
    "    fmt='.2f',\n",
    "    linewidths=1,\n",
    "    linecolor='brown',\n",
    ")\n",
    "plt.show()"
   ]
  },
  {
   "cell_type": "markdown",
   "metadata": {},
   "source": [
    "Laporan :\n",
    "   - Kohort bulan September 2017 yang paling mendekati biaya return mulai pada bulan ke-3 sampai ke-8 (ROI = 0.6-0,71).\n",
    "   - Kohort bulan Januari 2018 yang masih paling jauh untuk biaya return investment (ROI = 0,21-0,25).\n",
    "   - Secara umum, kohort Juni dan September 2017 yang memiliki nilai paling tinggi, setiap kohort yang lain masih jauh untuk menutupi biaya modal secara penuh atau setidaknya mendekati penuh."
   ]
  },
  {
   "cell_type": "markdown",
   "metadata": {},
   "source": [
    "## Kesimpulan Umum"
   ]
  },
  {
   "cell_type": "markdown",
   "metadata": {},
   "source": [
    "Menunggu revisi.."
   ]
  },
  {
   "cell_type": "code",
   "execution_count": null,
   "metadata": {},
   "outputs": [],
   "source": []
  }
 ],
 "metadata": {
  "kernelspec": {
   "display_name": "Python 3 (ipykernel)",
   "language": "python",
   "name": "python3"
  },
  "language_info": {
   "codemirror_mode": {
    "name": "ipython",
    "version": 3
   },
   "file_extension": ".py",
   "mimetype": "text/x-python",
   "name": "python",
   "nbconvert_exporter": "python",
   "pygments_lexer": "ipython3",
   "version": "3.11.4"
  },
  "toc": {
   "base_numbering": 1,
   "nav_menu": {},
   "number_sections": true,
   "sideBar": true,
   "skip_h1_title": true,
   "title_cell": "Table of Contents",
   "title_sidebar": "Contents",
   "toc_cell": false,
   "toc_position": {
    "height": "calc(100% - 180px)",
    "left": "10px",
    "top": "150px",
    "width": "169.6px"
   },
   "toc_section_display": true,
   "toc_window_display": true
  }
 },
 "nbformat": 4,
 "nbformat_minor": 2
}
