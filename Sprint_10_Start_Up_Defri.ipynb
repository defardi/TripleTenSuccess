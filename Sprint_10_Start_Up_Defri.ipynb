{
 "cells": [
  {
   "cell_type": "markdown",
   "id": "5e86dbc7",
   "metadata": {},
   "source": [
    "# Membaca  Perilaku Pengguna pada Start-Up Produk Makanan berdasarkan Analisis Reguler dan Analisis A/A/B"
   ]
  },
  {
   "cell_type": "markdown",
   "id": "532fc568",
   "metadata": {},
   "source": [
    "Kamu bekerja di sebuah startup yang menjual produk makanan. Kamu perlu mencari tahu perilaku pengguna aplikasi dari perusahaan tersebut.\n",
    "   1. Pertama-tama, kamu perlu mempelajari funnel penjualannya terlebih dahulu.\n",
    "   2. Kemudian, lihat hasil dari A/A/B testing (Baca terus untuk mengetahui informasi lebih lanjut tentang A/A/B testing).\n",
    "Para pengguna dibagi menjadi tiga kelompok: dua kelompok kontrol diperlihatkan dengan versi font lama dan satu kelompok uji diperlihatkan dengan versi font terbaru. Tugasmu adalah mencari tahu font mana yang akan memberi hasil terbaik.\n",
    "\n",
    "Jika ada perbedaan yang signifikan di antara kedua kelompok A, hal ini bisa membantu kita untuk mengidentifikasi faktor-faktor yang mungkin mendistorsi hasil yang kita peroleh. Kamu akan menggunakan dataset yang sama untuk melakukan analisis reguler dan untuk melakukan analisis A/A/B."
   ]
  },
  {
   "cell_type": "markdown",
   "id": "699abd44",
   "metadata": {},
   "source": [
    "Tujuan : Memperoleh informasi pengguna berdasarkan peristiwa terhadap kelompok-kelompok tertentu (246, 247, dan 248) pada analisis reguler dan analisis A/A/B."
   ]
  },
  {
   "cell_type": "markdown",
   "id": "792da57c",
   "metadata": {},
   "source": [
    "## Deskripsi Data"
   ]
  },
  {
   "cell_type": "markdown",
   "id": "ebc33993",
   "metadata": {},
   "source": [
    "Dataframe `logs_exp_us` memuat:\n",
    "   - `EventName` — Nama peristiwa\n",
    "   - `DeviceIDHash` — ID unik pengguna\n",
    "   - `EventTimestamp` —  Waktu Peristiwa\n",
    "   - `ExpId` — Nomor eksperimen: 246 dan 247 untuk kelompok kontrol, 248 untuk kelompok uji"
   ]
  },
  {
   "cell_type": "markdown",
   "id": "ff652ccf",
   "metadata": {},
   "source": [
    "## Inisialisasi Libraries"
   ]
  },
  {
   "cell_type": "markdown",
   "id": "c6c9ed1d",
   "metadata": {},
   "source": [
    "Import library"
   ]
  },
  {
   "cell_type": "code",
   "execution_count": 39,
   "id": "24ac7df0",
   "metadata": {},
   "outputs": [],
   "source": [
    "import pandas as pd\n",
    "import math\n",
    "import numpy as np\n",
    "import scipy.stats as stats\n",
    "import matplotlib.pyplot as plt\n",
    "from plotly import graph_objects as go"
   ]
  },
  {
   "cell_type": "markdown",
   "id": "251ec0fd",
   "metadata": {},
   "source": [
    "Memuat data"
   ]
  },
  {
   "cell_type": "code",
   "execution_count": 40,
   "id": "7938b4aa",
   "metadata": {},
   "outputs": [],
   "source": [
    "try:\n",
    "    logs_data = pd.read_csv('logs_exp_us.csv', sep='\\t')\n",
    "except:\n",
    "    logs_data = pd.read_csv('/datasets/logs_exp_us.csv', sep='\\t')"
   ]
  },
  {
   "cell_type": "markdown",
   "id": "2c6ce219",
   "metadata": {},
   "source": [
    "## Mengenal Data"
   ]
  },
  {
   "cell_type": "markdown",
   "id": "08210e59",
   "metadata": {},
   "source": [
    "Total data ada 244126 logs untuk analisis kali ini"
   ]
  },
  {
   "cell_type": "code",
   "execution_count": 41,
   "id": "86b19a72",
   "metadata": {},
   "outputs": [
    {
     "name": "stdout",
     "output_type": "stream",
     "text": [
      "<class 'pandas.core.frame.DataFrame'>\n",
      "RangeIndex: 244126 entries, 0 to 244125\n",
      "Data columns (total 4 columns):\n",
      " #   Column          Non-Null Count   Dtype \n",
      "---  ------          --------------   ----- \n",
      " 0   EventName       244126 non-null  object\n",
      " 1   DeviceIDHash    244126 non-null  int64 \n",
      " 2   EventTimestamp  244126 non-null  int64 \n",
      " 3   ExpId           244126 non-null  int64 \n",
      "dtypes: int64(3), object(1)\n",
      "memory usage: 7.5+ MB\n"
     ]
    }
   ],
   "source": [
    "logs_data.info()"
   ]
  },
  {
   "cell_type": "code",
   "execution_count": 42,
   "id": "cc687a62",
   "metadata": {
    "scrolled": true
   },
   "outputs": [
    {
     "data": {
      "text/html": [
       "<div>\n",
       "<style scoped>\n",
       "    .dataframe tbody tr th:only-of-type {\n",
       "        vertical-align: middle;\n",
       "    }\n",
       "\n",
       "    .dataframe tbody tr th {\n",
       "        vertical-align: top;\n",
       "    }\n",
       "\n",
       "    .dataframe thead th {\n",
       "        text-align: right;\n",
       "    }\n",
       "</style>\n",
       "<table border=\"1\" class=\"dataframe\">\n",
       "  <thead>\n",
       "    <tr style=\"text-align: right;\">\n",
       "      <th></th>\n",
       "      <th>EventName</th>\n",
       "      <th>DeviceIDHash</th>\n",
       "      <th>EventTimestamp</th>\n",
       "      <th>ExpId</th>\n",
       "    </tr>\n",
       "  </thead>\n",
       "  <tbody>\n",
       "    <tr>\n",
       "      <th>0</th>\n",
       "      <td>MainScreenAppear</td>\n",
       "      <td>4575588528974610257</td>\n",
       "      <td>1564029816</td>\n",
       "      <td>246</td>\n",
       "    </tr>\n",
       "    <tr>\n",
       "      <th>1</th>\n",
       "      <td>MainScreenAppear</td>\n",
       "      <td>7416695313311560658</td>\n",
       "      <td>1564053102</td>\n",
       "      <td>246</td>\n",
       "    </tr>\n",
       "    <tr>\n",
       "      <th>2</th>\n",
       "      <td>PaymentScreenSuccessful</td>\n",
       "      <td>3518123091307005509</td>\n",
       "      <td>1564054127</td>\n",
       "      <td>248</td>\n",
       "    </tr>\n",
       "    <tr>\n",
       "      <th>3</th>\n",
       "      <td>CartScreenAppear</td>\n",
       "      <td>3518123091307005509</td>\n",
       "      <td>1564054127</td>\n",
       "      <td>248</td>\n",
       "    </tr>\n",
       "    <tr>\n",
       "      <th>4</th>\n",
       "      <td>PaymentScreenSuccessful</td>\n",
       "      <td>6217807653094995999</td>\n",
       "      <td>1564055322</td>\n",
       "      <td>248</td>\n",
       "    </tr>\n",
       "    <tr>\n",
       "      <th>5</th>\n",
       "      <td>CartScreenAppear</td>\n",
       "      <td>6217807653094995999</td>\n",
       "      <td>1564055323</td>\n",
       "      <td>248</td>\n",
       "    </tr>\n",
       "    <tr>\n",
       "      <th>6</th>\n",
       "      <td>OffersScreenAppear</td>\n",
       "      <td>8351860793733343758</td>\n",
       "      <td>1564066242</td>\n",
       "      <td>246</td>\n",
       "    </tr>\n",
       "    <tr>\n",
       "      <th>7</th>\n",
       "      <td>MainScreenAppear</td>\n",
       "      <td>5682100281902512875</td>\n",
       "      <td>1564085677</td>\n",
       "      <td>246</td>\n",
       "    </tr>\n",
       "    <tr>\n",
       "      <th>8</th>\n",
       "      <td>MainScreenAppear</td>\n",
       "      <td>1850981295691852772</td>\n",
       "      <td>1564086702</td>\n",
       "      <td>247</td>\n",
       "    </tr>\n",
       "    <tr>\n",
       "      <th>9</th>\n",
       "      <td>MainScreenAppear</td>\n",
       "      <td>5407636962369102641</td>\n",
       "      <td>1564112112</td>\n",
       "      <td>246</td>\n",
       "    </tr>\n",
       "  </tbody>\n",
       "</table>\n",
       "</div>"
      ],
      "text/plain": [
       "                 EventName         DeviceIDHash  EventTimestamp  ExpId\n",
       "0         MainScreenAppear  4575588528974610257      1564029816    246\n",
       "1         MainScreenAppear  7416695313311560658      1564053102    246\n",
       "2  PaymentScreenSuccessful  3518123091307005509      1564054127    248\n",
       "3         CartScreenAppear  3518123091307005509      1564054127    248\n",
       "4  PaymentScreenSuccessful  6217807653094995999      1564055322    248\n",
       "5         CartScreenAppear  6217807653094995999      1564055323    248\n",
       "6       OffersScreenAppear  8351860793733343758      1564066242    246\n",
       "7         MainScreenAppear  5682100281902512875      1564085677    246\n",
       "8         MainScreenAppear  1850981295691852772      1564086702    247\n",
       "9         MainScreenAppear  5407636962369102641      1564112112    246"
      ]
     },
     "execution_count": 42,
     "metadata": {},
     "output_type": "execute_result"
    }
   ],
   "source": [
    "logs_data.head(10)"
   ]
  },
  {
   "cell_type": "markdown",
   "id": "9328ff9e",
   "metadata": {},
   "source": [
    "Melihat data duplikat dan terdapat beberapa nilai yang terduplikasi berjumlahkan 413 dari keseluruhan data"
   ]
  },
  {
   "cell_type": "code",
   "execution_count": 43,
   "id": "e4f7cb97",
   "metadata": {},
   "outputs": [
    {
     "data": {
      "text/plain": [
       "413"
      ]
     },
     "execution_count": 43,
     "metadata": {},
     "output_type": "execute_result"
    }
   ],
   "source": [
    "logs_data.duplicated().sum()"
   ]
  },
  {
   "cell_type": "markdown",
   "id": "4edb61ac",
   "metadata": {},
   "source": [
    "Pada data missing tidak ditemukannya nilai tersebut"
   ]
  },
  {
   "cell_type": "code",
   "execution_count": 44,
   "id": "ea755204",
   "metadata": {},
   "outputs": [
    {
     "data": {
      "text/html": [
       "<div>\n",
       "<style scoped>\n",
       "    .dataframe tbody tr th:only-of-type {\n",
       "        vertical-align: middle;\n",
       "    }\n",
       "\n",
       "    .dataframe tbody tr th {\n",
       "        vertical-align: top;\n",
       "    }\n",
       "\n",
       "    .dataframe thead th {\n",
       "        text-align: right;\n",
       "    }\n",
       "</style>\n",
       "<table border=\"1\" class=\"dataframe\">\n",
       "  <thead>\n",
       "    <tr style=\"text-align: right;\">\n",
       "      <th></th>\n",
       "      <th>missing_values</th>\n",
       "      <th>% of total</th>\n",
       "    </tr>\n",
       "  </thead>\n",
       "  <tbody>\n",
       "    <tr>\n",
       "      <th>EventName</th>\n",
       "      <td>0</td>\n",
       "      <td>0.0</td>\n",
       "    </tr>\n",
       "    <tr>\n",
       "      <th>DeviceIDHash</th>\n",
       "      <td>0</td>\n",
       "      <td>0.0</td>\n",
       "    </tr>\n",
       "    <tr>\n",
       "      <th>EventTimestamp</th>\n",
       "      <td>0</td>\n",
       "      <td>0.0</td>\n",
       "    </tr>\n",
       "    <tr>\n",
       "      <th>ExpId</th>\n",
       "      <td>0</td>\n",
       "      <td>0.0</td>\n",
       "    </tr>\n",
       "  </tbody>\n",
       "</table>\n",
       "</div>"
      ],
      "text/plain": [
       "                missing_values  % of total\n",
       "EventName                    0         0.0\n",
       "DeviceIDHash                 0         0.0\n",
       "EventTimestamp               0         0.0\n",
       "ExpId                        0         0.0"
      ]
     },
     "execution_count": 44,
     "metadata": {},
     "output_type": "execute_result"
    }
   ],
   "source": [
    "report_null = logs_data.isnull().sum().to_frame()\n",
    "report_null = report_null.rename(columns={0:'missing_values'})\n",
    "report_null['% of total'] = (report_null['missing_values'] / logs_data.shape[0]).round(2)\n",
    "report_null.sort_values(by='missing_values', ascending=False)"
   ]
  },
  {
   "cell_type": "markdown",
   "id": "af21bbae",
   "metadata": {},
   "source": [
    "### Memperbaiki Data"
   ]
  },
  {
   "cell_type": "markdown",
   "id": "10c7f1f9",
   "metadata": {},
   "source": [
    "Mengeliminasi nilai duplikat"
   ]
  },
  {
   "cell_type": "code",
   "execution_count": 45,
   "id": "2abe09ce",
   "metadata": {},
   "outputs": [],
   "source": [
    "logs_data = logs_data.drop_duplicates()"
   ]
  },
  {
   "cell_type": "markdown",
   "id": "d01fdb2c",
   "metadata": {},
   "source": [
    "Mengubah nama kolom"
   ]
  },
  {
   "cell_type": "code",
   "execution_count": 46,
   "id": "fb153f14",
   "metadata": {},
   "outputs": [],
   "source": [
    "logs_data.columns = ['event_name', 'device_id_hash', 'event_timestamp', 'exp_id']"
   ]
  },
  {
   "cell_type": "markdown",
   "id": "560d4d78",
   "metadata": {},
   "source": [
    "### Memperkaya Data"
   ]
  },
  {
   "cell_type": "markdown",
   "id": "df64e678",
   "metadata": {},
   "source": [
    "Menambahkan kolom baru berdasarkan kolom 'event_timestamp' untuk merubah tipe data timestamp ke datetime"
   ]
  },
  {
   "cell_type": "code",
   "execution_count": 47,
   "id": "99de0128",
   "metadata": {},
   "outputs": [],
   "source": [
    "logs_data['event_datetime'] = pd.to_datetime(logs_data['event_timestamp'], unit='s')"
   ]
  },
  {
   "cell_type": "markdown",
   "id": "e0eda51e",
   "metadata": {},
   "source": [
    "Menambahkan beberapa kolom lagi untuk waktu kolom hari dan waktu"
   ]
  },
  {
   "cell_type": "code",
   "execution_count": 48,
   "id": "08ecc16f",
   "metadata": {},
   "outputs": [],
   "source": [
    "logs_data['event_date'] = logs_data['event_datetime'].dt.date"
   ]
  },
  {
   "cell_type": "code",
   "execution_count": 49,
   "id": "6128cfb4",
   "metadata": {},
   "outputs": [],
   "source": [
    "logs_data['event_time'] = logs_data['event_datetime'].dt.time"
   ]
  },
  {
   "cell_type": "code",
   "execution_count": 50,
   "id": "9d2200e9",
   "metadata": {
    "scrolled": false
   },
   "outputs": [
    {
     "data": {
      "text/html": [
       "<div>\n",
       "<style scoped>\n",
       "    .dataframe tbody tr th:only-of-type {\n",
       "        vertical-align: middle;\n",
       "    }\n",
       "\n",
       "    .dataframe tbody tr th {\n",
       "        vertical-align: top;\n",
       "    }\n",
       "\n",
       "    .dataframe thead th {\n",
       "        text-align: right;\n",
       "    }\n",
       "</style>\n",
       "<table border=\"1\" class=\"dataframe\">\n",
       "  <thead>\n",
       "    <tr style=\"text-align: right;\">\n",
       "      <th></th>\n",
       "      <th>event_name</th>\n",
       "      <th>device_id_hash</th>\n",
       "      <th>event_timestamp</th>\n",
       "      <th>exp_id</th>\n",
       "      <th>event_datetime</th>\n",
       "      <th>event_date</th>\n",
       "      <th>event_time</th>\n",
       "    </tr>\n",
       "  </thead>\n",
       "  <tbody>\n",
       "    <tr>\n",
       "      <th>0</th>\n",
       "      <td>MainScreenAppear</td>\n",
       "      <td>4575588528974610257</td>\n",
       "      <td>1564029816</td>\n",
       "      <td>246</td>\n",
       "      <td>2019-07-25 04:43:36</td>\n",
       "      <td>2019-07-25</td>\n",
       "      <td>04:43:36</td>\n",
       "    </tr>\n",
       "    <tr>\n",
       "      <th>1</th>\n",
       "      <td>MainScreenAppear</td>\n",
       "      <td>7416695313311560658</td>\n",
       "      <td>1564053102</td>\n",
       "      <td>246</td>\n",
       "      <td>2019-07-25 11:11:42</td>\n",
       "      <td>2019-07-25</td>\n",
       "      <td>11:11:42</td>\n",
       "    </tr>\n",
       "    <tr>\n",
       "      <th>2</th>\n",
       "      <td>PaymentScreenSuccessful</td>\n",
       "      <td>3518123091307005509</td>\n",
       "      <td>1564054127</td>\n",
       "      <td>248</td>\n",
       "      <td>2019-07-25 11:28:47</td>\n",
       "      <td>2019-07-25</td>\n",
       "      <td>11:28:47</td>\n",
       "    </tr>\n",
       "    <tr>\n",
       "      <th>3</th>\n",
       "      <td>CartScreenAppear</td>\n",
       "      <td>3518123091307005509</td>\n",
       "      <td>1564054127</td>\n",
       "      <td>248</td>\n",
       "      <td>2019-07-25 11:28:47</td>\n",
       "      <td>2019-07-25</td>\n",
       "      <td>11:28:47</td>\n",
       "    </tr>\n",
       "    <tr>\n",
       "      <th>4</th>\n",
       "      <td>PaymentScreenSuccessful</td>\n",
       "      <td>6217807653094995999</td>\n",
       "      <td>1564055322</td>\n",
       "      <td>248</td>\n",
       "      <td>2019-07-25 11:48:42</td>\n",
       "      <td>2019-07-25</td>\n",
       "      <td>11:48:42</td>\n",
       "    </tr>\n",
       "  </tbody>\n",
       "</table>\n",
       "</div>"
      ],
      "text/plain": [
       "                event_name       device_id_hash  event_timestamp  exp_id  \\\n",
       "0         MainScreenAppear  4575588528974610257       1564029816     246   \n",
       "1         MainScreenAppear  7416695313311560658       1564053102     246   \n",
       "2  PaymentScreenSuccessful  3518123091307005509       1564054127     248   \n",
       "3         CartScreenAppear  3518123091307005509       1564054127     248   \n",
       "4  PaymentScreenSuccessful  6217807653094995999       1564055322     248   \n",
       "\n",
       "       event_datetime  event_date event_time  \n",
       "0 2019-07-25 04:43:36  2019-07-25   04:43:36  \n",
       "1 2019-07-25 11:11:42  2019-07-25   11:11:42  \n",
       "2 2019-07-25 11:28:47  2019-07-25   11:28:47  \n",
       "3 2019-07-25 11:28:47  2019-07-25   11:28:47  \n",
       "4 2019-07-25 11:48:42  2019-07-25   11:48:42  "
      ]
     },
     "execution_count": 50,
     "metadata": {},
     "output_type": "execute_result"
    }
   ],
   "source": [
    "logs_data.head()"
   ]
  },
  {
   "cell_type": "markdown",
   "id": "d8ec1637",
   "metadata": {},
   "source": [
    "## Mempelajari Data"
   ]
  },
  {
   "cell_type": "markdown",
   "id": "a56e3b88",
   "metadata": {},
   "source": [
    "Mempelajari data yang tidak dipengaruhi oleh anomali atau outlier dalam populasi statistik"
   ]
  },
  {
   "cell_type": "markdown",
   "id": "441a5f64",
   "metadata": {},
   "source": [
    "Mencari tahu jumlah logs pada data berdasarkan peristiwa"
   ]
  },
  {
   "cell_type": "code",
   "execution_count": 51,
   "id": "152aa366",
   "metadata": {
    "scrolled": true
   },
   "outputs": [
    {
     "data": {
      "text/html": [
       "<div>\n",
       "<style scoped>\n",
       "    .dataframe tbody tr th:only-of-type {\n",
       "        vertical-align: middle;\n",
       "    }\n",
       "\n",
       "    .dataframe tbody tr th {\n",
       "        vertical-align: top;\n",
       "    }\n",
       "\n",
       "    .dataframe thead th {\n",
       "        text-align: right;\n",
       "    }\n",
       "</style>\n",
       "<table border=\"1\" class=\"dataframe\">\n",
       "  <thead>\n",
       "    <tr style=\"text-align: right;\">\n",
       "      <th></th>\n",
       "      <th>index</th>\n",
       "    </tr>\n",
       "    <tr>\n",
       "      <th>event_name</th>\n",
       "      <th></th>\n",
       "    </tr>\n",
       "  </thead>\n",
       "  <tbody>\n",
       "    <tr>\n",
       "      <th>CartScreenAppear</th>\n",
       "      <td>42668</td>\n",
       "    </tr>\n",
       "    <tr>\n",
       "      <th>MainScreenAppear</th>\n",
       "      <td>119101</td>\n",
       "    </tr>\n",
       "    <tr>\n",
       "      <th>OffersScreenAppear</th>\n",
       "      <td>46808</td>\n",
       "    </tr>\n",
       "    <tr>\n",
       "      <th>PaymentScreenSuccessful</th>\n",
       "      <td>34118</td>\n",
       "    </tr>\n",
       "    <tr>\n",
       "      <th>Tutorial</th>\n",
       "      <td>1018</td>\n",
       "    </tr>\n",
       "  </tbody>\n",
       "</table>\n",
       "</div>"
      ],
      "text/plain": [
       "                          index\n",
       "event_name                     \n",
       "CartScreenAppear          42668\n",
       "MainScreenAppear         119101\n",
       "OffersScreenAppear        46808\n",
       "PaymentScreenSuccessful   34118\n",
       "Tutorial                   1018"
      ]
     },
     "execution_count": 51,
     "metadata": {},
     "output_type": "execute_result"
    }
   ],
   "source": [
    "logs_data[['event_name']].reset_index().groupby('event_name').count()"
   ]
  },
  {
   "cell_type": "markdown",
   "id": "09a5b139",
   "metadata": {},
   "source": [
    "Mencari jumlah pengguna unique"
   ]
  },
  {
   "cell_type": "code",
   "execution_count": 52,
   "id": "4a232faa",
   "metadata": {},
   "outputs": [
    {
     "data": {
      "text/plain": [
       "7551"
      ]
     },
     "execution_count": 52,
     "metadata": {},
     "output_type": "execute_result"
    }
   ],
   "source": [
    "logs_data['device_id_hash'].nunique()"
   ]
  },
  {
   "cell_type": "markdown",
   "id": "60968046",
   "metadata": {},
   "source": [
    "Jumlah rata-rata per pengguna"
   ]
  },
  {
   "cell_type": "code",
   "execution_count": 53,
   "id": "07f83b01",
   "metadata": {},
   "outputs": [
    {
     "data": {
      "text/plain": [
       "32.27559263673685"
      ]
     },
     "execution_count": 53,
     "metadata": {},
     "output_type": "execute_result"
    }
   ],
   "source": [
    "logs_data[['device_id_hash']].reset_index().groupby('device_id_hash').count()['index'].mean()"
   ]
  },
  {
   "cell_type": "code",
   "execution_count": 54,
   "id": "54635837",
   "metadata": {},
   "outputs": [
    {
     "data": {
      "text/plain": [
       "'2019-07-25'"
      ]
     },
     "execution_count": 54,
     "metadata": {},
     "output_type": "execute_result"
    }
   ],
   "source": [
    "str(logs_data['event_date'].min())"
   ]
  },
  {
   "cell_type": "code",
   "execution_count": 55,
   "id": "e18cc5e6",
   "metadata": {},
   "outputs": [
    {
     "data": {
      "text/plain": [
       "'2019-08-07'"
      ]
     },
     "execution_count": 55,
     "metadata": {},
     "output_type": "execute_result"
    }
   ],
   "source": [
    "str(logs_data['event_date'].max())"
   ]
  },
  {
   "cell_type": "markdown",
   "id": "358ea14f",
   "metadata": {},
   "source": [
    "Nilai awal waktu peristiwa yang dimiliki data: 2019-07-25\n",
    "Nilai akhir waktu peristiwa yang dimiliki data: 2019-08-07\n",
    "\n",
    "Data memuat waktu selama <> 13 hari"
   ]
  },
  {
   "cell_type": "code",
   "execution_count": 56,
   "id": "25757d4e",
   "metadata": {
    "scrolled": false
   },
   "outputs": [
    {
     "data": {
      "image/png": "[encoded data removed]",
      "text/plain": [
       "<Figure size 720x432 with 1 Axes>"
      ]
     },
     "metadata": {
      "needs_background": "light"
     },
     "output_type": "display_data"
    }
   ],
   "source": [
    "plt.figure(figsize=(10, 6))\n",
    "plt.title('Periode Waktu Logs')\n",
    "logs_data['event_datetime'].hist(bins=10)\n",
    "plt.show()"
   ]
  },
  {
   "cell_type": "markdown",
   "id": "167db04b",
   "metadata": {},
   "source": [
    "Periode waktu logs:\n",
    "1. Data lebih terpusat pada tanggal '2019-08-01' sampai '2019-08-07'.\n",
    "2. Sepertinya waktu yang dicakup oleh data termasuk dengan data lama, sehingga tingkat relevansinya rendah karena peristiwa yang tersimpan terpaut jauh dengan data yang baru.\n",
    "3. Disimpulkan untuk data abnormal/nilai outlier ada pada tanggal 2019-07-25 --> 2019-07-31."
   ]
  },
  {
   "cell_type": "code",
   "execution_count": 57,
   "id": "f04af316",
   "metadata": {},
   "outputs": [
    {
     "data": {
      "text/html": [
       "<div>\n",
       "<style scoped>\n",
       "    .dataframe tbody tr th:only-of-type {\n",
       "        vertical-align: middle;\n",
       "    }\n",
       "\n",
       "    .dataframe tbody tr th {\n",
       "        vertical-align: top;\n",
       "    }\n",
       "\n",
       "    .dataframe thead th {\n",
       "        text-align: right;\n",
       "    }\n",
       "</style>\n",
       "<table border=\"1\" class=\"dataframe\">\n",
       "  <thead>\n",
       "    <tr style=\"text-align: right;\">\n",
       "      <th></th>\n",
       "      <th>event_date</th>\n",
       "      <th>device_id_hash</th>\n",
       "    </tr>\n",
       "  </thead>\n",
       "  <tbody>\n",
       "    <tr>\n",
       "      <th>0</th>\n",
       "      <td>2019-07-25</td>\n",
       "      <td>9</td>\n",
       "    </tr>\n",
       "    <tr>\n",
       "      <th>1</th>\n",
       "      <td>2019-07-26</td>\n",
       "      <td>31</td>\n",
       "    </tr>\n",
       "    <tr>\n",
       "      <th>2</th>\n",
       "      <td>2019-07-27</td>\n",
       "      <td>55</td>\n",
       "    </tr>\n",
       "    <tr>\n",
       "      <th>3</th>\n",
       "      <td>2019-07-28</td>\n",
       "      <td>105</td>\n",
       "    </tr>\n",
       "    <tr>\n",
       "      <th>4</th>\n",
       "      <td>2019-07-29</td>\n",
       "      <td>184</td>\n",
       "    </tr>\n",
       "    <tr>\n",
       "      <th>5</th>\n",
       "      <td>2019-07-30</td>\n",
       "      <td>412</td>\n",
       "    </tr>\n",
       "    <tr>\n",
       "      <th>6</th>\n",
       "      <td>2019-07-31</td>\n",
       "      <td>2030</td>\n",
       "    </tr>\n",
       "    <tr>\n",
       "      <th>7</th>\n",
       "      <td>2019-08-01</td>\n",
       "      <td>36141</td>\n",
       "    </tr>\n",
       "    <tr>\n",
       "      <th>8</th>\n",
       "      <td>2019-08-02</td>\n",
       "      <td>35554</td>\n",
       "    </tr>\n",
       "    <tr>\n",
       "      <th>9</th>\n",
       "      <td>2019-08-03</td>\n",
       "      <td>33282</td>\n",
       "    </tr>\n",
       "  </tbody>\n",
       "</table>\n",
       "</div>"
      ],
      "text/plain": [
       "   event_date  device_id_hash\n",
       "0  2019-07-25               9\n",
       "1  2019-07-26              31\n",
       "2  2019-07-27              55\n",
       "3  2019-07-28             105\n",
       "4  2019-07-29             184\n",
       "5  2019-07-30             412\n",
       "6  2019-07-31            2030\n",
       "7  2019-08-01           36141\n",
       "8  2019-08-02           35554\n",
       "9  2019-08-03           33282"
      ]
     },
     "execution_count": 57,
     "metadata": {},
     "output_type": "execute_result"
    }
   ],
   "source": [
    "logs_data.groupby('event_date')['device_id_hash'].count().reset_index().head(10)"
   ]
  },
  {
   "cell_type": "markdown",
   "id": "c9c94569",
   "metadata": {},
   "source": [
    "mengeliminasi peristiwa terdahulu yang muncul dalam log beberapa pengguna karena alasan teknis"
   ]
  },
  {
   "cell_type": "code",
   "execution_count": 58,
   "id": "16782c19",
   "metadata": {},
   "outputs": [
    {
     "data": {
      "text/html": [
       "<div>\n",
       "<style scoped>\n",
       "    .dataframe tbody tr th:only-of-type {\n",
       "        vertical-align: middle;\n",
       "    }\n",
       "\n",
       "    .dataframe tbody tr th {\n",
       "        vertical-align: top;\n",
       "    }\n",
       "\n",
       "    .dataframe thead th {\n",
       "        text-align: right;\n",
       "    }\n",
       "</style>\n",
       "<table border=\"1\" class=\"dataframe\">\n",
       "  <thead>\n",
       "    <tr style=\"text-align: right;\">\n",
       "      <th></th>\n",
       "      <th>event_name</th>\n",
       "      <th>device_id_hash</th>\n",
       "      <th>event_timestamp</th>\n",
       "      <th>exp_id</th>\n",
       "      <th>event_datetime</th>\n",
       "      <th>event_date</th>\n",
       "      <th>event_time</th>\n",
       "    </tr>\n",
       "  </thead>\n",
       "  <tbody>\n",
       "    <tr>\n",
       "      <th>2828</th>\n",
       "      <td>Tutorial</td>\n",
       "      <td>3737462046622621720</td>\n",
       "      <td>1564618048</td>\n",
       "      <td>246</td>\n",
       "      <td>2019-08-01 00:07:28</td>\n",
       "      <td>2019-08-01</td>\n",
       "      <td>00:07:28</td>\n",
       "    </tr>\n",
       "    <tr>\n",
       "      <th>2829</th>\n",
       "      <td>MainScreenAppear</td>\n",
       "      <td>3737462046622621720</td>\n",
       "      <td>1564618080</td>\n",
       "      <td>246</td>\n",
       "      <td>2019-08-01 00:08:00</td>\n",
       "      <td>2019-08-01</td>\n",
       "      <td>00:08:00</td>\n",
       "    </tr>\n",
       "    <tr>\n",
       "      <th>2830</th>\n",
       "      <td>MainScreenAppear</td>\n",
       "      <td>3737462046622621720</td>\n",
       "      <td>1564618135</td>\n",
       "      <td>246</td>\n",
       "      <td>2019-08-01 00:08:55</td>\n",
       "      <td>2019-08-01</td>\n",
       "      <td>00:08:55</td>\n",
       "    </tr>\n",
       "    <tr>\n",
       "      <th>2831</th>\n",
       "      <td>OffersScreenAppear</td>\n",
       "      <td>3737462046622621720</td>\n",
       "      <td>1564618138</td>\n",
       "      <td>246</td>\n",
       "      <td>2019-08-01 00:08:58</td>\n",
       "      <td>2019-08-01</td>\n",
       "      <td>00:08:58</td>\n",
       "    </tr>\n",
       "    <tr>\n",
       "      <th>2832</th>\n",
       "      <td>MainScreenAppear</td>\n",
       "      <td>1433840883824088890</td>\n",
       "      <td>1564618139</td>\n",
       "      <td>247</td>\n",
       "      <td>2019-08-01 00:08:59</td>\n",
       "      <td>2019-08-01</td>\n",
       "      <td>00:08:59</td>\n",
       "    </tr>\n",
       "  </tbody>\n",
       "</table>\n",
       "</div>"
      ],
      "text/plain": [
       "              event_name       device_id_hash  event_timestamp  exp_id  \\\n",
       "2828            Tutorial  3737462046622621720       1564618048     246   \n",
       "2829    MainScreenAppear  3737462046622621720       1564618080     246   \n",
       "2830    MainScreenAppear  3737462046622621720       1564618135     246   \n",
       "2831  OffersScreenAppear  3737462046622621720       1564618138     246   \n",
       "2832    MainScreenAppear  1433840883824088890       1564618139     247   \n",
       "\n",
       "          event_datetime  event_date event_time  \n",
       "2828 2019-08-01 00:07:28  2019-08-01   00:07:28  \n",
       "2829 2019-08-01 00:08:00  2019-08-01   00:08:00  \n",
       "2830 2019-08-01 00:08:55  2019-08-01   00:08:55  \n",
       "2831 2019-08-01 00:08:58  2019-08-01   00:08:58  \n",
       "2832 2019-08-01 00:08:59  2019-08-01   00:08:59  "
      ]
     },
     "execution_count": 58,
     "metadata": {},
     "output_type": "execute_result"
    }
   ],
   "source": [
    "data_filtered = logs_data.query('event_datetime > \"2019-07-31 23:59:59\"')\n",
    "data_filtered.head()"
   ]
  },
  {
   "cell_type": "code",
   "execution_count": 59,
   "id": "a7fbb5e6",
   "metadata": {
    "scrolled": true
   },
   "outputs": [
    {
     "data": {
      "image/png": "[encoded data removed]",
      "text/plain": [
       "<Figure size 720x432 with 1 Axes>"
      ]
     },
     "metadata": {
      "needs_background": "light"
     },
     "output_type": "display_data"
    }
   ],
   "source": [
    "plt.figure(figsize=(10, 6))\n",
    "plt.title('Periode Waktu Logs Filtered')\n",
    "data_filtered['event_datetime'].hist(bins=10)\n",
    "plt.show()"
   ]
  },
  {
   "cell_type": "markdown",
   "id": "f3d4298a",
   "metadata": {},
   "source": [
    "Periode waktu logs terfilter:\n",
    "1. Data memiliki grafik yang rata-rata berada pada nilai 20000 - 25000.\n",
    "2. Data outlier sudah tidak deteksi dan siap untuk kita analisis lebih jauh."
   ]
  },
  {
   "cell_type": "code",
   "execution_count": 60,
   "id": "f2e66937",
   "metadata": {},
   "outputs": [
    {
     "data": {
      "text/plain": [
       "1.159560630741897"
      ]
     },
     "execution_count": 60,
     "metadata": {},
     "output_type": "execute_result"
    }
   ],
   "source": [
    "logs = (len(logs_data) - len(data_filtered)) / len(logs_data) * 100\n",
    "logs"
   ]
  },
  {
   "cell_type": "markdown",
   "id": "7da71949",
   "metadata": {},
   "source": [
    "1% dari data telah kita filter"
   ]
  },
  {
   "cell_type": "code",
   "execution_count": 61,
   "id": "0f19f23a",
   "metadata": {
    "scrolled": false
   },
   "outputs": [
    {
     "data": {
      "text/plain": [
       "248    84563\n",
       "246    79302\n",
       "247    77022\n",
       "Name: exp_id, dtype: int64"
      ]
     },
     "execution_count": 61,
     "metadata": {},
     "output_type": "execute_result"
    }
   ],
   "source": [
    "data_filtered['exp_id'].value_counts()"
   ]
  },
  {
   "cell_type": "markdown",
   "id": "397b37b7",
   "metadata": {},
   "source": [
    "Terlihat jumlah data untuk setiap group tidak terpaut jauh. Hanya saja pada group 248 sedikit lebih tinggi dari 246 dan 247."
   ]
  },
  {
   "cell_type": "markdown",
   "id": "42d74ea6",
   "metadata": {},
   "source": [
    "## Analisis Data"
   ]
  },
  {
   "cell_type": "markdown",
   "id": "b91a688a",
   "metadata": {},
   "source": [
    "### Funnel Peristiwa"
   ]
  },
  {
   "cell_type": "markdown",
   "id": "c80fb3ec",
   "metadata": {},
   "source": [
    "Saatnya kita menganalisis data mulai dari peristiwa yang terjadi"
   ]
  },
  {
   "cell_type": "markdown",
   "id": "1b2c80fd",
   "metadata": {},
   "source": [
    "Terlihat pada kolom event_name yang merupakan peristiwa dari pelanggan, MainScreenAppear yang memiliki jumlah frakuensi terbanyak dengan nilai 117328"
   ]
  },
  {
   "cell_type": "code",
   "execution_count": 62,
   "id": "0b29f189",
   "metadata": {
    "scrolled": false
   },
   "outputs": [
    {
     "data": {
      "text/html": [
       "<div>\n",
       "<style scoped>\n",
       "    .dataframe tbody tr th:only-of-type {\n",
       "        vertical-align: middle;\n",
       "    }\n",
       "\n",
       "    .dataframe tbody tr th {\n",
       "        vertical-align: top;\n",
       "    }\n",
       "\n",
       "    .dataframe thead th {\n",
       "        text-align: right;\n",
       "    }\n",
       "</style>\n",
       "<table border=\"1\" class=\"dataframe\">\n",
       "  <thead>\n",
       "    <tr style=\"text-align: right;\">\n",
       "      <th></th>\n",
       "      <th>event_name</th>\n",
       "      <th>event_time</th>\n",
       "    </tr>\n",
       "  </thead>\n",
       "  <tbody>\n",
       "    <tr>\n",
       "      <th>1</th>\n",
       "      <td>MainScreenAppear</td>\n",
       "      <td>117328</td>\n",
       "    </tr>\n",
       "    <tr>\n",
       "      <th>2</th>\n",
       "      <td>OffersScreenAppear</td>\n",
       "      <td>46333</td>\n",
       "    </tr>\n",
       "    <tr>\n",
       "      <th>0</th>\n",
       "      <td>CartScreenAppear</td>\n",
       "      <td>42303</td>\n",
       "    </tr>\n",
       "    <tr>\n",
       "      <th>3</th>\n",
       "      <td>PaymentScreenSuccessful</td>\n",
       "      <td>33918</td>\n",
       "    </tr>\n",
       "    <tr>\n",
       "      <th>4</th>\n",
       "      <td>Tutorial</td>\n",
       "      <td>1005</td>\n",
       "    </tr>\n",
       "  </tbody>\n",
       "</table>\n",
       "</div>"
      ],
      "text/plain": [
       "                event_name  event_time\n",
       "1         MainScreenAppear      117328\n",
       "2       OffersScreenAppear       46333\n",
       "0         CartScreenAppear       42303\n",
       "3  PaymentScreenSuccessful       33918\n",
       "4                 Tutorial        1005"
      ]
     },
     "execution_count": 62,
     "metadata": {},
     "output_type": "execute_result"
    }
   ],
   "source": [
    "time = data_filtered.pivot_table(index='event_name', values='event_time', aggfunc='count').reset_index().sort_values(by='event_time', ascending=False)\n",
    "time"
   ]
  },
  {
   "cell_type": "markdown",
   "id": "9d222bad",
   "metadata": {},
   "source": [
    "jumlah pengguna yang melakukan setiap tindakan setidaknya satu kali"
   ]
  },
  {
   "cell_type": "code",
   "execution_count": 63,
   "id": "c3cfb3f9",
   "metadata": {},
   "outputs": [
    {
     "data": {
      "text/html": [
       "<div>\n",
       "<style scoped>\n",
       "    .dataframe tbody tr th:only-of-type {\n",
       "        vertical-align: middle;\n",
       "    }\n",
       "\n",
       "    .dataframe tbody tr th {\n",
       "        vertical-align: top;\n",
       "    }\n",
       "\n",
       "    .dataframe thead th {\n",
       "        text-align: right;\n",
       "    }\n",
       "</style>\n",
       "<table border=\"1\" class=\"dataframe\">\n",
       "  <thead>\n",
       "    <tr style=\"text-align: right;\">\n",
       "      <th></th>\n",
       "      <th>event_name</th>\n",
       "      <th>id</th>\n",
       "    </tr>\n",
       "  </thead>\n",
       "  <tbody>\n",
       "    <tr>\n",
       "      <th>1</th>\n",
       "      <td>MainScreenAppear</td>\n",
       "      <td>7419</td>\n",
       "    </tr>\n",
       "    <tr>\n",
       "      <th>2</th>\n",
       "      <td>OffersScreenAppear</td>\n",
       "      <td>4593</td>\n",
       "    </tr>\n",
       "    <tr>\n",
       "      <th>0</th>\n",
       "      <td>CartScreenAppear</td>\n",
       "      <td>3734</td>\n",
       "    </tr>\n",
       "    <tr>\n",
       "      <th>3</th>\n",
       "      <td>PaymentScreenSuccessful</td>\n",
       "      <td>3539</td>\n",
       "    </tr>\n",
       "    <tr>\n",
       "      <th>4</th>\n",
       "      <td>Tutorial</td>\n",
       "      <td>840</td>\n",
       "    </tr>\n",
       "  </tbody>\n",
       "</table>\n",
       "</div>"
      ],
      "text/plain": [
       "                event_name    id\n",
       "1         MainScreenAppear  7419\n",
       "2       OffersScreenAppear  4593\n",
       "0         CartScreenAppear  3734\n",
       "3  PaymentScreenSuccessful  3539\n",
       "4                 Tutorial   840"
      ]
     },
     "execution_count": 63,
     "metadata": {},
     "output_type": "execute_result"
    }
   ],
   "source": [
    "device_id = data_filtered.pivot_table(index='event_name', values='device_id_hash', aggfunc='nunique').reset_index().sort_values(by='device_id_hash', ascending=False)\n",
    "device_id.columns = ['event_name', 'id']\n",
    "device_id"
   ]
  },
  {
   "cell_type": "markdown",
   "id": "e1f7726d",
   "metadata": {},
   "source": [
    "Peristiwa Tutorial memiliki nilai yang terpaut jauh dengan yang lain, serta posisinya yang paling bawah mengindikasikan bahwa peristiwa tersebut jarang di lalui oleh pelanggan. Sepertinya banyak orang yang skip untuk langkah ini."
   ]
  },
  {
   "cell_type": "markdown",
   "id": "e2a07106",
   "metadata": {},
   "source": [
    "Kita akan mengelompokkan data berdasarkan setiap pelanggan lalu kita hitung funnel peristiwa untuk mengetahui peristiwa secara berurutan dari awal hingga akhir."
   ]
  },
  {
   "cell_type": "code",
   "execution_count": 64,
   "id": "80a4cfad",
   "metadata": {},
   "outputs": [],
   "source": [
    "users = data_filtered.pivot_table(\n",
    "    index='device_id_hash', \n",
    "    columns='event_name', \n",
    "    values='event_time',\n",
    "    aggfunc='min')\n",
    "users = users.drop(columns='Tutorial')"
   ]
  },
  {
   "cell_type": "markdown",
   "id": "c8e3d096",
   "metadata": {},
   "source": [
    "Kita tentukan langkah-langkahnya mulai dari nilai terbesar ke yang terkecil"
   ]
  },
  {
   "cell_type": "code",
   "execution_count": 65,
   "id": "b6bd544b",
   "metadata": {
    "scrolled": true
   },
   "outputs": [
    {
     "name": "stdout",
     "output_type": "stream",
     "text": [
      "Main Screen Appear: 7419\n",
      "Offers Screen Appear: 4103\n",
      "Cart Screen Appear: 1882\n",
      "Payment Screen Successful: 440\n"
     ]
    }
   ],
   "source": [
    "step_1 = ~users['MainScreenAppear'].isna()\n",
    "step_2 = step_1 & (users['OffersScreenAppear'] > users['MainScreenAppear'])\n",
    "step_3 = step_2 & (users['CartScreenAppear'] > users['OffersScreenAppear'])\n",
    "step_4 = step_3 & (users['PaymentScreenSuccessful'] > users['CartScreenAppear'])\n",
    "\n",
    "n_MainScreenAppear = users[step_1].shape[0]\n",
    "n_OffersScreenAppear = users[step_2].shape[0]\n",
    "n_CartScreenAppear = users[step_3].shape[0]\n",
    "n_PaymentScreenSuccessful = users[step_4].shape[0]\n",
    "\n",
    "print(f'Main Screen Appear: {n_MainScreenAppear}')\n",
    "print(f'Offers Screen Appear: {n_OffersScreenAppear}')\n",
    "print(f'Cart Screen Appear: {n_CartScreenAppear}')\n",
    "print(f'Payment Screen Successful: {n_PaymentScreenSuccessful}')"
   ]
  },
  {
   "cell_type": "code",
   "execution_count": 66,
   "id": "09cc753f",
   "metadata": {
    "scrolled": true
   },
   "outputs": [
    {
     "name": "stdout",
     "output_type": "stream",
     "text": [
      "Funnel, Main Screen Appear: 100.0%\n",
      "Funnel, Offers Screen Appear: 55.3%\n",
      "Funnel, Cart Screen Appear: 45.9%\n",
      "Funnel, Payment Screen Successful: 23.4%\n"
     ]
    }
   ],
   "source": [
    "print(f'Funnel, Main Screen Appear: {n_MainScreenAppear / n_MainScreenAppear:.1%}')\n",
    "print(f'Funnel, Offers Screen Appear: {n_OffersScreenAppear / n_MainScreenAppear:.1%}')\n",
    "print(f'Funnel, Cart Screen Appear: {n_CartScreenAppear / n_OffersScreenAppear:.1%}')\n",
    "print(f'Funnel, Payment Screen Successful: {n_PaymentScreenSuccessful / n_CartScreenAppear:.1%}')"
   ]
  },
  {
   "cell_type": "code",
   "execution_count": 67,
   "id": "0676efb9",
   "metadata": {
    "scrolled": false
   },
   "outputs": [
    {
     "data": {
      "application/vnd.plotly.v1+json": {
       "config": {
        "plotlyServerURL": "https://plot.ly"
       },
       "data": [
        {
         "type": "funnel",
         "x": [
          7419,
          4103,
          1882,
          440
         ],
         "y": [
          "Main Screen Appear",
          "Offers Screen Appear",
          "Cart Screen Appear",
          "Payment Screen Successful"
         ]
        }
       ],
       "layout": {
        "template": {
         "data": {
          "bar": [
           {
            "error_x": {
             "color": "#2a3f5f"
            },
            "error_y": {
             "color": "#2a3f5f"
            },
            "marker": {
             "line": {
              "color": "#E5ECF6",
              "width": 0.5
             },
             "pattern": {
              "fillmode": "overlay",
              "size": 10,
              "solidity": 0.2
             }
            },
            "type": "bar"
           }
          ],
          "barpolar": [
           {
            "marker": {
             "line": {
              "color": "#E5ECF6",
              "width": 0.5
             },
             "pattern": {
              "fillmode": "overlay",
              "size": 10,
              "solidity": 0.2
             }
            },
            "type": "barpolar"
           }
          ],
          "carpet": [
           {
            "aaxis": {
             "endlinecolor": "#2a3f5f",
             "gridcolor": "white",
             "linecolor": "white",
             "minorgridcolor": "white",
             "startlinecolor": "#2a3f5f"
            },
            "baxis": {
             "endlinecolor": "#2a3f5f",
             "gridcolor": "white",
             "linecolor": "white",
             "minorgridcolor": "white",
             "startlinecolor": "#2a3f5f"
            },
            "type": "carpet"
           }
          ],
          "choropleth": [
           {
            "colorbar": {
             "outlinewidth": 0,
             "ticks": ""
            },
            "type": "choropleth"
           }
          ],
          "contour": [
           {
            "colorbar": {
             "outlinewidth": 0,
             "ticks": ""
            },
            "colorscale": [
             [
              0,
              "#0d0887"
             ],
             [
              0.1111111111111111,
              "#46039f"
             ],
             [
              0.2222222222222222,
              "#7201a8"
             ],
             [
              0.3333333333333333,
              "#9c179e"
             ],
             [
              0.4444444444444444,
              "#bd3786"
             ],
             [
              0.5555555555555556,
              "#d8576b"
             ],
             [
              0.6666666666666666,
              "#ed7953"
             ],
             [
              0.7777777777777778,
              "#fb9f3a"
             ],
             [
              0.8888888888888888,
              "#fdca26"
             ],
             [
              1,
              "#f0f921"
             ]
            ],
            "type": "contour"
           }
          ],
          "contourcarpet": [
           {
            "colorbar": {
             "outlinewidth": 0,
             "ticks": ""
            },
            "type": "contourcarpet"
           }
          ],
          "heatmap": [
           {
            "colorbar": {
             "outlinewidth": 0,
             "ticks": ""
            },
            "colorscale": [
             [
              0,
              "#0d0887"
             ],
             [
              0.1111111111111111,
              "#46039f"
             ],
             [
              0.2222222222222222,
              "#7201a8"
             ],
             [
              0.3333333333333333,
              "#9c179e"
             ],
             [
              0.4444444444444444,
              "#bd3786"
             ],
             [
              0.5555555555555556,
              "#d8576b"
             ],
             [
              0.6666666666666666,
              "#ed7953"
             ],
             [
              0.7777777777777778,
              "#fb9f3a"
             ],
             [
              0.8888888888888888,
              "#fdca26"
             ],
             [
              1,
              "#f0f921"
             ]
            ],
            "type": "heatmap"
           }
          ],
          "heatmapgl": [
           {
            "colorbar": {
             "outlinewidth": 0,
             "ticks": ""
            },
            "colorscale": [
             [
              0,
              "#0d0887"
             ],
             [
              0.1111111111111111,
              "#46039f"
             ],
             [
              0.2222222222222222,
              "#7201a8"
             ],
             [
              0.3333333333333333,
              "#9c179e"
             ],
             [
              0.4444444444444444,
              "#bd3786"
             ],
             [
              0.5555555555555556,
              "#d8576b"
             ],
             [
              0.6666666666666666,
              "#ed7953"
             ],
             [
              0.7777777777777778,
              "#fb9f3a"
             ],
             [
              0.8888888888888888,
              "#fdca26"
             ],
             [
              1,
              "#f0f921"
             ]
            ],
            "type": "heatmapgl"
           }
          ],
          "histogram": [
           {
            "marker": {
             "pattern": {
              "fillmode": "overlay",
              "size": 10,
              "solidity": 0.2
             }
            },
            "type": "histogram"
           }
          ],
          "histogram2d": [
           {
            "colorbar": {
             "outlinewidth": 0,
             "ticks": ""
            },
            "colorscale": [
             [
              0,
              "#0d0887"
             ],
             [
              0.1111111111111111,
              "#46039f"
             ],
             [
              0.2222222222222222,
              "#7201a8"
             ],
             [
              0.3333333333333333,
              "#9c179e"
             ],
             [
              0.4444444444444444,
              "#bd3786"
             ],
             [
              0.5555555555555556,
              "#d8576b"
             ],
             [
              0.6666666666666666,
              "#ed7953"
             ],
             [
              0.7777777777777778,
              "#fb9f3a"
             ],
             [
              0.8888888888888888,
              "#fdca26"
             ],
             [
              1,
              "#f0f921"
             ]
            ],
            "type": "histogram2d"
           }
          ],
          "histogram2dcontour": [
           {
            "colorbar": {
             "outlinewidth": 0,
             "ticks": ""
            },
            "colorscale": [
             [
              0,
              "#0d0887"
             ],
             [
              0.1111111111111111,
              "#46039f"
             ],
             [
              0.2222222222222222,
              "#7201a8"
             ],
             [
              0.3333333333333333,
              "#9c179e"
             ],
             [
              0.4444444444444444,
              "#bd3786"
             ],
             [
              0.5555555555555556,
              "#d8576b"
             ],
             [
              0.6666666666666666,
              "#ed7953"
             ],
             [
              0.7777777777777778,
              "#fb9f3a"
             ],
             [
              0.8888888888888888,
              "#fdca26"
             ],
             [
              1,
              "#f0f921"
             ]
            ],
            "type": "histogram2dcontour"
           }
          ],
          "mesh3d": [
           {
            "colorbar": {
             "outlinewidth": 0,
             "ticks": ""
            },
            "type": "mesh3d"
           }
          ],
          "parcoords": [
           {
            "line": {
             "colorbar": {
              "outlinewidth": 0,
              "ticks": ""
             }
            },
            "type": "parcoords"
           }
          ],
          "pie": [
           {
            "automargin": true,
            "type": "pie"
           }
          ],
          "scatter": [
           {
            "marker": {
             "colorbar": {
              "outlinewidth": 0,
              "ticks": ""
             }
            },
            "type": "scatter"
           }
          ],
          "scatter3d": [
           {
            "line": {
             "colorbar": {
              "outlinewidth": 0,
              "ticks": ""
             }
            },
            "marker": {
             "colorbar": {
              "outlinewidth": 0,
              "ticks": ""
             }
            },
            "type": "scatter3d"
           }
          ],
          "scattercarpet": [
           {
            "marker": {
             "colorbar": {
              "outlinewidth": 0,
              "ticks": ""
             }
            },
            "type": "scattercarpet"
           }
          ],
          "scattergeo": [
           {
            "marker": {
             "colorbar": {
              "outlinewidth": 0,
              "ticks": ""
             }
            },
            "type": "scattergeo"
           }
          ],
          "scattergl": [
           {
            "marker": {
             "colorbar": {
              "outlinewidth": 0,
              "ticks": ""
             }
            },
            "type": "scattergl"
           }
          ],
          "scattermapbox": [
           {
            "marker": {
             "colorbar": {
              "outlinewidth": 0,
              "ticks": ""
             }
            },
            "type": "scattermapbox"
           }
          ],
          "scatterpolar": [
           {
            "marker": {
             "colorbar": {
              "outlinewidth": 0,
              "ticks": ""
             }
            },
            "type": "scatterpolar"
           }
          ],
          "scatterpolargl": [
           {
            "marker": {
             "colorbar": {
              "outlinewidth": 0,
              "ticks": ""
             }
            },
            "type": "scatterpolargl"
           }
          ],
          "scatterternary": [
           {
            "marker": {
             "colorbar": {
              "outlinewidth": 0,
              "ticks": ""
             }
            },
            "type": "scatterternary"
           }
          ],
          "surface": [
           {
            "colorbar": {
             "outlinewidth": 0,
             "ticks": ""
            },
            "colorscale": [
             [
              0,
              "#0d0887"
             ],
             [
              0.1111111111111111,
              "#46039f"
             ],
             [
              0.2222222222222222,
              "#7201a8"
             ],
             [
              0.3333333333333333,
              "#9c179e"
             ],
             [
              0.4444444444444444,
              "#bd3786"
             ],
             [
              0.5555555555555556,
              "#d8576b"
             ],
             [
              0.6666666666666666,
              "#ed7953"
             ],
             [
              0.7777777777777778,
              "#fb9f3a"
             ],
             [
              0.8888888888888888,
              "#fdca26"
             ],
             [
              1,
              "#f0f921"
             ]
            ],
            "type": "surface"
           }
          ],
          "table": [
           {
            "cells": {
             "fill": {
              "color": "#EBF0F8"
             },
             "line": {
              "color": "white"
             }
            },
            "header": {
             "fill": {
              "color": "#C8D4E3"
             },
             "line": {
              "color": "white"
             }
            },
            "type": "table"
           }
          ]
         },
         "layout": {
          "annotationdefaults": {
           "arrowcolor": "#2a3f5f",
           "arrowhead": 0,
           "arrowwidth": 1
          },
          "autotypenumbers": "strict",
          "coloraxis": {
           "colorbar": {
            "outlinewidth": 0,
            "ticks": ""
           }
          },
          "colorscale": {
           "diverging": [
            [
             0,
             "#8e0152"
            ],
            [
             0.1,
             "#c51b7d"
            ],
            [
             0.2,
             "#de77ae"
            ],
            [
             0.3,
             "#f1b6da"
            ],
            [
             0.4,
             "#fde0ef"
            ],
            [
             0.5,
             "#f7f7f7"
            ],
            [
             0.6,
             "#e6f5d0"
            ],
            [
             0.7,
             "#b8e186"
            ],
            [
             0.8,
             "#7fbc41"
            ],
            [
             0.9,
             "#4d9221"
            ],
            [
             1,
             "#276419"
            ]
           ],
           "sequential": [
            [
             0,
             "#0d0887"
            ],
            [
             0.1111111111111111,
             "#46039f"
            ],
            [
             0.2222222222222222,
             "#7201a8"
            ],
            [
             0.3333333333333333,
             "#9c179e"
            ],
            [
             0.4444444444444444,
             "#bd3786"
            ],
            [
             0.5555555555555556,
             "#d8576b"
            ],
            [
             0.6666666666666666,
             "#ed7953"
            ],
            [
             0.7777777777777778,
             "#fb9f3a"
            ],
            [
             0.8888888888888888,
             "#fdca26"
            ],
            [
             1,
             "#f0f921"
            ]
           ],
           "sequentialminus": [
            [
             0,
             "#0d0887"
            ],
            [
             0.1111111111111111,
             "#46039f"
            ],
            [
             0.2222222222222222,
             "#7201a8"
            ],
            [
             0.3333333333333333,
             "#9c179e"
            ],
            [
             0.4444444444444444,
             "#bd3786"
            ],
            [
             0.5555555555555556,
             "#d8576b"
            ],
            [
             0.6666666666666666,
             "#ed7953"
            ],
            [
             0.7777777777777778,
             "#fb9f3a"
            ],
            [
             0.8888888888888888,
             "#fdca26"
            ],
            [
             1,
             "#f0f921"
            ]
           ]
          },
          "colorway": [
           "#636efa",
           "#EF553B",
           "#00cc96",
           "#ab63fa",
           "#FFA15A",
           "#19d3f3",
           "#FF6692",
           "#B6E880",
           "#FF97FF",
           "#FECB52"
          ],
          "font": {
           "color": "#2a3f5f"
          },
          "geo": {
           "bgcolor": "white",
           "lakecolor": "white",
           "landcolor": "#E5ECF6",
           "showlakes": true,
           "showland": true,
           "subunitcolor": "white"
          },
          "hoverlabel": {
           "align": "left"
          },
          "hovermode": "closest",
          "mapbox": {
           "style": "light"
          },
          "paper_bgcolor": "white",
          "plot_bgcolor": "#E5ECF6",
          "polar": {
           "angularaxis": {
            "gridcolor": "white",
            "linecolor": "white",
            "ticks": ""
           },
           "bgcolor": "#E5ECF6",
           "radialaxis": {
            "gridcolor": "white",
            "linecolor": "white",
            "ticks": ""
           }
          },
          "scene": {
           "xaxis": {
            "backgroundcolor": "#E5ECF6",
            "gridcolor": "white",
            "gridwidth": 2,
            "linecolor": "white",
            "showbackground": true,
            "ticks": "",
            "zerolinecolor": "white"
           },
           "yaxis": {
            "backgroundcolor": "#E5ECF6",
            "gridcolor": "white",
            "gridwidth": 2,
            "linecolor": "white",
            "showbackground": true,
            "ticks": "",
            "zerolinecolor": "white"
           },
           "zaxis": {
            "backgroundcolor": "#E5ECF6",
            "gridcolor": "white",
            "gridwidth": 2,
            "linecolor": "white",
            "showbackground": true,
            "ticks": "",
            "zerolinecolor": "white"
           }
          },
          "shapedefaults": {
           "line": {
            "color": "#2a3f5f"
           }
          },
          "ternary": {
           "aaxis": {
            "gridcolor": "white",
            "linecolor": "white",
            "ticks": ""
           },
           "baxis": {
            "gridcolor": "white",
            "linecolor": "white",
            "ticks": ""
           },
           "bgcolor": "#E5ECF6",
           "caxis": {
            "gridcolor": "white",
            "linecolor": "white",
            "ticks": ""
           }
          },
          "title": {
           "x": 0.05
          },
          "xaxis": {
           "automargin": true,
           "gridcolor": "white",
           "linecolor": "white",
           "ticks": "",
           "title": {
            "standoff": 15
           },
           "zerolinecolor": "white",
           "zerolinewidth": 2
          },
          "yaxis": {
           "automargin": true,
           "gridcolor": "white",
           "linecolor": "white",
           "ticks": "",
           "title": {
            "standoff": 15
           },
           "zerolinecolor": "white",
           "zerolinewidth": 2
          }
         }
        }
       }
      },
      "text/html": [
       "<div>                            <div id=\"321cb1cb-5262-440e-8c1b-faefbefab55d\" class=\"plotly-graph-div\" style=\"height:525px; width:100%;\"></div>            <script type=\"text/javascript\">                require([\"plotly\"], function(Plotly) {                    window.PLOTLYENV=window.PLOTLYENV || {};                                    if (document.getElementById(\"321cb1cb-5262-440e-8c1b-faefbefab55d\")) {                    Plotly.newPlot(                        \"321cb1cb-5262-440e-8c1b-faefbefab55d\",                        [{\"x\":[7419,4103,1882,440],\"y\":[\"Main Screen Appear\",\"Offers Screen Appear\",\"Cart Screen Appear\",\"Payment Screen Successful\"],\"type\":\"funnel\"}],                        {\"template\":{\"data\":{\"bar\":[{\"error_x\":{\"color\":\"#2a3f5f\"},\"error_y\":{\"color\":\"#2a3f5f\"},\"marker\":{\"line\":{\"color\":\"#E5ECF6\",\"width\":0.5},\"pattern\":{\"fillmode\":\"overlay\",\"size\":10,\"solidity\":0.2}},\"type\":\"bar\"}],\"barpolar\":[{\"marker\":{\"line\":{\"color\":\"#E5ECF6\",\"width\":0.5},\"pattern\":{\"fillmode\":\"overlay\",\"size\":10,\"solidity\":0.2}},\"type\":\"barpolar\"}],\"carpet\":[{\"aaxis\":{\"endlinecolor\":\"#2a3f5f\",\"gridcolor\":\"white\",\"linecolor\":\"white\",\"minorgridcolor\":\"white\",\"startlinecolor\":\"#2a3f5f\"},\"baxis\":{\"endlinecolor\":\"#2a3f5f\",\"gridcolor\":\"white\",\"linecolor\":\"white\",\"minorgridcolor\":\"white\",\"startlinecolor\":\"#2a3f5f\"},\"type\":\"carpet\"}],\"choropleth\":[{\"colorbar\":{\"outlinewidth\":0,\"ticks\":\"\"},\"type\":\"choropleth\"}],\"contour\":[{\"colorbar\":{\"outlinewidth\":0,\"ticks\":\"\"},\"colorscale\":[[0.0,\"#0d0887\"],[0.1111111111111111,\"#46039f\"],[0.2222222222222222,\"#7201a8\"],[0.3333333333333333,\"#9c179e\"],[0.4444444444444444,\"#bd3786\"],[0.5555555555555556,\"#d8576b\"],[0.6666666666666666,\"#ed7953\"],[0.7777777777777778,\"#fb9f3a\"],[0.8888888888888888,\"#fdca26\"],[1.0,\"#f0f921\"]],\"type\":\"contour\"}],\"contourcarpet\":[{\"colorbar\":{\"outlinewidth\":0,\"ticks\":\"\"},\"type\":\"contourcarpet\"}],\"heatmap\":[{\"colorbar\":{\"outlinewidth\":0,\"ticks\":\"\"},\"colorscale\":[[0.0,\"#0d0887\"],[0.1111111111111111,\"#46039f\"],[0.2222222222222222,\"#7201a8\"],[0.3333333333333333,\"#9c179e\"],[0.4444444444444444,\"#bd3786\"],[0.5555555555555556,\"#d8576b\"],[0.6666666666666666,\"#ed7953\"],[0.7777777777777778,\"#fb9f3a\"],[0.8888888888888888,\"#fdca26\"],[1.0,\"#f0f921\"]],\"type\":\"heatmap\"}],\"heatmapgl\":[{\"colorbar\":{\"outlinewidth\":0,\"ticks\":\"\"},\"colorscale\":[[0.0,\"#0d0887\"],[0.1111111111111111,\"#46039f\"],[0.2222222222222222,\"#7201a8\"],[0.3333333333333333,\"#9c179e\"],[0.4444444444444444,\"#bd3786\"],[0.5555555555555556,\"#d8576b\"],[0.6666666666666666,\"#ed7953\"],[0.7777777777777778,\"#fb9f3a\"],[0.8888888888888888,\"#fdca26\"],[1.0,\"#f0f921\"]],\"type\":\"heatmapgl\"}],\"histogram\":[{\"marker\":{\"pattern\":{\"fillmode\":\"overlay\",\"size\":10,\"solidity\":0.2}},\"type\":\"histogram\"}],\"histogram2d\":[{\"colorbar\":{\"outlinewidth\":0,\"ticks\":\"\"},\"colorscale\":[[0.0,\"#0d0887\"],[0.1111111111111111,\"#46039f\"],[0.2222222222222222,\"#7201a8\"],[0.3333333333333333,\"#9c179e\"],[0.4444444444444444,\"#bd3786\"],[0.5555555555555556,\"#d8576b\"],[0.6666666666666666,\"#ed7953\"],[0.7777777777777778,\"#fb9f3a\"],[0.8888888888888888,\"#fdca26\"],[1.0,\"#f0f921\"]],\"type\":\"histogram2d\"}],\"histogram2dcontour\":[{\"colorbar\":{\"outlinewidth\":0,\"ticks\":\"\"},\"colorscale\":[[0.0,\"#0d0887\"],[0.1111111111111111,\"#46039f\"],[0.2222222222222222,\"#7201a8\"],[0.3333333333333333,\"#9c179e\"],[0.4444444444444444,\"#bd3786\"],[0.5555555555555556,\"#d8576b\"],[0.6666666666666666,\"#ed7953\"],[0.7777777777777778,\"#fb9f3a\"],[0.8888888888888888,\"#fdca26\"],[1.0,\"#f0f921\"]],\"type\":\"histogram2dcontour\"}],\"mesh3d\":[{\"colorbar\":{\"outlinewidth\":0,\"ticks\":\"\"},\"type\":\"mesh3d\"}],\"parcoords\":[{\"line\":{\"colorbar\":{\"outlinewidth\":0,\"ticks\":\"\"}},\"type\":\"parcoords\"}],\"pie\":[{\"automargin\":true,\"type\":\"pie\"}],\"scatter\":[{\"marker\":{\"colorbar\":{\"outlinewidth\":0,\"ticks\":\"\"}},\"type\":\"scatter\"}],\"scatter3d\":[{\"line\":{\"colorbar\":{\"outlinewidth\":0,\"ticks\":\"\"}},\"marker\":{\"colorbar\":{\"outlinewidth\":0,\"ticks\":\"\"}},\"type\":\"scatter3d\"}],\"scattercarpet\":[{\"marker\":{\"colorbar\":{\"outlinewidth\":0,\"ticks\":\"\"}},\"type\":\"scattercarpet\"}],\"scattergeo\":[{\"marker\":{\"colorbar\":{\"outlinewidth\":0,\"ticks\":\"\"}},\"type\":\"scattergeo\"}],\"scattergl\":[{\"marker\":{\"colorbar\":{\"outlinewidth\":0,\"ticks\":\"\"}},\"type\":\"scattergl\"}],\"scattermapbox\":[{\"marker\":{\"colorbar\":{\"outlinewidth\":0,\"ticks\":\"\"}},\"type\":\"scattermapbox\"}],\"scatterpolar\":[{\"marker\":{\"colorbar\":{\"outlinewidth\":0,\"ticks\":\"\"}},\"type\":\"scatterpolar\"}],\"scatterpolargl\":[{\"marker\":{\"colorbar\":{\"outlinewidth\":0,\"ticks\":\"\"}},\"type\":\"scatterpolargl\"}],\"scatterternary\":[{\"marker\":{\"colorbar\":{\"outlinewidth\":0,\"ticks\":\"\"}},\"type\":\"scatterternary\"}],\"surface\":[{\"colorbar\":{\"outlinewidth\":0,\"ticks\":\"\"},\"colorscale\":[[0.0,\"#0d0887\"],[0.1111111111111111,\"#46039f\"],[0.2222222222222222,\"#7201a8\"],[0.3333333333333333,\"#9c179e\"],[0.4444444444444444,\"#bd3786\"],[0.5555555555555556,\"#d8576b\"],[0.6666666666666666,\"#ed7953\"],[0.7777777777777778,\"#fb9f3a\"],[0.8888888888888888,\"#fdca26\"],[1.0,\"#f0f921\"]],\"type\":\"surface\"}],\"table\":[{\"cells\":{\"fill\":{\"color\":\"#EBF0F8\"},\"line\":{\"color\":\"white\"}},\"header\":{\"fill\":{\"color\":\"#C8D4E3\"},\"line\":{\"color\":\"white\"}},\"type\":\"table\"}]},\"layout\":{\"annotationdefaults\":{\"arrowcolor\":\"#2a3f5f\",\"arrowhead\":0,\"arrowwidth\":1},\"autotypenumbers\":\"strict\",\"coloraxis\":{\"colorbar\":{\"outlinewidth\":0,\"ticks\":\"\"}},\"colorscale\":{\"diverging\":[[0,\"#8e0152\"],[0.1,\"#c51b7d\"],[0.2,\"#de77ae\"],[0.3,\"#f1b6da\"],[0.4,\"#fde0ef\"],[0.5,\"#f7f7f7\"],[0.6,\"#e6f5d0\"],[0.7,\"#b8e186\"],[0.8,\"#7fbc41\"],[0.9,\"#4d9221\"],[1,\"#276419\"]],\"sequential\":[[0.0,\"#0d0887\"],[0.1111111111111111,\"#46039f\"],[0.2222222222222222,\"#7201a8\"],[0.3333333333333333,\"#9c179e\"],[0.4444444444444444,\"#bd3786\"],[0.5555555555555556,\"#d8576b\"],[0.6666666666666666,\"#ed7953\"],[0.7777777777777778,\"#fb9f3a\"],[0.8888888888888888,\"#fdca26\"],[1.0,\"#f0f921\"]],\"sequentialminus\":[[0.0,\"#0d0887\"],[0.1111111111111111,\"#46039f\"],[0.2222222222222222,\"#7201a8\"],[0.3333333333333333,\"#9c179e\"],[0.4444444444444444,\"#bd3786\"],[0.5555555555555556,\"#d8576b\"],[0.6666666666666666,\"#ed7953\"],[0.7777777777777778,\"#fb9f3a\"],[0.8888888888888888,\"#fdca26\"],[1.0,\"#f0f921\"]]},\"colorway\":[\"#636efa\",\"#EF553B\",\"#00cc96\",\"#ab63fa\",\"#FFA15A\",\"#19d3f3\",\"#FF6692\",\"#B6E880\",\"#FF97FF\",\"#FECB52\"],\"font\":{\"color\":\"#2a3f5f\"},\"geo\":{\"bgcolor\":\"white\",\"lakecolor\":\"white\",\"landcolor\":\"#E5ECF6\",\"showlakes\":true,\"showland\":true,\"subunitcolor\":\"white\"},\"hoverlabel\":{\"align\":\"left\"},\"hovermode\":\"closest\",\"mapbox\":{\"style\":\"light\"},\"paper_bgcolor\":\"white\",\"plot_bgcolor\":\"#E5ECF6\",\"polar\":{\"angularaxis\":{\"gridcolor\":\"white\",\"linecolor\":\"white\",\"ticks\":\"\"},\"bgcolor\":\"#E5ECF6\",\"radialaxis\":{\"gridcolor\":\"white\",\"linecolor\":\"white\",\"ticks\":\"\"}},\"scene\":{\"xaxis\":{\"backgroundcolor\":\"#E5ECF6\",\"gridcolor\":\"white\",\"gridwidth\":2,\"linecolor\":\"white\",\"showbackground\":true,\"ticks\":\"\",\"zerolinecolor\":\"white\"},\"yaxis\":{\"backgroundcolor\":\"#E5ECF6\",\"gridcolor\":\"white\",\"gridwidth\":2,\"linecolor\":\"white\",\"showbackground\":true,\"ticks\":\"\",\"zerolinecolor\":\"white\"},\"zaxis\":{\"backgroundcolor\":\"#E5ECF6\",\"gridcolor\":\"white\",\"gridwidth\":2,\"linecolor\":\"white\",\"showbackground\":true,\"ticks\":\"\",\"zerolinecolor\":\"white\"}},\"shapedefaults\":{\"line\":{\"color\":\"#2a3f5f\"}},\"ternary\":{\"aaxis\":{\"gridcolor\":\"white\",\"linecolor\":\"white\",\"ticks\":\"\"},\"baxis\":{\"gridcolor\":\"white\",\"linecolor\":\"white\",\"ticks\":\"\"},\"bgcolor\":\"#E5ECF6\",\"caxis\":{\"gridcolor\":\"white\",\"linecolor\":\"white\",\"ticks\":\"\"}},\"title\":{\"x\":0.05},\"xaxis\":{\"automargin\":true,\"gridcolor\":\"white\",\"linecolor\":\"white\",\"ticks\":\"\",\"title\":{\"standoff\":15},\"zerolinecolor\":\"white\",\"zerolinewidth\":2},\"yaxis\":{\"automargin\":true,\"gridcolor\":\"white\",\"linecolor\":\"white\",\"ticks\":\"\",\"title\":{\"standoff\":15},\"zerolinecolor\":\"white\",\"zerolinewidth\":2}}}},                        {\"responsive\": true}                    ).then(function(){\n",
       "                            \n",
       "var gd = document.getElementById('321cb1cb-5262-440e-8c1b-faefbefab55d');\n",
       "var x = new MutationObserver(function (mutations, observer) {{\n",
       "        var display = window.getComputedStyle(gd).display;\n",
       "        if (!display || display === 'none') {{\n",
       "            console.log([gd, 'removed!']);\n",
       "            Plotly.purge(gd);\n",
       "            observer.disconnect();\n",
       "        }}\n",
       "}});\n",
       "\n",
       "// Listen for the removal of the full notebook cells\n",
       "var notebookContainer = gd.closest('#notebook-container');\n",
       "if (notebookContainer) {{\n",
       "    x.observe(notebookContainer, {childList: true});\n",
       "}}\n",
       "\n",
       "// Listen for the clearing of the current output cell\n",
       "var outputEl = gd.closest('.output');\n",
       "if (outputEl) {{\n",
       "    x.observe(outputEl, {childList: true});\n",
       "}}\n",
       "\n",
       "                        })                };                });            </script>        </div>"
      ]
     },
     "metadata": {},
     "output_type": "display_data"
    }
   ],
   "source": [
    "fig = go.Figure(go.Funnel(\n",
    "    y = ['Main Screen Appear', 'Offers Screen Appear', 'Cart Screen Appear', 'Payment Screen Successful'],\n",
    "    x = [n_MainScreenAppear, n_OffersScreenAppear, n_CartScreenAppear, n_PaymentScreenSuccessful]\n",
    "    ))\n",
    "fig.show()"
   ]
  },
  {
   "cell_type": "markdown",
   "id": "c1d91a5c",
   "metadata": {},
   "source": [
    "Funnel Peristiwa Table:\n",
    "- Funnel grafik menggambarkan kerucut yang tajam.\n",
    "- Pada peristiwa cart screen -->> payment terjadi pengurangan pengguna yang cukup banyak dengan presentase 23.4%\n",
    "- Proses peristiwa ini cukup normal, hanya saja pada bagian payment sedikit terpaut jauh perbandingan dengan peristiwa yang lain. Sepertinya kita perlu mencari tahu lebih lanjut."
   ]
  },
  {
   "cell_type": "markdown",
   "id": "2571cf47",
   "metadata": {},
   "source": [
    "### Mempelajari Hasil Analisis A/A/B"
   ]
  },
  {
   "cell_type": "markdown",
   "id": "eb254ff7",
   "metadata": {},
   "source": [
    "Kita akan mempelajari hasil dari uji A/B mulai dari malihat jumlah pengguna yang ada di setiap kelompok. "
   ]
  },
  {
   "cell_type": "code",
   "execution_count": 68,
   "id": "da43dd52",
   "metadata": {
    "scrolled": true
   },
   "outputs": [
    {
     "data": {
      "text/html": [
       "<div>\n",
       "<style scoped>\n",
       "    .dataframe tbody tr th:only-of-type {\n",
       "        vertical-align: middle;\n",
       "    }\n",
       "\n",
       "    .dataframe tbody tr th {\n",
       "        vertical-align: top;\n",
       "    }\n",
       "\n",
       "    .dataframe thead th {\n",
       "        text-align: right;\n",
       "    }\n",
       "</style>\n",
       "<table border=\"1\" class=\"dataframe\">\n",
       "  <thead>\n",
       "    <tr style=\"text-align: right;\">\n",
       "      <th></th>\n",
       "      <th>device_id_hash</th>\n",
       "      <th>ratio_%</th>\n",
       "    </tr>\n",
       "    <tr>\n",
       "      <th>exp_id</th>\n",
       "      <th></th>\n",
       "      <th></th>\n",
       "    </tr>\n",
       "  </thead>\n",
       "  <tbody>\n",
       "    <tr>\n",
       "      <th>246</th>\n",
       "      <td>2484</td>\n",
       "      <td>32.970534</td>\n",
       "    </tr>\n",
       "    <tr>\n",
       "      <th>247</th>\n",
       "      <td>2513</td>\n",
       "      <td>33.355455</td>\n",
       "    </tr>\n",
       "    <tr>\n",
       "      <th>248</th>\n",
       "      <td>2537</td>\n",
       "      <td>33.674011</td>\n",
       "    </tr>\n",
       "  </tbody>\n",
       "</table>\n",
       "</div>"
      ],
      "text/plain": [
       "        device_id_hash    ratio_%\n",
       "exp_id                           \n",
       "246               2484  32.970534\n",
       "247               2513  33.355455\n",
       "248               2537  33.674011"
      ]
     },
     "execution_count": 68,
     "metadata": {},
     "output_type": "execute_result"
    }
   ],
   "source": [
    "group_id = data_filtered.pivot_table(index='exp_id', values='device_id_hash', aggfunc='nunique')\n",
    "group_id['ratio_%'] = group_id['device_id_hash'] / group_id['device_id_hash'].sum() * 100\n",
    "group_id"
   ]
  },
  {
   "cell_type": "code",
   "execution_count": 69,
   "id": "fd5c8530",
   "metadata": {
    "scrolled": false
   },
   "outputs": [
    {
     "data": {
      "text/html": [
       "<div>\n",
       "<style scoped>\n",
       "    .dataframe tbody tr th:only-of-type {\n",
       "        vertical-align: middle;\n",
       "    }\n",
       "\n",
       "    .dataframe tbody tr th {\n",
       "        vertical-align: top;\n",
       "    }\n",
       "\n",
       "    .dataframe thead th {\n",
       "        text-align: right;\n",
       "    }\n",
       "</style>\n",
       "<table border=\"1\" class=\"dataframe\">\n",
       "  <thead>\n",
       "    <tr style=\"text-align: right;\">\n",
       "      <th>exp_id</th>\n",
       "      <th>246</th>\n",
       "      <th>247</th>\n",
       "      <th>248</th>\n",
       "    </tr>\n",
       "    <tr>\n",
       "      <th>event_name</th>\n",
       "      <th></th>\n",
       "      <th></th>\n",
       "      <th></th>\n",
       "    </tr>\n",
       "  </thead>\n",
       "  <tbody>\n",
       "    <tr>\n",
       "      <th>MainScreenAppear</th>\n",
       "      <td>2450</td>\n",
       "      <td>2476</td>\n",
       "      <td>2493</td>\n",
       "    </tr>\n",
       "    <tr>\n",
       "      <th>OffersScreenAppear</th>\n",
       "      <td>1542</td>\n",
       "      <td>1520</td>\n",
       "      <td>1531</td>\n",
       "    </tr>\n",
       "    <tr>\n",
       "      <th>CartScreenAppear</th>\n",
       "      <td>1266</td>\n",
       "      <td>1238</td>\n",
       "      <td>1230</td>\n",
       "    </tr>\n",
       "    <tr>\n",
       "      <th>PaymentScreenSuccessful</th>\n",
       "      <td>1200</td>\n",
       "      <td>1158</td>\n",
       "      <td>1181</td>\n",
       "    </tr>\n",
       "    <tr>\n",
       "      <th>Tutorial</th>\n",
       "      <td>278</td>\n",
       "      <td>283</td>\n",
       "      <td>279</td>\n",
       "    </tr>\n",
       "  </tbody>\n",
       "</table>\n",
       "</div>"
      ],
      "text/plain": [
       "exp_id                    246   247   248\n",
       "event_name                               \n",
       "MainScreenAppear         2450  2476  2493\n",
       "OffersScreenAppear       1542  1520  1531\n",
       "CartScreenAppear         1266  1238  1230\n",
       "PaymentScreenSuccessful  1200  1158  1181\n",
       "Tutorial                  278   283   279"
      ]
     },
     "execution_count": 69,
     "metadata": {},
     "output_type": "execute_result"
    }
   ],
   "source": [
    "group_event = data_filtered.pivot_table(index='event_name', columns='exp_id', values='device_id_hash', aggfunc='nunique')\n",
    "group_event.sort_values(by=246, ascending=False)"
   ]
  },
  {
   "cell_type": "markdown",
   "id": "a19864a8",
   "metadata": {},
   "source": [
    "Selisih jumlah pengguna dari masing-masing kelompok tidak lebih dari 1%, ini juga mengindikasikan sample dapat kita gunakan untuk uji hipotesis selanjutnya."
   ]
  },
  {
   "cell_type": "markdown",
   "id": "14c71105",
   "metadata": {},
   "source": [
    "Karena nilainya tidak terpaut terlalu jauh antara satu sample dengan yang lain, maka bisa kita asumsikan adanya kesetaraan proporsi."
   ]
  },
  {
   "cell_type": "markdown",
   "id": "04a660ef",
   "metadata": {},
   "source": [
    " "
   ]
  },
  {
   "cell_type": "markdown",
   "id": "78a4425b",
   "metadata": {},
   "source": [
    "Uji Statistik : Z-test dependent\n",
    "\n",
    "Hipotesis :\n",
    "   - H0 = Apabila jumlah pengguna di suatu peristiwa pada suatu kelompok yaitu Sama\n",
    "   - H1 = Apabila jumlah pengguna di suatu peristiwa pada suatu kelompok yaitu Tidak Sama\n",
    "   \n",
    "Alpha : 5% / 0.05"
   ]
  },
  {
   "cell_type": "code",
   "execution_count": 70,
   "id": "dd7959f6",
   "metadata": {},
   "outputs": [],
   "source": [
    "def check_hypothesis(successes1, successes2, trials1, trials2, alpha=0.05):\n",
    "    p1 = successes1 / trials1\n",
    "    p2 = successes2 / trials2\n",
    "    p_combined = (successes1 + successes2) / (trials1 + trials2)\n",
    "    difference = p1 - p2\n",
    "    \n",
    "    z_value = difference / math.sqrt(p_combined * (1 - p_combined) * (1 / trials1 + 1 / trials2))\n",
    "    distr =  stats.norm(0, 1)\n",
    "    \n",
    "    p_value = (1 - distr.cdf(abs(z_value))) * 2\n",
    "    \n",
    "    print('p-value: ', p_value)\n",
    "    if (p_value < alpha):\n",
    "        print(\"Menolak hipotesis nol: ada perbedaan yang signifikan di antara proporsinya\")\n",
    "    else:\n",
    "        print(\"Gagal untuk menolak hipotesis nol: tidak ada alasan untuk mempertimbangkan bahwa proporsinya berbeda\")"
   ]
  },
  {
   "cell_type": "code",
   "execution_count": 71,
   "id": "d752fe69",
   "metadata": {},
   "outputs": [],
   "source": [
    "def check_event_hypothesis(group_event, \n",
    "                        group_id, \n",
    "                        event,\n",
    "                        exp1, \n",
    "                        exp2):\n",
    "    frac1 = group_event.loc[event, exp1] / group_id.loc[exp1, 'device_id_hash']\n",
    "    frac2 = group_event.loc[event, exp2] / group_id.loc[exp2, 'device_id_hash']\n",
    "    print(f'event: {event}, group: {exp1}')\n",
    "    print(f'event: {event}, group: {exp2}')\n",
    "    check_hypothesis(group_event.loc[event, exp1], \n",
    "                 group_event.loc[event, exp2], \n",
    "                 group_id.loc[exp1, 'device_id_hash'], \n",
    "                 group_id.loc[exp2, 'device_id_hash'])"
   ]
  },
  {
   "cell_type": "code",
   "execution_count": 72,
   "id": "6d0153a7",
   "metadata": {
    "scrolled": false
   },
   "outputs": [
    {
     "name": "stdout",
     "output_type": "stream",
     "text": [
      "event: CartScreenAppear, group: 246\n",
      "event: CartScreenAppear, group: 247\n",
      "p-value:  0.22883372237997213\n",
      "Gagal untuk menolak hipotesis nol: tidak ada alasan untuk mempertimbangkan bahwa proporsinya berbeda\n",
      "-----------------------------------------------------------\n",
      "event: MainScreenAppear, group: 246\n",
      "event: MainScreenAppear, group: 247\n",
      "p-value:  0.7570597232046099\n",
      "Gagal untuk menolak hipotesis nol: tidak ada alasan untuk mempertimbangkan bahwa proporsinya berbeda\n",
      "-----------------------------------------------------------\n",
      "event: OffersScreenAppear, group: 246\n",
      "event: OffersScreenAppear, group: 247\n",
      "p-value:  0.2480954578522181\n",
      "Gagal untuk menolak hipotesis nol: tidak ada alasan untuk mempertimbangkan bahwa proporsinya berbeda\n",
      "-----------------------------------------------------------\n",
      "event: PaymentScreenSuccessful, group: 246\n",
      "event: PaymentScreenSuccessful, group: 247\n",
      "p-value:  0.11456679313141849\n",
      "Gagal untuk menolak hipotesis nol: tidak ada alasan untuk mempertimbangkan bahwa proporsinya berbeda\n",
      "-----------------------------------------------------------\n",
      "event: Tutorial, group: 246\n",
      "event: Tutorial, group: 247\n",
      "p-value:  0.9376996189257114\n",
      "Gagal untuk menolak hipotesis nol: tidak ada alasan untuk mempertimbangkan bahwa proporsinya berbeda\n",
      "-----------------------------------------------------------\n"
     ]
    }
   ],
   "source": [
    "for event in group_event.index:\n",
    "    check_event_hypothesis(group_event, group_id, event, 246, 247)\n",
    "    print('-----------------------------------------------------------')"
   ]
  },
  {
   "cell_type": "markdown",
   "id": "8d606a8d",
   "metadata": {},
   "source": [
    "Hipotesis Kelompok 246 dan 247:\n",
    "- Dari kelima peristiwa pengguna, kesimpulannya adalah H1 / Gagal untuk menolak hipotesis nol.\n",
    "- P-value yang paling mendekati alpha yaitu PaymentScreenSuccessful di angka 0.11.\n",
    "- Penggunaan font berukuran 246 dan 247 tidak terlalu memberikan dampak signifikan dikarenakan tidak ditemukan perbedaan proporsi dengan titik kritis di 11% PaymentScreenSuccessful."
   ]
  },
  {
   "cell_type": "markdown",
   "id": "dcd39266",
   "metadata": {},
   "source": [
    " "
   ]
  },
  {
   "cell_type": "code",
   "execution_count": 73,
   "id": "bdb84ee2",
   "metadata": {
    "scrolled": false
   },
   "outputs": [
    {
     "name": "stdout",
     "output_type": "stream",
     "text": [
      "event: CartScreenAppear, group: 247\n",
      "event: CartScreenAppear, group: 248\n",
      "p-value:  0.5786197879539783\n",
      "Gagal untuk menolak hipotesis nol: tidak ada alasan untuk mempertimbangkan bahwa proporsinya berbeda\n",
      "-----------------------------------------------------------\n",
      "event: MainScreenAppear, group: 247\n",
      "event: MainScreenAppear, group: 248\n",
      "p-value:  0.4587053616621515\n",
      "Gagal untuk menolak hipotesis nol: tidak ada alasan untuk mempertimbangkan bahwa proporsinya berbeda\n",
      "-----------------------------------------------------------\n",
      "event: OffersScreenAppear, group: 247\n",
      "event: OffersScreenAppear, group: 248\n",
      "p-value:  0.9197817830592261\n",
      "Gagal untuk menolak hipotesis nol: tidak ada alasan untuk mempertimbangkan bahwa proporsinya berbeda\n",
      "-----------------------------------------------------------\n",
      "event: PaymentScreenSuccessful, group: 247\n",
      "event: PaymentScreenSuccessful, group: 248\n",
      "p-value:  0.7373415053803964\n",
      "Gagal untuk menolak hipotesis nol: tidak ada alasan untuk mempertimbangkan bahwa proporsinya berbeda\n",
      "-----------------------------------------------------------\n",
      "event: Tutorial, group: 247\n",
      "event: Tutorial, group: 248\n",
      "p-value:  0.765323922474501\n",
      "Gagal untuk menolak hipotesis nol: tidak ada alasan untuk mempertimbangkan bahwa proporsinya berbeda\n",
      "-----------------------------------------------------------\n"
     ]
    }
   ],
   "source": [
    "for event in group_event.index:\n",
    "    check_event_hypothesis(group_event, group_id, event, 247, 248)\n",
    "    print('-----------------------------------------------------------')"
   ]
  },
  {
   "cell_type": "markdown",
   "id": "e68b502e",
   "metadata": {},
   "source": [
    "Hipotesis Kelompok 247 dan 248:\n",
    "- Dari kelima peristiwa pengguna, kesimpulannya adalah H1 / Gagal untuk menolak hipotesis nol.\n",
    "- P-value yang paling mendekati alpha yaitu MainScreenAppear di angka 0.45.\n",
    "- Penggunaan font berukuran 247 dan 248 tidak terlalu memberikan dampak signifikan dikarenakan tidak ditemukan perbedaan proporsi dengan titik kritis di 45% PaymentScreenSuccessful."
   ]
  },
  {
   "cell_type": "markdown",
   "id": "2ad39426",
   "metadata": {},
   "source": [
    " "
   ]
  },
  {
   "cell_type": "code",
   "execution_count": 74,
   "id": "9f3066a3",
   "metadata": {
    "scrolled": false
   },
   "outputs": [
    {
     "name": "stdout",
     "output_type": "stream",
     "text": [
      "event: CartScreenAppear, group: 246\n",
      "event: CartScreenAppear, group: 248\n",
      "p-value:  0.07842923237520116\n",
      "Gagal untuk menolak hipotesis nol: tidak ada alasan untuk mempertimbangkan bahwa proporsinya berbeda\n",
      "-----------------------------------------------------------\n",
      "event: MainScreenAppear, group: 246\n",
      "event: MainScreenAppear, group: 248\n",
      "p-value:  0.2949721933554552\n",
      "Gagal untuk menolak hipotesis nol: tidak ada alasan untuk mempertimbangkan bahwa proporsinya berbeda\n",
      "-----------------------------------------------------------\n",
      "event: OffersScreenAppear, group: 246\n",
      "event: OffersScreenAppear, group: 248\n",
      "p-value:  0.20836205402738917\n",
      "Gagal untuk menolak hipotesis nol: tidak ada alasan untuk mempertimbangkan bahwa proporsinya berbeda\n",
      "-----------------------------------------------------------\n",
      "event: PaymentScreenSuccessful, group: 246\n",
      "event: PaymentScreenSuccessful, group: 248\n",
      "p-value:  0.2122553275697796\n",
      "Gagal untuk menolak hipotesis nol: tidak ada alasan untuk mempertimbangkan bahwa proporsinya berbeda\n",
      "-----------------------------------------------------------\n",
      "event: Tutorial, group: 246\n",
      "event: Tutorial, group: 248\n",
      "p-value:  0.8264294010087645\n",
      "Gagal untuk menolak hipotesis nol: tidak ada alasan untuk mempertimbangkan bahwa proporsinya berbeda\n",
      "-----------------------------------------------------------\n"
     ]
    }
   ],
   "source": [
    "for event in group_event.index:\n",
    "    check_event_hypothesis(group_event, group_id, event, 246, 248)\n",
    "    print('-----------------------------------------------------------')"
   ]
  },
  {
   "cell_type": "markdown",
   "id": "59730530",
   "metadata": {},
   "source": [
    "Hipotesis Kelompok 246 dan 248:\n",
    "- Dari kelima peristiwa pengguna, kesimpulannya adalah H1 / Gagal untuk menolak hipotesis nol.\n",
    "- P-value yang paling mendekati alpha yaitu CartScreenAppear di angka 0.078.\n",
    "- Penggunaan font berukuran 246 dan 248 memiliki titik kritis pada 7% CartScreenAppear. Nilai ini terbilang sangat mendekati nilai alpha, akan tetapi tidak ada alasan untuk mempertimbangkan bahwa proporsinya berbeda. Jika nilai alpha kita ubah menjadi 0.07 maka bisa dipastikan hipotesis 0 akan ditolak."
   ]
  },
  {
   "cell_type": "markdown",
   "id": "08386fbf",
   "metadata": {},
   "source": [
    "## Kesimpulan Umum"
   ]
  },
  {
   "cell_type": "code",
   "execution_count": 75,
   "id": "6de49b39",
   "metadata": {},
   "outputs": [
    {
     "data": {
      "text/plain": [
       "(243713, 7)"
      ]
     },
     "execution_count": 75,
     "metadata": {},
     "output_type": "execute_result"
    }
   ],
   "source": [
    "logs_data.shape"
   ]
  },
  {
   "cell_type": "markdown",
   "id": "f16d3f38",
   "metadata": {},
   "source": [
    "Diawali dengan inisialisasi library pandas, numpy, math, scipy, plotly, dan matplotlib. Total data yang dimiliki berjumlah 244126 logs. Dengan adanya nilai duplikasi 413 data, maka total data menjadi 243713 dengan 7 total kolom. Ada penambahan kolom baru seperti kolom tanggal dan waktu dari hasil konversi nilai pada kolom timestamp.\n",
    "\n",
    "Selanjutnya mempelajari data untuk mencari anomali atau outlier dalam populasi statistik. Terindikasi pada grafik histogram \"Periode waktu logs\":\n",
    "   1. Data lebih terpusat pada tanggal '2019-08-01' sampai '2019-08-07'.\n",
    "   2. Sepertinya waktu yang dicakup oleh data termasuk dengan data lama, sehingga tingkat relevansinya rendah karena peristiwa yang tersimpan terpaut jauh dengan data yang baru.\n",
    "   3. Disimpulkan untuk data abnormal/nilai outlier ada pada tanggal 2019-07-25 --> 2019-07-31.\n",
    "   \n",
    "Kita lakukan eliminasi peristiwa yang terdahulu dan memulainya pada tanggal 2019-08-01 hingga data yang terbaru dengan kurun waktu menjadi 7 hari dari total 13 hari.\n",
    "\n",
    "Tahap analisis data berdasarkan peristiwa dari pelanggan, MainScreenAppear yang memiliki jumlah frakuensi terbanyak dengan nilai 117328 dan Tutorial dengan jumlah 1005. Peristiwa Tutorial memiliki nilai yang terpaut jauh dengan yang lain, serta posisinya yang paling bawah (dari funnel) mengindikasikan bahwa peristiwa tersebut jarang di lalui oleh pelanggan. Sepertinya banyak orang yang skip untuk langkah ini.\n",
    "\n",
    "Terindikasi pada Funnel Peristiwa:\n",
    "   1. Pada peristiwa cart screen -->> payment terjadi pengurangan pengguna yang cukup banyak dengan presentase 23.4%\n",
    "   2. Proses peristiwa ini cukup normal, hanya saja pada bagian payment sedikit terpaut jauh perbandingan dengan peristiwa yang lain. Sepertinya kita perlu mencari tahu lebih lanjut.\n",
    "   \n",
    "Selisih jumlah pengguna dari masing-masing kelompok tidak lebih dari 1%, ini juga mengindikasikan sample dapat kita gunakan untuk uji hipotesis selanjutnya. Karena nilainya tidak terpaut terlalu jauh antara satu sample dengan yang lain, maka bisa kita asumsikan adanya kesetaraan proporsi.\n",
    "\n",
    "   - Uji Statistik : Z-test dependent\n",
    "   - Hipotesis :\n",
    "        - H0 = Apabila jumlah pengguna di suatu peristiwa pada suatu kelompok yaitu Sama\n",
    "        - H1 = Apabila jumlah pengguna di suatu peristiwa pada suatu kelompok yaitu Tidak Sama\n",
    "   - Alpha : 5% / 0.05\n",
    "   \n",
    "Hasil Hipotesis:\n",
    "1. Kelompok 246 dan 247\n",
    "   - Penggunaan font berukuran 246 dan 247 tidak terlalu memberikan dampak signifikan dikarenakan tidak ditemukan perbedaan proporsi dengan titik kritis di 11% PaymentScreenSuccessful.\n",
    "2. Kelompok 247 dan 248\n",
    "   - Penggunaan font berukuran 247 dan 248 tidak terlalu memberikan dampak signifikan dikarenakan tidak ditemukan perbedaan proporsi dengan titik kritis di 45% PaymentScreenSuccessful.\n",
    "3. Kelompok 246 dan 248\n",
    "   - Penggunaan font berukuran 246 dan 248 memiliki titik kritis pada 7% CartScreenAppear. Nilai ini terbilang sangat mendekati nilai alpha, akan tetapi tidak ada alasan untuk mempertimbangkan bahwa proporsinya berbeda. Jika nilai alpha kita ubah menjadi 0.07 maka bisa dipastikan hipotesis 0 akan ditolak."
   ]
  }
 ],
 "metadata": {
  "kernelspec": {
   "display_name": "Python 3 (ipykernel)",
   "language": "python",
   "name": "python3"
  },
  "language_info": {
   "codemirror_mode": {
    "name": "ipython",
    "version": 3
   },
   "file_extension": ".py",
   "mimetype": "text/x-python",
   "name": "python",
   "nbconvert_exporter": "python",
   "pygments_lexer": "ipython3",
   "version": "3.11.4"
  },
  "toc": {
   "base_numbering": 1,
   "nav_menu": {},
   "number_sections": true,
   "sideBar": true,
   "skip_h1_title": true,
   "title_cell": "Table of Contents",
   "title_sidebar": "Contents",
   "toc_cell": false,
   "toc_position": {},
   "toc_section_display": true,
   "toc_window_display": true
  }
 },
 "nbformat": 4,
 "nbformat_minor": 5
}
