{
 "cells": [
  {
   "cell_type": "markdown",
   "metadata": {},
   "source": [
    "# E-Commerce: Mengidentifikasi Profil Pelanggan"
   ]
  },
  {
   "cell_type": "markdown",
   "metadata": {},
   "source": [
    "**Google Drive Dashboard** - https://drive.google.com/drive/folders/1nghgvhttzbKwg6MLoCnOIn5ZYLWjNIog?usp=drive_link"
   ]
  },
  {
   "cell_type": "markdown",
   "metadata": {},
   "source": [
    "## Pendahuluan"
   ]
  },
  {
   "cell_type": "markdown",
   "metadata": {},
   "source": [
    "Pengidentifikasian profil pelanggan memuat data riwayat transaksi dari **Everything Plus**, yakni sebuah toko daring yang menjual perlengkapan rumah tangga."
   ]
  },
  {
   "cell_type": "markdown",
   "metadata": {},
   "source": [
    "### Latar Belakang"
   ]
  },
  {
   "cell_type": "markdown",
   "metadata": {},
   "source": [
    "Di era digitalisasi sekarang banyak sekali masyarakat pengguna gawai mulai dari handphone, tablet, maupun laptop/komputer sebagai daily driver mereka untuk mencari informasi yang luas atau juga sebagai mata pencaharian untuk sehari-hari mereka. Karena sekarang jual-beli barang sudah bisa mereka akses dengan mudah, cepat, dan terpercaya melalui media platform yang begitu banyak hanya di genggaman mereka. Salah satunya E-Commerse pada suatu Marketplace yang sudah banyak di gunakan masyarakat.\n",
    "\n",
    "**Tugas**\n",
    "Tentukan segmentasi pengguna berdasarkan profil mereka.\n",
    "*\tLakukan analisis data eksploratif.\n",
    "*\tTentukan segmentasi pengguna berdasarkan riwayat pembelian. Jangan ragu untuk mengimplementasikan ide Anda terkait segmentasi pengguna. Pertimbangkan cara agar segmentasi yang Anda lakukan dapat membantu Anda mengembangkan penawaran yang lebih personal untuk pengguna yang berbeda. Cobalah untuk membentuk segmentasi berdasarkan apa yang dibeli pengguna. Anda bisa menganalisis pembelian mereka dan mengelompokkan barang-barang yang dibeli berdasarkan kategori produk mereka.\n",
    "*\tRumuskan dan lakukan pengujian hipotesis statistik.\n"
   ]
  },
  {
   "cell_type": "markdown",
   "metadata": {},
   "source": [
    "### Detail Pengerjaan Tugas"
   ]
  },
  {
   "cell_type": "markdown",
   "metadata": {},
   "source": [
    "Langkah yang diambil:\n",
    "\n",
    "- [Pra-pemrosesan data itu sendiri beserta EDA-nya.](#pra)\n",
    "- [Mempelajari data dengan melihat waktu peristiwa terhadap transaksi pengguna (melihat polanya).](#learn)\n",
    "- [Menganalisis menggunakan RFM](#rfm)\n",
    "- [Segmentasi Pengguna berdasarkan hasil RFM](#segment)\n",
    "- [Analisis Item Pembelian](#item)\n",
    "- [Merumuskan hipotesis untuk mengetahui tingkat loyalitas dari pengguna](#hipo)\n",
    "- [Pengambilan kesimpulan secara umum.](#kesimpulan)"
   ]
  },
  {
   "cell_type": "markdown",
   "metadata": {},
   "source": [
    "### Tujuan Proyek"
   ]
  },
  {
   "cell_type": "markdown",
   "metadata": {},
   "source": [
    "Tujuan: Mencari tahu profil pengguna berdasarkan pola dan perilakunya untuk setiap transaksi yang dilakukan pengguna berdasarkan riwayat pembelian."
   ]
  },
  {
   "cell_type": "markdown",
   "metadata": {},
   "source": [
    "### Segmentasi RFM"
   ]
  },
  {
   "cell_type": "markdown",
   "metadata": {},
   "source": [
    "Analisis RFM adalah teknik pemasaran yang digunakan untuk menentukan peringkat dan mengelompokkan pelanggan secara kuantitatif berdasarkan keterkinian, frekuensi, dan total uang dari transaksi terkini mereka untuk mengidentifikasi pelanggan terbaik dan melakukan kampanye pemasaran yang ditargetkan (Katie Terrell Hanna, 2024).\n",
    "* Recency - Perbedaan antara tanggal referensi dan tanggal maksimum dalam kerangka data untuk setiap pelanggan (yaitu kunjungan terakhir)\n",
    "* Frequency -  Mengetahui seberapa sering pelanggan melakukan pembelian, yang dapat membantu untuk mengidentifikasi pelanggan tetap.\n",
    "* Monetary - Menunjukkan jumlah total yang dihabiskan oleh pelanggan untuk membeli produk dalam periode waktu tertentu.\n",
    "\n",
    "Berdasarkan Nilai RFM, skor untuk setiap pelanggan yaitu antara 1 dan 3 (mengelompokkannya). 3 adalah skor terbaik dan 1 adalah skor terburuk (Surendra Tanniru, 2023):\n",
    "\n",
    "| Segment | RFM | Deskripsi |\n",
    "| --- | --- | --- |\n",
    "| Best Customers | 333 | Membeli paling baru dan paling sering serta menghabiskan paling banyak |\n",
    "| Loyal Customers | 1X1 | Membeli paling sering |\n",
    "| Big Spenders | XX3 | Membeli paling banyak |\n",
    "| Casual Customers | XXX | Average dari recency, frequency, maupun monetarynya |\n",
    "| Almost Lost | 233 | Belum membeli untuk beberapa waktu tetapi ada riwayat pembelian banyak dan sering |\n",
    "| Lost Customers | 133 | Terakhir pembelian cukup lama, tetapi ada riwayat pembelian banyak dan sering |\n",
    "| Lost Cheap Customers | 111 | Terakhir pembelian cukup lama, membeli sedikit dan menghabiskan sedikit |\n",
    "\n",
    "\n",
    "Ilustrasi berdasarkan sumbernya:\n",
    "\n",
    "![Customer Segmentation RFM](72488Segments.png)"
   ]
  },
  {
   "cell_type": "markdown",
   "metadata": {},
   "source": [
    "## Deskripsi Data"
   ]
  },
  {
   "cell_type": "markdown",
   "metadata": {},
   "source": [
    "Dataframe `df` memuat:\n",
    "   - `InvoiceNo` — ID pesanan\n",
    "   - `StockCode` — Nama barang\n",
    "   - `Description` — Nama item\n",
    "   - `Quantity` — Kuantitas barang\n",
    "   - `InvoiceDate` — Tanggal pemesanan\n",
    "   - `UnitPrice` — Harga per barang\n",
    "   - `CustomerID` — ID pelanggan"
   ]
  },
  {
   "cell_type": "markdown",
   "metadata": {},
   "source": [
    "## Inisialisasi Library"
   ]
  },
  {
   "cell_type": "markdown",
   "metadata": {},
   "source": [
    "Import library"
   ]
  },
  {
   "cell_type": "code",
   "execution_count": 327,
   "metadata": {},
   "outputs": [],
   "source": [
    "import pandas as pd\n",
    "import math\n",
    "import numpy as np\n",
    "import seaborn as sns\n",
    "import matplotlib.pyplot as plt\n",
    "from datetime import timedelta\n",
    "from scipy import stats as st"
   ]
  },
  {
   "cell_type": "markdown",
   "metadata": {},
   "source": [
    "Memuat dataset"
   ]
  },
  {
   "cell_type": "code",
   "execution_count": 328,
   "metadata": {
    "scrolled": true
   },
   "outputs": [],
   "source": [
    "try:\n",
    "    df = pd.read_csv('ecommerce_dataset_us.csv', sep='\\t')\n",
    "except:\n",
    "    df = pd.read_csv('/datasets/ecommerce_dataset_us.csv', sep='\\t')"
   ]
  },
  {
   "cell_type": "markdown",
   "metadata": {},
   "source": [
    "<a id='pra'></a>"
   ]
  },
  {
   "cell_type": "markdown",
   "metadata": {},
   "source": [
    "## Mengenal dan Memperbaiki Data"
   ]
  },
  {
   "cell_type": "markdown",
   "metadata": {},
   "source": [
    "Melihat informasi dataset, dimana memiliki total 541909 baris data dan 7 kolom."
   ]
  },
  {
   "cell_type": "code",
   "execution_count": 329,
   "metadata": {},
   "outputs": [
    {
     "name": "stdout",
     "output_type": "stream",
     "text": [
      "<class 'pandas.core.frame.DataFrame'>\n",
      "RangeIndex: 541909 entries, 0 to 541908\n",
      "Data columns (total 7 columns):\n",
      " #   Column       Non-Null Count   Dtype  \n",
      "---  ------       --------------   -----  \n",
      " 0   InvoiceNo    541909 non-null  object \n",
      " 1   StockCode    541909 non-null  object \n",
      " 2   Description  540455 non-null  object \n",
      " 3   Quantity     541909 non-null  int64  \n",
      " 4   InvoiceDate  541909 non-null  object \n",
      " 5   UnitPrice    541909 non-null  float64\n",
      " 6   CustomerID   406829 non-null  float64\n",
      "dtypes: float64(2), int64(1), object(4)\n",
      "memory usage: 28.9+ MB\n"
     ]
    }
   ],
   "source": [
    "df.info()"
   ]
  },
  {
   "cell_type": "code",
   "execution_count": 330,
   "metadata": {
    "scrolled": false
   },
   "outputs": [
    {
     "data": {
      "text/html": [
       "<div>\n",
       "<style scoped>\n",
       "    .dataframe tbody tr th:only-of-type {\n",
       "        vertical-align: middle;\n",
       "    }\n",
       "\n",
       "    .dataframe tbody tr th {\n",
       "        vertical-align: top;\n",
       "    }\n",
       "\n",
       "    .dataframe thead th {\n",
       "        text-align: right;\n",
       "    }\n",
       "</style>\n",
       "<table border=\"1\" class=\"dataframe\">\n",
       "  <thead>\n",
       "    <tr style=\"text-align: right;\">\n",
       "      <th></th>\n",
       "      <th>InvoiceNo</th>\n",
       "      <th>StockCode</th>\n",
       "      <th>Description</th>\n",
       "      <th>Quantity</th>\n",
       "      <th>InvoiceDate</th>\n",
       "      <th>UnitPrice</th>\n",
       "      <th>CustomerID</th>\n",
       "    </tr>\n",
       "  </thead>\n",
       "  <tbody>\n",
       "    <tr>\n",
       "      <th>0</th>\n",
       "      <td>536365</td>\n",
       "      <td>85123A</td>\n",
       "      <td>WHITE HANGING HEART T-LIGHT HOLDER</td>\n",
       "      <td>6</td>\n",
       "      <td>11/29/2018 08:26</td>\n",
       "      <td>2.55</td>\n",
       "      <td>17850.0</td>\n",
       "    </tr>\n",
       "    <tr>\n",
       "      <th>1</th>\n",
       "      <td>536365</td>\n",
       "      <td>71053</td>\n",
       "      <td>WHITE METAL LANTERN</td>\n",
       "      <td>6</td>\n",
       "      <td>11/29/2018 08:26</td>\n",
       "      <td>3.39</td>\n",
       "      <td>17850.0</td>\n",
       "    </tr>\n",
       "    <tr>\n",
       "      <th>2</th>\n",
       "      <td>536365</td>\n",
       "      <td>84406B</td>\n",
       "      <td>CREAM CUPID HEARTS COAT HANGER</td>\n",
       "      <td>8</td>\n",
       "      <td>11/29/2018 08:26</td>\n",
       "      <td>2.75</td>\n",
       "      <td>17850.0</td>\n",
       "    </tr>\n",
       "    <tr>\n",
       "      <th>3</th>\n",
       "      <td>536365</td>\n",
       "      <td>84029G</td>\n",
       "      <td>KNITTED UNION FLAG HOT WATER BOTTLE</td>\n",
       "      <td>6</td>\n",
       "      <td>11/29/2018 08:26</td>\n",
       "      <td>3.39</td>\n",
       "      <td>17850.0</td>\n",
       "    </tr>\n",
       "    <tr>\n",
       "      <th>4</th>\n",
       "      <td>536365</td>\n",
       "      <td>84029E</td>\n",
       "      <td>RED WOOLLY HOTTIE WHITE HEART.</td>\n",
       "      <td>6</td>\n",
       "      <td>11/29/2018 08:26</td>\n",
       "      <td>3.39</td>\n",
       "      <td>17850.0</td>\n",
       "    </tr>\n",
       "    <tr>\n",
       "      <th>5</th>\n",
       "      <td>536365</td>\n",
       "      <td>22752</td>\n",
       "      <td>SET 7 BABUSHKA NESTING BOXES</td>\n",
       "      <td>2</td>\n",
       "      <td>11/29/2018 08:26</td>\n",
       "      <td>7.65</td>\n",
       "      <td>17850.0</td>\n",
       "    </tr>\n",
       "    <tr>\n",
       "      <th>6</th>\n",
       "      <td>536365</td>\n",
       "      <td>21730</td>\n",
       "      <td>GLASS STAR FROSTED T-LIGHT HOLDER</td>\n",
       "      <td>6</td>\n",
       "      <td>11/29/2018 08:26</td>\n",
       "      <td>4.25</td>\n",
       "      <td>17850.0</td>\n",
       "    </tr>\n",
       "    <tr>\n",
       "      <th>7</th>\n",
       "      <td>536366</td>\n",
       "      <td>22633</td>\n",
       "      <td>HAND WARMER UNION JACK</td>\n",
       "      <td>6</td>\n",
       "      <td>11/29/2018 08:28</td>\n",
       "      <td>1.85</td>\n",
       "      <td>17850.0</td>\n",
       "    </tr>\n",
       "    <tr>\n",
       "      <th>8</th>\n",
       "      <td>536366</td>\n",
       "      <td>22632</td>\n",
       "      <td>HAND WARMER RED POLKA DOT</td>\n",
       "      <td>6</td>\n",
       "      <td>11/29/2018 08:28</td>\n",
       "      <td>1.85</td>\n",
       "      <td>17850.0</td>\n",
       "    </tr>\n",
       "    <tr>\n",
       "      <th>9</th>\n",
       "      <td>536367</td>\n",
       "      <td>84879</td>\n",
       "      <td>ASSORTED COLOUR BIRD ORNAMENT</td>\n",
       "      <td>32</td>\n",
       "      <td>11/29/2018 08:34</td>\n",
       "      <td>1.69</td>\n",
       "      <td>13047.0</td>\n",
       "    </tr>\n",
       "  </tbody>\n",
       "</table>\n",
       "</div>"
      ],
      "text/plain": [
       "  InvoiceNo StockCode                          Description  Quantity  \\\n",
       "0    536365    85123A   WHITE HANGING HEART T-LIGHT HOLDER         6   \n",
       "1    536365     71053                  WHITE METAL LANTERN         6   \n",
       "2    536365    84406B       CREAM CUPID HEARTS COAT HANGER         8   \n",
       "3    536365    84029G  KNITTED UNION FLAG HOT WATER BOTTLE         6   \n",
       "4    536365    84029E       RED WOOLLY HOTTIE WHITE HEART.         6   \n",
       "5    536365     22752         SET 7 BABUSHKA NESTING BOXES         2   \n",
       "6    536365     21730    GLASS STAR FROSTED T-LIGHT HOLDER         6   \n",
       "7    536366     22633               HAND WARMER UNION JACK         6   \n",
       "8    536366     22632            HAND WARMER RED POLKA DOT         6   \n",
       "9    536367     84879        ASSORTED COLOUR BIRD ORNAMENT        32   \n",
       "\n",
       "        InvoiceDate  UnitPrice  CustomerID  \n",
       "0  11/29/2018 08:26       2.55     17850.0  \n",
       "1  11/29/2018 08:26       3.39     17850.0  \n",
       "2  11/29/2018 08:26       2.75     17850.0  \n",
       "3  11/29/2018 08:26       3.39     17850.0  \n",
       "4  11/29/2018 08:26       3.39     17850.0  \n",
       "5  11/29/2018 08:26       7.65     17850.0  \n",
       "6  11/29/2018 08:26       4.25     17850.0  \n",
       "7  11/29/2018 08:28       1.85     17850.0  \n",
       "8  11/29/2018 08:28       1.85     17850.0  \n",
       "9  11/29/2018 08:34       1.69     13047.0  "
      ]
     },
     "execution_count": 330,
     "metadata": {},
     "output_type": "execute_result"
    }
   ],
   "source": [
    "df.head(10)"
   ]
  },
  {
   "cell_type": "markdown",
   "metadata": {},
   "source": [
    "Pada dataset terlihat ada nilai minus. Nilai kolom Kuantitas dan Harga Satuan harus Positif. Kita hilangkan nilai tersebut juga catatan dengan nilai negatif untuk Kuantitas dan Harga Satuan"
   ]
  },
  {
   "cell_type": "code",
   "execution_count": 331,
   "metadata": {},
   "outputs": [
    {
     "data": {
      "text/html": [
       "<div>\n",
       "<style scoped>\n",
       "    .dataframe tbody tr th:only-of-type {\n",
       "        vertical-align: middle;\n",
       "    }\n",
       "\n",
       "    .dataframe tbody tr th {\n",
       "        vertical-align: top;\n",
       "    }\n",
       "\n",
       "    .dataframe thead th {\n",
       "        text-align: right;\n",
       "    }\n",
       "</style>\n",
       "<table border=\"1\" class=\"dataframe\">\n",
       "  <thead>\n",
       "    <tr style=\"text-align: right;\">\n",
       "      <th></th>\n",
       "      <th>Quantity</th>\n",
       "      <th>UnitPrice</th>\n",
       "      <th>CustomerID</th>\n",
       "    </tr>\n",
       "  </thead>\n",
       "  <tbody>\n",
       "    <tr>\n",
       "      <th>count</th>\n",
       "      <td>541909.000000</td>\n",
       "      <td>541909.000000</td>\n",
       "      <td>406829.000000</td>\n",
       "    </tr>\n",
       "    <tr>\n",
       "      <th>mean</th>\n",
       "      <td>9.552250</td>\n",
       "      <td>4.611114</td>\n",
       "      <td>15287.690570</td>\n",
       "    </tr>\n",
       "    <tr>\n",
       "      <th>std</th>\n",
       "      <td>218.081158</td>\n",
       "      <td>96.759853</td>\n",
       "      <td>1713.600303</td>\n",
       "    </tr>\n",
       "    <tr>\n",
       "      <th>min</th>\n",
       "      <td>-80995.000000</td>\n",
       "      <td>-11062.060000</td>\n",
       "      <td>12346.000000</td>\n",
       "    </tr>\n",
       "    <tr>\n",
       "      <th>25%</th>\n",
       "      <td>1.000000</td>\n",
       "      <td>1.250000</td>\n",
       "      <td>13953.000000</td>\n",
       "    </tr>\n",
       "    <tr>\n",
       "      <th>50%</th>\n",
       "      <td>3.000000</td>\n",
       "      <td>2.080000</td>\n",
       "      <td>15152.000000</td>\n",
       "    </tr>\n",
       "    <tr>\n",
       "      <th>75%</th>\n",
       "      <td>10.000000</td>\n",
       "      <td>4.130000</td>\n",
       "      <td>16791.000000</td>\n",
       "    </tr>\n",
       "    <tr>\n",
       "      <th>max</th>\n",
       "      <td>80995.000000</td>\n",
       "      <td>38970.000000</td>\n",
       "      <td>18287.000000</td>\n",
       "    </tr>\n",
       "  </tbody>\n",
       "</table>\n",
       "</div>"
      ],
      "text/plain": [
       "            Quantity      UnitPrice     CustomerID\n",
       "count  541909.000000  541909.000000  406829.000000\n",
       "mean        9.552250       4.611114   15287.690570\n",
       "std       218.081158      96.759853    1713.600303\n",
       "min    -80995.000000  -11062.060000   12346.000000\n",
       "25%         1.000000       1.250000   13953.000000\n",
       "50%         3.000000       2.080000   15152.000000\n",
       "75%        10.000000       4.130000   16791.000000\n",
       "max     80995.000000   38970.000000   18287.000000"
      ]
     },
     "execution_count": 331,
     "metadata": {},
     "output_type": "execute_result"
    }
   ],
   "source": [
    "df.describe()"
   ]
  },
  {
   "cell_type": "code",
   "execution_count": 332,
   "metadata": {},
   "outputs": [],
   "source": [
    "df = df[(df['Quantity'] > 0) & (df['UnitPrice'] > 0)]"
   ]
  },
  {
   "cell_type": "markdown",
   "metadata": {},
   "source": [
    "Sekarang dataset sudah tidak memiliki nilai minus"
   ]
  },
  {
   "cell_type": "markdown",
   "metadata": {},
   "source": [
    "Data duplikat terhitung memiliki 5268 nilai dan untuk nilai missing pada kolom CustomerID terdapat 25% data missing lalu kolom Description sejumlah 1454 data."
   ]
  },
  {
   "cell_type": "code",
   "execution_count": 333,
   "metadata": {},
   "outputs": [
    {
     "data": {
      "text/plain": [
       "5226"
      ]
     },
     "execution_count": 333,
     "metadata": {},
     "output_type": "execute_result"
    }
   ],
   "source": [
    "df.duplicated().sum()"
   ]
  },
  {
   "cell_type": "code",
   "execution_count": 334,
   "metadata": {},
   "outputs": [
    {
     "data": {
      "text/html": [
       "<div>\n",
       "<style scoped>\n",
       "    .dataframe tbody tr th:only-of-type {\n",
       "        vertical-align: middle;\n",
       "    }\n",
       "\n",
       "    .dataframe tbody tr th {\n",
       "        vertical-align: top;\n",
       "    }\n",
       "\n",
       "    .dataframe thead th {\n",
       "        text-align: right;\n",
       "    }\n",
       "</style>\n",
       "<table border=\"1\" class=\"dataframe\">\n",
       "  <thead>\n",
       "    <tr style=\"text-align: right;\">\n",
       "      <th></th>\n",
       "      <th>missing_values</th>\n",
       "      <th>% of total</th>\n",
       "    </tr>\n",
       "  </thead>\n",
       "  <tbody>\n",
       "    <tr>\n",
       "      <th>CustomerID</th>\n",
       "      <td>132220</td>\n",
       "      <td>0.25</td>\n",
       "    </tr>\n",
       "    <tr>\n",
       "      <th>InvoiceNo</th>\n",
       "      <td>0</td>\n",
       "      <td>0.00</td>\n",
       "    </tr>\n",
       "    <tr>\n",
       "      <th>StockCode</th>\n",
       "      <td>0</td>\n",
       "      <td>0.00</td>\n",
       "    </tr>\n",
       "    <tr>\n",
       "      <th>Description</th>\n",
       "      <td>0</td>\n",
       "      <td>0.00</td>\n",
       "    </tr>\n",
       "    <tr>\n",
       "      <th>Quantity</th>\n",
       "      <td>0</td>\n",
       "      <td>0.00</td>\n",
       "    </tr>\n",
       "    <tr>\n",
       "      <th>InvoiceDate</th>\n",
       "      <td>0</td>\n",
       "      <td>0.00</td>\n",
       "    </tr>\n",
       "    <tr>\n",
       "      <th>UnitPrice</th>\n",
       "      <td>0</td>\n",
       "      <td>0.00</td>\n",
       "    </tr>\n",
       "  </tbody>\n",
       "</table>\n",
       "</div>"
      ],
      "text/plain": [
       "             missing_values  % of total\n",
       "CustomerID           132220        0.25\n",
       "InvoiceNo                 0        0.00\n",
       "StockCode                 0        0.00\n",
       "Description               0        0.00\n",
       "Quantity                  0        0.00\n",
       "InvoiceDate               0        0.00\n",
       "UnitPrice                 0        0.00"
      ]
     },
     "execution_count": 334,
     "metadata": {},
     "output_type": "execute_result"
    }
   ],
   "source": [
    "report_null = df.isnull().sum().to_frame()\n",
    "report_null = report_null.rename(columns={0:'missing_values'})\n",
    "report_null['% of total'] = (report_null['missing_values'] / df.shape[0]).round(2)\n",
    "report_null.sort_values(by='missing_values', ascending=False)"
   ]
  },
  {
   "cell_type": "code",
   "execution_count": 335,
   "metadata": {},
   "outputs": [],
   "source": [
    "df = df.drop_duplicates()"
   ]
  },
  {
   "cell_type": "code",
   "execution_count": 336,
   "metadata": {},
   "outputs": [],
   "source": [
    "df = df.dropna(subset=['Description', 'CustomerID'])"
   ]
  },
  {
   "cell_type": "markdown",
   "metadata": {},
   "source": [
    "Kita eliminasi data duplikat serta untuk nilai missing juga kita eliminasi walaupun terdapat 25% nilai missing dikarenakan tidak dapat digunakan untuk menganalisis profil pelanggan tersebut."
   ]
  },
  {
   "cell_type": "code",
   "execution_count": 337,
   "metadata": {},
   "outputs": [],
   "source": [
    "df['InvoiceDate'] = pd.to_datetime(df['InvoiceDate'])"
   ]
  },
  {
   "cell_type": "code",
   "execution_count": 338,
   "metadata": {},
   "outputs": [],
   "source": [
    "df['CustomerID'] = df['CustomerID'].astype('int')"
   ]
  },
  {
   "cell_type": "markdown",
   "metadata": {},
   "source": [
    "Merubah tipe data InvoiceDate ke datetime dan CustomerID ke integer"
   ]
  },
  {
   "cell_type": "code",
   "execution_count": 339,
   "metadata": {},
   "outputs": [],
   "source": [
    "df['total'] = df['Quantity'] * df['UnitPrice']"
   ]
  },
  {
   "cell_type": "markdown",
   "metadata": {},
   "source": [
    "Kita tambahkan kolom baru untuk menghitung jumlah pembelian total tiap kuantitas barang"
   ]
  },
  {
   "cell_type": "code",
   "execution_count": 340,
   "metadata": {},
   "outputs": [],
   "source": [
    "df.columns = ['invoice', 'stock_code', 'description', 'quantity', 'invoice_date', 'unit_price', 'customer_id', 'total']"
   ]
  },
  {
   "cell_type": "markdown",
   "metadata": {},
   "source": [
    "Kita modifikasi sedikit nama kolom guna efisiensi pengerjaan\n",
    "<a id='learn'></a>"
   ]
  },
  {
   "cell_type": "markdown",
   "metadata": {},
   "source": [
    "## Mempelajari Parameter Data"
   ]
  },
  {
   "cell_type": "markdown",
   "metadata": {},
   "source": [
    "Menambahkan kolom baru untuk parameter tanggal bulan dan hari"
   ]
  },
  {
   "cell_type": "code",
   "execution_count": 341,
   "metadata": {},
   "outputs": [],
   "source": [
    "df['invoice_month'] = df['invoice_date'].dt.month\n",
    "df['invoice_day'] = df['invoice_date'].dt.date"
   ]
  },
  {
   "cell_type": "code",
   "execution_count": 342,
   "metadata": {
    "scrolled": false
   },
   "outputs": [
    {
     "data": {
      "image/png": "[encoded data removed]",
      "text/plain": [
       "<Figure size 576x432 with 1 Axes>"
      ]
     },
     "metadata": {
      "needs_background": "light"
     },
     "output_type": "display_data"
    }
   ],
   "source": [
    "plt.figure(figsize=(8, 6))\n",
    "plt.title('Jumlah Pembelian per Bulan')\n",
    "sns.histplot(df['invoice_month'])\n",
    "plt.show()"
   ]
  },
  {
   "cell_type": "markdown",
   "metadata": {},
   "source": [
    "Total transaksi selama satu tahun dalam bulan:\n",
    "- Terlihat pada bulan ke-11 memiliki jumlah transaksi terbanyak hampir mendekati nilai 70000.\n",
    "- Diagram menunjukkan hasil yang naik turun walaupun cenderung terus meningkat setiap bulannya."
   ]
  },
  {
   "cell_type": "code",
   "execution_count": 343,
   "metadata": {
    "scrolled": false
   },
   "outputs": [
    {
     "data": {
      "image/png": "[encoded data removed]",
      "text/plain": [
       "<Figure size 864x432 with 1 Axes>"
      ]
     },
     "metadata": {
      "needs_background": "light"
     },
     "output_type": "display_data"
    }
   ],
   "source": [
    "days_sales = (\n",
    "    df.groupby(['invoice_day'])\n",
    "    .agg({'invoice': 'nunique'})\n",
    "    .reset_index()\n",
    ")\n",
    "days_sales.plot(x='invoice_day', y='invoice', style='-', title='Jumlah Pembelian per Bulan', grid=True, figsize=(12, 6))\n",
    "plt.show()"
   ]
  },
  {
   "cell_type": "markdown",
   "metadata": {},
   "source": [
    "Total transaksi selama satu tahun dalam hari:\n",
    "- Pada bulan ke-10 terlihat lebih banyak yang melakukan transaksi dengan nilai 175 lebih pelanggan berbeda.\n",
    "- Pada awal tahun 2018 - 2019 bulan ke-1 terdapat lompatan yang cukup jauh, apakah di waktu tersebut tidak terjadinya transaksi oleh pelanggan? "
   ]
  },
  {
   "cell_type": "markdown",
   "metadata": {},
   "source": [
    "Mencari tahu item apa yang paling banyak dibeli oleh seluruh pelanggan"
   ]
  },
  {
   "cell_type": "code",
   "execution_count": 344,
   "metadata": {},
   "outputs": [
    {
     "data": {
      "text/html": [
       "<div>\n",
       "<style scoped>\n",
       "    .dataframe tbody tr th:only-of-type {\n",
       "        vertical-align: middle;\n",
       "    }\n",
       "\n",
       "    .dataframe tbody tr th {\n",
       "        vertical-align: top;\n",
       "    }\n",
       "\n",
       "    .dataframe thead th {\n",
       "        text-align: right;\n",
       "    }\n",
       "</style>\n",
       "<table border=\"1\" class=\"dataframe\">\n",
       "  <thead>\n",
       "    <tr style=\"text-align: right;\">\n",
       "      <th></th>\n",
       "      <th>description</th>\n",
       "      <th>customer_id</th>\n",
       "    </tr>\n",
       "  </thead>\n",
       "  <tbody>\n",
       "    <tr>\n",
       "      <th>0</th>\n",
       "      <td>REGENCY CAKESTAND 3 TIER</td>\n",
       "      <td>881</td>\n",
       "    </tr>\n",
       "    <tr>\n",
       "      <th>1</th>\n",
       "      <td>WHITE HANGING HEART T-LIGHT HOLDER</td>\n",
       "      <td>856</td>\n",
       "    </tr>\n",
       "    <tr>\n",
       "      <th>2</th>\n",
       "      <td>PARTY BUNTING</td>\n",
       "      <td>708</td>\n",
       "    </tr>\n",
       "    <tr>\n",
       "      <th>3</th>\n",
       "      <td>ASSORTED COLOUR BIRD ORNAMENT</td>\n",
       "      <td>678</td>\n",
       "    </tr>\n",
       "    <tr>\n",
       "      <th>4</th>\n",
       "      <td>SET OF 3 CAKE TINS PANTRY DESIGN</td>\n",
       "      <td>640</td>\n",
       "    </tr>\n",
       "    <tr>\n",
       "      <th>5</th>\n",
       "      <td>PACK OF 72 RETROSPOT CAKE CASES</td>\n",
       "      <td>635</td>\n",
       "    </tr>\n",
       "    <tr>\n",
       "      <th>6</th>\n",
       "      <td>JUMBO BAG RED RETROSPOT</td>\n",
       "      <td>635</td>\n",
       "    </tr>\n",
       "    <tr>\n",
       "      <th>7</th>\n",
       "      <td>PAPER CHAIN KIT 50'S CHRISTMAS</td>\n",
       "      <td>613</td>\n",
       "    </tr>\n",
       "    <tr>\n",
       "      <th>8</th>\n",
       "      <td>NATURAL SLATE HEART CHALKBOARD</td>\n",
       "      <td>587</td>\n",
       "    </tr>\n",
       "    <tr>\n",
       "      <th>9</th>\n",
       "      <td>BAKING SET 9 PIECE RETROSPOT</td>\n",
       "      <td>581</td>\n",
       "    </tr>\n",
       "  </tbody>\n",
       "</table>\n",
       "</div>"
      ],
      "text/plain": [
       "                          description  customer_id\n",
       "0            REGENCY CAKESTAND 3 TIER          881\n",
       "1  WHITE HANGING HEART T-LIGHT HOLDER          856\n",
       "2                       PARTY BUNTING          708\n",
       "3       ASSORTED COLOUR BIRD ORNAMENT          678\n",
       "4   SET OF 3 CAKE TINS PANTRY DESIGN           640\n",
       "5     PACK OF 72 RETROSPOT CAKE CASES          635\n",
       "6             JUMBO BAG RED RETROSPOT          635\n",
       "7     PAPER CHAIN KIT 50'S CHRISTMAS           613\n",
       "8     NATURAL SLATE HEART CHALKBOARD           587\n",
       "9       BAKING SET 9 PIECE RETROSPOT           581"
      ]
     },
     "execution_count": 344,
     "metadata": {},
     "output_type": "execute_result"
    }
   ],
   "source": [
    "cus_description = df.groupby('description')['customer_id'].nunique().sort_values(ascending=False)\n",
    "cus_description = cus_description[:10].reset_index()\n",
    "cus_description"
   ]
  },
  {
   "cell_type": "code",
   "execution_count": 345,
   "metadata": {
    "scrolled": false
   },
   "outputs": [
    {
     "data": {
      "image/png": "[encoded data removed]",
      "text/plain": [
       "<Figure size 576x360 with 1 Axes>"
      ]
     },
     "metadata": {
      "needs_background": "light"
     },
     "output_type": "display_data"
    }
   ],
   "source": [
    "plt.figure(figsize=(8, 5))\n",
    "plt.title('TOP 10 Pembelian Item')\n",
    "sns.barplot(data=cus_description, y='description', x='customer_id')\n",
    "plt.show()"
   ]
  },
  {
   "cell_type": "markdown",
   "metadata": {},
   "source": [
    "10 Item yang terjual paling banyak:\n",
    "- REGENCY CAKESTAND 3 TIER\tdan WHITE HANGING HEART T-LIGHT HOLDER merupakan item paling laris dari 800 pelanggan lebih yang membelinya.\n",
    "- Pada urutan ke-10 ada BAKING SET 9 PIECE RETROSPOT dengan 500 pelanggan lebih.\n",
    "- Item-item tersebut merupakan penjualan selama 1 tahun, apakah pada setiap bulannya akan berbeda jumlah dan jenis itemnya?\n",
    "<a id='rfm'></a>"
   ]
  },
  {
   "cell_type": "markdown",
   "metadata": {},
   "source": [
    "## Merumuskan RFM"
   ]
  },
  {
   "cell_type": "markdown",
   "metadata": {},
   "source": [
    "### Recency"
   ]
  },
  {
   "cell_type": "markdown",
   "metadata": {},
   "source": [
    "Melihat tanggal invoice akhir untuk mencari tahu tanggal referensinya guna merumuskan recency pelanggan"
   ]
  },
  {
   "cell_type": "code",
   "execution_count": 346,
   "metadata": {
    "scrolled": true
   },
   "outputs": [
    {
     "data": {
      "text/plain": [
       "'2019-12-07 12:50:00'"
      ]
     },
     "execution_count": 346,
     "metadata": {},
     "output_type": "execute_result"
    }
   ],
   "source": [
    "str(df['invoice_date'].max())"
   ]
  },
  {
   "cell_type": "code",
   "execution_count": 347,
   "metadata": {},
   "outputs": [],
   "source": [
    "reference_date = df['invoice_date'].max() + timedelta(days=1)"
   ]
  },
  {
   "cell_type": "code",
   "execution_count": 348,
   "metadata": {
    "scrolled": false
   },
   "outputs": [
    {
     "data": {
      "text/html": [
       "<div>\n",
       "<style scoped>\n",
       "    .dataframe tbody tr th:only-of-type {\n",
       "        vertical-align: middle;\n",
       "    }\n",
       "\n",
       "    .dataframe tbody tr th {\n",
       "        vertical-align: top;\n",
       "    }\n",
       "\n",
       "    .dataframe thead th {\n",
       "        text-align: right;\n",
       "    }\n",
       "</style>\n",
       "<table border=\"1\" class=\"dataframe\">\n",
       "  <thead>\n",
       "    <tr style=\"text-align: right;\">\n",
       "      <th></th>\n",
       "      <th>customer_id</th>\n",
       "      <th>max_date</th>\n",
       "    </tr>\n",
       "  </thead>\n",
       "  <tbody>\n",
       "    <tr>\n",
       "      <th>0</th>\n",
       "      <td>12346</td>\n",
       "      <td>2019-01-16 10:01:00</td>\n",
       "    </tr>\n",
       "    <tr>\n",
       "      <th>1</th>\n",
       "      <td>12347</td>\n",
       "      <td>2019-12-05 15:52:00</td>\n",
       "    </tr>\n",
       "    <tr>\n",
       "      <th>2</th>\n",
       "      <td>12348</td>\n",
       "      <td>2019-09-23 13:13:00</td>\n",
       "    </tr>\n",
       "    <tr>\n",
       "      <th>3</th>\n",
       "      <td>12349</td>\n",
       "      <td>2019-11-19 09:51:00</td>\n",
       "    </tr>\n",
       "    <tr>\n",
       "      <th>4</th>\n",
       "      <td>12350</td>\n",
       "      <td>2019-01-31 16:01:00</td>\n",
       "    </tr>\n",
       "  </tbody>\n",
       "</table>\n",
       "</div>"
      ],
      "text/plain": [
       "   customer_id            max_date\n",
       "0        12346 2019-01-16 10:01:00\n",
       "1        12347 2019-12-05 15:52:00\n",
       "2        12348 2019-09-23 13:13:00\n",
       "3        12349 2019-11-19 09:51:00\n",
       "4        12350 2019-01-31 16:01:00"
      ]
     },
     "execution_count": 348,
     "metadata": {},
     "output_type": "execute_result"
    }
   ],
   "source": [
    "df_recency = df.groupby(by='customer_id', as_index=False)['invoice_date'].max()\n",
    "df_recency.columns = ['customer_id','max_date']\n",
    "df_recency.head()"
   ]
  },
  {
   "cell_type": "markdown",
   "metadata": {},
   "source": [
    "Sekarang kita akan menghitung nilai recencynya"
   ]
  },
  {
   "cell_type": "code",
   "execution_count": 349,
   "metadata": {},
   "outputs": [
    {
     "data": {
      "text/html": [
       "<div>\n",
       "<style scoped>\n",
       "    .dataframe tbody tr th:only-of-type {\n",
       "        vertical-align: middle;\n",
       "    }\n",
       "\n",
       "    .dataframe tbody tr th {\n",
       "        vertical-align: top;\n",
       "    }\n",
       "\n",
       "    .dataframe thead th {\n",
       "        text-align: right;\n",
       "    }\n",
       "</style>\n",
       "<table border=\"1\" class=\"dataframe\">\n",
       "  <thead>\n",
       "    <tr style=\"text-align: right;\">\n",
       "      <th></th>\n",
       "      <th>customer_id</th>\n",
       "      <th>Recency</th>\n",
       "    </tr>\n",
       "  </thead>\n",
       "  <tbody>\n",
       "    <tr>\n",
       "      <th>0</th>\n",
       "      <td>12346</td>\n",
       "      <td>326</td>\n",
       "    </tr>\n",
       "    <tr>\n",
       "      <th>1</th>\n",
       "      <td>12347</td>\n",
       "      <td>2</td>\n",
       "    </tr>\n",
       "    <tr>\n",
       "      <th>2</th>\n",
       "      <td>12348</td>\n",
       "      <td>75</td>\n",
       "    </tr>\n",
       "    <tr>\n",
       "      <th>3</th>\n",
       "      <td>12349</td>\n",
       "      <td>19</td>\n",
       "    </tr>\n",
       "    <tr>\n",
       "      <th>4</th>\n",
       "      <td>12350</td>\n",
       "      <td>310</td>\n",
       "    </tr>\n",
       "  </tbody>\n",
       "</table>\n",
       "</div>"
      ],
      "text/plain": [
       "   customer_id  Recency\n",
       "0        12346      326\n",
       "1        12347        2\n",
       "2        12348       75\n",
       "3        12349       19\n",
       "4        12350      310"
      ]
     },
     "execution_count": 349,
     "metadata": {},
     "output_type": "execute_result"
    }
   ],
   "source": [
    "df_recency['Recency'] = df_recency['max_date'].apply(lambda row: (reference_date - row).days)\n",
    "df_recency.drop('max_date', inplace=True, axis=1)\n",
    "df_recency[['customer_id', 'Recency']].head()"
   ]
  },
  {
   "cell_type": "code",
   "execution_count": 350,
   "metadata": {
    "scrolled": true
   },
   "outputs": [
    {
     "data": {
      "image/png": "[encoded data removed]",
      "text/plain": [
       "<Figure size 576x360 with 1 Axes>"
      ]
     },
     "metadata": {
      "needs_background": "light"
     },
     "output_type": "display_data"
    }
   ],
   "source": [
    "plt.figure(figsize=(8, 5))\n",
    "plt.title('Recency Pelanggan')\n",
    "sns.histplot(df_recency.Recency, bins=10)\n",
    "plt.show()"
   ]
  },
  {
   "cell_type": "markdown",
   "metadata": {},
   "source": [
    "Recency Pelanggan:\n",
    "- Pelanggan dengan pembelian terakhir terjadi pada satu hingga dua bulan lampau terbanyak.\n",
    "- Pelanggan dengan pembelian terakhir mendekati satu tahun juga cukup banyak pada grafik."
   ]
  },
  {
   "cell_type": "markdown",
   "metadata": {},
   "source": [
    "### Frequency"
   ]
  },
  {
   "cell_type": "markdown",
   "metadata": {},
   "source": [
    "Sekarang kita akan menghitung nilai frequencynya"
   ]
  },
  {
   "cell_type": "code",
   "execution_count": 351,
   "metadata": {},
   "outputs": [
    {
     "data": {
      "text/html": [
       "<div>\n",
       "<style scoped>\n",
       "    .dataframe tbody tr th:only-of-type {\n",
       "        vertical-align: middle;\n",
       "    }\n",
       "\n",
       "    .dataframe tbody tr th {\n",
       "        vertical-align: top;\n",
       "    }\n",
       "\n",
       "    .dataframe thead th {\n",
       "        text-align: right;\n",
       "    }\n",
       "</style>\n",
       "<table border=\"1\" class=\"dataframe\">\n",
       "  <thead>\n",
       "    <tr style=\"text-align: right;\">\n",
       "      <th></th>\n",
       "      <th>customer_id</th>\n",
       "      <th>Frequency</th>\n",
       "    </tr>\n",
       "  </thead>\n",
       "  <tbody>\n",
       "    <tr>\n",
       "      <th>0</th>\n",
       "      <td>12346</td>\n",
       "      <td>1</td>\n",
       "    </tr>\n",
       "    <tr>\n",
       "      <th>1</th>\n",
       "      <td>12347</td>\n",
       "      <td>7</td>\n",
       "    </tr>\n",
       "    <tr>\n",
       "      <th>2</th>\n",
       "      <td>12348</td>\n",
       "      <td>4</td>\n",
       "    </tr>\n",
       "    <tr>\n",
       "      <th>3</th>\n",
       "      <td>12349</td>\n",
       "      <td>1</td>\n",
       "    </tr>\n",
       "    <tr>\n",
       "      <th>4</th>\n",
       "      <td>12350</td>\n",
       "      <td>1</td>\n",
       "    </tr>\n",
       "  </tbody>\n",
       "</table>\n",
       "</div>"
      ],
      "text/plain": [
       "   customer_id  Frequency\n",
       "0        12346          1\n",
       "1        12347          7\n",
       "2        12348          4\n",
       "3        12349          1\n",
       "4        12350          1"
      ]
     },
     "execution_count": 351,
     "metadata": {},
     "output_type": "execute_result"
    }
   ],
   "source": [
    "df_frequency = df.groupby(by='customer_id', as_index=False)['invoice'].nunique()\n",
    "df_frequency.columns = ['customer_id','Frequency']\n",
    "df_frequency.head()"
   ]
  },
  {
   "cell_type": "code",
   "execution_count": 352,
   "metadata": {
    "scrolled": false
   },
   "outputs": [
    {
     "data": {
      "image/png": "[encoded data removed]",
      "text/plain": [
       "<Figure size 576x360 with 1 Axes>"
      ]
     },
     "metadata": {
      "needs_background": "light"
     },
     "output_type": "display_data"
    }
   ],
   "source": [
    "plt.figure(figsize=(8, 5))\n",
    "plt.title('Frequency Pelanggan')\n",
    "sns.histplot(df_frequency.Frequency, bins=50)\n",
    "plt.show()"
   ]
  },
  {
   "cell_type": "markdown",
   "metadata": {},
   "source": [
    "Frequency Pelanggan:\n",
    "- Rata-rata pelanggan melakukan pembelian paling banyak 1-10 item.\n",
    "- Pelanggan dengan pembelian item 50 hingga yang paling banyak 200 unit juga masuk dalam grafik, mengindikasikan adanya nilai outlier untuk beberapa pelanggan."
   ]
  },
  {
   "cell_type": "markdown",
   "metadata": {},
   "source": [
    "### Monetary"
   ]
  },
  {
   "cell_type": "markdown",
   "metadata": {},
   "source": [
    "Sekarang kita akan menghitung nilai monetarynya"
   ]
  },
  {
   "cell_type": "code",
   "execution_count": 353,
   "metadata": {
    "scrolled": false
   },
   "outputs": [
    {
     "data": {
      "text/html": [
       "<div>\n",
       "<style scoped>\n",
       "    .dataframe tbody tr th:only-of-type {\n",
       "        vertical-align: middle;\n",
       "    }\n",
       "\n",
       "    .dataframe tbody tr th {\n",
       "        vertical-align: top;\n",
       "    }\n",
       "\n",
       "    .dataframe thead th {\n",
       "        text-align: right;\n",
       "    }\n",
       "</style>\n",
       "<table border=\"1\" class=\"dataframe\">\n",
       "  <thead>\n",
       "    <tr style=\"text-align: right;\">\n",
       "      <th></th>\n",
       "      <th>customer_id</th>\n",
       "      <th>Monetary</th>\n",
       "    </tr>\n",
       "  </thead>\n",
       "  <tbody>\n",
       "    <tr>\n",
       "      <th>0</th>\n",
       "      <td>12346</td>\n",
       "      <td>77183.60</td>\n",
       "    </tr>\n",
       "    <tr>\n",
       "      <th>1</th>\n",
       "      <td>12347</td>\n",
       "      <td>4310.00</td>\n",
       "    </tr>\n",
       "    <tr>\n",
       "      <th>2</th>\n",
       "      <td>12348</td>\n",
       "      <td>1797.24</td>\n",
       "    </tr>\n",
       "    <tr>\n",
       "      <th>3</th>\n",
       "      <td>12349</td>\n",
       "      <td>1757.55</td>\n",
       "    </tr>\n",
       "    <tr>\n",
       "      <th>4</th>\n",
       "      <td>12350</td>\n",
       "      <td>334.40</td>\n",
       "    </tr>\n",
       "  </tbody>\n",
       "</table>\n",
       "</div>"
      ],
      "text/plain": [
       "   customer_id  Monetary\n",
       "0        12346  77183.60\n",
       "1        12347   4310.00\n",
       "2        12348   1797.24\n",
       "3        12349   1757.55\n",
       "4        12350    334.40"
      ]
     },
     "execution_count": 353,
     "metadata": {},
     "output_type": "execute_result"
    }
   ],
   "source": [
    "df_monetary = df.groupby(by='customer_id', as_index=False)['total'].sum()\n",
    "df_monetary.columns = ['customer_id','Monetary']\n",
    "df_monetary.head()"
   ]
  },
  {
   "cell_type": "code",
   "execution_count": 354,
   "metadata": {
    "scrolled": true
   },
   "outputs": [
    {
     "data": {
      "image/png": "[encoded data removed]",
      "text/plain": [
       "<Figure size 576x360 with 1 Axes>"
      ]
     },
     "metadata": {
      "needs_background": "light"
     },
     "output_type": "display_data"
    }
   ],
   "source": [
    "plt.figure(figsize=(8, 5))\n",
    "plt.title('Monetary Pelanggan')\n",
    "sns.histplot(df_monetary.Monetary, bins=100)\n",
    "plt.show()"
   ]
  },
  {
   "cell_type": "markdown",
   "metadata": {},
   "source": [
    "Monetary Pelanggan:\n",
    "- Jumlah rata-rata pelanggan menggunakan uangnya untuk pembelian paling banyak tidak lebih dari 1000 dolar.\n",
    "- Nilai monetary paling tinggi terdapat pada 250000 dolar dalam grafik, mengindikasikan adanya nilai outlier untuk beberapa pelanggan."
   ]
  },
  {
   "cell_type": "markdown",
   "metadata": {},
   "source": [
    "### Recency Vs Frequency"
   ]
  },
  {
   "cell_type": "markdown",
   "metadata": {},
   "source": [
    "Kita akan melihat perbandingan nilai Recency terhadap nilai Frequency pelanggan"
   ]
  },
  {
   "cell_type": "code",
   "execution_count": 355,
   "metadata": {},
   "outputs": [
    {
     "data": {
      "text/html": [
       "<div>\n",
       "<style scoped>\n",
       "    .dataframe tbody tr th:only-of-type {\n",
       "        vertical-align: middle;\n",
       "    }\n",
       "\n",
       "    .dataframe tbody tr th {\n",
       "        vertical-align: top;\n",
       "    }\n",
       "\n",
       "    .dataframe thead th {\n",
       "        text-align: right;\n",
       "    }\n",
       "</style>\n",
       "<table border=\"1\" class=\"dataframe\">\n",
       "  <thead>\n",
       "    <tr style=\"text-align: right;\">\n",
       "      <th></th>\n",
       "      <th>customer_id</th>\n",
       "      <th>Recency</th>\n",
       "      <th>Frequency</th>\n",
       "      <th>Monetary</th>\n",
       "    </tr>\n",
       "  </thead>\n",
       "  <tbody>\n",
       "    <tr>\n",
       "      <th>0</th>\n",
       "      <td>12346</td>\n",
       "      <td>326</td>\n",
       "      <td>1</td>\n",
       "      <td>77183.60</td>\n",
       "    </tr>\n",
       "    <tr>\n",
       "      <th>1</th>\n",
       "      <td>12347</td>\n",
       "      <td>2</td>\n",
       "      <td>7</td>\n",
       "      <td>4310.00</td>\n",
       "    </tr>\n",
       "    <tr>\n",
       "      <th>2</th>\n",
       "      <td>12348</td>\n",
       "      <td>75</td>\n",
       "      <td>4</td>\n",
       "      <td>1797.24</td>\n",
       "    </tr>\n",
       "    <tr>\n",
       "      <th>3</th>\n",
       "      <td>12349</td>\n",
       "      <td>19</td>\n",
       "      <td>1</td>\n",
       "      <td>1757.55</td>\n",
       "    </tr>\n",
       "    <tr>\n",
       "      <th>4</th>\n",
       "      <td>12350</td>\n",
       "      <td>310</td>\n",
       "      <td>1</td>\n",
       "      <td>334.40</td>\n",
       "    </tr>\n",
       "  </tbody>\n",
       "</table>\n",
       "</div>"
      ],
      "text/plain": [
       "   customer_id  Recency  Frequency  Monetary\n",
       "0        12346      326          1  77183.60\n",
       "1        12347        2          7   4310.00\n",
       "2        12348       75          4   1797.24\n",
       "3        12349       19          1   1757.55\n",
       "4        12350      310          1    334.40"
      ]
     },
     "execution_count": 355,
     "metadata": {},
     "output_type": "execute_result"
    }
   ],
   "source": [
    "r_f = pd.merge(df_recency, df_frequency, on='customer_id')\n",
    "r_f_m = pd.merge(r_f, df_monetary, on='customer_id')\n",
    "r_f_m.head()"
   ]
  },
  {
   "cell_type": "code",
   "execution_count": 356,
   "metadata": {
    "scrolled": true
   },
   "outputs": [
    {
     "data": {
      "image/png": "[encoded data removed]",
      "text/plain": [
       "<Figure size 576x360 with 1 Axes>"
      ]
     },
     "metadata": {
      "needs_background": "light"
     },
     "output_type": "display_data"
    }
   ],
   "source": [
    "plt.figure(figsize=(8, 5))\n",
    "plt.scatter(r_f_m.groupby('customer_id')['Recency'].sum(), df.groupby('customer_id')['quantity'].sum(),\n",
    "            color = 'red',\n",
    "            marker = '*', alpha = 0.3)\n",
    "\n",
    "plt.title('Scatter Plot untuk Recency dan Frequency') \n",
    "plt.xlabel('Recency')\n",
    "plt.ylabel('Frequency')\n",
    "plt.show()"
   ]
  },
  {
   "cell_type": "markdown",
   "metadata": {},
   "source": [
    "Recency dan Frequency Pelanggan:\n",
    "- Kita dapat melihat pelanggan yang nilai Recencynya kurang dari sebulan memiliki Frekuensi yang tinggi, ini mengindikasikan  bahwa pelanggan membeli lebih banyak ketika nilai Recencynya kecil."
   ]
  },
  {
   "cell_type": "markdown",
   "metadata": {},
   "source": [
    "### Frequency Vs Monetary"
   ]
  },
  {
   "cell_type": "markdown",
   "metadata": {},
   "source": [
    "Selanjutnya kita akan melihat perbandingan nilai Frequency terhadap nilai Monetary pelanggan"
   ]
  },
  {
   "cell_type": "code",
   "execution_count": 357,
   "metadata": {
    "scrolled": true
   },
   "outputs": [
    {
     "data": {
      "image/png": "[encoded data removed]",
      "text/plain": [
       "<Figure size 576x360 with 1 Axes>"
      ]
     },
     "metadata": {
      "needs_background": "light"
     },
     "output_type": "display_data"
    }
   ],
   "source": [
    "market_data = df.groupby('customer_id')[['quantity', 'total']].sum()\n",
    "\n",
    "plt.figure(figsize=(8, 5))\n",
    "plt.scatter(market_data['total'], market_data['quantity'],\n",
    "            color = 'red',\n",
    "            marker = '*', alpha = 0.3)\n",
    "\n",
    "plt.title('Scatter Plot untuk Monetary dan Frequency')\n",
    "plt.xlabel('Monetary')\n",
    "plt.ylabel('Frequency')\n",
    "plt.show()"
   ]
  },
  {
   "cell_type": "markdown",
   "metadata": {},
   "source": [
    "Monetary dan Frequency Pelanggan:\n",
    "- Kita bisa melihat, pelanggan yang sering membeli menghabiskan uangnya lebih sedikit pula. Hal ini mengindikasikan pelanggan lebih sering membeli item yang harganya lebih murah."
   ]
  },
  {
   "cell_type": "markdown",
   "metadata": {},
   "source": [
    "### Recency Vs Frequency Vs Monetary"
   ]
  },
  {
   "cell_type": "markdown",
   "metadata": {},
   "source": [
    "Terakhir kita lihat nilai RFM secara persebaran datanya"
   ]
  },
  {
   "cell_type": "code",
   "execution_count": 358,
   "metadata": {
    "scrolled": false
   },
   "outputs": [
    {
     "data": {
      "image/png": "[encoded data removed]",
      "text/plain": [
       "<Figure size 576x360 with 1 Axes>"
      ]
     },
     "metadata": {
      "needs_background": "light"
     },
     "output_type": "display_data"
    }
   ],
   "source": [
    "Monetary = df.groupby('customer_id')['total'].sum()\n",
    "\n",
    "plt.figure(figsize=(8, 5))\n",
    "plt.scatter(r_f_m.groupby('customer_id')['Recency'].sum(), df.groupby('customer_id')['quantity'].sum(),\n",
    "            marker = '*', alpha = 0.3, c = Monetary)\n",
    "\n",
    "plt.title('Scatter Plot for Recency and Frequency')\n",
    "plt.xlabel('Recency')\n",
    "plt.ylabel('Frequency')\n",
    "plt.show()"
   ]
  },
  {
   "cell_type": "markdown",
   "metadata": {},
   "source": [
    "Recency, Monetary, dan Frequency Pelanggan:\n",
    "- Pada warna plot menentukan Moneter. Dari plot di atas dapat dikatakan bahwa pelanggan yang Recencynya lebih rendah memiliki Frekuensi yang tinggi tetapi Moneternya lebih sedikit.\n",
    "<a id='segment'></a>"
   ]
  },
  {
   "cell_type": "markdown",
   "metadata": {},
   "source": [
    "## Segmentasi Pengguna"
   ]
  },
  {
   "cell_type": "markdown",
   "metadata": {},
   "source": [
    "Setelah mencari nilai Recency, Frequency, dan Monetary dari pelanggan, sekarang bisa kita segmentasikan berdasarkan profil dari setiap pelanggan. Untuk membantu kita memperbaiki tepi bin, mari gunakan nilai kuantil kolom “Recency”, “Frequency”, dan “MonetaryValue” (Bala Priya C, 2023)."
   ]
  },
  {
   "cell_type": "markdown",
   "metadata": {},
   "source": [
    "Nilai Recency, Frequency, dan Monetary akan kita gunakan pada quantile dari data pada 33% untuk nilai minimum dan 66% untuk nilai menengah, dan lainnya untuk nilai maksimumnya."
   ]
  },
  {
   "cell_type": "code",
   "execution_count": 359,
   "metadata": {
    "scrolled": true
   },
   "outputs": [
    {
     "data": {
      "text/html": [
       "<div>\n",
       "<style scoped>\n",
       "    .dataframe tbody tr th:only-of-type {\n",
       "        vertical-align: middle;\n",
       "    }\n",
       "\n",
       "    .dataframe tbody tr th {\n",
       "        vertical-align: top;\n",
       "    }\n",
       "\n",
       "    .dataframe thead th {\n",
       "        text-align: right;\n",
       "    }\n",
       "</style>\n",
       "<table border=\"1\" class=\"dataframe\">\n",
       "  <thead>\n",
       "    <tr style=\"text-align: right;\">\n",
       "      <th></th>\n",
       "      <th>Recency</th>\n",
       "      <th>Frequency</th>\n",
       "      <th>Monetary</th>\n",
       "    </tr>\n",
       "  </thead>\n",
       "  <tbody>\n",
       "    <tr>\n",
       "      <th>0.33</th>\n",
       "      <td>25.0</td>\n",
       "      <td>1.0</td>\n",
       "      <td>384.1010</td>\n",
       "    </tr>\n",
       "    <tr>\n",
       "      <th>0.66</th>\n",
       "      <td>88.0</td>\n",
       "      <td>4.0</td>\n",
       "      <td>1154.4294</td>\n",
       "    </tr>\n",
       "    <tr>\n",
       "      <th>0.90</th>\n",
       "      <td>263.0</td>\n",
       "      <td>9.0</td>\n",
       "      <td>3640.8410</td>\n",
       "    </tr>\n",
       "  </tbody>\n",
       "</table>\n",
       "</div>"
      ],
      "text/plain": [
       "      Recency  Frequency   Monetary\n",
       "0.33     25.0        1.0   384.1010\n",
       "0.66     88.0        4.0  1154.4294\n",
       "0.90    263.0        9.0  3640.8410"
      ]
     },
     "execution_count": 359,
     "metadata": {},
     "output_type": "execute_result"
    }
   ],
   "source": [
    "r_f_m[['Recency', 'Frequency', 'Monetary']].quantile([.33, .66, .9])"
   ]
  },
  {
   "cell_type": "code",
   "execution_count": 360,
   "metadata": {},
   "outputs": [],
   "source": [
    "def R_Score(x):\n",
    "    if x['Recency'] <= 30:\n",
    "        return 3\n",
    "    elif x['Recency'] <= 90:\n",
    "        return 2\n",
    "    else:\n",
    "        return 1\n",
    "\n",
    "def F_Score(x):\n",
    "    if x['Frequency'] <= 1:\n",
    "        return 1\n",
    "    elif x['Frequency'] <= 4:\n",
    "        return 2\n",
    "    else:\n",
    "        return 3\n",
    "\n",
    "def M_Score(x):\n",
    "    if x['Monetary'] <= 384:\n",
    "        return 1\n",
    "    elif x['Monetary'] <= 1154:\n",
    "        return 2\n",
    "    else:\n",
    "        return 3\n",
    "\n",
    "r_f_m['R'] = r_f_m.apply(R_Score, axis=1)\n",
    "r_f_m['F'] = r_f_m.apply(F_Score, axis=1)\n",
    "r_f_m['M'] = r_f_m.apply(M_Score, axis=1)\n",
    "r_f_m['RFM_Score'] = r_f_m['R'].map(str) + r_f_m['F'].map(str) + r_f_m['M'].map(str)"
   ]
  },
  {
   "cell_type": "code",
   "execution_count": 361,
   "metadata": {
    "scrolled": true
   },
   "outputs": [
    {
     "data": {
      "text/html": [
       "<div>\n",
       "<style scoped>\n",
       "    .dataframe tbody tr th:only-of-type {\n",
       "        vertical-align: middle;\n",
       "    }\n",
       "\n",
       "    .dataframe tbody tr th {\n",
       "        vertical-align: top;\n",
       "    }\n",
       "\n",
       "    .dataframe thead th {\n",
       "        text-align: right;\n",
       "    }\n",
       "</style>\n",
       "<table border=\"1\" class=\"dataframe\">\n",
       "  <thead>\n",
       "    <tr style=\"text-align: right;\">\n",
       "      <th></th>\n",
       "      <th>customer_id</th>\n",
       "      <th>Recency</th>\n",
       "      <th>Frequency</th>\n",
       "      <th>Monetary</th>\n",
       "      <th>R</th>\n",
       "      <th>F</th>\n",
       "      <th>M</th>\n",
       "      <th>RFM_Score</th>\n",
       "    </tr>\n",
       "  </thead>\n",
       "  <tbody>\n",
       "    <tr>\n",
       "      <th>0</th>\n",
       "      <td>12346</td>\n",
       "      <td>326</td>\n",
       "      <td>1</td>\n",
       "      <td>77183.60</td>\n",
       "      <td>1</td>\n",
       "      <td>1</td>\n",
       "      <td>3</td>\n",
       "      <td>113</td>\n",
       "    </tr>\n",
       "    <tr>\n",
       "      <th>1</th>\n",
       "      <td>12347</td>\n",
       "      <td>2</td>\n",
       "      <td>7</td>\n",
       "      <td>4310.00</td>\n",
       "      <td>3</td>\n",
       "      <td>3</td>\n",
       "      <td>3</td>\n",
       "      <td>333</td>\n",
       "    </tr>\n",
       "    <tr>\n",
       "      <th>2</th>\n",
       "      <td>12348</td>\n",
       "      <td>75</td>\n",
       "      <td>4</td>\n",
       "      <td>1797.24</td>\n",
       "      <td>2</td>\n",
       "      <td>2</td>\n",
       "      <td>3</td>\n",
       "      <td>223</td>\n",
       "    </tr>\n",
       "    <tr>\n",
       "      <th>3</th>\n",
       "      <td>12349</td>\n",
       "      <td>19</td>\n",
       "      <td>1</td>\n",
       "      <td>1757.55</td>\n",
       "      <td>3</td>\n",
       "      <td>1</td>\n",
       "      <td>3</td>\n",
       "      <td>313</td>\n",
       "    </tr>\n",
       "    <tr>\n",
       "      <th>4</th>\n",
       "      <td>12350</td>\n",
       "      <td>310</td>\n",
       "      <td>1</td>\n",
       "      <td>334.40</td>\n",
       "      <td>1</td>\n",
       "      <td>1</td>\n",
       "      <td>1</td>\n",
       "      <td>111</td>\n",
       "    </tr>\n",
       "  </tbody>\n",
       "</table>\n",
       "</div>"
      ],
      "text/plain": [
       "   customer_id  Recency  Frequency  Monetary  R  F  M RFM_Score\n",
       "0        12346      326          1  77183.60  1  1  3       113\n",
       "1        12347        2          7   4310.00  3  3  3       333\n",
       "2        12348       75          4   1797.24  2  2  3       223\n",
       "3        12349       19          1   1757.55  3  1  3       313\n",
       "4        12350      310          1    334.40  1  1  1       111"
      ]
     },
     "execution_count": 361,
     "metadata": {},
     "output_type": "execute_result"
    }
   ],
   "source": [
    "r_f_m.head()"
   ]
  },
  {
   "cell_type": "markdown",
   "metadata": {},
   "source": [
    "Sekarang kita sudah memiliki nilai dari RFM untuk setiap pelanggannya. Langkah selanjutnya kita kelompokkan setiap pelanggan terhadap segmentasinya berdasarkan nilai RFM yang dimilikinya."
   ]
  },
  {
   "cell_type": "code",
   "execution_count": 362,
   "metadata": {
    "scrolled": true
   },
   "outputs": [],
   "source": [
    "segment = [0]*len(r_f_m)\n",
    "\n",
    "for i in range(0,len(r_f_m)):\n",
    "    if r_f_m['RFM_Score'][i]=='111':\n",
    "        segment[i]='Lost Cheap'\n",
    "    elif r_f_m['RFM_Score'][i]=='133':\n",
    "        segment[i]='Lost'    \n",
    "    elif (r_f_m['RFM_Score'][i]=='131') | (r_f_m['RFM_Score'][i]=='121'):\n",
    "        segment[i]='Loyal'\n",
    "    elif (r_f_m['RFM_Score'][i]=='113') | (r_f_m['RFM_Score'][i]=='123'):\n",
    "        segment[i]='Big Spend'\n",
    "    elif (r_f_m['RFM_Score'][i]=='213') | (r_f_m['RFM_Score'][i]=='313'):\n",
    "        segment[i]='Big Spend'\n",
    "    elif (r_f_m['RFM_Score'][i]=='223') | (r_f_m['RFM_Score'][i]=='323'):\n",
    "        segment[i]='Big Spend'\n",
    "    elif r_f_m['RFM_Score'][i]=='233':\n",
    "        segment[i]='Almost Lost'\n",
    "    elif r_f_m['RFM_Score'][i]=='333':\n",
    "        segment[i]='Best'\n",
    "    else:\n",
    "        segment[i]='Casual'\n",
    "        \n",
    "r_f_m['Segment'] = segment"
   ]
  },
  {
   "cell_type": "code",
   "execution_count": 363,
   "metadata": {
    "scrolled": true
   },
   "outputs": [
    {
     "data": {
      "text/html": [
       "<div>\n",
       "<style scoped>\n",
       "    .dataframe tbody tr th:only-of-type {\n",
       "        vertical-align: middle;\n",
       "    }\n",
       "\n",
       "    .dataframe tbody tr th {\n",
       "        vertical-align: top;\n",
       "    }\n",
       "\n",
       "    .dataframe thead th {\n",
       "        text-align: right;\n",
       "    }\n",
       "</style>\n",
       "<table border=\"1\" class=\"dataframe\">\n",
       "  <thead>\n",
       "    <tr style=\"text-align: right;\">\n",
       "      <th></th>\n",
       "      <th>customer_id</th>\n",
       "      <th>Recency</th>\n",
       "      <th>Frequency</th>\n",
       "      <th>Monetary</th>\n",
       "      <th>R</th>\n",
       "      <th>F</th>\n",
       "      <th>M</th>\n",
       "      <th>RFM_Score</th>\n",
       "      <th>Segment</th>\n",
       "    </tr>\n",
       "  </thead>\n",
       "  <tbody>\n",
       "    <tr>\n",
       "      <th>0</th>\n",
       "      <td>12346</td>\n",
       "      <td>326</td>\n",
       "      <td>1</td>\n",
       "      <td>77183.60</td>\n",
       "      <td>1</td>\n",
       "      <td>1</td>\n",
       "      <td>3</td>\n",
       "      <td>113</td>\n",
       "      <td>Big Spend</td>\n",
       "    </tr>\n",
       "    <tr>\n",
       "      <th>1</th>\n",
       "      <td>12347</td>\n",
       "      <td>2</td>\n",
       "      <td>7</td>\n",
       "      <td>4310.00</td>\n",
       "      <td>3</td>\n",
       "      <td>3</td>\n",
       "      <td>3</td>\n",
       "      <td>333</td>\n",
       "      <td>Best</td>\n",
       "    </tr>\n",
       "    <tr>\n",
       "      <th>2</th>\n",
       "      <td>12348</td>\n",
       "      <td>75</td>\n",
       "      <td>4</td>\n",
       "      <td>1797.24</td>\n",
       "      <td>2</td>\n",
       "      <td>2</td>\n",
       "      <td>3</td>\n",
       "      <td>223</td>\n",
       "      <td>Big Spend</td>\n",
       "    </tr>\n",
       "    <tr>\n",
       "      <th>3</th>\n",
       "      <td>12349</td>\n",
       "      <td>19</td>\n",
       "      <td>1</td>\n",
       "      <td>1757.55</td>\n",
       "      <td>3</td>\n",
       "      <td>1</td>\n",
       "      <td>3</td>\n",
       "      <td>313</td>\n",
       "      <td>Big Spend</td>\n",
       "    </tr>\n",
       "    <tr>\n",
       "      <th>4</th>\n",
       "      <td>12350</td>\n",
       "      <td>310</td>\n",
       "      <td>1</td>\n",
       "      <td>334.40</td>\n",
       "      <td>1</td>\n",
       "      <td>1</td>\n",
       "      <td>1</td>\n",
       "      <td>111</td>\n",
       "      <td>Lost Cheap</td>\n",
       "    </tr>\n",
       "  </tbody>\n",
       "</table>\n",
       "</div>"
      ],
      "text/plain": [
       "   customer_id  Recency  Frequency  Monetary  R  F  M RFM_Score     Segment\n",
       "0        12346      326          1  77183.60  1  1  3       113   Big Spend\n",
       "1        12347        2          7   4310.00  3  3  3       333        Best\n",
       "2        12348       75          4   1797.24  2  2  3       223   Big Spend\n",
       "3        12349       19          1   1757.55  3  1  3       313   Big Spend\n",
       "4        12350      310          1    334.40  1  1  1       111  Lost Cheap"
      ]
     },
     "execution_count": 363,
     "metadata": {},
     "output_type": "execute_result"
    }
   ],
   "source": [
    "r_f_m.head()"
   ]
  },
  {
   "cell_type": "code",
   "execution_count": 364,
   "metadata": {
    "scrolled": true
   },
   "outputs": [
    {
     "data": {
      "text/plain": [
       "Casual         2076\n",
       "Best            716\n",
       "Lost Cheap      647\n",
       "Big Spend       495\n",
       "Almost Lost     219\n",
       "Loyal           139\n",
       "Lost             46\n",
       "Name: Segment, dtype: int64"
      ]
     },
     "execution_count": 364,
     "metadata": {},
     "output_type": "execute_result"
    }
   ],
   "source": [
    "r_f_m['Segment'].value_counts()"
   ]
  },
  {
   "cell_type": "code",
   "execution_count": 365,
   "metadata": {},
   "outputs": [],
   "source": [
    "r_f_m = r_f_m.set_index('customer_id')"
   ]
  },
  {
   "cell_type": "code",
   "execution_count": 366,
   "metadata": {
    "scrolled": true
   },
   "outputs": [
    {
     "data": {
      "image/png": "[encoded data removed]",
      "text/plain": [
       "<Figure size 432x288 with 1 Axes>"
      ]
     },
     "metadata": {
      "needs_background": "light"
     },
     "output_type": "display_data"
    }
   ],
   "source": [
    "segments_counts = r_f_m['Segment'].value_counts().sort_values(ascending=True)\n",
    "\n",
    "fig, ax = plt.subplots()\n",
    "\n",
    "bars = ax.barh(range(len(segments_counts)),\n",
    "              segments_counts,\n",
    "              color='silver')\n",
    "ax.set_frame_on(False)\n",
    "ax.tick_params(left=False,\n",
    "               bottom=False,\n",
    "               labelbottom=False)\n",
    "ax.set_yticks(range(len(segments_counts)))\n",
    "ax.set_yticklabels(segments_counts.index)\n",
    "\n",
    "for i, bar in enumerate(bars):\n",
    "        value = bar.get_width()\n",
    "        if segments_counts.index[i] in ['Best', 'Big Spend']:\n",
    "            bar.set_color('firebrick')\n",
    "        ax.text(value,\n",
    "                bar.get_y() + bar.get_height()/2,\n",
    "                '{:,} ({:}%)'.format(int(value),\n",
    "                                   int(value*100/segments_counts.sum())),\n",
    "                va='center',\n",
    "                ha='left'\n",
    "               )\n",
    "\n",
    "plt.show()"
   ]
  },
  {
   "cell_type": "markdown",
   "metadata": {},
   "source": [
    "Segmentasi RFM:\n",
    "- Terlihat pada segmentasinya ternyata pelanggan dengan segmentasi Casual memiliki jumlah yang paling banyak dengan presentasi di 47% secara keseluruhan.\n",
    "- Distribusi pelanggan seperti ini cukup normal dan cukup baik, mengingat tingkat lost/almost lost/lost cheap pelanggan lebih sedikit dengan tingkat pelanggan best/big spend/lotal maupun casual yang masih tinggi.\n",
    "<a id='item'></a>"
   ]
  },
  {
   "cell_type": "markdown",
   "metadata": {},
   "source": [
    "## Menganalisis Item Pembelian per Segment"
   ]
  },
  {
   "cell_type": "markdown",
   "metadata": {},
   "source": [
    "Pertama kita akan membuat variabel baru untuk setiap segmentnya, disini kita gunakan 3 sample dari 'Best', 'Big Spend', dan 'Casual'. Variabel tersebut akan kita gunakan untuk mencari tahu perbedaan pola dari pelanggan."
   ]
  },
  {
   "cell_type": "markdown",
   "metadata": {},
   "source": [
    "data segment kita merge dengan dataset awal untuk menghitung secara keseluruhan transaksi."
   ]
  },
  {
   "cell_type": "code",
   "execution_count": 367,
   "metadata": {
    "scrolled": true
   },
   "outputs": [
    {
     "data": {
      "text/html": [
       "<div>\n",
       "<style scoped>\n",
       "    .dataframe tbody tr th:only-of-type {\n",
       "        vertical-align: middle;\n",
       "    }\n",
       "\n",
       "    .dataframe tbody tr th {\n",
       "        vertical-align: top;\n",
       "    }\n",
       "\n",
       "    .dataframe thead th {\n",
       "        text-align: right;\n",
       "    }\n",
       "</style>\n",
       "<table border=\"1\" class=\"dataframe\">\n",
       "  <thead>\n",
       "    <tr style=\"text-align: right;\">\n",
       "      <th></th>\n",
       "      <th>customer_id</th>\n",
       "      <th>Segment</th>\n",
       "    </tr>\n",
       "  </thead>\n",
       "  <tbody>\n",
       "    <tr>\n",
       "      <th>0</th>\n",
       "      <td>12346</td>\n",
       "      <td>Big Spend</td>\n",
       "    </tr>\n",
       "    <tr>\n",
       "      <th>1</th>\n",
       "      <td>12347</td>\n",
       "      <td>Best</td>\n",
       "    </tr>\n",
       "    <tr>\n",
       "      <th>2</th>\n",
       "      <td>12348</td>\n",
       "      <td>Big Spend</td>\n",
       "    </tr>\n",
       "    <tr>\n",
       "      <th>3</th>\n",
       "      <td>12349</td>\n",
       "      <td>Big Spend</td>\n",
       "    </tr>\n",
       "    <tr>\n",
       "      <th>4</th>\n",
       "      <td>12350</td>\n",
       "      <td>Lost Cheap</td>\n",
       "    </tr>\n",
       "  </tbody>\n",
       "</table>\n",
       "</div>"
      ],
      "text/plain": [
       "   customer_id     Segment\n",
       "0        12346   Big Spend\n",
       "1        12347        Best\n",
       "2        12348   Big Spend\n",
       "3        12349   Big Spend\n",
       "4        12350  Lost Cheap"
      ]
     },
     "execution_count": 367,
     "metadata": {},
     "output_type": "execute_result"
    }
   ],
   "source": [
    "r_f_m = r_f_m.reset_index()\n",
    "rfm_segment = r_f_m[['customer_id', 'Segment']]\n",
    "rfm_segment.head()"
   ]
  },
  {
   "cell_type": "code",
   "execution_count": 368,
   "metadata": {},
   "outputs": [],
   "source": [
    "df2 = pd.merge(df, rfm_segment, how='left', on='customer_id')"
   ]
  },
  {
   "cell_type": "code",
   "execution_count": 369,
   "metadata": {},
   "outputs": [],
   "source": [
    "InvoiceBest = df2[df2['Segment']=='Best'][['customer_id', 'description', 'unit_price', 'quantity', 'total']]\n",
    "InvoiceBig = df2[df2['Segment']=='Big Spend'][['customer_id', 'description', 'unit_price', 'quantity', 'total']]\n",
    "InvoiceCas = df2[df2['Segment']=='Casual'][['customer_id', 'description', 'unit_price', 'quantity', 'total']]"
   ]
  },
  {
   "cell_type": "markdown",
   "metadata": {},
   "source": [
    "### Best Customers"
   ]
  },
  {
   "cell_type": "markdown",
   "metadata": {},
   "source": [
    "Menghitung jumlah pelanggan, jumlah barang, dan biaya item yang dikeluarkan oleh pelanggan berdasarkan segment 'Best'."
   ]
  },
  {
   "cell_type": "code",
   "execution_count": 370,
   "metadata": {
    "scrolled": true
   },
   "outputs": [
    {
     "data": {
      "text/html": [
       "<div>\n",
       "<style scoped>\n",
       "    .dataframe tbody tr th:only-of-type {\n",
       "        vertical-align: middle;\n",
       "    }\n",
       "\n",
       "    .dataframe tbody tr th {\n",
       "        vertical-align: top;\n",
       "    }\n",
       "\n",
       "    .dataframe thead th {\n",
       "        text-align: right;\n",
       "    }\n",
       "</style>\n",
       "<table border=\"1\" class=\"dataframe\">\n",
       "  <thead>\n",
       "    <tr style=\"text-align: right;\">\n",
       "      <th></th>\n",
       "      <th>description</th>\n",
       "      <th>customer_id</th>\n",
       "      <th>quantity</th>\n",
       "      <th>total</th>\n",
       "    </tr>\n",
       "  </thead>\n",
       "  <tbody>\n",
       "    <tr>\n",
       "      <th>0</th>\n",
       "      <td>REGENCY CAKESTAND 3 TIER</td>\n",
       "      <td>256</td>\n",
       "      <td>8631</td>\n",
       "      <td>97990.20</td>\n",
       "    </tr>\n",
       "    <tr>\n",
       "      <th>1</th>\n",
       "      <td>WHITE HANGING HEART T-LIGHT HOLDER</td>\n",
       "      <td>256</td>\n",
       "      <td>22990</td>\n",
       "      <td>63345.40</td>\n",
       "    </tr>\n",
       "    <tr>\n",
       "      <th>2</th>\n",
       "      <td>JUMBO BAG RED RETROSPOT</td>\n",
       "      <td>248</td>\n",
       "      <td>31543</td>\n",
       "      <td>57698.49</td>\n",
       "    </tr>\n",
       "    <tr>\n",
       "      <th>3</th>\n",
       "      <td>PACK OF 72 RETROSPOT CAKE CASES</td>\n",
       "      <td>245</td>\n",
       "      <td>18978</td>\n",
       "      <td>9244.00</td>\n",
       "    </tr>\n",
       "    <tr>\n",
       "      <th>4</th>\n",
       "      <td>LUNCH BAG RED RETROSPOT</td>\n",
       "      <td>238</td>\n",
       "      <td>11945</td>\n",
       "      <td>18787.65</td>\n",
       "    </tr>\n",
       "    <tr>\n",
       "      <th>5</th>\n",
       "      <td>PARTY BUNTING</td>\n",
       "      <td>222</td>\n",
       "      <td>8932</td>\n",
       "      <td>39444.48</td>\n",
       "    </tr>\n",
       "    <tr>\n",
       "      <th>6</th>\n",
       "      <td>PAPER CHAIN KIT 50'S CHRISTMAS</td>\n",
       "      <td>216</td>\n",
       "      <td>10197</td>\n",
       "      <td>27735.83</td>\n",
       "    </tr>\n",
       "    <tr>\n",
       "      <th>7</th>\n",
       "      <td>ASSORTED COLOUR BIRD ORNAMENT</td>\n",
       "      <td>214</td>\n",
       "      <td>23435</td>\n",
       "      <td>36846.11</td>\n",
       "    </tr>\n",
       "    <tr>\n",
       "      <th>8</th>\n",
       "      <td>SET OF 3 CAKE TINS PANTRY DESIGN</td>\n",
       "      <td>212</td>\n",
       "      <td>4680</td>\n",
       "      <td>22112.00</td>\n",
       "    </tr>\n",
       "    <tr>\n",
       "      <th>9</th>\n",
       "      <td>LUNCH BAG  BLACK SKULL.</td>\n",
       "      <td>207</td>\n",
       "      <td>7775</td>\n",
       "      <td>12283.15</td>\n",
       "    </tr>\n",
       "  </tbody>\n",
       "</table>\n",
       "</div>"
      ],
      "text/plain": [
       "                          description  customer_id  quantity     total\n",
       "0            REGENCY CAKESTAND 3 TIER          256      8631  97990.20\n",
       "1  WHITE HANGING HEART T-LIGHT HOLDER          256     22990  63345.40\n",
       "2             JUMBO BAG RED RETROSPOT          248     31543  57698.49\n",
       "3     PACK OF 72 RETROSPOT CAKE CASES          245     18978   9244.00\n",
       "4             LUNCH BAG RED RETROSPOT          238     11945  18787.65\n",
       "5                       PARTY BUNTING          222      8932  39444.48\n",
       "6     PAPER CHAIN KIT 50'S CHRISTMAS           216     10197  27735.83\n",
       "7       ASSORTED COLOUR BIRD ORNAMENT          214     23435  36846.11\n",
       "8   SET OF 3 CAKE TINS PANTRY DESIGN           212      4680  22112.00\n",
       "9             LUNCH BAG  BLACK SKULL.          207      7775  12283.15"
      ]
     },
     "execution_count": 370,
     "metadata": {},
     "output_type": "execute_result"
    }
   ],
   "source": [
    "item_best = InvoiceBest.groupby(['description']).agg({'customer_id': 'nunique', 'quantity': 'sum', 'total': 'sum'}).sort_values(by='customer_id', ascending=False)\n",
    "item_best = item_best[:10].reset_index()\n",
    "item_best"
   ]
  },
  {
   "cell_type": "code",
   "execution_count": 371,
   "metadata": {
    "scrolled": false
   },
   "outputs": [
    {
     "data": {
      "image/png": "[encoded data removed]",
      "text/plain": [
       "<Figure size 576x432 with 1 Axes>"
      ]
     },
     "metadata": {
      "needs_background": "light"
     },
     "output_type": "display_data"
    }
   ],
   "source": [
    "plt.figure(figsize=(8, 6))\n",
    "plt.title('TOP 10 Pembelian Item untuk Segmentasi Best Customers')\n",
    "sns.barplot(data=item_best, y='description', x='customer_id')\n",
    "plt.show()"
   ]
  },
  {
   "cell_type": "markdown",
   "metadata": {},
   "source": [
    "TOP 10 Item pada segmentasi Best Customers:\n",
    "- Item REGENCY CAKESTAND 3 TIER merupakan yang paling sering dibeli oleh kelompok Best Customers dengan total 289 pelanggan berbeda.\n",
    "- Dilanjutkan pada peringkat ke-2 WHITE HANGING HEART T-LIGHT HOLDER dengan 274 pelanggan, dan peringkat ke-3 JUMBO BAG RED RETROSPOT dengan 266 pelanggan."
   ]
  },
  {
   "cell_type": "code",
   "execution_count": 372,
   "metadata": {
    "scrolled": false
   },
   "outputs": [
    {
     "data": {
      "image/png": "[encoded data removed]",
      "text/plain": [
       "<Figure size 720x432 with 1 Axes>"
      ]
     },
     "metadata": {
      "needs_background": "light"
     },
     "output_type": "display_data"
    }
   ],
   "source": [
    "item_best.drop('customer_id', axis=1).plot(kind='bar', x='description', figsize=(10, 6), title='Best Customers untuk Jumlah Item dan Total Harga')\n",
    "plt.show()"
   ]
  },
  {
   "cell_type": "markdown",
   "metadata": {},
   "source": [
    "Quantity dan Total Price segment Best Customers:\n",
    "- Kuantitas item JUMBO BAG RED RETROSPOT merupakan yang paling banyak terjual (28559 item)\n",
    "- Total biaya pelanggannya tertinggi ada di item REGENCY CAKESTAND 3 TIER dengan 12288 dolar walaupun kuantitasnya cukup kecil."
   ]
  },
  {
   "cell_type": "markdown",
   "metadata": {},
   "source": [
    "### Big Spender"
   ]
  },
  {
   "cell_type": "markdown",
   "metadata": {},
   "source": [
    "Menghitung jumlah pelanggan, jumlah barang, dan biaya item yang dikeluarkan oleh pelanggan berdasarkan segment 'Big Spend'."
   ]
  },
  {
   "cell_type": "code",
   "execution_count": 373,
   "metadata": {
    "scrolled": true
   },
   "outputs": [
    {
     "data": {
      "text/html": [
       "<div>\n",
       "<style scoped>\n",
       "    .dataframe tbody tr th:only-of-type {\n",
       "        vertical-align: middle;\n",
       "    }\n",
       "\n",
       "    .dataframe tbody tr th {\n",
       "        vertical-align: top;\n",
       "    }\n",
       "\n",
       "    .dataframe thead th {\n",
       "        text-align: right;\n",
       "    }\n",
       "</style>\n",
       "<table border=\"1\" class=\"dataframe\">\n",
       "  <thead>\n",
       "    <tr style=\"text-align: right;\">\n",
       "      <th></th>\n",
       "      <th>description</th>\n",
       "      <th>customer_id</th>\n",
       "      <th>quantity</th>\n",
       "      <th>total</th>\n",
       "    </tr>\n",
       "  </thead>\n",
       "  <tbody>\n",
       "    <tr>\n",
       "      <th>0</th>\n",
       "      <td>REGENCY CAKESTAND 3 TIER</td>\n",
       "      <td>163</td>\n",
       "      <td>983</td>\n",
       "      <td>11870.85</td>\n",
       "    </tr>\n",
       "    <tr>\n",
       "      <th>1</th>\n",
       "      <td>JAM MAKING SET WITH JARS</td>\n",
       "      <td>118</td>\n",
       "      <td>1116</td>\n",
       "      <td>4461.00</td>\n",
       "    </tr>\n",
       "    <tr>\n",
       "      <th>2</th>\n",
       "      <td>PACK OF 72 RETROSPOT CAKE CASES</td>\n",
       "      <td>114</td>\n",
       "      <td>4078</td>\n",
       "      <td>2071.30</td>\n",
       "    </tr>\n",
       "    <tr>\n",
       "      <th>3</th>\n",
       "      <td>JUMBO BAG RED RETROSPOT</td>\n",
       "      <td>111</td>\n",
       "      <td>6005</td>\n",
       "      <td>11188.90</td>\n",
       "    </tr>\n",
       "    <tr>\n",
       "      <th>4</th>\n",
       "      <td>PARTY BUNTING</td>\n",
       "      <td>109</td>\n",
       "      <td>1500</td>\n",
       "      <td>6939.00</td>\n",
       "    </tr>\n",
       "    <tr>\n",
       "      <th>5</th>\n",
       "      <td>SPOTTY BUNTING</td>\n",
       "      <td>106</td>\n",
       "      <td>860</td>\n",
       "      <td>4137.00</td>\n",
       "    </tr>\n",
       "    <tr>\n",
       "      <th>6</th>\n",
       "      <td>JAM MAKING SET PRINTED</td>\n",
       "      <td>103</td>\n",
       "      <td>2380</td>\n",
       "      <td>3388.40</td>\n",
       "    </tr>\n",
       "    <tr>\n",
       "      <th>7</th>\n",
       "      <td>WHITE HANGING HEART T-LIGHT HOLDER</td>\n",
       "      <td>102</td>\n",
       "      <td>6457</td>\n",
       "      <td>16662.25</td>\n",
       "    </tr>\n",
       "    <tr>\n",
       "      <th>8</th>\n",
       "      <td>BAKING SET 9 PIECE RETROSPOT</td>\n",
       "      <td>100</td>\n",
       "      <td>558</td>\n",
       "      <td>2661.30</td>\n",
       "    </tr>\n",
       "    <tr>\n",
       "      <th>9</th>\n",
       "      <td>ASSORTED COLOUR BIRD ORNAMENT</td>\n",
       "      <td>98</td>\n",
       "      <td>3457</td>\n",
       "      <td>5727.13</td>\n",
       "    </tr>\n",
       "  </tbody>\n",
       "</table>\n",
       "</div>"
      ],
      "text/plain": [
       "                          description  customer_id  quantity     total\n",
       "0            REGENCY CAKESTAND 3 TIER          163       983  11870.85\n",
       "1            JAM MAKING SET WITH JARS          118      1116   4461.00\n",
       "2     PACK OF 72 RETROSPOT CAKE CASES          114      4078   2071.30\n",
       "3             JUMBO BAG RED RETROSPOT          111      6005  11188.90\n",
       "4                       PARTY BUNTING          109      1500   6939.00\n",
       "5                      SPOTTY BUNTING          106       860   4137.00\n",
       "6              JAM MAKING SET PRINTED          103      2380   3388.40\n",
       "7  WHITE HANGING HEART T-LIGHT HOLDER          102      6457  16662.25\n",
       "8       BAKING SET 9 PIECE RETROSPOT           100       558   2661.30\n",
       "9       ASSORTED COLOUR BIRD ORNAMENT           98      3457   5727.13"
      ]
     },
     "execution_count": 373,
     "metadata": {},
     "output_type": "execute_result"
    }
   ],
   "source": [
    "item_big = InvoiceBig.groupby(['description']).agg({'customer_id': 'nunique', 'quantity': 'sum', 'total': 'sum'}).sort_values(by='customer_id', ascending=False)\n",
    "item_big = item_big[:10].reset_index()\n",
    "item_big"
   ]
  },
  {
   "cell_type": "code",
   "execution_count": 374,
   "metadata": {
    "scrolled": false
   },
   "outputs": [
    {
     "data": {
      "image/png": "[encoded data removed]",
      "text/plain": [
       "<Figure size 576x432 with 1 Axes>"
      ]
     },
     "metadata": {
      "needs_background": "light"
     },
     "output_type": "display_data"
    }
   ],
   "source": [
    "plt.figure(figsize=(8, 6))\n",
    "plt.title('TOP 10 Pembelian Item untuk Segmentasi Big Spend Customers')\n",
    "sns.barplot(data=item_big, y='description', x='customer_id')\n",
    "plt.show()"
   ]
  },
  {
   "cell_type": "markdown",
   "metadata": {},
   "source": [
    "TOP 10 Item pada segmentasi Big Spend Customers:\n",
    "- Item REGENCY CAKESTAND 3 TIER merupakan yang paling sering dibeli oleh kelompok Big Spend Customers dengan total 163 pelanggan berbeda.\n",
    "- Dilanjutkan pada peringkat ke-2 JAM MAKING SET WITH JARS dengan 118 pelanggan, dan peringkat ke-3 PACK OF 72 RETROSPOT CAKE CASES dengan 114 pelanggan.\n",
    "- Perbedaannya tidak terlalu jauh antar item."
   ]
  },
  {
   "cell_type": "code",
   "execution_count": 375,
   "metadata": {
    "scrolled": false
   },
   "outputs": [
    {
     "data": {
      "image/png": "[encoded data removed]",
      "text/plain": [
       "<Figure size 720x432 with 1 Axes>"
      ]
     },
     "metadata": {
      "needs_background": "light"
     },
     "output_type": "display_data"
    }
   ],
   "source": [
    "item_big.drop('customer_id', axis=1).plot(kind='bar', x='description', figsize=(10, 6), title='Big Spend Customers untuk Jumlah Item dan Total Harga')\n",
    "plt.show()"
   ]
  },
  {
   "cell_type": "markdown",
   "metadata": {},
   "source": [
    "Quantity dan Total Price segment Big Spend Customers:\n",
    "- Kuantitas item WHITE HANGING HEART T-LIGHT HOLDER merupakan yang paling banyak terjual (6457 item)\n",
    "- Total biaya pelanggannya tertinggi ada di item WHITE HANGING HEART T-LIGHT HOLDER dengan 16662.25 dolar."
   ]
  },
  {
   "cell_type": "markdown",
   "metadata": {},
   "source": [
    "### Casual"
   ]
  },
  {
   "cell_type": "markdown",
   "metadata": {},
   "source": [
    "Menghitung jumlah pelanggan, jumlah barang, dan biaya item yang dikeluarkan oleh pelanggan berdasarkan segment 'Casual'."
   ]
  },
  {
   "cell_type": "code",
   "execution_count": 376,
   "metadata": {},
   "outputs": [
    {
     "data": {
      "text/html": [
       "<div>\n",
       "<style scoped>\n",
       "    .dataframe tbody tr th:only-of-type {\n",
       "        vertical-align: middle;\n",
       "    }\n",
       "\n",
       "    .dataframe tbody tr th {\n",
       "        vertical-align: top;\n",
       "    }\n",
       "\n",
       "    .dataframe thead th {\n",
       "        text-align: right;\n",
       "    }\n",
       "</style>\n",
       "<table border=\"1\" class=\"dataframe\">\n",
       "  <thead>\n",
       "    <tr style=\"text-align: right;\">\n",
       "      <th></th>\n",
       "      <th>description</th>\n",
       "      <th>customer_id</th>\n",
       "      <th>quantity</th>\n",
       "      <th>total</th>\n",
       "    </tr>\n",
       "  </thead>\n",
       "  <tbody>\n",
       "    <tr>\n",
       "      <th>0</th>\n",
       "      <td>WHITE HANGING HEART T-LIGHT HOLDER</td>\n",
       "      <td>314</td>\n",
       "      <td>3982</td>\n",
       "      <td>11222.10</td>\n",
       "    </tr>\n",
       "    <tr>\n",
       "      <th>1</th>\n",
       "      <td>REGENCY CAKESTAND 3 TIER</td>\n",
       "      <td>288</td>\n",
       "      <td>1067</td>\n",
       "      <td>13035.45</td>\n",
       "    </tr>\n",
       "    <tr>\n",
       "      <th>2</th>\n",
       "      <td>ASSORTED COLOUR BIRD ORNAMENT</td>\n",
       "      <td>258</td>\n",
       "      <td>5091</td>\n",
       "      <td>8411.79</td>\n",
       "    </tr>\n",
       "    <tr>\n",
       "      <th>3</th>\n",
       "      <td>REX CASH+CARRY JUMBO SHOPPER</td>\n",
       "      <td>254</td>\n",
       "      <td>733</td>\n",
       "      <td>696.35</td>\n",
       "    </tr>\n",
       "    <tr>\n",
       "      <th>4</th>\n",
       "      <td>BAKING SET 9 PIECE RETROSPOT</td>\n",
       "      <td>234</td>\n",
       "      <td>968</td>\n",
       "      <td>4741.20</td>\n",
       "    </tr>\n",
       "    <tr>\n",
       "      <th>5</th>\n",
       "      <td>PAPER CHAIN KIT 50'S CHRISTMAS</td>\n",
       "      <td>231</td>\n",
       "      <td>2241</td>\n",
       "      <td>6290.95</td>\n",
       "    </tr>\n",
       "    <tr>\n",
       "      <th>6</th>\n",
       "      <td>PARTY BUNTING</td>\n",
       "      <td>227</td>\n",
       "      <td>1613</td>\n",
       "      <td>7754.75</td>\n",
       "    </tr>\n",
       "    <tr>\n",
       "      <th>7</th>\n",
       "      <td>SET OF 3 CAKE TINS PANTRY DESIGN</td>\n",
       "      <td>213</td>\n",
       "      <td>799</td>\n",
       "      <td>3887.85</td>\n",
       "    </tr>\n",
       "    <tr>\n",
       "      <th>8</th>\n",
       "      <td>HEART OF WICKER SMALL</td>\n",
       "      <td>209</td>\n",
       "      <td>2273</td>\n",
       "      <td>3678.45</td>\n",
       "    </tr>\n",
       "    <tr>\n",
       "      <th>9</th>\n",
       "      <td>NATURAL SLATE HEART CHALKBOARD</td>\n",
       "      <td>192</td>\n",
       "      <td>1272</td>\n",
       "      <td>3733.20</td>\n",
       "    </tr>\n",
       "  </tbody>\n",
       "</table>\n",
       "</div>"
      ],
      "text/plain": [
       "                          description  customer_id  quantity     total\n",
       "0  WHITE HANGING HEART T-LIGHT HOLDER          314      3982  11222.10\n",
       "1            REGENCY CAKESTAND 3 TIER          288      1067  13035.45\n",
       "2       ASSORTED COLOUR BIRD ORNAMENT          258      5091   8411.79\n",
       "3        REX CASH+CARRY JUMBO SHOPPER          254       733    696.35\n",
       "4       BAKING SET 9 PIECE RETROSPOT           234       968   4741.20\n",
       "5     PAPER CHAIN KIT 50'S CHRISTMAS           231      2241   6290.95\n",
       "6                       PARTY BUNTING          227      1613   7754.75\n",
       "7   SET OF 3 CAKE TINS PANTRY DESIGN           213       799   3887.85\n",
       "8               HEART OF WICKER SMALL          209      2273   3678.45\n",
       "9     NATURAL SLATE HEART CHALKBOARD           192      1272   3733.20"
      ]
     },
     "execution_count": 376,
     "metadata": {},
     "output_type": "execute_result"
    }
   ],
   "source": [
    "item_cas = InvoiceCas.groupby(['description']).agg({'customer_id': 'nunique', 'quantity': 'sum', 'total': 'sum'}).sort_values(by='customer_id', ascending=False)\n",
    "item_cas = item_cas[:10].reset_index()\n",
    "item_cas"
   ]
  },
  {
   "cell_type": "code",
   "execution_count": 377,
   "metadata": {
    "scrolled": false
   },
   "outputs": [
    {
     "data": {
      "image/png": "[encoded data removed]",
      "text/plain": [
       "<Figure size 576x432 with 1 Axes>"
      ]
     },
     "metadata": {
      "needs_background": "light"
     },
     "output_type": "display_data"
    }
   ],
   "source": [
    "plt.figure(figsize=(8, 6))\n",
    "plt.title('TOP 10 Pembelian Item untuk Segmentasi Big Spend Customers')\n",
    "sns.barplot(data=item_cas, y='description', x='customer_id')\n",
    "plt.show()"
   ]
  },
  {
   "cell_type": "markdown",
   "metadata": {},
   "source": [
    "TOP 10 Item pada segmentasi Casual Customers:\n",
    "- Item WHITE HANGING HEART T-LIGHT HOLDER merupakan yang paling sering dibeli oleh kelompok Casual Customers dengan total 280 pelanggan berbeda.\n",
    "- Dilanjutkan pada peringkat ke-2 REGENCY CAKESTAND 3 TIER dengan 254 pelanggan, dan peringkat ke-3 ASSORTED COLOUR BIRD ORNAMENT dengan 231 pelanggan."
   ]
  },
  {
   "cell_type": "code",
   "execution_count": 378,
   "metadata": {
    "scrolled": false
   },
   "outputs": [
    {
     "data": {
      "image/png": "[encoded data removed]",
      "text/plain": [
       "<Figure size 720x432 with 1 Axes>"
      ]
     },
     "metadata": {
      "needs_background": "light"
     },
     "output_type": "display_data"
    }
   ],
   "source": [
    "item_cas.drop('customer_id', axis=1).plot(kind='bar', x='description', figsize=(10, 6), title='Big Spend Customers untuk Jumlah Item dan Total Harga')\n",
    "plt.show()"
   ]
  },
  {
   "cell_type": "markdown",
   "metadata": {},
   "source": [
    "Quantity dan Total Price segment Casual Customers:\n",
    "- Kuantitas item ASSORTED COLOUR BIRD ORNAMENT merupakan yang paling banyak terjual (5091 item)\n",
    "- Total biaya pelanggannya tertinggi ada di item REGENCY CAKESTAND 3 TIER dengan 13035.45 dolar walaupun kuantitasnya cukup kecil.\n",
    "<a id='hipo'></a>"
   ]
  },
  {
   "cell_type": "markdown",
   "metadata": {},
   "source": [
    "## Uji Hipotesis"
   ]
  },
  {
   "cell_type": "markdown",
   "metadata": {},
   "source": [
    "Pengujian hipotesis kali ini kita akan menggunakan uji-z, dimana uji ini lebih praktis dibandingkan uji-t yang memiliki nilai kritis berbeda untuk setiap ukuran sampel, sedangkan uji z memiliki nilai kritis tunggal untuk setiap tingkat signifikansi (misalnya, 1,96 untuk 5% dua sisi). Oleh karena itu, untuk ukuran sampel yang besar dan varians populasi yang diketahui, banyak uji statistik dilakukan menggunakan uji z perkiraan (Angel Das, 2022). Pada pengujian hipotesis statistik kali ini merujuk pada:\n",
    "- Setiap segmentasi pengguna (disini kita pilih 3 segment Best, Big Spend, dan Casual).\n",
    "- 4 Jenis Item dari ketiga segment yang paling populer yaitu \"WHITE HANGING HEART T-LIGHT HOLDER\", \"REGENCY CAKESTAND 3 TIER\", \"PARTY BUNTING\", dan \"ASSORTED COLOUR BIRD ORNAMENT\".\n",
    "- Invoice dari customers\n",
    "\n",
    "Pertama kita akan membuat 2 tabel untuk pengujiannya. Uji yang pertama pada segment Casual dengan Best, dan uji yang kedua pada segment Casual dengan Big Spend. Pengujian dilakukan berdasarkan jumlah dari jenis item yang terjual untuk setiap uji dengan tujuan untuk menyesuaikan H0 dan Ha."
   ]
  },
  {
   "cell_type": "code",
   "execution_count": 379,
   "metadata": {},
   "outputs": [],
   "source": [
    "filter_ = df2.query('description == (\"WHITE HANGING HEART T-LIGHT HOLDER\", \"REGENCY CAKESTAND 3 TIER\", \"PARTY BUNTING\", \"ASSORTED COLOUR BIRD ORNAMENT\")')"
   ]
  },
  {
   "cell_type": "code",
   "execution_count": 380,
   "metadata": {
    "scrolled": true
   },
   "outputs": [
    {
     "data": {
      "text/html": [
       "<div>\n",
       "<style scoped>\n",
       "    .dataframe tbody tr th:only-of-type {\n",
       "        vertical-align: middle;\n",
       "    }\n",
       "\n",
       "    .dataframe tbody tr th {\n",
       "        vertical-align: top;\n",
       "    }\n",
       "\n",
       "    .dataframe thead th {\n",
       "        text-align: right;\n",
       "    }\n",
       "</style>\n",
       "<table border=\"1\" class=\"dataframe\">\n",
       "  <thead>\n",
       "    <tr style=\"text-align: right;\">\n",
       "      <th></th>\n",
       "      <th>invoice</th>\n",
       "      <th>ratio_%</th>\n",
       "    </tr>\n",
       "    <tr>\n",
       "      <th>Segment</th>\n",
       "      <th></th>\n",
       "      <th></th>\n",
       "    </tr>\n",
       "  </thead>\n",
       "  <tbody>\n",
       "    <tr>\n",
       "      <th>Best</th>\n",
       "      <td>2589</td>\n",
       "      <td>50.058005</td>\n",
       "    </tr>\n",
       "    <tr>\n",
       "      <th>Casual</th>\n",
       "      <td>1217</td>\n",
       "      <td>23.530549</td>\n",
       "    </tr>\n",
       "    <tr>\n",
       "      <th>Big Spend</th>\n",
       "      <td>522</td>\n",
       "      <td>10.092807</td>\n",
       "    </tr>\n",
       "    <tr>\n",
       "      <th>Almost Lost</th>\n",
       "      <td>484</td>\n",
       "      <td>9.358082</td>\n",
       "    </tr>\n",
       "    <tr>\n",
       "      <th>Lost Cheap</th>\n",
       "      <td>180</td>\n",
       "      <td>3.480278</td>\n",
       "    </tr>\n",
       "    <tr>\n",
       "      <th>Lost</th>\n",
       "      <td>120</td>\n",
       "      <td>2.320186</td>\n",
       "    </tr>\n",
       "    <tr>\n",
       "      <th>Loyal</th>\n",
       "      <td>60</td>\n",
       "      <td>1.160093</td>\n",
       "    </tr>\n",
       "  </tbody>\n",
       "</table>\n",
       "</div>"
      ],
      "text/plain": [
       "             invoice    ratio_%\n",
       "Segment                        \n",
       "Best            2589  50.058005\n",
       "Casual          1217  23.530549\n",
       "Big Spend        522  10.092807\n",
       "Almost Lost      484   9.358082\n",
       "Lost Cheap       180   3.480278\n",
       "Lost             120   2.320186\n",
       "Loyal             60   1.160093"
      ]
     },
     "execution_count": 380,
     "metadata": {},
     "output_type": "execute_result"
    }
   ],
   "source": [
    "segment_invoice = (filter_.pivot_table(index='Segment', values='invoice', aggfunc='nunique'))\n",
    "segment_invoice['ratio_%'] = segment_invoice['invoice'] / segment_invoice['invoice'].sum() * 100\n",
    "segment_invoice.sort_values(by='invoice', ascending=False)"
   ]
  },
  {
   "cell_type": "code",
   "execution_count": 381,
   "metadata": {
    "scrolled": true
   },
   "outputs": [
    {
     "data": {
      "text/html": [
       "<div>\n",
       "<style scoped>\n",
       "    .dataframe tbody tr th:only-of-type {\n",
       "        vertical-align: middle;\n",
       "    }\n",
       "\n",
       "    .dataframe tbody tr th {\n",
       "        vertical-align: top;\n",
       "    }\n",
       "\n",
       "    .dataframe thead th {\n",
       "        text-align: right;\n",
       "    }\n",
       "</style>\n",
       "<table border=\"1\" class=\"dataframe\">\n",
       "  <thead>\n",
       "    <tr style=\"text-align: right;\">\n",
       "      <th>Segment</th>\n",
       "      <th>Almost Lost</th>\n",
       "      <th>Best</th>\n",
       "      <th>Big Spend</th>\n",
       "      <th>Casual</th>\n",
       "      <th>Lost</th>\n",
       "      <th>Lost Cheap</th>\n",
       "      <th>Loyal</th>\n",
       "    </tr>\n",
       "    <tr>\n",
       "      <th>description</th>\n",
       "      <th></th>\n",
       "      <th></th>\n",
       "      <th></th>\n",
       "      <th></th>\n",
       "      <th></th>\n",
       "      <th></th>\n",
       "      <th></th>\n",
       "    </tr>\n",
       "  </thead>\n",
       "  <tbody>\n",
       "    <tr>\n",
       "      <th>WHITE HANGING HEART T-LIGHT HOLDER</th>\n",
       "      <td>166</td>\n",
       "      <td>1008</td>\n",
       "      <td>179</td>\n",
       "      <td>459</td>\n",
       "      <td>57</td>\n",
       "      <td>82</td>\n",
       "      <td>20</td>\n",
       "    </tr>\n",
       "    <tr>\n",
       "      <th>REGENCY CAKESTAND 3 TIER</th>\n",
       "      <td>177</td>\n",
       "      <td>827</td>\n",
       "      <td>223</td>\n",
       "      <td>365</td>\n",
       "      <td>37</td>\n",
       "      <td>54</td>\n",
       "      <td>20</td>\n",
       "    </tr>\n",
       "    <tr>\n",
       "      <th>PARTY BUNTING</th>\n",
       "      <td>170</td>\n",
       "      <td>672</td>\n",
       "      <td>154</td>\n",
       "      <td>278</td>\n",
       "      <td>37</td>\n",
       "      <td>50</td>\n",
       "      <td>18</td>\n",
       "    </tr>\n",
       "    <tr>\n",
       "      <th>ASSORTED COLOUR BIRD ORNAMENT</th>\n",
       "      <td>127</td>\n",
       "      <td>663</td>\n",
       "      <td>164</td>\n",
       "      <td>346</td>\n",
       "      <td>25</td>\n",
       "      <td>39</td>\n",
       "      <td>11</td>\n",
       "    </tr>\n",
       "  </tbody>\n",
       "</table>\n",
       "</div>"
      ],
      "text/plain": [
       "Segment                             Almost Lost  Best  Big Spend  Casual  \\\n",
       "description                                                                \n",
       "WHITE HANGING HEART T-LIGHT HOLDER          166  1008        179     459   \n",
       "REGENCY CAKESTAND 3 TIER                    177   827        223     365   \n",
       "PARTY BUNTING                               170   672        154     278   \n",
       "ASSORTED COLOUR BIRD ORNAMENT               127   663        164     346   \n",
       "\n",
       "Segment                             Lost  Lost Cheap  Loyal  \n",
       "description                                                  \n",
       "WHITE HANGING HEART T-LIGHT HOLDER    57          82     20  \n",
       "REGENCY CAKESTAND 3 TIER              37          54     20  \n",
       "PARTY BUNTING                         37          50     18  \n",
       "ASSORTED COLOUR BIRD ORNAMENT         25          39     11  "
      ]
     },
     "execution_count": 381,
     "metadata": {},
     "output_type": "execute_result"
    }
   ],
   "source": [
    "segment_item = (filter_.pivot_table(index='description', columns='Segment', values='invoice', aggfunc='nunique').sort_values(by='Best', ascending=False))\n",
    "segment_item"
   ]
  },
  {
   "cell_type": "markdown",
   "metadata": {},
   "source": [
    "Disini kita bikin fungsi untuk di aplikasikan ke setiap bahan ujinya."
   ]
  },
  {
   "cell_type": "code",
   "execution_count": 382,
   "metadata": {},
   "outputs": [],
   "source": [
    "def check_hypothesis(successes1, successes2, trials1, trials2, alpha=0.05):\n",
    "    p1 = successes1 / trials1\n",
    "    p2 = successes2 / trials2\n",
    "    p_combined = (successes1 + successes2) / (trials1 + trials2)\n",
    "    difference = p1 - p2\n",
    "    \n",
    "    z_value = difference / math.sqrt(p_combined * (1 - p_combined) * (1 / trials1 + 1 / trials2))\n",
    "    distr =  st.norm(0, 1)\n",
    "    \n",
    "    p_value = (1 - distr.cdf(abs(z_value))) * 2\n",
    "    \n",
    "    print('p-value: ', p_value)\n",
    "    if (p_value < alpha):\n",
    "        print(\"Menolak hipotesis nol: Ada perbedaan yang signifikan di antara proporsinya\")\n",
    "    else:\n",
    "        print(\"Gagal untuk menolak hipotesis nol: Tidak ada perbedaan yang signifikan di antara proporsinya\")"
   ]
  },
  {
   "cell_type": "code",
   "execution_count": 383,
   "metadata": {},
   "outputs": [],
   "source": [
    "def check_event_hypothesis(segment_item, segment_invoice, event, exp1, exp2):\n",
    "    print(f'Jenis Item: {event}, Segment: {exp1}')\n",
    "    print(f'Jenis Item: {event}, Segment: {exp2}')\n",
    "    check_hypothesis(segment_item.loc[event, exp1], \n",
    "                 segment_item.loc[event, exp2], \n",
    "                 segment_invoice.loc[exp1, 'invoice'], \n",
    "                 segment_invoice.loc[exp2, 'invoice'])"
   ]
  },
  {
   "cell_type": "markdown",
   "metadata": {},
   "source": [
    "### Uji pada Segment Best dan Casual"
   ]
  },
  {
   "cell_type": "markdown",
   "metadata": {},
   "source": [
    "Tabel pertama untuk segment Best dan Casual dengan pengujian berdasarkan jenis item yang terjual per harinya.\n",
    "\n",
    "\n",
    "Uji Statistik : Two sample z-test independent\n",
    "\n",
    "Hipotesis :\n",
    "   - H0 = Apabila rata-rata pembelian item tertentu pada segment Best dan Casual Sama\n",
    "   - H1 = Apabila rata-rata pembelian item tertentu pada segment Best dan Casual Tidak Sama\n",
    "   \n",
    "Alpha : 5% / 0.05"
   ]
  },
  {
   "cell_type": "code",
   "execution_count": 384,
   "metadata": {},
   "outputs": [
    {
     "name": "stdout",
     "output_type": "stream",
     "text": [
      "Jenis Item: WHITE HANGING HEART T-LIGHT HOLDER, Segment: Best\n",
      "Jenis Item: WHITE HANGING HEART T-LIGHT HOLDER, Segment: Casual\n",
      "p-value:  0.47140049825586794\n",
      "Gagal untuk menolak hipotesis nol: Tidak ada perbedaan yang signifikan di antara proporsinya\n",
      "-----------------------------------------------------------\n",
      "Jenis Item: REGENCY CAKESTAND 3 TIER, Segment: Best\n",
      "Jenis Item: REGENCY CAKESTAND 3 TIER, Segment: Casual\n",
      "p-value:  0.22613109005499044\n",
      "Gagal untuk menolak hipotesis nol: Tidak ada perbedaan yang signifikan di antara proporsinya\n",
      "-----------------------------------------------------------\n",
      "Jenis Item: PARTY BUNTING, Segment: Best\n",
      "Jenis Item: PARTY BUNTING, Segment: Casual\n",
      "p-value:  0.03849648629764424\n",
      "Menolak hipotesis nol: Ada perbedaan yang signifikan di antara proporsinya\n",
      "-----------------------------------------------------------\n",
      "Jenis Item: ASSORTED COLOUR BIRD ORNAMENT, Segment: Best\n",
      "Jenis Item: ASSORTED COLOUR BIRD ORNAMENT, Segment: Casual\n",
      "p-value:  0.06581331464256013\n",
      "Gagal untuk menolak hipotesis nol: Tidak ada perbedaan yang signifikan di antara proporsinya\n",
      "-----------------------------------------------------------\n"
     ]
    }
   ],
   "source": [
    "for event in segment_item.index:\n",
    "    check_event_hypothesis(segment_item, segment_invoice, event, 'Best', 'Casual')\n",
    "    print('-----------------------------------------------------------')"
   ]
  },
  {
   "cell_type": "markdown",
   "metadata": {},
   "source": [
    "Hipotesis Kelompok Best dan Casual:\n",
    "- Pada jenis item bunting hipotesisnya adalah menolak hipotesis nol dengan p-value di 0.03.\n",
    "- Sedangkan pada jenis item holder, cakestand dan ornament nilai p-valuenya 0.47, 0.22 dan 0.06 yang dimana gagal Menolak hipotesis nol.\n",
    "- Pada jenis item holder, cakestand dan ornament memiliki perbedaan yang signifikan di antara proporsinya yang mengindikasikan pelanggan pada proporsi kelompok Best lebih tinggi daripada kelompok Casual. Artinya pula pada kelompok Best lebih banyak pelanggan yang melakukan transaksi daripada kelompok Casual untuk jenis item tersebut. Berlaku sebaliknya bagi kelompok pada jenis item bunting."
   ]
  },
  {
   "cell_type": "markdown",
   "metadata": {},
   "source": [
    "### Uji pada Segment Best dan Big Spend"
   ]
  },
  {
   "cell_type": "markdown",
   "metadata": {},
   "source": [
    "Tabel pertama untuk segment Best dan Big Spend dengan pengujian berdasarkan jenis item yang terjual per harinya.\n",
    "\n",
    "\n",
    "Uji Statistik : Two sample z-test independent\n",
    "\n",
    "Hipotesis :\n",
    "   - H0 = Apabila rata-rata pembelian item tertentu pada segment Best dan Big Spend Sama\n",
    "   - H1 = Apabila rata-rata pembelian item tertentu pada segment Best dan Big Spend Tidak Sama\n",
    "   \n",
    "Alpha : 5% / 0.05"
   ]
  },
  {
   "cell_type": "code",
   "execution_count": 385,
   "metadata": {
    "scrolled": true
   },
   "outputs": [
    {
     "name": "stdout",
     "output_type": "stream",
     "text": [
      "Jenis Item: WHITE HANGING HEART T-LIGHT HOLDER, Segment: Best\n",
      "Jenis Item: WHITE HANGING HEART T-LIGHT HOLDER, Segment: Big Spend\n",
      "p-value:  0.046365710930915016\n",
      "Menolak hipotesis nol: Ada perbedaan yang signifikan di antara proporsinya\n",
      "-----------------------------------------------------------\n",
      "Jenis Item: REGENCY CAKESTAND 3 TIER, Segment: Best\n",
      "Jenis Item: REGENCY CAKESTAND 3 TIER, Segment: Big Spend\n",
      "p-value:  2.0296704306144164e-06\n",
      "Menolak hipotesis nol: Ada perbedaan yang signifikan di antara proporsinya\n",
      "-----------------------------------------------------------\n",
      "Jenis Item: PARTY BUNTING, Segment: Best\n",
      "Jenis Item: PARTY BUNTING, Segment: Big Spend\n",
      "p-value:  0.09421009446085571\n",
      "Gagal untuk menolak hipotesis nol: Tidak ada perbedaan yang signifikan di antara proporsinya\n",
      "-----------------------------------------------------------\n",
      "Jenis Item: ASSORTED COLOUR BIRD ORNAMENT, Segment: Best\n",
      "Jenis Item: ASSORTED COLOUR BIRD ORNAMENT, Segment: Big Spend\n",
      "p-value:  0.006129503330864594\n",
      "Menolak hipotesis nol: Ada perbedaan yang signifikan di antara proporsinya\n",
      "-----------------------------------------------------------\n"
     ]
    }
   ],
   "source": [
    "for event in segment_item.index:\n",
    "    check_event_hypothesis(segment_item, segment_invoice, event, 'Best', 'Big Spend')\n",
    "    print('-----------------------------------------------------------')"
   ]
  },
  {
   "cell_type": "markdown",
   "metadata": {},
   "source": [
    "Hipotesis Kelompok Best dan Big Spend:\n",
    "- Pada jenis item holder, cakestand dan ornament hipotesisnya adalah menolak hipotesis nol dengan p-value di 0.04, 0.02-04, dan 0.006.\n",
    "- Sedangkan pada jenis item bunting nilai p-valuenya 0.09 yang dimana gagal Menolak hipotesis nol.\n",
    "- Pada jenis item bunting memiliki perbedaan yang signifikan di antara proporsinya yang mengindikasikan pelanggan pada proporsi kelompok Best lebih tinggi daripada kelompok Big Spend. Artinya pula pada kelompok Best lebih banyak pelanggan yang melakukan transaksi daripada kelompok Big Spend untuk jenis item tersebut. Berlaku sebaliknya bagi kelompok pada jenis item holder, cakestand dan ornament."
   ]
  },
  {
   "cell_type": "markdown",
   "metadata": {},
   "source": [
    "<a id='kesimpulan'></a>"
   ]
  },
  {
   "cell_type": "markdown",
   "metadata": {},
   "source": [
    "## Kesimpulan Umum"
   ]
  },
  {
   "cell_type": "markdown",
   "metadata": {},
   "source": [
    "Dataset df memiliki total 541909 baris data dan 7 kolom. Kita eliminasi data duplikat beserta nilai missing yang meskipun terdapat 25% nilai missing didalamnya akan tetapi data tersebut nantinya juga tidak dapat digunakan untuk menganalisis profil pelanggan.\n",
    "\n",
    "Poin penting EDA:\n",
    "- Dataset memuat penjualan selama 1 tahun\n",
    "- Pada bulan ke-11 banyak yang melakukan transaksi dengan jumlah 69000 lebih transaksi.\n",
    "- REGENCY CAKESTAND 3 TIER dan WHITE HANGING HEART T-LIGHT HOLDER merupakan item paling laris dari 800 pelanggan berbeda lebih yang membelinya.\n",
    "\n",
    "Poin penting RFM:\n",
    "- Recency: Pelanggan dengan pembelian terbaru terjadi pada satu hingga dua bulan terakhir yang paling banyak.\n",
    "- Frequency: Rata-rata pelanggan melakukan pembelian paling banyak 1-10 item per pelanggan\n",
    "- Monetary: Jumlah rata-rata pelanggan menggunakan uangnya untuk pembelian paling banyak tidak lebih dari 1000 dolar.\n",
    "- Segmentasi: Distribusi pelanggan cukup normal dan cukup baik, mengingat tingkat lost/almost lost/lost cheap pelanggan lebih sedikit dengan tingkat pelanggan best/big spend/lotal maupun casual yang cenderung masih tinggi.\n",
    "\n",
    "Poin penting analisis Item:\n",
    "- Item REGENCY CAKESTAND 3 TIER dan WHITE HANGING HEART T-LIGHT HOLDER merupakan item populer bagi pelanggan pada kelompok Best, Big Spend, dan Casual.\n",
    "- Apabila secara keseluruhan dataset untuk item peringkat ke-3 dan ke-4 ada PARTY BUNTING dan ASSORTED COLOUR BIRD ORNAMENT.\n",
    "\n",
    "Poin penting uji Hipotesis:\n",
    "- Jenis item holder dan bunting hipotesisnya adalah Gagal untuk menolak hipotesis nol baik untuk kelompok Casual dengan Big Spend terhadap segment Best customers.\n",
    "- Sedangkan pada jenis item cakestand dan ornament yang dimana kita Menolak hipotesis nol.\n",
    "- Pada kelompok Best, pelanggan lebih banyak melakukan transaksi daripada kelompok Casual untuk jenis item cakestand dan ornament. Berlaku sebaliknya bagi kelompok pada jenis item holder dan bunting.\n",
    "\n",
    "Berdasarkan hasil dari beberapa poin di atas dan hasil hipotesis kita bisa pastikan untuk target pemasaran yang tepat sasaran yaitu pada segmentasi Best Customers yang dimana cenderung melakukan pembelian untuk item seperti WHITE HANGING HEART T-LIGHT HOLDER sebagai komoditi unggulan. Akan tetapi berdasarkan jumlah transaksinya dan total biaya pengeluaran pelanggan tertinggi bisa juga di fokuskan pada item REGENCY CAKESTAND 3 TIER yang dimana memiliki 289 pelanggan unik dan 12288 dolar total unit price pada riwayat pembeliannya walaupun kuantitasnya sendiri cukup kecil. Sepertinya kita perlu memberikan apresiasi juga terhadap pelanggan terbaik kita agar tetap terjaga statusnya dan bila perlu kita berikan cashback untuk pembelian berikutnya guna untuk bisa lebih sering lagi untuk melakukan transaksi di toko online kita."
   ]
  },
  {
   "cell_type": "markdown",
   "metadata": {},
   "source": [
    "## Daftar Pustaka"
   ]
  },
  {
   "cell_type": "markdown",
   "metadata": {},
   "source": [
    "* Angel Das, 2022, https://towardsdatascience.com/z-test-statistics-formula-python-implementation-3755d67ba0e7\n",
    "* Bala Priya C, 2023, https://www.kdnuggets.com/customer-segmentation-in-python-a-practical-approach\n",
    "* Surendra Tanniru, 2023, https://www.analyticsvidhya.com/blog/2021/07/customer-segmentation-using-rfm-analysis/\n",
    "* Katie Terrell Hanna, 2024, https://www.techtarget.com/searchdatamanagement/definition/RFM-analysis#:~:text=RFM%20analysis%20is%20a%20marketing,and%20perform%20targeted%20marketing%20campaigns.\n",
    "* TripleTen, 2024, https://tripleten.com/trainer/data-analyst/lesson/617e7139-8923-4b05-9cf9-041ba03d0047/task/464cfc6a-06e1-43d4-8f53-d54f60df6359/?from=program"
   ]
  },
  {
   "cell_type": "code",
   "execution_count": null,
   "metadata": {},
   "outputs": [],
   "source": []
  }
 ],
 "metadata": {
  "kernelspec": {
   "display_name": "Python 3 (ipykernel)",
   "language": "python",
   "name": "python3"
  },
  "language_info": {
   "codemirror_mode": {
    "name": "ipython",
    "version": 3
   },
   "file_extension": ".py",
   "mimetype": "text/x-python",
   "name": "python",
   "nbconvert_exporter": "python",
   "pygments_lexer": "ipython3",
   "version": "3.11.4"
  },
  "toc": {
   "base_numbering": 1,
   "nav_menu": {},
   "number_sections": true,
   "sideBar": true,
   "skip_h1_title": true,
   "title_cell": "Table of Contents",
   "title_sidebar": "Contents",
   "toc_cell": false,
   "toc_position": {},
   "toc_section_display": true,
   "toc_window_display": false
  }
 },
 "nbformat": 4,
 "nbformat_minor": 2
}
