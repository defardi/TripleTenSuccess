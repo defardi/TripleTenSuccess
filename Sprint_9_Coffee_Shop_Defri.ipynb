{
 "cells": [
  {
   "cell_type": "markdown",
   "id": "942b6812",
   "metadata": {},
   "source": [
    "# Mencari Peluang untuk Pengembangan Usaha Berbasis Waralaba maupun Nonwaralaba"
   ]
  },
  {
   "cell_type": "markdown",
   "id": "2db0ce25",
   "metadata": {},
   "source": [
    "Kamu telah memutuskan untuk membuka sebuah kafe kecil di Los Angeles. Kafe milikmu bisa dibilang cukup unik karena kamu \"memperkerjakan\" robot sebagai pelayan atau pramusaji. Proyek ini memang menjanjikan, tetapi membutuhkan modal yang besar. Oleh karena itu, kamu dan para mitra memutuskan untuk menarik minat investor agar mau berinvestasi. Mereka tertarik dengan kondisi pasar saat ini—tetapi, apakah kamu bisa mempertahankan kesuksesan saat daya tarik sang robot mulai pudar?\n",
    "\n",
    "Mengingat kamu adalah seorang pakar analisis, para mitra pun memintamu untuk mempersiapkan sejumlah riset pasar. Kamu memiliki data open-source terkait jenis-jenis usaha tempat makan di LA."
   ]
  },
  {
   "cell_type": "markdown",
   "id": "c9746720",
   "metadata": {},
   "source": [
    "Tujuan : Mencari peluang bisnis berdasarkan rekomendasi tentang jenis usaha, jumlah kursi, dan lokasi usahanya."
   ]
  },
  {
   "cell_type": "markdown",
   "id": "41503133",
   "metadata": {},
   "source": [
    "## Deskripsi Data"
   ]
  },
  {
   "cell_type": "markdown",
   "id": "63ddabfc",
   "metadata": {},
   "source": [
    "Dataframe `visits_us` memuat:\n",
    "   - `id` — ID pelanggan\n",
    "   - `object_name` — Nama usaha\n",
    "   - `chain` —  Usaha berbasis waralaba (TRUE/FALSE)\n",
    "   - `object_type` — Jenis usaha\n",
    "   - `addres` —  Alamat\n",
    "   - `number` —  Jumlah kursi"
   ]
  },
  {
   "cell_type": "markdown",
   "id": "a42409af",
   "metadata": {},
   "source": [
    "## Inisialisasi Data"
   ]
  },
  {
   "cell_type": "markdown",
   "id": "a79f5c33",
   "metadata": {},
   "source": [
    "import libraries"
   ]
  },
  {
   "cell_type": "code",
   "execution_count": 73,
   "id": "8c561ab5",
   "metadata": {},
   "outputs": [],
   "source": [
    "import pandas as pd\n",
    "import seaborn as sns\n",
    "import matplotlib.pyplot as plt\n",
    "import plotly.express as px"
   ]
  },
  {
   "cell_type": "markdown",
   "id": "8d8f8a2c",
   "metadata": {},
   "source": [
    "Memuat data"
   ]
  },
  {
   "cell_type": "code",
   "execution_count": 74,
   "id": "c9114932",
   "metadata": {
    "scrolled": false
   },
   "outputs": [],
   "source": [
    "try:\n",
    "    rest_data = pd.read_csv('rest_data_us.csv')\n",
    "except:\n",
    "    rest_data = pd.read_csv('/datasets/rest_data_us.csv')"
   ]
  },
  {
   "cell_type": "markdown",
   "id": "48953419",
   "metadata": {},
   "source": [
    "## Mengenal dan Memperbaiki Data"
   ]
  },
  {
   "cell_type": "markdown",
   "id": "48c59525",
   "metadata": {},
   "source": [
    "Mlihat dan mencari data abnormal"
   ]
  },
  {
   "cell_type": "code",
   "execution_count": 75,
   "id": "d3fccdaa",
   "metadata": {},
   "outputs": [
    {
     "name": "stdout",
     "output_type": "stream",
     "text": [
      "<class 'pandas.core.frame.DataFrame'>\n",
      "RangeIndex: 9651 entries, 0 to 9650\n",
      "Data columns (total 6 columns):\n",
      " #   Column       Non-Null Count  Dtype \n",
      "---  ------       --------------  ----- \n",
      " 0   id           9651 non-null   int64 \n",
      " 1   object_name  9651 non-null   object\n",
      " 2   address      9651 non-null   object\n",
      " 3   chain        9648 non-null   object\n",
      " 4   object_type  9651 non-null   object\n",
      " 5   number       9651 non-null   int64 \n",
      "dtypes: int64(2), object(4)\n",
      "memory usage: 452.5+ KB\n"
     ]
    }
   ],
   "source": [
    "rest_data.info()"
   ]
  },
  {
   "cell_type": "code",
   "execution_count": 76,
   "id": "49576a1e",
   "metadata": {
    "scrolled": true
   },
   "outputs": [
    {
     "data": {
      "text/html": [
       "<div>\n",
       "<style scoped>\n",
       "    .dataframe tbody tr th:only-of-type {\n",
       "        vertical-align: middle;\n",
       "    }\n",
       "\n",
       "    .dataframe tbody tr th {\n",
       "        vertical-align: top;\n",
       "    }\n",
       "\n",
       "    .dataframe thead th {\n",
       "        text-align: right;\n",
       "    }\n",
       "</style>\n",
       "<table border=\"1\" class=\"dataframe\">\n",
       "  <thead>\n",
       "    <tr style=\"text-align: right;\">\n",
       "      <th></th>\n",
       "      <th>id</th>\n",
       "      <th>object_name</th>\n",
       "      <th>address</th>\n",
       "      <th>chain</th>\n",
       "      <th>object_type</th>\n",
       "      <th>number</th>\n",
       "    </tr>\n",
       "  </thead>\n",
       "  <tbody>\n",
       "    <tr>\n",
       "      <th>0</th>\n",
       "      <td>11786</td>\n",
       "      <td>HABITAT COFFEE SHOP</td>\n",
       "      <td>3708 N EAGLE ROCK BLVD</td>\n",
       "      <td>False</td>\n",
       "      <td>Cafe</td>\n",
       "      <td>26</td>\n",
       "    </tr>\n",
       "    <tr>\n",
       "      <th>1</th>\n",
       "      <td>11787</td>\n",
       "      <td>REILLY'S</td>\n",
       "      <td>100 WORLD WAY 120</td>\n",
       "      <td>False</td>\n",
       "      <td>Restaurant</td>\n",
       "      <td>9</td>\n",
       "    </tr>\n",
       "    <tr>\n",
       "      <th>2</th>\n",
       "      <td>11788</td>\n",
       "      <td>STREET CHURROS</td>\n",
       "      <td>6801 HOLLYWOOD BLVD 253</td>\n",
       "      <td>False</td>\n",
       "      <td>Fast Food</td>\n",
       "      <td>20</td>\n",
       "    </tr>\n",
       "    <tr>\n",
       "      <th>3</th>\n",
       "      <td>11789</td>\n",
       "      <td>TRINITI ECHO PARK</td>\n",
       "      <td>1814 W SUNSET BLVD</td>\n",
       "      <td>False</td>\n",
       "      <td>Restaurant</td>\n",
       "      <td>22</td>\n",
       "    </tr>\n",
       "    <tr>\n",
       "      <th>4</th>\n",
       "      <td>11790</td>\n",
       "      <td>POLLEN</td>\n",
       "      <td>2100 ECHO PARK AVE</td>\n",
       "      <td>False</td>\n",
       "      <td>Restaurant</td>\n",
       "      <td>20</td>\n",
       "    </tr>\n",
       "  </tbody>\n",
       "</table>\n",
       "</div>"
      ],
      "text/plain": [
       "      id          object_name                  address  chain object_type  \\\n",
       "0  11786  HABITAT COFFEE SHOP   3708 N EAGLE ROCK BLVD  False        Cafe   \n",
       "1  11787             REILLY'S        100 WORLD WAY 120  False  Restaurant   \n",
       "2  11788       STREET CHURROS  6801 HOLLYWOOD BLVD 253  False   Fast Food   \n",
       "3  11789    TRINITI ECHO PARK       1814 W SUNSET BLVD  False  Restaurant   \n",
       "4  11790               POLLEN       2100 ECHO PARK AVE  False  Restaurant   \n",
       "\n",
       "   number  \n",
       "0      26  \n",
       "1       9  \n",
       "2      20  \n",
       "3      22  \n",
       "4      20  "
      ]
     },
     "execution_count": 76,
     "metadata": {},
     "output_type": "execute_result"
    }
   ],
   "source": [
    "rest_data.head()"
   ]
  },
  {
   "cell_type": "markdown",
   "id": "53705fbe",
   "metadata": {},
   "source": [
    "Tidak terlihat adanya nilai duplikasi"
   ]
  },
  {
   "cell_type": "code",
   "execution_count": 77,
   "id": "b9bbecd0",
   "metadata": {},
   "outputs": [
    {
     "data": {
      "text/plain": [
       "0"
      ]
     },
     "execution_count": 77,
     "metadata": {},
     "output_type": "execute_result"
    }
   ],
   "source": [
    "rest_data.duplicated().sum()"
   ]
  },
  {
   "cell_type": "markdown",
   "id": "3c444f45",
   "metadata": {},
   "source": [
    "Ditemukannya nilai missing pada kolom \"chain\" sejumlah 3 nilai"
   ]
  },
  {
   "cell_type": "code",
   "execution_count": 78,
   "id": "462aad19",
   "metadata": {
    "scrolled": true
   },
   "outputs": [
    {
     "data": {
      "text/html": [
       "<div>\n",
       "<style scoped>\n",
       "    .dataframe tbody tr th:only-of-type {\n",
       "        vertical-align: middle;\n",
       "    }\n",
       "\n",
       "    .dataframe tbody tr th {\n",
       "        vertical-align: top;\n",
       "    }\n",
       "\n",
       "    .dataframe thead th {\n",
       "        text-align: right;\n",
       "    }\n",
       "</style>\n",
       "<table border=\"1\" class=\"dataframe\">\n",
       "  <thead>\n",
       "    <tr style=\"text-align: right;\">\n",
       "      <th></th>\n",
       "      <th>missing_values</th>\n",
       "      <th>% of total</th>\n",
       "    </tr>\n",
       "  </thead>\n",
       "  <tbody>\n",
       "    <tr>\n",
       "      <th>chain</th>\n",
       "      <td>3</td>\n",
       "      <td>0.0</td>\n",
       "    </tr>\n",
       "    <tr>\n",
       "      <th>id</th>\n",
       "      <td>0</td>\n",
       "      <td>0.0</td>\n",
       "    </tr>\n",
       "    <tr>\n",
       "      <th>object_name</th>\n",
       "      <td>0</td>\n",
       "      <td>0.0</td>\n",
       "    </tr>\n",
       "    <tr>\n",
       "      <th>address</th>\n",
       "      <td>0</td>\n",
       "      <td>0.0</td>\n",
       "    </tr>\n",
       "    <tr>\n",
       "      <th>object_type</th>\n",
       "      <td>0</td>\n",
       "      <td>0.0</td>\n",
       "    </tr>\n",
       "    <tr>\n",
       "      <th>number</th>\n",
       "      <td>0</td>\n",
       "      <td>0.0</td>\n",
       "    </tr>\n",
       "  </tbody>\n",
       "</table>\n",
       "</div>"
      ],
      "text/plain": [
       "             missing_values  % of total\n",
       "chain                     3         0.0\n",
       "id                        0         0.0\n",
       "object_name               0         0.0\n",
       "address                   0         0.0\n",
       "object_type               0         0.0\n",
       "number                    0         0.0"
      ]
     },
     "execution_count": 78,
     "metadata": {},
     "output_type": "execute_result"
    }
   ],
   "source": [
    "report_null = rest_data.isnull().sum().to_frame()\n",
    "report_null = report_null.rename(columns={0:'missing_values'})\n",
    "report_null['% of total'] = (report_null['missing_values'] / rest_data.shape[0]).round(2)\n",
    "report_null.sort_values(by='missing_values', ascending=False)"
   ]
  },
  {
   "cell_type": "markdown",
   "id": "c40dad62",
   "metadata": {},
   "source": [
    "Kita eliminasi nilai tersebut dengan dropna"
   ]
  },
  {
   "cell_type": "code",
   "execution_count": 79,
   "id": "d6bfeef5",
   "metadata": {},
   "outputs": [],
   "source": [
    "rest_data = rest_data.dropna()"
   ]
  },
  {
   "cell_type": "markdown",
   "id": "ceda432c",
   "metadata": {},
   "source": [
    "Kita ubah tipe data pada kolom \"chain\" dengan boolean"
   ]
  },
  {
   "cell_type": "code",
   "execution_count": 80,
   "id": "a56eee57",
   "metadata": {},
   "outputs": [],
   "source": [
    "rest_data['chain'] = rest_data['chain'].astype('bool')"
   ]
  },
  {
   "cell_type": "markdown",
   "id": "c326ebc8",
   "metadata": {},
   "source": [
    "## Analisis Data"
   ]
  },
  {
   "cell_type": "markdown",
   "id": "03275bf6",
   "metadata": {},
   "source": [
    "### Mempelajari Data"
   ]
  },
  {
   "cell_type": "markdown",
   "id": "2f792cfb",
   "metadata": {},
   "source": [
    "KIta akan mencari jumlah usaha pada tiap-tiap jenis usahannya"
   ]
  },
  {
   "cell_type": "code",
   "execution_count": 81,
   "id": "0369c6c3",
   "metadata": {
    "scrolled": true
   },
   "outputs": [
    {
     "data": {
      "text/html": [
       "<div>\n",
       "<style scoped>\n",
       "    .dataframe tbody tr th:only-of-type {\n",
       "        vertical-align: middle;\n",
       "    }\n",
       "\n",
       "    .dataframe tbody tr th {\n",
       "        vertical-align: top;\n",
       "    }\n",
       "\n",
       "    .dataframe thead th {\n",
       "        text-align: right;\n",
       "    }\n",
       "</style>\n",
       "<table border=\"1\" class=\"dataframe\">\n",
       "  <thead>\n",
       "    <tr style=\"text-align: right;\">\n",
       "      <th></th>\n",
       "      <th>object_type</th>\n",
       "      <th>count</th>\n",
       "    </tr>\n",
       "  </thead>\n",
       "  <tbody>\n",
       "    <tr>\n",
       "      <th>0</th>\n",
       "      <td>Bakery</td>\n",
       "      <td>283</td>\n",
       "    </tr>\n",
       "    <tr>\n",
       "      <th>1</th>\n",
       "      <td>Bar</td>\n",
       "      <td>292</td>\n",
       "    </tr>\n",
       "    <tr>\n",
       "      <th>2</th>\n",
       "      <td>Cafe</td>\n",
       "      <td>435</td>\n",
       "    </tr>\n",
       "    <tr>\n",
       "      <th>3</th>\n",
       "      <td>Fast Food</td>\n",
       "      <td>1066</td>\n",
       "    </tr>\n",
       "    <tr>\n",
       "      <th>4</th>\n",
       "      <td>Pizza</td>\n",
       "      <td>319</td>\n",
       "    </tr>\n",
       "    <tr>\n",
       "      <th>5</th>\n",
       "      <td>Restaurant</td>\n",
       "      <td>7253</td>\n",
       "    </tr>\n",
       "  </tbody>\n",
       "</table>\n",
       "</div>"
      ],
      "text/plain": [
       "  object_type  count\n",
       "0      Bakery    283\n",
       "1         Bar    292\n",
       "2        Cafe    435\n",
       "3   Fast Food   1066\n",
       "4       Pizza    319\n",
       "5  Restaurant   7253"
      ]
     },
     "execution_count": 81,
     "metadata": {},
     "output_type": "execute_result"
    }
   ],
   "source": [
    "chain_type = rest_data.groupby(['object_type']).agg({'id': 'count'}).reset_index()\n",
    "chain_type.columns = ['object_type', 'count']\n",
    "chain_type"
   ]
  },
  {
   "cell_type": "code",
   "execution_count": 82,
   "id": "53e0dc2c",
   "metadata": {
    "scrolled": false
   },
   "outputs": [
    {
     "data": {
      "image/png": "[encoded data removed]",
      "text/plain": [
       "<Figure size 720x360 with 1 Axes>"
      ]
     },
     "metadata": {},
     "output_type": "display_data"
    }
   ],
   "source": [
    "plt.figure(figsize=(10, 5))\n",
    "plt.title('Jenis Usaha Restaurant Lebih Mendominasi dari Usaha lain')\n",
    "plt.pie(chain_type['count'], labels=chain_type['object_type'], autopct='%.1f%%')\n",
    "plt.show()"
   ]
  },
  {
   "cell_type": "markdown",
   "id": "d660cc97",
   "metadata": {},
   "source": [
    "Proporsi Jenis Usaha:\n",
    "1. Restaurant yang memiliki nilai paling tinggi dengan 75%, lalu diikuti dengan Fast food (11%).\n",
    "2. Bakery yang memiliki nilai paling rendah dengan 2,9% saja\n",
    "3. Tempat makan jauh lebih banyak daripada toko roti, apakah orang US tidak suka ke toko roti? mungkin lebih kepada habitnya orang untuk makan sehari-hari cenderung ke restaurant daripada bakery."
   ]
  },
  {
   "cell_type": "markdown",
   "id": "2014a929",
   "metadata": {},
   "source": [
    "Mencari tahu setiap waralaba dan nonwaralaba untuk setiap jenis usaha yang ada"
   ]
  },
  {
   "cell_type": "code",
   "execution_count": 83,
   "id": "61c977cc",
   "metadata": {},
   "outputs": [
    {
     "data": {
      "text/html": [
       "<div>\n",
       "<style scoped>\n",
       "    .dataframe tbody tr th:only-of-type {\n",
       "        vertical-align: middle;\n",
       "    }\n",
       "\n",
       "    .dataframe tbody tr th {\n",
       "        vertical-align: top;\n",
       "    }\n",
       "\n",
       "    .dataframe thead th {\n",
       "        text-align: right;\n",
       "    }\n",
       "</style>\n",
       "<table border=\"1\" class=\"dataframe\">\n",
       "  <thead>\n",
       "    <tr style=\"text-align: right;\">\n",
       "      <th></th>\n",
       "      <th>object_type</th>\n",
       "      <th>chain</th>\n",
       "      <th>count</th>\n",
       "    </tr>\n",
       "  </thead>\n",
       "  <tbody>\n",
       "    <tr>\n",
       "      <th>9</th>\n",
       "      <td>Restaurant</td>\n",
       "      <td>False</td>\n",
       "      <td>4961</td>\n",
       "    </tr>\n",
       "    <tr>\n",
       "      <th>10</th>\n",
       "      <td>Restaurant</td>\n",
       "      <td>True</td>\n",
       "      <td>2292</td>\n",
       "    </tr>\n",
       "    <tr>\n",
       "      <th>6</th>\n",
       "      <td>Fast Food</td>\n",
       "      <td>True</td>\n",
       "      <td>605</td>\n",
       "    </tr>\n",
       "    <tr>\n",
       "      <th>5</th>\n",
       "      <td>Fast Food</td>\n",
       "      <td>False</td>\n",
       "      <td>461</td>\n",
       "    </tr>\n",
       "    <tr>\n",
       "      <th>0</th>\n",
       "      <td>Bakery</td>\n",
       "      <td>True</td>\n",
       "      <td>283</td>\n",
       "    </tr>\n",
       "    <tr>\n",
       "      <th>4</th>\n",
       "      <td>Cafe</td>\n",
       "      <td>True</td>\n",
       "      <td>266</td>\n",
       "    </tr>\n",
       "    <tr>\n",
       "      <th>1</th>\n",
       "      <td>Bar</td>\n",
       "      <td>False</td>\n",
       "      <td>215</td>\n",
       "    </tr>\n",
       "    <tr>\n",
       "      <th>3</th>\n",
       "      <td>Cafe</td>\n",
       "      <td>False</td>\n",
       "      <td>169</td>\n",
       "    </tr>\n",
       "    <tr>\n",
       "      <th>7</th>\n",
       "      <td>Pizza</td>\n",
       "      <td>False</td>\n",
       "      <td>166</td>\n",
       "    </tr>\n",
       "    <tr>\n",
       "      <th>8</th>\n",
       "      <td>Pizza</td>\n",
       "      <td>True</td>\n",
       "      <td>153</td>\n",
       "    </tr>\n",
       "    <tr>\n",
       "      <th>2</th>\n",
       "      <td>Bar</td>\n",
       "      <td>True</td>\n",
       "      <td>77</td>\n",
       "    </tr>\n",
       "  </tbody>\n",
       "</table>\n",
       "</div>"
      ],
      "text/plain": [
       "   object_type  chain  count\n",
       "9   Restaurant  False   4961\n",
       "10  Restaurant   True   2292\n",
       "6    Fast Food   True    605\n",
       "5    Fast Food  False    461\n",
       "0       Bakery   True    283\n",
       "4         Cafe   True    266\n",
       "1          Bar  False    215\n",
       "3         Cafe  False    169\n",
       "7        Pizza  False    166\n",
       "8        Pizza   True    153\n",
       "2          Bar   True     77"
      ]
     },
     "execution_count": 83,
     "metadata": {},
     "output_type": "execute_result"
    }
   ],
   "source": [
    "count_type = rest_data.groupby(['object_type', 'chain']).agg({'id': 'count'}).reset_index()\n",
    "count_type.columns = ['object_type', 'chain', 'count']\n",
    "count_type.sort_values(by='count', ascending=False)"
   ]
  },
  {
   "cell_type": "code",
   "execution_count": 84,
   "id": "b2c61cff",
   "metadata": {
    "scrolled": false
   },
   "outputs": [
    {
     "data": {
      "image/png": "[encoded data removed]",
      "text/plain": [
       "<Figure size 720x432 with 1 Axes>"
      ]
     },
     "metadata": {
      "needs_background": "light"
     },
     "output_type": "display_data"
    }
   ],
   "source": [
    "plt.figure(figsize=(10, 6))\n",
    "plt.title('Jenis Usaha Berbasis Waralaba dan Nonwaralaba')\n",
    "sns.barplot(data=count_type.sort_values(by='count', ascending=False), x='object_type', y='count', hue='chain')\n",
    "plt.show()"
   ]
  },
  {
   "cell_type": "markdown",
   "id": "6d1b5788",
   "metadata": {},
   "source": [
    "Proporsi Jenis Usaha:\n",
    "1. Restaurant yang memiliki jumlah usaha waralaba paling banyak dengan 2292, dan nonwaralaba 4961  outlet.\n",
    "2. Bar yang memiliki jumlah usaha waralaba paling rendah dengan 77, dan Pizza untuk nonwaralaba 166.\n",
    "3. Kita dapat melihat untuk bakery tidak memiliki usaha nonwaralaba, sepertinya jenis usaha seperti ini memang lebih cocok untuk usaha nonwaralaba."
   ]
  },
  {
   "cell_type": "markdown",
   "id": "49a01138",
   "metadata": {},
   "source": [
    "Melihat proporsi usaha waralaba dan nonwaralaba "
   ]
  },
  {
   "cell_type": "code",
   "execution_count": 85,
   "id": "aefd2d5f",
   "metadata": {
    "scrolled": true
   },
   "outputs": [
    {
     "data": {
      "text/html": [
       "<div>\n",
       "<style scoped>\n",
       "    .dataframe tbody tr th:only-of-type {\n",
       "        vertical-align: middle;\n",
       "    }\n",
       "\n",
       "    .dataframe tbody tr th {\n",
       "        vertical-align: top;\n",
       "    }\n",
       "\n",
       "    .dataframe thead th {\n",
       "        text-align: right;\n",
       "    }\n",
       "</style>\n",
       "<table border=\"1\" class=\"dataframe\">\n",
       "  <thead>\n",
       "    <tr style=\"text-align: right;\">\n",
       "      <th></th>\n",
       "      <th>chain</th>\n",
       "      <th>id</th>\n",
       "    </tr>\n",
       "  </thead>\n",
       "  <tbody>\n",
       "    <tr>\n",
       "      <th>0</th>\n",
       "      <td>False</td>\n",
       "      <td>5972</td>\n",
       "    </tr>\n",
       "    <tr>\n",
       "      <th>1</th>\n",
       "      <td>True</td>\n",
       "      <td>3676</td>\n",
       "    </tr>\n",
       "  </tbody>\n",
       "</table>\n",
       "</div>"
      ],
      "text/plain": [
       "   chain    id\n",
       "0  False  5972\n",
       "1   True  3676"
      ]
     },
     "execution_count": 85,
     "metadata": {},
     "output_type": "execute_result"
    }
   ],
   "source": [
    "rest_chain = rest_data.groupby('chain')['id'].count().reset_index()\n",
    "rest_chain"
   ]
  },
  {
   "cell_type": "code",
   "execution_count": 86,
   "id": "e55386ad",
   "metadata": {
    "scrolled": true
   },
   "outputs": [
    {
     "data": {
      "image/png": "[encoded data removed]",
      "text/plain": [
       "<Figure size 720x360 with 1 Axes>"
      ]
     },
     "metadata": {},
     "output_type": "display_data"
    }
   ],
   "source": [
    "plt.figure(figsize=(10, 5))\n",
    "plt.title('Usaha Berbasis Nonwaralaba Dominan')\n",
    "plt.pie(rest_chain['id'], labels=rest_chain['chain'], autopct='%.1f%%')\n",
    "plt.show()"
   ]
  },
  {
   "cell_type": "markdown",
   "id": "bf00abd9",
   "metadata": {},
   "source": [
    "Proporsi usaha:\n",
    "1. Usaha Non-waralaba jauh lebih dominan dengan presentase 61,9% di US\n",
    "2. Sedangkan untuk Usaha Waralaba memiliki presentase 38,1%\n",
    "3. Apakah usaha-usaha ini terdapat di satu titik wilayah kota atau terbagi di beberapa wilayah?"
   ]
  },
  {
   "cell_type": "markdown",
   "id": "2ca6a376",
   "metadata": {},
   "source": [
    "Mencari rasio jenis usaha berbasis waralaba maupun nonwaralaba"
   ]
  },
  {
   "cell_type": "code",
   "execution_count": 87,
   "id": "a8131212",
   "metadata": {},
   "outputs": [
    {
     "data": {
      "text/html": [
       "<div>\n",
       "<style scoped>\n",
       "    .dataframe tbody tr th:only-of-type {\n",
       "        vertical-align: middle;\n",
       "    }\n",
       "\n",
       "    .dataframe tbody tr th {\n",
       "        vertical-align: top;\n",
       "    }\n",
       "\n",
       "    .dataframe thead th {\n",
       "        text-align: right;\n",
       "    }\n",
       "</style>\n",
       "<table border=\"1\" class=\"dataframe\">\n",
       "  <thead>\n",
       "    <tr style=\"text-align: right;\">\n",
       "      <th>chain</th>\n",
       "      <th>object_type</th>\n",
       "      <th>False</th>\n",
       "      <th>True</th>\n",
       "      <th>All</th>\n",
       "      <th>ratio</th>\n",
       "    </tr>\n",
       "  </thead>\n",
       "  <tbody>\n",
       "    <tr>\n",
       "      <th>0</th>\n",
       "      <td>Bakery</td>\n",
       "      <td>0.0</td>\n",
       "      <td>283.0</td>\n",
       "      <td>283</td>\n",
       "      <td>100.00</td>\n",
       "    </tr>\n",
       "    <tr>\n",
       "      <th>1</th>\n",
       "      <td>Bar</td>\n",
       "      <td>215.0</td>\n",
       "      <td>77.0</td>\n",
       "      <td>292</td>\n",
       "      <td>26.37</td>\n",
       "    </tr>\n",
       "    <tr>\n",
       "      <th>2</th>\n",
       "      <td>Cafe</td>\n",
       "      <td>169.0</td>\n",
       "      <td>266.0</td>\n",
       "      <td>435</td>\n",
       "      <td>61.15</td>\n",
       "    </tr>\n",
       "    <tr>\n",
       "      <th>3</th>\n",
       "      <td>Fast Food</td>\n",
       "      <td>461.0</td>\n",
       "      <td>605.0</td>\n",
       "      <td>1066</td>\n",
       "      <td>56.75</td>\n",
       "    </tr>\n",
       "    <tr>\n",
       "      <th>4</th>\n",
       "      <td>Pizza</td>\n",
       "      <td>166.0</td>\n",
       "      <td>153.0</td>\n",
       "      <td>319</td>\n",
       "      <td>47.96</td>\n",
       "    </tr>\n",
       "    <tr>\n",
       "      <th>5</th>\n",
       "      <td>Restaurant</td>\n",
       "      <td>4961.0</td>\n",
       "      <td>2292.0</td>\n",
       "      <td>7253</td>\n",
       "      <td>31.60</td>\n",
       "    </tr>\n",
       "  </tbody>\n",
       "</table>\n",
       "</div>"
      ],
      "text/plain": [
       "chain object_type   False    True   All   ratio\n",
       "0          Bakery     0.0   283.0   283  100.00\n",
       "1             Bar   215.0    77.0   292   26.37\n",
       "2            Cafe   169.0   266.0   435   61.15\n",
       "3       Fast Food   461.0   605.0  1066   56.75\n",
       "4           Pizza   166.0   153.0   319   47.96\n",
       "5      Restaurant  4961.0  2292.0  7253   31.60"
      ]
     },
     "execution_count": 87,
     "metadata": {},
     "output_type": "execute_result"
    }
   ],
   "source": [
    "chain = pd.pivot_table(rest_data, values ='id', index = 'object_type',\n",
    "                                columns = 'chain', aggfunc='count', margins=True)\n",
    "chain = chain[:6].fillna(0).reset_index()\n",
    "chain['ratio'] = round(chain[True] / chain['All'] * 100, 2)\n",
    "chain"
   ]
  },
  {
   "cell_type": "code",
   "execution_count": 88,
   "id": "4aabbbd5",
   "metadata": {
    "scrolled": true
   },
   "outputs": [
    {
     "data": {
      "image/png": "[encoded data removed]",
      "text/plain": [
       "<Figure size 720x360 with 1 Axes>"
      ]
     },
     "metadata": {
      "needs_background": "light"
     },
     "output_type": "display_data"
    }
   ],
   "source": [
    "plt.figure(figsize=(10, 5))\n",
    "plt.title('Jenis Usaha Berbasis Waralaba')\n",
    "sns.barplot(data=chain.sort_values(by='ratio', ascending=False), x='object_type', y='ratio')\n",
    "plt.show()"
   ]
  },
  {
   "cell_type": "markdown",
   "id": "4a46ab6b",
   "metadata": {},
   "source": [
    "Jenis usaha basis waralaba:\n",
    "1. Bakery merupakan usaha yang memang berbasis waralaba dengan rasio 100%.\n",
    "2. Sedangkan jenis usaha Bar memiliki jumlah rasio 26% waralaba saja.\n",
    "3. Berdasarkan hasil rasio waralaba kita jadi tahu restaurant yang sebelumnya memimpin untuk jumlah usaha terbanyak ternyata tidak lebih tinggi dari bakery."
   ]
  },
  {
   "cell_type": "markdown",
   "id": "bffc2a47",
   "metadata": {},
   "source": [
    "Melihat persebaran jumlah kursi dengan tempatnya berdasarkan usaha waralaba"
   ]
  },
  {
   "cell_type": "code",
   "execution_count": 89,
   "id": "8539dea0",
   "metadata": {
    "scrolled": true
   },
   "outputs": [],
   "source": [
    "waralaba = rest_data[rest_data['chain']==True]"
   ]
  },
  {
   "cell_type": "code",
   "execution_count": 90,
   "id": "076b357c",
   "metadata": {
    "scrolled": false
   },
   "outputs": [
    {
     "data": {
      "text/plain": [
       "THE COFFEE BEAN & TEA LEAF    47\n",
       "SUBWAY                        31\n",
       "DOMINO'S PIZZA                15\n",
       "WABA GRILL                    14\n",
       "KENTUCKY FRIED CHICKEN        14\n",
       "Name: object_name, dtype: int64"
      ]
     },
     "execution_count": 90,
     "metadata": {},
     "output_type": "execute_result"
    }
   ],
   "source": [
    "waralaba['object_name'].value_counts().head()"
   ]
  },
  {
   "cell_type": "code",
   "execution_count": 91,
   "id": "d110d0bc",
   "metadata": {
    "scrolled": true
   },
   "outputs": [
    {
     "data": {
      "image/png": "[encoded data removed]",
      "text/plain": [
       "<Figure size 720x360 with 1 Axes>"
      ]
     },
     "metadata": {
      "needs_background": "light"
     },
     "output_type": "display_data"
    }
   ],
   "source": [
    "plt.figure(figsize=(10, 5))\n",
    "plt.title('Waralaba: Memiliki banyak tempat dengan jumlah kursi yang sedikit')\n",
    "plt.xlabel('Jumlah Kursi')\n",
    "sns.histplot(data=waralaba['number'])\n",
    "plt.show()"
   ]
  },
  {
   "cell_type": "markdown",
   "id": "bea0f6cc",
   "metadata": {},
   "source": [
    "Ciri-ciri pada usaha berbasis waralaba:\n",
    "1. Jumlah tempatnya banyak dengan sedikit kursi.\n",
    "2. Persebaran data paling banyak pada angka 0 - 50, menandakan tipikal usaha waralaba lebih banyak tempat usahanya pada jumlah kursi yang sedikit, daripada jumlah waralaba sedikit dengan jumlah kursi yang banyak"
   ]
  },
  {
   "cell_type": "code",
   "execution_count": 92,
   "id": "dabc133a",
   "metadata": {
    "scrolled": false
   },
   "outputs": [
    {
     "data": {
      "image/png": "[encoded data removed]",
      "text/plain": [
       "<Figure size 748.8x514.8 with 2 Axes>"
      ]
     },
     "metadata": {
      "needs_background": "light"
     },
     "output_type": "display_data"
    }
   ],
   "source": [
    "correlation = waralaba.groupby('object_name').agg({'id':'count', 'number':['median','mean']}).corr()\n",
    "sns.heatmap(correlation, annot=True)\n",
    "plt.show()"
   ]
  },
  {
   "cell_type": "markdown",
   "id": "88b2f233",
   "metadata": {},
   "source": [
    "Korelasi jumlah tempat usaha dengan jumlah kursi pada usaha berbasis waralaba:\n",
    "1. Berdasarkan jumlah rata-ratanya nilai korelasinya cukup rendah di 0.036\n",
    "2. Berdasarkan jumlah median nilai korelasinya juga cukup rendah di 0.041"
   ]
  },
  {
   "cell_type": "markdown",
   "id": "f4dd126b",
   "metadata": {},
   "source": [
    "Mencari jumlah rata-rata kursi untuk setiap jenis usahanya"
   ]
  },
  {
   "cell_type": "code",
   "execution_count": 93,
   "id": "b651f726",
   "metadata": {
    "scrolled": true
   },
   "outputs": [
    {
     "data": {
      "text/html": [
       "<div>\n",
       "<style scoped>\n",
       "    .dataframe tbody tr th:only-of-type {\n",
       "        vertical-align: middle;\n",
       "    }\n",
       "\n",
       "    .dataframe tbody tr th {\n",
       "        vertical-align: top;\n",
       "    }\n",
       "\n",
       "    .dataframe thead th {\n",
       "        text-align: right;\n",
       "    }\n",
       "</style>\n",
       "<table border=\"1\" class=\"dataframe\">\n",
       "  <thead>\n",
       "    <tr style=\"text-align: right;\">\n",
       "      <th></th>\n",
       "      <th>object_type</th>\n",
       "      <th>mean</th>\n",
       "      <th>median</th>\n",
       "    </tr>\n",
       "  </thead>\n",
       "  <tbody>\n",
       "    <tr>\n",
       "      <th>5</th>\n",
       "      <td>Restaurant</td>\n",
       "      <td>48.048807</td>\n",
       "      <td>29.0</td>\n",
       "    </tr>\n",
       "    <tr>\n",
       "      <th>1</th>\n",
       "      <td>Bar</td>\n",
       "      <td>44.767123</td>\n",
       "      <td>28.5</td>\n",
       "    </tr>\n",
       "    <tr>\n",
       "      <th>3</th>\n",
       "      <td>Fast Food</td>\n",
       "      <td>31.837711</td>\n",
       "      <td>21.0</td>\n",
       "    </tr>\n",
       "    <tr>\n",
       "      <th>4</th>\n",
       "      <td>Pizza</td>\n",
       "      <td>28.545455</td>\n",
       "      <td>19.0</td>\n",
       "    </tr>\n",
       "    <tr>\n",
       "      <th>2</th>\n",
       "      <td>Cafe</td>\n",
       "      <td>25.000000</td>\n",
       "      <td>21.0</td>\n",
       "    </tr>\n",
       "    <tr>\n",
       "      <th>0</th>\n",
       "      <td>Bakery</td>\n",
       "      <td>21.773852</td>\n",
       "      <td>18.0</td>\n",
       "    </tr>\n",
       "  </tbody>\n",
       "</table>\n",
       "</div>"
      ],
      "text/plain": [
       "  object_type       mean  median\n",
       "5  Restaurant  48.048807    29.0\n",
       "1         Bar  44.767123    28.5\n",
       "3   Fast Food  31.837711    21.0\n",
       "4       Pizza  28.545455    19.0\n",
       "2        Cafe  25.000000    21.0\n",
       "0      Bakery  21.773852    18.0"
      ]
     },
     "execution_count": 93,
     "metadata": {},
     "output_type": "execute_result"
    }
   ],
   "source": [
    "avg_number = rest_data.groupby('object_type').agg({'number': ['mean', 'median']}).reset_index().sort_values(by=('number', 'mean'), ascending=False)\n",
    "avg_number.columns = ['object_type', 'mean', 'median']\n",
    "avg_number"
   ]
  },
  {
   "cell_type": "code",
   "execution_count": 94,
   "id": "9b0d9ba7",
   "metadata": {
    "scrolled": true
   },
   "outputs": [
    {
     "data": {
      "image/png": "[encoded data removed]",
      "text/plain": [
       "<Figure size 720x360 with 1 Axes>"
      ]
     },
     "metadata": {
      "needs_background": "light"
     },
     "output_type": "display_data"
    }
   ],
   "source": [
    "plt.figure(figsize=(10, 5))\n",
    "plt.title('Jumlah Rata-rata Kursi untuk Jenis Usaha')\n",
    "plt.bar(avg_number['object_type'], avg_number['mean'])\n",
    "plt.style.use('seaborn-talk')\n",
    "plt.show()"
   ]
  },
  {
   "cell_type": "markdown",
   "id": "b3b6a6db",
   "metadata": {},
   "source": [
    "Jumlah Rata-rata Kursi untuk Jenis Usaha:\n",
    "1. Pemilik kursi terbanyak ada Restaurant dengan jumlah 48 kursi\n",
    "2. Nilainya tidak terpaut jauh dari yang lain, akan tetapi persebarannya belum diketahui"
   ]
  },
  {
   "cell_type": "markdown",
   "id": "3c2ca032",
   "metadata": {},
   "source": [
    "### Menentukan Parameter"
   ]
  },
  {
   "cell_type": "markdown",
   "id": "f5701675",
   "metadata": {},
   "source": [
    "Mencari tahu jumlah usaha berdasarkan alamat usaha (address) serta mendapatkan 10 usaha teratasnya"
   ]
  },
  {
   "cell_type": "markdown",
   "id": "6d34bf66",
   "metadata": {},
   "source": [
    "Disini kita iris hanya nama jalannya saja"
   ]
  },
  {
   "cell_type": "code",
   "execution_count": 95,
   "id": "755a3c8c",
   "metadata": {
    "scrolled": true
   },
   "outputs": [],
   "source": [
    "df_address = rest_data['address'].apply(lambda x: ' '.join(x.split(' ')[1:])).to_frame()\n",
    "df_address = df_address['address'].apply(lambda x: ''.join(x.split(' # ')[0])).to_frame()\n",
    "df_address = df_address['address'].apply(lambda x: ''.join(x.split('#')[0])).to_frame()\n",
    "df_address['count'] = 1"
   ]
  },
  {
   "cell_type": "code",
   "execution_count": 96,
   "id": "a868cbd0",
   "metadata": {
    "scrolled": true
   },
   "outputs": [
    {
     "data": {
      "text/html": [
       "<div>\n",
       "<style scoped>\n",
       "    .dataframe tbody tr th:only-of-type {\n",
       "        vertical-align: middle;\n",
       "    }\n",
       "\n",
       "    .dataframe tbody tr th {\n",
       "        vertical-align: top;\n",
       "    }\n",
       "\n",
       "    .dataframe thead th {\n",
       "        text-align: right;\n",
       "    }\n",
       "</style>\n",
       "<table border=\"1\" class=\"dataframe\">\n",
       "  <thead>\n",
       "    <tr style=\"text-align: right;\">\n",
       "      <th></th>\n",
       "      <th>address</th>\n",
       "      <th>count</th>\n",
       "    </tr>\n",
       "  </thead>\n",
       "  <tbody>\n",
       "    <tr>\n",
       "      <th>0</th>\n",
       "      <td>W SUNSET BLVD</td>\n",
       "      <td>296</td>\n",
       "    </tr>\n",
       "    <tr>\n",
       "      <th>1</th>\n",
       "      <td>W PICO BLVD</td>\n",
       "      <td>288</td>\n",
       "    </tr>\n",
       "    <tr>\n",
       "      <th>2</th>\n",
       "      <td>HOLLYWOOD BLVD</td>\n",
       "      <td>167</td>\n",
       "    </tr>\n",
       "    <tr>\n",
       "      <th>3</th>\n",
       "      <td>WILSHIRE BLVD</td>\n",
       "      <td>161</td>\n",
       "    </tr>\n",
       "    <tr>\n",
       "      <th>4</th>\n",
       "      <td>S VERMONT AVE</td>\n",
       "      <td>148</td>\n",
       "    </tr>\n",
       "    <tr>\n",
       "      <th>5</th>\n",
       "      <td>SANTA MONICA BLVD</td>\n",
       "      <td>146</td>\n",
       "    </tr>\n",
       "    <tr>\n",
       "      <th>6</th>\n",
       "      <td>W 3RD ST</td>\n",
       "      <td>145</td>\n",
       "    </tr>\n",
       "    <tr>\n",
       "      <th>7</th>\n",
       "      <td>BEVERLY BLVD</td>\n",
       "      <td>135</td>\n",
       "    </tr>\n",
       "    <tr>\n",
       "      <th>8</th>\n",
       "      <td>S FIGUEROA ST</td>\n",
       "      <td>134</td>\n",
       "    </tr>\n",
       "    <tr>\n",
       "      <th>9</th>\n",
       "      <td>S WESTERN AVE</td>\n",
       "      <td>128</td>\n",
       "    </tr>\n",
       "  </tbody>\n",
       "</table>\n",
       "</div>"
      ],
      "text/plain": [
       "             address  count\n",
       "0      W SUNSET BLVD    296\n",
       "1        W PICO BLVD    288\n",
       "2     HOLLYWOOD BLVD    167\n",
       "3      WILSHIRE BLVD    161\n",
       "4      S VERMONT AVE    148\n",
       "5  SANTA MONICA BLVD    146\n",
       "6           W 3RD ST    145\n",
       "7       BEVERLY BLVD    135\n",
       "8      S FIGUEROA ST    134\n",
       "9      S WESTERN AVE    128"
      ]
     },
     "execution_count": 96,
     "metadata": {},
     "output_type": "execute_result"
    }
   ],
   "source": [
    "top10_address = df_address.groupby('address').count().sort_values(by='count', ascending = False)[0:10].reset_index()\n",
    "top10_address"
   ]
  },
  {
   "cell_type": "code",
   "execution_count": 97,
   "id": "1cda6289",
   "metadata": {
    "scrolled": false
   },
   "outputs": [
    {
     "data": {
      "image/png": "[encoded data removed]",
      "text/plain": [
       "<Figure size 720x432 with 1 Axes>"
      ]
     },
     "metadata": {
      "needs_background": "light"
     },
     "output_type": "display_data"
    }
   ],
   "source": [
    "plt.figure(figsize=(10, 6))\n",
    "plt.title('TOP 10 Nama Jalan berdasarkan Jumlah Usaha')\n",
    "bar = sns.barplot(data=top10_address, x='count', y='address')\n",
    "plt.show()"
   ]
  },
  {
   "cell_type": "markdown",
   "id": "e2bdd6b2",
   "metadata": {},
   "source": [
    "10 Nama Jalan Teratas berdasarkan Jumlah Usaha:\n",
    "1. Peringkat pertama ada nama jalan \"W SUNSET BLVD\" dengan jumlah total outlet 296, lalu ada \"W SUNSET BLVD\" (288).\n",
    "2. Di peringkat 10 ada \"S WESTERN AVE\" dengan total 128 outlet.\n",
    "3. Baik nama jalan \"W SUNSET BLVD\" dan \"W SUNSET BLVD\" memiliki jumlah outlet yang terpaut jauh dengan yang lain, ini mengindikasikan lokasi tersebut besar kemungkinan daerah kota yang padat penduduk."
   ]
  },
  {
   "cell_type": "markdown",
   "id": "7e0cf1dc",
   "metadata": {},
   "source": [
    "Mencari nama jalan yang hanya memiliki 1 usaha di setiap lokasinya"
   ]
  },
  {
   "cell_type": "code",
   "execution_count": 98,
   "id": "23e2120d",
   "metadata": {
    "scrolled": true
   },
   "outputs": [
    {
     "data": {
      "text/html": [
       "<div>\n",
       "<style scoped>\n",
       "    .dataframe tbody tr th:only-of-type {\n",
       "        vertical-align: middle;\n",
       "    }\n",
       "\n",
       "    .dataframe tbody tr th {\n",
       "        vertical-align: top;\n",
       "    }\n",
       "\n",
       "    .dataframe thead th {\n",
       "        text-align: right;\n",
       "    }\n",
       "</style>\n",
       "<table border=\"1\" class=\"dataframe\">\n",
       "  <thead>\n",
       "    <tr style=\"text-align: right;\">\n",
       "      <th></th>\n",
       "      <th>address</th>\n",
       "      <th>count</th>\n",
       "    </tr>\n",
       "  </thead>\n",
       "  <tbody>\n",
       "    <tr>\n",
       "      <th>0</th>\n",
       "      <td>1/2 3RD ST</td>\n",
       "      <td>1</td>\n",
       "    </tr>\n",
       "    <tr>\n",
       "      <th>1</th>\n",
       "      <td>SANTA ROSALIA DR F</td>\n",
       "      <td>1</td>\n",
       "    </tr>\n",
       "    <tr>\n",
       "      <th>2</th>\n",
       "      <td>SANTA MONICA BLVD STE D</td>\n",
       "      <td>1</td>\n",
       "    </tr>\n",
       "    <tr>\n",
       "      <th>3</th>\n",
       "      <td>SANTA MONICA BLVD STE FC3</td>\n",
       "      <td>1</td>\n",
       "    </tr>\n",
       "    <tr>\n",
       "      <th>4</th>\n",
       "      <td>SANTA MONICA BLVD STE FC4</td>\n",
       "      <td>1</td>\n",
       "    </tr>\n",
       "    <tr>\n",
       "      <th>5</th>\n",
       "      <td>SANTA MONICA BLVD STE FC5</td>\n",
       "      <td>1</td>\n",
       "    </tr>\n",
       "    <tr>\n",
       "      <th>6</th>\n",
       "      <td>SANTA MONICA BLVD STE S156</td>\n",
       "      <td>1</td>\n",
       "    </tr>\n",
       "    <tr>\n",
       "      <th>7</th>\n",
       "      <td>SANTA MONICA BLVD STE STE A</td>\n",
       "      <td>1</td>\n",
       "    </tr>\n",
       "    <tr>\n",
       "      <th>8</th>\n",
       "      <td>SANTA MONICA BLVD UNIT UNIT</td>\n",
       "      <td>1</td>\n",
       "    </tr>\n",
       "    <tr>\n",
       "      <th>9</th>\n",
       "      <td>SANTA ROSALIA DR</td>\n",
       "      <td>1</td>\n",
       "    </tr>\n",
       "  </tbody>\n",
       "</table>\n",
       "</div>"
      ],
      "text/plain": [
       "                       address  count\n",
       "0                   1/2 3RD ST      1\n",
       "1           SANTA ROSALIA DR F      1\n",
       "2      SANTA MONICA BLVD STE D      1\n",
       "3    SANTA MONICA BLVD STE FC3      1\n",
       "4    SANTA MONICA BLVD STE FC4      1\n",
       "5    SANTA MONICA BLVD STE FC5      1\n",
       "6   SANTA MONICA BLVD STE S156      1\n",
       "7  SANTA MONICA BLVD STE STE A      1\n",
       "8  SANTA MONICA BLVD UNIT UNIT      1\n",
       "9             SANTA ROSALIA DR      1"
      ]
     },
     "execution_count": 98,
     "metadata": {},
     "output_type": "execute_result"
    }
   ],
   "source": [
    "min_address = df_address.groupby('address').min().sort_values(by='count', ascending = False)[0:10].reset_index()\n",
    "min_address"
   ]
  },
  {
   "cell_type": "markdown",
   "id": "189c5468",
   "metadata": {},
   "source": [
    "Sebetulnya masih ada banyak lagi, akan tetapi ini 10 lokasi sample yang bisa kita ambil"
   ]
  },
  {
   "cell_type": "markdown",
   "id": "caf14359",
   "metadata": {},
   "source": [
    "Mencari Jumlah Kursi untuk TOP 10 nama Jalan "
   ]
  },
  {
   "cell_type": "code",
   "execution_count": 99,
   "id": "6423a4e2",
   "metadata": {
    "scrolled": true
   },
   "outputs": [],
   "source": [
    "rest_data['address_clean'] = df_address['address']"
   ]
  },
  {
   "cell_type": "code",
   "execution_count": 100,
   "id": "276bf198",
   "metadata": {
    "scrolled": true
   },
   "outputs": [],
   "source": [
    "top10_add_num = rest_data.groupby(['address_clean']).agg({'id': 'count', 'number': 'sum'}).sort_values(by='id', ascending = False)[0:10].reset_index()\n",
    "top10_add_num.columns = ['address', 'count', 'number']"
   ]
  },
  {
   "cell_type": "code",
   "execution_count": 101,
   "id": "bc99cd9d",
   "metadata": {
    "scrolled": false
   },
   "outputs": [
    {
     "data": {
      "application/vnd.plotly.v1+json": {
       "config": {
        "plotlyServerURL": "https://plot.ly"
       },
       "data": [
        {
         "alignmentgroup": "True",
         "hovertemplate": "address=%{x}<br>number=%{y}<extra></extra>",
         "legendgroup": "",
         "marker": {
          "color": "#636efa",
          "pattern": {
           "shape": ""
          }
         },
         "name": "",
         "offsetgroup": "",
         "orientation": "v",
         "showlegend": false,
         "textposition": "auto",
         "type": "bar",
         "x": [
          "W SUNSET BLVD",
          "W PICO BLVD",
          "HOLLYWOOD BLVD",
          "WILSHIRE BLVD",
          "S VERMONT AVE",
          "SANTA MONICA BLVD",
          "W 3RD ST",
          "BEVERLY BLVD",
          "S FIGUEROA ST",
          "S WESTERN AVE"
         ],
         "xaxis": "x",
         "y": [
          15072,
          11773,
          8973,
          10003,
          6790,
          4729,
          6370,
          6044,
          6802,
          5517
         ],
         "yaxis": "y"
        }
       ],
       "layout": {
        "barmode": "relative",
        "legend": {
         "tracegroupgap": 0
        },
        "template": {
         "data": {
          "bar": [
           {
            "error_x": {
             "color": "#2a3f5f"
            },
            "error_y": {
             "color": "#2a3f5f"
            },
            "marker": {
             "line": {
              "color": "#E5ECF6",
              "width": 0.5
             },
             "pattern": {
              "fillmode": "overlay",
              "size": 10,
              "solidity": 0.2
             }
            },
            "type": "bar"
           }
          ],
          "barpolar": [
           {
            "marker": {
             "line": {
              "color": "#E5ECF6",
              "width": 0.5
             },
             "pattern": {
              "fillmode": "overlay",
              "size": 10,
              "solidity": 0.2
             }
            },
            "type": "barpolar"
           }
          ],
          "carpet": [
           {
            "aaxis": {
             "endlinecolor": "#2a3f5f",
             "gridcolor": "white",
             "linecolor": "white",
             "minorgridcolor": "white",
             "startlinecolor": "#2a3f5f"
            },
            "baxis": {
             "endlinecolor": "#2a3f5f",
             "gridcolor": "white",
             "linecolor": "white",
             "minorgridcolor": "white",
             "startlinecolor": "#2a3f5f"
            },
            "type": "carpet"
           }
          ],
          "choropleth": [
           {
            "colorbar": {
             "outlinewidth": 0,
             "ticks": ""
            },
            "type": "choropleth"
           }
          ],
          "contour": [
           {
            "colorbar": {
             "outlinewidth": 0,
             "ticks": ""
            },
            "colorscale": [
             [
              0,
              "#0d0887"
             ],
             [
              0.1111111111111111,
              "#46039f"
             ],
             [
              0.2222222222222222,
              "#7201a8"
             ],
             [
              0.3333333333333333,
              "#9c179e"
             ],
             [
              0.4444444444444444,
              "#bd3786"
             ],
             [
              0.5555555555555556,
              "#d8576b"
             ],
             [
              0.6666666666666666,
              "#ed7953"
             ],
             [
              0.7777777777777778,
              "#fb9f3a"
             ],
             [
              0.8888888888888888,
              "#fdca26"
             ],
             [
              1,
              "#f0f921"
             ]
            ],
            "type": "contour"
           }
          ],
          "contourcarpet": [
           {
            "colorbar": {
             "outlinewidth": 0,
             "ticks": ""
            },
            "type": "contourcarpet"
           }
          ],
          "heatmap": [
           {
            "colorbar": {
             "outlinewidth": 0,
             "ticks": ""
            },
            "colorscale": [
             [
              0,
              "#0d0887"
             ],
             [
              0.1111111111111111,
              "#46039f"
             ],
             [
              0.2222222222222222,
              "#7201a8"
             ],
             [
              0.3333333333333333,
              "#9c179e"
             ],
             [
              0.4444444444444444,
              "#bd3786"
             ],
             [
              0.5555555555555556,
              "#d8576b"
             ],
             [
              0.6666666666666666,
              "#ed7953"
             ],
             [
              0.7777777777777778,
              "#fb9f3a"
             ],
             [
              0.8888888888888888,
              "#fdca26"
             ],
             [
              1,
              "#f0f921"
             ]
            ],
            "type": "heatmap"
           }
          ],
          "heatmapgl": [
           {
            "colorbar": {
             "outlinewidth": 0,
             "ticks": ""
            },
            "colorscale": [
             [
              0,
              "#0d0887"
             ],
             [
              0.1111111111111111,
              "#46039f"
             ],
             [
              0.2222222222222222,
              "#7201a8"
             ],
             [
              0.3333333333333333,
              "#9c179e"
             ],
             [
              0.4444444444444444,
              "#bd3786"
             ],
             [
              0.5555555555555556,
              "#d8576b"
             ],
             [
              0.6666666666666666,
              "#ed7953"
             ],
             [
              0.7777777777777778,
              "#fb9f3a"
             ],
             [
              0.8888888888888888,
              "#fdca26"
             ],
             [
              1,
              "#f0f921"
             ]
            ],
            "type": "heatmapgl"
           }
          ],
          "histogram": [
           {
            "marker": {
             "pattern": {
              "fillmode": "overlay",
              "size": 10,
              "solidity": 0.2
             }
            },
            "type": "histogram"
           }
          ],
          "histogram2d": [
           {
            "colorbar": {
             "outlinewidth": 0,
             "ticks": ""
            },
            "colorscale": [
             [
              0,
              "#0d0887"
             ],
             [
              0.1111111111111111,
              "#46039f"
             ],
             [
              0.2222222222222222,
              "#7201a8"
             ],
             [
              0.3333333333333333,
              "#9c179e"
             ],
             [
              0.4444444444444444,
              "#bd3786"
             ],
             [
              0.5555555555555556,
              "#d8576b"
             ],
             [
              0.6666666666666666,
              "#ed7953"
             ],
             [
              0.7777777777777778,
              "#fb9f3a"
             ],
             [
              0.8888888888888888,
              "#fdca26"
             ],
             [
              1,
              "#f0f921"
             ]
            ],
            "type": "histogram2d"
           }
          ],
          "histogram2dcontour": [
           {
            "colorbar": {
             "outlinewidth": 0,
             "ticks": ""
            },
            "colorscale": [
             [
              0,
              "#0d0887"
             ],
             [
              0.1111111111111111,
              "#46039f"
             ],
             [
              0.2222222222222222,
              "#7201a8"
             ],
             [
              0.3333333333333333,
              "#9c179e"
             ],
             [
              0.4444444444444444,
              "#bd3786"
             ],
             [
              0.5555555555555556,
              "#d8576b"
             ],
             [
              0.6666666666666666,
              "#ed7953"
             ],
             [
              0.7777777777777778,
              "#fb9f3a"
             ],
             [
              0.8888888888888888,
              "#fdca26"
             ],
             [
              1,
              "#f0f921"
             ]
            ],
            "type": "histogram2dcontour"
           }
          ],
          "mesh3d": [
           {
            "colorbar": {
             "outlinewidth": 0,
             "ticks": ""
            },
            "type": "mesh3d"
           }
          ],
          "parcoords": [
           {
            "line": {
             "colorbar": {
              "outlinewidth": 0,
              "ticks": ""
             }
            },
            "type": "parcoords"
           }
          ],
          "pie": [
           {
            "automargin": true,
            "type": "pie"
           }
          ],
          "scatter": [
           {
            "marker": {
             "colorbar": {
              "outlinewidth": 0,
              "ticks": ""
             }
            },
            "type": "scatter"
           }
          ],
          "scatter3d": [
           {
            "line": {
             "colorbar": {
              "outlinewidth": 0,
              "ticks": ""
             }
            },
            "marker": {
             "colorbar": {
              "outlinewidth": 0,
              "ticks": ""
             }
            },
            "type": "scatter3d"
           }
          ],
          "scattercarpet": [
           {
            "marker": {
             "colorbar": {
              "outlinewidth": 0,
              "ticks": ""
             }
            },
            "type": "scattercarpet"
           }
          ],
          "scattergeo": [
           {
            "marker": {
             "colorbar": {
              "outlinewidth": 0,
              "ticks": ""
             }
            },
            "type": "scattergeo"
           }
          ],
          "scattergl": [
           {
            "marker": {
             "colorbar": {
              "outlinewidth": 0,
              "ticks": ""
             }
            },
            "type": "scattergl"
           }
          ],
          "scattermapbox": [
           {
            "marker": {
             "colorbar": {
              "outlinewidth": 0,
              "ticks": ""
             }
            },
            "type": "scattermapbox"
           }
          ],
          "scatterpolar": [
           {
            "marker": {
             "colorbar": {
              "outlinewidth": 0,
              "ticks": ""
             }
            },
            "type": "scatterpolar"
           }
          ],
          "scatterpolargl": [
           {
            "marker": {
             "colorbar": {
              "outlinewidth": 0,
              "ticks": ""
             }
            },
            "type": "scatterpolargl"
           }
          ],
          "scatterternary": [
           {
            "marker": {
             "colorbar": {
              "outlinewidth": 0,
              "ticks": ""
             }
            },
            "type": "scatterternary"
           }
          ],
          "surface": [
           {
            "colorbar": {
             "outlinewidth": 0,
             "ticks": ""
            },
            "colorscale": [
             [
              0,
              "#0d0887"
             ],
             [
              0.1111111111111111,
              "#46039f"
             ],
             [
              0.2222222222222222,
              "#7201a8"
             ],
             [
              0.3333333333333333,
              "#9c179e"
             ],
             [
              0.4444444444444444,
              "#bd3786"
             ],
             [
              0.5555555555555556,
              "#d8576b"
             ],
             [
              0.6666666666666666,
              "#ed7953"
             ],
             [
              0.7777777777777778,
              "#fb9f3a"
             ],
             [
              0.8888888888888888,
              "#fdca26"
             ],
             [
              1,
              "#f0f921"
             ]
            ],
            "type": "surface"
           }
          ],
          "table": [
           {
            "cells": {
             "fill": {
              "color": "#EBF0F8"
             },
             "line": {
              "color": "white"
             }
            },
            "header": {
             "fill": {
              "color": "#C8D4E3"
             },
             "line": {
              "color": "white"
             }
            },
            "type": "table"
           }
          ]
         },
         "layout": {
          "annotationdefaults": {
           "arrowcolor": "#2a3f5f",
           "arrowhead": 0,
           "arrowwidth": 1
          },
          "autotypenumbers": "strict",
          "coloraxis": {
           "colorbar": {
            "outlinewidth": 0,
            "ticks": ""
           }
          },
          "colorscale": {
           "diverging": [
            [
             0,
             "#8e0152"
            ],
            [
             0.1,
             "#c51b7d"
            ],
            [
             0.2,
             "#de77ae"
            ],
            [
             0.3,
             "#f1b6da"
            ],
            [
             0.4,
             "#fde0ef"
            ],
            [
             0.5,
             "#f7f7f7"
            ],
            [
             0.6,
             "#e6f5d0"
            ],
            [
             0.7,
             "#b8e186"
            ],
            [
             0.8,
             "#7fbc41"
            ],
            [
             0.9,
             "#4d9221"
            ],
            [
             1,
             "#276419"
            ]
           ],
           "sequential": [
            [
             0,
             "#0d0887"
            ],
            [
             0.1111111111111111,
             "#46039f"
            ],
            [
             0.2222222222222222,
             "#7201a8"
            ],
            [
             0.3333333333333333,
             "#9c179e"
            ],
            [
             0.4444444444444444,
             "#bd3786"
            ],
            [
             0.5555555555555556,
             "#d8576b"
            ],
            [
             0.6666666666666666,
             "#ed7953"
            ],
            [
             0.7777777777777778,
             "#fb9f3a"
            ],
            [
             0.8888888888888888,
             "#fdca26"
            ],
            [
             1,
             "#f0f921"
            ]
           ],
           "sequentialminus": [
            [
             0,
             "#0d0887"
            ],
            [
             0.1111111111111111,
             "#46039f"
            ],
            [
             0.2222222222222222,
             "#7201a8"
            ],
            [
             0.3333333333333333,
             "#9c179e"
            ],
            [
             0.4444444444444444,
             "#bd3786"
            ],
            [
             0.5555555555555556,
             "#d8576b"
            ],
            [
             0.6666666666666666,
             "#ed7953"
            ],
            [
             0.7777777777777778,
             "#fb9f3a"
            ],
            [
             0.8888888888888888,
             "#fdca26"
            ],
            [
             1,
             "#f0f921"
            ]
           ]
          },
          "colorway": [
           "#636efa",
           "#EF553B",
           "#00cc96",
           "#ab63fa",
           "#FFA15A",
           "#19d3f3",
           "#FF6692",
           "#B6E880",
           "#FF97FF",
           "#FECB52"
          ],
          "font": {
           "color": "#2a3f5f"
          },
          "geo": {
           "bgcolor": "white",
           "lakecolor": "white",
           "landcolor": "#E5ECF6",
           "showlakes": true,
           "showland": true,
           "subunitcolor": "white"
          },
          "hoverlabel": {
           "align": "left"
          },
          "hovermode": "closest",
          "mapbox": {
           "style": "light"
          },
          "paper_bgcolor": "white",
          "plot_bgcolor": "#E5ECF6",
          "polar": {
           "angularaxis": {
            "gridcolor": "white",
            "linecolor": "white",
            "ticks": ""
           },
           "bgcolor": "#E5ECF6",
           "radialaxis": {
            "gridcolor": "white",
            "linecolor": "white",
            "ticks": ""
           }
          },
          "scene": {
           "xaxis": {
            "backgroundcolor": "#E5ECF6",
            "gridcolor": "white",
            "gridwidth": 2,
            "linecolor": "white",
            "showbackground": true,
            "ticks": "",
            "zerolinecolor": "white"
           },
           "yaxis": {
            "backgroundcolor": "#E5ECF6",
            "gridcolor": "white",
            "gridwidth": 2,
            "linecolor": "white",
            "showbackground": true,
            "ticks": "",
            "zerolinecolor": "white"
           },
           "zaxis": {
            "backgroundcolor": "#E5ECF6",
            "gridcolor": "white",
            "gridwidth": 2,
            "linecolor": "white",
            "showbackground": true,
            "ticks": "",
            "zerolinecolor": "white"
           }
          },
          "shapedefaults": {
           "line": {
            "color": "#2a3f5f"
           }
          },
          "ternary": {
           "aaxis": {
            "gridcolor": "white",
            "linecolor": "white",
            "ticks": ""
           },
           "baxis": {
            "gridcolor": "white",
            "linecolor": "white",
            "ticks": ""
           },
           "bgcolor": "#E5ECF6",
           "caxis": {
            "gridcolor": "white",
            "linecolor": "white",
            "ticks": ""
           }
          },
          "title": {
           "x": 0.05
          },
          "xaxis": {
           "automargin": true,
           "gridcolor": "white",
           "linecolor": "white",
           "ticks": "",
           "title": {
            "standoff": 15
           },
           "zerolinecolor": "white",
           "zerolinewidth": 2
          },
          "yaxis": {
           "automargin": true,
           "gridcolor": "white",
           "linecolor": "white",
           "ticks": "",
           "title": {
            "standoff": 15
           },
           "zerolinecolor": "white",
           "zerolinewidth": 2
          }
         }
        },
        "title": {
         "text": "Jumlah Kursi untuk TOP 10 Nama Jalan"
        },
        "xaxis": {
         "anchor": "y",
         "domain": [
          0,
          1
         ],
         "tickangle": 45,
         "title": {
          "text": "address"
         }
        },
        "yaxis": {
         "anchor": "x",
         "domain": [
          0,
          1
         ],
         "title": {
          "text": "number"
         }
        }
       }
      },
      "text/html": [
       "<div>                            <div id=\"266ac7b5-f1d0-44bb-990c-d4ed5d137534\" class=\"plotly-graph-div\" style=\"height:525px; width:100%;\"></div>            <script type=\"text/javascript\">                require([\"plotly\"], function(Plotly) {                    window.PLOTLYENV=window.PLOTLYENV || {};                                    if (document.getElementById(\"266ac7b5-f1d0-44bb-990c-d4ed5d137534\")) {                    Plotly.newPlot(                        \"266ac7b5-f1d0-44bb-990c-d4ed5d137534\",                        [{\"alignmentgroup\":\"True\",\"hovertemplate\":\"address=%{x}<br>number=%{y}<extra></extra>\",\"legendgroup\":\"\",\"marker\":{\"color\":\"#636efa\",\"pattern\":{\"shape\":\"\"}},\"name\":\"\",\"offsetgroup\":\"\",\"orientation\":\"v\",\"showlegend\":false,\"textposition\":\"auto\",\"x\":[\"W SUNSET BLVD\",\"W PICO BLVD\",\"HOLLYWOOD BLVD\",\"WILSHIRE BLVD\",\"S VERMONT AVE\",\"SANTA MONICA BLVD\",\"W 3RD ST\",\"BEVERLY BLVD\",\"S FIGUEROA ST\",\"S WESTERN AVE\"],\"xaxis\":\"x\",\"y\":[15072,11773,8973,10003,6790,4729,6370,6044,6802,5517],\"yaxis\":\"y\",\"type\":\"bar\"}],                        {\"template\":{\"data\":{\"bar\":[{\"error_x\":{\"color\":\"#2a3f5f\"},\"error_y\":{\"color\":\"#2a3f5f\"},\"marker\":{\"line\":{\"color\":\"#E5ECF6\",\"width\":0.5},\"pattern\":{\"fillmode\":\"overlay\",\"size\":10,\"solidity\":0.2}},\"type\":\"bar\"}],\"barpolar\":[{\"marker\":{\"line\":{\"color\":\"#E5ECF6\",\"width\":0.5},\"pattern\":{\"fillmode\":\"overlay\",\"size\":10,\"solidity\":0.2}},\"type\":\"barpolar\"}],\"carpet\":[{\"aaxis\":{\"endlinecolor\":\"#2a3f5f\",\"gridcolor\":\"white\",\"linecolor\":\"white\",\"minorgridcolor\":\"white\",\"startlinecolor\":\"#2a3f5f\"},\"baxis\":{\"endlinecolor\":\"#2a3f5f\",\"gridcolor\":\"white\",\"linecolor\":\"white\",\"minorgridcolor\":\"white\",\"startlinecolor\":\"#2a3f5f\"},\"type\":\"carpet\"}],\"choropleth\":[{\"colorbar\":{\"outlinewidth\":0,\"ticks\":\"\"},\"type\":\"choropleth\"}],\"contour\":[{\"colorbar\":{\"outlinewidth\":0,\"ticks\":\"\"},\"colorscale\":[[0.0,\"#0d0887\"],[0.1111111111111111,\"#46039f\"],[0.2222222222222222,\"#7201a8\"],[0.3333333333333333,\"#9c179e\"],[0.4444444444444444,\"#bd3786\"],[0.5555555555555556,\"#d8576b\"],[0.6666666666666666,\"#ed7953\"],[0.7777777777777778,\"#fb9f3a\"],[0.8888888888888888,\"#fdca26\"],[1.0,\"#f0f921\"]],\"type\":\"contour\"}],\"contourcarpet\":[{\"colorbar\":{\"outlinewidth\":0,\"ticks\":\"\"},\"type\":\"contourcarpet\"}],\"heatmap\":[{\"colorbar\":{\"outlinewidth\":0,\"ticks\":\"\"},\"colorscale\":[[0.0,\"#0d0887\"],[0.1111111111111111,\"#46039f\"],[0.2222222222222222,\"#7201a8\"],[0.3333333333333333,\"#9c179e\"],[0.4444444444444444,\"#bd3786\"],[0.5555555555555556,\"#d8576b\"],[0.6666666666666666,\"#ed7953\"],[0.7777777777777778,\"#fb9f3a\"],[0.8888888888888888,\"#fdca26\"],[1.0,\"#f0f921\"]],\"type\":\"heatmap\"}],\"heatmapgl\":[{\"colorbar\":{\"outlinewidth\":0,\"ticks\":\"\"},\"colorscale\":[[0.0,\"#0d0887\"],[0.1111111111111111,\"#46039f\"],[0.2222222222222222,\"#7201a8\"],[0.3333333333333333,\"#9c179e\"],[0.4444444444444444,\"#bd3786\"],[0.5555555555555556,\"#d8576b\"],[0.6666666666666666,\"#ed7953\"],[0.7777777777777778,\"#fb9f3a\"],[0.8888888888888888,\"#fdca26\"],[1.0,\"#f0f921\"]],\"type\":\"heatmapgl\"}],\"histogram\":[{\"marker\":{\"pattern\":{\"fillmode\":\"overlay\",\"size\":10,\"solidity\":0.2}},\"type\":\"histogram\"}],\"histogram2d\":[{\"colorbar\":{\"outlinewidth\":0,\"ticks\":\"\"},\"colorscale\":[[0.0,\"#0d0887\"],[0.1111111111111111,\"#46039f\"],[0.2222222222222222,\"#7201a8\"],[0.3333333333333333,\"#9c179e\"],[0.4444444444444444,\"#bd3786\"],[0.5555555555555556,\"#d8576b\"],[0.6666666666666666,\"#ed7953\"],[0.7777777777777778,\"#fb9f3a\"],[0.8888888888888888,\"#fdca26\"],[1.0,\"#f0f921\"]],\"type\":\"histogram2d\"}],\"histogram2dcontour\":[{\"colorbar\":{\"outlinewidth\":0,\"ticks\":\"\"},\"colorscale\":[[0.0,\"#0d0887\"],[0.1111111111111111,\"#46039f\"],[0.2222222222222222,\"#7201a8\"],[0.3333333333333333,\"#9c179e\"],[0.4444444444444444,\"#bd3786\"],[0.5555555555555556,\"#d8576b\"],[0.6666666666666666,\"#ed7953\"],[0.7777777777777778,\"#fb9f3a\"],[0.8888888888888888,\"#fdca26\"],[1.0,\"#f0f921\"]],\"type\":\"histogram2dcontour\"}],\"mesh3d\":[{\"colorbar\":{\"outlinewidth\":0,\"ticks\":\"\"},\"type\":\"mesh3d\"}],\"parcoords\":[{\"line\":{\"colorbar\":{\"outlinewidth\":0,\"ticks\":\"\"}},\"type\":\"parcoords\"}],\"pie\":[{\"automargin\":true,\"type\":\"pie\"}],\"scatter\":[{\"marker\":{\"colorbar\":{\"outlinewidth\":0,\"ticks\":\"\"}},\"type\":\"scatter\"}],\"scatter3d\":[{\"line\":{\"colorbar\":{\"outlinewidth\":0,\"ticks\":\"\"}},\"marker\":{\"colorbar\":{\"outlinewidth\":0,\"ticks\":\"\"}},\"type\":\"scatter3d\"}],\"scattercarpet\":[{\"marker\":{\"colorbar\":{\"outlinewidth\":0,\"ticks\":\"\"}},\"type\":\"scattercarpet\"}],\"scattergeo\":[{\"marker\":{\"colorbar\":{\"outlinewidth\":0,\"ticks\":\"\"}},\"type\":\"scattergeo\"}],\"scattergl\":[{\"marker\":{\"colorbar\":{\"outlinewidth\":0,\"ticks\":\"\"}},\"type\":\"scattergl\"}],\"scattermapbox\":[{\"marker\":{\"colorbar\":{\"outlinewidth\":0,\"ticks\":\"\"}},\"type\":\"scattermapbox\"}],\"scatterpolar\":[{\"marker\":{\"colorbar\":{\"outlinewidth\":0,\"ticks\":\"\"}},\"type\":\"scatterpolar\"}],\"scatterpolargl\":[{\"marker\":{\"colorbar\":{\"outlinewidth\":0,\"ticks\":\"\"}},\"type\":\"scatterpolargl\"}],\"scatterternary\":[{\"marker\":{\"colorbar\":{\"outlinewidth\":0,\"ticks\":\"\"}},\"type\":\"scatterternary\"}],\"surface\":[{\"colorbar\":{\"outlinewidth\":0,\"ticks\":\"\"},\"colorscale\":[[0.0,\"#0d0887\"],[0.1111111111111111,\"#46039f\"],[0.2222222222222222,\"#7201a8\"],[0.3333333333333333,\"#9c179e\"],[0.4444444444444444,\"#bd3786\"],[0.5555555555555556,\"#d8576b\"],[0.6666666666666666,\"#ed7953\"],[0.7777777777777778,\"#fb9f3a\"],[0.8888888888888888,\"#fdca26\"],[1.0,\"#f0f921\"]],\"type\":\"surface\"}],\"table\":[{\"cells\":{\"fill\":{\"color\":\"#EBF0F8\"},\"line\":{\"color\":\"white\"}},\"header\":{\"fill\":{\"color\":\"#C8D4E3\"},\"line\":{\"color\":\"white\"}},\"type\":\"table\"}]},\"layout\":{\"annotationdefaults\":{\"arrowcolor\":\"#2a3f5f\",\"arrowhead\":0,\"arrowwidth\":1},\"autotypenumbers\":\"strict\",\"coloraxis\":{\"colorbar\":{\"outlinewidth\":0,\"ticks\":\"\"}},\"colorscale\":{\"diverging\":[[0,\"#8e0152\"],[0.1,\"#c51b7d\"],[0.2,\"#de77ae\"],[0.3,\"#f1b6da\"],[0.4,\"#fde0ef\"],[0.5,\"#f7f7f7\"],[0.6,\"#e6f5d0\"],[0.7,\"#b8e186\"],[0.8,\"#7fbc41\"],[0.9,\"#4d9221\"],[1,\"#276419\"]],\"sequential\":[[0.0,\"#0d0887\"],[0.1111111111111111,\"#46039f\"],[0.2222222222222222,\"#7201a8\"],[0.3333333333333333,\"#9c179e\"],[0.4444444444444444,\"#bd3786\"],[0.5555555555555556,\"#d8576b\"],[0.6666666666666666,\"#ed7953\"],[0.7777777777777778,\"#fb9f3a\"],[0.8888888888888888,\"#fdca26\"],[1.0,\"#f0f921\"]],\"sequentialminus\":[[0.0,\"#0d0887\"],[0.1111111111111111,\"#46039f\"],[0.2222222222222222,\"#7201a8\"],[0.3333333333333333,\"#9c179e\"],[0.4444444444444444,\"#bd3786\"],[0.5555555555555556,\"#d8576b\"],[0.6666666666666666,\"#ed7953\"],[0.7777777777777778,\"#fb9f3a\"],[0.8888888888888888,\"#fdca26\"],[1.0,\"#f0f921\"]]},\"colorway\":[\"#636efa\",\"#EF553B\",\"#00cc96\",\"#ab63fa\",\"#FFA15A\",\"#19d3f3\",\"#FF6692\",\"#B6E880\",\"#FF97FF\",\"#FECB52\"],\"font\":{\"color\":\"#2a3f5f\"},\"geo\":{\"bgcolor\":\"white\",\"lakecolor\":\"white\",\"landcolor\":\"#E5ECF6\",\"showlakes\":true,\"showland\":true,\"subunitcolor\":\"white\"},\"hoverlabel\":{\"align\":\"left\"},\"hovermode\":\"closest\",\"mapbox\":{\"style\":\"light\"},\"paper_bgcolor\":\"white\",\"plot_bgcolor\":\"#E5ECF6\",\"polar\":{\"angularaxis\":{\"gridcolor\":\"white\",\"linecolor\":\"white\",\"ticks\":\"\"},\"bgcolor\":\"#E5ECF6\",\"radialaxis\":{\"gridcolor\":\"white\",\"linecolor\":\"white\",\"ticks\":\"\"}},\"scene\":{\"xaxis\":{\"backgroundcolor\":\"#E5ECF6\",\"gridcolor\":\"white\",\"gridwidth\":2,\"linecolor\":\"white\",\"showbackground\":true,\"ticks\":\"\",\"zerolinecolor\":\"white\"},\"yaxis\":{\"backgroundcolor\":\"#E5ECF6\",\"gridcolor\":\"white\",\"gridwidth\":2,\"linecolor\":\"white\",\"showbackground\":true,\"ticks\":\"\",\"zerolinecolor\":\"white\"},\"zaxis\":{\"backgroundcolor\":\"#E5ECF6\",\"gridcolor\":\"white\",\"gridwidth\":2,\"linecolor\":\"white\",\"showbackground\":true,\"ticks\":\"\",\"zerolinecolor\":\"white\"}},\"shapedefaults\":{\"line\":{\"color\":\"#2a3f5f\"}},\"ternary\":{\"aaxis\":{\"gridcolor\":\"white\",\"linecolor\":\"white\",\"ticks\":\"\"},\"baxis\":{\"gridcolor\":\"white\",\"linecolor\":\"white\",\"ticks\":\"\"},\"bgcolor\":\"#E5ECF6\",\"caxis\":{\"gridcolor\":\"white\",\"linecolor\":\"white\",\"ticks\":\"\"}},\"title\":{\"x\":0.05},\"xaxis\":{\"automargin\":true,\"gridcolor\":\"white\",\"linecolor\":\"white\",\"ticks\":\"\",\"title\":{\"standoff\":15},\"zerolinecolor\":\"white\",\"zerolinewidth\":2},\"yaxis\":{\"automargin\":true,\"gridcolor\":\"white\",\"linecolor\":\"white\",\"ticks\":\"\",\"title\":{\"standoff\":15},\"zerolinecolor\":\"white\",\"zerolinewidth\":2}}},\"xaxis\":{\"anchor\":\"y\",\"domain\":[0.0,1.0],\"title\":{\"text\":\"address\"},\"tickangle\":45},\"yaxis\":{\"anchor\":\"x\",\"domain\":[0.0,1.0],\"title\":{\"text\":\"number\"}},\"legend\":{\"tracegroupgap\":0},\"title\":{\"text\":\"Jumlah Kursi untuk TOP 10 Nama Jalan\"},\"barmode\":\"relative\"},                        {\"responsive\": true}                    ).then(function(){\n",
       "                            \n",
       "var gd = document.getElementById('266ac7b5-f1d0-44bb-990c-d4ed5d137534');\n",
       "var x = new MutationObserver(function (mutations, observer) {{\n",
       "        var display = window.getComputedStyle(gd).display;\n",
       "        if (!display || display === 'none') {{\n",
       "            console.log([gd, 'removed!']);\n",
       "            Plotly.purge(gd);\n",
       "            observer.disconnect();\n",
       "        }}\n",
       "}});\n",
       "\n",
       "// Listen for the removal of the full notebook cells\n",
       "var notebookContainer = gd.closest('#notebook-container');\n",
       "if (notebookContainer) {{\n",
       "    x.observe(notebookContainer, {childList: true});\n",
       "}}\n",
       "\n",
       "// Listen for the clearing of the current output cell\n",
       "var outputEl = gd.closest('.output');\n",
       "if (outputEl) {{\n",
       "    x.observe(outputEl, {childList: true});\n",
       "}}\n",
       "\n",
       "                        })                };                });            </script>        </div>"
      ]
     },
     "metadata": {},
     "output_type": "display_data"
    }
   ],
   "source": [
    "fig = px.bar(top10_add_num, x='address', y='number', title='Jumlah Kursi untuk TOP 10 Nama Jalan')\n",
    "fig.update_xaxes(tickangle=45)\n",
    "fig.show()"
   ]
  },
  {
   "cell_type": "markdown",
   "id": "ba26102e",
   "metadata": {},
   "source": [
    "Jumlah Kursi untuk TOP 10 Nama Jalan:\n",
    "1. Seperti halnya jumlah outlet yang ada, ternyata nama jalan \"W SUNSET BLVD\" dan \"W PICO BLVD\" juga memiliki jumlah kursi paling banyak\n",
    "2. Akan tetapi untuk nilai yang paling sedikit yaitu nama jalan \"SANTA MONICA BLVD\", walaupun sebenarnya outletnya cukup banyak untuk peringkat ke-6\n",
    "3. Pada grafik bisa kita lihat rata-rata jumlah kursi di kisaran 6000 - 8000 dengan perbandingan yang tidak terlalu signifikan"
   ]
  },
  {
   "cell_type": "markdown",
   "id": "06e02f00",
   "metadata": {},
   "source": [
    "Sekarang kita akan lihat persebarannya untuk jumlah kursi yang dimiliki oleh nama jalan teratas (W SUNSET BLVD)"
   ]
  },
  {
   "cell_type": "code",
   "execution_count": 102,
   "id": "d0889cbb",
   "metadata": {},
   "outputs": [],
   "source": [
    "top1 = rest_data.loc[rest_data['address_clean']=='W SUNSET BLVD']"
   ]
  },
  {
   "cell_type": "code",
   "execution_count": 103,
   "id": "daddd19a",
   "metadata": {
    "scrolled": false
   },
   "outputs": [
    {
     "data": {
      "image/png": "[encoded data removed]",
      "text/plain": [
       "<Figure size 720x432 with 1 Axes>"
      ]
     },
     "metadata": {
      "needs_background": "light"
     },
     "output_type": "display_data"
    }
   ],
   "source": [
    "plt.figure(figsize=(10, 6))\n",
    "plt.title('Distribusi Jumlah Kursi pada Jalan \"W SUNSET BLVD\"')\n",
    "sns.histplot(data=top1['number'], binwidth=10)\n",
    "plt.show()"
   ]
  },
  {
   "cell_type": "markdown",
   "id": "67c51732",
   "metadata": {},
   "source": [
    "Distribusi Jumlah Kursi pada Jalan \"W SUNSET BLVD\":\n",
    "1. Di beberapa titik lokasi jumlah kursi yang dimiliki \"W SUNSET BLVD\" paling banyak di 1 - 50 kursi dengan jumlah 40 ke atas.\n",
    "2. Sedangkan untuk jumlah kursi 60 - 200 ke atas lebih condong stabil di angka 1 - 10 kursi.\n",
    "3. Sepertinya di daerah ini memiliki banyak usaha waralaba dengan melihat jumlah usahanya pada kursi ke 1 - 50."
   ]
  },
  {
   "cell_type": "markdown",
   "id": "39e2c09c",
   "metadata": {},
   "source": [
    "## Kesimpulan Umum"
   ]
  },
  {
   "cell_type": "markdown",
   "id": "018d5bef",
   "metadata": {},
   "source": [
    "Diawali dengan import library pandas, seaborn, matplotlib, dan plotly. Lalu memperbaiki tipe datanya untuk kolom chain, dan mengeliminasi nilai missing yang berjumlahkan 3 dengan dropna. data pun siap di analisis.\n",
    "\n",
    "Mempelajari data:\n",
    "- Proporsi Jenis Usaha:\n",
    "    1. Restaurant yang memiliki nilai paling tinggi dengan 75%, lalu diikuti dengan Fast food (11%).\n",
    "    2. Tempat makan jauh lebih banyak daripada toko roti, apakah orang US tidak suka ke toko roti? mungkin lebih kepada habitnya orang untuk makan sehari-hari cenderung ke restaurant daripada bakery.\n",
    "- Proporsi usaha waralaba dan nonwaralaba:\n",
    "    1. Usaha Non-waralaba jauh lebih dominan dengan presentase 61,9% di US.\n",
    "- Jenis usaha basis waralaba:\n",
    "    1. Bakery merupakan usaha yang memang berbasis waralaba dengan rasio 100%.\n",
    "    2. Berdasarkan hasil rasio waralaba kita jadi tahu restaurant yang sebelumnya memimpin untuk jumlah usaha terbanyak ternyata tidak lebih tinggi dari bakery.\n",
    "- Ciri-ciri pada usaha berbasis waralaba:\n",
    "    1. Jumlah tempatnya banyak dengan jumlah kursi yang lebih sedikit.\n",
    "    2. Persebaran data paling banyak pada angka 0 - 50, menandakan tipikal usaha waralaba lebih banyak tempat usahanya pada jumlah kursi yang sedikit, daripada jumlah waralaba sedikit dengan jumlah kursi yang banyak.\n",
    "- Jumlah Rata-rata Kursi untuk Jenis Usaha:\n",
    "    1. Pemilik kursi terbanyak ada Restaurant dengan jumlah 48 kursi.\n",
    "    2. Nilainya tidak terpaut jauh dari yang lain.\n",
    "    \n",
    "Analisis data:\n",
    "- 10 Nama Jalan Teratas berdasarkan Jumlah Usaha:\n",
    "    1. Peringkat pertama ada nama jalan \"W SUNSET BLVD\" dengan jumlah total outlet 296, lalu ada \"W SUNSET BLVD\" (288).\n",
    "    2. Baik nama jalan \"W SUNSET BLVD\" dan \"W SUNSET BLVD\" memiliki jumlah outlet yang terpaut jauh dengan yang lain, ini mengindikasikan lokasi tersebut besar kemungkinan daerah kota yang padat penduduk.\n",
    "- Jumlah Kursi untuk TOP 10 Nama Jalan:\n",
    "    1. Seperti halnya jumlah outlet yang ada, ternyata nama jalan \"W SUNSET BLVD\" dan \"W PICO BLVD\" juga memiliki jumlah kursi paling banyak.\n",
    "    2. Akan tetapi untuk nilai yang paling sedikit yaitu nama jalan \"SANTA MONICA BLVD\", walaupun sebenarnya outletnya cukup banyak untuk peringkat ke-6.\n",
    "    3. Pada grafik bisa kita lihat rata-rata jumlah kursi di kisaran 6000 - 8000 dengan perbandingan yang tidak terlalu signifikan.\n",
    "- Distribusi Jumlah Kursi pada Jalan \"W SUNSET BLVD\":\n",
    "    1. Di beberapa titik lokasi jumlah kursi yang dimiliki \"W SUNSET BLVD\" paling banyak di 1 - 50 kursi dengan jumlah 40 ke atas.\n",
    "    2. Sedangkan untuk jumlah kursi 60 - 200 ke atas lebih condong stabil di angka 1 - 10 kursi.\n",
    "    3. Sepertinya di daerah ini memiliki banyak usaha waralaba dengan melihat jumlah usahanya pada jumlah kursi ke 1 - 50.\n",
    "    \n",
    "Kesimpulan umum yang dapat ditarik adalah \"W SUNSET BLVD\" dan \"W PICO BLVD\" yang merupakan nama jalan dengan jumlah usahanya paling banyak baik dari basis waralaba maupun nonwaralaba yang mengindikasikan juga di daerah tersebut mayoritas penduduknya paling banyak sehingga peluang bisnis akan jauh lebih tinggi. Walaupun proporsi jenis usaha yang paling di gemari yaitu jenis usaha Restaurant, tidak menutup kemungkinan cafe juga dapat bersaing di daerah tersebut berdasarkan jumlah kursi yang dimiliki pada lokasi tersebut. Bisa kita asumsikan seseorang setelah makan pasti akan mencari minum, sehingga cafe adalah salah satu alternatif yang bisa kita tawarkan."
   ]
  }
 ],
 "metadata": {
  "kernelspec": {
   "display_name": "Python 3 (ipykernel)",
   "language": "python",
   "name": "python3"
  },
  "language_info": {
   "codemirror_mode": {
    "name": "ipython",
    "version": 3
   },
   "file_extension": ".py",
   "mimetype": "text/x-python",
   "name": "python",
   "nbconvert_exporter": "python",
   "pygments_lexer": "ipython3",
   "version": "3.11.4"
  },
  "toc": {
   "base_numbering": 1,
   "nav_menu": {},
   "number_sections": true,
   "sideBar": true,
   "skip_h1_title": true,
   "title_cell": "Table of Contents",
   "title_sidebar": "Contents",
   "toc_cell": false,
   "toc_position": {
    "height": "calc(100% - 180px)",
    "left": "10px",
    "top": "150px",
    "width": "277.6px"
   },
   "toc_section_display": true,
   "toc_window_display": true
  }
 },
 "nbformat": 4,
 "nbformat_minor": 5
}
